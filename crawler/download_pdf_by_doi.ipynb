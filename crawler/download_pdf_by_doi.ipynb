{
 "cells": [
  {
   "cell_type": "code",
   "execution_count": 8,
   "metadata": {},
   "outputs": [
    {
     "name": "stdout",
     "output_type": "stream",
     "text": [
      "11877 11877\n"
     ]
    }
   ],
   "source": [
    "import os\n",
    "import json\n",
    "from tqdm import tqdm\n",
    "import requests\n",
    "import urllib.parse\n",
    "import concurrent.futures\n",
    "from multiprocessing import Pool\n",
    "from bs4 import BeautifulSoup\n",
    "\n",
    "from containers import Paper\n",
    "\n",
    "# ============ BASE_URL OF SCI-HUB ============\n",
    "BASE_URL = \"https://sci-hub.se/\"\n",
    "# =============================================\n",
    "\n",
    "def get_pdf_url_from_doi(paper) :\n",
    "    url = BASE_URL + paper.DOI\n",
    "    try :\n",
    "        response = requests.get(url)\n",
    "    except Exception as e :\n",
    "        print(e)\n",
    "        return\n",
    "    soup = BeautifulSoup(response.text, 'html.parser')\n",
    "    embed_pdf_list = soup.find_all(\"embed\", type=\"application/pdf\")\n",
    "    if len(embed_pdf_list) != 1 :\n",
    "        print(\"pdf number : \", len(embed_pdf_list))\n",
    "    for embed_pdf in embed_pdf_list :\n",
    "        pdf_url = \"http:\" + embed_pdf[\"src\"]\n",
    "        paper.url = pdf_url\n",
    "\n",
    "def download_pdf(url, filename):\n",
    "        try :\n",
    "            response = requests.get(url)\n",
    "            if response.status_code == 200:\n",
    "                with open(filename, 'wb') as f:\n",
    "                    f.write(response.content)\n",
    "            else:\n",
    "                print(f\"Failed to download file: status code {response.status_code}\")\n",
    "        except Exception as e :\n",
    "            print(f\"Failed to download file: {e}\")\n",
    "            try :\n",
    "                os.remove(filename)\n",
    "            except Exception as e :\n",
    "                print(f\"Failed to remove file: {e}\")\n",
    "\n",
    "PROCESSED_PAPER_FILE_PATH = \"./processed_paper_dict.json\"\n",
    "if os.path.exists(PROCESSED_PAPER_FILE_PATH) :\n",
    "    with open(PROCESSED_PAPER_FILE_PATH, \"r\") as f :\n",
    "        processed_paper_dict = json.load(f)\n",
    "for k, v in processed_paper_dict.items() :\n",
    "    processed_paper_dict[k] = Paper(**v)\n",
    "\n",
    "unique_processed_paper_dict = {}\n",
    "for k in list(set(processed_paper_dict.keys())) :\n",
    "    if processed_paper_dict[k].DOI :\n",
    "        unique_processed_paper_dict[k] = processed_paper_dict[k]\n",
    "\n",
    "print(len(unique_processed_paper_dict), len(processed_paper_dict))"
   ]
  },
  {
   "cell_type": "code",
   "execution_count": 3,
   "metadata": {},
   "outputs": [
    {
     "name": "stderr",
     "output_type": "stream",
     "text": [
      "  0%|          | 0/11877 [00:00<?, ?it/s]"
     ]
    },
    {
     "name": "stdout",
     "output_type": "stream",
     "text": [
      "pdf number :  0\n",
      "pdf number :  0\n"
     ]
    },
    {
     "name": "stderr",
     "output_type": "stream",
     "text": [
      "  0%|          | 1/11877 [00:02<7:46:47,  2.36s/it]"
     ]
    },
    {
     "name": "stdout",
     "output_type": "stream",
     "text": [
      "pdf number :  0\n",
      "pdf number :  0\n",
      "pdf number :  0\n"
     ]
    },
    {
     "name": "stderr",
     "output_type": "stream",
     "text": [
      "  0%|          | 44/11877 [00:03<10:38, 18.53it/s] "
     ]
    },
    {
     "name": "stdout",
     "output_type": "stream",
     "text": [
      "pdf number :  0\n",
      "pdf number :  0\n",
      "pdf number :  0\n",
      "pdf number :  0\n",
      "pdf number :  0\n"
     ]
    },
    {
     "name": "stderr",
     "output_type": "stream",
     "text": [
      "  1%|          | 66/11877 [00:03<07:00, 28.09it/s]"
     ]
    },
    {
     "name": "stdout",
     "output_type": "stream",
     "text": [
      "pdf number :  0\n",
      "pdf number :  0\n",
      "pdf number :  0\n",
      "pdf number :  0\n",
      "pdf number :  0\n",
      "pdf number :  0\n",
      "pdf number :  0\n",
      "pdf number :  0\n",
      "pdf number :  0\n",
      "pdf number :  0\n",
      "pdf number :  0\n",
      "pdf number :  0\n",
      "pdf number :  0\n"
     ]
    },
    {
     "name": "stderr",
     "output_type": "stream",
     "text": [
      "  1%|          | 73/11877 [00:09<33:36,  5.85it/s]"
     ]
    },
    {
     "name": "stdout",
     "output_type": "stream",
     "text": [
      "pdf number :  0\n",
      "pdf number :  0\n",
      "pdf number :  0\n",
      "pdf number :  0\n",
      "pdf number :  0\n",
      "pdf number :  0\n",
      "pdf number :  0\n",
      "pdf number :  0\n",
      "pdf number :  0\n",
      "pdf number :  0\n",
      "pdf number :  0\n",
      "pdf number :  0\n",
      "pdf number :  0\n",
      "pdf number :  0\n",
      "pdf number :  0\n",
      "pdf number :  0\n",
      "pdf number :  0\n",
      "pdf number :  0\n",
      "pdf number :  0\n",
      "pdf number :  0\n",
      "pdf number :  0\n",
      "pdf number :  0\n",
      "pdf number :  0\n",
      "pdf number :  0\n",
      "pdf number :  0\n",
      "pdf number :  0\n"
     ]
    },
    {
     "name": "stderr",
     "output_type": "stream",
     "text": [
      "  1%|          | 73/11877 [00:19<33:36,  5.85it/s]"
     ]
    },
    {
     "name": "stdout",
     "output_type": "stream",
     "text": [
      "pdf number :  0\n",
      "pdf number :  0\n",
      "pdf number :  0\n",
      "pdf number :  0\n"
     ]
    },
    {
     "name": "stderr",
     "output_type": "stream",
     "text": [
      "  1%|          | 98/11877 [00:22<1:04:21,  3.05it/s]"
     ]
    },
    {
     "name": "stdout",
     "output_type": "stream",
     "text": [
      "pdf number :  0\n",
      "pdf number :  0\n",
      "pdf number :  0\n",
      "pdf number :  0\n",
      "pdf number :  0\n",
      "pdf number :  0\n",
      "pdf number :  0\n",
      "pdf number :  0\n",
      "pdf number :  0\n",
      "pdf number :  0\n",
      "pdf number :  0\n",
      "pdf number :  0\n",
      "pdf number :  0\n",
      "pdf number :  0\n",
      "pdf number :  0\n",
      "pdf number :  0\n",
      "pdf number :  0\n",
      "pdf number :  0\n",
      "pdf number :  0\n",
      "pdf number :  0\n",
      "pdf number :  0\n",
      "pdf number :  0\n",
      "pdf number :  0\n",
      "pdf number :  0\n",
      "pdf number :  0\n",
      "pdf number :  0\n",
      "pdf number :  0\n",
      "pdf number :  0\n",
      "pdf number :  0\n",
      "pdf number :  0\n",
      "pdf number :  0\n",
      "pdf number :  0\n",
      "pdf number :  0\n",
      "pdf number :  0\n",
      "pdf number :  0\n",
      "pdf number :  0\n",
      "pdf number :  0\n",
      "pdf number :  0\n",
      "pdf number :  0\n",
      "pdf number :  0\n",
      "pdf number :  0\n",
      "pdf number :  0\n",
      "pdf number :  0\n",
      "pdf number :  0\n",
      "pdf number :  0\n",
      "pdf number :  0\n",
      "pdf number :  0\n",
      "pdf number :  0\n",
      "pdf number :  0\n",
      "pdf number :  0\n",
      "pdf number :  0\n",
      "pdf number :  0\n",
      "pdf number :  0\n",
      "pdf number :  0\n",
      "pdf number :  0\n",
      "pdf number :  0\n",
      "pdf number :  0\n",
      "pdf number :  0\n",
      "pdf number :  0\n",
      "pdf number :  0\n",
      "pdf number :  0\n",
      "pdf number :  0\n",
      "pdf number :  0\n",
      "pdf number :  0\n",
      "pdf number :  0\n",
      "pdf number :  0\n",
      "pdf number :  0\n",
      "pdf number :  0\n",
      "pdf number :  0\n",
      "pdf number :  0\n",
      "pdf number :  0\n",
      "pdf number :  0\n",
      "pdf number :  0\n",
      "pdf number :  0\n",
      "pdf number :  0\n",
      "pdf number :  0\n",
      "pdf number :  0\n",
      "pdf number :  0\n",
      "pdf number :  0\n",
      "pdf number :  0\n",
      "pdf number :  0\n",
      "pdf number :  0\n",
      "pdf number :  0\n",
      "pdf number :  0\n",
      "pdf number :  0\n",
      "pdf number :  0\n",
      "pdf number :  0\n",
      "pdf number :  0\n",
      "pdf number :  0\n",
      "pdf number :  0\n",
      "pdf number :  0\n",
      "pdf number :  0\n",
      "pdf number :  0\n",
      "pdf number :  0\n",
      "pdf number :  0\n",
      "pdf number :  0\n",
      "pdf number :  0\n",
      "pdf number :  0\n",
      "pdf number :  0\n",
      "pdf number :  0\n",
      "pdf number :  0\n",
      "pdf number :  0\n",
      "pdf number :  0\n",
      "pdf number :  0\n",
      "pdf number :  0\n",
      "pdf number :  0\n",
      "pdf number :  0\n",
      "pdf number :  0\n",
      "pdf number :  0\n",
      "pdf number :  0\n",
      "pdf number :  0\n",
      "pdf number :  0\n",
      "pdf number :  0\n",
      "pdf number :  0\n",
      "pdf number :  0\n",
      "pdf number :  0\n",
      "pdf number :  0\n",
      "pdf number :  0\n",
      "pdf number :  0\n",
      "pdf number :  0\n",
      "pdf number :  0\n",
      "pdf number :  0\n",
      "pdf number :  0\n",
      "pdf number :  0\n",
      "pdf number :  0\n",
      "pdf number :  0\n",
      "pdf number :  0\n",
      "pdf number :  0\n",
      "pdf number :  0\n",
      "pdf number :  0\n",
      "pdf number :  0\n",
      "pdf number :  0\n",
      "pdf number :  0\n",
      "pdf number :  0\n",
      "pdf number :  0\n",
      "pdf number :  0\n",
      "pdf number :  0\n",
      "pdf number :  0\n"
     ]
    },
    {
     "name": "stderr",
     "output_type": "stream",
     "text": [
      "  1%|          | 100/11877 [01:17<5:24:59,  1.66s/it]"
     ]
    },
    {
     "name": "stdout",
     "output_type": "stream",
     "text": [
      "pdf number :  0\n",
      "HTTPSConnectionPool(host='sci-hub.se', port=443): Max retries exceeded with url: /10.1111/1467-8659.1330271 (Caused by ConnectTimeoutError(<urllib3.connection.HTTPSConnection object at 0x2bb924460>, 'Connection to sci-hub.se timed out. (connect timeout=None)'))\n",
      "HTTPSConnectionPool(host='sci-hub.se', port=443): Max retries exceeded with url: /10.1103/physrevd.94.103511 (Caused by ConnectTimeoutError(<urllib3.connection.HTTPSConnection object at 0x2bb9249d0>, 'Connection to sci-hub.se timed out. (connect timeout=None)'))\n",
      "pdf number :  0\n"
     ]
    },
    {
     "name": "stderr",
     "output_type": "stream",
     "text": [
      "  2%|▏         | 272/11877 [01:18<46:34,  4.15it/s]  "
     ]
    },
    {
     "name": "stdout",
     "output_type": "stream",
     "text": [
      "pdf number :  0\n",
      "pdf number :  0\n",
      "pdf number :  0\n",
      "pdf number :  0\n",
      "pdf number :  0\n",
      "pdf number :  0\n",
      "pdf number :  0\n",
      "pdf number :  0\n",
      "pdf number :  0\n",
      "pdf number :  0\n",
      "pdf number :  0\n",
      "pdf number :  0\n",
      "pdf number :  0\n",
      "pdf number :  0\n",
      "pdf number :  0\n",
      "pdf number :  0\n",
      "pdf number :  0\n",
      "pdf number :  0\n",
      "pdf number :  0\n",
      "pdf number :  0\n",
      "pdf number :  0\n",
      "pdf number :  0\n",
      "pdf number :  0\n",
      "pdf number :  0\n",
      "pdf number :  0\n",
      "pdf number :  0\n",
      "pdf number :  0\n",
      "pdf number :  0\n"
     ]
    },
    {
     "name": "stderr",
     "output_type": "stream",
     "text": [
      "  2%|▏         | 272/11877 [01:30<46:34,  4.15it/s]"
     ]
    },
    {
     "name": "stdout",
     "output_type": "stream",
     "text": [
      "pdf number :  0\n",
      "pdf number :  0\n",
      "pdf number :  0\n",
      "pdf number :  0\n",
      "pdf number :  0\n",
      "pdf number :  0\n",
      "pdf number :  0\n",
      "pdf number :  0\n",
      "pdf number :  0\n",
      "pdf number :  0\n",
      "pdf number :  0\n",
      "pdf number :  0\n"
     ]
    },
    {
     "name": "stderr",
     "output_type": "stream",
     "text": [
      " 10%|█         | 1203/11877 [01:33<08:02, 22.11it/s]"
     ]
    },
    {
     "name": "stdout",
     "output_type": "stream",
     "text": [
      "pdf number :  0\n",
      "pdf number :  0\n",
      "pdf number :  0\n",
      "pdf number :  0\n",
      "pdf number :  0\n",
      "pdf number :  0\n",
      "pdf number :  0\n",
      "pdf number :  0\n",
      "pdf number :  0\n",
      "pdf number :  0\n",
      "pdf number :  0\n",
      "pdf number :  0\n",
      "pdf number :  0\n",
      "pdf number :  0\n",
      "pdf number :  0\n",
      "pdf number :  0\n",
      "pdf number :  0\n",
      "pdf number :  0\n",
      "pdf number :  0\n",
      "pdf number :  0\n",
      "pdf number :  0\n",
      "pdf number :  0\n",
      "pdf number :  0\n",
      "pdf number :  0\n",
      "pdf number :  0\n",
      "pdf number :  0\n",
      "pdf number :  0\n",
      "pdf number :  0\n",
      "pdf number :  0\n",
      "pdf number :  0\n",
      "pdf number :  0\n",
      "pdf number :  0\n",
      "pdf number :  0\n",
      "pdf number :  0\n",
      "pdf number :  0\n",
      "pdf number :  0\n",
      "pdf number :  0\n",
      "pdf number :  0\n",
      "HTTPSConnectionPool(host='sci-hub.se', port=443): Max retries exceeded with url: /10.1145/3550454.3555436 (Caused by NewConnectionError('<urllib3.connection.HTTPSConnection object at 0x2aa53abf0>: Failed to establish a new connection: [Errno 8] nodename nor servname provided, or not known'))\n"
     ]
    },
    {
     "name": "stderr",
     "output_type": "stream",
     "text": [
      " 10%|█         | 1203/11877 [01:50<08:02, 22.11it/s]"
     ]
    },
    {
     "name": "stdout",
     "output_type": "stream",
     "text": [
      "pdf number :  0\n",
      "pdf number :  0\n",
      "pdf number :  0\n",
      "pdf number :  0\n",
      "pdf number :  0\n",
      "pdf number :  0\n",
      "pdf number :  0\n",
      "pdf number :  0\n",
      "pdf number :  0\n",
      "pdf number :  0\n",
      "pdf number :  0\n",
      "pdf number :  0\n",
      "pdf number :  0\n",
      "pdf number :  0\n",
      "pdf number :  0\n",
      "pdf number :  0\n",
      "pdf number :  0\n",
      "pdf number :  0\n",
      "pdf number :  0\n",
      "pdf number :  0\n",
      "pdf number :  0\n",
      "pdf number :  0\n",
      "pdf number :  0\n",
      "pdf number :  0\n",
      "pdf number :  0\n",
      "pdf number :  0\n",
      "pdf number :  0\n",
      "pdf number :  0\n",
      "pdf number :  0\n",
      "pdf number :  0\n",
      "pdf number :  0\n",
      "pdf number :  0\n",
      "pdf number :  0\n",
      "pdf number :  0\n",
      "pdf number :  0\n",
      "pdf number :  0\n",
      "pdf number :  0\n",
      "pdf number :  0\n",
      "pdf number :  0\n",
      "pdf number :  0\n",
      "pdf number :  0\n",
      "pdf number :  0\n",
      "pdf number :  0\n",
      "pdf number :  0\n",
      "pdf number :  0\n",
      "pdf number :  0\n",
      "pdf number :  0\n",
      "pdf number :  0\n",
      "pdf number :  0\n",
      "pdf number :  0\n",
      "pdf number :  0\n",
      "pdf number :  0\n",
      "pdf number :  0\n",
      "pdf number :  0\n",
      "pdf number :  0\n",
      "pdf number :  0\n",
      "pdf number :  0\n",
      "pdf number :  0\n",
      "pdf number :  0\n",
      "pdf number :  0\n",
      "pdf number :  0\n",
      "pdf number :  0\n",
      "pdf number :  0\n",
      "pdf number :  0\n",
      "pdf number :  0\n",
      "pdf number :  0\n",
      "pdf number :  0\n",
      "pdf number :  0\n",
      "pdf number :  0\n",
      "pdf number :  0\n",
      "pdf number :  0\n",
      "pdf number :  0\n",
      "pdf number :  0\n",
      "pdf number :  0\n",
      "pdf number :  0\n",
      "pdf number :  0\n",
      "pdf number :  0\n"
     ]
    },
    {
     "name": "stderr",
     "output_type": "stream",
     "text": [
      " 11%|█         | 1332/11877 [02:18<15:52, 11.07it/s]"
     ]
    },
    {
     "name": "stdout",
     "output_type": "stream",
     "text": [
      "HTTPSConnectionPool(host='sci-hub.se', port=443): Max retries exceeded with url: /10.1109/tcsvt.2019.2947482 (Caused by ConnectTimeoutError(<urllib3.connection.HTTPSConnection object at 0x2aa63f940>, 'Connection to sci-hub.se timed out. (connect timeout=None)'))\n",
      "pdf number :  0\n",
      "pdf number :  0\n",
      "pdf number :  0\n",
      "pdf number :  0\n",
      "pdf number :  0\n",
      "pdf number :  0\n",
      "pdf number :  0\n",
      "pdf number :  0\n",
      "pdf number :  0\n",
      "pdf number :  0\n",
      "pdf number :  0\n",
      "pdf number :  0\n",
      "pdf number :  0\n",
      "pdf number :  0\n",
      "pdf number :  0\n",
      "pdf number :  0\n",
      "pdf number :  0\n",
      "pdf number :  0\n",
      "pdf number :  0\n",
      "pdf number :  0\n",
      "pdf number :  0\n",
      "pdf number :  0\n",
      "pdf number :  0\n",
      "pdf number :  0\n",
      "pdf number :  0\n",
      "pdf number :  0\n",
      "pdf number :  0\n",
      "pdf number :  0\n",
      "pdf number :  0\n",
      "pdf number :  0\n",
      "pdf number :  0\n",
      "pdf number :  0\n",
      "pdf number :  0\n",
      "pdf number :  0\n",
      "pdf number :  0\n",
      "pdf number :  0\n",
      "pdf number :  0\n",
      "pdf number :  0\n",
      "pdf number :  0\n",
      "pdf number :  0\n",
      "pdf number :  0\n",
      "pdf number :  0\n",
      "pdf number :  0\n",
      "pdf number :  0\n",
      "pdf number :  0\n",
      "pdf number :  0\n",
      "pdf number :  0\n",
      "pdf number :  0\n",
      "pdf number :  0\n",
      "pdf number :  0\n",
      "pdf number :  0\n"
     ]
    },
    {
     "name": "stderr",
     "output_type": "stream",
     "text": [
      " 15%|█▍        | 1758/11877 [02:40<12:29, 13.50it/s]"
     ]
    },
    {
     "name": "stdout",
     "output_type": "stream",
     "text": [
      "HTTPSConnectionPool(host='sci-hub.se', port=443): Max retries exceeded with url: /10.1109/34.56205 (Caused by ConnectTimeoutError(<urllib3.connection.HTTPSConnection object at 0x2bb995a20>, 'Connection to sci-hub.se timed out. (connect timeout=None)'))\n",
      "pdf number :  0\n",
      "pdf number :  0\n",
      "pdf number :  0\n",
      "pdf number :  0\n",
      "pdf number :  0\n",
      "pdf number :  0\n",
      "pdf number :  0\n",
      "pdf number :  0\n",
      "pdf number :  0\n",
      "pdf number :  0\n",
      "pdf number :  0\n",
      "pdf number :  0\n"
     ]
    },
    {
     "name": "stderr",
     "output_type": "stream",
     "text": [
      " 18%|█▊        | 2090/11877 [02:49<09:43, 16.78it/s]"
     ]
    },
    {
     "name": "stdout",
     "output_type": "stream",
     "text": [
      "pdf number :  0\n",
      "pdf number :  0\n",
      "pdf number :  0\n",
      "pdf number :  0\n",
      "pdf number :  0\n",
      "pdf number :  0\n",
      "pdf number :  0\n",
      "pdf number :  0\n",
      "pdf number :  0\n",
      "pdf number :  0\n",
      "pdf number :  0\n",
      "pdf number :  0\n",
      "pdf number :  0\n",
      "pdf number :  0\n",
      "pdf number :  0\n",
      "pdf number :  0\n",
      "pdf number :  0\n",
      "pdf number :  0\n",
      "pdf number :  0\n",
      "pdf number :  0\n",
      "pdf number :  0\n",
      "pdf number :  0\n",
      "pdf number :  0\n",
      "pdf number :  0\n",
      "pdf number :  0\n",
      "pdf number :  0\n",
      "pdf number :  0\n",
      "pdf number :  0\n",
      "pdf number :  0\n",
      "pdf number :  0\n"
     ]
    },
    {
     "name": "stderr",
     "output_type": "stream",
     "text": [
      " 18%|█▊        | 2090/11877 [03:00<09:43, 16.78it/s]"
     ]
    },
    {
     "name": "stdout",
     "output_type": "stream",
     "text": [
      "pdf number :  0\n",
      "pdf number :  0\n",
      "pdf number :  0\n",
      "pdf number :  0\n",
      "pdf number :  0\n",
      "pdf number :  0\n",
      "pdf number :  0\n",
      "pdf number :  0\n",
      "pdf number :  0\n",
      "pdf number :  0\n",
      "pdf number :  0\n",
      "pdf number :  0\n",
      "pdf number :  0\n",
      "pdf number :  0\n",
      "pdf number :  0\n",
      "pdf number :  0\n",
      "pdf number :  0\n",
      "pdf number :  0\n",
      "pdf number :  0\n",
      "pdf number :  0\n",
      "pdf number :  0\n",
      "pdf number :  0\n",
      "pdf number :  0\n",
      "pdf number :  0\n",
      "pdf number :  0\n",
      "pdf number :  0\n",
      "pdf number :  0\n",
      "pdf number :  0\n",
      "pdf number :  0\n",
      "pdf number :  0\n",
      "pdf number :  0\n",
      "pdf number :  0\n",
      "pdf number :  0\n",
      "pdf number :  0\n",
      "pdf number :  0\n",
      "pdf number :  0\n",
      "pdf number :  0\n",
      "pdf number :  0\n",
      "pdf number :  0\n",
      "pdf number :  0\n",
      "pdf number :  0\n",
      "pdf number :  0\n",
      "pdf number :  0\n",
      "pdf number :  0\n",
      "pdf number :  0\n",
      "pdf number :  0\n",
      "pdf number :  0\n",
      "pdf number :  0\n",
      "pdf number :  0\n",
      "pdf number :  0\n",
      "pdf number :  0\n",
      "pdf number :  0\n"
     ]
    },
    {
     "name": "stderr",
     "output_type": "stream",
     "text": [
      " 23%|██▎       | 2765/11877 [03:22<08:20, 18.20it/s]"
     ]
    },
    {
     "name": "stdout",
     "output_type": "stream",
     "text": [
      "pdf number :  0\n",
      "pdf number :  0\n",
      "pdf number :  0\n",
      "pdf number :  0\n",
      "pdf number :  0\n",
      "pdf number :  0\n",
      "pdf number :  0\n",
      "pdf number :  0\n",
      "pdf number :  0\n",
      "pdf number :  0\n",
      "pdf number :  0\n",
      "pdf number :  0\n",
      "pdf number :  0\n",
      "pdf number :  0\n",
      "pdf number :  0\n",
      "pdf number :  0\n",
      "pdf number :  0\n",
      "pdf number :  0\n",
      "pdf number :  0\n",
      "pdf number :  0\n",
      "pdf number :  0\n",
      "pdf number :  0\n",
      "pdf number :  0\n",
      "pdf number :  0\n",
      "pdf number :  0\n",
      "pdf number :  0\n",
      "pdf number :  0\n",
      "pdf number :  0\n",
      "pdf number :  0\n",
      "pdf number :  0\n",
      "pdf number :  0\n",
      "pdf number :  0\n",
      "pdf number :  0\n",
      "pdf number :  0\n",
      "pdf number :  0\n",
      "pdf number :  0\n",
      "pdf number :  0\n",
      "pdf number :  0\n",
      "pdf number :  0\n",
      "pdf number :  0\n",
      "pdf number :  0\n",
      "pdf number :  0\n",
      "pdf number :  0\n",
      "pdf number :  0\n",
      "pdf number :  0\n",
      "pdf number :  0\n",
      "pdf number :  0\n",
      "pdf number :  0\n",
      "pdf number :  0\n"
     ]
    },
    {
     "name": "stderr",
     "output_type": "stream",
     "text": [
      " 23%|██▎       | 2765/11877 [03:40<08:20, 18.20it/s]"
     ]
    },
    {
     "name": "stdout",
     "output_type": "stream",
     "text": [
      "pdf number :  0\n",
      "pdf number :  0\n",
      "pdf number :  0\n",
      "pdf number :  0\n",
      "pdf number :  0\n",
      "pdf number :  0\n",
      "pdf number :  0\n",
      "pdf number :  0\n",
      "pdf number :  0\n",
      "pdf number :  0\n",
      "pdf number :  0\n",
      "pdf number :  0\n",
      "pdf number :  0\n",
      "pdf number :  0\n",
      "pdf number :  0\n",
      "pdf number :  0\n",
      "pdf number :  0\n",
      "pdf number :  0\n",
      "pdf number :  0\n",
      "pdf number :  0\n",
      "pdf number :  0\n",
      "pdf number :  0\n",
      "pdf number :  0\n",
      "pdf number :  0\n",
      "pdf number :  0\n",
      "pdf number :  0\n",
      "pdf number :  0\n",
      "pdf number :  0\n",
      "pdf number :  0\n",
      "pdf number :  0\n",
      "pdf number :  0\n",
      "pdf number :  0\n",
      "pdf number :  0\n",
      "pdf number :  0\n",
      "pdf number :  0\n",
      "pdf number :  0\n",
      "pdf number :  0\n",
      "pdf number :  0\n",
      "pdf number :  0\n",
      "pdf number :  0\n",
      "pdf number :  0\n",
      "pdf number :  0\n",
      "pdf number :  0\n",
      "pdf number :  0\n",
      "pdf number :  0\n",
      "pdf number :  0\n",
      "pdf number :  0\n",
      "pdf number :  0\n",
      "pdf number :  0\n",
      "pdf number :  0\n",
      "pdf number :  0\n",
      "pdf number :  0\n",
      "pdf number :  0\n",
      "pdf number :  0\n",
      "pdf number :  0\n",
      "pdf number :  0\n",
      "pdf number :  0\n",
      "pdf number :  0\n",
      "pdf number :  0\n",
      "pdf number :  0\n",
      "pdf number :  0\n",
      "pdf number :  0\n",
      "pdf number :  0\n"
     ]
    },
    {
     "name": "stderr",
     "output_type": "stream",
     "text": [
      " 30%|██▉       | 3514/11877 [04:07<07:55, 17.60it/s]"
     ]
    },
    {
     "name": "stdout",
     "output_type": "stream",
     "text": [
      "HTTPSConnectionPool(host='sci-hub.se', port=443): Max retries exceeded with url: /10.1109/tbme.2006.873684 (Caused by ConnectTimeoutError(<urllib3.connection.HTTPSConnection object at 0x11352bd30>, 'Connection to sci-hub.se timed out. (connect timeout=None)'))\n",
      "pdf number :  0\n",
      "pdf number :  0\n",
      "pdf number :  0\n",
      "pdf number :  0\n",
      "pdf number :  0\n",
      "pdf number :  0\n",
      "pdf number :  0\n",
      "pdf number :  0\n",
      "pdf number :  0\n",
      "pdf number :  0\n",
      "pdf number :  0\n",
      "pdf number :  0\n",
      "pdf number :  0\n",
      "pdf number :  0\n",
      "pdf number :  0\n",
      "pdf number :  0\n",
      "pdf number :  0\n",
      "pdf number :  0\n",
      "pdf number :  0\n",
      "pdf number :  0\n",
      "pdf number :  0\n",
      "pdf number :  0\n",
      "pdf number :  0\n",
      "pdf number :  0\n",
      "pdf number :  0\n",
      "pdf number :  0\n",
      "pdf number :  0\n",
      "pdf number :  0\n",
      "pdf number :  0\n",
      "pdf number :  0\n"
     ]
    },
    {
     "name": "stderr",
     "output_type": "stream",
     "text": [
      " 30%|██▉       | 3514/11877 [04:20<07:55, 17.60it/s]"
     ]
    },
    {
     "name": "stdout",
     "output_type": "stream",
     "text": [
      "pdf number :  0\n",
      "pdf number :  0\n",
      "pdf number :  0\n",
      "pdf number :  0\n",
      "pdf number :  0\n",
      "pdf number :  0\n",
      "pdf number :  0\n",
      "pdf number :  0\n",
      "pdf number :  0\n",
      "pdf number :  0\n",
      "pdf number :  0\n",
      "pdf number :  0\n",
      "pdf number :  0\n",
      "pdf number :  0\n",
      "pdf number :  0\n",
      "pdf number :  0\n",
      "pdf number :  0\n",
      "pdf number :  0\n",
      "pdf number :  0\n",
      "pdf number :  0\n",
      "pdf number :  0\n",
      "pdf number :  0\n",
      "pdf number :  0\n",
      "pdf number :  0\n",
      "pdf number :  0\n",
      "pdf number :  0\n",
      "pdf number :  0\n",
      "pdf number :  0\n",
      "pdf number :  0\n",
      "pdf number :  0\n",
      "pdf number :  0\n",
      "pdf number :  0\n",
      "pdf number :  0\n",
      "pdf number :  0\n",
      "pdf number :  0\n",
      "pdf number :  0\n",
      "pdf number :  0\n",
      "pdf number :  0\n",
      "pdf number :  0\n",
      "pdf number :  0\n",
      "pdf number :  0\n",
      "pdf number :  0\n",
      "pdf number :  0\n",
      "pdf number :  0\n",
      "pdf number :  0\n",
      "pdf number :  0\n",
      "pdf number :  0\n",
      "pdf number :  0\n",
      "pdf number :  0\n",
      "pdf number :  0\n",
      "pdf number :  0\n",
      "pdf number :  0\n",
      "pdf number :  0\n",
      "pdf number :  0\n",
      "pdf number :  0\n",
      "pdf number :  0\n",
      "pdf number :  0\n",
      "pdf number :  0\n",
      "pdf number :  0\n",
      "pdf number :  0\n",
      "pdf number :  0\n",
      "pdf number :  0\n",
      "pdf number :  0\n",
      "pdf number :  0\n",
      "pdf number :  0\n"
     ]
    },
    {
     "name": "stderr",
     "output_type": "stream",
     "text": [
      " 35%|███▌      | 4207/11877 [04:42<06:58, 18.35it/s]"
     ]
    },
    {
     "name": "stdout",
     "output_type": "stream",
     "text": [
      "HTTPSConnectionPool(host='sci-hub.se', port=443): Max retries exceeded with url: /10.1145/3306346.3322980 (Caused by ConnectTimeoutError(<urllib3.connection.HTTPSConnection object at 0x2b9b90340>, 'Connection to sci-hub.se timed out. (connect timeout=None)'))\n",
      "pdf number :  0\n",
      "pdf number :  0\n",
      "pdf number :  0\n",
      "pdf number :  0\n",
      "pdf number :  0\n",
      "pdf number :  0\n",
      "pdf number :  0\n",
      "pdf number :  0\n",
      "pdf number :  0\n",
      "pdf number :  0\n",
      "pdf number :  0\n",
      "pdf number :  0\n",
      "pdf number :  0\n",
      "pdf number :  0\n",
      "pdf number :  0\n",
      "pdf number :  0\n",
      "pdf number :  0\n",
      "pdf number :  0\n",
      "pdf number :  0\n",
      "pdf number :  0\n",
      "pdf number :  0\n",
      "pdf number :  0\n",
      "pdf number :  0\n",
      "pdf number :  0\n",
      "pdf number :  0\n",
      "pdf number :  0\n",
      "pdf number :  0\n",
      "pdf number :  0\n",
      "pdf number :  0\n",
      "pdf number :  0\n",
      "pdf number :  0\n",
      "pdf number :  0\n"
     ]
    },
    {
     "name": "stderr",
     "output_type": "stream",
     "text": [
      " 35%|███▌      | 4207/11877 [05:00<06:58, 18.35it/s]"
     ]
    },
    {
     "name": "stdout",
     "output_type": "stream",
     "text": [
      "pdf number :  0\n",
      "pdf number :  0\n",
      "pdf number :  0\n",
      "pdf number :  0\n",
      "pdf number :  0\n",
      "pdf number :  0\n",
      "pdf number :  0\n",
      "pdf number :  0\n",
      "pdf number :  0\n",
      "pdf number :  0\n",
      "pdf number :  0\n",
      "pdf number : pdf number :  0\n",
      " 0\n",
      "pdf number :  0\n",
      "pdf number :  0\n",
      "pdf number :  0\n",
      "pdf number :  0\n",
      "pdf number :  0\n",
      "pdf number :  0\n",
      "pdf number :  0\n",
      "pdf number :  0\n",
      "pdf number :  0\n",
      "pdf number :  0\n",
      "pdf number :  0\n",
      "pdf number :  0\n",
      "pdf number :  0\n",
      "pdf number :  0\n",
      "pdf number :  0\n",
      "pdf number :  0\n",
      "pdf number :  0\n",
      "pdf number :  0\n",
      "pdf number :  0\n",
      "pdf number :  0\n",
      "pdf number :  0\n",
      "pdf number :  0\n",
      "pdf number :  0\n",
      "pdf number :  0\n",
      "pdf number :  0\n",
      "pdf number :  0\n",
      "pdf number :  0\n",
      "pdf number :  0\n",
      "pdf number :  0\n",
      "pdf number :  0\n",
      "pdf number :  0\n",
      "pdf number :  0\n",
      "pdf number :  0\n",
      "pdf number :  0\n",
      "pdf number :  0\n",
      "pdf number :  0\n",
      "pdf number :  0\n",
      "pdf number :  0\n",
      "pdf number :  0\n",
      "pdf number :  0\n",
      "pdf number :  0\n",
      "pdf number :  0\n",
      "pdf number :  0\n",
      "pdf number :  0\n",
      "pdf number :  0\n",
      "pdf number :  0\n",
      "pdf number :  0\n",
      "pdf number :  0\n"
     ]
    },
    {
     "name": "stderr",
     "output_type": "stream",
     "text": [
      " 42%|████▏     | 4954/11877 [05:19<06:05, 18.95it/s]"
     ]
    },
    {
     "name": "stdout",
     "output_type": "stream",
     "text": [
      "HTTPSConnectionPool(host='sci-hub.se', port=443): Max retries exceeded with url: /10.1145/3272127.3275093 (Caused by ConnectTimeoutError(<urllib3.connection.HTTPSConnection object at 0x2b9c1a6e0>, 'Connection to sci-hub.se timed out. (connect timeout=None)'))\n",
      "pdf number :  0\n"
     ]
    },
    {
     "name": "stderr",
     "output_type": "stream",
     "text": [
      " 42%|████▏     | 4975/11877 [05:20<06:03, 18.98it/s]"
     ]
    },
    {
     "name": "stdout",
     "output_type": "stream",
     "text": [
      "pdf number :  0\n",
      "HTTPSConnectionPool(host='sci-hub.se', port=443): Max retries exceeded with url: /10.1017/s0142716400005762 (Caused by ConnectTimeoutError(<urllib3.connection.HTTPSConnection object at 0x2aa801450>, 'Connection to sci-hub.se timed out. (connect timeout=None)'))\n",
      "pdf number :  0\n",
      "pdf number :  0\n",
      "pdf number :  0\n",
      "pdf number :  0\n",
      "pdf number :  0\n",
      "pdf number :  0\n",
      "pdf number :  0\n",
      "pdf number :  0\n",
      "pdf number :  0\n",
      "pdf number :  0\n",
      "pdf number :  0\n",
      "pdf number :  0\n",
      "pdf number :  0\n",
      "pdf number :  0\n",
      "pdf number :  0\n",
      "pdf number :  0\n",
      "pdf number :  0\n",
      "pdf number :  0\n",
      "pdf number :  0\n",
      "pdf number :  0\n",
      "pdf number :  0\n",
      "pdf number :  0\n",
      "pdf number :  0\n",
      "pdf number :  0\n",
      "pdf number :  0\n",
      "pdf number :  0\n",
      "pdf number :  0\n",
      "pdf number :  0\n",
      "pdf number :  0\n",
      "pdf number :  0\n",
      "pdf number :  0\n",
      "pdf number :  0\n",
      "pdf number :  0\n",
      "pdf number :  0\n",
      "pdf number :  0\n",
      "pdf number :  0\n",
      "pdf number :  0\n",
      "pdf number :  0\n",
      "pdf number :  0\n",
      "pdf number :  0\n",
      "pdf number :  0\n",
      "pdf number :  0\n",
      "pdf number :  0\n",
      "pdf number :  0\n",
      "pdf number :  0\n",
      "pdf number :  0\n",
      "pdf number :  0\n"
     ]
    },
    {
     "name": "stderr",
     "output_type": "stream",
     "text": [
      " 42%|████▏     | 4975/11877 [05:40<06:03, 18.98it/s]"
     ]
    },
    {
     "name": "stdout",
     "output_type": "stream",
     "text": [
      "pdf number :  0\n",
      "pdf number :  0\n",
      "pdf number :  0\n",
      "pdf number :  0\n",
      "pdf number :  0\n",
      "pdf number :  0\n",
      "pdf number :  0\n",
      "pdf number :  0\n",
      "pdf number :  0\n",
      "pdf number :  0\n",
      "pdf number :  0\n",
      "pdf number :  0\n",
      "pdf number :  0\n",
      "pdf number :  0\n",
      "pdf number :  0\n",
      "pdf number :  0\n",
      "pdf number :  0\n"
     ]
    },
    {
     "name": "stderr",
     "output_type": "stream",
     "text": [
      " 46%|████▌     | 5487/11877 [05:46<05:32, 19.23it/s]"
     ]
    },
    {
     "name": "stdout",
     "output_type": "stream",
     "text": [
      "HTTPSConnectionPool(host='sci-hub.se', port=443): Max retries exceeded with url: /10.1145/2366145.2366213 (Caused by ConnectTimeoutError(<urllib3.connection.HTTPSConnection object at 0x2aa89f5b0>, 'Connection to sci-hub.se timed out. (connect timeout=None)'))\n",
      "pdf number :  0\n",
      "pdf number :  0\n",
      "pdf number :  0\n",
      "pdf number :  0\n",
      "pdf number :  0\n"
     ]
    },
    {
     "name": "stderr",
     "output_type": "stream",
     "text": [
      " 47%|████▋     | 5534/11877 [05:48<05:27, 19.38it/s]"
     ]
    },
    {
     "name": "stdout",
     "output_type": "stream",
     "text": [
      "pdf number :  0\n",
      "HTTPSConnectionPool(host='sci-hub.se', port=443): Max retries exceeded with url: /10.3390/sports6010023 (Caused by ConnectTimeoutError(<urllib3.connection.HTTPSConnection object at 0x2b9d719f0>, 'Connection to sci-hub.se timed out. (connect timeout=None)'))\n"
     ]
    },
    {
     "name": "stderr",
     "output_type": "stream",
     "text": [
      " 48%|████▊     | 5681/11877 [05:48<04:32, 22.72it/s]"
     ]
    },
    {
     "name": "stdout",
     "output_type": "stream",
     "text": [
      "pdf number :  0\n",
      "pdf number :  0\n",
      "pdf number :  0\n",
      "pdf number :  0\n",
      "pdf number :  0\n",
      "pdf number :  0\n",
      "pdf number :  0\n",
      "pdf number :  0\n",
      "pdf number :  0\n",
      "pdf number :  0\n",
      "pdf number :  0\n",
      "pdf number :  0\n",
      "pdf number :  0\n",
      "pdf number :  0\n",
      "pdf number :  0\n",
      "pdf number :  0\n",
      "pdf number :  0\n",
      "pdf number :  0\n",
      "pdf number :  0\n",
      "pdf number :  0\n",
      "pdf number :  0\n",
      "pdf number :  0\n",
      "pdf number :  0\n",
      "pdf number :  0\n",
      "pdf number :  0\n",
      "pdf number :  0\n",
      "pdf number :  0\n",
      "pdf number :  0\n",
      "pdf number :  0\n",
      "pdf number :  0\n",
      "pdf number :  0\n",
      "pdf number :  0\n",
      "pdf number :  0\n",
      "pdf number :  0\n",
      "pdf number :  0\n",
      "pdf number :  0\n"
     ]
    },
    {
     "name": "stderr",
     "output_type": "stream",
     "text": [
      " 48%|████▊     | 5681/11877 [06:00<04:32, 22.72it/s]"
     ]
    },
    {
     "name": "stdout",
     "output_type": "stream",
     "text": [
      "pdf number :  0\n",
      "pdf number :  0\n",
      "pdf number :  0\n",
      "pdf number :  0\n",
      "pdf number :  0\n",
      "pdf number :  0\n",
      "pdf number :  0\n",
      "pdf number :  0\n",
      "pdf number :  0\n",
      "pdf number :  0\n",
      "pdf number :  0\n",
      "pdf number :  0\n",
      "pdf number :  0\n",
      "pdf number :  0\n",
      "pdf number :  0\n",
      "pdf number :  0\n",
      "pdf number :  0\n",
      "pdf number :  0\n",
      "pdf number :  0\n",
      "pdf number :  0\n",
      "pdf number :  0\n",
      "pdf number :  0\n",
      "pdf number :  0\n",
      "pdf number :  0\n",
      "pdf number :  0\n",
      "pdf number :  0\n",
      "pdf number :  0\n",
      "pdf number :  0\n",
      "pdf number :  0\n",
      "pdf number :  0\n",
      "pdf number :  0\n",
      "pdf number :  0\n",
      "pdf number :  0\n",
      "pdf number :  0\n",
      "pdf number :  0\n",
      "pdf number :  0\n",
      "pdf number :  0\n",
      "pdf number :  0\n",
      "pdf number :  0\n",
      "pdf number :  0\n",
      "pdf number :  0\n",
      "pdf number :  0\n",
      "pdf number :  0\n",
      "pdf number :  0\n",
      "pdf number :  0\n",
      "pdf number :  0\n",
      "pdf number :  0\n",
      "pdf number :  0\n",
      "pdf number :  0\n",
      "pdf number :  0\n",
      "pdf number :  0\n",
      "pdf number :  0\n",
      "pdf number :  0\n",
      "pdf number :  0\n",
      "pdf number :  0\n",
      "pdf number :  0\n",
      "pdf number :  0\n",
      "pdf number :  0\n",
      "pdf number :  0\n",
      "pdf number :  0\n",
      "pdf number :  0\n",
      "pdf number :  0\n",
      "pdf number :  0\n",
      "pdf number :  0\n",
      "pdf number :  0\n",
      "pdf number :  0\n"
     ]
    },
    {
     "name": "stderr",
     "output_type": "stream",
     "text": [
      " 53%|█████▎    | 6288/11877 [06:25<04:52, 19.11it/s]"
     ]
    },
    {
     "name": "stdout",
     "output_type": "stream",
     "text": [
      "HTTPSConnectionPool(host='sci-hub.se', port=443): Max retries exceeded with url: /10.1145/3592423 (Caused by ConnectTimeoutError(<urllib3.connection.HTTPSConnection object at 0x2b9e0a260>, 'Connection to sci-hub.se timed out. (connect timeout=None)'))\n",
      "pdf number :  0\n",
      "pdf number :  0\n",
      "pdf number :  0\n",
      "pdf number :  0\n",
      "pdf number :  0\n",
      "pdf number :  0\n",
      "pdf number :  0\n"
     ]
    },
    {
     "name": "stderr",
     "output_type": "stream",
     "text": [
      " 55%|█████▍    | 6480/11877 [06:28<04:04, 22.06it/s]"
     ]
    },
    {
     "name": "stdout",
     "output_type": "stream",
     "text": [
      "pdf number :  0\n",
      "pdf number :  0\n",
      "pdf number :  0\n",
      "pdf number :  0\n",
      "pdf number :  0\n",
      "pdf number :  0\n",
      "pdf number :  0\n",
      "pdf number :  0\n",
      "pdf number :  0\n",
      "pdf number :  0\n",
      "pdf number :  0\n",
      "pdf number :  0\n",
      "pdf number :  0\n",
      "pdf number :  0\n",
      "pdf number :  0\n",
      "pdf number :  0\n",
      "pdf number :  0\n",
      "pdf number :  0\n",
      "pdf number :  0\n",
      "pdf number :  0\n",
      "pdf number :  0\n",
      "pdf number :  0\n",
      "pdf number :  0\n",
      "pdf number :  0\n",
      "pdf number :  0\n",
      "pdf number :  0\n",
      "pdf number :  0\n",
      "pdf number :  0\n"
     ]
    },
    {
     "name": "stderr",
     "output_type": "stream",
     "text": [
      " 55%|█████▍    | 6480/11877 [06:40<04:04, 22.06it/s]"
     ]
    },
    {
     "name": "stdout",
     "output_type": "stream",
     "text": [
      "pdf number :  0\n",
      "pdf number :  0\n",
      "pdf number :  0\n",
      "pdf number :  0\n",
      "pdf number :  0\n",
      "pdf number :  0\n",
      "pdf number :  0\n",
      "pdf number :  0\n",
      "pdf number :  0\n",
      "pdf number :  0\n",
      "pdf number :  0\n",
      "pdf number :  0\n",
      "pdf number :  0\n",
      "pdf number :  0\n",
      "pdf number :  0\n",
      "pdf number :  0\n",
      "pdf number :  0\n",
      "pdf number :  0\n",
      "pdf number :  0\n",
      "pdf number :  0\n",
      "pdf number :  0\n",
      "pdf number :  0\n",
      "pdf number :  0\n",
      "pdf number :  0\n",
      "pdf number :  0\n",
      "pdf number :  0\n",
      "pdf number :  0\n",
      "pdf number :  0\n",
      "pdf number :  0\n",
      "pdf number :  0\n",
      "pdf number :  0\n",
      "pdf number :  0\n",
      "pdf number :  0\n",
      "pdf number :  0\n",
      "pdf number :  0\n",
      "pdf number :  0\n",
      "pdf number :  0\n",
      "pdf number :  0\n",
      "pdf number :  0\n",
      "pdf number :  0\n",
      "pdf number :  0\n",
      "pdf number :  0\n",
      "pdf number :  0\n",
      "pdf number :  0\n"
     ]
    },
    {
     "name": "stderr",
     "output_type": "stream",
     "text": [
      " 59%|█████▊    | 6972/11877 [07:00<04:19, 18.93it/s]"
     ]
    },
    {
     "name": "stdout",
     "output_type": "stream",
     "text": [
      "HTTPSConnectionPool(host='sci-hub.se', port=443): Max retries exceeded with url: /10.1109/tvcg.2008.54 (Caused by ConnectTimeoutError(<urllib3.connection.HTTPSConnection object at 0x2b9dbee60>, 'Connection to sci-hub.se timed out. (connect timeout=None)'))\n",
      "pdf number :  0\n",
      "pdf number :  0\n",
      "pdf number :  0\n",
      "pdf number :  0\n",
      "pdf number :  0\n",
      "pdf number :  0\n"
     ]
    },
    {
     "name": "stderr",
     "output_type": "stream",
     "text": [
      " 59%|█████▉    | 7037/11877 [07:03<04:13, 19.06it/s]"
     ]
    },
    {
     "name": "stdout",
     "output_type": "stream",
     "text": [
      "HTTPSConnectionPool(host='sci-hub.se', port=443): Max retries exceeded with url: /10.1111/cgf.12415 (Caused by ConnectTimeoutError(<urllib3.connection.HTTPSConnection object at 0x2b9e92710>, 'Connection to sci-hub.se timed out. (connect timeout=None)'))\n",
      "pdf number :  0\n",
      "pdf number :  0\n",
      "pdf number :  0\n",
      "pdf number : pdf number :  0\n",
      " 0\n",
      "pdf number :  0\n",
      "pdf number :  0\n",
      "pdf number :  0\n",
      "pdf number :  0\n",
      "pdf number :  0\n",
      "pdf number :  0\n",
      "pdf number :  0\n",
      "pdf number :  0\n",
      "pdf number :  0\n",
      "pdf number :  0\n",
      "pdf number :  0\n",
      "pdf number :  0\n",
      "pdf number :  0\n",
      "pdf number :  0\n",
      "pdf number :  0\n",
      "pdf number :  0\n",
      "pdf number :  0\n",
      "pdf number :  0\n",
      "pdf number :  0\n",
      "pdf number :  0\n",
      "pdf number :  0\n",
      "pdf number :  0\n",
      "pdf number :  0\n",
      "pdf number :  0\n",
      "pdf number :  0\n",
      "pdf number :  0\n",
      "pdf number :  0\n",
      "pdf number :  0\n",
      "pdf number :  0\n",
      "pdf number :  0\n",
      "pdf number :  0\n",
      "pdf number :  0\n"
     ]
    },
    {
     "name": "stderr",
     "output_type": "stream",
     "text": [
      " 59%|█████▉    | 7037/11877 [07:20<04:13, 19.06it/s]"
     ]
    },
    {
     "name": "stdout",
     "output_type": "stream",
     "text": [
      "pdf number :  0\n",
      "pdf number :  0\n",
      "pdf number :  0\n",
      "pdf number :  0\n"
     ]
    },
    {
     "name": "stderr",
     "output_type": "stream",
     "text": [
      " 62%|██████▏   | 7406/11877 [07:22<03:52, 19.19it/s]"
     ]
    },
    {
     "name": "stdout",
     "output_type": "stream",
     "text": [
      "HTTPSConnectionPool(host='sci-hub.se', port=443): Max retries exceeded with url: /10.1007/978-3-319-54184-6_9 (Caused by ConnectTimeoutError(<urllib3.connection.HTTPSConnection object at 0x2b9d70760>, 'Connection to sci-hub.se timed out. (connect timeout=None)'))\n",
      "HTTPSConnectionPool(host='sci-hub.se', port=443): Max retries exceeded with url: /10.1063/1.1664266 (Caused by ConnectTimeoutError(<urllib3.connection.HTTPSConnection object at 0x2b9ede980>, 'Connection to sci-hub.se timed out. (connect timeout=None)'))\n",
      "pdf number :  0\n",
      "pdf number :  0\n",
      "pdf number :  0\n",
      "pdf number :  0\n",
      "pdf number :  0\n",
      "pdf number :  0\n",
      "pdf number :  0\n",
      "pdf number :  0\n",
      "pdf number :  0\n",
      "pdf number :  0\n"
     ]
    },
    {
     "name": "stderr",
     "output_type": "stream",
     "text": [
      " 63%|██████▎   | 7514/11877 [07:27<03:43, 19.54it/s]"
     ]
    },
    {
     "name": "stdout",
     "output_type": "stream",
     "text": [
      "HTTPSConnectionPool(host='sci-hub.se', port=443): Max retries exceeded with url: /10.1109/tvcg.2012.34 (Caused by ConnectTimeoutError(<urllib3.connection.HTTPSConnection object at 0x2ba0e66e0>, 'Connection to sci-hub.se timed out. (connect timeout=None)'))\n",
      "pdf number :  0\n",
      "pdf number :  0\n",
      "pdf number :  0\n",
      "pdf number :  0\n",
      "pdf number :  0\n",
      "pdf number :  0\n",
      "pdf number :  0\n",
      "pdf number :  0\n",
      "pdf number :  0\n",
      "pdf number :  0\n",
      "pdf number :  0\n",
      "pdf number :  0\n",
      "pdf number :  0\n",
      "pdf number :  0\n",
      "pdf number :  0\n",
      "pdf number :  0\n",
      "pdf number :  0\n",
      "pdf number :  0\n",
      "pdf number :  0\n",
      "pdf number :  0\n",
      "pdf number :  0\n",
      "pdf number :  0\n",
      "pdf number :  0\n",
      "pdf number :  0\n",
      "pdf number :  0\n",
      "pdf number :  0\n",
      "pdf number :  0\n",
      "pdf number :  0\n"
     ]
    },
    {
     "name": "stderr",
     "output_type": "stream",
     "text": [
      " 63%|██████▎   | 7514/11877 [07:40<03:43, 19.54it/s]"
     ]
    },
    {
     "name": "stdout",
     "output_type": "stream",
     "text": [
      "pdf number :  0\n",
      "pdf number :  0\n",
      "pdf number :  0\n",
      "pdf number :  0\n",
      "pdf number :  0\n",
      "pdf number :  0\n",
      "pdf number :  0\n",
      "pdf number :  0\n",
      "pdf number :  0\n",
      "pdf number :  0\n",
      "pdf number :  0\n",
      "pdf number :  0\n",
      "pdf number :  0\n",
      "pdf number :  0\n",
      "pdf number :  0\n",
      "pdf number :  0\n",
      "pdf number :  0\n",
      "pdf number :  0\n",
      "pdf number :  0\n",
      "pdf number :  0\n",
      "pdf number :  0\n",
      "pdf number :  0\n",
      "pdf number :  0\n",
      "pdf number :  0\n",
      "pdf number :  0\n",
      "pdf number :  0\n",
      "pdf number :  0\n"
     ]
    },
    {
     "name": "stderr",
     "output_type": "stream",
     "text": [
      " 69%|██████▊   | 8148/11877 [07:51<02:46, 22.38it/s]"
     ]
    },
    {
     "name": "stdout",
     "output_type": "stream",
     "text": [
      "pdf number :  0\n",
      "pdf number :  0\n",
      "pdf number :  0\n",
      "pdf number :  0\n",
      "pdf number :  0\n",
      "pdf number :  0\n",
      "pdf number :  0\n",
      "pdf number :  0\n",
      "pdf number :  0\n",
      "pdf number :  0\n",
      "pdf number :  0\n",
      "pdf number :  0\n",
      "pdf number :  0\n",
      "pdf number :  0\n",
      "pdf number :  0\n",
      "pdf number :  0\n",
      "pdf number :  0\n",
      "pdf number :  0\n",
      "pdf number :  0\n",
      "pdf number :  0\n",
      "pdf number :  0\n",
      "pdf number :  0\n",
      "pdf number :  0\n",
      "pdf number :  0\n",
      "pdf number :  0\n",
      "pdf number :  0\n",
      "pdf number :  0\n",
      "pdf number :  0\n",
      "pdf number :  0\n",
      "pdf number :  0\n",
      "pdf number :  0\n",
      "pdf number :  0\n",
      "pdf number :  0\n",
      "pdf number :  0\n",
      "pdf number :  0\n",
      "pdf number :  0\n",
      "pdf number :  0\n",
      "pdf number :  0\n",
      "pdf number :  0\n",
      "pdf number :  0\n",
      "pdf number :  0\n",
      "pdf number :  0\n",
      "pdf number :  0\n",
      "pdf number :  0\n",
      "pdf number :  0\n",
      "pdf number :  0\n",
      "pdf number :  0\n"
     ]
    },
    {
     "name": "stderr",
     "output_type": "stream",
     "text": [
      " 72%|███████▏  | 8514/11877 [08:09<02:35, 21.63it/s]"
     ]
    },
    {
     "name": "stdout",
     "output_type": "stream",
     "text": [
      "pdf number :  0\n",
      "pdf number :  0\n",
      "pdf number :  0\n",
      "pdf number :  0\n",
      "pdf number :  0\n",
      "pdf number :  0\n",
      "pdf number :  0\n",
      "pdf number :  0\n",
      "pdf number :  0\n",
      "pdf number :  0\n",
      "pdf number :  0\n",
      "pdf number :  0\n",
      "pdf number :  0\n",
      "pdf number :  0\n",
      "pdf number :  0\n",
      "pdf number :  0\n",
      "pdf number :  0\n",
      "pdf number :  0\n",
      "pdf number :  0\n",
      "pdf number :  0\n",
      "pdf number :  0\n"
     ]
    },
    {
     "name": "stderr",
     "output_type": "stream",
     "text": [
      " 72%|███████▏  | 8514/11877 [08:20<02:35, 21.63it/s]"
     ]
    },
    {
     "name": "stdout",
     "output_type": "stream",
     "text": [
      "pdf number :  0\n",
      "pdf number :  0\n",
      "pdf number :  0\n",
      "pdf number :  0\n",
      "pdf number :  0\n",
      "pdf number :  0\n",
      "pdf number :  0\n",
      "pdf number :  0\n",
      "pdf number :  0\n",
      "pdf number :  0\n",
      "pdf number :  0\n",
      "pdf number :  0\n",
      "pdf number :  0\n",
      "pdf number :  0\n",
      "pdf number :  0\n",
      "pdf number :  0\n",
      "pdf number :  0\n",
      "pdf number :  0\n",
      "pdf number :  0\n",
      "pdf number :  0\n",
      "pdf number :  0\n",
      "pdf number :  0\n",
      "pdf number :  0\n",
      "pdf number :  0\n",
      "pdf number :  0\n",
      "pdf number :  0\n",
      "pdf number :  0\n",
      "pdf number : pdf number :  0\n",
      " 0\n",
      "pdf number :  0\n",
      "pdf number :  0\n",
      "pdf number :  0\n",
      "pdf number :  0\n",
      "pdf number :  0\n",
      "pdf number :  0\n",
      "pdf number :  0\n",
      "pdf number :  0\n",
      "pdf number :  0\n",
      "pdf number :  0\n",
      "pdf number :  0\n",
      "pdf number :  0\n",
      "pdf number :  0\n",
      "pdf number :  0\n",
      "pdf number :  0\n",
      "pdf number :  0\n",
      "pdf number :  0\n",
      "pdf number :  0\n",
      "pdf number :  0\n",
      "pdf number :  0\n",
      "pdf number :  0\n",
      "pdf number :  0\n",
      "pdf number :  0\n",
      "pdf number :  0\n",
      "pdf number :  0\n",
      "pdf number :  0\n"
     ]
    },
    {
     "name": "stderr",
     "output_type": "stream",
     "text": [
      " 75%|███████▌  | 8925/11877 [08:37<02:36, 18.89it/s]"
     ]
    },
    {
     "name": "stdout",
     "output_type": "stream",
     "text": [
      "pdf number :  0\n",
      "HTTPSConnectionPool(host='sci-hub.se', port=443): Max retries exceeded with url: /10.1007/978-3-030-01261-8_27 (Caused by ConnectTimeoutError(<urllib3.connection.HTTPSConnection object at 0x2b9d703a0>, 'Connection to sci-hub.se timed out. (connect timeout=None)'))\n",
      "pdf number :  0\n",
      "pdf number :  0\n",
      "pdf number :  0\n",
      "pdf number :  0\n",
      "pdf number :  0\n",
      "pdf number :  0\n",
      "pdf number :  0\n",
      "pdf number :  0\n",
      "pdf number :  0\n",
      "pdf number :  0\n",
      "pdf number :  0\n",
      "pdf number :  0\n",
      "pdf number :  0\n",
      "pdf number :  0\n",
      "pdf number :  0\n",
      "pdf number :  0\n",
      "pdf number :  0\n",
      "pdf number :  0\n",
      "pdf number :  0\n",
      "pdf number :  0\n",
      "pdf number :  0\n",
      "pdf number :  0\n",
      "pdf number :  0\n",
      "pdf number :  0\n"
     ]
    },
    {
     "name": "stderr",
     "output_type": "stream",
     "text": [
      " 77%|███████▋  | 9186/11877 [08:43<02:03, 21.72it/s]"
     ]
    },
    {
     "name": "stdout",
     "output_type": "stream",
     "text": [
      "pdf number :  0\n",
      "pdf number :  0\n",
      "pdf number :  0\n",
      "pdf number :  0\n",
      "pdf number :  0\n",
      "pdf number :  0\n",
      "pdf number :  0\n",
      "pdf number :  0\n",
      "pdf number :  0\n",
      "pdf number :  0\n",
      "pdf number :  0\n",
      "pdf number :  0\n",
      "pdf number :  0\n",
      "pdf number :  0\n",
      "pdf number :  0\n",
      "pdf number :  0\n",
      "pdf number :  0\n",
      "pdf number :  0\n",
      "pdf number :  0\n",
      "pdf number :  0\n",
      "pdf number :  0\n",
      "pdf number :  0\n",
      "pdf number :  0\n",
      "pdf number :  0\n",
      "pdf number :  0\n",
      "pdf number :  0\n",
      "pdf number :  0\n",
      "pdf number :  0\n",
      "pdf number :  0\n",
      "pdf number :  0\n",
      "pdf number :  0\n",
      "pdf number :  0\n",
      "pdf number :  0\n",
      "pdf number :  0\n",
      "pdf number :  0\n",
      "pdf number :  0\n",
      "pdf number :  0\n",
      "pdf number :  0\n",
      "pdf number :  0\n",
      "pdf number :  0\n",
      "pdf number :  0\n",
      "pdf number :  0\n",
      "pdf number :  0\n",
      "pdf number :  0\n",
      "pdf number :  0\n",
      "pdf number :  0\n",
      "pdf number :  0\n",
      "pdf number :  0\n",
      "pdf number :  0\n",
      "pdf number :  0\n",
      "pdf number :  0\n"
     ]
    },
    {
     "name": "stderr",
     "output_type": "stream",
     "text": [
      " 77%|███████▋  | 9186/11877 [09:00<02:03, 21.72it/s]"
     ]
    },
    {
     "name": "stdout",
     "output_type": "stream",
     "text": [
      "pdf number :  0\n",
      "pdf number :  0\n",
      "pdf number :  0\n",
      "pdf number :  0\n",
      "pdf number :  0\n",
      "pdf number :  0\n",
      "pdf number :  0\n",
      "pdf number :  0\n",
      "pdf number :  0\n",
      "pdf number :  0\n",
      "pdf number :  0\n",
      "pdf number :  0\n",
      "pdf number :  0\n",
      "pdf number :  0\n",
      "pdf number :  0\n",
      "pdf number :  0\n",
      "pdf number :  0\n",
      "pdf number :  0\n",
      "pdf number :  0\n",
      "pdf number :  0\n",
      "pdf number :  0\n",
      "pdf number :  0\n",
      "pdf number :  0\n",
      "pdf number :  0\n",
      "pdf number :  0\n",
      "pdf number :  0\n",
      "pdf number :  0\n",
      "pdf number :  0\n",
      "pdf number :  0\n",
      "pdf number :  0\n",
      "pdf number :  0\n",
      "pdf number :  0\n",
      "pdf number :  0\n",
      "pdf number :  0\n",
      "pdf number :  0\n",
      "pdf number :  0\n",
      "pdf number :  0\n",
      "pdf number :  0\n",
      "pdf number :  0\n",
      "pdf number :  0\n",
      "pdf number :  0\n",
      "pdf number :  0\n",
      "pdf number :  0\n",
      "pdf number :  0\n",
      "pdf number :  0\n",
      "pdf number :  0\n",
      "pdf number :  0\n",
      "pdf number :  0\n",
      "pdf number :  0\n",
      "pdf number :  0\n",
      "pdf number :  0\n",
      "pdf number :  0\n",
      "pdf number :  0\n",
      "pdf number :  0\n",
      "pdf number :  0\n",
      "pdf number :  0\n",
      "pdf number :  0\n",
      "pdf number :  0\n",
      "pdf number :  0\n",
      "pdf number :  0\n",
      "pdf number :  0\n",
      "pdf number :  0\n",
      "pdf number :  0\n",
      "pdf number :  0\n",
      "pdf number :  0\n",
      "pdf number :  0\n",
      "pdf number :  0\n",
      "pdf number :  0\n",
      "pdf number :  0\n",
      "pdf number :  0\n",
      "pdf number :  0\n",
      "pdf number :  0\n",
      "pdf number :  0\n",
      "Exceeded 30 redirects.\n",
      "pdf number :  0\n",
      "pdf number :  0\n",
      "pdf number :  0\n",
      "pdf number :  0\n",
      "pdf number :  0\n",
      "pdf number :  0\n",
      "pdf number :  0\n",
      "pdf number :  0\n",
      "pdf number :  0\n",
      "pdf number :  0\n",
      "pdf number :  0\n",
      "pdf number :  0\n",
      "pdf number :  0\n",
      "pdf number :  0\n",
      "pdf number :  0\n",
      "pdf number :  0\n",
      "pdf number :  0\n",
      "pdf number :  0\n",
      "pdf number :  0\n",
      "pdf number :  0\n",
      "pdf number :  0\n",
      "pdf number :  0\n",
      "pdf number :  0\n",
      "pdf number :  0\n",
      "pdf number :  0\n"
     ]
    },
    {
     "name": "stderr",
     "output_type": "stream",
     "text": [
      " 85%|████████▍ | 10080/11877 [09:35<01:33, 19.12it/s]"
     ]
    },
    {
     "name": "stdout",
     "output_type": "stream",
     "text": [
      "HTTPSConnectionPool(host='sci-hub.se', port=443): Max retries exceeded with url: /10.3389/conf.neuro.14.2009.06.105 (Caused by ConnectTimeoutError(<urllib3.connection.HTTPSConnection object at 0x2ba1a35b0>, 'Connection to sci-hub.se timed out. (connect timeout=None)'))\n",
      "pdf number :  0\n",
      "pdf number :  0\n",
      "pdf number :  0\n",
      "pdf number :  0\n",
      "pdf number :  0\n",
      "pdf number :  0\n",
      "pdf number :  0\n",
      "pdf number :  0\n",
      "pdf number :  0\n",
      "pdf number :  0\n",
      "pdf number :  0\n",
      "pdf number :  0\n",
      "pdf number :  0\n",
      "pdf number :  0\n",
      "pdf number :  0\n",
      "pdf number :  0\n",
      "pdf number :  0\n",
      "pdf number :  0\n",
      "pdf number :  0\n",
      "pdf number :  0\n",
      "pdf number :  0\n",
      "pdf number :  0\n",
      "pdf number :  0\n",
      "pdf number :  0\n",
      "pdf number :  0\n",
      "pdf number :  0\n",
      "pdf number :  0\n",
      "pdf number :  0\n",
      "pdf number :  0\n",
      "pdf number :  0\n",
      "pdf number :  0\n",
      "pdf number :  0\n",
      "pdf number :  0\n",
      "pdf number :  0\n",
      "pdf number :  0\n",
      "pdf number :  0\n",
      "pdf number :  0\n",
      "pdf number :  0\n",
      "pdf number :  0\n"
     ]
    },
    {
     "name": "stderr",
     "output_type": "stream",
     "text": [
      " 87%|████████▋ | 10366/11877 [09:49<01:18, 19.26it/s]"
     ]
    },
    {
     "name": "stdout",
     "output_type": "stream",
     "text": [
      "pdf number :  0\n",
      "HTTPSConnectionPool(host='sci-hub.se', port=443): Max retries exceeded with url: /10.1016/j.rse.2017.01.026 (Caused by ConnectTimeoutError(<urllib3.connection.HTTPSConnection object at 0x2ba226ad0>, 'Connection to sci-hub.se timed out. (connect timeout=None)'))\n",
      "pdf number :  0\n",
      "pdf number :  0\n",
      "pdf number :  0\n",
      "pdf number :  0\n",
      "pdf number :  0\n",
      "pdf number :  0\n",
      "pdf number :  0\n",
      "pdf number :  0\n"
     ]
    },
    {
     "name": "stderr",
     "output_type": "stream",
     "text": [
      "100%|██████████| 11877/11877 [10:04<00:00, 19.65it/s]\n"
     ]
    }
   ],
   "source": [
    "\n",
    "max_workers = 40\n",
    "\n",
    "with concurrent.futures.ThreadPoolExecutor(max_workers=max_workers) as executor:\n",
    "    list(\n",
    "        tqdm(\n",
    "            executor.map(\n",
    "                get_pdf_url_from_doi,\n",
    "                unique_processed_paper_dict.values()\n",
    "            ),\n",
    "            total=len(unique_processed_paper_dict)\n",
    "        )\n",
    "    )\n"
   ]
  },
  {
   "cell_type": "code",
   "execution_count": 4,
   "metadata": {},
   "outputs": [],
   "source": [
    "BASE_URL = \"https://sci-hub.se/\"\n",
    "\n",
    "pdf_url_list = []\n",
    "filename_list = []\n",
    "\n",
    "pdf_url = 'http://example.com/somefile.pdf'  # Replace with your PDF URL\n",
    "filename = 'downloaded_file.pdf'  # The name you want to save your file as\n",
    "\n",
    "file_path = \"./contents/\"\n",
    "for paper in unique_processed_paper_dict.values() :\n",
    "    pdf_url = paper.url\n",
    "    if pdf_url is None :\n",
    "        continue\n",
    "    pdf_url_list.append(pdf_url)\n",
    "    \n",
    "    filename_list.append(os.path.join(\n",
    "        file_path,\n",
    "        paper.DOI.replace(\"/\", \"___\") + \".pdf\"\n",
    "    ))\n",
    "\n"
   ]
  },
  {
   "cell_type": "code",
   "execution_count": 6,
   "metadata": {},
   "outputs": [
    {
     "data": {
      "text/plain": [
       "10353"
      ]
     },
     "execution_count": 6,
     "metadata": {},
     "output_type": "execute_result"
    }
   ],
   "source": [
    "len(pdf_url_list)"
   ]
  },
  {
   "cell_type": "code",
   "execution_count": 9,
   "metadata": {},
   "outputs": [
    {
     "name": "stdout",
     "output_type": "stream",
     "text": [
      "Failed to download file: Invalid URL 'http:/downloads/2022-11-04/6b/16th-international-conference-on-soft-computing-models-in-indust-2022.pdf#navpanes=0&view=FitH': No host supplied\n",
      "Failed to download file: Invalid URL 'http:/downloads/2020-10-18/1a/zhang2020.pdf#navpanes=0&view=FitH': No host supplied\n",
      "Failed to download file: Invalid URL 'http:/tree/e7/f0/e7f0f689ea60f533385ef2a0519e3ae1.pdf#navpanes=0&view=FitH': No host supplied\n",
      "Failed to download file: Invalid URL 'http:/downloads/2019-01-24//1e/froz2017.pdf#navpanes=0&view=FitH': No host supplied\n",
      "Failed to download file: Invalid URL 'http:/uptodate/S2238785421008899.pdf#navpanes=0&view=FitH': No host supplied\n"
     ]
    },
    {
     "name": "stderr",
     "output_type": "stream",
     "text": [
      "  0%|          | 0/11877 [00:00<?, ?it/s]"
     ]
    },
    {
     "name": "stdout",
     "output_type": "stream",
     "text": [
      "Failed to download file: Invalid URL 'http:/downloads/2021-06-23/a1/jiang2021.pdf#navpanes=0&view=FitH': No host supplied\n",
      "Failed to download file: Invalid URL 'http:/downloads/2021-06-09/97/simo-serra2016.pdf#navpanes=0&view=FitH': No host supplied\n"
     ]
    },
    {
     "name": "stderr",
     "output_type": "stream",
     "text": [
      "  0%|          | 1/11877 [00:11<37:36:32, 11.40s/it]"
     ]
    },
    {
     "name": "stdout",
     "output_type": "stream",
     "text": [
      "Failed to download file: Invalid URL 'http:/downloads/2020-05-19/4c/10.1007@978-3-030-46640-4.pdf#navpanes=0&view=FitH': No host supplied\n",
      "Failed to download file: Invalid URL 'http:/downloads/2019-08-23/69/wei2019.pdf#navpanes=0&view=FitH': No host supplied\n",
      "Failed to download file: Invalid URL 'http:/downloads/2020-08-12/be/10.1137@19M1272822.pdf#navpanes=0&view=FitH': No host supplied\n",
      "Failed to download file: Invalid URL 'http:/downloads/2019-10-09/2d/yayla2019.pdf#navpanes=0&view=FitH': No host supplied\n",
      "Failed to download file: Invalid URL 'http:/downloads/2019-10-14/b5/xu2019.pdf#navpanes=0&view=FitH': No host supplied\n",
      "Failed to download file: Invalid URL 'http:/downloads/2020-05-31/7b/10.1007@s11263-020-01336-9.pdf#navpanes=0&view=FitH': No host supplied\n",
      "Failed to download file: Invalid URL 'http:/downloads/2021-06-09/04/pons-moll2017.pdf#navpanes=0&view=FitH': No host supplied\n",
      "Failed to download file: Invalid URL 'http:/downloads/2019-04-20/0c/10.1148@radiol.2019190613.pdf#navpanes=0&view=FitH': No host supplied\n",
      "Failed to download file: Invalid URL 'http:/downloads/2021-06-28/2e/zollmann2020.pdf#navpanes=0&view=FitH': No host supplied\n",
      "Failed to download file: Invalid URL 'http:/downloads/2021-06-01/db/wang2021.pdf#navpanes=0&view=FitH': No host supplied\n",
      "Failed to download file: Invalid URL 'http:/downloads/2019-01-01/40/10.1145@3272127.3275019.pdf#navpanes=0&view=FitH': No host supplied\n",
      "Failed to download file: Invalid URL 'http:/downloads/2021-06-09/6e/chen2017.pdf#navpanes=0&view=FitH': No host supplied\n",
      "Failed to download file: Invalid URL 'http:/downloads/2021-06-09/3a/campen2016.pdf#navpanes=0&view=FitH': No host supplied\n"
     ]
    },
    {
     "name": "stderr",
     "output_type": "stream",
     "text": [
      "  0%|          | 6/11877 [00:59<32:38:43,  9.90s/it]"
     ]
    },
    {
     "name": "stdout",
     "output_type": "stream",
     "text": [
      "Failed to download file: Invalid URL 'http:/downloads/2020-08-03/d7/10.1109@TPAMI.2020.3012548.pdf#navpanes=0&view=FitH': No host supplied\n",
      "Failed to download file: Invalid URL 'http:/downloads/2019-09-05/e3/10.1038@s42256-019-0087-3.pdf#navpanes=0&view=FitH': No host supplied\n",
      "Failed to download file: Invalid URL 'http:/tree/b0/8f/b08f37f654015298cade879e1951507d.pdf#navpanes=0&view=FitH': No host supplied\n",
      "Failed to download file: Invalid URL 'http:/downloads/2021-06-15/73/zibrek2019.pdf#navpanes=0&view=FitH': No host supplied\n",
      "Failed to download file: Invalid URL 'http:/downloads/2020-07-27/8a/sajjad2020.pdf#navpanes=0&view=FitH': No host supplied\n",
      "Failed to download file: Invalid URL 'http:/downloads/2020-01-21/f0/rainer2019.pdf#navpanes=0&view=FitH': No host supplied\n",
      "Failed to download file: Invalid URL 'http:/downloads/2020-01-13/26/wang2019.pdf#navpanes=0&view=FitH': No host supplied\n",
      "Failed to download file: Invalid URL 'http:/downloads/2019-01-05/db/i2016.pdf#navpanes=0&view=FitH': No host supplied\n",
      "Failed to download file: Invalid URL 'http:/downloads/2021-05-17/cf/sun2020.pdf#navpanes=0&view=FitH': No host supplied\n",
      "Failed to download file: Invalid URL 'http:/downloads/2019-07-18/70/recasens2018.pdf#navpanes=0&view=FitH': No host supplied\n",
      "Failed to download file: Invalid URL 'http:/downloads/2019-04-22/a9/zheng2018.pdf#navpanes=0&view=FitH': No host supplied\n",
      "Failed to download file: Invalid URL 'http:/downloads/2020-02-26/b4/cadoli1995.pdf#navpanes=0&view=FitH': No host supplied\n"
     ]
    },
    {
     "name": "stderr",
     "output_type": "stream",
     "text": [
      "  1%|          | 68/11877 [01:29<3:26:28,  1.05s/it]"
     ]
    },
    {
     "name": "stdout",
     "output_type": "stream",
     "text": [
      "Failed to download file: Invalid URL 'http:/downloads/2021-06-20/b5c5/zhou2021.pdf#navpanes=0&view=FitH': No host supplied\n",
      "Failed to download file: Invalid URL 'http:/downloads/2019-12-07/20/warstadt2019.pdf#navpanes=0&view=FitH': No host supplied\n",
      "Failed to download file: Invalid URL 'http:/downloads/2020-01-20/bd/marin2019.pdf#navpanes=0&view=FitH': No host supplied\n"
     ]
    },
    {
     "name": "stderr",
     "output_type": "stream",
     "text": [
      "  1%|          | 72/11877 [01:34<3:30:57,  1.07s/it]"
     ]
    },
    {
     "name": "stdout",
     "output_type": "stream",
     "text": [
      "Failed to download file: Invalid URL 'http:/downloads/2022-11-13/a1/xie2020.pdf#navpanes=0&view=FitH': No host supplied\n",
      "Failed to download file: Invalid URL 'http:/downloads/2020-10-10/54/tunyasuvunakool2020.pdf#navpanes=0&view=FitH': No host supplied\n",
      "Failed to download file: Invalid URL 'http:/downloads/2019-10-09/2d/yayla2019.pdf#navpanes=0&view=FitH': No host supplied\n",
      "Failed to download file: Invalid URL 'http:/downloads/2019-11-10/06/10.1016@j.cageo.2019.104344.pdf#navpanes=0&view=FitH': No host supplied\n",
      "Failed to download file: Invalid URL 'http:/downloads/2019-03-28/90/10.1145@3311970.pdf#navpanes=0&view=FitH': No host supplied\n",
      "Failed to download file: Invalid URL 'http:/downloads/2019-12-22/77/chen2019.pdf#navpanes=0&view=FitH': No host supplied\n",
      "Failed to download file: Invalid URL 'http:/downloads/2019-02-21/f2/10.1007@978-3-030-11021-521.pdf#navpanes=0&view=FitH': No host supplied\n",
      "Failed to download file: Invalid URL 'http:/downloads/2019-08-04/08/10.1109@TPAMI.2019.2926463.pdf#navpanes=0&view=FitH': No host supplied\n",
      "Failed to download file: Invalid URL 'http:/tree/f1/5c/f15c35c622a98c09728046bb751e797d.pdf#navpanes=0&view=FitH': No host supplied\n",
      "Failed to download file: Invalid URL 'http:/tree/7e/2b/7e2bd8f5e6f8a79acad7ff35d16fd905.pdf#navpanes=0&view=FitH': No host supplied\n"
     ]
    },
    {
     "name": "stderr",
     "output_type": "stream",
     "text": [
      "  2%|▏         | 242/11877 [02:12<1:01:58,  3.13it/s]"
     ]
    },
    {
     "name": "stdout",
     "output_type": "stream",
     "text": [
      "Failed to download file: Invalid URL 'http:/downloads/2019-08-05/55/10.1016@j.cad.2019.05.027.pdf#navpanes=0&view=FitH': No host supplied\n",
      "Failed to download file: Invalid URL 'http:/downloads/2019-11-19/f3/10.1007@978-3-030-36150-1.pdf#navpanes=0&view=FitH': No host supplied\n",
      "Failed to download file: Invalid URL 'http:/downloads/2019-01-29//0c/kumar2010.pdf#navpanes=0&view=FitH': No host supplied\n",
      "Failed to download file: Invalid URL 'http:/downloads/2021-06-11/f7/da2014.pdf#navpanes=0&view=FitH': No host supplied\n",
      "Failed to download file: Invalid URL 'http:/downloads/2020-04-18/ab/handa2012.pdf#navpanes=0&view=FitH': No host supplied\n",
      "Failed to download file: Invalid URL 'http:/downloads/2019-01-24//a4/10.1145@3292481.pdf#navpanes=0&view=FitH': No host supplied\n",
      "Failed to download file: Invalid URL 'http:/downloads/2021-06-15/d9/steed2020.pdf#navpanes=0&view=FitH': No host supplied\n",
      "Failed to download file: Invalid URL 'http:/downloads/2021-06-15/32/kelly2017.pdf#navpanes=0&view=FitH': No host supplied\n",
      "Failed to download file: Invalid URL 'http:/downloads/2019-08-29/58/danon2019.pdf#navpanes=0&view=FitH': No host supplied\n",
      "Failed to download file: Invalid URL 'http:/downloads/2019-10-12/0a/10.1007@978-3-030-32226-7.pdf#navpanes=0&view=FitH': No host supplied\n",
      "Failed to download file: Invalid URL 'http:/downloads/2021-06-17/1d/meka2020.pdf#navpanes=0&view=FitH': No host supplied\n",
      "Failed to download file: Invalid URL 'http:/downloads/2019-11-13/72/kho2019.pdf#navpanes=0&view=FitH': No host supplied\n"
     ]
    },
    {
     "name": "stderr",
     "output_type": "stream",
     "text": [
      "  2%|▏         | 242/11877 [02:31<1:01:58,  3.13it/s]"
     ]
    },
    {
     "name": "stdout",
     "output_type": "stream",
     "text": [
      "Failed to download file: Invalid URL 'http:/downloads/2021-06-14/94/wu2019.pdf#navpanes=0&view=FitH': No host supplied\n",
      "Failed to download file: Invalid URL 'http:/downloads/2020-06-05/a4/guo2020.pdf#navpanes=0&view=FitH': No host supplied\n",
      "Failed to download file: Invalid URL 'http:/downloads/2019-04-02/d4/lachinov2019.pdf#navpanes=0&view=FitH': No host supplied\n",
      "Failed to download file: Invalid URL 'http:/downloads/2021-05-18/da/sacco2021.pdf#navpanes=0&view=FitH': No host supplied\n",
      "Failed to download file: Invalid URL 'http:/downloads/2021-07-02/19/zhang2021.pdf#navpanes=0&view=FitH': No host supplied\n",
      "Failed to download file: Invalid URL 'http:/tree/3f/42/3f423b1f9257ac58eaa09ed2369fab99.pdf#navpanes=0&view=FitH': No host supplied\n",
      "Failed to download file: Invalid URL 'http:/downloads/2019-11-16/02/sharmin2019.pdf#navpanes=0&view=FitH': No host supplied\n",
      "Failed to download file: Invalid URL 'http:/downloads/2019-09-01/73/fried2019.pdf#navpanes=0&view=FitH': No host supplied\n",
      "Failed to download file: Invalid URL 'http:/downloads/2020-12-01/33/ha2020.pdf#navpanes=0&view=FitH': No host supplied\n",
      "Failed to download file: Invalid URL 'http:/tree/48/9d/489df40fd4d69fa81b24ef0ec9fd4ebe.pdf#navpanes=0&view=FitH': No host supplied\n",
      "Failed to download file: Invalid URL 'http:/downloads/2019-01-23//0d/pauly2010.pdf#navpanes=0&view=FitH': No host supplied\n"
     ]
    },
    {
     "name": "stderr",
     "output_type": "stream",
     "text": [
      "  3%|▎         | 315/11877 [03:07<1:33:18,  2.07it/s]"
     ]
    },
    {
     "name": "stdout",
     "output_type": "stream",
     "text": [
      "Failed to download file: Invalid URL 'http:/downloads/2020-07-13/32/zhu2020.pdf#navpanes=0&view=FitH': No host supplied\n",
      "Failed to download file: Invalid URL 'http:/downloads/2020-07-04/6d/iqbal2016.pdf#navpanes=0&view=FitH': No host supplied\n",
      "Failed to download file: Invalid URL 'http:/downloads/2021-06-15/24/chen2020.pdf#navpanes=0&view=FitH': No host supplied\n",
      "Failed to download file: Invalid URL 'http:/downloads/2019-02-27/d2/bianchi2004.pdf#navpanes=0&view=FitH': No host supplied\n",
      "Failed to download file: Invalid URL 'http:/downloads/2022-11-09/51/yu2021.pdf#navpanes=0&view=FitH': No host supplied\n",
      "Failed to download file: Invalid URL 'http:/downloads/2019-08-26/f5/gao2019.pdf#navpanes=0&view=FitH': No host supplied\n"
     ]
    },
    {
     "name": "stderr",
     "output_type": "stream",
     "text": [
      "  4%|▎         | 419/11877 [03:18<1:00:47,  3.14it/s]"
     ]
    },
    {
     "name": "stdout",
     "output_type": "stream",
     "text": [
      "Failed to download file: Invalid URL 'http:/downloads/2020-05-20/4f/liu2020.pdf#navpanes=0&view=FitH': No host supplied\n",
      "Failed to download file: Invalid URL 'http:/downloads/2019-01-07/96/preston2012.pdf#navpanes=0&view=FitH': No host supplied\n",
      "Failed to download file: Invalid URL 'http:/downloads/2022-11-08/b1/gulec2022.pdf#navpanes=0&view=FitH': No host supplied\n",
      "Failed to download file: Invalid URL 'http:/downloads/2020-10-25/f6/rossignac2003.pdf#navpanes=0&view=FitH': No host supplied\n",
      "Failed to download file: Invalid URL 'http:/uptodate/S138589472102739X.pdf#navpanes=0&view=FitH': No host supplied\n"
     ]
    },
    {
     "name": "stderr",
     "output_type": "stream",
     "text": [
      "  4%|▍         | 457/11877 [03:36<1:06:02,  2.88it/s]"
     ]
    },
    {
     "name": "stdout",
     "output_type": "stream",
     "text": [
      "Failed to download file: Invalid URL 'http:/downloads/2020-10-11/fc/10.1371@journal.pone.0240502.pdf#navpanes=0&view=FitH': No host supplied\n",
      "Failed to download file: Invalid URL 'http:/downloads/2020-01-18/08/10.1513@AnnalsATS.201910-801PS.pdf#navpanes=0&view=FitH': No host supplied\n",
      "Failed to download file: Invalid URL 'http:/downloads/2020-01-19/01/10.1063@1.5124027.pdf#navpanes=0&view=FitH': No host supplied\n",
      "Failed to download file: Invalid URL 'http:/downloads/2021-06-09/c3/tampubolon2017.pdf#navpanes=0&view=FitH': No host supplied\n",
      "Failed to download file: Invalid URL 'http:/downloads/2019-11-28/88/10.1016@j.rse.2019.111322.pdf#navpanes=0&view=FitH': No host supplied\n",
      "Failed to download file: Invalid URL 'http:/downloads/2019-10-04/9b/zhou2019.pdf#navpanes=0&view=FitH': No host supplied\n",
      "Failed to download file: Invalid URL 'http:/downloads/2019-09-25/ba/bodini2019.pdf#navpanes=0&view=FitH': No host supplied\n",
      "Failed to download file: Invalid URL 'http:/downloads/2021-06-16/8f/kim2020.pdf#navpanes=0&view=FitH': No host supplied\n",
      "Failed to download file: Invalid URL 'http:/downloads/2021-06-15/b1/10.1145@3072959.3073660.pdf#navpanes=0&view=FitH': No host supplied\n",
      "Failed to download file: Invalid URL 'http:/downloads/2020-08-03/d7/10.1109@TPAMI.2020.3012548.pdf#navpanes=0&view=FitH': No host supplied\n",
      "Failed to download file: Invalid URL 'http:/downloads/2021-08-11/fb/lombardi2021.pdf#navpanes=0&view=FitH': No host supplied\n",
      "Failed to download file: Invalid URL 'http:/downloads/2019-10-22/da/10.1016@j.neuroimage.2019.116266.pdf#navpanes=0&view=FitH': No host supplied\n",
      "Failed to download file: Invalid URL 'http:/downloads/2020-06-22//7e/10.1002@adma.202003134.pdf#navpanes=0&view=FitH': No host supplied\n",
      "Failed to download file: Invalid URL 'http:/downloads/2019-08-12/8a/10.1609@aaai.v33i01.33019038.pdf#navpanes=0&view=FitH': No host supplied\n",
      "Failed to download file: Invalid URL 'http:/downloads/2020-08-14/83/10.1186@s12888-020-02707-9.pdf#navpanes=0&view=FitH': No host supplied\n",
      "Failed to download file: Invalid URL 'http:/downloads/2020-07-30/12/zhou2020.pdf#navpanes=0&view=FitH': No host supplied\n",
      "Failed to download file: Invalid URL 'http:/downloads/2020-05-25/0b/jalender2012.pdf#navpanes=0&view=FitH': No host supplied\n",
      "Failed to download file: Invalid URL 'http:/downloads/2021-06-15/72/lin2020.pdf#navpanes=0&view=FitH': No host supplied\n",
      "Failed to download file: Invalid URL 'http:/downloads/2020-05-29/ae/zhou2020.pdf#navpanes=0&view=FitH': No host supplied\n",
      "Failed to download file: Invalid URL 'http:/downloads/2019-07-22/a6/10.1145@3306346.3323011.pdf#navpanes=0&view=FitH': No host supplied\n",
      "Failed to download file: Invalid URL 'http:/downloads/2022-11-07/e1/kubo2021.pdf#navpanes=0&view=FitH': No host supplied\n",
      "Failed to download file: Invalid URL 'http:/downloads/2021-06-10/7e/nitzan2020.pdf#navpanes=0&view=FitH': No host supplied\n",
      "Failed to download file: Invalid URL 'http:/downloads/2019-04-04/c7/hang2019.pdf#navpanes=0&view=FitH': No host supplied\n",
      "Failed to download file: Invalid URL 'http:/downloads/2019-10-21/91/liu2018.pdf#navpanes=0&view=FitH': No host supplied\n",
      "Failed to download file: Invalid URL 'http:/downloads/2019-10-15/18/li2020.pdf#navpanes=0&view=FitH': No host supplied\n",
      "Failed to download file: Invalid URL 'http:/downloads/2019-07-24/4f/10.1016@j.image.2019.06.012.pdf#navpanes=0&view=FitH': No host supplied\n",
      "Failed to download file: Invalid URL 'http:/downloads/2020-07-11/c1/oranges2020.pdf#navpanes=0&view=FitH': No host supplied\n",
      "Failed to download file: Invalid URL 'http:/downloads/2019-07-25/8f/10.1145@3306346.3323020.pdf#navpanes=0&view=FitH': No host supplied\n",
      "Failed to download file: Invalid URL 'http:/tree/79/37/793721a363f663e66e3fa763c991ee10.pdf#navpanes=0&view=FitH': No host supplied\n",
      "Failed to download file: Invalid URL 'http:/downloads/2019-01-26//16/10.1007@978-3-030-11015-425.pdf#navpanes=0&view=FitH': No host supplied\n",
      "Failed to download file: Invalid URL 'http:/downloads/2019-01-01/de/10.1145@3272127.3275028.pdf#navpanes=0&view=FitH': No host supplied\n",
      "Failed to download file: Invalid URL 'http:/tree/0b/6f/0b6f49846ec66bb5917590e33cfabf25.pdf#navpanes=0&view=FitH': No host supplied\n",
      "Failed to download file: Invalid URL 'http:/downloads/2019-03-10/c9/10.1007@s10462-019-09694-8.pdf#navpanes=0&view=FitH': No host supplied\n",
      "Failed to download file: Invalid URL 'http:/downloads/2021-06-20/0e/yao2021.pdf#navpanes=0&view=FitH': No host supplied\n",
      "Failed to download file: Invalid URL 'http:/downloads/2020-05-24/43/kobyzev2020.pdf#navpanes=0&view=FitH': No host supplied\n",
      "Failed to download file: Invalid URL 'http:/downloads/2021-07-03/c5/zhang2021.pdf#navpanes=0&view=FitH': No host supplied\n",
      "Failed to download file: Invalid URL 'http:/downloads/2019-07-20/20/10.1109@TIP.2019.2921882.pdf#navpanes=0&view=FitH': No host supplied\n",
      "Failed to download file: Invalid URL 'http:/downloads/2020-09-01/53/yang2018.pdf#navpanes=0&view=FitH': No host supplied\n",
      "Failed to download file: Invalid URL 'http:/downloads/2019-09-02/fd/10.1007@s00259-019-04502-5.pdf#navpanes=0&view=FitH': No host supplied\n",
      "Failed to download file: Invalid URL 'http:/downloads/2020-12-08/34/beunza2007.pdf#navpanes=0&view=FitH': No host supplied\n",
      "Failed to download file: Invalid URL 'http:/downloads/2019-02-07/ec/ahn2015.pdf#navpanes=0&view=FitH': No host supplied\n",
      "Failed to download file: Invalid URL 'http:/downloads/2019-08-04/dc/10.1007@s00371-019-01673-y.pdf#navpanes=0&view=FitH': No host supplied\n"
     ]
    },
    {
     "name": "stderr",
     "output_type": "stream",
     "text": [
      "  4%|▍         | 463/11877 [05:23<3:20:38,  1.05s/it]"
     ]
    },
    {
     "name": "stdout",
     "output_type": "stream",
     "text": [
      "Failed to download file: Invalid URL 'http:/downloads/2020-07-06/04/10.1017@S0033291720002056.pdf#navpanes=0&view=FitH': No host supplied\n",
      "Failed to download file: Invalid URL 'http:/downloads/2020-12-10/ee/10.1016@j.ymthe.2020.12.008.pdf#navpanes=0&view=FitH': No host supplied\n",
      "Failed to download file: Invalid URL 'http:/downloads/2021-05-18/2b/masood2021.pdf#navpanes=0&view=FitH': No host supplied\n"
     ]
    },
    {
     "name": "stderr",
     "output_type": "stream",
     "text": [
      "  7%|▋         | 794/11877 [05:25<47:19,  3.90it/s]  "
     ]
    },
    {
     "name": "stdout",
     "output_type": "stream",
     "text": [
      "Failed to download file: Invalid URL 'http:/downloads/2021-08-11/db38/pinto2021.pdf#navpanes=0&view=FitH': No host supplied\n",
      "Failed to download file: Invalid URL 'http:/downloads/2020-03-14/db/10.1007@s11263-020-01316-z.pdf#navpanes=0&view=FitH': No host supplied\n",
      "Failed to download file: Invalid URL 'http:/downloads/2020-02-04/06/glazebrook2005.pdf#navpanes=0&view=FitH': No host supplied\n",
      "Failed to download file: Invalid URL 'http:/downloads/2022-11-17/86/apostolidis2021.pdf#navpanes=0&view=FitH': No host supplied\n"
     ]
    },
    {
     "name": "stderr",
     "output_type": "stream",
     "text": [
      "  7%|▋         | 805/11877 [05:29<47:56,  3.85it/s]"
     ]
    },
    {
     "name": "stdout",
     "output_type": "stream",
     "text": [
      "Failed to download file: Invalid URL 'http:/downloads/2019-04-06/75/10.1145@3292482.pdf#navpanes=0&view=FitH': No host supplied\n",
      "Failed to download file: Invalid URL 'http:/downloads/2022-11-05/0a/medical-image-computing-and-computer-assisted-intervention--micc-2021.pdf#navpanes=0&view=FitH': No host supplied\n",
      "Failed to download file: Invalid URL 'http:/downloads/2020-07-22/01/10.1109@TVCG.2020.3010088.pdf#navpanes=0&view=FitH': No host supplied\n"
     ]
    },
    {
     "name": "stderr",
     "output_type": "stream",
     "text": [
      "  7%|▋         | 882/11877 [05:39<40:33,  4.52it/s]"
     ]
    },
    {
     "name": "stdout",
     "output_type": "stream",
     "text": [
      "Failed to download file: Invalid URL 'http:/tree/10/b2/10b2d489d7ae8db71eb641c4d0331cfe.pdf#navpanes=0&view=FitH': No host supplied\n",
      "Failed to download file: Invalid URL 'http:/downloads/2020-07-04/e4/peng2020.pdf#navpanes=0&view=FitH': No host supplied\n",
      "Failed to download file: Invalid URL 'http:/downloads/2020-04-24/98/ilyas2019.pdf#navpanes=0&view=FitH': No host supplied\n",
      "Failed to download file: Invalid URL 'http:/downloads/2020-07-10/76/10.1038@s41565-020-0724-3.pdf#navpanes=0&view=FitH': No host supplied\n",
      "Failed to download file: Invalid URL 'http:/downloads/2019-07-22/29/ordonez2014.pdf#navpanes=0&view=FitH': No host supplied\n",
      "Failed to download file: Invalid URL 'http:/downloads/2019-04-18/89/10.1093@bioinformatics@btz266.pdf#navpanes=0&view=FitH': No host supplied\n"
     ]
    },
    {
     "name": "stderr",
     "output_type": "stream",
     "text": [
      "  7%|▋         | 885/11877 [05:52<54:28,  3.36it/s]"
     ]
    },
    {
     "name": "stdout",
     "output_type": "stream",
     "text": [
      "Failed to download file: Invalid URL 'http:/downloads/2019-07-25/9e/10.1111@cgf.13654.pdf#navpanes=0&view=FitH': No host supplied\n",
      "Failed to download file: Invalid URL 'http:/downloads/2021-06-13/13/zhao2018.pdf#navpanes=0&view=FitH': No host supplied\n",
      "Failed to download file: Invalid URL 'http:/downloads/2021-08-11/5a/bi2021.pdf#navpanes=0&view=FitH': No host supplied\n",
      "Failed to download file: Invalid URL 'http:/downloads/2019-12-07/8e/han2019.pdf#navpanes=0&view=FitH': No host supplied\n",
      "Failed to download file: Invalid URL 'http:/downloads/2019-03-18/82/10.1109@ACCESS.2019.2896779.pdf#navpanes=0&view=FitH': No host supplied\n",
      "Failed to download file: Invalid URL 'http:/downloads/2019-03-28/9e/10.1126@scirobotics.aaw0863.pdf#navpanes=0&view=FitH': No host supplied\n",
      "Failed to download file: Invalid URL 'http:/downloads/2019-03-08/08/10.1007@s13593-019-0562-6.pdf#navpanes=0&view=FitH': No host supplied\n",
      "Failed to download file: Invalid URL 'http:/downloads/2020-11-04/ca/jiang2020.pdf#navpanes=0&view=FitH': No host supplied\n",
      "Failed to download file: Invalid URL 'http:/downloads/2020-11-01/fb/lang2012.pdf#navpanes=0&view=FitH': No host supplied\n",
      "Failed to download file: Invalid URL 'http:/downloads/2019-01-08/c2/dyke1996.pdf#navpanes=0&view=FitH': No host supplied\n",
      "Failed to download file: Invalid URL 'http:/downloads/2019-01-24//01/10.1109@TPAMI.2019.2894353.pdf#navpanes=0&view=FitH': No host supplied\n",
      "Failed to download file: Invalid URL 'http:/downloads/2020-09-02/6e/10.1073@pnas.1907375117.pdf#navpanes=0&view=FitH': No host supplied\n",
      "Failed to download file: Invalid URL 'http:/downloads/2022-11-05/35/ding2022.pdf#navpanes=0&view=FitH': No host supplied\n",
      "Failed to download file: Invalid URL 'http:/downloads/2020-11-04/ef/bai2011.pdf#navpanes=0&view=FitH': No host supplied\n",
      "Failed to download file: Invalid URL 'http:/downloads/2019-10-12/d4/orlando2019.pdf#navpanes=0&view=FitH': No host supplied\n",
      "Failed to download file: Invalid URL 'http:/downloads/2019-01-28//d5/10.1109@JTEHM.2019.2893223.pdf#navpanes=0&view=FitH': No host supplied\n",
      "Failed to download file: Invalid URL 'http:/downloads/2021-08-09/17/sakkos2021.pdf#navpanes=0&view=FitH': No host supplied\n"
     ]
    },
    {
     "name": "stderr",
     "output_type": "stream",
     "text": [
      "  7%|▋         | 885/11877 [06:11<54:28,  3.36it/s]"
     ]
    },
    {
     "name": "stdout",
     "output_type": "stream",
     "text": [
      "Failed to download file: Invalid URL 'http:/downloads/2020-11-18/fc/10.3390@mi11110997.pdf#navpanes=0&view=FitH': No host supplied\n",
      "Failed to download file: Invalid URL 'http:/downloads/2019-07-18/05/10.1016@j.jnca.2019.06.018.pdf#navpanes=0&view=FitH': No host supplied\n",
      "Failed to download file: Invalid URL 'http:/downloads/2019-01-21//7f/wang2018.pdf#navpanes=0&view=FitH': No host supplied\n",
      "Failed to download file: Invalid URL 'http:/downloads/2019-08-02/c3/10.1145@3306346.3322958.pdf#navpanes=0&view=FitH': No host supplied\n",
      "Failed to download file: Invalid URL 'http:/downloads/2022-11-04/e9/melo2022.pdf#navpanes=0&view=FitH': No host supplied\n",
      "Failed to download file: Invalid URL 'http:/downloads/2021-05-29/ba/jain2021.pdf#navpanes=0&view=FitH': No host supplied\n",
      "Failed to download file: Invalid URL 'http:/downloads/2020-09-03/79/rajpurkar2018.pdf#navpanes=0&view=FitH': No host supplied\n",
      "Failed to download file: Invalid URL 'http:/downloads/2019-10-10/b4/10.1007@978-3-030-32245-8.pdf#navpanes=0&view=FitH': No host supplied\n",
      "Failed to download file: Invalid URL 'http:/downloads/2020-01-25/9e2d/10.1007@s13735-019-00190-x.pdf#navpanes=0&view=FitH': No host supplied\n",
      "Failed to download file: Invalid URL 'http:/tree/1e/6f/1e6f5a162098eeb1364601d2d6fbdcb8.pdf#navpanes=0&view=FitH': No host supplied\n",
      "Failed to download file: Invalid URL 'http:/downloads/2021-06-09/0d/li2017.pdf#navpanes=0&view=FitH': No host supplied\n",
      "Failed to download file: Invalid URL 'http:/downloads/2020-02-08/3b/10.1007@s11263-019-01284-z.pdf#navpanes=0&view=FitH': No host supplied\n",
      "Failed to download file: Invalid URL 'http:/downloads/2019-10-21/fc/coeurjolly2001.pdf#navpanes=0&view=FitH': No host supplied\n",
      "Failed to download file: Invalid URL 'http:/downloads/2020-01-17/8e/10.3390@biomedicines8010007.pdf#navpanes=0&view=FitH': No host supplied\n",
      "Failed to download file: Invalid URL 'http:/downloads/2019-11-10/39/luo2019.pdf#navpanes=0&view=FitH': No host supplied\n",
      "Failed to download file: Invalid URL 'http:/downloads/2019-03-17/3e/10.1186@s12931-019-1022-1.pdf#navpanes=0&view=FitH': No host supplied\n",
      "Failed to download file: Invalid URL 'http:/downloads/2019-01-07/f2/li2018.pdf#navpanes=0&view=FitH': No host supplied\n",
      "Failed to download file: Invalid URL 'http:/downloads/2019-08-27/55/10.1109@TVCG.2019.2934307.pdf#navpanes=0&view=FitH': No host supplied\n",
      "Failed to download file: Invalid URL 'http:/downloads/2021-05-25/5e/o4mortality-and-pulmonary-complications-in-patients-undergoing-s-2021.pdf#navpanes=0&view=FitH': No host supplied\n",
      "Failed to download file: Invalid URL 'http:/tree/05/0d/050db1d086550fcea3fb1b2c337b6c27.pdf#navpanes=0&view=FitH': No host supplied\n",
      "Failed to download file: Invalid URL 'http:/downloads/2019-07-25/96/10.1145@3306346.3322995.pdf#navpanes=0&view=FitH': No host supplied\n",
      "Failed to download file: Invalid URL 'http:/downloads/2020-01-20/61/liu2019.pdf#navpanes=0&view=FitH': No host supplied\n",
      "Failed to download file: Invalid URL 'http:/downloads/2020-10-18/04/depace2020.pdf#navpanes=0&view=FitH': No host supplied\n",
      "Failed to download file: Invalid URL 'http:/downloads/2019-01-01/19/10.3389@fpsyg.2018.02638.pdf#navpanes=0&view=FitH': No host supplied\n",
      "Failed to download file: Invalid URL 'http:/downloads/2019-11-25/85/iizuka2019.pdf#navpanes=0&view=FitH': No host supplied\n",
      "Failed to download file: Invalid URL 'http:/downloads/2022-11-04/af/colchicine-in-patients-admitted-to-hospital-with-covid19-recover-2021.pdf#navpanes=0&view=FitH': No host supplied\n",
      "Failed to download file: Invalid URL 'http:/downloads/2020-06-22//ef/fu2014.pdf#navpanes=0&view=FitH': No host supplied\n",
      "Failed to download file: Invalid URL 'http:/downloads/2019-02-12/7c/10.1007@s11263-018-01144-2.pdf#navpanes=0&view=FitH': No host supplied\n",
      "Failed to download file: Invalid URL 'http:/downloads/2019-01-16//10/badano2018.pdf#navpanes=0&view=FitH': No host supplied\n",
      "Failed to download file: Invalid URL 'http:/downloads/2022-11-09/a7f1/liu2022.pdf#navpanes=0&view=FitH': No host supplied\n",
      "Failed to download file: Invalid URL 'http:/tree/19/be/19bec2995967e8f25234b48401c400a8.pdf#navpanes=0&view=FitH': No host supplied\n",
      "Failed to download file: Invalid URL 'http:/downloads/2019-07-21/6d/10.1007@s00371-019-01701-x.pdf#navpanes=0&view=FitH': No host supplied\n",
      "Failed to download file: Invalid URL 'http:/downloads/2020-12-24/fe/10.1007@s11263-020-01393-0.pdf#navpanes=0&view=FitH': No host supplied\n",
      "Failed to download file: Invalid URL 'http:/downloads/2020-08-19/b2/liu2020.pdf#navpanes=0&view=FitH': No host supplied\n",
      "Failed to download file: Invalid URL 'http:/downloads/2020-11-12/e8/biener2020.pdf#navpanes=0&view=FitH': No host supplied\n",
      "Failed to download file: Invalid URL 'http:/tree/7e/2b/7e2bd8f5e6f8a79acad7ff35d16fd905.pdf#navpanes=0&view=FitH': No host supplied\n",
      "Failed to download file: Invalid URL 'http:/tree/49/76/497646538b44f1a47cd851786ad295fa.pdf#navpanes=0&view=FitH': No host supplied\n",
      "Failed to download file: Invalid URL 'http:/downloads/2019-02-27/36/jeon2004.pdf#navpanes=0&view=FitH': No host supplied\n",
      "Failed to download file: Invalid URL 'http:/downloads/2019-02-06/d6/10.1145@3295748.pdf#navpanes=0&view=FitH': No host supplied\n",
      "Failed to download file: Invalid URL 'http:/downloads/2021-06-02/12/kulhanek2021.pdf#navpanes=0&view=FitH': No host supplied\n",
      "Failed to download file: Invalid URL 'http:/downloads/2019-11-20/9c/le2019.pdf#navpanes=0&view=FitH': No host supplied\n",
      "Failed to download file: Invalid URL 'http:/downloads/2020-12-24/49/10.3389@fmed.2020.608525.pdf#navpanes=0&view=FitH': No host supplied\n",
      "Failed to download file: Invalid URL 'http:/downloads/2019-01-10/ec/li2015.pdf#navpanes=0&view=FitH': No host supplied\n",
      "Failed to download file: Invalid URL 'http:/downloads/2019-08-27/05/huang2019.pdf#navpanes=0&view=FitH': No host supplied\n",
      "Failed to download file: Invalid URL 'http:/downloads/2020-04-25/62/10.1016@S1473-30992030273-5.pdf#navpanes=0&view=FitH': No host supplied\n",
      "Failed to download file: Invalid URL 'http:/downloads/2019-08-06/81/10.1109@TVCG.2019.2931299.pdf#navpanes=0&view=FitH': No host supplied\n",
      "Failed to download file: Invalid URL 'http:/downloads/2020-07-04/78/10.1109@LRA.2020.3004787.pdf#navpanes=0&view=FitH': No host supplied\n",
      "Failed to download file: Invalid URL 'http:/downloads/2021-06-10/52/raymond2016.pdf#navpanes=0&view=FitH': No host supplied\n",
      "Failed to download file: Invalid URL 'http:/downloads/2019-11-20/a3/loubet2019.pdf#navpanes=0&view=FitH': No host supplied\n",
      "Failed to download file: Invalid URL 'http:/downloads/2020-07-20/d1/10.1111@cgf.14021.pdf#navpanes=0&view=FitH': No host supplied\n",
      "Failed to download file: Invalid URL 'http:/downloads/2021-08-11/334c/xu2021.pdf#navpanes=0&view=FitH': No host supplied\n",
      "Failed to download file: Invalid URL 'http:/tree/d5/5e/d55e2fc2b272eba3ea7fe2ca89462c30.pdf#navpanes=0&view=FitH': No host supplied\n",
      "Failed to download file: Invalid URL 'http:/downloads/2021-05-28/da/pham2021.pdf#navpanes=0&view=FitH': No host supplied\n",
      "Failed to download file: Invalid URL 'http:/downloads/2022-11-05/7c13/chen2022.pdf#navpanes=0&view=FitH': No host supplied\n",
      "Failed to download file: Invalid URL 'http:/downloads/2020-07-23/0d/liu2020.pdf#navpanes=0&view=FitH': No host supplied\n",
      "Failed to download file: Invalid URL 'http:/tree/40/c0/40c0083975f802dc4e4dc503255edba3.pdf#navpanes=0&view=FitH': No host supplied\n",
      "Failed to download file: Invalid URL 'http:/downloads/2019-10-06/27/mardani2019.pdf#navpanes=0&view=FitH': No host supplied\n"
     ]
    },
    {
     "name": "stderr",
     "output_type": "stream",
     "text": [
      "  7%|▋         | 889/11877 [07:50<5:20:07,  1.75s/it]"
     ]
    },
    {
     "name": "stdout",
     "output_type": "stream",
     "text": [
      "Failed to download file: Invalid URL 'http:/downloads/2019-02-21/00/10.1016@j.robot.2019.01.020.pdf#navpanes=0&view=FitH': No host supplied\n",
      "Failed to download file: Invalid URL 'http:/downloads/2020-02-04/4f/10.1016@j.cviu.2020.102907.pdf#navpanes=0&view=FitH': No host supplied\n",
      "Failed to download file: Invalid URL 'http:/tree/22/7b/227ba852d37d6fe9df49687d8fab55e6.pdf#navpanes=0&view=FitH': No host supplied\n",
      "Failed to download file: Invalid URL 'http:/downloads/2019-04-24/e0/ranjan2018.pdf#navpanes=0&view=FitH': No host supplied\n",
      "Failed to download file: Invalid URL 'http:/tree/c0/ad/c0ad34068083909584595d44081d3741.pdf#navpanes=0&view=FitH': No host supplied\n",
      "Failed to download file: Invalid URL 'http:/downloads/2022-11-14/cc/kumchaiseemak2022.pdf#navpanes=0&view=FitH': No host supplied\n",
      "Failed to download file: Invalid URL 'http:/downloads/2021-05-29/58/wu2021.pdf#navpanes=0&view=FitH': No host supplied\n",
      "Failed to download file: Invalid URL 'http:/downloads/2019-08-02/9b/10.1145@3306346.3322999.pdf#navpanes=0&view=FitH': No host supplied\n",
      "Failed to download file: Invalid URL 'http:/downloads/2021-08-12/93/cao2021.pdf#navpanes=0&view=FitH': No host supplied\n",
      "Failed to download file: Invalid URL 'http:/downloads/2021-06-14/ae/riviere2017.pdf#navpanes=0&view=FitH': No host supplied\n",
      "Failed to download file: Invalid URL 'http:/downloads/2019-07-17/9b/10.1016@j.neunet.2019.04.024.pdf#navpanes=0&view=FitH': No host supplied\n",
      "Failed to download file: Invalid URL 'http:/downloads/2019-01-21//da/dong2018.pdf#navpanes=0&view=FitH': No host supplied\n",
      "Failed to download file: Invalid URL 'http:/downloads/2020-10-11/97/silvin2020.pdf#navpanes=0&view=FitH': No host supplied\n",
      "Failed to download file: Invalid URL 'http:/downloads/2020-06-16//b9/10.1016@j.measurement.2020.108071.pdf#navpanes=0&view=FitH': No host supplied\n",
      "Failed to download file: Invalid URL 'http:/downloads/2019-09-08/92/he2019.pdf#navpanes=0&view=FitH': No host supplied\n",
      "Failed to download file: Invalid URL 'http:/downloads/2019-10-14/1f/luo2019.pdf#navpanes=0&view=FitH': No host supplied\n",
      "Failed to download file: Invalid URL 'http:/downloads/2019-07-20/44/10.1002@mp.13674.pdf#navpanes=0&view=FitH': No host supplied\n",
      "Failed to download file: Invalid URL 'http:/downloads/2019-01-03/d8/10.1016@S0195-63100624005-5.pdf#navpanes=0&view=FitH': No host supplied\n",
      "Failed to download file: Invalid URL 'http:/downloads/2019-08-21/fb/bouaicha2019.pdf#navpanes=0&view=FitH': No host supplied\n",
      "Failed to download file: Invalid URL 'http:/tree/75/b1/75b10164cc550f65460c8def8b38a7a1.pdf#navpanes=0&view=FitH': No host supplied\n",
      "Failed to download file: Invalid URL 'http:/downloads/2022-11-17/f6/hao2022.pdf#navpanes=0&view=FitH': No host supplied\n",
      "Failed to download file: Invalid URL 'http:/downloads/2020-10-20//62/liu2021.pdf#navpanes=0&view=FitH': No host supplied\n",
      "Failed to download file: Invalid URL 'http:/downloads/2021-06-10/b7/gao2019.pdf#navpanes=0&view=FitH': No host supplied\n",
      "Failed to download file: Invalid URL 'http:/downloads/2019-01-29//42/herout2010.pdf#navpanes=0&view=FitH': No host supplied\n",
      "Failed to download file: Invalid URL 'http:/downloads/2019-03-20/c8/10.1002@advs.201900090.pdf#navpanes=0&view=FitH': No host supplied\n",
      "Failed to download file: Invalid URL 'http:/downloads/2020-02-29/47/jiang2019.pdf#navpanes=0&view=FitH': No host supplied\n",
      "Failed to download file: Invalid URL 'http:/downloads/2020-01-10/94/stotko2019.pdf#navpanes=0&view=FitH': No host supplied\n",
      "Failed to download file: Invalid URL 'http:/downloads/2019-03-14/6a/zhan2018.pdf#navpanes=0&view=FitH': No host supplied\n",
      "Failed to download file: Invalid URL 'http:/downloads/2019-07-23/3f/10.1186@s12911-019-0842-8.pdf#navpanes=0&view=FitH': No host supplied\n",
      "Failed to download file: Invalid URL 'http:/downloads/2021-08-11/b6/yasin2021.pdf#navpanes=0&view=FitH': No host supplied\n",
      "Failed to download file: Invalid URL 'http:/downloads/2019-12-19/58/10.1126@scitranslmed.aay7162.pdf#navpanes=0&view=FitH': No host supplied\n",
      "Failed to download file: Invalid URL 'http:/downloads/2021-06-09/a5/palmer2020.pdf#navpanes=0&view=FitH': No host supplied\n",
      "Failed to download file: Invalid URL 'http:/downloads/2019-02-25/3d/soler2018.pdf#navpanes=0&view=FitH': No host supplied\n",
      "Failed to download file: Invalid URL 'http:/downloads/2019-03-26/0a/cao2018.pdf#navpanes=0&view=FitH': No host supplied\n",
      "Failed to download file: Invalid URL 'http:/downloads/2020-11-04/99/zou2020.pdf#navpanes=0&view=FitH': No host supplied\n",
      "Failed to download file: Invalid URL 'http:/tree/77/42/77423d206be3995d53d29db456150308.pdf#navpanes=0&view=FitH': No host supplied\n",
      "Failed to download file: Invalid URL 'http:/downloads/2019-02-23/da/jiao2018.pdf#navpanes=0&view=FitH': No host supplied\n",
      "Failed to download file: Invalid URL 'http:/downloads/2020-09-08/c2/10.3390@rs12172719.pdf#navpanes=0&view=FitH': No host supplied\n",
      "Failed to download file: Invalid URL 'http:/downloads/2021-06-09/b3/hu2019.pdf#navpanes=0&view=FitH': No host supplied\n",
      "Failed to download file: Invalid URL 'http:/downloads/2020-04-11/c3/10.1109@TIP.2020.2984098.pdf#navpanes=0&view=FitH': No host supplied\n",
      "Failed to download file: Invalid URL 'http:/downloads/2020-02-26/a8/cadoli1997.pdf#navpanes=0&view=FitH': No host supplied\n",
      "Failed to download file: Invalid URL 'http:/downloads/2021-06-15/2a81/hu2020.pdf#navpanes=0&view=FitH': No host supplied\n"
     ]
    },
    {
     "name": "stderr",
     "output_type": "stream",
     "text": [
      " 11%|█         | 1317/11877 [09:21<1:08:50,  2.56it/s]"
     ]
    },
    {
     "name": "stdout",
     "output_type": "stream",
     "text": [
      "Failed to download file: Invalid URL 'http:/downloads/2019-01-19//c5/luo2018.pdf#navpanes=0&view=FitH': No host supplied\n",
      "Failed to download file: Invalid URL 'http:/downloads/2019-01-18//57/sui2017.pdf#navpanes=0&view=FitH': No host supplied\n",
      "Failed to download file: Invalid URL 'http:/downloads/2021-06-20/fa/haque2021.pdf#navpanes=0&view=FitH': No host supplied\n",
      "Failed to download file: Invalid URL 'http:/downloads/2022-11-08/2e/pelechano2008.pdf#navpanes=0&view=FitH': No host supplied\n",
      "Failed to download file: Invalid URL 'http:/downloads/2019-03-30/7d/calian2018.pdf#navpanes=0&view=FitH': No host supplied\n",
      "Failed to download file: Invalid URL 'http:/downloads/2021-05-24/bf51/zhao2021.pdf#navpanes=0&view=FitH': No host supplied\n",
      "Failed to download file: Invalid URL 'http:/tree/e0/26/e0264cf7d9f811bf1e981dba691a1f1e.pdf#navpanes=0&view=FitH': No host supplied\n",
      "Failed to download file: Invalid URL 'http:/downloads/2019-01-23//25/wang2004.pdf#navpanes=0&view=FitH': No host supplied\n",
      "Failed to download file: Invalid URL 'http:/downloads/2021-05-29/9f/ren2021.pdf#navpanes=0&view=FitH': No host supplied\n"
     ]
    },
    {
     "name": "stderr",
     "output_type": "stream",
     "text": [
      " 11%|█         | 1329/11877 [09:43<1:17:27,  2.27it/s]"
     ]
    },
    {
     "name": "stdout",
     "output_type": "stream",
     "text": [
      "Failed to download file: Invalid URL 'http:/downloads/2019-08-03/51/10.1016@S2214-109X1930080-4.pdf#navpanes=0&view=FitH': No host supplied\n",
      "Failed to download file: Invalid URL 'http:/downloads/2021-06-14/95/li2020.pdf#navpanes=0&view=FitH': No host supplied\n",
      "Failed to download file: Invalid URL 'http:/downloads/2020-09-16/a7/mikula2020.pdf#navpanes=0&view=FitH': No host supplied\n",
      "Failed to download file: Invalid URL 'http:/downloads/2019-07-09/66/danaei2011.pdf#navpanes=0&view=FitH': No host supplied\n",
      "Failed to download file: Invalid URL 'http:/downloads/2020-07-18/54/merghadi2020.pdf#navpanes=0&view=FitH': No host supplied\n",
      "Failed to download file: Invalid URL 'http:/downloads/2019-09-24/f4/gharbi2019.pdf#navpanes=0&view=FitH': No host supplied\n",
      "Failed to download file: Invalid URL 'http:/downloads/2019-02-19/21/yan2018.pdf#navpanes=0&view=FitH': No host supplied\n",
      "Failed to download file: Invalid URL 'http:/downloads/2021-06-13/fd/zell2015.pdf#navpanes=0&view=FitH': No host supplied\n",
      "Failed to download file: Invalid URL 'http:/downloads/2022-11-08/d1/courts2021.pdf#navpanes=0&view=FitH': No host supplied\n",
      "Failed to download file: Invalid URL 'http:/tree/2e/a5/2ea58bac5853d1cb32ed44b44af510d9.pdf#navpanes=0&view=FitH': No host supplied\n",
      "Failed to download file: Invalid URL 'http:/downloads/2019-10-24/f8/10.1007@978-3-030-33843-5.pdf#navpanes=0&view=FitH': No host supplied\n",
      "Failed to download file: Invalid URL 'http:/downloads/2021-06-14/41/pedziwiatr2021.pdf#navpanes=0&view=FitH': No host supplied\n",
      "Failed to download file: Invalid URL 'http:/downloads/2020-06-02/e4/10.1016@j.neunet.2020.05.008.pdf#navpanes=0&view=FitH': No host supplied\n",
      "Failed to download file: Invalid URL 'http:/downloads/2019-12-28/57/yang2019.pdf#navpanes=0&view=FitH': No host supplied\n",
      "Failed to download file: Invalid URL 'http:/downloads/2020-05-05/79/li2020.pdf#navpanes=0&view=FitH': No host supplied\n",
      "Failed to download file: Invalid URL 'http:/downloads/2020-08-01/26/christopher2020.pdf#navpanes=0&view=FitH': No host supplied\n"
     ]
    },
    {
     "name": "stderr",
     "output_type": "stream",
     "text": [
      " 13%|█▎        | 1575/11877 [10:05<45:24,  3.78it/s]  "
     ]
    },
    {
     "name": "stdout",
     "output_type": "stream",
     "text": [
      "Failed to download file: Invalid URL 'http:/downloads/2020-07-26/51/10.1016@j.comcom.2020.05.048.pdf#navpanes=0&view=FitH': No host supplied\n",
      "Failed to download file: Invalid URL 'http:/downloads/2020-01-21/2e/10.1109@LRA.2020.2967681.pdf#navpanes=0&view=FitH': No host supplied\n",
      "Failed to download file: Invalid URL 'http:/downloads/2019-04-25/66/colyer2018.pdf#navpanes=0&view=FitH': No host supplied\n",
      "Failed to download file: Invalid URL 'http:/downloads/2019-08-27/6b/wolper2019.pdf#navpanes=0&view=FitH': No host supplied\n",
      "Failed to download file: Invalid URL 'http:/downloads/2022-11-07/9d/bermano2022.pdf#navpanes=0&view=FitH': No host supplied\n"
     ]
    },
    {
     "name": "stderr",
     "output_type": "stream",
     "text": [
      " 15%|█▍        | 1771/11877 [10:16<29:21,  5.74it/s]"
     ]
    },
    {
     "name": "stdout",
     "output_type": "stream",
     "text": [
      "Failed to download file: Invalid URL 'http:/downloads/2019-12-14/f7/lesort2019.pdf#navpanes=0&view=FitH': No host supplied\n"
     ]
    },
    {
     "name": "stderr",
     "output_type": "stream",
     "text": [
      " 15%|█▍        | 1777/11877 [10:17<29:19,  5.74it/s]"
     ]
    },
    {
     "name": "stdout",
     "output_type": "stream",
     "text": [
      "Failed to download file: Invalid URL 'http:/downloads/2019-10-14/48/10.3233@thc-2004-12103.pdf#navpanes=0&view=FitH': No host supplied\n"
     ]
    },
    {
     "name": "stderr",
     "output_type": "stream",
     "text": [
      " 15%|█▌        | 1787/11877 [10:17<27:42,  6.07it/s]"
     ]
    },
    {
     "name": "stdout",
     "output_type": "stream",
     "text": [
      "Failed to download file: Invalid URL 'http:/downloads/2019-12-15/14/10.1007@s11042-019-08323-4.pdf#navpanes=0&view=FitH': No host supplied\n",
      "Failed to download file: Invalid URL 'http:/downloads/2019-07-21/e8/10.1016@j.cag.2019.07.003.pdf#navpanes=0&view=FitH': No host supplied\n"
     ]
    },
    {
     "name": "stderr",
     "output_type": "stream",
     "text": [
      " 15%|█▌        | 1787/11877 [10:31<27:42,  6.07it/s]"
     ]
    },
    {
     "name": "stdout",
     "output_type": "stream",
     "text": [
      "Failed to download file: Invalid URL 'http:/downloads/2022-11-03/e1/naresh2022.pdf#navpanes=0&view=FitH': No host supplied\n"
     ]
    },
    {
     "name": "stderr",
     "output_type": "stream",
     "text": [
      " 15%|█▌        | 1809/11877 [10:41<56:56,  2.95it/s]  "
     ]
    },
    {
     "name": "stdout",
     "output_type": "stream",
     "text": [
      "Failed to download file: Invalid URL 'http:/downloads/2020-07-11/4b/pham2020.pdf#navpanes=0&view=FitH': No host supplied\n",
      "Failed to download file: Invalid URL 'http:/downloads/2022-11-04/88b5/chen2021.pdf#navpanes=0&view=FitH': No host supplied\n",
      "Failed to download file: Invalid URL 'http:/downloads/2019-11-24/65/yao2019.pdf#navpanes=0&view=FitH': No host supplied\n",
      "Failed to download file: Invalid URL 'http:/downloads/2020-01-05/5c/qin2012.pdf#navpanes=0&view=FitH': No host supplied\n",
      "Failed to download file: Invalid URL 'http:/downloads/2019-11-17/22/vaissier2018.pdf#navpanes=0&view=FitH': No host supplied\n",
      "Failed to download file: Invalid URL 'http:/downloads/2019-08-05/5e/10.1111@cgf.13765.pdf#navpanes=0&view=FitH': No host supplied\n",
      "Failed to download file: Invalid URL 'http:/downloads/2021-06-15/3c/ishida2017.pdf#navpanes=0&view=FitH': No host supplied\n"
     ]
    },
    {
     "name": "stderr",
     "output_type": "stream",
     "text": [
      " 15%|█▌        | 1809/11877 [10:51<56:56,  2.95it/s]"
     ]
    },
    {
     "name": "stdout",
     "output_type": "stream",
     "text": [
      "Failed to download file: Invalid URL 'http:/downloads/2020-08-06/36/10.1002@adfm.202003062.pdf#navpanes=0&view=FitH': No host supplied\n",
      "Failed to download file: Invalid URL 'http:/downloads/2019-01-25//f1/raj2018.pdf#navpanes=0&view=FitH': No host supplied\n",
      "Failed to download file: Invalid URL 'http:/downloads/2019-08-20/01/10.1109@TAFFC.2019.2930058.pdf#navpanes=0&view=FitH': No host supplied\n",
      "Failed to download file: Invalid URL 'http:/downloads/2019-03-18/93/10.1109@JIOT.2019.2896120.pdf#navpanes=0&view=FitH': No host supplied\n",
      "Failed to download file: Invalid URL 'http:/downloads/2021-06-15/61/andersson2020.pdf#navpanes=0&view=FitH': No host supplied\n",
      "Failed to download file: Invalid URL 'http:/tree/e9/27/e927ed46cb9290dc73fc6aa975c95d42.pdf#navpanes=0&view=FitH': No host supplied\n",
      "Failed to download file: Invalid URL 'http:/downloads/2019-07-17/d2/10.1109@TAFFC.2019.2922912.pdf#navpanes=0&view=FitH': No host supplied\n",
      "Failed to download file: Invalid URL 'http:/tree/b9/a3/b9a309d2a1be756f9e3079614b3d4dfc.pdf#navpanes=0&view=FitH': No host supplied\n",
      "Failed to download file: Invalid URL 'http:/downloads/2019-07-21/53/10.1145@3306346.3323035.pdf#navpanes=0&view=FitH': No host supplied\n"
     ]
    },
    {
     "name": "stderr",
     "output_type": "stream",
     "text": [
      " 15%|█▌        | 1811/11877 [11:12<2:26:47,  1.14it/s]"
     ]
    },
    {
     "name": "stdout",
     "output_type": "stream",
     "text": [
      "Failed to download file: Invalid URL 'http:/downloads/2019-10-12/d4/orlando2019.pdf#navpanes=0&view=FitH': No host supplied\n",
      "Failed to download file: Invalid URL 'http:/downloads/2021-07-04/b7/wang2021.pdf#navpanes=0&view=FitH': No host supplied\n"
     ]
    },
    {
     "name": "stderr",
     "output_type": "stream",
     "text": [
      " 15%|█▌        | 1816/11877 [11:17<2:29:54,  1.12it/s]"
     ]
    },
    {
     "name": "stdout",
     "output_type": "stream",
     "text": [
      "Failed to download file: Invalid URL 'http:/downloads/2019-04-01/e6/10.1109@TGRS.2019.2902431.pdf#navpanes=0&view=FitH': No host supplied\n",
      "Failed to download file: Invalid URL 'http:/downloads/2021-05-14//aa/bello2021.pdf#navpanes=0&view=FitH': No host supplied\n",
      "Failed to download file: Invalid URL 'http:/downloads/2020-07-06/9c/simoneaux2020.pdf#navpanes=0&view=FitH': No host supplied\n",
      "Failed to download file: Invalid URL 'http:/downloads/2022-11-11/b2/acero2022.pdf#navpanes=0&view=FitH': No host supplied\n",
      "Failed to download file: Invalid URL 'http:/downloads/2021-06-15/a5/starke2020.pdf#navpanes=0&view=FitH': No host supplied\n",
      "Failed to download file: Invalid URL 'http:/downloads/2019-04-22/f4/10.1109@TIP.2019.2910414.pdf#navpanes=0&view=FitH': No host supplied\n",
      "Failed to download file: Invalid URL 'http:/downloads/2019-10-26/42/zhang2019.pdf#navpanes=0&view=FitH': No host supplied\n",
      "Failed to download file: Invalid URL 'http:/downloads/2021-06-09/fe/10.1016@j.media.2021.102087.pdf#navpanes=0&view=FitH': No host supplied\n",
      "Failed to download file: Invalid URL 'http:/uptodate/S1566253521001342.pdf#navpanes=0&view=FitH': No host supplied\n",
      "Failed to download file: Invalid URL 'http:/downloads/2019-08-24/75/colyer2019.pdf#navpanes=0&view=FitH': No host supplied\n"
     ]
    },
    {
     "name": "stderr",
     "output_type": "stream",
     "text": [
      " 15%|█▌        | 1816/11877 [11:31<2:29:54,  1.12it/s]"
     ]
    },
    {
     "name": "stdout",
     "output_type": "stream",
     "text": [
      "Failed to download file: Invalid URL 'http:/downloads/2019-08-08/90/10.1016@j.media.2019.05.008.pdf#navpanes=0&view=FitH': No host supplied\n",
      "Failed to download file: Invalid URL 'http:/downloads/2020-10-13/6a/zhang2020.pdf#navpanes=0&view=FitH': No host supplied\n",
      "Failed to download file: Invalid URL 'http:/tree/a8/b9/a8b9d373e363cf8c43bcf20ea82215cc.pdf#navpanes=0&view=FitH': No host supplied\n",
      "Failed to download file: Invalid URL 'http:/downloads/2020-07-01//39/misra2016.pdf#navpanes=0&view=FitH': No host supplied\n",
      "Failed to download file: Invalid URL 'http:/downloads/2022-11-15/46/pan2021.pdf#navpanes=0&view=FitH': No host supplied\n",
      "Failed to download file: Invalid URL 'http:/downloads/2020-01-10/e9/10.3390@met10010103.pdf#navpanes=0&view=FitH': No host supplied\n",
      "Failed to download file: Invalid URL 'http:/downloads/2019-01-23//21/wang2018.pdf#navpanes=0&view=FitH': No host supplied\n",
      "Failed to download file: Invalid URL 'http:/downloads/2020-07-25/e8/nguyen2020.pdf#navpanes=0&view=FitH': No host supplied\n",
      "Failed to download file: Invalid URL 'http:/downloads/2021-08-14/99/yadav2021.pdf#navpanes=0&view=FitH': No host supplied\n",
      "Failed to download file: Invalid URL 'http:/downloads/2019-01-15//5c/gallart2012.pdf#navpanes=0&view=FitH': No host supplied\n",
      "Failed to download file: Invalid URL 'http:/downloads/2019-03-23/43/10.1021@acs.chemrev.8b00655.pdf#navpanes=0&view=FitH': No host supplied\n",
      "Failed to download file: Invalid URL 'http:/downloads/2019-04-09/86/diakonov2007.pdf#navpanes=0&view=FitH': No host supplied\n",
      "Failed to download file: Invalid URL 'http:/tree/f0/52/f05224bdb88bccf62ae42b14fda515d1.pdf#navpanes=0&view=FitH': No host supplied\n",
      "Failed to download file: Invalid URL 'http:/downloads/2019-09-23/38/zhao2019.pdf#navpanes=0&view=FitH': No host supplied\n",
      "Failed to download file: Invalid URL 'http:/downloads/2020-09-01/9f/automatic-generator-of-minimal-problem-solvers.pdf#navpanes=0&view=FitH': No host supplied\n",
      "Failed to download file: Invalid URL 'http:/uptodate/S0147176721000870.pdf#navpanes=0&view=FitH': No host supplied\n",
      "Failed to download file: Invalid URL 'http:/downloads/2020-12-20/c2/he2020.pdf#navpanes=0&view=FitH': No host supplied\n",
      "Failed to download file: Invalid URL 'http:/downloads/2019-03-04/a5/10.1007@s13402-019-00429-z.pdf#navpanes=0&view=FitH': No host supplied\n",
      "Failed to download file: Invalid URL 'http:/downloads/2019-09-23/8c/wang2019.pdf#navpanes=0&view=FitH': No host supplied\n",
      "Failed to download file: Invalid URL 'http:/downloads/2021-05-17/da/structural-syntactic-and-statistical-pattern-recognition-2021.pdf#navpanes=0&view=FitH': No host supplied\n",
      "Failed to download file: Invalid URL 'http:/downloads/2020-09-06/35/view-synthesis-1999.pdf#navpanes=0&view=FitH': No host supplied\n",
      "Failed to download file: Invalid URL 'http:/downloads/2019-04-13/43/han2019.pdf#navpanes=0&view=FitH': No host supplied\n",
      "Failed to download file: Invalid URL 'http:/downloads/2019-09-06/e8/huang2019.pdf#navpanes=0&view=FitH': No host supplied\n",
      "Failed to download file: Invalid URL 'http:/downloads/2019-10-12/45/angles2019.pdf#navpanes=0&view=FitH': No host supplied\n",
      "Failed to download file: Invalid URL 'http:/tree/e6/62/e662bfeb1046157ea1babb55a5657f76.pdf#navpanes=0&view=FitH': No host supplied\n"
     ]
    },
    {
     "name": "stderr",
     "output_type": "stream",
     "text": [
      " 16%|█▌        | 1841/11877 [12:09<3:55:59,  1.41s/it]"
     ]
    },
    {
     "name": "stdout",
     "output_type": "stream",
     "text": [
      "Failed to download file: Invalid URL 'http:/downloads/2019-01-28//5a/10.1109@ACCESS.2019.2893185.pdf#navpanes=0&view=FitH': No host supplied\n",
      "Failed to download file: Invalid URL 'http:/downloads/2021-06-13/f4/laine2020.pdf#navpanes=0&view=FitH': No host supplied\n",
      "Failed to download file: Invalid URL 'http:/downloads/2019-12-28/b2/10.1109@TPAMI.2019.2958083.pdf#navpanes=0&view=FitH': No host supplied\n",
      "Failed to download file: Invalid URL 'http:/downloads/2019-08-02/7f/10.1609@aaai.v33i01.33018577.pdf#navpanes=0&view=FitH': No host supplied\n",
      "Failed to download file: Invalid URL 'http:/downloads/2019-01-20//6a/10.1073@pnas.1813476116.pdf#navpanes=0&view=FitH': No host supplied\n",
      "Failed to download file: Invalid URL 'http:/downloads/2021-08-10/92/croce2021.pdf#navpanes=0&view=FitH': No host supplied\n",
      "Failed to download file: Invalid URL 'http:/downloads/2020-11-23/78/bhattacharya2020.pdf#navpanes=0&view=FitH': No host supplied\n",
      "Failed to download file: Invalid URL 'http:/downloads/2021-06-20/4e72/chen2021.pdf#navpanes=0&view=FitH': No host supplied\n",
      "Failed to download file: Invalid URL 'http:/downloads/2020-12-17/b1/su2020.pdf#navpanes=0&view=FitH': No host supplied\n",
      "Failed to download file: HTTPSConnectionPool(host='dacemirror.sci-hub.se', port=443): Max retries exceeded with url: /journal-article/790c208268f6cb3c5a905ddba79be4d4/coffey2012.pdf (Caused by NewConnectionError('<urllib3.connection.HTTPSConnection object at 0x173515e40>: Failed to establish a new connection: [Errno 8] nodename nor servname provided, or not known'))\n",
      "Failed to download file: Invalid URL 'http:/downloads/2021-06-20/8d59/li2021.pdf#navpanes=0&view=FitH': No host supplied\n",
      "Failed to download file: Invalid URL 'http:/tree/2d/57/2d5752d36fab0de0f3f255d948138300.pdf#navpanes=0&view=FitH': No host supplied\n",
      "Failed to download file: Invalid URL 'http:/downloads/2022-11-12/55/jing2020.pdf#navpanes=0&view=FitH': No host supplied\n",
      "Failed to download file: Invalid URL 'http:/downloads/2022-11-04/22/stucki1995.pdf#navpanes=0&view=FitH': No host supplied\n"
     ]
    },
    {
     "name": "stderr",
     "output_type": "stream",
     "text": [
      " 17%|█▋        | 2010/11877 [12:37<1:06:08,  2.49it/s]"
     ]
    },
    {
     "name": "stdout",
     "output_type": "stream",
     "text": [
      "Failed to download file: Invalid URL 'http:/downloads/2022-11-14/0b/ding2021.pdf#navpanes=0&view=FitH': No host supplied\n",
      "Failed to download file: Invalid URL 'http:/tree/60/a1/60a16a24d09c582897ea3851237d49f4.pdf#navpanes=0&view=FitH': No host supplied\n",
      "Failed to download file: Invalid URL 'http:/downloads/2019-02-14/fd/seo2018.pdf#navpanes=0&view=FitH': No host supplied\n",
      "Failed to download file: Invalid URL 'http:/downloads/2019-07-30/4b/mcneill2006.pdf#navpanes=0&view=FitH': No host supplied\n",
      "Failed to download file: Invalid URL 'http:/downloads/2020-07-16/13/xu2020.pdf#navpanes=0&view=FitH': No host supplied\n",
      "Failed to download file: Invalid URL 'http:/downloads/2019-10-10/bb/10.1007@978-3-030-32239-7.pdf#navpanes=0&view=FitH': No host supplied\n",
      "Failed to download file: Invalid URL 'http:/uptodate/S0921889021001457.pdf#navpanes=0&view=FitH': No host supplied\n",
      "Failed to download file: Invalid URL 'http:/tree/60/cf/60cf00d56661cab3311310d52a2a0af9.pdf#navpanes=0&view=FitH': No host supplied\n",
      "Failed to download file: Invalid URL 'http:/downloads/2021-05-24/bf51/zhao2021.pdf#navpanes=0&view=FitH': No host supplied\n",
      "Failed to download file: Invalid URL 'http:/downloads/2021-05-16/0e/liu2021.pdf#navpanes=0&view=FitH': No host supplied\n",
      "Failed to download file: Invalid URL 'http:/downloads/2019-01-01/b1/10.1145@3272127.3275055.pdf#navpanes=0&view=FitH': No host supplied\n",
      "Failed to download file: Invalid URL 'http:/downloads/2019-03-30/ae/otsu2018.pdf#navpanes=0&view=FitH': No host supplied\n",
      "Failed to download file: Invalid URL 'http:/downloads/2020-09-20/bf/ranftl2020.pdf#navpanes=0&view=FitH': No host supplied\n",
      "Failed to download file: Invalid URL 'http:/downloads/2020-04-06/4f/labbe2020.pdf#navpanes=0&view=FitH': No host supplied\n",
      "Failed to download file: Invalid URL 'http:/downloads/2021-06-11/a3/shi2020.pdf#navpanes=0&view=FitH': No host supplied\n",
      "Failed to download file: Invalid URL 'http:/downloads/2021-06-10/0f/favreau2016.pdf#navpanes=0&view=FitH': No host supplied\n",
      "Failed to download file: Invalid URL 'http:/downloads/2019-01-01/dd/xiao2018.pdf#navpanes=0&view=FitH': No host supplied\n",
      "Failed to download file: Invalid URL 'http:/downloads/2020-11-04/f2/bai2009.pdf#navpanes=0&view=FitH': No host supplied\n",
      "Failed to download file: Invalid URL 'http:/downloads/2021-05-16/81/statistical-atlases-and-computational-models-of-the-heart-mms-an-2021.pdf#navpanes=0&view=FitH': No host supplied\n",
      "Failed to download file: Invalid URL 'http:/downloads/2021-08-31/a0/advances-in-cryptology--crypto-2021-2021.pdf#navpanes=0&view=FitH': No host supplied\n"
     ]
    },
    {
     "name": "stderr",
     "output_type": "stream",
     "text": [
      " 18%|█▊        | 2081/11877 [13:01<1:02:05,  2.63it/s]"
     ]
    },
    {
     "name": "stdout",
     "output_type": "stream",
     "text": [
      "Failed to download file: Invalid URL 'http:/downloads/2021-06-12/cd/zhang2020.pdf#navpanes=0&view=FitH': No host supplied\n",
      "Failed to download file: Invalid URL 'http:/tree/4a/36/4a363e015e8661ab240f18d28a189fbd.pdf#navpanes=0&view=FitH': No host supplied\n",
      "Failed to download file: Invalid URL 'http:/tree/ab/de/abde091af46c775b3c599d859f56c13a.pdf#navpanes=0&view=FitH': No host supplied\n",
      "Failed to download file: Invalid URL 'http:/downloads/2019-11-06/f1/yang2019.pdf#navpanes=0&view=FitH': No host supplied\n",
      "Failed to download file: Invalid URL 'http:/downloads/2019-11-15/f0/10.1145@3355089.3356498.pdf#navpanes=0&view=FitH': No host supplied\n",
      "Failed to download file: Invalid URL 'http:/downloads/2020-06-24//65/li2020.pdf#navpanes=0&view=FitH': No host supplied\n",
      "Failed to download file: Invalid URL 'http:/downloads/2021-06-15/fe/gao2017.pdf#navpanes=0&view=FitH': No host supplied\n",
      "Failed to download file: Invalid URL 'http:/downloads/2019-11-18/0b/liu2020.pdf#navpanes=0&view=FitH': No host supplied\n",
      "Failed to download file: Invalid URL 'http:/downloads/2021-06-11/82/zehnder2017.pdf#navpanes=0&view=FitH': No host supplied\n",
      "Failed to download file: Invalid URL 'http:/downloads/2019-01-25//1f/li2018.pdf#navpanes=0&view=FitH': No host supplied\n",
      "Failed to download file: Invalid URL 'http:/downloads/2019-05-07/93/yang2018.pdf#navpanes=0&view=FitH': No host supplied\n",
      "Failed to download file: Invalid URL 'http:/downloads/2019-05-15/00/schneider2004.pdf#navpanes=0&view=FitH': No host supplied\n",
      "Failed to download file: Invalid URL 'http:/downloads/2019-04-24/fb/10.1038@s41467-019-09903-6.pdf#navpanes=0&view=FitH': No host supplied\n",
      "Failed to download file: Invalid URL 'http:/downloads/2019-08-16/58/10.1111@cgf.13494.pdf#navpanes=0&view=FitH': No host supplied\n",
      "Failed to download file: Invalid URL 'http:/downloads/2021-06-09/bb/xu2019.pdf#navpanes=0&view=FitH': No host supplied\n",
      "Failed to download file: Invalid URL 'http:/downloads/2021-06-11/eb/crane2017.pdf#navpanes=0&view=FitH': No host supplied\n",
      "Failed to download file: Invalid URL 'http:/downloads/2021-06-13/2d/iseringhausen2020.pdf#navpanes=0&view=FitH': No host supplied\n",
      "Failed to download file: Invalid URL 'http:/downloads/2020-07-23/48/choi2020.pdf#navpanes=0&view=FitH': No host supplied\n",
      "Failed to download file: Invalid URL 'http:/downloads/2019-08-02/7f/10.1007@s40145-019-0342-4.pdf#navpanes=0&view=FitH': No host supplied\n",
      "Failed to download file: Invalid URL 'http:/downloads/2022-11-05/d0/touvron2022.pdf#navpanes=0&view=FitH': No host supplied\n",
      "Failed to download file: Invalid URL 'http:/downloads/2019-01-25//3e/kindlmann2005.pdf#navpanes=0&view=FitH': No host supplied\n",
      "Failed to download file: Invalid URL 'http:/downloads/2020-01-10/48/10.1016@j.cviu.2019.102897.pdf#navpanes=0&view=FitH': No host supplied\n"
     ]
    },
    {
     "name": "stderr",
     "output_type": "stream",
     "text": [
      " 18%|█▊        | 2138/11877 [14:02<1:32:13,  1.76it/s]"
     ]
    },
    {
     "name": "stdout",
     "output_type": "stream",
     "text": [
      "Failed to download file: Invalid URL 'http:/tree/8a/03/8a0327bf6cba665367dd39988ec4ff6c.pdf#navpanes=0&view=FitH': No host supplied\n",
      "Failed to download file: Invalid URL 'http:/downloads/2021-05-21/cd/madhavan2021.pdf#navpanes=0&view=FitH': No host supplied\n",
      "Failed to download file: Invalid URL 'http:/downloads/2019-08-21/6f/chen2019.pdf#navpanes=0&view=FitH': No host supplied\n",
      "Failed to download file: Invalid URL 'http:/downloads/2020-05-21/5e/bildverarbeitung-fr-die-medizin-2020-2020.pdf#navpanes=0&view=FitH': No host supplied\n",
      "Failed to download file: Invalid URL 'http:/downloads/2021-08-10/42ee/guo2021.pdf#navpanes=0&view=FitH': No host supplied\n",
      "Failed to download file: Invalid URL 'http:/downloads/2022-11-03/09/donnelly2021.pdf#navpanes=0&view=FitH': No host supplied\n",
      "Failed to download file: Invalid URL 'http:/tree/06/02/06025137b566e8988bf5ddcbd93068c2.pdf#navpanes=0&view=FitH': No host supplied\n",
      "Failed to download file: Invalid URL 'http:/downloads/2019-01-22//0f/10.3390@mti2040072.pdf#navpanes=0&view=FitH': No host supplied\n",
      "Failed to download file: Invalid URL 'http:/downloads/2019-01-26//6b/marmanis2018.pdf#navpanes=0&view=FitH': No host supplied\n",
      "Failed to download file: Invalid URL 'http:/downloads/2021-06-20/8e/yu2021.pdf#navpanes=0&view=FitH': No host supplied\n",
      "Failed to download file: Invalid URL 'http:/downloads/2019-11-26/06/bewicke-copley2019.pdf#navpanes=0&view=FitH': No host supplied\n",
      "Failed to download file: Invalid URL 'http:/downloads/2022-11-23/52/khan2018.pdf#navpanes=0&view=FitH': No host supplied\n",
      "Failed to download file: Invalid URL 'http:/tree/b1/b5/b1b55bcc5e611dd09a9e4f7a9e95fb2e.pdf#navpanes=0&view=FitH': No host supplied\n",
      "Failed to download file: Invalid URL 'http:/downloads/2019-04-09/dc/kuznetsova2014.pdf#navpanes=0&view=FitH': No host supplied\n",
      "Failed to download file: Invalid URL 'http:/tree/d1/50/d15002e515b4104d9222a511f3f55fed.pdf#navpanes=0&view=FitH': No host supplied\n",
      "Failed to download file: Invalid URL 'http:/downloads/2021-05-13//69/timing-of-surgery-following-sarscov2-infection-an-international--2021.pdf#navpanes=0&view=FitH': No host supplied\n",
      "Failed to download file: Invalid URL 'http:/downloads/2020-12-21/33/10.1073@pnas.1907856118.pdf#navpanes=0&view=FitH': No host supplied\n",
      "Failed to download file: Invalid URL 'http:/downloads/2021-05-16/3a/vetter2021.pdf#navpanes=0&view=FitH': No host supplied\n",
      "Failed to download file: Invalid URL 'http:/downloads/2019-02-18/d7/beyer2015.pdf#navpanes=0&view=FitH': No host supplied\n",
      "Failed to download file: Invalid URL 'http:/downloads/2021-06-15/df/yang2020.pdf#navpanes=0&view=FitH': No host supplied\n",
      "Failed to download file: Invalid URL 'http:/downloads/2020-12-22/69/hammad2020.pdf#navpanes=0&view=FitH': No host supplied\n",
      "Failed to download file: Invalid URL 'http:/downloads/2020-09-18/4d/chen2020.pdf#navpanes=0&view=FitH': No host supplied\n",
      "Failed to download file: Invalid URL 'http:/downloads/2019-11-24/fe/jin2019.pdf#navpanes=0&view=FitH': No host supplied\n",
      "Failed to download file: Invalid URL 'http:/downloads/2022-11-03/7a/xu2021.pdf#navpanes=0&view=FitH': No host supplied\n",
      "Failed to download file: Invalid URL 'http:/downloads/2020-08-16/b2/cho2021.pdf#navpanes=0&view=FitH': No host supplied\n"
     ]
    },
    {
     "name": "stderr",
     "output_type": "stream",
     "text": [
      " 20%|█▉        | 2317/11877 [14:43<1:00:43,  2.62it/s]"
     ]
    },
    {
     "name": "stdout",
     "output_type": "stream",
     "text": [
      "Failed to download file: Invalid URL 'http:/downloads/2019-11-03/62/dhiman2019.pdf#navpanes=0&view=FitH': No host supplied\n",
      "Failed to download file: Invalid URL 'http:/downloads/2019-02-12/5a/qi2018.pdf#navpanes=0&view=FitH': No host supplied\n",
      "Failed to download file: Invalid URL 'http:/downloads/2019-01-01/ec/10.1145@3272127.3275053.pdf#navpanes=0&view=FitH': No host supplied\n",
      "Failed to download file: Invalid URL 'http:/downloads/2019-01-17//5f/10.1145@3291060.pdf#navpanes=0&view=FitH': No host supplied\n"
     ]
    },
    {
     "name": "stderr",
     "output_type": "stream",
     "text": [
      " 22%|██▏       | 2565/11877 [14:48<29:58,  5.18it/s]  "
     ]
    },
    {
     "name": "stdout",
     "output_type": "stream",
     "text": [
      "Failed to download file: Invalid URL 'http:/downloads/2019-07-19/f0/10.1145@3306346.3322939.pdf#navpanes=0&view=FitH': No host supplied\n"
     ]
    },
    {
     "name": "stderr",
     "output_type": "stream",
     "text": [
      " 22%|██▏       | 2616/11877 [14:51<27:06,  5.69it/s]"
     ]
    },
    {
     "name": "stdout",
     "output_type": "stream",
     "text": [
      "Failed to download file: Invalid URL 'http:/downloads/2019-10-12/c4/10.1007@978-3-030-32875-7.pdf#navpanes=0&view=FitH': No host supplied\n",
      "Failed to download file: Invalid URL 'http:/tree/ac/35/ac3511b33d661fd0218d55eb869c47fd.pdf#navpanes=0&view=FitH': No host supplied\n",
      "Failed to download file: Invalid URL 'http:/downloads/2021-08-14/29/tseng2021.pdf#navpanes=0&view=FitH': No host supplied\n",
      "Failed to download file: Invalid URL 'http:/downloads/2020-10-04/c9/cannavo2020.pdf#navpanes=0&view=FitH': No host supplied\n",
      "Failed to download file: Invalid URL 'http:/downloads/2020-10-07/cb/osti2020.pdf#navpanes=0&view=FitH': No host supplied\n"
     ]
    },
    {
     "name": "stderr",
     "output_type": "stream",
     "text": [
      " 22%|██▏       | 2616/11877 [15:02<27:06,  5.69it/s]"
     ]
    },
    {
     "name": "stdout",
     "output_type": "stream",
     "text": [
      "Failed to download file: Invalid URL 'http:/downloads/2020-04-19/0e/fan2020.pdf#navpanes=0&view=FitH': No host supplied\n",
      "Failed to download file: Invalid URL 'http:/downloads/2020-06-24//1f/seff2015.pdf#navpanes=0&view=FitH': No host supplied\n",
      "Failed to download file: Invalid URL 'http:/downloads/2019-08-15/66/hu2018.pdf#navpanes=0&view=FitH': No host supplied\n",
      "Failed to download file: Invalid URL 'http:/downloads/2020-06-14/7f/son2020.pdf#navpanes=0&view=FitH': No host supplied\n",
      "Failed to download file: Invalid URL 'http:/downloads/2020-10-18/72/rahmani2014.pdf#navpanes=0&view=FitH': No host supplied\n"
     ]
    },
    {
     "name": "stderr",
     "output_type": "stream",
     "text": [
      " 22%|██▏       | 2618/11877 [15:10<37:41,  4.09it/s]"
     ]
    },
    {
     "name": "stdout",
     "output_type": "stream",
     "text": [
      "Failed to download file: Invalid URL 'http:/downloads/2019-03-05/b2/10.3390@s19030718.pdf#navpanes=0&view=FitH': No host supplied\n",
      "Failed to download file: Invalid URL 'http:/downloads/2021-05-18/ee/yuan2021.pdf#navpanes=0&view=FitH': No host supplied\n",
      "Failed to download file: Invalid URL 'http:/downloads/2021-06-16/12/abdal2021.pdf#navpanes=0&view=FitH': No host supplied\n",
      "Failed to download file: Invalid URL 'http:/downloads/2022-11-03/41/hong2022.pdf#navpanes=0&view=FitH': No host supplied\n",
      "Failed to download file: Invalid URL 'http:/downloads/2019-03-31/3d/10.1109@TIP.2019.2906490.pdf#navpanes=0&view=FitH': No host supplied\n"
     ]
    },
    {
     "name": "stderr",
     "output_type": "stream",
     "text": [
      " 23%|██▎       | 2677/11877 [15:18<33:29,  4.58it/s]"
     ]
    },
    {
     "name": "stdout",
     "output_type": "stream",
     "text": [
      "Failed to download file: Invalid URL 'http:/tree/81/7c/817c8f1e5ad7eef70f71320faac4631d.pdf#navpanes=0&view=FitH': No host supplied\n",
      "Failed to download file: Invalid URL 'http:/downloads/2022-11-08/f2b9/cai2022.pdf#navpanes=0&view=FitH': No host supplied\n",
      "Failed to download file: Invalid URL 'http:/downloads/2019-12-23/fa/10.1038@s41551-019-0487-z.pdf#navpanes=0&view=FitH': No host supplied\n",
      "Failed to download file: Invalid URL 'http:/downloads/2019-03-14/0a/xu2018.pdf#navpanes=0&view=FitH': No host supplied\n",
      "Failed to download file: Invalid URL 'http:/downloads/2019-03-09/b9/10.1016@j.tws.2019.02.033.pdf#navpanes=0&view=FitH': No host supplied\n",
      "Failed to download file: Invalid URL 'http:/downloads/2021-06-14/d3/roussos1997.pdf#navpanes=0&view=FitH': No host supplied\n"
     ]
    },
    {
     "name": "stderr",
     "output_type": "stream",
     "text": [
      " 23%|██▎       | 2718/11877 [15:26<32:18,  4.72it/s]"
     ]
    },
    {
     "name": "stdout",
     "output_type": "stream",
     "text": [
      "Failed to download file: Invalid URL 'http:/downloads/2019-07-18/66/10.1111@cgf.13701.pdf#navpanes=0&view=FitH': No host supplied\n",
      "Failed to download file: Invalid URL 'http:/downloads/2021-06-13/cb/schreck2015.pdf#navpanes=0&view=FitH': No host supplied\n",
      "Failed to download file: Invalid URL 'http:/downloads/2019-07-19/6c/10.1038@s41438-019-0137-3.pdf#navpanes=0&view=FitH': No host supplied\n",
      "Failed to download file: Invalid URL 'http:/downloads/2019-10-23/90/10.1001@jama.2019.13159.pdf#navpanes=0&view=FitH': No host supplied\n",
      "Failed to download file: Invalid URL 'http:/downloads/2020-07-03//d2/babusam2020.pdf#navpanes=0&view=FitH': No host supplied\n",
      "Failed to download file: Invalid URL 'http:/downloads/2021-08-11/f1/fushimi2021.pdf#navpanes=0&view=FitH': No host supplied\n",
      "Failed to download file: Invalid URL 'http:/downloads/2019-04-16/77/10.1016@j.ijleo.2019.04.026.pdf#navpanes=0&view=FitH': No host supplied\n",
      "Failed to download file: Invalid URL 'http:/downloads/2020-01-21/b1/butcher2020.pdf#navpanes=0&view=FitH': No host supplied\n",
      "Failed to download file: Invalid URL 'http:/downloads/2019-03-19/68/10.1109@TMI.2019.2903562.pdf#navpanes=0&view=FitH': No host supplied\n",
      "Failed to download file: Invalid URL 'http:/downloads/2020-09-23/83/zhang2020.pdf#navpanes=0&view=FitH': No host supplied\n",
      "Failed to download file: Invalid URL 'http:/downloads/2019-03-23/bc/ferrari2006.pdf#navpanes=0&view=FitH': No host supplied\n",
      "Failed to download file: Invalid URL 'http:/downloads/2019-08-07/e5/10.1111@cgf.13619.pdf#navpanes=0&view=FitH': No host supplied\n"
     ]
    },
    {
     "name": "stderr",
     "output_type": "stream",
     "text": [
      " 23%|██▎       | 2718/11877 [15:42<32:18,  4.72it/s]"
     ]
    },
    {
     "name": "stdout",
     "output_type": "stream",
     "text": [
      "Failed to download file: Invalid URL 'http:/downloads/2019-08-30/ff/yan2016.pdf#navpanes=0&view=FitH': No host supplied\n",
      "Failed to download file: Invalid URL 'http:/downloads/2019-07-19/7f/10.1145@3306346.3323023.pdf#navpanes=0&view=FitH': No host supplied\n",
      "Failed to download file: Invalid URL 'http:/downloads/2020-06-28//28/roffo2020.pdf#navpanes=0&view=FitH': No host supplied\n",
      "Failed to download file: Invalid URL 'http:/tree/be/09/be0945a76d9917400a7600708a947be5.pdf#navpanes=0&view=FitH': No host supplied\n",
      "Failed to download file: Invalid URL 'http:/downloads/2020-05-18/f2/ma2020.pdf#navpanes=0&view=FitH': No host supplied\n",
      "Failed to download file: Invalid URL 'http:/downloads/2020-09-05/ef/10.1016@S0140-67362031366-0.pdf#navpanes=0&view=FitH': No host supplied\n",
      "Failed to download file: Invalid URL 'http:/downloads/2019-08-13/42/10.13052@jwe1540-9589.18468.pdf#navpanes=0&view=FitH': No host supplied\n",
      "Failed to download file: Invalid URL 'http:/downloads/2022-11-13/68/wang2022.pdf#navpanes=0&view=FitH': No host supplied\n",
      "Failed to download file: Invalid URL 'http:/tree/67/ef/67ef77556de63db355d868cf4a849a42.pdf#navpanes=0&view=FitH': No host supplied\n",
      "Failed to download file: Invalid URL 'http:/downloads/2020-08-10/21/10.1016@j.wasman.2020.07.049.pdf#navpanes=0&view=FitH': No host supplied\n",
      "Failed to download file: Invalid URL 'http:/downloads/2021-06-23/a1/jiang2021.pdf#navpanes=0&view=FitH': No host supplied\n",
      "Failed to download file: Invalid URL 'http:/tree/d0/37/d0372d504cc988f23bc048d872051992.pdf#navpanes=0&view=FitH': No host supplied\n",
      "Failed to download file: Invalid URL 'http:/downloads/2020-05-23/c0/10.1016@j.jstrokecerebrovasdis.2020.104941.pdf#navpanes=0&view=FitH': No host supplied\n",
      "Failed to download file: Invalid URL 'http:/downloads/2021-05-14//9b4d/choi2021.pdf#navpanes=0&view=FitH': No host supplied\n",
      "Failed to download file: Invalid URL 'http:/downloads/2021-08-15/ce/ly2021.pdf#navpanes=0&view=FitH': No host supplied\n",
      "Failed to download file: Invalid URL 'http:/downloads/2020-07-12/7a/wu2020.pdf#navpanes=0&view=FitH': No host supplied\n",
      "Failed to download file: Invalid URL 'http:/downloads/2019-08-20/68/arshad2019.pdf#navpanes=0&view=FitH': No host supplied\n",
      "Failed to download file: Invalid URL 'http:/downloads/2019-04-12/6a/zhang2018.pdf#navpanes=0&view=FitH': No host supplied\n",
      "Failed to download file: Invalid URL 'http:/downloads/2021-08-12/faf3/yang2021.pdf#navpanes=0&view=FitH': No host supplied\n",
      "Failed to download file: Invalid URL 'http:/downloads/2020-04-20/c0/powelldavies2008.pdf#navpanes=0&view=FitH': No host supplied\n",
      "Failed to download file: Invalid URL 'http:/downloads/2021-08-11/4d/feng2021.pdf#navpanes=0&view=FitH': No host supplied\n",
      "Failed to download file: Invalid URL 'http:/downloads/2019-01-01/cd/10.1145@3272127.3275027.pdf#navpanes=0&view=FitH': No host supplied\n",
      "Failed to download file: Invalid URL 'http:/downloads/2021-06-17/d5/ahn2021.pdf#navpanes=0&view=FitH': No host supplied\n"
     ]
    },
    {
     "name": "stderr",
     "output_type": "stream",
     "text": [
      " 23%|██▎       | 2730/11877 [16:41<2:03:45,  1.23it/s]"
     ]
    },
    {
     "name": "stdout",
     "output_type": "stream",
     "text": [
      "Failed to download file: Invalid URL 'http:/downloads/2020-07-30/45/liao2020.pdf#navpanes=0&view=FitH': No host supplied\n",
      "Failed to download file: Invalid URL 'http:/downloads/2020-01-29/6f/fulton2019.pdf#navpanes=0&view=FitH': No host supplied\n",
      "Failed to download file: Invalid URL 'http:/downloads/2021-08-11/58/jang2021.pdf#navpanes=0&view=FitH': No host supplied\n"
     ]
    },
    {
     "name": "stderr",
     "output_type": "stream",
     "text": [
      " 24%|██▍       | 2872/11877 [16:49<46:38,  3.22it/s]  "
     ]
    },
    {
     "name": "stdout",
     "output_type": "stream",
     "text": [
      "Failed to download file: Invalid URL 'http:/downloads/2019-09-09/25/gao2019.pdf#navpanes=0&view=FitH': No host supplied\n",
      "Failed to download file: Invalid URL 'http:/downloads/2020-10-05/22/10.1109@TVCG.2020.3028218.pdf#navpanes=0&view=FitH': No host supplied\n",
      "Failed to download file: Invalid URL 'http:/downloads/2020-10-23/08/remondino2011.pdf#navpanes=0&view=FitH': No host supplied\n",
      "Failed to download file: Invalid URL 'http:/downloads/2021-06-15/fa/feng2016.pdf#navpanes=0&view=FitH': No host supplied\n",
      "Failed to download file: Invalid URL 'http:/downloads/2021-06-11/b1/pillwein2020.pdf#navpanes=0&view=FitH': No host supplied\n"
     ]
    },
    {
     "name": "stderr",
     "output_type": "stream",
     "text": [
      " 24%|██▍       | 2872/11877 [17:02<46:38,  3.22it/s]"
     ]
    },
    {
     "name": "stdout",
     "output_type": "stream",
     "text": [
      "Failed to download file: Invalid URL 'http:/downloads/2022-11-04/8aa9/wang2022.pdf#navpanes=0&view=FitH': No host supplied\n",
      "Failed to download file: Invalid URL 'http:/downloads/2019-04-01/2b/balakrishnan2019.pdf#navpanes=0&view=FitH': No host supplied\n",
      "Failed to download file: Invalid URL 'http:/downloads/2019-12-18/f1/kiely2019.pdf#navpanes=0&view=FitH': No host supplied\n",
      "Failed to download file: Invalid URL 'http:/downloads/2019-07-03/13/ma2018.pdf#navpanes=0&view=FitH': No host supplied\n",
      "Failed to download file: Invalid URL 'http:/tree/15/3d/153dbe2fa782e2cff13aa7638a1e74c0.pdf#navpanes=0&view=FitH': No host supplied\n",
      "Failed to download file: Invalid URL 'http:/downloads/2019-04-04/04/10.1016@j.isprsjprs.2019.03.017.pdf#navpanes=0&view=FitH': No host supplied\n",
      "Failed to download file: Invalid URL 'http:/downloads/2019-03-30/d5/marnerides2018.pdf#navpanes=0&view=FitH': No host supplied\n",
      "Failed to download file: Invalid URL 'http:/downloads/2022-11-08/394b/gao2022.pdf#navpanes=0&view=FitH': No host supplied\n",
      "Failed to download file: Invalid URL 'http:/downloads/2021-05-15//f0/zhang2021.pdf#navpanes=0&view=FitH': No host supplied\n",
      "Failed to download file: Invalid URL 'http:/downloads/2019-06-23/1f/tzionas2014.pdf#navpanes=0&view=FitH': No host supplied\n",
      "Failed to download file: Invalid URL 'http:/downloads/2021-06-09/50/mullapudi2016.pdf#navpanes=0&view=FitH': No host supplied\n",
      "Failed to download file: Invalid URL 'http:/downloads/2019-04-26/26/coppin2001.pdf#navpanes=0&view=FitH': No host supplied\n",
      "Failed to download file: Invalid URL 'http:/downloads/2021-06-16/73/nimier-david2020.pdf#navpanes=0&view=FitH': No host supplied\n",
      "Failed to download file: Invalid URL 'http:/downloads/2020-08-04/d5/liu2020.pdf#navpanes=0&view=FitH': No host supplied\n",
      "Failed to download file: Invalid URL 'http:/tree/ca/5b/ca5bab77fb5ec9e1d74886b70a8d7eb2.pdf#navpanes=0&view=FitH': No host supplied\n"
     ]
    },
    {
     "name": "stderr",
     "output_type": "stream",
     "text": [
      " 25%|██▍       | 2947/11877 [17:27<57:26,  2.59it/s]"
     ]
    },
    {
     "name": "stdout",
     "output_type": "stream",
     "text": [
      "Failed to download file: Invalid URL 'http:/downloads/2019-07-19/af/10.1136@gutjnl-2019-318672.pdf#navpanes=0&view=FitH': No host supplied\n",
      "Failed to download file: Invalid URL 'http:/downloads/2019-02-03//76/10.1007@978-3-030-11012-310.pdf#navpanes=0&view=FitH': No host supplied\n",
      "Failed to download file: HTTPSConnectionPool(host='moscow.sci-hub.se', port=443): Max retries exceeded with url: /4396/e0e71df2b6df579700aa97661996d386/montuschi2014.pdf (Caused by NewConnectionError('<urllib3.connection.HTTPSConnection object at 0x2e5b556f0>: Failed to establish a new connection: [Errno 8] nodename nor servname provided, or not known'))\n",
      "Failed to download file: Invalid URL 'http:/downloads/2020-01-18/60/huang2019.pdf#navpanes=0&view=FitH': No host supplied\n",
      "Failed to download file: Invalid URL 'http:/tree/4e/dc/4edcc77361fadfa6aadd2684af38cf1a.pdf#navpanes=0&view=FitH': No host supplied\n",
      "Failed to download file: Invalid URL 'http:/downloads/2019-07-17/b1/10.1016@j.ccell.2019.05.004.pdf#navpanes=0&view=FitH': No host supplied\n",
      "Failed to download file: Invalid URL 'http:/downloads/2020-11-03/43/liu2020.pdf#navpanes=0&view=FitH': No host supplied\n",
      "Failed to download file: Invalid URL 'http:/downloads/2019-11-09/31/aafaq2019.pdf#navpanes=0&view=FitH': No host supplied\n",
      "Failed to download file: Invalid URL 'http:/downloads/2019-11-10/01/chen2019.pdf#navpanes=0&view=FitH': No host supplied\n"
     ]
    },
    {
     "name": "stderr",
     "output_type": "stream",
     "text": [
      " 26%|██▌       | 3117/11877 [17:59<36:42,  3.98it/s]"
     ]
    },
    {
     "name": "stdout",
     "output_type": "stream",
     "text": [
      "Failed to download file: Invalid URL 'http:/tree/88/26/8826c809cf12486b7f8dbcbf493190fc.pdf#navpanes=0&view=FitH': No host supplied\n",
      "Failed to download file: Invalid URL 'http:/downloads/2020-03-11/93/10.1109@TIP.2020.2977573.pdf#navpanes=0&view=FitH': No host supplied\n"
     ]
    },
    {
     "name": "stderr",
     "output_type": "stream",
     "text": [
      " 26%|██▋       | 3126/11877 [18:08<42:09,  3.46it/s]"
     ]
    },
    {
     "name": "stdout",
     "output_type": "stream",
     "text": [
      "Failed to download file: Invalid URL 'http:/tree/b6/bd/b6bd7d2668820f73a2c372f70fe51388.pdf#navpanes=0&view=FitH': No host supplied\n",
      "Failed to download file: Invalid URL 'http:/downloads/2019-08-09/db/10.1111@cgf.13643.pdf#navpanes=0&view=FitH': No host supplied\n",
      "Failed to download file: Invalid URL 'http:/downloads/2020-06-24//58/hu2020.pdf#navpanes=0&view=FitH': No host supplied\n"
     ]
    },
    {
     "name": "stderr",
     "output_type": "stream",
     "text": [
      " 26%|██▋       | 3136/11877 [18:15<46:29,  3.13it/s]"
     ]
    },
    {
     "name": "stdout",
     "output_type": "stream",
     "text": [
      "Failed to download file: Invalid URL 'http:/downloads/2021-06-10/28/10.1145@3068766.pdf#navpanes=0&view=FitH': No host supplied\n",
      "Failed to download file: Invalid URL 'http:/tree/d0/25/d025f050dc3a3e23d62f1cd248e93771.pdf#navpanes=0&view=FitH': No host supplied\n",
      "Failed to download file: Invalid URL 'http:/downloads/2021-06-09/7e/ragan-kelley2017.pdf#navpanes=0&view=FitH': No host supplied\n",
      "Failed to download file: Invalid URL 'http:/downloads/2021-05-15//79/machine-learning-and-knowledge-discovery-in-databases-applied-da-2021.pdf#navpanes=0&view=FitH': No host supplied\n",
      "Failed to download file: Invalid URL 'http:/downloads/2022-11-13/fc/yu2022.pdf#navpanes=0&view=FitH': No host supplied\n",
      "Failed to download file: Invalid URL 'http:/downloads/2020-04-09/d0/kang2020.pdf#navpanes=0&view=FitH': No host supplied\n",
      "Failed to download file: Invalid URL 'http:/downloads/2019-11-29/4f/abdullah2015.pdf#navpanes=0&view=FitH': No host supplied\n",
      "Failed to download file: Invalid URL 'http:/downloads/2019-09-29/0a/nair2019.pdf#navpanes=0&view=FitH': No host supplied\n",
      "Failed to download file: Invalid URL 'http:/downloads/2020-09-20/8e/scanzio2020.pdf#navpanes=0&view=FitH': No host supplied\n",
      "Failed to download file: Invalid URL 'http:/downloads/2019-01-10/bb/wang2018.pdf#navpanes=0&view=FitH': No host supplied\n",
      "Failed to download file: Invalid URL 'http:/downloads/2019-04-15/22/10.1177@0278364919842925.pdf#navpanes=0&view=FitH': No host supplied\n",
      "Failed to download file: Invalid URL 'http:/downloads/2019-03-04/c5/10.1093@icesjms@fsz025.pdf#navpanes=0&view=FitH': No host supplied\n",
      "Failed to download file: Invalid URL 'http:/downloads/2020-02-09/5b/10.1038@s41467-019-13943-3.pdf#navpanes=0&view=FitH': No host supplied\n"
     ]
    },
    {
     "name": "stderr",
     "output_type": "stream",
     "text": [
      " 26%|██▋       | 3136/11877 [18:32<46:29,  3.13it/s]"
     ]
    },
    {
     "name": "stdout",
     "output_type": "stream",
     "text": [
      "Failed to download file: Invalid URL 'http:/downloads/2019-10-21/b1/liu2019.pdf#navpanes=0&view=FitH': No host supplied\n",
      "Failed to download file: Invalid URL 'http:/downloads/2019-04-27/27/isella2018.pdf#navpanes=0&view=FitH': No host supplied\n",
      "Failed to download file: Invalid URL 'http:/downloads/2019-08-29/46/10.1109@TPAMI.2019.2937086.pdf#navpanes=0&view=FitH': No host supplied\n",
      "Failed to download file: Invalid URL 'http:/downloads/2019-08-11/f4/h2019.pdf#navpanes=0&view=FitH': No host supplied\n",
      "Failed to download file: Invalid URL 'http:/downloads/2020-08-09/81/10.1109@TAFFC.2020.3013711.pdf#navpanes=0&view=FitH': No host supplied\n",
      "Failed to download file: Invalid URL 'http:/downloads/2020-12-18/53/he2020.pdf#navpanes=0&view=FitH': No host supplied\n",
      "Failed to download file: Invalid URL 'http:/downloads/2020-01-23/9c/feng2019.pdf#navpanes=0&view=FitH': No host supplied\n",
      "Failed to download file: Invalid URL 'http:/tree/4d/db/4ddb34af1884a50d01addfed47d84534.pdf#navpanes=0&view=FitH': No host supplied\n",
      "Failed to download file: Invalid URL 'http:/downloads/2020-03-14/db/10.1007@s11263-020-01316-z.pdf#navpanes=0&view=FitH': No host supplied\n",
      "Failed to download file: Invalid URL 'http:/downloads/2019-12-06/35/berg2019.pdf#navpanes=0&view=FitH': No host supplied\n",
      "Failed to download file: Invalid URL 'http:/downloads/2020-07-28/52/kramberger2020.pdf#navpanes=0&view=FitH': No host supplied\n",
      "Failed to download file: Invalid URL 'http:/tree/73/56/73562f9720dab3ada4aee1b07057e977.pdf#navpanes=0&view=FitH': No host supplied\n",
      "Failed to download file: Invalid URL 'http:/downloads/2019-03-18/7f/suleiman2019.pdf#navpanes=0&view=FitH': No host supplied\n",
      "Failed to download file: Invalid URL 'http:/tree/51/0a/510a55e685d54210037c1546e6a4be9a.pdf#navpanes=0&view=FitH': No host supplied\n",
      "Failed to download file: Invalid URL 'http:/downloads/2019-01-09/a9/10.1016@j.yebeh.2018.12.006.pdf#navpanes=0&view=FitH': No host supplied\n",
      "Failed to download file: Invalid URL 'http:/downloads/2020-07-27/61/10.1007@s00521-020-05214-w.pdf#navpanes=0&view=FitH': No host supplied\n",
      "Failed to download file: Invalid URL 'http:/downloads/2021-06-09/e1/egger2020.pdf#navpanes=0&view=FitH': No host supplied\n",
      "Failed to download file: Invalid URL 'http:/downloads/2020-05-20/48/forest2002.pdf#navpanes=0&view=FitH': No host supplied\n",
      "Failed to download file: Invalid URL 'http:/downloads/2022-11-09/166e/zhao2022.pdf#navpanes=0&view=FitH': No host supplied\n",
      "Failed to download file: Invalid URL 'http:/downloads/2019-08-02/3e/10.14311@872.pdf#navpanes=0&view=FitH': No host supplied\n",
      "Failed to download file: Invalid URL 'http:/downloads/2020-09-25/e6/zhang2020.pdf#navpanes=0&view=FitH': No host supplied\n",
      "Failed to download file: Invalid URL 'http:/downloads/2019-03-23/b6/liu2015.pdf#navpanes=0&view=FitH': No host supplied\n",
      "Failed to download file: Invalid URL 'http:/downloads/2020-04-11/eb/roush1989.pdf#navpanes=0&view=FitH': No host supplied\n",
      "Failed to download file: Invalid URL 'http:/downloads/2021-06-20/1d/han2021.pdf#navpanes=0&view=FitH': No host supplied\n",
      "Failed to download file: Invalid URL 'http:/downloads/2021-08-11/ff/bagautdinov2021.pdf#navpanes=0&view=FitH': No host supplied\n",
      "Failed to download file: Invalid URL 'http:/tree/8f/be/8fbe82288b4af30bec92a41102c77714.pdf#navpanes=0&view=FitH': No host supplied\n",
      "Failed to download file: Invalid URL 'http:/downloads/2022-11-05/d0/gale2022.pdf#navpanes=0&view=FitH': No host supplied\n"
     ]
    },
    {
     "name": "stderr",
     "output_type": "stream",
     "text": [
      " 27%|██▋       | 3171/11877 [19:37<2:07:16,  1.14it/s]"
     ]
    },
    {
     "name": "stdout",
     "output_type": "stream",
     "text": [
      "Failed to download file: Invalid URL 'http:/downloads/2019-08-05/b2/10.1038@s41586-019-1461-3.pdf#navpanes=0&view=FitH': No host supplied\n",
      "Failed to download file: Invalid URL 'http:/downloads/2020-03-14/db/10.1007@s11263-020-01316-z.pdf#navpanes=0&view=FitH': No host supplied\n",
      "Failed to download file: Invalid URL 'http:/downloads/2021-05-26/11/wang2021.pdf#navpanes=0&view=FitH': No host supplied\n",
      "Failed to download file: Invalid URL 'http:/downloads/2022-11-08/394b/gao2022.pdf#navpanes=0&view=FitH': No host supplied\n",
      "Failed to download file: Invalid URL 'http:/downloads/2021-06-19/17/madhavan2021.pdf#navpanes=0&view=FitH': No host supplied\n",
      "Failed to download file: Invalid URL 'http:/downloads/2020-10-22/da/zhang2020.pdf#navpanes=0&view=FitH': No host supplied\n",
      "Failed to download file: Invalid URL 'http:/downloads/2019-04-08/de/brudno2018.pdf#navpanes=0&view=FitH': No host supplied\n",
      "Failed to download file: Invalid URL 'http:/downloads/2019-10-27/2f/vitturi2019.pdf#navpanes=0&view=FitH': No host supplied\n",
      "Failed to download file: Invalid URL 'http:/downloads/2019-12-27/03/ali2019.pdf#navpanes=0&view=FitH': No host supplied\n"
     ]
    },
    {
     "name": "stderr",
     "output_type": "stream",
     "text": [
      " 28%|██▊       | 3291/11877 [19:58<1:07:22,  2.12it/s]"
     ]
    },
    {
     "name": "stdout",
     "output_type": "stream",
     "text": [
      "Failed to download file: Invalid URL 'http:/downloads/2019-11-18/a4/tian2019.pdf#navpanes=0&view=FitH': No host supplied\n",
      "Failed to download file: Invalid URL 'http:/downloads/2022-11-07/62/koepke2022.pdf#navpanes=0&view=FitH': No host supplied\n",
      "Failed to download file: Invalid URL 'http:/downloads/2019-07-30/a1/10.1007@978-3-030-20893-67.pdf#navpanes=0&view=FitH': No host supplied\n",
      "Failed to download file: Invalid URL 'http:/downloads/2022-11-08/b6/tripathi2022.pdf#navpanes=0&view=FitH': No host supplied\n",
      "Failed to download file: Invalid URL 'http:/downloads/2019-07-25/90/10.1088@1674-4926@40@7@070202.pdf#navpanes=0&view=FitH': No host supplied\n",
      "Failed to download file: Invalid URL 'http:/downloads/2020-07-26/7b/song2020.pdf#navpanes=0&view=FitH': No host supplied\n",
      "Failed to download file: Invalid URL 'http:/downloads/2019-07-26/d5/10.2139@ssrn.3400728.pdf#navpanes=0&view=FitH': No host supplied\n",
      "Failed to download file: Invalid URL 'http:/downloads/2021-06-09/66/deschaintre2018.pdf#navpanes=0&view=FitH': No host supplied\n",
      "Failed to download file: Invalid URL 'http:/downloads/2021-06-09/34/li2017.pdf#navpanes=0&view=FitH': No host supplied\n",
      "Failed to download file: Invalid URL 'http:/downloads/2019-10-13/0f/moustakas2019.pdf#navpanes=0&view=FitH': No host supplied\n",
      "Failed to download file: Invalid URL 'http:/downloads/2020-08-28/1f/meyer1995.pdf#navpanes=0&view=FitH': No host supplied\n",
      "Failed to download file: Invalid URL 'http:/downloads/2019-01-20//0a/lu2017.pdf#navpanes=0&view=FitH': No host supplied\n",
      "Failed to download file: Invalid URL 'http:/downloads/2021-08-11/fd/briani2021.pdf#navpanes=0&view=FitH': No host supplied\n",
      "Failed to download file: Invalid URL 'http:/downloads/2020-01-09/9a/10.1109@TIP.2019.2963378.pdf#navpanes=0&view=FitH': No host supplied\n",
      "Failed to download file: Invalid URL 'http:/downloads/2021-08-11/4e/chen2021.pdf#navpanes=0&view=FitH': No host supplied\n",
      "Failed to download file: Invalid URL 'http:/downloads/2021-06-15/fa/feng2016.pdf#navpanes=0&view=FitH': No host supplied\n",
      "Failed to download file: Invalid URL 'http:/downloads/2021-06-14/3e/macklin2020.pdf#navpanes=0&view=FitH': No host supplied\n",
      "Failed to download file: Invalid URL 'http:/downloads/2019-12-18/01/chunyu2019.pdf#navpanes=0&view=FitH': No host supplied\n",
      "Failed to download file: Invalid URL 'http:/downloads/2019-01-14//d7/10.1016@j.isprsjprs.2018.12.008.pdf#navpanes=0&view=FitH': No host supplied\n",
      "Failed to download file: Invalid URL 'http:/downloads/2019-10-26/02/10.1016@j.comcom.2019.10.014.pdf#navpanes=0&view=FitH': No host supplied\n"
     ]
    },
    {
     "name": "stderr",
     "output_type": "stream",
     "text": [
      " 29%|██▉       | 3427/11877 [20:24<47:49,  2.94it/s]  "
     ]
    },
    {
     "name": "stdout",
     "output_type": "stream",
     "text": [
      "Failed to download file: Invalid URL 'http:/downloads/2019-04-12/1c/wu2018.pdf#navpanes=0&view=FitH': No host supplied\n",
      "Failed to download file: Invalid URL 'http:/downloads/2019-11-06/15/10.1016@j.physe.2019.113798.pdf#navpanes=0&view=FitH': No host supplied\n",
      "Failed to download file: Invalid URL 'http:/downloads/2019-03-01/49/xu2018.pdf#navpanes=0&view=FitH': No host supplied\n",
      "Failed to download file: Invalid URL 'http:/downloads/2020-05-10/da/li2020.pdf#navpanes=0&view=FitH': No host supplied\n",
      "Failed to download file: Invalid URL 'http:/downloads/2022-11-10/36/10.1080@00325481.2022.2037360.pdf#navpanes=0&view=FitH': No host supplied\n",
      "Failed to download file: Invalid URL 'http:/tree/b5/d5/b5d547478a1f125462dc038478622e29.pdf#navpanes=0&view=FitH': No host supplied\n",
      "Failed to download file: Invalid URL 'http:/downloads/2019-11-15/f0/10.1145@3355089.3356498.pdf#navpanes=0&view=FitH': No host supplied\n",
      "Failed to download file: Invalid URL 'http:/downloads/2019-03-18/b9/nishida2018.pdf#navpanes=0&view=FitH': No host supplied\n",
      "Failed to download file: Invalid URL 'http:/tree/61/6e/616ebc9b723244b4e4302afc3a7c8c48.pdf#navpanes=0&view=FitH': No host supplied\n",
      "Failed to download file: Invalid URL 'http:/tree/f5/be/f5bef1cd3e5266c9110a8eeebf0acc24.pdf#navpanes=0&view=FitH': No host supplied\n",
      "Failed to download file: Invalid URL 'http:/downloads/2019-01-01/3b/10.1145@3272127.3275042.pdf#navpanes=0&view=FitH': No host supplied\n",
      "Failed to download file: Invalid URL 'http:/downloads/2021-05-29/3b/hu2021.pdf#navpanes=0&view=FitH': No host supplied\n",
      "Failed to download file: Invalid URL 'http:/downloads/2019-01-01/f0/10.1145@3272127.3275043.pdf#navpanes=0&view=FitH': No host supplied\n",
      "Failed to download file: Invalid URL 'http:/downloads/2020-06-14/63/10.1007@s10462-020-09854-1.pdf#navpanes=0&view=FitH': No host supplied\n",
      "Failed to download file: Invalid URL 'http:/downloads/2019-01-08/16/yao2008.pdf#navpanes=0&view=FitH': No host supplied\n",
      "Failed to download file: Invalid URL 'http:/downloads/2021-05-15//f0/zhang2021.pdf#navpanes=0&view=FitH': No host supplied\n",
      "Failed to download file: Invalid URL 'http:/downloads/2021-05-24/bf51/zhao2021.pdf#navpanes=0&view=FitH': No host supplied\n",
      "Failed to download file: Invalid URL 'http:/downloads/2019-11-06/1e/zhao2019.pdf#navpanes=0&view=FitH': No host supplied\n",
      "Failed to download file: Invalid URL 'http:/downloads/2020-07-12/ae/10.1186@s43008-020-00033-z.pdf#navpanes=0&view=FitH': No host supplied\n",
      "Failed to download file: Invalid URL 'http:/downloads/2020-07-03//22/10.1136@bjsports-2020-102575.pdf#navpanes=0&view=FitH': No host supplied\n",
      "Failed to download file: Invalid URL 'http:/downloads/2021-06-15/04/campen2015.pdf#navpanes=0&view=FitH': No host supplied\n",
      "Failed to download file: Invalid URL 'http:/downloads/2019-08-22/ae/zhao2019.pdf#navpanes=0&view=FitH': No host supplied\n",
      "Failed to download file: Invalid URL 'http:/downloads/2019-03-26/78/10.1007@s11263-019-01170-8.pdf#navpanes=0&view=FitH': No host supplied\n",
      "Failed to download file: Invalid URL 'http:/downloads/2020-03-27/f2/10.1126@scirobotics.abb5589.pdf#navpanes=0&view=FitH': No host supplied\n",
      "Failed to download file: Invalid URL 'http:/tree/23/3a/233a06b8d58c79dcca23ed2254f228a7.pdf#navpanes=0&view=FitH': No host supplied\n",
      "Failed to download file: Invalid URL 'http:/downloads/2021-06-09/d3/geilinger2020.pdf#navpanes=0&view=FitH': No host supplied\n",
      "Failed to download file: Invalid URL 'http:/downloads/2019-02-05/02/zhu2016.pdf#navpanes=0&view=FitH': No host supplied\n",
      "Failed to download file: Invalid URL 'http:/downloads/2022-11-05/cb/borodzik2022.pdf#navpanes=0&view=FitH': No host supplied\n",
      "Failed to download file: Invalid URL 'http:/downloads/2019-10-21/bd/nikolaidou2018.pdf#navpanes=0&view=FitH': No host supplied\n",
      "Failed to download file: Invalid URL 'http:/downloads/2019-01-01/d9/10.1145@3272127.3275025.pdf#navpanes=0&view=FitH': No host supplied\n",
      "Failed to download file: Invalid URL 'http:/downloads/2020-01-08/6c/10.1109@TNNLS.2019.2957109.pdf#navpanes=0&view=FitH': No host supplied\n",
      "Failed to download file: Invalid URL 'http:/downloads/2019-10-10/99/10.1007@978-3-030-32248-9.pdf#navpanes=0&view=FitH': No host supplied\n",
      "Failed to download file: Invalid URL 'http:/downloads/2022-11-04/4c/nguyen2021.pdf#navpanes=0&view=FitH': No host supplied\n",
      "Failed to download file: Invalid URL 'http:/downloads/2019-07-17/b0/10.1109@TPAMI.2019.2924417.pdf#navpanes=0&view=FitH': No host supplied\n",
      "Failed to download file: Invalid URL 'http:/downloads/2019-08-08/c0/10.1007@s00170-019-03939-0.pdf#navpanes=0&view=FitH': No host supplied\n",
      "Failed to download file: Invalid URL 'http:/downloads/2019-04-21/0f/10.3390@s19071738.pdf#navpanes=0&view=FitH': No host supplied\n",
      "Failed to download file: Invalid URL 'http:/downloads/2019-11-07/fc/wang2019.pdf#navpanes=0&view=FitH': No host supplied\n",
      "Failed to download file: Invalid URL 'http:/tree/82/48/8248168445a60fd74236fe5681a4405c.pdf#navpanes=0&view=FitH': No host supplied\n",
      "Failed to download file: Invalid URL 'http:/downloads/2021-06-15/42/harvey2020.pdf#navpanes=0&view=FitH': No host supplied\n",
      "Failed to download file: Invalid URL 'http:/downloads/2021-06-09/17/aanjaneya2017.pdf#navpanes=0&view=FitH': No host supplied\n",
      "Failed to download file: Invalid URL 'http:/tree/c9/20/c920a15cbca9ea2cf3bac6ff4c48b83b.pdf#navpanes=0&view=FitH': No host supplied\n",
      "Failed to download file: Invalid URL 'http:/downloads/2019-01-04/84/hua2019.pdf#navpanes=0&view=FitH': No host supplied\n",
      "Failed to download file: Invalid URL 'http:/downloads/2020-09-03/97/grazioso2018.pdf#navpanes=0&view=FitH': No host supplied\n",
      "Failed to download file: Invalid URL 'http:/downloads/2020-11-12/d6/du2020.pdf#navpanes=0&view=FitH': No host supplied\n",
      "Failed to download file: Invalid URL 'http:/downloads/2021-06-09/17/bemana2020.pdf#navpanes=0&view=FitH': No host supplied\n",
      "Failed to download file: Invalid URL 'http:/downloads/2021-05-29/79/rehman2021.pdf#navpanes=0&view=FitH': No host supplied\n",
      "Failed to download file: Invalid URL 'http:/downloads/2020-05-24/de/gulcu2020.pdf#navpanes=0&view=FitH': No host supplied\n",
      "Failed to download file: Invalid URL 'http:/downloads/2019-09-07/7b/liu2019.pdf#navpanes=0&view=FitH': No host supplied\n",
      "Failed to download file: Invalid URL 'http:/downloads/2021-06-09/bf/solomon2016.pdf#navpanes=0&view=FitH': No host supplied\n",
      "Failed to download file: Invalid URL 'http:/downloads/2019-01-30//42/peng2018.pdf#navpanes=0&view=FitH': No host supplied\n",
      "Failed to download file: Invalid URL 'http:/tree/9c/07/9c070140f065a3a9edfc5d2517d0d6ce.pdf#navpanes=0&view=FitH': No host supplied\n",
      "Failed to download file: Invalid URL 'http:/downloads/2019-03-26/4b/yue2017.pdf#navpanes=0&view=FitH': No host supplied\n",
      "Failed to download file: Invalid URL 'http:/downloads/2020-02-06/c4/10.3390@sym12010021.pdf#navpanes=0&view=FitH': No host supplied\n",
      "Failed to download file: Invalid URL 'http:/downloads/2021-05-25/d9/1015elective-cancer-surgery-in-covid19-free-surgical-pathways-du-2021.pdf#navpanes=0&view=FitH': No host supplied\n",
      "Failed to download file: Invalid URL 'http:/downloads/2021-06-15/b9/li2020.pdf#navpanes=0&view=FitH': No host supplied\n",
      "Failed to download file: Invalid URL 'http:/downloads/2019-11-07/fc/wang2019.pdf#navpanes=0&view=FitH': No host supplied\n",
      "Failed to download file: Invalid URL 'http:/downloads/2019-10-25/29/10.1007@978-3-030-33720-9.pdf#navpanes=0&view=FitH': No host supplied\n",
      "Failed to download file: Invalid URL 'http:/downloads/2021-06-20/478a/liu2021.pdf#navpanes=0&view=FitH': No host supplied\n",
      "Failed to download file: Invalid URL 'http:/downloads/2021-08-11/f8/yuan2021.pdf#navpanes=0&view=FitH': No host supplied\n",
      "Failed to download file: Invalid URL 'http:/downloads/2019-08-24/cf/fan2019.pdf#navpanes=0&view=FitH': No host supplied\n",
      "Failed to download file: Invalid URL 'http:/downloads/2021-09-02/fd/deluca2021.pdf#navpanes=0&view=FitH': No host supplied\n",
      "Failed to download file: Invalid URL 'http:/downloads/2022-11-04/55/zan2021.pdf#navpanes=0&view=FitH': No host supplied\n"
     ]
    },
    {
     "name": "stderr",
     "output_type": "stream",
     "text": [
      " 30%|███       | 3586/11877 [21:25<49:38,  2.78it/s]"
     ]
    },
    {
     "name": "stdout",
     "output_type": "stream",
     "text": [
      "Failed to download file: Invalid URL 'http:/downloads/2019-01-10/18/petrov2018.pdf#navpanes=0&view=FitH': No host supplied\n",
      "Failed to download file: Invalid URL 'http:/downloads/2019-08-11/03/10.1111@cgf.13630.pdf#navpanes=0&view=FitH': No host supplied\n",
      "Failed to download file: Invalid URL 'http:/downloads/2021-06-14/ce/chen2017.pdf#navpanes=0&view=FitH': No host supplied\n",
      "Failed to download file: Invalid URL 'http:/downloads/2022-11-08/c2/mengaldo2022.pdf#navpanes=0&view=FitH': No host supplied\n",
      "Failed to download file: Invalid URL 'http:/downloads/2021-06-12/bc/schwartz2020.pdf#navpanes=0&view=FitH': No host supplied\n"
     ]
    },
    {
     "name": "stderr",
     "output_type": "stream",
     "text": [
      " 34%|███▍      | 4064/11877 [21:26<16:04,  8.10it/s]"
     ]
    },
    {
     "name": "stdout",
     "output_type": "stream",
     "text": [
      "Failed to download file: Invalid URL 'http:/downloads/2019-09-09/92/du2019.pdf#navpanes=0&view=FitH': No host supplied\n",
      "Failed to download file: Invalid URL 'http:/tree/f9/08/f90890729fa97f71b7cc2f31269bb1aa.pdf#navpanes=0&view=FitH': No host supplied\n",
      "Failed to download file: Invalid URL 'http:/downloads/2020-07-09/90/10.1609@aaai.v34i03.5652.pdf#navpanes=0&view=FitH': No host supplied\n",
      "Failed to download file: Invalid URL 'http:/downloads/2021-06-10/b3/hu2018.pdf#navpanes=0&view=FitH': No host supplied\n",
      "Failed to download file: Invalid URL 'http:/tree/0f/25/0f25c8e533aeb2ce0e964e56877683fa.pdf#navpanes=0&view=FitH': No host supplied\n",
      "Failed to download file: Invalid URL 'http:/downloads/2020-12-10/76/10.1186@s13073-020-00803-9.pdf#navpanes=0&view=FitH': No host supplied\n",
      "Failed to download file: Invalid URL 'http:/downloads/2020-07-16/c7/pham2020.pdf#navpanes=0&view=FitH': No host supplied\n",
      "Failed to download file: Invalid URL 'http:/downloads/2021-05-13//77/harweg2021.pdf#navpanes=0&view=FitH': No host supplied\n",
      "Failed to download file: Invalid URL 'http:/downloads/2020-05-07/5c/yu2020.pdf#navpanes=0&view=FitH': No host supplied\n",
      "Failed to download file: Invalid URL 'http:/downloads/2019-03-12/e1/10.1145@3241041.pdf#navpanes=0&view=FitH': No host supplied\n",
      "Failed to download file: Invalid URL 'http:/downloads/2019-01-08/cc/nishita1985.pdf#navpanes=0&view=FitH': No host supplied\n",
      "Failed to download file: Invalid URL 'http:/downloads/2020-05-17/e9/sedlacek2009.pdf#navpanes=0&view=FitH': No host supplied\n",
      "Failed to download file: Invalid URL 'http:/downloads/2019-09-20/61/10.14419@ijet.v7i2.32.15699.pdf#navpanes=0&view=FitH': No host supplied\n"
     ]
    },
    {
     "name": "stderr",
     "output_type": "stream",
     "text": [
      " 35%|███▌      | 4177/11877 [21:32<14:13,  9.02it/s]"
     ]
    },
    {
     "name": "stdout",
     "output_type": "stream",
     "text": [
      "Failed to download file: Invalid URL 'http:/downloads/2019-03-07/02/jain2004.pdf#navpanes=0&view=FitH': No host supplied\n",
      "Failed to download file: Invalid URL 'http:/downloads/2020-05-21/30/10.1109@TMI.2020.2995965.pdf#navpanes=0&view=FitH': No host supplied\n",
      "Failed to download file: Invalid URL 'http:/downloads/2022-11-07/31/watanabe2021.pdf#navpanes=0&view=FitH': No host supplied\n",
      "Failed to download file: Invalid URL 'http:/downloads/2019-10-23/11/perez2019.pdf#navpanes=0&view=FitH': No host supplied\n",
      "Failed to download file: Invalid URL 'http:/downloads/2022-11-08/c0/liang2021.pdf#navpanes=0&view=FitH': No host supplied\n",
      "Failed to download file: Invalid URL 'http:/downloads/2020-08-05/79/agrawal2010.pdf#navpanes=0&view=FitH': No host supplied\n",
      "Failed to download file: Invalid URL 'http:/downloads/2019-01-08/3d/garcia-garcia2018.pdf#navpanes=0&view=FitH': No host supplied\n",
      "Failed to download file: Invalid URL 'http:/downloads/2021-06-15/c0/du2020.pdf#navpanes=0&view=FitH': No host supplied\n",
      "Failed to download file: Invalid URL 'http:/downloads/2021-08-14/81/pandey2021.pdf#navpanes=0&view=FitH': No host supplied\n",
      "Failed to download file: Invalid URL 'http:/downloads/2021-06-09/fc/10.1145@2661229.2661285.pdf#navpanes=0&view=FitH': No host supplied\n",
      "Failed to download file: Invalid URL 'http:/downloads/2020-06-24//3a/aldoma2012.pdf#navpanes=0&view=FitH': No host supplied\n",
      "Failed to download file: Invalid URL 'http:/downloads/2019-08-22/dd/tanaka2017.pdf#navpanes=0&view=FitH': No host supplied\n",
      "Failed to download file: Invalid URL 'http:/downloads/2019-09-06/8e/sporring1997.pdf#navpanes=0&view=FitH': No host supplied\n"
     ]
    },
    {
     "name": "stderr",
     "output_type": "stream",
     "text": [
      " 36%|███▌      | 4257/11877 [21:37<13:06,  9.69it/s]"
     ]
    },
    {
     "name": "stdout",
     "output_type": "stream",
     "text": [
      "Failed to download file: Invalid URL 'http:/downloads/2022-11-07/90/ciftci2020.pdf#navpanes=0&view=FitH': No host supplied\n",
      "Failed to download file: Invalid URL 'http:/downloads/2019-01-21//df/hu1993.pdf#navpanes=0&view=FitH': No host supplied\n",
      "Failed to download file: Invalid URL 'http:/downloads/2021-08-11/e9/habermann2021.pdf#navpanes=0&view=FitH': No host supplied\n",
      "Failed to download file: Invalid URL 'http:/downloads/2020-07-22/1d/khamparia2020.pdf#navpanes=0&view=FitH': No host supplied\n",
      "Failed to download file: Invalid URL 'http:/tree/61/b4/61b4410ba42d99427c8188317b0c631d.pdf#navpanes=0&view=FitH': No host supplied\n"
     ]
    },
    {
     "name": "stderr",
     "output_type": "stream",
     "text": [
      " 36%|███▋      | 4314/11877 [21:39<12:00, 10.50it/s]"
     ]
    },
    {
     "name": "stdout",
     "output_type": "stream",
     "text": [
      "Failed to download file: Invalid URL 'http:/downloads/2019-01-29//9b/zhang2018.pdf#navpanes=0&view=FitH': No host supplied\n",
      "Failed to download file: Invalid URL 'http:/downloads/2019-02-18/dd/10.1145@3301411.pdf#navpanes=0&view=FitH': No host supplied\n",
      "Failed to download file: Invalid URL 'http:/downloads/2021-06-19/51/zhou2021.pdf#navpanes=0&view=FitH': No host supplied\n",
      "Failed to download file: Invalid URL 'http:/downloads/2019-03-08/de/magnussen2010.pdf#navpanes=0&view=FitH': No host supplied\n",
      "Failed to download file: Invalid URL 'http:/downloads/2020-11-17/10/10.1038@s41598-020-76550-z.pdf#navpanes=0&view=FitH': No host supplied\n",
      "Failed to download file: HTTPConnectionPool(host='dacemirror.sci-hub.se', port=80): Max retries exceeded with url: /journal-article/dad4f7a42fec7d051f65d239bf02de62/jones2000.pdf (Caused by NewConnectionError('<urllib3.connection.HTTPConnection object at 0x2e5b2e0e0>: Failed to establish a new connection: [Errno 8] nodename nor servname provided, or not known'))\n",
      "Failed to download file: Invalid URL 'http:/downloads/2022-11-13/68/wang2022.pdf#navpanes=0&view=FitH': No host supplied\n",
      "Failed to download file: Invalid URL 'http:/downloads/2019-02-22/59/shen2016.pdf#navpanes=0&view=FitH': No host supplied\n",
      "Failed to download file: Invalid URL 'http:/downloads/2019-01-21//51/10.3847@1538-4357@aaf732.pdf#navpanes=0&view=FitH': No host supplied\n"
     ]
    },
    {
     "name": "stderr",
     "output_type": "stream",
     "text": [
      " 37%|███▋      | 4354/11877 [21:42<11:29, 10.92it/s]"
     ]
    },
    {
     "name": "stdout",
     "output_type": "stream",
     "text": [
      "Failed to download file: Invalid URL 'http:/downloads/2021-06-15/69/dai2017.pdf#navpanes=0&view=FitH': No host supplied\n",
      "Failed to download file: Invalid URL 'http:/downloads/2020-12-01/69/vidaurre2020.pdf#navpanes=0&view=FitH': No host supplied\n"
     ]
    },
    {
     "name": "stderr",
     "output_type": "stream",
     "text": [
      " 37%|███▋      | 4383/11877 [21:45<11:33, 10.81it/s]"
     ]
    },
    {
     "name": "stdout",
     "output_type": "stream",
     "text": [
      "Failed to download file: Invalid URL 'http:/downloads/2020-08-26/7c/10.1007@s11042-020-09406-3.pdf#navpanes=0&view=FitH': No host supplied\n",
      "Failed to download file: Invalid URL 'http:/downloads/2020-09-11/bf/10.1007@s11263-020-01378-z.pdf#navpanes=0&view=FitH': No host supplied\n",
      "Failed to download file: Invalid URL 'http:/downloads/2019-12-18/03/liao2019.pdf#navpanes=0&view=FitH': No host supplied\n",
      "Failed to download file: Invalid URL 'http:/tree/5e/67/5e6701531a6f14cd42d3a8f88391a6e7.pdf#navpanes=0&view=FitH': No host supplied\n",
      "Failed to download file: Invalid URL 'http:/downloads/2022-11-06/91/biener2022.pdf#navpanes=0&view=FitH': No host supplied\n",
      "Failed to download file: Invalid URL 'http:/downloads/2020-06-17//fef1/tang2020.pdf#navpanes=0&view=FitH': No host supplied\n"
     ]
    },
    {
     "name": "stderr",
     "output_type": "stream",
     "text": [
      " 37%|███▋      | 4404/11877 [21:46<11:20, 10.98it/s]"
     ]
    },
    {
     "name": "stdout",
     "output_type": "stream",
     "text": [
      "Failed to download file: Invalid URL 'http:/downloads/2020-05-21/d2/10.1038@s41598-020-64803-w.pdf#navpanes=0&view=FitH': No host supplied\n",
      "Failed to download file: Invalid URL 'http:/downloads/2021-08-11/1e83/yuan2021.pdf#navpanes=0&view=FitH': No host supplied\n"
     ]
    },
    {
     "name": "stderr",
     "output_type": "stream",
     "text": [
      " 37%|███▋      | 4447/11877 [21:47<08:48, 14.07it/s]"
     ]
    },
    {
     "name": "stdout",
     "output_type": "stream",
     "text": [
      "Failed to download file: Invalid URL 'http:/downloads/2020-01-10/aa/10.1038@s41467-019-13922-8.pdf#navpanes=0&view=FitH': No host supplied\n",
      "Failed to download file: Invalid URL 'http:/downloads/2021-05-13//6d/noorwez2003.pdf#navpanes=0&view=FitH': No host supplied\n",
      "Failed to download file: Invalid URL 'http:/downloads/2021-08-09/58ba/wang2021.pdf#navpanes=0&view=FitH': No host supplied\n"
     ]
    },
    {
     "name": "stderr",
     "output_type": "stream",
     "text": [
      " 38%|███▊      | 4477/11877 [21:48<07:56, 15.54it/s]"
     ]
    },
    {
     "name": "stdout",
     "output_type": "stream",
     "text": [
      "Failed to download file: Invalid URL 'http:/downloads/2022-11-18/c1/jospin2022.pdf#navpanes=0&view=FitH': No host supplied\n",
      "Failed to download file: Invalid URL 'http:/downloads/2019-01-22//8c/xiao2014.pdf#navpanes=0&view=FitH': No host supplied\n",
      "Failed to download file: Invalid URL 'http:/downloads/2019-01-01/fd/10.1145@3272127.3275109.pdf#navpanes=0&view=FitH': No host supplied\n"
     ]
    },
    {
     "name": "stderr",
     "output_type": "stream",
     "text": [
      " 38%|███▊      | 4487/11877 [21:48<07:41, 16.01it/s]"
     ]
    },
    {
     "name": "stdout",
     "output_type": "stream",
     "text": [
      "Failed to download file: Invalid URL 'http:/downloads/2019-09-29/51/philip2019.pdf#navpanes=0&view=FitH': No host supplied\n"
     ]
    },
    {
     "name": "stderr",
     "output_type": "stream",
     "text": [
      " 38%|███▊      | 4495/11877 [21:49<07:59, 15.40it/s]"
     ]
    },
    {
     "name": "stdout",
     "output_type": "stream",
     "text": [
      "Failed to download file: Invalid URL 'http:/downloads/2021-06-19/2a/budd2021.pdf#navpanes=0&view=FitH': No host supplied\n",
      "Failed to download file: Invalid URL 'http:/downloads/2021-05-16/79/lu2020.pdf#navpanes=0&view=FitH': No host supplied\n"
     ]
    },
    {
     "name": "stderr",
     "output_type": "stream",
     "text": [
      " 38%|███▊      | 4510/11877 [21:49<06:46, 18.10it/s]"
     ]
    },
    {
     "name": "stdout",
     "output_type": "stream",
     "text": [
      "Failed to download file: Invalid URL 'http:/downloads/2020-07-27/9c/marzullo2020.pdf#navpanes=0&view=FitH': No host supplied\n",
      "Failed to download file: Invalid URL 'http:/tree/65/cd/65cd6e3409fbea2a432451310f1801cb.pdf#navpanes=0&view=FitH': No host supplied\n",
      "Failed to download file: Invalid URL 'http:/downloads/2019-01-24//b3/sun2015.pdf#navpanes=0&view=FitH': No host supplied\n",
      "Failed to download file: Invalid URL 'http:/downloads/2020-01-02/30/10.1089@soro.2018.0162.pdf#navpanes=0&view=FitH': No host supplied\n",
      "Failed to download file: Invalid URL 'http:/downloads/2021-08-12/34/wang2021.pdf#navpanes=0&view=FitH': No host supplied\n",
      "Failed to download file: Invalid URL 'http:/downloads/2020-09-20/b6/higham2020.pdf#navpanes=0&view=FitH': No host supplied\n"
     ]
    },
    {
     "name": "stderr",
     "output_type": "stream",
     "text": [
      " 38%|███▊      | 4515/11877 [21:51<12:59,  9.44it/s]"
     ]
    },
    {
     "name": "stdout",
     "output_type": "stream",
     "text": [
      "Failed to download file: Invalid URL 'http:/downloads/2022-11-07/7c/lin2022.pdf#navpanes=0&view=FitH': No host supplied\n",
      "Failed to download file: Invalid URL 'http:/tree/d9/d3/d9d3718a74116d084f18f0dc88382d57.pdf#navpanes=0&view=FitH': No host supplied\n",
      "Failed to download file: Invalid URL 'http:/downloads/2019-04-27/00/10.1109@TPAMI.2019.2911077.pdf#navpanes=0&view=FitH': No host supplied\n",
      "Failed to download file: Invalid URL 'http:/downloads/2019-11-19/0a/perrinet2019.pdf#navpanes=0&view=FitH': No host supplied\n"
     ]
    },
    {
     "name": "stderr",
     "output_type": "stream",
     "text": [
      " 38%|███▊      | 4555/11877 [21:52<05:27, 22.34it/s]"
     ]
    },
    {
     "name": "stdout",
     "output_type": "stream",
     "text": [
      "Failed to download file: Invalid URL 'http:/downloads/2019-09-19/70/singer2019.pdf#navpanes=0&view=FitH': No host supplied\n"
     ]
    },
    {
     "name": "stderr",
     "output_type": "stream",
     "text": [
      " 39%|███▊      | 4575/11877 [21:53<05:17, 23.00it/s]"
     ]
    },
    {
     "name": "stdout",
     "output_type": "stream",
     "text": [
      "Failed to download file: Invalid URL 'http:/downloads/2019-08-02/a9/10.1145@3306346.3322967.pdf#navpanes=0&view=FitH': No host supplied\n",
      "Failed to download file: Invalid URL 'http:/downloads/2021-06-14/ae/hu2020.pdf#navpanes=0&view=FitH': No host supplied\n"
     ]
    },
    {
     "name": "stderr",
     "output_type": "stream",
     "text": [
      " 39%|███▊      | 4589/11877 [21:53<06:13, 19.53it/s]"
     ]
    },
    {
     "name": "stdout",
     "output_type": "stream",
     "text": [
      "Failed to download file: Invalid URL 'http:/downloads/2019-07-30/d2/10.1016@j.image.2019.05.013.pdf#navpanes=0&view=FitH': No host supplied\n",
      "Failed to download file: Invalid URL 'http:/downloads/2019-11-06/87/le2019.pdf#navpanes=0&view=FitH': No host supplied\n"
     ]
    },
    {
     "name": "stderr",
     "output_type": "stream",
     "text": [
      " 39%|███▊      | 4600/11877 [21:54<05:13, 23.24it/s]"
     ]
    },
    {
     "name": "stdout",
     "output_type": "stream",
     "text": [
      "Failed to download file: Invalid URL 'http:/downloads/2020-05-26/0b/sun2020.pdf#navpanes=0&view=FitH': No host supplied\n",
      "Failed to download file: Invalid URL 'http:/downloads/2019-08-08/c9/10.1109@JBHI.2019.2933046.pdf#navpanes=0&view=FitH': No host supplied\n",
      "Failed to download file: Invalid URL 'http:/downloads/2020-06-11/89/10.1007@978-3-642-23196-419.pdf#navpanes=0&view=FitH': No host supplied\n",
      "Failed to download file: Invalid URL 'http:/downloads/2019-11-13/43/badri2019.pdf#navpanes=0&view=FitH': No host supplied\n"
     ]
    },
    {
     "name": "stderr",
     "output_type": "stream",
     "text": [
      " 39%|███▉      | 4605/11877 [21:54<05:30, 22.02it/s]"
     ]
    },
    {
     "name": "stdout",
     "output_type": "stream",
     "text": [
      "Failed to download file: Invalid URL 'http:/tree/37/19/3719067ab4ed21e9fe3f2a03ab5b1aa6.pdf#navpanes=0&view=FitH': No host supplied\n",
      "Failed to download file: Invalid URL 'http:/downloads/2020-07-30/45/liao2020.pdf#navpanes=0&view=FitH': No host supplied\n",
      "Failed to download file: Invalid URL 'http:/downloads/2019-02-22/14/yue2016.pdf#navpanes=0&view=FitH': No host supplied\n",
      "Failed to download file: Invalid URL 'http:/downloads/2019-11-04/91/harris2007.pdf#navpanes=0&view=FitH': No host supplied\n"
     ]
    },
    {
     "name": "stderr",
     "output_type": "stream",
     "text": [
      " 39%|███▉      | 4609/11877 [21:56<15:33,  7.78it/s]"
     ]
    },
    {
     "name": "stdout",
     "output_type": "stream",
     "text": [
      "Failed to download file: Invalid URL 'http:/downloads/2019-12-07/8e/han2019.pdf#navpanes=0&view=FitH': No host supplied\n",
      "Failed to download file: Invalid URL 'http:/tree/11/0a/110a5f7fa0b406d7f62366f76926b717.pdf#navpanes=0&view=FitH': No host supplied\n",
      "Failed to download file: Invalid URL 'http:/downloads/2021-05-15//a0/refine-your-system-for-identifying-and-inviting-graduation-speak-2021.pdf#navpanes=0&view=FitH': No host supplied\n",
      "Failed to download file: Invalid URL 'http:/downloads/2019-04-17/af/zhou2018.pdf#navpanes=0&view=FitH': No host supplied\n",
      "Failed to download file: Invalid URL 'http:/downloads/2021-06-15/58/dang2015.pdf#navpanes=0&view=FitH': No host supplied\n",
      "Failed to download file: Invalid URL 'http:/downloads/2020-03-14/90/10.1016@j.isprsjprs.2020.02.018.pdf#navpanes=0&view=FitH': No host supplied\n",
      "Failed to download file: Invalid URL 'http:/downloads/2019-08-25/cc/yi2019.pdf#navpanes=0&view=FitH': No host supplied\n",
      "Failed to download file: Invalid URL 'http:/downloads/2020-07-22/21/10.1111@cgf.13919.pdf#navpanes=0&view=FitH': No host supplied\n",
      "Failed to download file: Invalid URL 'http:/downloads/2019-11-05/ea/bonneel2019.pdf#navpanes=0&view=FitH': No host supplied\n",
      "Failed to download file: Invalid URL 'http:/downloads/2019-07-05/18/rabin2015.pdf#navpanes=0&view=FitH': No host supplied\n",
      "Failed to download file: Invalid URL 'http:/downloads/2020-10-11/a6/sarwat2020.pdf#navpanes=0&view=FitH': No host supplied\n",
      "Failed to download file: Invalid URL 'http:/downloads/2021-06-13/06/wang2020.pdf#navpanes=0&view=FitH': No host supplied\n",
      "Failed to download file: Invalid URL 'http:/downloads/2021-06-09/dd/mehta2020.pdf#navpanes=0&view=FitH': No host supplied\n",
      "Failed to download file: Invalid URL 'http:/downloads/2022-11-11/a408/wang2022.pdf#navpanes=0&view=FitH': No host supplied\n",
      "Failed to download file: Invalid URL 'http:/downloads/2020-08-27/12/10.1002@hbm.25154.pdf#navpanes=0&view=FitH': No host supplied\n",
      "Failed to download file: Invalid URL 'http:/downloads/2020-06-04/28/wu2020.pdf#navpanes=0&view=FitH': No host supplied\n",
      "Failed to download file: Invalid URL 'http:/downloads/2021-06-15/73/campen2017.pdf#navpanes=0&view=FitH': No host supplied\n",
      "Failed to download file: Invalid URL 'http:/downloads/2019-03-31/00/10.1007@s10994-019-05782-6.pdf#navpanes=0&view=FitH': No host supplied\n",
      "Failed to download file: Invalid URL 'http:/downloads/2019-03-17/4a/10.1109@tip.2019.2898567.pdf#navpanes=0&view=FitH': No host supplied\n",
      "Failed to download file: Invalid URL 'http:/downloads/2019-11-11/85/10.1145@3355089.3356500.pdf#navpanes=0&view=FitH': No host supplied\n"
     ]
    },
    {
     "name": "stderr",
     "output_type": "stream",
     "text": [
      " 39%|███▉      | 4621/11877 [22:05<47:49,  2.53it/s]"
     ]
    },
    {
     "name": "stdout",
     "output_type": "stream",
     "text": [
      "Failed to download file: Invalid URL 'http:/downloads/2021-05-14//0e/alajez2021.pdf#navpanes=0&view=FitH': No host supplied\n",
      "Failed to download file: Invalid URL 'http:/tree/18/0f/180f085e9fc5509824bb66edf8b0f3aa.pdf#navpanes=0&view=FitH': No host supplied\n",
      "Failed to download file: Invalid URL 'http:/downloads/2019-09-08/5d/fu2019.pdf#navpanes=0&view=FitH': No host supplied\n",
      "Failed to download file: Invalid URL 'http:/downloads/2021-06-13/45/heide2014.pdf#navpanes=0&view=FitH': No host supplied\n",
      "Failed to download file: Invalid URL 'http:/tree/52/f1/52f1ed39dfcef60149e6df71cdd98471.pdf#navpanes=0&view=FitH': No host supplied\n",
      "Failed to download file: Invalid URL 'http:/downloads/2020-04-08/60/rivera2015.pdf#navpanes=0&view=FitH': No host supplied\n"
     ]
    },
    {
     "name": "stderr",
     "output_type": "stream",
     "text": [
      " 40%|████      | 4789/11877 [22:07<05:58, 19.75it/s]"
     ]
    },
    {
     "name": "stdout",
     "output_type": "stream",
     "text": [
      "Failed to download file: Invalid URL 'http:/downloads/2019-01-03/33/wei2017.pdf#navpanes=0&view=FitH': No host supplied\n",
      "Failed to download file: Invalid URL 'http:/downloads/2019-12-23/76/warren2018.pdf#navpanes=0&view=FitH': No host supplied\n",
      "Failed to download file: Invalid URL 'http:/downloads/2021-06-20/95/topics-in-cryptology--ctrsa-2021-2021.pdf#navpanes=0&view=FitH': No host supplied\n",
      "Failed to download file: Invalid URL 'http:/downloads/2020-12-17/f0/zhang2020.pdf#navpanes=0&view=FitH': No host supplied\n",
      "Failed to download file: Invalid URL 'http:/downloads/2019-03-17/1c/10.1016@j.image.2019.02.002.pdf#navpanes=0&view=FitH': No host supplied\n"
     ]
    },
    {
     "name": "stderr",
     "output_type": "stream",
     "text": [
      " 41%|████      | 4848/11877 [22:08<04:34, 25.62it/s]"
     ]
    },
    {
     "name": "stdout",
     "output_type": "stream",
     "text": [
      "Failed to download file: Invalid URL 'http:/downloads/2021-06-17/34/thamsen2021.pdf#navpanes=0&view=FitH': No host supplied\n"
     ]
    },
    {
     "name": "stderr",
     "output_type": "stream",
     "text": [
      " 41%|████      | 4857/11877 [22:08<04:26, 26.30it/s]"
     ]
    },
    {
     "name": "stdout",
     "output_type": "stream",
     "text": [
      "Failed to download file: Invalid URL 'http:/downloads/2020-06-19//32/10.1016@j.rser.2020.109959.pdf#navpanes=0&view=FitH': No host supplied\n",
      "Failed to download file: Invalid URL 'http:/downloads/2019-08-21/9c/verhack2019.pdf#navpanes=0&view=FitH': No host supplied\n",
      "Failed to download file: Invalid URL 'http:/downloads/2021-05-24/7b/stabinger2021.pdf#navpanes=0&view=FitH': No host supplied\n"
     ]
    },
    {
     "name": "stderr",
     "output_type": "stream",
     "text": [
      " 41%|████      | 4864/11877 [22:09<04:49, 24.23it/s]"
     ]
    },
    {
     "name": "stdout",
     "output_type": "stream",
     "text": [
      "Failed to download file: Invalid URL 'http:/tree/fe/14/fe14fbd3ed69dcca1fb646b0f38147fa.pdf#navpanes=0&view=FitH': No host supplied\n",
      "Failed to download file: Invalid URL 'http:/downloads/2022-11-04/0e/pattern-recognition-and-computer-vision-2021.pdf#navpanes=0&view=FitH': No host supplied\n"
     ]
    },
    {
     "name": "stderr",
     "output_type": "stream",
     "text": [
      " 41%|████      | 4870/11877 [22:09<05:13, 22.36it/s]"
     ]
    },
    {
     "name": "stdout",
     "output_type": "stream",
     "text": [
      "Failed to download file: Invalid URL 'http:/downloads/2019-11-12/31/pan2019.pdf#navpanes=0&view=FitH': No host supplied\n",
      "Failed to download file: Invalid URL 'http:/downloads/2021-06-15/91/wisessing2020.pdf#navpanes=0&view=FitH': No host supplied\n",
      "Failed to download file: Invalid URL 'http:/downloads/2019-08-26/24/10.1609@aaai.v33i01.33014602.pdf#navpanes=0&view=FitH': No host supplied\n"
     ]
    },
    {
     "name": "stderr",
     "output_type": "stream",
     "text": [
      " 41%|████      | 4879/11877 [22:09<04:50, 24.06it/s]"
     ]
    },
    {
     "name": "stdout",
     "output_type": "stream",
     "text": [
      "Failed to download file: Invalid URL 'http:/downloads/2021-06-09/32/broxton2020.pdf#navpanes=0&view=FitH': No host supplied\n",
      "Failed to download file: Invalid URL 'http:/downloads/2021-06-09/67/fu2017.pdf#navpanes=0&view=FitH': No host supplied\n"
     ]
    },
    {
     "name": "stderr",
     "output_type": "stream",
     "text": [
      " 41%|████▏     | 4901/11877 [22:10<04:56, 23.52it/s]"
     ]
    },
    {
     "name": "stdout",
     "output_type": "stream",
     "text": [
      "Failed to download file: Invalid URL 'http:/downloads/2020-02-10/26/benjdira2019.pdf#navpanes=0&view=FitH': No host supplied\n",
      "Failed to download file: Invalid URL 'http:/downloads/2019-07-21/27/10.1016@j.cmpb.2019.06.005.pdf#navpanes=0&view=FitH': No host supplied\n",
      "Failed to download file: Invalid URL 'http:/downloads/2019-07-31/09/10.1038@s41598-019-46877-3.pdf#navpanes=0&view=FitH': No host supplied\n"
     ]
    },
    {
     "name": "stderr",
     "output_type": "stream",
     "text": [
      " 41%|████▏     | 4925/11877 [22:12<05:19, 21.79it/s]"
     ]
    },
    {
     "name": "stdout",
     "output_type": "stream",
     "text": [
      "Failed to download file: Invalid URL 'http:/downloads/2019-11-25/1a/cain2019.pdf#navpanes=0&view=FitH': No host supplied\n"
     ]
    },
    {
     "name": "stderr",
     "output_type": "stream",
     "text": [
      " 42%|████▏     | 4938/11877 [22:12<05:53, 19.62it/s]"
     ]
    },
    {
     "name": "stdout",
     "output_type": "stream",
     "text": [
      "Failed to download file: Invalid URL 'http:/downloads/2022-11-07/0d/neo2022.pdf#navpanes=0&view=FitH': No host supplied\n",
      "Failed to download file: Invalid URL 'http:/downloads/2020-07-15/3b/freedman2020.pdf#navpanes=0&view=FitH': No host supplied\n",
      "Failed to download file: Invalid URL 'http:/tree/20/40/204096f04406e270ee05004755800dbc.pdf#navpanes=0&view=FitH': No host supplied\n"
     ]
    },
    {
     "name": "stderr",
     "output_type": "stream",
     "text": [
      " 42%|████▏     | 4941/11877 [22:12<07:11, 16.07it/s]"
     ]
    },
    {
     "name": "stdout",
     "output_type": "stream",
     "text": [
      "Failed to download file: Invalid URL 'http:/downloads/2019-03-20/a1/10.1109@TPAMI.2019.2895793.pdf#navpanes=0&view=FitH': No host supplied\n",
      "Failed to download file: Invalid URL 'http:/downloads/2019-03-24/b4/aristidou2018.pdf#navpanes=0&view=FitH': No host supplied\n"
     ]
    },
    {
     "name": "stderr",
     "output_type": "stream",
     "text": [
      " 42%|████▏     | 4950/11877 [22:13<05:54, 19.53it/s]"
     ]
    },
    {
     "name": "stdout",
     "output_type": "stream",
     "text": [
      "Failed to download file: Invalid URL 'http:/downloads/2019-01-17//bc/lopes2016.pdf#navpanes=0&view=FitH': No host supplied\n",
      "Failed to download file: Invalid URL 'http:/downloads/2019-08-25/4b/gotz2019.pdf#navpanes=0&view=FitH': No host supplied\n"
     ]
    },
    {
     "name": "stderr",
     "output_type": "stream",
     "text": [
      " 42%|████▏     | 4956/11877 [22:13<05:38, 20.45it/s]"
     ]
    },
    {
     "name": "stdout",
     "output_type": "stream",
     "text": [
      "Failed to download file: Invalid URL 'http:/downloads/2021-06-15/6b/10.1145@3414685.3417782.pdf#navpanes=0&view=FitH': No host supplied\n",
      "Failed to download file: Invalid URL 'http:/downloads/2021-06-16/6a/gryaditskaya2019.pdf#navpanes=0&view=FitH': No host supplied\n",
      "Failed to download file: Invalid URL 'http:/downloads/2019-11-17/16/alansary2019.pdf#navpanes=0&view=FitH': No host supplied\n"
     ]
    },
    {
     "name": "stderr",
     "output_type": "stream",
     "text": [
      " 42%|████▏     | 4978/11877 [22:14<04:23, 26.22it/s]"
     ]
    },
    {
     "name": "stdout",
     "output_type": "stream",
     "text": [
      "Failed to download file: Invalid URL 'http:/downloads/2019-09-27/95/ren2019.pdf#navpanes=0&view=FitH': No host supplied\n",
      "Failed to download file: Invalid URL 'http:/tree/c1/ff/c1ffa6648c536671fe5a3ea3cf46b7b9.pdf#navpanes=0&view=FitH': No host supplied\n",
      "Failed to download file: Invalid URL 'http:/downloads/2021-06-15/42/aberman2020.pdf#navpanes=0&view=FitH': No host supplied\n"
     ]
    },
    {
     "name": "stderr",
     "output_type": "stream",
     "text": [
      " 42%|████▏     | 4985/11877 [22:14<04:49, 23.82it/s]"
     ]
    },
    {
     "name": "stdout",
     "output_type": "stream",
     "text": [
      "Failed to download file: Invalid URL 'http:/tree/1b/60/1b6087f47e50519d49370986ed194d17.pdf#navpanes=0&view=FitH': No host supplied\n",
      "Failed to download file: Invalid URL 'http:/tree/0b/52/0b52d28244d907a394d45a99f91de73a.pdf#navpanes=0&view=FitH': No host supplied\n"
     ]
    },
    {
     "name": "stderr",
     "output_type": "stream",
     "text": [
      " 42%|████▏     | 4994/11877 [22:15<06:17, 18.22it/s]"
     ]
    },
    {
     "name": "stdout",
     "output_type": "stream",
     "text": [
      "Failed to download file: Invalid URL 'http:/downloads/2020-11-11/ed/singh2020.pdf#navpanes=0&view=FitH': No host supplied\n",
      "Failed to download file: Invalid URL 'http:/downloads/2021-08-11/dd/bangaru2021.pdf#navpanes=0&view=FitH': No host supplied\n"
     ]
    },
    {
     "name": "stderr",
     "output_type": "stream",
     "text": [
      " 42%|████▏     | 4996/11877 [22:15<06:37, 17.33it/s]"
     ]
    },
    {
     "name": "stdout",
     "output_type": "stream",
     "text": [
      "Failed to download file: Invalid URL 'http:/downloads/2019-07-30/d2/10.1016@j.image.2019.05.013.pdf#navpanes=0&view=FitH': No host supplied\n",
      "Failed to download file: Invalid URL 'http:/downloads/2021-06-14/2b/cheng2021.pdf#navpanes=0&view=FitH': No host supplied\n"
     ]
    },
    {
     "name": "stderr",
     "output_type": "stream",
     "text": [
      " 42%|████▏     | 5011/11877 [22:16<04:17, 26.69it/s]"
     ]
    },
    {
     "name": "stdout",
     "output_type": "stream",
     "text": [
      "Failed to download file: Invalid URL 'http:/downloads/2020-07-28/52/kramberger2020.pdf#navpanes=0&view=FitH': No host supplied\n",
      "Failed to download file: Invalid URL 'http:/downloads/2019-03-07/47/sadeghian2018.pdf#navpanes=0&view=FitH': No host supplied\n"
     ]
    },
    {
     "name": "stderr",
     "output_type": "stream",
     "text": [
      " 42%|████▏     | 5035/11877 [22:17<04:13, 26.94it/s]"
     ]
    },
    {
     "name": "stdout",
     "output_type": "stream",
     "text": [
      "Failed to download file: Invalid URL 'http:/downloads/2020-12-22/c4/petrescu2020.pdf#navpanes=0&view=FitH': No host supplied\n"
     ]
    },
    {
     "name": "stderr",
     "output_type": "stream",
     "text": [
      " 42%|████▏     | 5046/11877 [22:17<05:50, 19.49it/s]"
     ]
    },
    {
     "name": "stdout",
     "output_type": "stream",
     "text": [
      "Failed to download file: Invalid URL 'http:/downloads/2020-10-07/00/10.1177@1477153520958448.pdf#navpanes=0&view=FitH': No host supplied\n",
      "Failed to download file: Invalid URL 'http:/downloads/2021-06-10/58/kaplanyan2014.pdf#navpanes=0&view=FitH': No host supplied\n",
      "Failed to download file: Invalid URL 'http:/downloads/2022-11-05/af/10.1038@s41598-022-19437-5.pdf#navpanes=0&view=FitH': No host supplied\n"
     ]
    },
    {
     "name": "stderr",
     "output_type": "stream",
     "text": [
      " 43%|████▎     | 5055/11877 [22:18<05:25, 20.98it/s]"
     ]
    },
    {
     "name": "stdout",
     "output_type": "stream",
     "text": [
      "Failed to download file: Invalid URL 'http:/downloads/2019-09-10/cb/cai2019.pdf#navpanes=0&view=FitH': No host supplied\n"
     ]
    },
    {
     "name": "stderr",
     "output_type": "stream",
     "text": [
      " 43%|████▎     | 5064/11877 [22:18<07:23, 15.38it/s]"
     ]
    },
    {
     "name": "stdout",
     "output_type": "stream",
     "text": [
      "Failed to download file: Invalid URL 'http:/downloads/2019-11-17/f5/jiang2019.pdf#navpanes=0&view=FitH': No host supplied\n",
      "Failed to download file: Invalid URL 'http:/downloads/2022-11-06/7f91/lee2022.pdf#navpanes=0&view=FitH': No host supplied\n",
      "Failed to download file: Invalid URL 'http:/downloads/2022-11-08/e0/aketi2022.pdf#navpanes=0&view=FitH': No host supplied\n",
      "Failed to download file: Invalid URL 'http:/downloads/2019-03-01/84/beltaief2014.pdf#navpanes=0&view=FitH': No host supplied\n",
      "Failed to download file: Invalid URL 'http:/downloads/2020-07-07/eb/10.1016@j.gmod.2020.101079.pdf#navpanes=0&view=FitH': No host supplied\n",
      "Failed to download file: Invalid URL 'http:/downloads/2019-11-25/bb/mo2019.pdf#navpanes=0&view=FitH': No host supplied\n",
      "Failed to download file: Invalid URL 'http:/downloads/2022-11-04/bcf4/li2022.pdf#navpanes=0&view=FitH': No host supplied\n"
     ]
    },
    {
     "name": "stderr",
     "output_type": "stream",
     "text": [
      " 43%|████▎     | 5069/11877 [22:21<29:58,  3.79it/s]"
     ]
    },
    {
     "name": "stdout",
     "output_type": "stream",
     "text": [
      "Failed to download file: Invalid URL 'http:/downloads/2021-06-16/5e/hu2017.pdf#navpanes=0&view=FitH': No host supplied\n"
     ]
    },
    {
     "name": "stderr",
     "output_type": "stream",
     "text": [
      " 43%|████▎     | 5112/11877 [22:22<06:44, 16.73it/s]"
     ]
    },
    {
     "name": "stdout",
     "output_type": "stream",
     "text": [
      "Failed to download file: Invalid URL 'http:/downloads/2022-11-08/cc/tu2022.pdf#navpanes=0&view=FitH': No host supplied\n"
     ]
    },
    {
     "name": "stderr",
     "output_type": "stream",
     "text": [
      " 43%|████▎     | 5139/11877 [22:23<04:14, 26.47it/s]"
     ]
    },
    {
     "name": "stdout",
     "output_type": "stream",
     "text": [
      "Failed to download file: Invalid URL 'http:/downloads/2019-12-21/d4/10.1145@3360511.pdf#navpanes=0&view=FitH': No host supplied\n",
      "Failed to download file: Invalid URL 'http:/tree/12/d4/12d4e4aa113e6256beb7c69c4f6cd118.pdf#navpanes=0&view=FitH': No host supplied\n"
     ]
    },
    {
     "name": "stderr",
     "output_type": "stream",
     "text": [
      " 43%|████▎     | 5159/11877 [22:24<05:08, 21.78it/s]"
     ]
    },
    {
     "name": "stdout",
     "output_type": "stream",
     "text": [
      "Failed to download file: Invalid URL 'http:/downloads/2020-07-20/f9b7/li2020.pdf#navpanes=0&view=FitH': No host supplied\n"
     ]
    },
    {
     "name": "stderr",
     "output_type": "stream",
     "text": [
      " 43%|████▎     | 5163/11877 [22:24<04:48, 23.26it/s]"
     ]
    },
    {
     "name": "stdout",
     "output_type": "stream",
     "text": [
      "Failed to download file: Invalid URL 'http:/downloads/2020-10-28/da/zhong2020.pdf#navpanes=0&view=FitH': No host supplied\n",
      "Failed to download file: Invalid URL 'http:/downloads/2019-03-07/fb/innmann2016.pdf#navpanes=0&view=FitH': No host supplied\n"
     ]
    },
    {
     "name": "stderr",
     "output_type": "stream",
     "text": [
      " 44%|████▎     | 5182/11877 [22:25<05:38, 19.76it/s]"
     ]
    },
    {
     "name": "stdout",
     "output_type": "stream",
     "text": [
      "Failed to download file: Invalid URL 'http:/downloads/2022-11-05/0983/zhao2022.pdf#navpanes=0&view=FitH': No host supplied\n"
     ]
    },
    {
     "name": "stderr",
     "output_type": "stream",
     "text": [
      " 44%|████▎     | 5191/11877 [22:25<04:05, 27.28it/s]"
     ]
    },
    {
     "name": "stdout",
     "output_type": "stream",
     "text": [
      "Failed to download file: Invalid URL 'http:/downloads/2021-06-30/5f/schmarje2021.pdf#navpanes=0&view=FitH': No host supplied\n",
      "Failed to download file: Invalid URL 'http:/downloads/2019-07-24/4f/10.1016@j.image.2019.06.012.pdf#navpanes=0&view=FitH': No host supplied\n"
     ]
    },
    {
     "name": "stderr",
     "output_type": "stream",
     "text": [
      " 44%|████▍     | 5198/11877 [22:26<06:16, 17.75it/s]"
     ]
    },
    {
     "name": "stdout",
     "output_type": "stream",
     "text": [
      "Failed to download file: Invalid URL 'http:/downloads/2019-01-23//83/koenderink1987.pdf#navpanes=0&view=FitH': No host supplied\n",
      "Failed to download file: Invalid URL 'http:/downloads/2020-07-08/19/aiger2011.pdf#navpanes=0&view=FitH': No host supplied\n",
      "Failed to download file: Invalid URL 'http:/downloads/2020-09-01/4c/kakadiaris2018.pdf#navpanes=0&view=FitH': No host supplied\n",
      "Failed to download file: Invalid URL 'http:/tree/62/26/6226c7ac6bdbc335b47a65c14bd61f23.pdf#navpanes=0&view=FitH': No host supplied\n"
     ]
    },
    {
     "name": "stderr",
     "output_type": "stream",
     "text": [
      " 44%|████▍     | 5236/11877 [22:28<04:25, 24.99it/s]"
     ]
    },
    {
     "name": "stdout",
     "output_type": "stream",
     "text": [
      "Failed to download file: Invalid URL 'http:/downloads/2019-10-27/2b/wang2019.pdf#navpanes=0&view=FitH': No host supplied\n"
     ]
    },
    {
     "name": "stderr",
     "output_type": "stream",
     "text": [
      " 44%|████▍     | 5243/11877 [22:28<05:02, 21.96it/s]"
     ]
    },
    {
     "name": "stdout",
     "output_type": "stream",
     "text": [
      "Failed to download file: Invalid URL 'http:/tree/ce/03/ce03e3029187ebdaa0453a92f85f8df0.pdf#navpanes=0&view=FitH': No host supplied\n"
     ]
    },
    {
     "name": "stderr",
     "output_type": "stream",
     "text": [
      " 44%|████▍     | 5257/11877 [22:29<04:27, 24.75it/s]"
     ]
    },
    {
     "name": "stdout",
     "output_type": "stream",
     "text": [
      "Failed to download file: Invalid URL 'http:/downloads/2019-03-26/76/10.1145@3303766.pdf#navpanes=0&view=FitH': No host supplied\n",
      "Failed to download file: Invalid URL 'http:/tree/96/06/96061efd1083a4c99d607be5615b6b70.pdf#navpanes=0&view=FitH': No host supplied\n",
      "Failed to download file: Invalid URL 'http:/tree/c5/4b/c54b89d95a4040376193399eccab2393.pdf#navpanes=0&view=FitH': No host supplied\n"
     ]
    },
    {
     "name": "stderr",
     "output_type": "stream",
     "text": [
      " 44%|████▍     | 5264/11877 [22:29<06:10, 17.84it/s]"
     ]
    },
    {
     "name": "stdout",
     "output_type": "stream",
     "text": [
      "Failed to download file: Invalid URL 'http:/downloads/2019-07-18/64/groueix2018.pdf#navpanes=0&view=FitH': No host supplied\n",
      "Failed to download file: Invalid URL 'http:/downloads/2020-07-11/32/reina2020.pdf#navpanes=0&view=FitH': No host supplied\n"
     ]
    },
    {
     "name": "stderr",
     "output_type": "stream",
     "text": [
      " 45%|████▍     | 5292/11877 [22:30<05:05, 21.58it/s]"
     ]
    },
    {
     "name": "stdout",
     "output_type": "stream",
     "text": [
      "Failed to download file: Invalid URL 'http:/downloads/2022-11-07/42/leonidou2022.pdf#navpanes=0&view=FitH': No host supplied\n"
     ]
    },
    {
     "name": "stderr",
     "output_type": "stream",
     "text": [
      " 45%|████▍     | 5300/11877 [22:31<05:10, 21.22it/s]"
     ]
    },
    {
     "name": "stdout",
     "output_type": "stream",
     "text": [
      "Failed to download file: Invalid URL 'http:/tree/06/02/06025137b566e8988bf5ddcbd93068c2.pdf#navpanes=0&view=FitH': No host supplied\n",
      "Failed to download file: Invalid URL 'http:/downloads/2019-02-13/1b/batra2012.pdf#navpanes=0&view=FitH': No host supplied\n"
     ]
    },
    {
     "name": "stderr",
     "output_type": "stream",
     "text": [
      " 45%|████▍     | 5305/11877 [22:31<06:21, 17.22it/s]"
     ]
    },
    {
     "name": "stdout",
     "output_type": "stream",
     "text": [
      "Failed to download file: Invalid URL 'http:/downloads/2019-07-14/f9/panda2018.pdf#navpanes=0&view=FitH': No host supplied\n",
      "Failed to download file: Invalid URL 'http:/downloads/2019-11-19/0a/perrinet2019.pdf#navpanes=0&view=FitH': No host supplied\n",
      "Failed to download file: Invalid URL 'http:/downloads/2020-07-25/9a/10.1109@TIP.2020.3009844.pdf#navpanes=0&view=FitH': No host supplied\n"
     ]
    },
    {
     "name": "stderr",
     "output_type": "stream",
     "text": [
      " 45%|████▍     | 5326/11877 [22:32<04:14, 25.75it/s]"
     ]
    },
    {
     "name": "stdout",
     "output_type": "stream",
     "text": [
      "Failed to download file: Invalid URL 'http:/tree/40/c0/40c0083975f802dc4e4dc503255edba3.pdf#navpanes=0&view=FitH': No host supplied\n",
      "Failed to download file: Invalid URL 'http:/downloads/2020-01-03/5d/ropinski2006.pdf#navpanes=0&view=FitH': No host supplied\n",
      "Failed to download file: Invalid URL 'http:/downloads/2019-02-04//4c/10.1126@scirobotics.aau5872.pdf#navpanes=0&view=FitH': No host supplied\n",
      "Failed to download file: Invalid URL 'http:/downloads/2019-07-25/9e/10.1111@cgf.13654.pdf#navpanes=0&view=FitH': No host supplied\n"
     ]
    },
    {
     "name": "stderr",
     "output_type": "stream",
     "text": [
      " 45%|████▍     | 5339/11877 [22:33<05:16, 20.69it/s]"
     ]
    },
    {
     "name": "stdout",
     "output_type": "stream",
     "text": [
      "Failed to download file: Invalid URL 'http:/downloads/2020-10-29/e5/he2021.pdf#navpanes=0&view=FitH': No host supplied\n",
      "Failed to download file: Invalid URL 'http:/downloads/2020-09-01/fe/dong2018.pdf#navpanes=0&view=FitH': No host supplied\n",
      "Failed to download file: Invalid URL 'http:/downloads/2021-05-14//32/kothari2021.pdf#navpanes=0&view=FitH': No host supplied\n"
     ]
    },
    {
     "name": "stderr",
     "output_type": "stream",
     "text": [
      " 45%|████▌     | 5353/11877 [22:33<03:26, 31.55it/s]"
     ]
    },
    {
     "name": "stdout",
     "output_type": "stream",
     "text": [
      "Failed to download file: Invalid URL 'http:/downloads/2019-02-15/11/10.1145@2461912.2461929.pdf#navpanes=0&view=FitH': No host supplied\n",
      "Failed to download file: Invalid URL 'http:/downloads/2022-11-07/e5/jermyn2017.pdf#navpanes=0&view=FitH': No host supplied\n"
     ]
    },
    {
     "name": "stderr",
     "output_type": "stream",
     "text": [
      " 45%|████▌     | 5375/11877 [22:34<04:27, 24.27it/s]"
     ]
    },
    {
     "name": "stdout",
     "output_type": "stream",
     "text": [
      "Failed to download file: Invalid URL 'http:/downloads/2019-04-24/bb/10.1038@s41467-019-09874-8.pdf#navpanes=0&view=FitH': No host supplied\n",
      "Failed to download file: Invalid URL 'http:/downloads/2020-05-12/ce/gonzalez-liencres2020.pdf#navpanes=0&view=FitH': No host supplied\n",
      "Failed to download file: Invalid URL 'http:/downloads/2019-01-15//8f/cappelli2007.pdf#navpanes=0&view=FitH': No host supplied\n"
     ]
    },
    {
     "name": "stderr",
     "output_type": "stream",
     "text": [
      " 45%|████▌     | 5388/11877 [22:35<05:25, 19.95it/s]"
     ]
    },
    {
     "name": "stdout",
     "output_type": "stream",
     "text": [
      "Failed to download file: Invalid URL 'http:/tree/95/92/9592005c3fc25d078c7e4fa298210a92.pdf#navpanes=0&view=FitH': No host supplied\n"
     ]
    },
    {
     "name": "stderr",
     "output_type": "stream",
     "text": [
      " 45%|████▌     | 5391/11877 [22:35<05:52, 18.41it/s]"
     ]
    },
    {
     "name": "stdout",
     "output_type": "stream",
     "text": [
      "Failed to download file: Invalid URL 'http:/downloads/2019-10-21/6d/schlemper2019.pdf#navpanes=0&view=FitH': No host supplied\n",
      "Failed to download file: Invalid URL 'http:/downloads/2019-10-08/34/10.1038@s41477-019-0522-9.pdf#navpanes=0&view=FitH': No host supplied\n",
      "Failed to download file: Invalid URL 'http:/downloads/2022-11-08/84/zhao2022.pdf#navpanes=0&view=FitH': No host supplied\n",
      "Failed to download file: Invalid URL 'http:/downloads/2020-07-01//39/misra2016.pdf#navpanes=0&view=FitH': No host supplied\n"
     ]
    },
    {
     "name": "stderr",
     "output_type": "stream",
     "text": [
      " 45%|████▌     | 5398/11877 [22:36<04:35, 23.53it/s]"
     ]
    },
    {
     "name": "stdout",
     "output_type": "stream",
     "text": [
      "Failed to download file: Invalid URL 'http:/downloads/2022-11-07/5c/strelin2022.pdf#navpanes=0&view=FitH': No host supplied\n"
     ]
    },
    {
     "name": "stderr",
     "output_type": "stream",
     "text": [
      " 46%|████▌     | 5406/11877 [22:36<05:19, 20.23it/s]"
     ]
    },
    {
     "name": "stdout",
     "output_type": "stream",
     "text": [
      "Failed to download file: Invalid URL 'http:/downloads/2021-05-19/15/bauerle2021.pdf#navpanes=0&view=FitH': No host supplied\n",
      "Failed to download file: Invalid URL 'http:/downloads/2019-03-09/e6/kaiser2018.pdf#navpanes=0&view=FitH': No host supplied\n"
     ]
    },
    {
     "name": "stderr",
     "output_type": "stream",
     "text": [
      " 46%|████▌     | 5409/11877 [22:36<05:45, 18.72it/s]"
     ]
    },
    {
     "name": "stdout",
     "output_type": "stream",
     "text": [
      "Failed to download file: Invalid URL 'http:/downloads/2021-06-18/b8/werner2017.pdf#navpanes=0&view=FitH': No host supplied\n",
      "Failed to download file: Invalid URL 'http:/downloads/2022-11-09/94/tian2021.pdf#navpanes=0&view=FitH': No host supplied\n",
      "Failed to download file: Invalid URL 'http:/downloads/2022-11-04/55b0/adams2022.pdf#navpanes=0&view=FitH': No host supplied\n",
      "Failed to download file: Invalid URL 'http:/downloads/2022-11-04/6f/iaboni2022.pdf#navpanes=0&view=FitH': No host supplied\n",
      "Failed to download file: Invalid URL 'http:/downloads/2020-05-02/88/wang2020.pdf#navpanes=0&view=FitH': No host supplied\n",
      "Failed to download file: Invalid URL 'http:/downloads/2019-10-21/4f/lee2019.pdf#navpanes=0&view=FitH': No host supplied\n",
      "Failed to download file: Invalid URL 'http:/downloads/2022-11-09/cc53/chen2022.pdf#navpanes=0&view=FitH': No host supplied\n",
      "Failed to download file: Invalid URL 'http:/downloads/2022-11-06/8982/li2022.pdf#navpanes=0&view=FitH': No host supplied\n",
      "Failed to download file: Invalid URL 'http:/downloads/2019-09-02/08/10.1038@s41557-019-0319-5.pdf#navpanes=0&view=FitH': No host supplied\n",
      "Failed to download file: Invalid URL 'http:/downloads/2020-03-09/85/jensen1996.pdf#navpanes=0&view=FitH': No host supplied\n",
      "Failed to download file: Invalid URL 'http:/downloads/2019-04-21/91/wu2012.pdf#navpanes=0&view=FitH': No host supplied\n",
      "Failed to download file: Invalid URL 'http:/downloads/2019-03-04/fe/li2018.pdf#navpanes=0&view=FitH': No host supplied\n",
      "Failed to download file: Invalid URL 'http:/downloads/2019-02-06/d1/ahlawat2019.pdf#navpanes=0&view=FitH': No host supplied\n",
      "Failed to download file: Invalid URL 'http:/downloads/2021-06-13/f4/shao2014.pdf#navpanes=0&view=FitH': No host supplied\n",
      "Failed to download file: Invalid URL 'http:/downloads/2020-02-20/f6/wu2018.pdf#navpanes=0&view=FitH': No host supplied\n",
      "Failed to download file: Invalid URL 'http:/downloads/2021-06-09/51/guo2020.pdf#navpanes=0&view=FitH': No host supplied\n",
      "Failed to download file: Invalid URL 'http:/downloads/2021-05-14//9c/su2021.pdf#navpanes=0&view=FitH': No host supplied\n",
      "Failed to download file: Invalid URL 'http:/downloads/2019-11-17/b0/sousa2019.pdf#navpanes=0&view=FitH': No host supplied\n",
      "Failed to download file: Invalid URL 'http:/downloads/2020-12-03/a5/bentaieb2016.pdf#navpanes=0&view=FitH': No host supplied\n",
      "Failed to download file: Invalid URL 'http:/downloads/2019-07-20/6c/10.1016@j.compag.2019.05.049.pdf#navpanes=0&view=FitH': No host supplied\n",
      "Failed to download file: Invalid URL 'http:/downloads/2019-01-01/43/10.1145@3272127.3275044.pdf#navpanes=0&view=FitH': No host supplied\n",
      "Failed to download file: Invalid URL 'http:/downloads/2019-10-21/4c/azat2019.pdf#navpanes=0&view=FitH': No host supplied\n",
      "Failed to download file: Invalid URL 'http:/downloads/2020-05-24/43/kobyzev2020.pdf#navpanes=0&view=FitH': No host supplied\n",
      "Failed to download file: Invalid URL 'http:/tree/71/e5/71e5553d5387cf712de967f4378f3920.pdf#navpanes=0&view=FitH': No host supplied\n",
      "Failed to download file: Invalid URL 'http:/downloads/2020-06-25//90/10.1007@s11042-020-09192-y.pdf#navpanes=0&view=FitH': No host supplied\n",
      "Failed to download file: Invalid URL 'http:/downloads/2020-06-17//55/ko2020.pdf#navpanes=0&view=FitH': No host supplied\n"
     ]
    },
    {
     "name": "stderr",
     "output_type": "stream",
     "text": [
      " 46%|████▌     | 5412/11877 [22:47<1:40:36,  1.07it/s]"
     ]
    },
    {
     "name": "stdout",
     "output_type": "stream",
     "text": [
      "Failed to download file: Invalid URL 'http:/downloads/2019-01-03/d6/bojanowski2017.pdf#navpanes=0&view=FitH': No host supplied\n",
      "Failed to download file: Invalid URL 'http:/downloads/2019-08-29/82/escorcia2016.pdf#navpanes=0&view=FitH': No host supplied\n",
      "Failed to download file: Invalid URL 'http:/downloads/2019-11-09/8f/10.1145@3355089.3356554.pdf#navpanes=0&view=FitH': No host supplied\n",
      "Failed to download file: Invalid URL 'http:/tree/59/ea/59ea3015d8d05db218ce39ee42866671.pdf#navpanes=0&view=FitH': No host supplied\n",
      "Failed to download file: Invalid URL 'http:/downloads/2019-12-22/9e/xu2019.pdf#navpanes=0&view=FitH': No host supplied\n"
     ]
    },
    {
     "name": "stderr",
     "output_type": "stream",
     "text": [
      " 47%|████▋     | 5527/11877 [22:49<08:44, 12.11it/s]  "
     ]
    },
    {
     "name": "stdout",
     "output_type": "stream",
     "text": [
      "Failed to download file: Invalid URL 'http:/downloads/2022-11-06/b2/laga2020.pdf#navpanes=0&view=FitH': No host supplied\n",
      "Failed to download file: Invalid URL 'http:/downloads/2021-07-04/00/zhou2021.pdf#navpanes=0&view=FitH': No host supplied\n"
     ]
    },
    {
     "name": "stderr",
     "output_type": "stream",
     "text": [
      " 47%|████▋     | 5625/11877 [22:50<04:30, 23.12it/s]"
     ]
    },
    {
     "name": "stdout",
     "output_type": "stream",
     "text": [
      "Failed to download file: Invalid URL 'http:/downloads/2019-07-19/f5/10.1145@3306346.3323007.pdf#navpanes=0&view=FitH': No host supplied\n"
     ]
    },
    {
     "name": "stderr",
     "output_type": "stream",
     "text": [
      " 47%|████▋     | 5641/11877 [22:50<04:05, 25.37it/s]"
     ]
    },
    {
     "name": "stdout",
     "output_type": "stream",
     "text": [
      "Failed to download file: Invalid URL 'http:/downloads/2020-06-08/b1/10.1109@TCYB.2020.2992433.pdf#navpanes=0&view=FitH': No host supplied\n",
      "Failed to download file: Invalid URL 'http:/downloads/2020-04-30/b1/mccay2020.pdf#navpanes=0&view=FitH': No host supplied\n"
     ]
    },
    {
     "name": "stderr",
     "output_type": "stream",
     "text": [
      " 48%|████▊     | 5649/11877 [22:51<04:05, 25.35it/s]"
     ]
    },
    {
     "name": "stdout",
     "output_type": "stream",
     "text": [
      "Failed to download file: Invalid URL 'http:/downloads/2020-05-07/50/sun2020.pdf#navpanes=0&view=FitH': No host supplied\n",
      "Failed to download file: Invalid URL 'http:/downloads/2021-05-14//64/mor1994.pdf#navpanes=0&view=FitH': No host supplied\n",
      "Failed to download file: Invalid URL 'http:/downloads/2019-01-27//b8/fahmy2019.pdf#navpanes=0&view=FitH': No host supplied\n",
      "Failed to download file: Invalid URL 'http:/tree/2e/1a/2e1a77b4bf8446ef2e7f1abbd50ab7af.pdf#navpanes=0&view=FitH': No host supplied\n"
     ]
    },
    {
     "name": "stderr",
     "output_type": "stream",
     "text": [
      " 48%|████▊     | 5665/11877 [22:51<04:24, 23.45it/s]"
     ]
    },
    {
     "name": "stdout",
     "output_type": "stream",
     "text": [
      "Failed to download file: Invalid URL 'http:/downloads/2019-04-16/c6/theis2001.pdf#navpanes=0&view=FitH': No host supplied\n",
      "Failed to download file: Invalid URL 'http:/downloads/2020-01-07/d4/10.1038@s41563-019-0573-3.pdf#navpanes=0&view=FitH': No host supplied\n",
      "Failed to download file: Invalid URL 'http:/downloads/2019-01-31/92/chen2018.pdf#navpanes=0&view=FitH': No host supplied\n",
      "Failed to download file: Invalid URL 'http:/tree/9c/0e/9c0ecc5ab0068f6f33a18ea74dd68263.pdf#navpanes=0&view=FitH': No host supplied\n",
      "Failed to download file: Invalid URL 'http:/downloads/2019-11-05/ea/bonneel2019.pdf#navpanes=0&view=FitH': No host supplied\n",
      "Failed to download file: Invalid URL 'http:/downloads/2020-04-11/fd/zunino2020.pdf#navpanes=0&view=FitH': No host supplied\n",
      "Failed to download file: Invalid URL 'http:/downloads/2019-06-10/c9/herzog2012.pdf#navpanes=0&view=FitH': No host supplied\n",
      "Failed to download file: Invalid URL 'http:/downloads/2019-08-13/b0/10.3390@sym11070858.pdf#navpanes=0&view=FitH': No host supplied\n",
      "Failed to download file: Invalid URL 'http:/downloads/2019-07-21/8e/10.1145@3306346.3323027.pdf#navpanes=0&view=FitH': No host supplied\n",
      "Failed to download file: Invalid URL 'http:/downloads/2019-01-14//31/10.1007@s41693-018-0016-8.pdf#navpanes=0&view=FitH': No host supplied\n",
      "Failed to download file: Invalid URL 'http:/downloads/2019-08-24/b2/ballester-ripoll2019.pdf#navpanes=0&view=FitH': No host supplied\n"
     ]
    },
    {
     "name": "stderr",
     "output_type": "stream",
     "text": [
      " 48%|████▊     | 5669/11877 [22:55<13:09,  7.86it/s]"
     ]
    },
    {
     "name": "stdout",
     "output_type": "stream",
     "text": [
      "Failed to download file: Invalid URL 'http:/downloads/2019-04-09/fa/10.1029@2019GL082028.pdf#navpanes=0&view=FitH': No host supplied\n"
     ]
    },
    {
     "name": "stderr",
     "output_type": "stream",
     "text": [
      " 48%|████▊     | 5752/11877 [22:56<03:43, 27.43it/s]"
     ]
    },
    {
     "name": "stdout",
     "output_type": "stream",
     "text": [
      "Failed to download file: Invalid URL 'http:/downloads/2022-11-04/66/hu2021.pdf#navpanes=0&view=FitH': No host supplied\n",
      "Failed to download file: Invalid URL 'http:/downloads/2019-11-22/8d/gutman2019.pdf#navpanes=0&view=FitH': No host supplied\n",
      "Failed to download file: Invalid URL 'http:/downloads/2019-04-25/5a/10.1109@TVT.2019.2910452.pdf#navpanes=0&view=FitH': No host supplied\n",
      "Failed to download file: Invalid URL 'http:/downloads/2019-01-23//f5/luguya2004.pdf#navpanes=0&view=FitH': No host supplied\n",
      "Failed to download file: Invalid URL 'http:/downloads/2022-11-03/8c/dvinskikh2021.pdf#navpanes=0&view=FitH': No host supplied\n"
     ]
    },
    {
     "name": "stderr",
     "output_type": "stream",
     "text": [
      " 49%|████▊     | 5773/11877 [22:57<04:15, 23.85it/s]"
     ]
    },
    {
     "name": "stdout",
     "output_type": "stream",
     "text": [
      "Failed to download file: Invalid URL 'http:/downloads/2019-01-23//a1/llorens2014.pdf#navpanes=0&view=FitH': No host supplied\n"
     ]
    },
    {
     "name": "stderr",
     "output_type": "stream",
     "text": [
      " 49%|████▊     | 5780/11877 [22:57<03:55, 25.89it/s]"
     ]
    },
    {
     "name": "stdout",
     "output_type": "stream",
     "text": [
      "Failed to download file: Invalid URL 'http:/downloads/2021-06-09/64/bi2017.pdf#navpanes=0&view=FitH': No host supplied\n",
      "Failed to download file: Invalid URL 'http:/downloads/2019-08-29/82/escorcia2016.pdf#navpanes=0&view=FitH': No host supplied\n",
      "Failed to download file: Invalid URL 'http:/downloads/2020-11-07/e5/stacke2020.pdf#navpanes=0&view=FitH': No host supplied\n",
      "Failed to download file: Invalid URL 'http:/downloads/2019-05-28/ce/birnstiel2018.pdf#navpanes=0&view=FitH': No host supplied\n",
      "Failed to download file: Invalid URL 'http:/downloads/2019-07-21/b0/10.1038@s41564-019-0445-2.pdf#navpanes=0&view=FitH': No host supplied\n",
      "Failed to download file: Invalid URL 'http:/downloads/2020-08-26/fd/bansal2020.pdf#navpanes=0&view=FitH': No host supplied\n",
      "Failed to download file: Invalid URL 'http:/downloads/2020-10-24/71/stavrakis2012.pdf#navpanes=0&view=FitH': No host supplied\n",
      "Failed to download file: Invalid URL 'http:/downloads/2019-10-28/5a/alotaibi2019.pdf#navpanes=0&view=FitH': No host supplied\n",
      "Failed to download file: Invalid URL 'http:/downloads/2020-05-26/c9/10.1109@TPDS.2020.2996273.pdf#navpanes=0&view=FitH': No host supplied\n",
      "Failed to download file: Invalid URL 'http:/downloads/2020-07-23/8c/metz2009.pdf#navpanes=0&view=FitH': No host supplied\n",
      "Failed to download file: Invalid URL 'http:/downloads/2020-09-04/11/wang2018.pdf#navpanes=0&view=FitH': No host supplied\n",
      "Failed to download file: Invalid URL 'http:/downloads/2021-08-10/c3/sresto2021.pdf#navpanes=0&view=FitH': No host supplied\n",
      "Failed to download file: Invalid URL 'http:/downloads/2021-06-13/a6/rautek2008.pdf#navpanes=0&view=FitH': No host supplied\n",
      "Failed to download file: Invalid URL 'http:/downloads/2020-02-23/19/10.1007@s11263-020-01307-0.pdf#navpanes=0&view=FitH': No host supplied\n",
      "Failed to download file: Invalid URL 'http:/tree/28/d8/28d85ce8a1bc19d7f277d84868c94acc.pdf#navpanes=0&view=FitH': No host supplied\n",
      "Failed to download file: Invalid URL 'http:/downloads/2021-06-09/50/mullapudi2016.pdf#navpanes=0&view=FitH': No host supplied\n",
      "Failed to download file: Invalid URL 'http:/downloads/2019-03-17/34/10.1109@TITS.2019.2901817.pdf#navpanes=0&view=FitH': No host supplied\n",
      "Failed to download file: Invalid URL 'http:/tree/9c/f6/9cf60b53ebf011313b106541059ad243.pdf#navpanes=0&view=FitH': No host supplied\n",
      "Failed to download file: Invalid URL 'http:/downloads/2022-11-08/1f/panchal2022.pdf#navpanes=0&view=FitH': No host supplied\n",
      "Failed to download file: Invalid URL 'http:/downloads/2020-11-03/0ac9/liu2020.pdf#navpanes=0&view=FitH': No host supplied\n",
      "Failed to download file: Invalid URL 'http:/downloads/2020-07-30/1e/cai2020.pdf#navpanes=0&view=FitH': No host supplied\n",
      "Failed to download file: Invalid URL 'http:/uptodate/S0097849321001242.pdf#navpanes=0&view=FitH': No host supplied\n",
      "Failed to download file: Invalid URL 'http:/downloads/2020-01-22/74/braun2019.pdf#navpanes=0&view=FitH': No host supplied\n",
      "Failed to download file: Invalid URL 'http:/downloads/2019-11-10/73/ma2020.pdf#navpanes=0&view=FitH': No host supplied\n",
      "Failed to download file: Invalid URL 'http:/downloads/2022-11-04/ca/frank2021.pdf#navpanes=0&view=FitH': No host supplied\n",
      "Failed to download file: Invalid URL 'http:/downloads/2021-09-01/03/wang2021.pdf#navpanes=0&view=FitH': No host supplied\n",
      "Failed to download file: Invalid URL 'http:/downloads/2019-02-14/a1/10.1007@s10278-019-00182-7.pdf#navpanes=0&view=FitH': No host supplied\n",
      "Failed to download file: Invalid URL 'http:/downloads/2019-08-21/d2/lindner2009.pdf#navpanes=0&view=FitH': No host supplied\n",
      "Failed to download file: Invalid URL 'http:/downloads/2020-08-04/01/10.1007@s11263-020-01359-2.pdf#navpanes=0&view=FitH': No host supplied\n",
      "Failed to download file: Invalid URL 'http:/downloads/2019-08-20/36/10.1016@j.cag.2019.05.020.pdf#navpanes=0&view=FitH': No host supplied\n",
      "Failed to download file: Invalid URL 'http:/downloads/2019-12-02/53/10.1007@s12065-019-00327-1.pdf#navpanes=0&view=FitH': No host supplied\n",
      "Failed to download file: Invalid URL 'http:/downloads/2019-01-13//2e/gavish2013.pdf#navpanes=0&view=FitH': No host supplied\n",
      "Failed to download file: Invalid URL 'http:/downloads/2020-01-05/47/10.1007@s11263-019-01279-w.pdf#navpanes=0&view=FitH': No host supplied\n",
      "Failed to download file: Invalid URL 'http:/downloads/2021-06-09/e8/kjolstad2016.pdf#navpanes=0&view=FitH': No host supplied\n",
      "Failed to download file: Invalid URL 'http:/tree/45/c9/45c922e95ee7f1c744f656b5c2e22b31.pdf#navpanes=0&view=FitH': No host supplied\n",
      "Failed to download file: Invalid URL 'http:/downloads/2019-01-04/34/lian2018.pdf#navpanes=0&view=FitH': No host supplied\n",
      "Failed to download file: Invalid URL 'http:/downloads/2022-11-07/ff29/singh2022.pdf#navpanes=0&view=FitH': No host supplied\n",
      "Failed to download file: Invalid URL 'http:/downloads/2021-06-19/62/yan2019.pdf#navpanes=0&view=FitH': No host supplied\n",
      "Failed to download file: Invalid URL 'http:/downloads/2019-10-23/9e/10.1073@pnas.1908021116.pdf#navpanes=0&view=FitH': No host supplied\n",
      "Failed to download file: Invalid URL 'http:/downloads/2019-01-24//34/bhatnagar2015.pdf#navpanes=0&view=FitH': No host supplied\n"
     ]
    },
    {
     "name": "stderr",
     "output_type": "stream",
     "text": [
      " 49%|████▊     | 5780/11877 [23:12<03:55, 25.89it/s]"
     ]
    },
    {
     "name": "stdout",
     "output_type": "stream",
     "text": [
      "Failed to download file: Invalid URL 'http:/downloads/2019-07-19/0f/10.1109@TPAMI.2019.2929257.pdf#navpanes=0&view=FitH': No host supplied\n",
      "Failed to download file: Invalid URL 'http:/downloads/2022-11-05/6c/glasbey2022.pdf#navpanes=0&view=FitH': No host supplied\n",
      "Failed to download file: Invalid URL 'http:/downloads/2020-10-10/08/shi2020.pdf#navpanes=0&view=FitH': No host supplied\n",
      "Failed to download file: Invalid URL 'http:/downloads/2021-06-19/96/tan2021.pdf#navpanes=0&view=FitH': No host supplied\n",
      "Failed to download file: Invalid URL 'http:/downloads/2020-07-07/06/10.3390@app10134523.pdf#navpanes=0&view=FitH': No host supplied\n",
      "Failed to download file: Invalid URL 'http:/downloads/2021-08-12/5bcc/li2021.pdf#navpanes=0&view=FitH': No host supplied\n",
      "Failed to download file: Invalid URL 'http:/downloads/2020-10-18/bb/pandey2020.pdf#navpanes=0&view=FitH': No host supplied\n",
      "Failed to download file: Invalid URL 'http:/downloads/2019-11-26/ce/no-limit-texas-hold-em-makes-for-a-profitable-bet-2018.pdf#navpanes=0&view=FitH': No host supplied\n",
      "Failed to download file: Invalid URL 'http:/downloads/2019-07-21/ec/10.1016@j.cag.2019.05.021.pdf#navpanes=0&view=FitH': No host supplied\n",
      "Failed to download file: Invalid URL 'http:/downloads/2020-05-04/9e/10.1109@ACCESS.2020.2991067.pdf#navpanes=0&view=FitH': No host supplied\n",
      "Failed to download file: Invalid URL 'http:/downloads/2020-01-06/50/vainieri2019.pdf#navpanes=0&view=FitH': No host supplied\n",
      "Failed to download file: Invalid URL 'http:/downloads/2019-11-19/e4/guo2019.pdf#navpanes=0&view=FitH': No host supplied\n",
      "Failed to download file: Invalid URL 'http:/downloads/2020-12-08/78/gonzalez-franco2020.pdf#navpanes=0&view=FitH': No host supplied\n",
      "Failed to download file: Invalid URL 'http:/downloads/2022-11-05/af/10.1038@s41598-022-19437-5.pdf#navpanes=0&view=FitH': No host supplied\n",
      "Failed to download file: Invalid URL 'http:/downloads/2020-06-13/d7/10.1016@j.ijsolstr.2020.05.011.pdf#navpanes=0&view=FitH': No host supplied\n",
      "Failed to download file: Invalid URL 'http:/downloads/2021-06-09/51/yan2016.pdf#navpanes=0&view=FitH': No host supplied\n"
     ]
    },
    {
     "name": "stderr",
     "output_type": "stream",
     "text": [
      " 49%|████▊     | 5781/11877 [23:16<58:43,  1.73it/s]"
     ]
    },
    {
     "name": "stdout",
     "output_type": "stream",
     "text": [
      "Failed to download file: Invalid URL 'http:/downloads/2019-01-22//39/xu2014.pdf#navpanes=0&view=FitH': No host supplied\n",
      "Failed to download file: Invalid URL 'http:/downloads/2019-03-30/ae/10.1111@cgf.13383.pdf#navpanes=0&view=FitH': No host supplied\n"
     ]
    },
    {
     "name": "stderr",
     "output_type": "stream",
     "text": [
      " 51%|█████     | 6084/11877 [23:17<04:24, 21.90it/s]"
     ]
    },
    {
     "name": "stdout",
     "output_type": "stream",
     "text": [
      "Failed to download file: Invalid URL 'http:/downloads/2019-01-03/a8/wang2018.pdf#navpanes=0&view=FitH': No host supplied\n",
      "Failed to download file: Invalid URL 'http:/tree/09/30/0930090ab403635bd0552298ffd40dff.pdf#navpanes=0&view=FitH': No host supplied\n",
      "Failed to download file: Invalid URL 'http:/downloads/2022-11-09/43/cao2022.pdf#navpanes=0&view=FitH': No host supplied\n",
      "Failed to download file: Invalid URL 'http:/downloads/2020-04-17/85/10.1007@978-3-030-42128-1.pdf#navpanes=0&view=FitH': No host supplied\n",
      "Failed to download file: Invalid URL 'http:/downloads/2020-02-08/b5/chen2020.pdf#navpanes=0&view=FitH': No host supplied\n",
      "Failed to download file: Invalid URL 'http:/downloads/2022-11-08/30/nasiri2022.pdf#navpanes=0&view=FitH': No host supplied\n",
      "Failed to download file: Invalid URL 'http:/downloads/2020-11-14/98/wen2020.pdf#navpanes=0&view=FitH': No host supplied\n",
      "Failed to download file: Invalid URL 'http:/downloads/2019-01-02/04/andrews2018.pdf#navpanes=0&view=FitH': No host supplied\n",
      "Failed to download file: Invalid URL 'http:/downloads/2020-07-12/d1/yang2020.pdf#navpanes=0&view=FitH': No host supplied\n",
      "Failed to download file: Invalid URL 'http:/downloads/2021-05-28/8c/zheng2021.pdf#navpanes=0&view=FitH': No host supplied\n",
      "Failed to download file: Invalid URL 'http:/downloads/2021-05-16/1f/deutsch1988.pdf#navpanes=0&view=FitH': No host supplied\n"
     ]
    },
    {
     "name": "stderr",
     "output_type": "stream",
     "text": [
      " 52%|█████▏    | 6192/11877 [23:21<03:45, 25.27it/s]"
     ]
    },
    {
     "name": "stdout",
     "output_type": "stream",
     "text": [
      "Failed to download file: Invalid URL 'http:/downloads/2019-10-24/db/10.1007@978-3-030-33676-9.pdf#navpanes=0&view=FitH': No host supplied\n",
      "Failed to download file: Invalid URL 'http:/downloads/2020-11-02/39/ding2020.pdf#navpanes=0&view=FitH': No host supplied\n",
      "Failed to download file: Invalid URL 'http:/downloads/2019-11-15/19/guo2019.pdf#navpanes=0&view=FitH': No host supplied\n",
      "Failed to download file: Invalid URL 'http:/downloads/2020-05-11/46/algorithmic-foundations-of-robotics-xii-2020.pdf#navpanes=0&view=FitH': No host supplied\n",
      "Failed to download file: Invalid URL 'http:/downloads/2021-05-29/3b/hu2021.pdf#navpanes=0&view=FitH': No host supplied\n"
     ]
    },
    {
     "name": "stderr",
     "output_type": "stream",
     "text": [
      " 52%|█████▏    | 6211/11877 [23:22<03:43, 25.34it/s]"
     ]
    },
    {
     "name": "stdout",
     "output_type": "stream",
     "text": [
      "Failed to download file: Invalid URL 'http:/downloads/2021-06-14/0b/severson1995.pdf#navpanes=0&view=FitH': No host supplied\n",
      "Failed to download file: Invalid URL 'http:/downloads/2020-05-12/2e/correction-management-of-patients-with-increased-risk-for-famili-2020.pdf#navpanes=0&view=FitH': No host supplied\n",
      "Failed to download file: Invalid URL 'http:/downloads/2019-07-23/3b/10.1145@3306346.3323042.pdf#navpanes=0&view=FitH': No host supplied\n",
      "Failed to download file: Invalid URL 'http:/downloads/2019-10-10/fd/luvizon2019.pdf#navpanes=0&view=FitH': No host supplied\n"
     ]
    },
    {
     "name": "stderr",
     "output_type": "stream",
     "text": [
      " 52%|█████▏    | 6225/11877 [23:23<03:50, 24.48it/s]"
     ]
    },
    {
     "name": "stdout",
     "output_type": "stream",
     "text": [
      "Failed to download file: Invalid URL 'http:/downloads/2019-03-26/ea/10.1109@tvcg.2019.2898748.pdf#navpanes=0&view=FitH': No host supplied\n",
      "Failed to download file: Invalid URL 'http:/downloads/2022-11-06/0966/deng2021.pdf#navpanes=0&view=FitH': No host supplied\n",
      "Failed to download file: Invalid URL 'http:/downloads/2019-05-23/69/ochiai2014.pdf#navpanes=0&view=FitH': No host supplied\n",
      "Failed to download file: Invalid URL 'http:/tree/e5/c1/e5c1c042db6797572bc78ca1e71eafc1.pdf#navpanes=0&view=FitH': No host supplied\n",
      "Failed to download file: Invalid URL 'http:/downloads/2021-08-09/c9/gutierrez2021.pdf#navpanes=0&view=FitH': No host supplied\n",
      "Failed to download file: Invalid URL 'http:/downloads/2019-03-15/27/lawonn2018.pdf#navpanes=0&view=FitH': No host supplied\n",
      "Failed to download file: Invalid URL 'http:/downloads/2019-02-09/9e/10.1088@2053-1583@ab04fb.pdf#navpanes=0&view=FitH': No host supplied\n",
      "Failed to download file: status code 403\n",
      "Failed to download file: status code 403\n",
      "Failed to download file: Invalid URL 'http:/downloads/2019-07-20/13/10.1016@j.cad.2019.05.038.pdf#navpanes=0&view=FitH': No host supplied\n",
      "Failed to download file: Invalid URL 'http:/tree/c2/49/c24994113a0aa636f894c3cd96e1b534.pdf#navpanes=0&view=FitH': No host supplied\n"
     ]
    },
    {
     "name": "stderr",
     "output_type": "stream",
     "text": [
      " 53%|█████▎    | 6271/11877 [23:25<03:36, 25.95it/s]"
     ]
    },
    {
     "name": "stdout",
     "output_type": "stream",
     "text": [
      "Failed to download file: status code 403\n",
      "Failed to download file: status code 403\n",
      "Failed to download file: Invalid URL 'http:/downloads/2022-11-08/02/patane2020.pdf#navpanes=0&view=FitH': No host supplied\n",
      "Failed to download file: status code 403\n",
      "Failed to download file: status code 403\n",
      "Failed to download file: status code 403\n",
      "Failed to download file: Invalid URL 'http:/downloads/2021-06-09/24/wang2020.pdf#navpanes=0&view=FitH': No host supplied\n",
      "Failed to download file: status code 403\n",
      "Failed to download file: status code 403\n",
      "Failed to download file: status code 403\n",
      "Failed to download file: status code 403\n",
      "Failed to download file: Invalid URL 'http:/downloads/2019-10-21/cd/dalca2019.pdf#navpanes=0&view=FitH': No host supplied\n",
      "Failed to download file: status code 403\n",
      "Failed to download file: Invalid URL 'http:/downloads/2020-05-18/4c/chen2014.pdf#navpanes=0&view=FitH': No host supplied\n",
      "Failed to download file: status code 403\n"
     ]
    },
    {
     "name": "stderr",
     "output_type": "stream",
     "text": [
      " 53%|█████▎    | 6283/11877 [23:27<05:06, 18.25it/s]"
     ]
    },
    {
     "name": "stdout",
     "output_type": "stream",
     "text": [
      "Failed to download file: Invalid URL 'http:/downloads/2020-10-24/88/luo2020.pdf#navpanes=0&view=FitH': No host supplied\n",
      "Failed to download file: status code 403\n",
      "Failed to download file: status code 403\n",
      "Failed to download file: Invalid URL 'http:/downloads/2020-03-12/1e/10.3390@electronics9030445.pdf#navpanes=0&view=FitH': No host supplied\n"
     ]
    },
    {
     "name": "stderr",
     "output_type": "stream",
     "text": [
      " 53%|█████▎    | 6313/11877 [23:27<03:39, 25.37it/s]"
     ]
    },
    {
     "name": "stdout",
     "output_type": "stream",
     "text": [
      "Failed to download file: status code 403\n",
      "Failed to download file: Invalid URL 'http:/downloads/2021-06-15/c0/du2020.pdf#navpanes=0&view=FitH': No host supplied\n",
      "Failed to download file: status code 403\n",
      "Failed to download file: status code 403\n",
      "Failed to download file: Invalid URL 'http:/downloads/2020-06-16//5a/10.1007@s11554-020-00987-8.pdf#navpanes=0&view=FitH': No host supplied\n"
     ]
    },
    {
     "name": "stderr",
     "output_type": "stream",
     "text": [
      " 53%|█████▎    | 6325/11877 [23:27<03:50, 24.11it/s]"
     ]
    },
    {
     "name": "stdout",
     "output_type": "stream",
     "text": [
      "Failed to download file: status code 403\n",
      "Failed to download file: Invalid URL 'http:/downloads/2020-11-02/99/prochaska2004.pdf#navpanes=0&view=FitH': No host supplied\n",
      "Failed to download file: Invalid URL 'http:/downloads/2020-11-28/bf/hakak2021.pdf#navpanes=0&view=FitH': No host supplied\n",
      "Failed to download file: Invalid URL 'http:/downloads/2022-11-04/c0e0/zhang2021.pdf#navpanes=0&view=FitH': No host supplied\n"
     ]
    },
    {
     "name": "stderr",
     "output_type": "stream",
     "text": [
      " 53%|█████▎    | 6334/11877 [23:28<03:50, 24.07it/s]"
     ]
    },
    {
     "name": "stdout",
     "output_type": "stream",
     "text": [
      "Failed to download file: status code 403\n",
      "Failed to download file: Invalid URL 'http:/downloads/2020-06-24//62/choi2020.pdf#navpanes=0&view=FitH': No host supplied\n",
      "Failed to download file: Invalid URL 'http:/downloads/2019-01-21//07/reza2019.pdf#navpanes=0&view=FitH': No host supplied\n",
      "Failed to download file: Invalid URL 'http:/downloads/2019-03-05/f9/10.1007@978-3-030-11009-315.pdf#navpanes=0&view=FitH': No host supplied\n",
      "Failed to download file: status code 403\n",
      "Failed to download file: status code 403\n",
      "Failed to download file: status code 403\n"
     ]
    },
    {
     "name": "stderr",
     "output_type": "stream",
     "text": [
      " 53%|█████▎    | 6347/11877 [23:28<03:56, 23.38it/s]"
     ]
    },
    {
     "name": "stdout",
     "output_type": "stream",
     "text": [
      "Failed to download file: status code 403\n",
      "Failed to download file: status code 403\n",
      "Failed to download file: Invalid URL 'http:/downloads/2019-01-23//3e/lewiner2003.pdf#navpanes=0&view=FitH': No host supplied\n"
     ]
    },
    {
     "name": "stderr",
     "output_type": "stream",
     "text": [
      " 53%|█████▎    | 6352/11877 [23:29<03:56, 23.41it/s]"
     ]
    },
    {
     "name": "stdout",
     "output_type": "stream",
     "text": [
      "Failed to download file: Invalid URL 'http:/downloads/2019-01-29//b3/fisher2012.pdf#navpanes=0&view=FitH': No host supplied\n"
     ]
    },
    {
     "name": "stderr",
     "output_type": "stream",
     "text": [
      " 54%|█████▎    | 6361/11877 [23:29<03:48, 24.15it/s]"
     ]
    },
    {
     "name": "stdout",
     "output_type": "stream",
     "text": [
      "Failed to download file: Invalid URL 'http:/downloads/2019-10-06/74/kudo2019.pdf#navpanes=0&view=FitH': No host supplied\n",
      "Failed to download file: status code 403\n"
     ]
    },
    {
     "name": "stderr",
     "output_type": "stream",
     "text": [
      " 54%|█████▎    | 6365/11877 [23:29<03:49, 23.99it/s]"
     ]
    },
    {
     "name": "stdout",
     "output_type": "stream",
     "text": [
      "Failed to download file: status code 403\n",
      "Failed to download file: status code 403\n"
     ]
    },
    {
     "name": "stderr",
     "output_type": "stream",
     "text": [
      " 54%|█████▎    | 6376/11877 [23:30<03:39, 25.07it/s]"
     ]
    },
    {
     "name": "stdout",
     "output_type": "stream",
     "text": [
      "Failed to download file: status code 403\n",
      "Failed to download file: status code 403\n",
      "Failed to download file: Invalid URL 'http:/downloads/2019-08-24/47/kim2019.pdf#navpanes=0&view=FitH': No host supplied\n",
      "Failed to download file: Invalid URL 'http:/downloads/2019-11-18/35/starke2019.pdf#navpanes=0&view=FitH': No host supplied\n",
      "Failed to download file: status code 403\n"
     ]
    },
    {
     "name": "stderr",
     "output_type": "stream",
     "text": [
      " 54%|█████▎    | 6380/11877 [23:30<04:55, 18.61it/s]"
     ]
    },
    {
     "name": "stdout",
     "output_type": "stream",
     "text": [
      "Failed to download file: Invalid URL 'http:/downloads/2021-06-16/42/wiersma2020.pdf#navpanes=0&view=FitH': No host supplied\n"
     ]
    },
    {
     "name": "stderr",
     "output_type": "stream",
     "text": [
      " 54%|█████▍    | 6387/11877 [23:30<04:15, 21.45it/s]"
     ]
    },
    {
     "name": "stdout",
     "output_type": "stream",
     "text": [
      "Failed to download file: status code 403\n",
      "Failed to download file: Invalid URL 'http:/downloads/2020-10-18/f4/li2020.pdf#navpanes=0&view=FitH': No host supplied\n",
      "Failed to download file: Invalid URL 'http:/downloads/2021-08-11/c4/piccolini2021.pdf#navpanes=0&view=FitH': No host supplied\n",
      "Failed to download file: status code 403\n",
      "Failed to download file: Invalid URL 'http:/downloads/2020-07-17/e8/cheng2020.pdf#navpanes=0&view=FitH': No host supplied\n",
      "Failed to download file: Invalid URL 'http:/downloads/2019-03-23/f0/10.1109@TVCG.2019.2898757.pdf#navpanes=0&view=FitH': No host supplied\n"
     ]
    },
    {
     "name": "stderr",
     "output_type": "stream",
     "text": [
      " 54%|█████▍    | 6390/11877 [23:30<04:33, 20.03it/s]"
     ]
    },
    {
     "name": "stdout",
     "output_type": "stream",
     "text": [
      "Failed to download file: Invalid URL 'http:/downloads/2021-05-15//e147/liu2021.pdf#navpanes=0&view=FitH': No host supplied\n",
      "Failed to download file: Invalid URL 'http:/downloads/2019-10-20/49/debole2019.pdf#navpanes=0&view=FitH': No host supplied\n",
      "Failed to download file: status code 403\n",
      "Failed to download file: Invalid URL 'http:/downloads/2019-03-13/a8/10.3390@electronics8030292.pdf#navpanes=0&view=FitH': No host supplied\n",
      "Failed to download file: status code 403\n",
      "Failed to download file: status code 403\n",
      "Failed to download file: status code 403\n",
      "Failed to download file: status code 403\n",
      "Failed to download file: Invalid URL 'http:/downloads/2020-01-31/31/10.1007@s11263-019-01283-0.pdf#navpanes=0&view=FitH': No host supplied\n",
      "Failed to download file: Invalid URL 'http:/downloads/2020-05-14/71/chirikjian2011.pdf#navpanes=0&view=FitH': No host supplied\n",
      "Failed to download file: Invalid URL 'http:/tree/71/ed/71ed584ce6ff204efe3af2fb0638a5a2.pdf#navpanes=0&view=FitH': No host supplied\n",
      "Failed to download file: status code 403\n",
      "Failed to download file: status code 403\n",
      "Failed to download file: status code 403\n",
      "Failed to download file: status code 403\n",
      "Failed to download file: Invalid URL 'http:/downloads/2019-01-26//63/kass1988.pdf#navpanes=0&view=FitH': No host supplied\n",
      "Failed to download file: status code 403\n",
      "Failed to download file: status code 403\n",
      "Failed to download file: Invalid URL 'http:/downloads/2021-08-11/bd/alzubaidi2021.pdf#navpanes=0&view=FitH': No host supplied\n",
      "Failed to download file: status code 403\n",
      "Failed to download file: status code 403\n",
      "Failed to download file: status code 403\n",
      "Failed to download file: status code 403\n",
      "Failed to download file: Invalid URL 'http:/downloads/2021-06-15/bd/xu2014.pdf#navpanes=0&view=FitH': No host supplied\n",
      "Failed to download file: status code 403\n",
      "Failed to download file: Invalid URL 'http:/downloads/2019-03-14/a0/10.1101@gad.323733.118.pdf#navpanes=0&view=FitH': No host supplied\n"
     ]
    },
    {
     "name": "stderr",
     "output_type": "stream",
     "text": [
      " 54%|█████▍    | 6393/11877 [23:33<23:27,  3.90it/s]"
     ]
    },
    {
     "name": "stdout",
     "output_type": "stream",
     "text": [
      "Failed to download file: status code 403\n",
      "Failed to download file: status code 403\n",
      "Failed to download file: status code 403\n",
      "Failed to download file: status code 403\n",
      "Failed to download file: status code 403\n",
      "Failed to download file: status code 403\n",
      "Failed to download file: status code 403\n",
      "Failed to download file: Invalid URL 'http:/downloads/2020-11-03/3e/macnamara2016.pdf#navpanes=0&view=FitH': No host supplied\n",
      "Failed to download file: status code 403\n",
      "Failed to download file: Invalid URL 'http:/downloads/2019-01-04/75/10.1103@PhysRevApplied.11.014004.pdf#navpanes=0&view=FitH': No host supplied\n",
      "Failed to download file: status code 403\n",
      "Failed to download file: status code 403\n"
     ]
    },
    {
     "name": "stderr",
     "output_type": "stream",
     "text": [
      " 55%|█████▍    | 6477/11877 [23:35<03:20, 26.91it/s]"
     ]
    },
    {
     "name": "stdout",
     "output_type": "stream",
     "text": [
      "Failed to download file: status code 403\n",
      "Failed to download file: status code 403\n",
      "Failed to download file: status code 403\n"
     ]
    },
    {
     "name": "stderr",
     "output_type": "stream",
     "text": [
      " 55%|█████▍    | 6488/11877 [23:35<03:23, 26.48it/s]"
     ]
    },
    {
     "name": "stdout",
     "output_type": "stream",
     "text": [
      "Failed to download file: status code 403\n",
      "Failed to download file: Invalid URL 'http:/downloads/2022-11-04/f7/wang2021.pdf#navpanes=0&view=FitH': No host supplied\n",
      "Failed to download file: status code 403\n",
      "Failed to download file: status code 403\n"
     ]
    },
    {
     "name": "stderr",
     "output_type": "stream",
     "text": [
      " 55%|█████▍    | 6502/11877 [23:36<03:38, 24.65it/s]"
     ]
    },
    {
     "name": "stdout",
     "output_type": "stream",
     "text": [
      "Failed to download file: status code 403\n",
      "Failed to download file: status code 403\n",
      "Failed to download file: status code 403\n"
     ]
    },
    {
     "name": "stderr",
     "output_type": "stream",
     "text": [
      " 55%|█████▍    | 6508/11877 [23:36<03:57, 22.57it/s]"
     ]
    },
    {
     "name": "stdout",
     "output_type": "stream",
     "text": [
      "Failed to download file: status code 403\n",
      "Failed to download file: status code 403\n",
      "Failed to download file: status code 403\n"
     ]
    },
    {
     "name": "stderr",
     "output_type": "stream",
     "text": [
      " 55%|█████▍    | 6513/11877 [23:37<04:18, 20.71it/s]"
     ]
    },
    {
     "name": "stdout",
     "output_type": "stream",
     "text": [
      "Failed to download file: status code 403\n"
     ]
    },
    {
     "name": "stderr",
     "output_type": "stream",
     "text": [
      " 55%|█████▍    | 6523/11877 [23:37<04:10, 21.41it/s]"
     ]
    },
    {
     "name": "stdout",
     "output_type": "stream",
     "text": [
      "Failed to download file: status code 403\n",
      "Failed to download file: Invalid URL 'http:/downloads/2020-06-21//2e/slyadnev2020.pdf#navpanes=0&view=FitH': No host supplied\n",
      "Failed to download file: Invalid URL 'http:/downloads/2020-05-04/4b/luvizon2020.pdf#navpanes=0&view=FitH': No host supplied\n",
      "Failed to download file: status code 403\n"
     ]
    },
    {
     "name": "stderr",
     "output_type": "stream",
     "text": [
      " 55%|█████▍    | 6527/11877 [23:37<04:26, 20.08it/s]"
     ]
    },
    {
     "name": "stdout",
     "output_type": "stream",
     "text": [
      "Failed to download file: status code 403\n"
     ]
    },
    {
     "name": "stderr",
     "output_type": "stream",
     "text": [
      " 55%|█████▌    | 6536/11877 [23:38<05:00, 17.75it/s]"
     ]
    },
    {
     "name": "stdout",
     "output_type": "stream",
     "text": [
      "Failed to download file: status code 403\n",
      "Failed to download file: status code 403\n"
     ]
    },
    {
     "name": "stderr",
     "output_type": "stream",
     "text": [
      " 55%|█████▌    | 6539/11877 [23:38<05:27, 16.28it/s]"
     ]
    },
    {
     "name": "stdout",
     "output_type": "stream",
     "text": [
      "Failed to download file: status code 403\n",
      "Failed to download file: status code 403\n",
      "Failed to download file: Invalid URL 'http:/downloads/2021-06-09/37/bangaru2020.pdf#navpanes=0&view=FitH': No host supplied\n",
      "Failed to download file: status code 403\n"
     ]
    },
    {
     "name": "stderr",
     "output_type": "stream",
     "text": [
      " 55%|█████▌    | 6548/11877 [23:39<04:33, 19.50it/s]"
     ]
    },
    {
     "name": "stdout",
     "output_type": "stream",
     "text": [
      "Failed to download file: status code 403\n",
      "Failed to download file: Invalid URL 'http:/downloads/2020-09-04/b7/bien2018.pdf#navpanes=0&view=FitH': No host supplied\n",
      "Failed to download file: Invalid URL 'http:/downloads/2019-08-25/1c/goswami2019.pdf#navpanes=0&view=FitH': No host supplied\n",
      "Failed to download file: status code 403\n",
      "Failed to download file: Invalid URL 'http:/downloads/2021-05-23/182f/zhang2021.pdf#navpanes=0&view=FitH': No host supplied\n",
      "Failed to download file: status code 403\n",
      "Failed to download file: status code 403\n",
      "Failed to download file: status code 403\n",
      "Failed to download file: status code 403\n"
     ]
    },
    {
     "name": "stderr",
     "output_type": "stream",
     "text": [
      " 55%|█████▌    | 6565/11877 [23:40<03:53, 22.71it/s]"
     ]
    },
    {
     "name": "stdout",
     "output_type": "stream",
     "text": [
      "Failed to download file: status code 403\n",
      "Failed to download file: status code 403\n",
      "Failed to download file: Invalid URL 'http:/downloads/2022-11-17/36/wen2022.pdf#navpanes=0&view=FitH': No host supplied\n",
      "Failed to download file: status code 403\n"
     ]
    },
    {
     "name": "stderr",
     "output_type": "stream",
     "text": [
      " 55%|█████▌    | 6570/11877 [23:40<03:52, 22.86it/s]"
     ]
    },
    {
     "name": "stdout",
     "output_type": "stream",
     "text": [
      "Failed to download file: status code 403\n",
      "Failed to download file: status code 403\n",
      "Failed to download file: Invalid URL 'http:/downloads/2019-09-04/9d/10.1007@978-3-030-30645-8.pdf#navpanes=0&view=FitH': No host supplied\n",
      "Failed to download file: status code 403\n"
     ]
    },
    {
     "name": "stderr",
     "output_type": "stream",
     "text": [
      " 55%|█████▌    | 6578/11877 [23:40<04:41, 18.82it/s]"
     ]
    },
    {
     "name": "stdout",
     "output_type": "stream",
     "text": [
      "Failed to download file: status code 403\n",
      "Failed to download file: status code 403\n",
      "Failed to download file: Invalid URL 'http:/downloads/2021-08-11/27/kanksha2021.pdf#navpanes=0&view=FitH': No host supplied\n",
      "Failed to download file: status code 403\n"
     ]
    },
    {
     "name": "stderr",
     "output_type": "stream",
     "text": [
      " 55%|█████▌    | 6581/11877 [23:40<04:29, 19.62it/s]"
     ]
    },
    {
     "name": "stdout",
     "output_type": "stream",
     "text": [
      "Failed to download file: status code 403\n",
      "Failed to download file: status code 403\n",
      "Failed to download file: status code 403\n"
     ]
    },
    {
     "name": "stderr",
     "output_type": "stream",
     "text": [
      " 56%|█████▌    | 6593/11877 [23:41<03:47, 23.18it/s]"
     ]
    },
    {
     "name": "stdout",
     "output_type": "stream",
     "text": [
      "Failed to download file: Invalid URL 'http:/downloads/2022-11-04/d4/goldberg2017.pdf#navpanes=0&view=FitH': No host supplied\n",
      "Failed to download file: Invalid URL 'http:/downloads/2019-12-09/ad/smith1983.pdf#navpanes=0&view=FitH': No host supplied\n",
      "Failed to download file: status code 403\n"
     ]
    },
    {
     "name": "stderr",
     "output_type": "stream",
     "text": [
      " 56%|█████▌    | 6599/11877 [23:41<04:15, 20.63it/s]"
     ]
    },
    {
     "name": "stdout",
     "output_type": "stream",
     "text": [
      "Failed to download file: status code 403\n"
     ]
    },
    {
     "name": "stderr",
     "output_type": "stream",
     "text": [
      " 56%|█████▌    | 6602/11877 [23:41<04:50, 18.19it/s]"
     ]
    },
    {
     "name": "stdout",
     "output_type": "stream",
     "text": [
      "Failed to download file: Invalid URL 'http:/downloads/2021-06-29/b3/ambrosino2021.pdf#navpanes=0&view=FitH': No host supplied\n",
      "Failed to download file: status code 403\n"
     ]
    },
    {
     "name": "stderr",
     "output_type": "stream",
     "text": [
      " 56%|█████▌    | 6605/11877 [23:42<05:54, 14.88it/s]"
     ]
    },
    {
     "name": "stdout",
     "output_type": "stream",
     "text": [
      "Failed to download file: Invalid URL 'http:/downloads/2019-02-28/c7/10.1109@tvcg.2019.2898736.pdf#navpanes=0&view=FitH': No host supplied\n",
      "Failed to download file: status code 403\n",
      "Failed to download file: status code 403\n",
      "Failed to download file: status code 403\n",
      "Failed to download file: status code 403\n",
      "Failed to download file: status code 403\n",
      "Failed to download file: Invalid URL 'http:/tree/de/07/de079f098cac1a3ddf12b385e6914889.pdf#navpanes=0&view=FitH': No host supplied\n",
      "Failed to download file: status code 403\n",
      "Failed to download file: Invalid URL 'http:/downloads/2021-06-09/7e/ragan-kelley2017.pdf#navpanes=0&view=FitH': No host supplied\n",
      "Failed to download file: Invalid URL 'http:/downloads/2021-05-15//ee/shi2021.pdf#navpanes=0&view=FitH': No host supplied\n",
      "Failed to download file: status code 403\n",
      "Failed to download file: Invalid URL 'http:/downloads/2022-11-09/74/han2021.pdf#navpanes=0&view=FitH': No host supplied\n",
      "Failed to download file: status code 403\n",
      "Failed to download file: status code 403\n",
      "Failed to download file: status code 403\n",
      "Failed to download file: Invalid URL 'http:/downloads/2019-03-30/0d/sakkos2019.pdf#navpanes=0&view=FitH': No host supplied\n",
      "Failed to download file: Invalid URL 'http:/tree/a8/ab/a8ab36964de97400d5284818d4909180.pdf#navpanes=0&view=FitH': No host supplied\n",
      "Failed to download file: status code 403\n",
      "Failed to download file: Invalid URL 'http:/downloads/2019-04-01/22/10.1109@TIE.2019.2898618.pdf#navpanes=0&view=FitH': No host supplied\n",
      "Failed to download file: status code 403\n",
      "Failed to download file: Invalid URL 'http:/downloads/2019-03-06/b4/weiler2018.pdf#navpanes=0&view=FitH': No host supplied\n",
      "Failed to download file: status code 403\n",
      "Failed to download file: Invalid URL 'http:/downloads/2020-08-23/4d/xu2020.pdf#navpanes=0&view=FitH': No host supplied\n",
      "Failed to download file: status code 403\n",
      "Failed to download file: status code 403\n",
      "Failed to download file: Invalid URL 'http:/downloads/2020-02-20/3c/hu2018.pdf#navpanes=0&view=FitH': No host supplied\n",
      "Failed to download file: status code 403\n",
      "Failed to download file: Invalid URL 'http:/downloads/2019-08-23/d1/heydecker2019.pdf#navpanes=0&view=FitH': No host supplied\n",
      "Failed to download file: status code 403\n",
      "Failed to download file: status code 403\n",
      "Failed to download file: Invalid URL 'http:/tree/72/a5/72a5000950f0bdc40b68cd1ddfae4bc5.pdf#navpanes=0&view=FitH': No host supplied\n",
      "Failed to download file: Invalid URL 'http:/downloads/2019-01-22//ef/su2016.pdf#navpanes=0&view=FitH': No host supplied\n"
     ]
    },
    {
     "name": "stderr",
     "output_type": "stream",
     "text": [
      " 56%|█████▌    | 6609/11877 [23:45<24:48,  3.54it/s]"
     ]
    },
    {
     "name": "stdout",
     "output_type": "stream",
     "text": [
      "Failed to download file: status code 403\n",
      "Failed to download file: Invalid URL 'http:/downloads/2021-08-10/d3/abbas2021.pdf#navpanes=0&view=FitH': No host supplied\n",
      "Failed to download file: status code 403\n"
     ]
    },
    {
     "name": "stderr",
     "output_type": "stream",
     "text": [
      " 56%|█████▌    | 6666/11877 [23:45<03:16, 26.57it/s]"
     ]
    },
    {
     "name": "stdout",
     "output_type": "stream",
     "text": [
      "Failed to download file: status code 403\n",
      "Failed to download file: status code 403\n",
      "Failed to download file: status code 403\n"
     ]
    },
    {
     "name": "stderr",
     "output_type": "stream",
     "text": [
      " 56%|█████▌    | 6679/11877 [23:45<03:34, 24.20it/s]"
     ]
    },
    {
     "name": "stdout",
     "output_type": "stream",
     "text": [
      "Failed to download file: Invalid URL 'http:/downloads/2020-02-02/22/10.1016@j.autcon.2020.103088.pdf#navpanes=0&view=FitH': No host supplied\n",
      "Failed to download file: status code 403\n",
      "Failed to download file: Invalid URL 'http:/downloads/2022-11-05/05/cooper2022.pdf#navpanes=0&view=FitH': No host supplied\n"
     ]
    },
    {
     "name": "stderr",
     "output_type": "stream",
     "text": [
      " 56%|█████▋    | 6689/11877 [23:46<03:15, 26.55it/s]"
     ]
    },
    {
     "name": "stdout",
     "output_type": "stream",
     "text": [
      "Failed to download file: Invalid URL 'http:/downloads/2019-09-23/18/zhang2019.pdf#navpanes=0&view=FitH': No host supplied\n",
      "Failed to download file: status code 403\n",
      "Failed to download file: Invalid URL 'http:/downloads/2020-07-20/f2/liu2020.pdf#navpanes=0&view=FitH': No host supplied\n",
      "Failed to download file: Invalid URL 'http:/downloads/2021-08-12/7d/du2021.pdf#navpanes=0&view=FitH': No host supplied\n",
      "Failed to download file: status code 403\n",
      "Failed to download file: status code 403\n"
     ]
    },
    {
     "name": "stderr",
     "output_type": "stream",
     "text": [
      " 56%|█████▋    | 6697/11877 [23:46<03:43, 23.17it/s]"
     ]
    },
    {
     "name": "stdout",
     "output_type": "stream",
     "text": [
      "Failed to download file: status code 403\n",
      "Failed to download file: status code 403\n"
     ]
    },
    {
     "name": "stderr",
     "output_type": "stream",
     "text": [
      " 56%|█████▋    | 6708/11877 [23:47<03:36, 23.90it/s]"
     ]
    },
    {
     "name": "stdout",
     "output_type": "stream",
     "text": [
      "Failed to download file: status code 403\n",
      "Failed to download file: Invalid URL 'http:/downloads/2020-01-02/01/li2018.pdf#navpanes=0&view=FitH': No host supplied\n",
      "Failed to download file: Invalid URL 'http:/downloads/2019-04-01/61/he2019.pdf#navpanes=0&view=FitH': No host supplied\n"
     ]
    },
    {
     "name": "stderr",
     "output_type": "stream",
     "text": [
      " 57%|█████▋    | 6713/11877 [23:47<03:22, 25.46it/s]"
     ]
    },
    {
     "name": "stdout",
     "output_type": "stream",
     "text": [
      "Failed to download file: status code 403\n",
      "Failed to download file: status code 403\n",
      "Failed to download file: Invalid URL 'http:/downloads/2020-07-22/b3/xia2019.pdf#navpanes=0&view=FitH': No host supplied\n",
      "Failed to download file: Invalid URL 'http:/downloads/2019-01-24//b3/massarwi2016.pdf#navpanes=0&view=FitH': No host supplied\n"
     ]
    },
    {
     "name": "stderr",
     "output_type": "stream",
     "text": [
      " 57%|█████▋    | 6718/11877 [23:47<03:58, 21.62it/s]"
     ]
    },
    {
     "name": "stdout",
     "output_type": "stream",
     "text": [
      "Failed to download file: status code 403\n",
      "Failed to download file: status code 403\n"
     ]
    },
    {
     "name": "stderr",
     "output_type": "stream",
     "text": [
      " 57%|█████▋    | 6722/11877 [23:47<04:10, 20.59it/s]"
     ]
    },
    {
     "name": "stdout",
     "output_type": "stream",
     "text": [
      "Failed to download file: status code 403\n",
      "Failed to download file: Invalid URL 'http:/downloads/2020-02-25/39/10.1111@ajt.15805.pdf#navpanes=0&view=FitH': No host supplied\n"
     ]
    },
    {
     "name": "stderr",
     "output_type": "stream",
     "text": [
      " 57%|█████▋    | 6735/11877 [23:48<03:46, 22.71it/s]"
     ]
    },
    {
     "name": "stdout",
     "output_type": "stream",
     "text": [
      "Failed to download file: status code 403\n",
      "Failed to download file: Invalid URL 'http:/downloads/2021-05-15//6e/peixoto2021.pdf#navpanes=0&view=FitH': No host supplied\n",
      "Failed to download file: status code 403\n",
      "Failed to download file: Invalid URL 'http:/downloads/2021-05-16/db/huet2021.pdf#navpanes=0&view=FitH': No host supplied\n",
      "Failed to download file: status code 403\n"
     ]
    },
    {
     "name": "stderr",
     "output_type": "stream",
     "text": [
      " 57%|█████▋    | 6739/11877 [23:48<03:31, 24.26it/s]"
     ]
    },
    {
     "name": "stdout",
     "output_type": "stream",
     "text": [
      "Failed to download file: Invalid URL 'http:/downloads/2020-03-03/5d9c/wang2019.pdf#navpanes=0&view=FitH': No host supplied\n",
      "Failed to download file: Invalid URL 'http:/downloads/2019-08-19/d3/10.1109@TVCG.2019.2932239.pdf#navpanes=0&view=FitH': No host supplied\n",
      "Failed to download file: status code 403\n",
      "Failed to download file: status code 403\n"
     ]
    },
    {
     "name": "stderr",
     "output_type": "stream",
     "text": [
      " 57%|█████▋    | 6742/11877 [23:48<04:23, 19.49it/s]"
     ]
    },
    {
     "name": "stdout",
     "output_type": "stream",
     "text": [
      "Failed to download file: status code 403\n",
      "Failed to download file: status code 403\n"
     ]
    },
    {
     "name": "stderr",
     "output_type": "stream",
     "text": [
      " 57%|█████▋    | 6745/11877 [23:49<04:55, 17.36it/s]"
     ]
    },
    {
     "name": "stdout",
     "output_type": "stream",
     "text": [
      "Failed to download file: status code 403\n",
      "Failed to download file: status code 403\n",
      "Failed to download file: status code 403\n",
      "Failed to download file: Invalid URL 'http:/downloads/2019-10-12/45/angles2019.pdf#navpanes=0&view=FitH': No host supplied\n"
     ]
    },
    {
     "name": "stderr",
     "output_type": "stream",
     "text": [
      " 57%|█████▋    | 6754/11877 [23:49<04:29, 18.99it/s]"
     ]
    },
    {
     "name": "stdout",
     "output_type": "stream",
     "text": [
      "Failed to download file: status code 403\n",
      "Failed to download file: Invalid URL 'http:/downloads/2019-01-16//67/yang2014.pdf#navpanes=0&view=FitH': No host supplied\n",
      "Failed to download file: status code 403\n",
      "Failed to download file: Invalid URL 'http:/downloads/2021-05-13//c0/badal2020.pdf#navpanes=0&view=FitH': No host supplied\n",
      "Failed to download file: Invalid URL 'http:/downloads/2020-05-12/36/morar2020.pdf#navpanes=0&view=FitH': No host supplied\n",
      "Failed to download file: Invalid URL 'http:/downloads/2021-06-14/43/guo2017.pdf#navpanes=0&view=FitH': No host supplied\n"
     ]
    },
    {
     "name": "stderr",
     "output_type": "stream",
     "text": [
      " 57%|█████▋    | 6758/11877 [23:49<03:48, 22.43it/s]"
     ]
    },
    {
     "name": "stdout",
     "output_type": "stream",
     "text": [
      "Failed to download file: status code 403\n",
      "Failed to download file: Invalid URL 'http:/downloads/2020-02-01/a3/infante2004.pdf#navpanes=0&view=FitH': No host supplied\n",
      "Failed to download file: status code 403\n",
      "Failed to download file: Invalid URL 'http:/downloads/2019-02-05/fb/10.1007@s12008-019-00546-x.pdf#navpanes=0&view=FitH': No host supplied\n",
      "Failed to download file: status code 403\n",
      "Failed to download file: status code 403\n",
      "Failed to download file: status code 403\n"
     ]
    },
    {
     "name": "stderr",
     "output_type": "stream",
     "text": [
      " 57%|█████▋    | 6765/11877 [23:49<02:53, 29.41it/s]"
     ]
    },
    {
     "name": "stdout",
     "output_type": "stream",
     "text": [
      "Failed to download file: status code 403\n"
     ]
    },
    {
     "name": "stderr",
     "output_type": "stream",
     "text": [
      " 57%|█████▋    | 6769/11877 [23:49<03:48, 22.32it/s]"
     ]
    },
    {
     "name": "stdout",
     "output_type": "stream",
     "text": [
      "Failed to download file: status code 403\n",
      "Failed to download file: status code 403\n"
     ]
    },
    {
     "name": "stderr",
     "output_type": "stream",
     "text": [
      " 57%|█████▋    | 6772/11877 [23:50<04:16, 19.93it/s]"
     ]
    },
    {
     "name": "stdout",
     "output_type": "stream",
     "text": [
      "Failed to download file: status code 403\n",
      "Failed to download file: status code 403\n",
      "Failed to download file: status code 403\n",
      "Failed to download file: status code 403\n",
      "Failed to download file: Invalid URL 'http:/downloads/2020-04-29/aa/10.1111@1744-7917.12793.pdf#navpanes=0&view=FitH': No host supplied\n"
     ]
    },
    {
     "name": "stderr",
     "output_type": "stream",
     "text": [
      " 57%|█████▋    | 6777/11877 [23:50<04:28, 19.02it/s]"
     ]
    },
    {
     "name": "stdout",
     "output_type": "stream",
     "text": [
      "Failed to download file: HTTPSConnectionPool(host='moscow.sci-hub.se', port=443): Max retries exceeded with url: /1692/5fd7ebef5f319c329f5ff1c02782e1ab/xi2010.pdf (Caused by SSLError(SSLEOFError(8, 'EOF occurred in violation of protocol (_ssl.c:997)')))\n",
      "Failed to download file: HTTPSConnectionPool(host='moscow.sci-hub.se', port=443): Max retries exceeded with url: /1263/50b7ecb67b16ab2cce23c86b3a386535/frantzides1997.pdf (Caused by SSLError(SSLEOFError(8, 'EOF occurred in violation of protocol (_ssl.c:997)')))\n",
      "Failed to download file: HTTPSConnectionPool(host='moscow.sci-hub.se', port=443): Max retries exceeded with url: /1823/67285dae180502130ed26a7a7eb7321f/gyulassy2007.pdf (Caused by SSLError(SSLEOFError(8, 'EOF occurred in violation of protocol (_ssl.c:997)')))\n",
      "Failed to download file: HTTPSConnectionPool(host='moscow.sci-hub.se', port=443): Max retries exceeded with url: /1362/99f52bbf3f8aa58f37d901ef33331326/baker2007.pdf (Caused by SSLError(SSLEOFError(8, 'EOF occurred in violation of protocol (_ssl.c:997)')))\n",
      "Failed to download file: status code 403\n",
      "Failed to download file: HTTPSConnectionPool(host='moscow.sci-hub.se', port=443): Max retries exceeded with url: /941/aaa53cbf778b3afef10736d2c7a4e278/schreiner2006.pdf (Caused by SSLError(SSLEOFError(8, 'EOF occurred in violation of protocol (_ssl.c:997)')))\n",
      "Failed to download file: status code 403\n"
     ]
    },
    {
     "name": "stderr",
     "output_type": "stream",
     "text": [
      " 57%|█████▋    | 6792/11877 [23:50<02:53, 29.24it/s]"
     ]
    },
    {
     "name": "stdout",
     "output_type": "stream",
     "text": [
      "Failed to download file: status code 403\n",
      "Failed to download file: HTTPSConnectionPool(host='moscow.sci-hub.se', port=443): Max retries exceeded with url: /722/6045291757239ada6498fee575728624/rosten2009.pdf (Caused by SSLError(SSLEOFError(8, 'EOF occurred in violation of protocol (_ssl.c:997)')))\n",
      "Failed to download file: HTTPSConnectionPool(host='moscow.sci-hub.se', port=443): Max retries exceeded with url: /1432/89719705d7edfb59e0dcc7762a6e18d1/gracanin1994.pdf (Caused by SSLError(SSLEOFError(8, 'EOF occurred in violation of protocol (_ssl.c:997)')))\n"
     ]
    },
    {
     "name": "stderr",
     "output_type": "stream",
     "text": [
      " 57%|█████▋    | 6796/11877 [23:51<03:45, 22.52it/s]"
     ]
    },
    {
     "name": "stdout",
     "output_type": "stream",
     "text": [
      "Failed to download file: HTTPSConnectionPool(host='moscow.sci-hub.se', port=443): Max retries exceeded with url: /4436/e7a6b026441a3d562595c4b015f583c5/bouguila2006.pdf (Caused by SSLError(SSLEOFError(8, 'EOF occurred in violation of protocol (_ssl.c:997)')))\n",
      "Failed to download file: Invalid URL 'http:/downloads/2019-08-05/bf/10.1109@TVCG.2019.2926978.pdf#navpanes=0&view=FitH': No host supplied\n",
      "Failed to download file: Invalid URL 'http:/downloads/2020-10-22/99/luiten2020.pdf#navpanes=0&view=FitH': No host supplied\n",
      "Failed to download file: Invalid URL 'http:/downloads/2020-04-09/c6/10.1016@j.ecoinf.2020.101088.pdf#navpanes=0&view=FitH': No host supplied\n",
      "Failed to download file: Invalid URL 'http:/downloads/2020-01-13/da/10.1016@j.cosrev.2019.100219.pdf#navpanes=0&view=FitH': No host supplied\n",
      "Failed to download file: HTTPSConnectionPool(host='moscow.sci-hub.se', port=443): Max retries exceeded with url: /1119/0741f6b57b401f6c56a37bf4ac93e3d5/khonina2011.pdf (Caused by SSLError(SSLEOFError(8, 'EOF occurred in violation of protocol (_ssl.c:997)')))\n"
     ]
    },
    {
     "name": "stderr",
     "output_type": "stream",
     "text": [
      " 57%|█████▋    | 6799/11877 [23:51<04:10, 20.25it/s]"
     ]
    },
    {
     "name": "stdout",
     "output_type": "stream",
     "text": [
      "Failed to download file: status code 403\n",
      "Failed to download file: status code 403\n",
      "Failed to download file: HTTPSConnectionPool(host='moscow.sci-hub.se', port=443): Max retries exceeded with url: /856/d2be4ea61e393f07edacfb418aeeebc2/hsieh2006.pdf (Caused by SSLError(SSLEOFError(8, 'EOF occurred in violation of protocol (_ssl.c:997)')))\n",
      "Failed to download file: HTTPSConnectionPool(host='moscow.sci-hub.se', port=443): Max retries exceeded with url: /2657/ba025784ebe151fbb39cc7dd34964326/ryan2015.pdf (Caused by SSLError(SSLEOFError(8, 'EOF occurred in violation of protocol (_ssl.c:997)')))\n",
      "Failed to download file: status code 403\n",
      "Failed to download file: HTTPSConnectionPool(host='moscow.sci-hub.se', port=443): Max retries exceeded with url: /1448/8c3970c5f79563f9cda7cc676030018a/ren2002.pdf (Caused by SSLError(SSLEOFError(8, 'EOF occurred in violation of protocol (_ssl.c:997)')))\n",
      "Failed to download file: Invalid URL 'http:/downloads/2021-06-15/d477/li2020.pdf#navpanes=0&view=FitH': No host supplied\n",
      "Failed to download file: HTTPSConnectionPool(host='moscow.sci-hub.se', port=443): Max retries exceeded with url: /4914/e1b88684e583951bc74357b474b8d45a/jokisch2006.pdf (Caused by SSLError(SSLEOFError(8, 'EOF occurred in violation of protocol (_ssl.c:997)')))\n",
      "Failed to download file: HTTPSConnectionPool(host='moscow.sci-hub.se', port=443): Max retries exceeded with url: /1813/1fb88970a062edb74308ce59ee3424ae/bergen1992.pdf (Caused by SSLError(SSLEOFError(8, 'EOF occurred in violation of protocol (_ssl.c:997)')))\n"
     ]
    },
    {
     "name": "stderr",
     "output_type": "stream",
     "text": [
      " 57%|█████▋    | 6812/11877 [23:51<03:17, 25.64it/s]"
     ]
    },
    {
     "name": "stdout",
     "output_type": "stream",
     "text": [
      "Failed to download file: status code 403\n",
      "Failed to download file: HTTPSConnectionPool(host='moscow.sci-hub.se', port=443): Max retries exceeded with url: /116/fa04f6ad9951bb5996c17dd4555b5fa7/imai2007.pdf (Caused by SSLError(SSLEOFError(8, 'EOF occurred in violation of protocol (_ssl.c:997)')))\n",
      "Failed to download file: status code 403\n",
      "Failed to download file: Invalid URL 'http:/downloads/2021-05-27/06/kavur2021.pdf#navpanes=0&view=FitH': No host supplied\n",
      "Failed to download file: Invalid URL 'http:/downloads/2020-01-11/c6/10.1016@j.surg.2019.11.008.pdf#navpanes=0&view=FitH': No host supplied\n",
      "Failed to download file: Invalid URL 'http:/downloads/2019-11-18/1c/luo2019.pdf#navpanes=0&view=FitH': No host supplied\n"
     ]
    },
    {
     "name": "stderr",
     "output_type": "stream",
     "text": [
      " 57%|█████▋    | 6815/11877 [23:52<03:50, 21.92it/s]"
     ]
    },
    {
     "name": "stdout",
     "output_type": "stream",
     "text": [
      "Failed to download file: status code 403\n",
      "Failed to download file: Invalid URL 'http:/downloads/2019-03-29/38/cai2018.pdf#navpanes=0&view=FitH': No host supplied\n"
     ]
    },
    {
     "name": "stderr",
     "output_type": "stream",
     "text": [
      " 57%|█████▋    | 6818/11877 [23:52<04:26, 19.00it/s]"
     ]
    },
    {
     "name": "stdout",
     "output_type": "stream",
     "text": [
      "Failed to download file: HTTPSConnectionPool(host='moscow.sci-hub.se', port=443): Max retries exceeded with url: /2354/454ede23574047d3b20bfa92d157342d/kaipainen2011.pdf (Caused by SSLError(SSLEOFError(8, 'EOF occurred in violation of protocol (_ssl.c:997)')))Failed to download file: HTTPSConnectionPool(host='moscow.sci-hub.se', port=443): Max retries exceeded with url: /2143/472eb19289084e7eb49bcc3c74e1c106/vandeweijer2006.pdf (Caused by SSLError(SSLEOFError(8, 'EOF occurred in violation of protocol (_ssl.c:997)')))\n",
      "\n",
      "Failed to download file: HTTPSConnectionPool(host='moscow.sci-hub.se', port=443): Max retries exceeded with url: /2745/8a2f6a7fbb870c663987004d2b4c247d/dodgson1997.pdf (Caused by SSLError(SSLEOFError(8, 'EOF occurred in violation of protocol (_ssl.c:997)')))\n",
      "Failed to download file: status code 403\n",
      "Failed to download file: Invalid URL 'http:/downloads/2019-12-26/11/bushinsky2009.pdf#navpanes=0&view=FitH': No host supplied\n",
      "Failed to download file: HTTPSConnectionPool(host='moscow.sci-hub.se', port=443): Max retries exceeded with url: /3644/720f13f5446b4b62e0ded733e0b8c356/lehtinen2013.pdf (Caused by SSLError(SSLEOFError(8, 'EOF occurred in violation of protocol (_ssl.c:997)')))\n",
      "Failed to download file: HTTPSConnectionPool(host='moscow.sci-hub.se', port=443): Max retries exceeded with url: /3183/89910517b92c440529e72fba84306919/cheng2014.pdf (Caused by SSLError(SSLEOFError(8, 'EOF occurred in violation of protocol (_ssl.c:997)')))\n"
     ]
    },
    {
     "name": "stderr",
     "output_type": "stream",
     "text": [
      " 58%|█████▊    | 6830/11877 [23:52<02:59, 28.18it/s]"
     ]
    },
    {
     "name": "stdout",
     "output_type": "stream",
     "text": [
      "Failed to download file: status code 403\n",
      "Failed to download file: status code 403\n",
      "Failed to download file: Invalid URL 'http:/downloads/2020-10-14/c4/10.1016@j.gee.2020.10.013.pdf#navpanes=0&view=FitH': No host supplied\n",
      "Failed to download file: HTTPSConnectionPool(host='moscow.sci-hub.se', port=443): Max retries exceeded with url: /1354/900afe40213e62de0f7a5e76b3b64ccb/bruneo2012.pdf (Caused by SSLError(SSLEOFError(8, 'EOF occurred in violation of protocol (_ssl.c:997)')))\n",
      "Failed to download file: status code 403\n",
      "Failed to download file: HTTPSConnectionPool(host='moscow.sci-hub.se', port=443): Max retries exceeded with url: /1822/cc884897c3ddbdf4fd5df4e4398f680c/xuncao2011.pdf (Caused by SSLError(SSLEOFError(8, 'EOF occurred in violation of protocol (_ssl.c:997)')))\n"
     ]
    },
    {
     "name": "stderr",
     "output_type": "stream",
     "text": [
      " 58%|█████▊    | 6842/11877 [23:53<02:56, 28.56it/s]"
     ]
    },
    {
     "name": "stdout",
     "output_type": "stream",
     "text": [
      "Failed to download file: status code 403\n",
      "Failed to download file: Invalid URL 'http:/downloads/2019-03-11/c6/10.3390@s19051005.pdf#navpanes=0&view=FitH': No host supplied\n",
      "Failed to download file: status code 403\n",
      "Failed to download file: Invalid URL 'http:/downloads/2019-08-18/06/10.1109@TVCG.2019.2920817.pdf#navpanes=0&view=FitH': No host supplied\n",
      "Failed to download file: HTTPSConnectionPool(host='moscow.sci-hub.se', port=443): Max retries exceeded with url: /3647/26b973e44d9fd6fc1342e8d5b21ebaad/zhang2005.pdf (Caused by SSLError(SSLEOFError(8, 'EOF occurred in violation of protocol (_ssl.c:997)')))\n",
      "Failed to download file: HTTPSConnectionPool(host='moscow.sci-hub.se', port=443): Max retries exceeded with url: /1881/789b4b871511f1b419cfe723b0c8231d/parke1975.pdf (Caused by SSLError(SSLEOFError(8, 'EOF occurred in violation of protocol (_ssl.c:997)')))\n",
      "Failed to download file: HTTPSConnectionPool(host='moscow.sci-hub.se', port=443): Max retries exceeded with url: /1061/f93057579369a5f78a4c770cf6e9b0ba/williams2004.pdf (Caused by SSLError(SSLEOFError(8, 'EOF occurred in violation of protocol (_ssl.c:997)')))\n",
      "Failed to download file: Invalid URL 'http:/downloads/2019-04-25/b6/10.1007@s00330-019-06205-9.pdf#navpanes=0&view=FitH': No host supplied\n",
      "Failed to download file: HTTPSConnectionPool(host='moscow.sci-hub.se', port=443): Max retries exceeded with url: /305/208bfa6867a25259d4764061f664854d/defanti2009.pdf (Caused by SSLError(SSLEOFError(8, 'EOF occurred in violation of protocol (_ssl.c:997)')))\n",
      "Failed to download file: Invalid URL 'http:/downloads/2019-10-22/ec/garcia-rodriguez2019.pdf#navpanes=0&view=FitH': No host supplied\n",
      "Failed to download file: Invalid URL 'http:/downloads/2020-06-02/66/10.1016@j.isprsjprs.2020.05.009.pdf#navpanes=0&view=FitH': No host supplied\n"
     ]
    },
    {
     "name": "stderr",
     "output_type": "stream",
     "text": [
      " 58%|█████▊    | 6846/11877 [23:53<04:01, 20.85it/s]"
     ]
    },
    {
     "name": "stdout",
     "output_type": "stream",
     "text": [
      "Failed to download file: HTTPSConnectionPool(host='moscow.sci-hub.se', port=443): Max retries exceeded with url: /1363/cba940c96036f6cd558992c98fc1ed68/singh2010.pdf (Caused by SSLError(SSLEOFError(8, 'EOF occurred in violation of protocol (_ssl.c:997)')))\n",
      "Failed to download file: status code 403\n",
      "Failed to download file: status code 403\n",
      "Failed to download file: status code 403\n",
      "Failed to download file: HTTPSConnectionPool(host='moscow.sci-hub.se', port=443): Max retries exceeded with url: /2144/34325d911a76ba4c7d1d29e08e1e7c96/debzi1991.pdf (Caused by SSLError(SSLEOFError(8, 'EOF occurred in violation of protocol (_ssl.c:997)')))\n",
      "Failed to download file: Invalid URL 'http:/tree/3a/11/3a1151c038107fc02ac8c9b6da24a2c3.pdf#navpanes=0&view=FitH': No host supplied\n",
      "Failed to download file: Invalid URL 'http:/downloads/2022-11-04/c0e0/zhang2021.pdf#navpanes=0&view=FitH': No host supplied\n"
     ]
    },
    {
     "name": "stderr",
     "output_type": "stream",
     "text": [
      " 58%|█████▊    | 6855/11877 [23:53<03:37, 23.08it/s]"
     ]
    },
    {
     "name": "stdout",
     "output_type": "stream",
     "text": [
      "Failed to download file: HTTPSConnectionPool(host='moscow.sci-hub.se', port=443): Max retries exceeded with url: /1611/f71305044356c6e9c03493814b089e8a/suzuki1990.pdf (Caused by SSLError(SSLEOFError(8, 'EOF occurred in violation of protocol (_ssl.c:997)')))\n",
      "Failed to download file: status code 403\n",
      "Failed to download file: status code 403\n",
      "Failed to download file: Invalid URL 'http:/downloads/2021-06-09/86/romero2017.pdf#navpanes=0&view=FitH': No host supplied\n",
      "Failed to download file: Invalid URL 'http:/tree/9f/62/9f6265f0c83fa2654948ab0231b9b184.pdf#navpanes=0&view=FitH': No host supplied\n",
      "Failed to download file: HTTPSConnectionPool(host='moscow.sci-hub.se', port=443): Max retries exceeded with url: /4141/dfdf1b9aa0e68b96c118b438c294c12e/joshi2013.pdf (Caused by SSLError(SSLEOFError(8, 'EOF occurred in violation of protocol (_ssl.c:997)')))\n",
      "Failed to download file: HTTPSConnectionPool(host='moscow.sci-hub.se', port=443): Max retries exceeded with url: /2137/3a35742c4c01a1e3b4a257ff5ab872e7/zheng2013.pdf (Caused by SSLError(SSLEOFError(8, 'EOF occurred in violation of protocol (_ssl.c:997)')))\n",
      "Failed to download file: HTTPSConnectionPool(host='moscow.sci-hub.se', port=443): Max retries exceeded with url: /5405/c83558aab80fcfb727a9c5340cbd6ca0/garrido2016.pdf (Caused by SSLError(SSLEOFError(8, 'EOF occurred in violation of protocol (_ssl.c:997)')))\n"
     ]
    },
    {
     "name": "stderr",
     "output_type": "stream",
     "text": [
      " 58%|█████▊    | 6868/11877 [23:54<03:18, 25.18it/s]"
     ]
    },
    {
     "name": "stdout",
     "output_type": "stream",
     "text": [
      "Failed to download file: HTTPSConnectionPool(host='moscow.sci-hub.se', port=443): Max retries exceeded with url: /4091/fb98603ad7fd2f05be38bdc06b2117a2/romaguera2005.pdf (Caused by SSLError(SSLEOFError(8, 'EOF occurred in violation of protocol (_ssl.c:997)')))\n",
      "Failed to download file: status code 403\n",
      "Failed to download file: status code 403\n"
     ]
    },
    {
     "name": "stderr",
     "output_type": "stream",
     "text": [
      " 58%|█████▊    | 6871/11877 [23:54<03:27, 24.16it/s]"
     ]
    },
    {
     "name": "stdout",
     "output_type": "stream",
     "text": [
      "Failed to download file: HTTPSConnectionPool(host='moscow.sci-hub.se', port=443): Max retries exceeded with url: /795/b64f541e54cf76d9dcda12d7995f0e7d/10.1007@s11042-005-2715-7.pdf (Caused by SSLError(SSLEOFError(8, 'EOF occurred in violation of protocol (_ssl.c:997)')))\n",
      "Failed to download file: HTTPSConnectionPool(host='moscow.sci-hub.se', port=443): Max retries exceeded with url: /2199/226cda059a4ca8ae976182d3b3e213a4/selbekk2013.pdf (Caused by SSLError(SSLEOFError(8, 'EOF occurred in violation of protocol (_ssl.c:997)')))\n",
      "Failed to download file: status code 403\n",
      "Failed to download file: HTTPSConnectionPool(host='moscow.sci-hub.se', port=443): Max retries exceeded with url: /4819/7e0f6eea957e48effc4514c92bc3ddef/carvalho2016.pdf (Caused by SSLError(SSLEOFError(8, 'EOF occurred in violation of protocol (_ssl.c:997)')))\n"
     ]
    },
    {
     "name": "stderr",
     "output_type": "stream",
     "text": [
      " 58%|█████▊    | 6884/11877 [23:54<02:42, 30.82it/s]"
     ]
    },
    {
     "name": "stdout",
     "output_type": "stream",
     "text": [
      "Failed to download file: Invalid URL 'http:/downloads/2021-06-09/9a/holden2020.pdf#navpanes=0&view=FitH': No host supplied\n",
      "Failed to download file: HTTPSConnectionPool(host='moscow.sci-hub.se', port=443): Max retries exceeded with url: /1816/b8f553bb3b46a20e9a35fabaf915fccc/mudur1984.pdf (Caused by SSLError(SSLEOFError(8, 'EOF occurred in violation of protocol (_ssl.c:997)')))\n",
      "Failed to download file: HTTPSConnectionPool(host='moscow.sci-hub.se', port=443): Max retries exceeded with url: /1448/c97e3f4ea976bbde7b3038113df94689/csebfalvi2001.pdf (Caused by SSLError(SSLEOFError(8, 'EOF occurred in violation of protocol (_ssl.c:997)')))\n",
      "Failed to download file: HTTPSConnectionPool(host='moscow.sci-hub.se', port=443): Max retries exceeded with url: /3514/42e501a2f858c0238a590321b4a8a6e4/miguel2013.pdf (Caused by SSLError(SSLEOFError(8, 'EOF occurred in violation of protocol (_ssl.c:997)')))\n",
      "Failed to download file: status code 403\n"
     ]
    },
    {
     "name": "stderr",
     "output_type": "stream",
     "text": [
      " 58%|█████▊    | 6888/11877 [23:54<03:13, 25.84it/s]"
     ]
    },
    {
     "name": "stdout",
     "output_type": "stream",
     "text": [
      "Failed to download file: HTTPSConnectionPool(host='moscow.sci-hub.se', port=443): Max retries exceeded with url: /3198/6d6e777e8814634a96e654c10bb84f0b/leeb2013.pdf (Caused by SSLError(SSLEOFError(8, 'EOF occurred in violation of protocol (_ssl.c:997)')))\n",
      "Failed to download file: Invalid URL 'http:/downloads/2020-08-09/90/wei2020.pdf#navpanes=0&view=FitH': No host supplied\n"
     ]
    },
    {
     "name": "stderr",
     "output_type": "stream",
     "text": [
      " 58%|█████▊    | 6894/11877 [23:55<03:18, 25.13it/s]"
     ]
    },
    {
     "name": "stdout",
     "output_type": "stream",
     "text": [
      "Failed to download file: status code 403\n",
      "Failed to download file: HTTPSConnectionPool(host='moscow.sci-hub.se', port=443): Max retries exceeded with url: /1813/e92bca8796e8bf3a322ff1148a1437b4/beveridge1997.pdf (Caused by SSLError(SSLEOFError(8, 'EOF occurred in violation of protocol (_ssl.c:997)')))\n"
     ]
    },
    {
     "name": "stderr",
     "output_type": "stream",
     "text": [
      " 58%|█████▊    | 6901/11877 [23:55<03:32, 23.45it/s]"
     ]
    },
    {
     "name": "stdout",
     "output_type": "stream",
     "text": [
      "Failed to download file: status code 403\n",
      "Failed to download file: Invalid URL 'http:/downloads/2020-05-27/ce/liu2019.pdf#navpanes=0&view=FitH': No host supplied\n",
      "Failed to download file: HTTPSConnectionPool(host='moscow.sci-hub.se', port=443): Max retries exceeded with url: /3965/63d628b99472cc8d2af9ae1def12851e/bai2013.pdf (Caused by SSLError(SSLEOFError(8, 'EOF occurred in violation of protocol (_ssl.c:997)')))\n",
      "Failed to download file: HTTPSConnectionPool(host='moscow.sci-hub.se', port=443): Max retries exceeded with url: /4597/05a3e620d214c104de9f2c5cf4a6d596/alhashim2015.pdf (Caused by SSLError(SSLEOFError(8, 'EOF occurred in violation of protocol (_ssl.c:997)')))\n",
      "Failed to download file: status code 403\n",
      "Failed to download file: status code 403\n",
      "Failed to download file: status code 403\n"
     ]
    },
    {
     "name": "stderr",
     "output_type": "stream",
     "text": [
      " 58%|█████▊    | 6909/11877 [23:55<03:09, 26.19it/s]"
     ]
    },
    {
     "name": "stdout",
     "output_type": "stream",
     "text": [
      "Failed to download file: status code 403\n",
      "Failed to download file: HTTPSConnectionPool(host='moscow.sci-hub.se', port=443): Max retries exceeded with url: /2319/bac96e06c1a15329676e80c8ed704541/tao2013.pdf (Caused by SSLError(SSLEOFError(8, 'EOF occurred in violation of protocol (_ssl.c:997)')))\n",
      "Failed to download file: HTTPSConnectionPool(host='moscow.sci-hub.se', port=443): Max retries exceeded with url: /1315/8f124dc5b8af7db5e28875af3c3d107a/wallraven2009.pdf (Caused by SSLError(SSLEOFError(8, 'EOF occurred in violation of protocol (_ssl.c:997)')))\n",
      "Failed to download file: Invalid URL 'http:/tree/ab/25/ab2545995cf5a5bda079eebef2df56aa.pdf#navpanes=0&view=FitH': No host supplied\n",
      "Failed to download file: Invalid URL 'http:/downloads/2022-11-08/d0/peterlik2021.pdf#navpanes=0&view=FitH': No host supplied\n",
      "Failed to download file: Invalid URL 'http:/downloads/2020-06-02/fe/10.1109@ACCESS.2020.2993928.pdf#navpanes=0&view=FitH': No host supplied\n",
      "Failed to download file: Invalid URL 'http:/downloads/2019-09-10/08/hanocka2019.pdf#navpanes=0&view=FitH': No host supplied\n",
      "Failed to download file: Invalid URL 'http:/downloads/2021-06-09/b5/davis2014.pdf#navpanes=0&view=FitH': No host supplied\n",
      "Failed to download file: Invalid URL 'http:/downloads/2021-06-14/47/kaufman2014.pdf#navpanes=0&view=FitH': No host supplied\n",
      "Failed to download file: Invalid URL 'http:/downloads/2020-08-16/a6/wang2014.pdf#navpanes=0&view=FitH': No host supplied\n",
      "Failed to download file: Invalid URL 'http:/uptodate/S0165614721001383.pdf#navpanes=0&view=FitH': No host supplied\n",
      "Failed to download file: HTTPSConnectionPool(host='moscow.sci-hub.se', port=443): Max retries exceeded with url: /335/47ff8189b4ea7518f2bcb6326c51297b/choi2010.pdf (Caused by SSLError(SSLEOFError(8, 'EOF occurred in violation of protocol (_ssl.c:997)')))\n",
      "Failed to download file: status code 403\n",
      "Failed to download file: Invalid URL 'http:/downloads/2020-09-20/bf/ranftl2020.pdf#navpanes=0&view=FitH': No host supplied\n",
      "Failed to download file: status code 403\n",
      "Failed to download file: HTTPSConnectionPool(host='moscow.sci-hub.se', port=443): Max retries exceeded with url: /5116/dca2549319ff68d4c0dc6b85767d5840/lin2002.pdf (Caused by SSLError(SSLEOFError(8, 'EOF occurred in violation of protocol (_ssl.c:997)')))\n",
      "Failed to download file: HTTPSConnectionPool(host='moscow.sci-hub.se', port=443): Max retries exceeded with url: /4355/926148ba670848f20d05ff0a914dc81a/chang1996.pdf (Caused by SSLError(SSLEOFError(8, 'EOF occurred in violation of protocol (_ssl.c:997)')))\n",
      "Failed to download file: HTTPSConnectionPool(host='moscow.sci-hub.se', port=443): Max retries exceeded with url: /2602/40bab9c79a9329d7da68b3c5c9da5a3a/weng2014.pdf (Caused by SSLError(SSLEOFError(8, 'EOF occurred in violation of protocol (_ssl.c:997)')))\n",
      "Failed to download file: HTTPSConnectionPool(host='moscow.sci-hub.se', port=443): Max retries exceeded with url: /942/22dc3adafb6eb27f797b610d09a49f00/cao2010.pdf (Caused by SSLError(SSLEOFError(8, 'EOF occurred in violation of protocol (_ssl.c:997)')))\n",
      "Failed to download file: status code 403\n",
      "Failed to download file: status code 403\n",
      "Failed to download file: status code 403\n",
      "Failed to download file: Invalid URL 'http:/downloads/2020-07-03//58/10.1109@TIP.2020.3004267.pdf#navpanes=0&view=FitH': No host supplied\n",
      "Failed to download file: Invalid URL 'http:/downloads/2019-11-18/32/ma2019.pdf#navpanes=0&view=FitH': No host supplied\n",
      "Failed to download file: HTTPSConnectionPool(host='moscow.sci-hub.se', port=443): Max retries exceeded with url: /1823/a0da546b3f5b814ab58faa08294db3f2/jiancui2010.pdf (Caused by SSLError(SSLEOFError(8, 'EOF occurred in violation of protocol (_ssl.c:997)')))\n",
      "Failed to download file: status code 403\n",
      "Failed to download file: status code 403\n",
      "Failed to download file: HTTPSConnectionPool(host='moscow.sci-hub.se', port=443): Max retries exceeded with url: /3946/454c26dc5cdff7eeecec218f368bc0c1/kokaram2003.pdf (Caused by SSLError(SSLEOFError(8, 'EOF occurred in violation of protocol (_ssl.c:997)')))\n",
      "Failed to download file: Invalid URL 'http:/downloads/2019-04-02/26/10.1007@s13319-019-0224-0.pdf#navpanes=0&view=FitH': No host supplied\n",
      "Failed to download file: HTTPSConnectionPool(host='moscow.sci-hub.se', port=443): Max retries exceeded with url: /678/f1790a19632127642ade2064a155b041/lesch1992.pdf (Caused by SSLError(SSLEOFError(8, 'EOF occurred in violation of protocol (_ssl.c:997)')))\n",
      "Failed to download file: status code 403\n",
      "Failed to download file: status code 403\n",
      "Failed to download file: Invalid URL 'http:/downloads/2020-04-13/d8/10.1016@j.bodyim.2020.03.003.pdf#navpanes=0&view=FitH': No host supplied\n",
      "Failed to download file: HTTPSConnectionPool(host='moscow.sci-hub.se', port=443): Max retries exceeded with url: /4437/be02e8be38a7d6470971433654b06bd7/park2010.pdf (Caused by SSLError(SSLEOFError(8, 'EOF occurred in violation of protocol (_ssl.c:997)')))\n",
      "Failed to download file: HTTPSConnectionPool(host='moscow.sci-hub.se', port=443): Max retries exceeded with url: /3650/7b035f84fb61d4eb9a74e26fee44aa47/ueno2006.pdf (Caused by SSLError(SSLEOFError(8, 'EOF occurred in violation of protocol (_ssl.c:997)')))\n",
      "Failed to download file: status code 403\n",
      "Failed to download file: status code 403\n",
      "Failed to download file: Invalid URL 'http:/downloads/2020-07-11/a7/jiang2020.pdf#navpanes=0&view=FitH': No host supplied\n",
      "Failed to download file: HTTPSConnectionPool(host='moscow.sci-hub.se', port=443): Max retries exceeded with url: /4145/80c23b06190fb9b954d41fce63d30b52/deweert2006.pdf (Caused by SSLError(SSLEOFError(8, 'EOF occurred in violation of protocol (_ssl.c:997)')))\n",
      "Failed to download file: status code 403\n",
      "Failed to download file: HTTPSConnectionPool(host='moscow.sci-hub.se', port=443): Max retries exceeded with url: /1893/2bedce9241b1d29578af27b0926b05e6/fletcher2009.pdf (Caused by SSLError(SSLEOFError(8, 'EOF occurred in violation of protocol (_ssl.c:997)')))\n",
      "Failed to download file: status code 403\n",
      "Failed to download file: Invalid URL 'http:/downloads/2020-02-02/13/xia2020.pdf#navpanes=0&view=FitH': No host supplied\n",
      "Failed to download file: Invalid URL 'http:/downloads/2019-10-14/d8/chen2019.pdf#navpanes=0&view=FitH': No host supplied\n",
      "Failed to download file: Invalid URL 'http:/downloads/2021-08-11/98/krajancich2021.pdf#navpanes=0&view=FitH': No host supplied\n",
      "Failed to download file: HTTPSConnectionPool(host='moscow.sci-hub.se', port=443): Max retries exceeded with url: /2104/45423bba01b1824a2cedf856eba3d26e/eiben2012.pdf (Caused by SSLError(SSLEOFError(8, 'EOF occurred in violation of protocol (_ssl.c:997)')))\n",
      "Failed to download file: HTTPSConnectionPool(host='moscow.sci-hub.se', port=443): Max retries exceeded with url: /3867/07556675d26afcf34a3f54573899b0e9/hopf2006.pdf (Caused by SSLError(SSLEOFError(8, 'EOF occurred in violation of protocol (_ssl.c:997)')))\n",
      "Failed to download file: status code 403\n",
      "Failed to download file: status code 403\n",
      "Failed to download file: status code 403\n",
      "Failed to download file: Invalid URL 'http:/downloads/2019-07-25/a8/10.1145@3306346.3322951.pdf#navpanes=0&view=FitH': No host supplied\n",
      "Failed to download file: status code 403\n",
      "Failed to download file: Invalid URL 'http:/downloads/2021-06-16/60/hegarty2014.pdf#navpanes=0&view=FitH': No host supplied\n",
      "Failed to download file: Invalid URL 'http:/downloads/2020-07-13/a1/mikula2019.pdf#navpanes=0&view=FitH': No host supplied\n",
      "Failed to download file: status code 403\n",
      "Failed to download file: HTTPSConnectionPool(host='moscow.sci-hub.se', port=443): Max retries exceeded with url: /5102/72a5a32032c41dcf6879de8b0bc11edb/ehteshamibejnordi2016.pdf (Caused by SSLError(SSLEOFError(8, 'EOF occurred in violation of protocol (_ssl.c:997)')))\n",
      "Failed to download file: status code 403\n",
      "Failed to download file: status code 403\n",
      "Failed to download file: Invalid URL 'http:/downloads/2019-01-23//8a/song2019.pdf#navpanes=0&view=FitH': No host supplied\n",
      "Failed to download file: HTTPSConnectionPool(host='moscow.sci-hub.se', port=443): Max retries exceeded with url: /4078/51fcda157aa64a64b08270f3db842aee/butovsky2006.pdf (Caused by SSLError(SSLEOFError(8, 'EOF occurred in violation of protocol (_ssl.c:997)')))\n"
     ]
    },
    {
     "name": "stderr",
     "output_type": "stream",
     "text": [
      " 58%|█████▊    | 6913/11877 [23:59<20:45,  3.99it/s]"
     ]
    },
    {
     "name": "stdout",
     "output_type": "stream",
     "text": [
      "Failed to download file: status code 403\n",
      "Failed to download file: HTTPSConnectionPool(host='moscow.sci-hub.se', port=443): Max retries exceeded with url: /1442/5cad6b285e49c64cb2a65f89cb1f4435/farag2005.pdf (Caused by SSLError(SSLEOFError(8, 'EOF occurred in violation of protocol (_ssl.c:997)')))\n",
      "Failed to download file: status code 403\n",
      "Failed to download file: status code 403\n",
      "Failed to download file: status code 403\n",
      "Failed to download file: Invalid URL 'http:/downloads/2019-07-17/72/10.3390@s19112472.pdf#navpanes=0&view=FitH': No host supplied\n"
     ]
    },
    {
     "name": "stderr",
     "output_type": "stream",
     "text": [
      " 59%|█████▉    | 6988/11877 [23:59<02:34, 31.54it/s]"
     ]
    },
    {
     "name": "stdout",
     "output_type": "stream",
     "text": [
      "Failed to download file: Invalid URL 'http:/downloads/2020-07-19/b7/10.1109@COMST.2020.3009103.pdf#navpanes=0&view=FitH': No host supplied\n",
      "Failed to download file: HTTPSConnectionPool(host='moscow.sci-hub.se', port=443): Max retries exceeded with url: /1893/cfb7eed9a2d6a8ca710442fe6d55c72c/vemuri2008.pdf (Caused by SSLError(SSLEOFError(8, 'EOF occurred in violation of protocol (_ssl.c:997)')))\n",
      "Failed to download file: status code 403\n",
      "Failed to download file: HTTPSConnectionPool(host='moscow.sci-hub.se', port=443): Max retries exceeded with url: /3569/b34736d8b9720dd107fec6fe768ee567/huang2004.pdf (Caused by SSLError(SSLEOFError(8, 'EOF occurred in violation of protocol (_ssl.c:997)')))\n",
      "Failed to download file: status code 403\n",
      "Failed to download file: status code 403\n"
     ]
    },
    {
     "name": "stderr",
     "output_type": "stream",
     "text": [
      " 59%|█████▉    | 7001/11877 [23:59<02:47, 29.09it/s]"
     ]
    },
    {
     "name": "stdout",
     "output_type": "stream",
     "text": [
      "Failed to download file: status code 403\n",
      "Failed to download file: Invalid URL 'http:/tree/dc/bc/dcbc85a1cf7e1e233404641766aadfb7.pdf#navpanes=0&view=FitH': No host supplied\n",
      "Failed to download file: Invalid URL 'http:/downloads/2019-08-05/38/10.1109@JIOT.2019.2923525.pdf#navpanes=0&view=FitH': No host supplied\n",
      "Failed to download file: HTTPSConnectionPool(host='moscow.sci-hub.se', port=443): Max retries exceeded with url: /3331/4ee4a4855194d693c07e2713391ff4df/wenner2013.pdf (Caused by SSLError(SSLEOFError(8, 'EOF occurred in violation of protocol (_ssl.c:997)')))\n",
      "Failed to download file: status code 403\n",
      "Failed to download file: Invalid URL 'http:/downloads/2019-01-17//bc/phylogenetic-relationships-among-taphrina-saitoella-and-other-hi-1993.pdf#navpanes=0&view=FitH': No host supplied\n"
     ]
    },
    {
     "name": "stderr",
     "output_type": "stream",
     "text": [
      " 59%|█████▉    | 7011/11877 [24:00<03:18, 24.48it/s]"
     ]
    },
    {
     "name": "stdout",
     "output_type": "stream",
     "text": [
      "Failed to download file: status code 403\n",
      "Failed to download file: Invalid URL 'http:/downloads/2020-03-05/d8/yang2020.pdf#navpanes=0&view=FitH': No host supplied\n",
      "Failed to download file: Invalid URL 'http:/downloads/2022-11-04/3267da/liu2022.pdf#navpanes=0&view=FitH': No host supplied\n",
      "Failed to download file: status code 403\n"
     ]
    },
    {
     "name": "stderr",
     "output_type": "stream",
     "text": [
      " 59%|█████▉    | 7019/11877 [24:00<03:06, 26.07it/s]"
     ]
    },
    {
     "name": "stdout",
     "output_type": "stream",
     "text": [
      "Failed to download file: Invalid URL 'http:/downloads/2021-06-17/4b/khadpe2020.pdf#navpanes=0&view=FitH': No host supplied\n",
      "Failed to download file: HTTPSConnectionPool(host='moscow.sci-hub.se', port=443): Max retries exceeded with url: /4357/9bb278e85f20a9af26d6af1734bd49c8/min2009.pdf (Caused by SSLError(SSLEOFError(8, 'EOF occurred in violation of protocol (_ssl.c:997)')))\n",
      "Failed to download file: status code 403\n",
      "Failed to download file: Invalid URL 'http:/downloads/2019-01-23//24/sadler1990.pdf#navpanes=0&view=FitH': No host supplied\n",
      "Failed to download file: status code 403\n",
      "Failed to download file: status code 403\n"
     ]
    },
    {
     "name": "stderr",
     "output_type": "stream",
     "text": [
      " 59%|█████▉    | 7026/11877 [24:01<03:37, 22.32it/s]"
     ]
    },
    {
     "name": "stdout",
     "output_type": "stream",
     "text": [
      "Failed to download file: HTTPSConnectionPool(host='moscow.sci-hub.se', port=443): Max retries exceeded with url: /2094/64418589598842fe860de80539bd1591/10.1007@s004539900063.pdf (Caused by SSLError(SSLEOFError(8, 'EOF occurred in violation of protocol (_ssl.c:997)')))\n",
      "Failed to download file: HTTPSConnectionPool(host='moscow.sci-hub.se', port=443): Max retries exceeded with url: /339/128046e820cc25887a85147e0282ea40/pushpamali2008.pdf (Caused by SSLError(SSLEOFError(8, 'EOF occurred in violation of protocol (_ssl.c:997)')))\n",
      "Failed to download file: HTTPSConnectionPool(host='moscow.sci-hub.se', port=443): Max retries exceeded with url: /1493/a453a526cfec4507d23860ef507bcae1/zhang2012.pdf (Caused by SSLError(SSLEOFError(8, 'EOF occurred in violation of protocol (_ssl.c:997)')))\n",
      "Failed to download file: status code 403\n",
      "Failed to download file: status code 403\n",
      "Failed to download file: HTTPSConnectionPool(host='moscow.sci-hub.se', port=443): Max retries exceeded with url: /4681/04d93553f71d54f4837d52fd693147d4/ye2016.pdf (Caused by SSLError(SSLEOFError(8, 'EOF occurred in violation of protocol (_ssl.c:997)')))\n"
     ]
    },
    {
     "name": "stderr",
     "output_type": "stream",
     "text": [
      " 59%|█████▉    | 7040/11877 [24:01<02:57, 27.21it/s]"
     ]
    },
    {
     "name": "stdout",
     "output_type": "stream",
     "text": [
      "Failed to download file: status code 403\n",
      "Failed to download file: Invalid URL 'http:/downloads/2019-01-02/d2/huang2018.pdf#navpanes=0&view=FitH': No host supplied\n",
      "Failed to download file: status code 403\n",
      "Failed to download file: HTTPSConnectionPool(host='moscow.sci-hub.se', port=443): Max retries exceeded with url: /3586/d3723ae7bd5560d5213a4dd380ca7925/jain2004.pdf (Caused by SSLError(SSLEOFError(8, 'EOF occurred in violation of protocol (_ssl.c:997)')))\n"
     ]
    },
    {
     "name": "stderr",
     "output_type": "stream",
     "text": [
      " 59%|█████▉    | 7050/11877 [24:02<03:30, 22.98it/s]"
     ]
    },
    {
     "name": "stdout",
     "output_type": "stream",
     "text": [
      "Failed to download file: Invalid URL 'http:/tree/f5/1d/f51d1fe4a2fcefda8117e0814f223e9d.pdf#navpanes=0&view=FitH': No host supplied\n",
      "Failed to download file: Invalid URL 'http:/downloads/2021-06-09/a1/sperl2020.pdf#navpanes=0&view=FitH': No host supplied\n",
      "Failed to download file: status code 403\n",
      "Failed to download file: status code 403\n",
      "Failed to download file: Invalid URL 'http:/downloads/2020-02-22/93/bhattacharya2020.pdf#navpanes=0&view=FitH': No host supplied\n",
      "Failed to download file: HTTPSConnectionPool(host='moscow.sci-hub.se', port=443): Max retries exceeded with url: /3354/c2d22e951cee85fd677f081436e655e9/wang2014.pdf (Caused by SSLError(SSLEOFError(8, 'EOF occurred in violation of protocol (_ssl.c:997)')))\n",
      "Failed to download file: HTTPSConnectionPool(host='moscow.sci-hub.se', port=443): Max retries exceeded with url: /2704/26ae05b7824177a814337901b67ee289/jiang2014.pdf (Caused by SSLError(SSLEOFError(8, 'EOF occurred in violation of protocol (_ssl.c:997)')))\n",
      "Failed to download file: status code 403\n"
     ]
    },
    {
     "name": "stderr",
     "output_type": "stream",
     "text": [
      " 59%|█████▉    | 7061/11877 [24:02<03:15, 24.58it/s]"
     ]
    },
    {
     "name": "stdout",
     "output_type": "stream",
     "text": [
      "Failed to download file: status code 403\n",
      "Failed to download file: status code 403\n",
      "Failed to download file: Invalid URL 'http:/downloads/2019-01-30//0a/hakak2018.pdf#navpanes=0&view=FitH': No host supplied\n",
      "Failed to download file: Invalid URL 'http:/downloads/2020-11-15/c1/lelieveld2020.pdf#navpanes=0&view=FitH': No host supplied\n",
      "Failed to download file: status code 403\n",
      "Failed to download file: Invalid URL 'http:/downloads/2019-08-16/96/10.1186@s40425-019-0700-3.pdf#navpanes=0&view=FitH': No host supplied\n",
      "Failed to download file: status code 403\n"
     ]
    },
    {
     "name": "stderr",
     "output_type": "stream",
     "text": [
      " 59%|█████▉    | 7065/11877 [24:02<03:38, 21.99it/s]"
     ]
    },
    {
     "name": "stdout",
     "output_type": "stream",
     "text": [
      "Failed to download file: status code 403\n",
      "Failed to download file: HTTPSConnectionPool(host='moscow.sci-hub.se', port=443): Max retries exceeded with url: /2221/7451cd2f0c33a6c671af1bd3ee1da9c8/iglesias2013.pdf (Caused by SSLError(SSLEOFError(8, 'EOF occurred in violation of protocol (_ssl.c:997)')))\n",
      "Failed to download file: Invalid URL 'http:/downloads/2021-06-12/ff/aberman2020.pdf#navpanes=0&view=FitH': No host supplied\n"
     ]
    },
    {
     "name": "stderr",
     "output_type": "stream",
     "text": [
      " 60%|█████▉    | 7070/11877 [24:03<03:53, 20.54it/s]"
     ]
    },
    {
     "name": "stdout",
     "output_type": "stream",
     "text": [
      "Failed to download file: HTTPSConnectionPool(host='moscow.sci-hub.se', port=443): Max retries exceeded with url: /2269/3cb09c783ef0e5d5963542bc9ec58065/defloriani2013.pdf (Caused by SSLError(SSLEOFError(8, 'EOF occurred in violation of protocol (_ssl.c:997)')))\n",
      "Failed to download file: HTTPSConnectionPool(host='moscow.sci-hub.se', port=443): Max retries exceeded with url: /3634/918023bf7102e6e6c59db758d12df0e0/yang2014.pdf (Caused by SSLError(SSLEOFError(8, 'EOF occurred in violation of protocol (_ssl.c:997)')))\n",
      "Failed to download file: status code 403\n"
     ]
    },
    {
     "name": "stderr",
     "output_type": "stream",
     "text": [
      " 60%|█████▉    | 7077/11877 [24:03<03:37, 22.08it/s]"
     ]
    },
    {
     "name": "stdout",
     "output_type": "stream",
     "text": [
      "Failed to download file: status code 403\n",
      "Failed to download file: Invalid URL 'http:/downloads/2019-01-27//a1/weeger2019.pdf#navpanes=0&view=FitH': No host supplied\n",
      "Failed to download file: HTTPSConnectionPool(host='moscow.sci-hub.se', port=443): Max retries exceeded with url: /4594/d5c5d0c6a8abcdeeaffbab8412bb6a8f/bouix2005.pdf (Caused by SSLError(SSLEOFError(8, 'EOF occurred in violation of protocol (_ssl.c:997)')))\n"
     ]
    },
    {
     "name": "stderr",
     "output_type": "stream",
     "text": [
      " 60%|█████▉    | 7080/11877 [24:03<04:14, 18.85it/s]"
     ]
    },
    {
     "name": "stdout",
     "output_type": "stream",
     "text": [
      "Failed to download file: HTTPSConnectionPool(host='moscow.sci-hub.se', port=443): Max retries exceeded with url: /2297/e7cad33ddfe6874dd83e57ed5f908e6f/he2013.pdf (Caused by SSLError(SSLEOFError(8, 'EOF occurred in violation of protocol (_ssl.c:997)')))\n",
      "Failed to download file: Invalid URL 'http:/downloads/2019-04-01/84/10.1109@TVCG.2019.2899186.pdf#navpanes=0&view=FitH': No host supplied\n",
      "Failed to download file: status code 403\n",
      "Failed to download file: status code 403\n",
      "Failed to download file: status code 403\n"
     ]
    },
    {
     "name": "stderr",
     "output_type": "stream",
     "text": [
      " 60%|█████▉    | 7093/11877 [24:04<03:09, 25.28it/s]"
     ]
    },
    {
     "name": "stdout",
     "output_type": "stream",
     "text": [
      "Failed to download file: HTTPSConnectionPool(host='moscow.sci-hub.se', port=443): Max retries exceeded with url: /803/b01ace080aca675f472708963dd19ec0/finlayson2009.pdf (Caused by SSLError(SSLEOFError(8, 'EOF occurred in violation of protocol (_ssl.c:997)')))\n",
      "Failed to download file: status code 403\n",
      "Failed to download file: HTTPSConnectionPool(host='moscow.sci-hub.se', port=443): Max retries exceeded with url: /1439/3991898f1001757591e468539d844ed1/staelens2010.pdf (Caused by SSLError(SSLEOFError(8, 'EOF occurred in violation of protocol (_ssl.c:997)')))\n",
      "Failed to download file: status code 403\n"
     ]
    },
    {
     "name": "stderr",
     "output_type": "stream",
     "text": [
      " 60%|█████▉    | 7096/11877 [24:04<03:04, 25.94it/s]"
     ]
    },
    {
     "name": "stdout",
     "output_type": "stream",
     "text": [
      "Failed to download file: Invalid URL 'http:/downloads/2019-08-27/55/10.1109@TVCG.2019.2934307.pdf#navpanes=0&view=FitH': No host supplied\n",
      "Failed to download file: HTTPSConnectionPool(host='moscow.sci-hub.se', port=443): Max retries exceeded with url: /4445/1d7e83daf7c53f54cc7748342c3913b1/10.1007@978-3-642-23678-552.pdf (Caused by SSLError(SSLEOFError(8, 'EOF occurred in violation of protocol (_ssl.c:997)')))\n",
      "Failed to download file: status code 403\n",
      "Failed to download file: HTTPSConnectionPool(host='moscow.sci-hub.se', port=443): Max retries exceeded with url: /4404/7a0e870a1bf178567e77e01c6e58e601/kim2012.pdf (Caused by SSLError(SSLEOFError(8, 'EOF occurred in violation of protocol (_ssl.c:997)')))\n"
     ]
    },
    {
     "name": "stderr",
     "output_type": "stream",
     "text": [
      " 60%|█████▉    | 7099/11877 [24:04<03:39, 21.78it/s]"
     ]
    },
    {
     "name": "stdout",
     "output_type": "stream",
     "text": [
      "Failed to download file: Invalid URL 'http:/tree/9c/34/9c34c311de76b83d5db7f424003ef715.pdf#navpanes=0&view=FitH': No host supplied\n",
      "Failed to download file: Invalid URL 'http:/downloads/2019-06-25/e8/wieting2015.pdf#navpanes=0&view=FitH': No host supplied\n",
      "Failed to download file: Invalid URL 'http:/downloads/2019-08-16/d3/10.1007@s10055-019-00399-5.pdf#navpanes=0&view=FitH': No host supplied\n",
      "Failed to download file: HTTPSConnectionPool(host='moscow.sci-hub.se', port=443): Max retries exceeded with url: /4240/68fcb192999545b3445dee9e9198634f/vandenberg2010.pdf (Caused by SSLError(SSLEOFError(8, 'EOF occurred in violation of protocol (_ssl.c:997)')))\n"
     ]
    },
    {
     "name": "stderr",
     "output_type": "stream",
     "text": [
      " 60%|█████▉    | 7105/11877 [24:04<04:02, 19.65it/s]"
     ]
    },
    {
     "name": "stdout",
     "output_type": "stream",
     "text": [
      "Failed to download file: status code 403\n",
      "Failed to download file: Invalid URL 'http:/downloads/2019-07-27/ce/10.1109@TVCG.2019.2920639.pdf#navpanes=0&view=FitH': No host supplied\n"
     ]
    },
    {
     "name": "stderr",
     "output_type": "stream",
     "text": [
      " 60%|█████▉    | 7108/11877 [24:04<03:52, 20.51it/s]"
     ]
    },
    {
     "name": "stdout",
     "output_type": "stream",
     "text": [
      "Failed to download file: status code 403\n",
      "Failed to download file: Invalid URL 'http:/tree/12/2a/122a3edf7684e5b4b34b30b63047f1bc.pdf#navpanes=0&view=FitH': No host supplied\n",
      "Failed to download file: HTTPSConnectionPool(host='moscow.sci-hub.se', port=443): Max retries exceeded with url: /4504/d9e171ce232b92d26dd945adee645f83/kazanskiy2013.pdf (Caused by SSLError(SSLEOFError(8, 'EOF occurred in violation of protocol (_ssl.c:997)')))\n",
      "Failed to download file: status code 403\n",
      "Failed to download file: Invalid URL 'http:/downloads/2019-08-20/d7/debandi2018.pdf#navpanes=0&view=FitH': No host supplied\n",
      "Failed to download file: status code 403\n",
      "Failed to download file: status code 403\n",
      "Failed to download file: HTTPSConnectionPool(host='moscow.sci-hub.se', port=443): Max retries exceeded with url: /1443/a2987dc6681a16114ffcfb2e0b58ef6d/huiyuzhou2010.pdf (Caused by SSLError(SSLEOFError(8, 'EOF occurred in violation of protocol (_ssl.c:997)')))\n",
      "Failed to download file: Invalid URL 'http:/downloads/2020-10-16/e6/yang2020.pdf#navpanes=0&view=FitH': No host supplied\n"
     ]
    },
    {
     "name": "stderr",
     "output_type": "stream",
     "text": [
      " 60%|█████▉    | 7116/11877 [24:05<03:30, 22.58it/s]"
     ]
    },
    {
     "name": "stdout",
     "output_type": "stream",
     "text": [
      "Failed to download file: HTTPSConnectionPool(host='moscow.sci-hub.se', port=443): Max retries exceeded with url: /2281/0ae90839e3eec68bc86e2d331c7edf61/momeni2015.pdf (Caused by SSLError(SSLEOFError(8, 'EOF occurred in violation of protocol (_ssl.c:997)')))\n",
      "Failed to download file: status code 403\n",
      "Failed to download file: HTTPSConnectionPool(host='moscow.sci-hub.se', port=443): Max retries exceeded with url: /196/345a19f9acd41fcef3e6e69eb056ec66/mahadevan1992.pdf (Caused by SSLError(SSLEOFError(8, 'EOF occurred in violation of protocol (_ssl.c:997)')))\n",
      "Failed to download file: status code 403\n",
      "Failed to download file: HTTPSConnectionPool(host='moscow.sci-hub.se', port=443): Max retries exceeded with url: /2535/ea78d8758132fa25d61add8932e34c02/sharp2001.pdf (Caused by SSLError(SSLEOFError(8, 'EOF occurred in violation of protocol (_ssl.c:997)')))\n"
     ]
    },
    {
     "name": "stderr",
     "output_type": "stream",
     "text": [
      " 60%|██████    | 7128/11877 [24:05<03:08, 25.25it/s]"
     ]
    },
    {
     "name": "stdout",
     "output_type": "stream",
     "text": [
      "Failed to download file: HTTPSConnectionPool(host='moscow.sci-hub.se', port=443): Max retries exceeded with url: /1816/427f55ff6f9898132b359e7b0b3737be/lau2003.pdf (Caused by SSLError(SSLEOFError(8, 'EOF occurred in violation of protocol (_ssl.c:997)')))\n",
      "Failed to download file: HTTPSConnectionPool(host='moscow.sci-hub.se', port=443): Max retries exceeded with url: /4722/4002bdb1ce6fee0dd4ef43659d677e73/roth2016.pdf (Caused by SSLError(SSLEOFError(8, 'EOF occurred in violation of protocol (_ssl.c:997)')))\n",
      "Failed to download file: Invalid URL 'http:/tree/5d/ef/5defab344488a18eeb3145f87dd47414.pdf#navpanes=0&view=FitH': No host supplied\n",
      "Failed to download file: HTTPSConnectionPool(host='moscow.sci-hub.se', port=443): Max retries exceeded with url: /1052/27e1c05c8e6c332309a2152f9136c37d/bringa2006.pdf (Caused by SSLError(SSLEOFError(8, 'EOF occurred in violation of protocol (_ssl.c:997)')))\n",
      "Failed to download file: HTTPSConnectionPool(host='moscow.sci-hub.se', port=443): Max retries exceeded with url: /1813/08d6150df35b6e7778fd6c5887d5cf50/maio2002.pdf (Caused by SSLError(SSLEOFError(8, 'EOF occurred in violation of protocol (_ssl.c:997)')))\n",
      "Failed to download file: HTTPSConnectionPool(host='moscow.sci-hub.se', port=443): Max retries exceeded with url: /4387/1bc3af29eee2ea7602b8fd2238e5b5b9/cattin2006.pdf (Caused by SSLError(SSLEOFError(8, 'EOF occurred in violation of protocol (_ssl.c:997)')))\n",
      "Failed to download file: Invalid URL 'http:/downloads/2021-06-15/3b/zhou2020.pdf#navpanes=0&view=FitH': No host supplied\n"
     ]
    },
    {
     "name": "stderr",
     "output_type": "stream",
     "text": [
      " 60%|██████    | 7143/11877 [24:06<03:09, 25.00it/s]"
     ]
    },
    {
     "name": "stdout",
     "output_type": "stream",
     "text": [
      "Failed to download file: HTTPSConnectionPool(host='moscow.sci-hub.se', port=443): Max retries exceeded with url: /3239/50f94ff38f27f41e8abfcc41ec851c2b/kolmogorov2002.pdf (Caused by SSLError(SSLEOFError(8, 'EOF occurred in violation of protocol (_ssl.c:997)')))\n",
      "Failed to download file: HTTPSConnectionPool(host='moscow.sci-hub.se', port=443): Max retries exceeded with url: /4445/da1cb8da9d04a4e5cedaffc86201d3b3/hariharan2004.pdf (Caused by SSLError(SSLEOFError(8, 'EOF occurred in violation of protocol (_ssl.c:997)')))\n",
      "Failed to download file: status code 403\n",
      "Failed to download file: status code 403\n"
     ]
    },
    {
     "name": "stderr",
     "output_type": "stream",
     "text": [
      " 60%|██████    | 7149/11877 [24:06<02:37, 30.09it/s]"
     ]
    },
    {
     "name": "stdout",
     "output_type": "stream",
     "text": [
      "Failed to download file: status code 403\n",
      "Failed to download file: status code 403\n",
      "Failed to download file: status code 403\n",
      "Failed to download file: HTTPSConnectionPool(host='moscow.sci-hub.se', port=443): Max retries exceeded with url: /4468/9702be857658975602c2827cb4a8fc77/butler2012.pdf (Caused by SSLError(SSLEOFError(8, 'EOF occurred in violation of protocol (_ssl.c:997)')))\n"
     ]
    },
    {
     "name": "stderr",
     "output_type": "stream",
     "text": [
      " 60%|██████    | 7153/11877 [24:06<03:41, 21.35it/s]"
     ]
    },
    {
     "name": "stdout",
     "output_type": "stream",
     "text": [
      "Failed to download file: HTTPSConnectionPool(host='moscow.sci-hub.se', port=443): Max retries exceeded with url: /4368/3f2bd49db631ac81810e87023628ab10/joselli2009.pdf (Caused by SSLError(SSLEOFError(8, 'EOF occurred in violation of protocol (_ssl.c:997)')))\n",
      "Failed to download file: HTTPSConnectionPool(host='moscow.sci-hub.se', port=443): Max retries exceeded with url: /349/bc008a0e0ac7c7c34b815dbba0aa534f/gutierrez2004.pdf (Caused by SSLError(SSLEOFError(8, 'EOF occurred in violation of protocol (_ssl.c:997)')))\n",
      "Failed to download file: HTTPSConnectionPool(host='moscow.sci-hub.se', port=443): Max retries exceeded with url: /4275/23558654fa5310073ddd332548d06cc6/giannakakis2008.pdf (Caused by SSLError(SSLEOFError(8, 'EOF occurred in violation of protocol (_ssl.c:997)')))\n",
      "Failed to download file: Invalid URL 'http:/downloads/2019-02-25/8e/10.1038@s41586-019-0957-1.pdf#navpanes=0&view=FitH': No host supplied\n"
     ]
    },
    {
     "name": "stderr",
     "output_type": "stream",
     "text": [
      " 60%|██████    | 7161/11877 [24:07<03:11, 24.58it/s]"
     ]
    },
    {
     "name": "stdout",
     "output_type": "stream",
     "text": [
      "Failed to download file: status code 403\n",
      "Failed to download file: HTTPSConnectionPool(host='moscow.sci-hub.se', port=443): Max retries exceeded with url: /663/e75b898fe34fb92372fa064c2a4d0a87/boulic1990.pdf (Caused by SSLError(SSLEOFError(8, 'EOF occurred in violation of protocol (_ssl.c:997)')))\n",
      "Failed to download file: HTTPSConnectionPool(host='moscow.sci-hub.se', port=443): Max retries exceeded with url: /1814/68b0b940bfcf609e55a303dacd836f91/fieguth1995.pdf (Caused by SSLError(SSLEOFError(8, 'EOF occurred in violation of protocol (_ssl.c:997)')))\n",
      "Failed to download file: status code 403\n",
      "Failed to download file: HTTPSConnectionPool(host='moscow.sci-hub.se', port=443): Max retries exceeded with url: /3648/c6e1a980f30e3559b48308e3a62e8193/loper2014.pdf (Caused by SSLError(SSLEOFError(8, 'EOF occurred in violation of protocol (_ssl.c:997)')))\n"
     ]
    },
    {
     "name": "stderr",
     "output_type": "stream",
     "text": [
      " 60%|██████    | 7164/11877 [24:07<03:56, 19.92it/s]"
     ]
    },
    {
     "name": "stdout",
     "output_type": "stream",
     "text": [
      "Failed to download file: HTTPSConnectionPool(host='moscow.sci-hub.se', port=443): Max retries exceeded with url: /942/186f67959df876fefd48848749f74ccc/neubert2011.pdf (Caused by SSLError(SSLEOFError(8, 'EOF occurred in violation of protocol (_ssl.c:997)')))\n",
      "Failed to download file: HTTPSConnectionPool(host='moscow.sci-hub.se', port=443): Max retries exceeded with url: /1060/797516c6e03969a1f668fff881f5fbbf/verma2003.pdf (Caused by SSLError(SSLEOFError(8, 'EOF occurred in violation of protocol (_ssl.c:997)')))\n",
      "Failed to download file: HTTPSConnectionPool(host='moscow.sci-hub.se', port=443): Max retries exceeded with url: /4186/a2d8fec6722ae6e9e24d88573f03d6a1/hirota2001.pdf (Caused by SSLError(SSLEOFError(8, 'EOF occurred in violation of protocol (_ssl.c:997)')))\n",
      "Failed to download file: HTTPSConnectionPool(host='moscow.sci-hub.se', port=443): Max retries exceeded with url: /4856/8c3e45a38c465df97ae8e1977b687ce1/razakarivony2016.pdf (Caused by SSLError(SSLEOFError(8, 'EOF occurred in violation of protocol (_ssl.c:997)')))\n",
      "Failed to download file: HTTPSConnectionPool(host='moscow.sci-hub.se', port=443): Max retries exceeded with url: /1315/7f6450c77f479fa9326a353930f07c07/reuter2009.pdf (Caused by SSLError(SSLEOFError(8, 'EOF occurred in violation of protocol (_ssl.c:997)')))\n",
      "Failed to download file: status code 403\n"
     ]
    },
    {
     "name": "stderr",
     "output_type": "stream",
     "text": [
      " 60%|██████    | 7172/11877 [24:07<03:22, 23.19it/s]"
     ]
    },
    {
     "name": "stdout",
     "output_type": "stream",
     "text": [
      "Failed to download file: HTTPSConnectionPool(host='moscow.sci-hub.se', port=443): Max retries exceeded with url: /2146/a78fd5e5c5b6c4a19706397622fac01a/lee2013.pdf (Caused by SSLError(SSLEOFError(8, 'EOF occurred in violation of protocol (_ssl.c:997)')))\n",
      "Failed to download file: status code 403\n"
     ]
    },
    {
     "name": "stderr",
     "output_type": "stream",
     "text": [
      " 60%|██████    | 7175/11877 [24:07<03:57, 19.81it/s]"
     ]
    },
    {
     "name": "stdout",
     "output_type": "stream",
     "text": [
      "Failed to download file: HTTPSConnectionPool(host='moscow.sci-hub.se', port=443): Max retries exceeded with url: /2668/c53d0707a785ffb83211050952251a6d/battiato2004.pdf (Caused by SSLError(SSLEOFError(8, 'EOF occurred in violation of protocol (_ssl.c:997)')))\n",
      "Failed to download file: Invalid URL 'http:/downloads/2020-06-04/c8/xu2020.pdf#navpanes=0&view=FitH': No host supplied\n",
      "Failed to download file: status code 403\n",
      "Failed to download file: HTTPSConnectionPool(host='moscow.sci-hub.se', port=443): Max retries exceeded with url: /1443/0280d4e611850aa04027a2fa7a46c5b7/ranhe2011.pdf (Caused by SSLError(SSLEOFError(8, 'EOF occurred in violation of protocol (_ssl.c:997)')))\n",
      "Failed to download file: status code 403\n"
     ]
    },
    {
     "name": "stderr",
     "output_type": "stream",
     "text": [
      " 60%|██████    | 7184/11877 [24:08<03:33, 21.98it/s]"
     ]
    },
    {
     "name": "stdout",
     "output_type": "stream",
     "text": [
      "Failed to download file: HTTPSConnectionPool(host='moscow.sci-hub.se', port=443): Max retries exceeded with url: /4369/9e11cc4868678138ac3ad7cc227f0b1e/fuhrmann2014.pdf (Caused by SSLError(SSLEOFError(8, 'EOF occurred in violation of protocol (_ssl.c:997)')))\n",
      "Failed to download file: status code 403\n",
      "Failed to download file: Invalid URL 'http:/downloads/2021-05-19/4b/10.1016@j.neucom.2021.04.112.pdf#navpanes=0&view=FitH': No host supplied\n",
      "Failed to download file: status code 403\n"
     ]
    },
    {
     "name": "stderr",
     "output_type": "stream",
     "text": [
      " 61%|██████    | 7187/11877 [24:08<03:47, 20.62it/s]"
     ]
    },
    {
     "name": "stdout",
     "output_type": "stream",
     "text": [
      "Failed to download file: Invalid URL 'http:/downloads/2020-08-07/9e/wang2020.pdf#navpanes=0&view=FitH': No host supplied\n",
      "Failed to download file: HTTPSConnectionPool(host='moscow.sci-hub.se', port=443): Max retries exceeded with url: /2393/b1c24ca9c39af20201e929b8d1950970/tamstorf2013.pdf (Caused by SSLError(SSLEOFError(8, 'EOF occurred in violation of protocol (_ssl.c:997)')))\n",
      "Failed to download file: Invalid URL 'http:/downloads/2022-11-23/52/khan2018.pdf#navpanes=0&view=FitH': No host supplied\n",
      "Failed to download file: status code 403\n",
      "Failed to download file: Invalid URL 'http:/downloads/2020-01-21/64/zhou2020.pdf#navpanes=0&view=FitH': No host supplied\n"
     ]
    },
    {
     "name": "stderr",
     "output_type": "stream",
     "text": [
      " 61%|██████    | 7191/11877 [24:08<03:20, 23.38it/s]"
     ]
    },
    {
     "name": "stdout",
     "output_type": "stream",
     "text": [
      "Failed to download file: HTTPSConnectionPool(host='moscow.sci-hub.se', port=443): Max retries exceeded with url: /1813/3935b3025507975af17db2098ca86e39/black1996.pdf (Caused by SSLError(SSLEOFError(8, 'EOF occurred in violation of protocol (_ssl.c:997)')))\n",
      "Failed to download file: HTTPSConnectionPool(host='moscow.sci-hub.se', port=443): Max retries exceeded with url: /2051/15197de10ada917d29d910313fa6769b/yanchaozhang2006.pdf (Caused by SSLError(SSLEOFError(8, 'EOF occurred in violation of protocol (_ssl.c:997)')))\n",
      "Failed to download file: status code 403\n"
     ]
    },
    {
     "name": "stderr",
     "output_type": "stream",
     "text": [
      " 61%|██████    | 7201/11877 [24:08<03:38, 21.43it/s]"
     ]
    },
    {
     "name": "stdout",
     "output_type": "stream",
     "text": [
      "Failed to download file: status code 403\n",
      "Failed to download file: status code 403\n",
      "Failed to download file: Invalid URL 'http:/downloads/2019-04-12/91/information-transfer-and-conference-calls.pdf#navpanes=0&view=FitH': No host supplied\n",
      "Failed to download file: Invalid URL 'http:/downloads/2020-08-29/3f/zhou2020.pdf#navpanes=0&view=FitH': No host supplied\n",
      "Failed to download file: status code 403\n"
     ]
    },
    {
     "name": "stderr",
     "output_type": "stream",
     "text": [
      " 61%|██████    | 7204/11877 [24:09<04:15, 18.31it/s]"
     ]
    },
    {
     "name": "stdout",
     "output_type": "stream",
     "text": [
      "Failed to download file: status code 403\n",
      "Failed to download file: Invalid URL 'http:/downloads/2021-06-13/4b/li2015.pdf#navpanes=0&view=FitH': No host supplied\n",
      "Failed to download file: HTTPSConnectionPool(host='moscow.sci-hub.se', port=443): Max retries exceeded with url: /4584/f664a5507ae4e43b328c06d542de5a2b/lu2015.pdf (Caused by SSLError(SSLEOFError(8, 'EOF occurred in violation of protocol (_ssl.c:997)')))\n",
      "Failed to download file: status code 403\n",
      "Failed to download file: status code 403\n",
      "Failed to download file: Invalid URL 'http:/downloads/2019-07-19/ee/10.1137@18M1199149.pdf#navpanes=0&view=FitH': No host supplied\n",
      "Failed to download file: HTTPSConnectionPool(host='moscow.sci-hub.se', port=443): Max retries exceeded with url: /338/8c7664cd88fff317c87094d0553cd438/clarenz2004.pdf (Caused by SSLError(SSLEOFError(8, 'EOF occurred in violation of protocol (_ssl.c:997)')))\n"
     ]
    },
    {
     "name": "stderr",
     "output_type": "stream",
     "text": [
      " 61%|██████    | 7213/11877 [24:09<03:10, 24.48it/s]"
     ]
    },
    {
     "name": "stdout",
     "output_type": "stream",
     "text": [
      "Failed to download file: status code 403\n",
      "Failed to download file: status code 403\n",
      "Failed to download file: status code 403\n",
      "Failed to download file: Invalid URL 'http:/downloads/2021-08-12/74/alzubaidi2021.pdf#navpanes=0&view=FitH': No host supplied\n",
      "Failed to download file: Invalid URL 'http:/downloads/2020-01-26/48/zhang2019.pdf#navpanes=0&view=FitH': No host supplied\n",
      "Failed to download file: status code 403\n"
     ]
    },
    {
     "name": "stderr",
     "output_type": "stream",
     "text": [
      " 61%|██████    | 7219/11877 [24:09<02:35, 29.95it/s]"
     ]
    },
    {
     "name": "stdout",
     "output_type": "stream",
     "text": [
      "Failed to download file: status code 403\n",
      "Failed to download file: status code 403\n",
      "Failed to download file: HTTPSConnectionPool(host='moscow.sci-hub.se', port=443): Max retries exceeded with url: /4234/13dd5003546a32ec1fb54fda1f46511d/ye2009.pdf (Caused by SSLError(SSLEOFError(8, 'EOF occurred in violation of protocol (_ssl.c:997)')))\n"
     ]
    },
    {
     "name": "stderr",
     "output_type": "stream",
     "text": [
      " 61%|██████    | 7223/11877 [24:10<03:53, 19.93it/s]"
     ]
    },
    {
     "name": "stdout",
     "output_type": "stream",
     "text": [
      "Failed to download file: HTTPSConnectionPool(host='moscow.sci-hub.se', port=443): Max retries exceeded with url: /1050/4eb0ae488030d93095bbd731921effd4/burton2007.pdf (Caused by SSLError(SSLEOFError(8, 'EOF occurred in violation of protocol (_ssl.c:997)')))\n",
      "Failed to download file: status code 403\n"
     ]
    },
    {
     "name": "stderr",
     "output_type": "stream",
     "text": [
      " 61%|██████    | 7227/11877 [24:10<03:33, 21.80it/s]"
     ]
    },
    {
     "name": "stdout",
     "output_type": "stream",
     "text": [
      "Failed to download file: status code 403\n",
      "Failed to download file: Invalid URL 'http:/downloads/2021-07-01/05/kumar2021.pdf#navpanes=0&view=FitH': No host supplied\n",
      "Failed to download file: HTTPSConnectionPool(host='moscow.sci-hub.se', port=443): Max retries exceeded with url: /2123/c1ab888e0483ff5af67a09aca7ee5de4/ontologybased-semantic-recommendation-for-contextaware-elearning.pdf (Caused by SSLError(SSLEOFError(8, 'EOF occurred in violation of protocol (_ssl.c:997)')))\n",
      "Failed to download file: status code 403\n",
      "Failed to download file: HTTPSConnectionPool(host='moscow.sci-hub.se', port=443): Max retries exceeded with url: /2165/18a4357f297c32dba489426d3190125e/bouguila2010.pdf (Caused by SSLError(SSLEOFError(8, 'EOF occurred in violation of protocol (_ssl.c:997)')))\n"
     ]
    },
    {
     "name": "stderr",
     "output_type": "stream",
     "text": [
      " 61%|██████    | 7230/11877 [24:10<04:06, 18.87it/s]"
     ]
    },
    {
     "name": "stdout",
     "output_type": "stream",
     "text": [
      "Failed to download file: Invalid URL 'http:/tree/7e/69/7e6981856345bd145c9f3b0caa81c029.pdf#navpanes=0&view=FitH': No host supplied\n",
      "Failed to download file: HTTPSConnectionPool(host='moscow.sci-hub.se', port=443): Max retries exceeded with url: /3619/b4fa05bd7746950902465663eacccf53/johnson2008.pdf (Caused by SSLError(SSLEOFError(8, 'EOF occurred in violation of protocol (_ssl.c:997)')))\n",
      "Failed to download file: HTTPSConnectionPool(host='moscow.sci-hub.se', port=443): Max retries exceeded with url: /3134/255c6084dc6f4cbfa00a643736c8b650/junghyunhan2000.pdf (Caused by SSLError(SSLEOFError(8, 'EOF occurred in violation of protocol (_ssl.c:997)')))\n",
      "Failed to download file: HTTPSConnectionPool(host='moscow.sci-hub.se', port=443): Max retries exceeded with url: /5446/2703e0e3c26a9a107037c91e925fea72/miller1978.pdf (Caused by SSLError(SSLEOFError(8, 'EOF occurred in violation of protocol (_ssl.c:997)')))\n",
      "Failed to download file: status code 403\n",
      "Failed to download file: HTTPSConnectionPool(host='moscow.sci-hub.se', port=443): Max retries exceeded with url: /1344/b6fb85dcd072ee507cd031e83a529c12/katayama2008.pdf (Caused by SSLError(SSLEOFError(8, 'EOF occurred in violation of protocol (_ssl.c:997)')))\n"
     ]
    },
    {
     "name": "stderr",
     "output_type": "stream",
     "text": [
      " 61%|██████    | 7237/11877 [24:10<03:02, 25.41it/s]"
     ]
    },
    {
     "name": "stdout",
     "output_type": "stream",
     "text": [
      "Failed to download file: status code 403\n",
      "Failed to download file: status code 403\n"
     ]
    },
    {
     "name": "stderr",
     "output_type": "stream",
     "text": [
      " 61%|██████    | 7244/11877 [24:10<02:46, 27.84it/s]"
     ]
    },
    {
     "name": "stdout",
     "output_type": "stream",
     "text": [
      "Failed to download file: status code 403\n"
     ]
    },
    {
     "name": "stderr",
     "output_type": "stream",
     "text": [
      " 61%|██████    | 7248/11877 [24:10<03:15, 23.63it/s]"
     ]
    },
    {
     "name": "stdout",
     "output_type": "stream",
     "text": [
      "Failed to download file: status code 403\n",
      "Failed to download file: HTTPSConnectionPool(host='moscow.sci-hub.se', port=443): Max retries exceeded with url: /4364/be7b4ad7ce7656df7ef08590d835af32/lau2009.pdf (Caused by SSLError(SSLEOFError(8, 'EOF occurred in violation of protocol (_ssl.c:997)')))\n",
      "Failed to download file: Invalid URL 'http:/downloads/2019-12-27/a4/zhang2019.pdf#navpanes=0&view=FitH': No host supplied\n",
      "Failed to download file: status code 403\n"
     ]
    },
    {
     "name": "stderr",
     "output_type": "stream",
     "text": [
      " 61%|██████    | 7251/11877 [24:11<04:05, 18.81it/s]"
     ]
    },
    {
     "name": "stdout",
     "output_type": "stream",
     "text": [
      "Failed to download file: HTTPSConnectionPool(host='moscow.sci-hub.se', port=443): Max retries exceeded with url: /5232/eebb6aa2f27e524c4d25edd02d05090f/nimsky2000.pdf (Caused by SSLError(SSLEOFError(8, 'EOF occurred in violation of protocol (_ssl.c:997)')))\n",
      "Failed to download file: status code 403\n",
      "Failed to download file: status code 403\n",
      "Failed to download file: status code 403\n",
      "Failed to download file: Invalid URL 'http:/downloads/2020-06-21//2f/chen2020.pdf#navpanes=0&view=FitH': No host supplied\n",
      "Failed to download file: HTTPSConnectionPool(host='moscow.sci-hub.se', port=443): Max retries exceeded with url: /3255/2120a5e71371237fe8b5039a5e3869a6/chen2006.pdf (Caused by SSLError(SSLEOFError(8, 'EOF occurred in violation of protocol (_ssl.c:997)')))\n",
      "Failed to download file: Invalid URL 'http:/downloads/2019-07-24/e4/10.1145@3306346.3322987.pdf#navpanes=0&view=FitH': No host supplied\n"
     ]
    },
    {
     "name": "stderr",
     "output_type": "stream",
     "text": [
      " 61%|██████    | 7260/11877 [24:11<03:30, 21.95it/s]"
     ]
    },
    {
     "name": "stdout",
     "output_type": "stream",
     "text": [
      "Failed to download file: status code 403\n",
      "Failed to download file: Invalid URL 'http:/downloads/2019-10-27/2b/wang2019.pdf#navpanes=0&view=FitH': No host supplied\n",
      "Failed to download file: Invalid URL 'http:/downloads/2020-01-04/f7/zhou2002.pdf#navpanes=0&view=FitH': No host supplied\n",
      "Failed to download file: status code 403\n",
      "Failed to download file: HTTPSConnectionPool(host='zero.sci-hub.se', port=443): Max retries exceeded with url: /6176/f5e9f4e79b9e09b5a4c04e18cd306f48/nitschke2013.pdf (Caused by SSLError(SSLEOFError(8, 'EOF occurred in violation of protocol (_ssl.c:997)')))\n",
      "Failed to download file: Invalid URL 'http:/downloads/2021-06-12/96/anwar2020.pdf#navpanes=0&view=FitH': No host supplied\n"
     ]
    },
    {
     "name": "stderr",
     "output_type": "stream",
     "text": [
      " 61%|██████    | 7266/11877 [24:11<03:06, 24.69it/s]"
     ]
    },
    {
     "name": "stdout",
     "output_type": "stream",
     "text": [
      "Failed to download file: status code 403\n",
      "Failed to download file: HTTPSConnectionPool(host='moscow.sci-hub.se', port=443): Max retries exceeded with url: /4360/4b5fa45067f19e215321e3694ca92227/erleben2007.pdf (Caused by SSLError(SSLEOFError(8, 'EOF occurred in violation of protocol (_ssl.c:997)')))\n"
     ]
    },
    {
     "name": "stderr",
     "output_type": "stream",
     "text": [
      " 61%|██████    | 7269/11877 [24:11<03:25, 22.45it/s]"
     ]
    },
    {
     "name": "stdout",
     "output_type": "stream",
     "text": [
      "Failed to download file: HTTPSConnectionPool(host='moscow.sci-hub.se', port=443): Max retries exceeded with url: /2155/08171aab09860f7140a113aa11653f31/cousty2011.pdf (Caused by SSLError(SSLEOFError(8, 'EOF occurred in violation of protocol (_ssl.c:997)')))\n",
      "Failed to download file: HTTPSConnectionPool(host='moscow.sci-hub.se', port=443): Max retries exceeded with url: /5275/6e2f54654ace958e39de26f5dca5d207/pelechano2016.pdf (Caused by SSLError(SSLEOFError(8, 'EOF occurred in violation of protocol (_ssl.c:997)')))\n",
      "Failed to download file: Invalid URL 'http:/downloads/2019-11-18/37/dai2019.pdf#navpanes=0&view=FitH': No host supplied\n",
      "Failed to download file: HTTPSConnectionPool(host='zero.sci-hub.se', port=443): Max retries exceeded with url: /5873/19e50d8ff5f98d0d06ada71a89bad67b/10.1364@josaa.33.001798.pdf (Caused by SSLError(SSLEOFError(8, 'EOF occurred in violation of protocol (_ssl.c:997)')))\n"
     ]
    },
    {
     "name": "stderr",
     "output_type": "stream",
     "text": [
      " 61%|██████    | 7272/11877 [24:12<03:34, 21.50it/s]"
     ]
    },
    {
     "name": "stdout",
     "output_type": "stream",
     "text": [
      "Failed to download file: HTTPSConnectionPool(host='zero.sci-hub.se', port=443): Max retries exceeded with url: /5870/78ebf30e93e79809d66a9a88fbc6beac/cao2016.pdf (Caused by SSLError(SSLEOFError(8, 'EOF occurred in violation of protocol (_ssl.c:997)')))\n",
      "Failed to download file: HTTPSConnectionPool(host='moscow.sci-hub.se', port=443): Max retries exceeded with url: /4484/ad99c27dee033fa67e641a81c5027e2a/aristidou2015.pdf (Caused by SSLError(SSLEOFError(8, 'EOF occurred in violation of protocol (_ssl.c:997)')))\n",
      "Failed to download file: HTTPSConnectionPool(host='zero.sci-hub.se', port=443): Max retries exceeded with url: /1384/42093cec6e506e1c1c7497eea2280b49/veron1998.pdf (Caused by SSLError(SSLEOFError(8, 'EOF occurred in violation of protocol (_ssl.c:997)')))\n"
     ]
    },
    {
     "name": "stderr",
     "output_type": "stream",
     "text": [
      " 61%|██████▏   | 7275/11877 [24:12<04:41, 16.35it/s]"
     ]
    },
    {
     "name": "stdout",
     "output_type": "stream",
     "text": [
      "Failed to download file: HTTPSConnectionPool(host='moscow.sci-hub.se', port=443): Max retries exceeded with url: /3922/1e8142f54c5fac6475983ab6f4eb90db/bourgeat2010.pdf (Caused by SSLError(SSLEOFError(8, 'EOF occurred in violation of protocol (_ssl.c:997)')))\n",
      "Failed to download file: HTTPSConnectionPool(host='zero.sci-hub.se', port=443): Max retries exceeded with url: /743/db8c39a65216afdcd2d3bf9ce19fe329/zhao2008.pdf (Caused by SSLError(SSLEOFError(8, 'EOF occurred in violation of protocol (_ssl.c:997)')))\n",
      "Failed to download file: HTTPSConnectionPool(host='moscow.sci-hub.se', port=443): Max retries exceeded with url: /1051/42b6d569d26f67b51befeda961ac78e4/barretto2011.pdf (Caused by SSLError(SSLEOFError(8, 'EOF occurred in violation of protocol (_ssl.c:997)')))\n"
     ]
    },
    {
     "name": "stderr",
     "output_type": "stream",
     "text": [
      " 61%|██████▏   | 7291/11877 [24:12<02:44, 27.94it/s]"
     ]
    },
    {
     "name": "stdout",
     "output_type": "stream",
     "text": [
      "Failed to download file: HTTPSConnectionPool(host='zero.sci-hub.se', port=443): Max retries exceeded with url: /6721/3823cb6a09260f6f92b3665254e5aa28/white2018.pdf (Caused by SSLError(SSLEOFError(8, 'EOF occurred in violation of protocol (_ssl.c:997)')))\n",
      "Failed to download file: Invalid URL 'http:/downloads/2021-05-14//54c6/zhang2021.pdf#navpanes=0&view=FitH': No host supplied\n",
      "Failed to download file: HTTPSConnectionPool(host='moscow.sci-hub.se', port=443): Max retries exceeded with url: /2135/ce7050b3662819d6f243cd55b2d3f177/musialski2012.pdf (Caused by SSLError(SSLEOFError(8, 'EOF occurred in violation of protocol (_ssl.c:997)')))\n",
      "Failed to download file: HTTPSConnectionPool(host='moscow.sci-hub.se', port=443): Max retries exceeded with url: /3931/0bbec31aeb84541670c0476c3ce30394/mei2016.pdf (Caused by SSLError(SSLEOFError(8, 'EOF occurred in violation of protocol (_ssl.c:997)')))\n",
      "Failed to download file: HTTPSConnectionPool(host='zero.sci-hub.se', port=443): Max retries exceeded with url: /396/3a973836331bf08a85827ad46201adcb/wildman2004.pdf (Caused by SSLError(SSLEOFError(8, 'EOF occurred in violation of protocol (_ssl.c:997)')))\n",
      "Failed to download file: HTTPSConnectionPool(host='zero.sci-hub.se', port=443): Max retries exceeded with url: /6636/1198d46076c59ea039e24129fb925f1a/bandeiradiniz2018.pdf (Caused by SSLError(SSLEOFError(8, 'EOF occurred in violation of protocol (_ssl.c:997)')))\n",
      "Failed to download file: HTTPSConnectionPool(host='moscow.sci-hub.se', port=443): Max retries exceeded with url: /4360/7646ab96bbbd3bb1745a138a7f2a19cb/majaranta2014.pdf (Caused by SSLError(SSLEOFError(8, 'EOF occurred in violation of protocol (_ssl.c:997)')))\n"
     ]
    },
    {
     "name": "stderr",
     "output_type": "stream",
     "text": [
      " 61%|██████▏   | 7303/11877 [24:13<03:19, 22.93it/s]"
     ]
    },
    {
     "name": "stdout",
     "output_type": "stream",
     "text": [
      "Failed to download file: HTTPSConnectionPool(host='zero.sci-hub.se', port=443): Max retries exceeded with url: /1822/35867c3c8047c10b45ba17721260f6c2/learned-miller2006.pdf (Caused by SSLError(SSLEOFError(8, 'EOF occurred in violation of protocol (_ssl.c:997)')))\n",
      "Failed to download file: HTTPSConnectionPool(host='zero.sci-hub.se', port=443): Max retries exceeded with url: /2049/6cb98ddb555aeeea74dd6ff0d3221d2e/special-issue-on-video-communications-processing-and-understandi-2001.pdf (Caused by SSLError(SSLEOFError(8, 'EOF occurred in violation of protocol (_ssl.c:997)')))\n",
      "Failed to download file: HTTPSConnectionPool(host='moscow.sci-hub.se', port=443): Max retries exceeded with url: /1816/1902bdfb65f61e2e7c33220ad982529e/callieri2008.pdf (Caused by SSLError(SSLEOFError(8, 'EOF occurred in violation of protocol (_ssl.c:997)')))\n"
     ]
    },
    {
     "name": "stderr",
     "output_type": "stream",
     "text": [
      " 62%|██████▏   | 7306/11877 [24:13<03:12, 23.78it/s]"
     ]
    },
    {
     "name": "stdout",
     "output_type": "stream",
     "text": [
      "Failed to download file: Invalid URL 'http:/downloads/2019-07-27/4a/worrall2018.pdf#navpanes=0&view=FitH': No host supplied\n",
      "Failed to download file: Invalid URL 'http:/downloads/2022-11-06/7c/xing2022.pdf#navpanes=0&view=FitH': No host supplied\n",
      "Failed to download file: HTTPSConnectionPool(host='moscow.sci-hub.se', port=443): Max retries exceeded with url: /1823/941df6c487a893c65364a7328d5668f1/lamberti2007.pdf (Caused by SSLError(SSLEOFError(8, 'EOF occurred in violation of protocol (_ssl.c:997)')))\n",
      "Failed to download file: Invalid URL 'http:/downloads/2020-02-19/de/10.1109@TPAMI.2020.2974745.pdf#navpanes=0&view=FitH': No host supplied\n",
      "Failed to download file: HTTPSConnectionPool(host='moscow.sci-hub.se', port=443): Max retries exceeded with url: /3350/905b217ef0456413a4268a20ab6334af/ward2002.pdf (Caused by SSLError(SSLEOFError(8, 'EOF occurred in violation of protocol (_ssl.c:997)')))\n",
      "Failed to download file: HTTPSConnectionPool(host='moscow.sci-hub.se', port=443): Max retries exceeded with url: /577/adb64884e71a32655ae63f36093f3207/mallot1991.pdf (Caused by SSLError(SSLEOFError(8, 'EOF occurred in violation of protocol (_ssl.c:997)')))\n",
      "Failed to download file: HTTPSConnectionPool(host='zero.sci-hub.se', port=443): Max retries exceeded with url: /6654/ae5316bf19df19f6205aa0f44a229e0d/nilsson2018.pdf (Caused by SSLError(SSLEOFError(8, 'EOF occurred in violation of protocol (_ssl.c:997)')))\n",
      "Failed to download file: HTTPSConnectionPool(host='moscow.sci-hub.se', port=443): Max retries exceeded with url: /3230/4018a9f9786572b07d8b7a77f0aed15b/wang2004.pdf (Caused by SSLError(SSLEOFError(8, 'EOF occurred in violation of protocol (_ssl.c:997)')))\n",
      "Failed to download file: HTTPSConnectionPool(host='zero.sci-hub.se', port=443): Max retries exceeded with url: /6666/f1aa21f05383f7d583b754f0e37b5d1d/ma2019.pdf (Caused by SSLError(SSLEOFError(8, 'EOF occurred in violation of protocol (_ssl.c:997)')))\n"
     ]
    },
    {
     "name": "stderr",
     "output_type": "stream",
     "text": [
      " 62%|██████▏   | 7309/11877 [24:13<03:54, 19.51it/s]"
     ]
    },
    {
     "name": "stdout",
     "output_type": "stream",
     "text": [
      "Failed to download file: HTTPSConnectionPool(host='moscow.sci-hub.se', port=443): Max retries exceeded with url: /3072/a7a3ee71f5432f947f5a3122d64ba9d6/chen1999.pdf (Caused by SSLError(SSLEOFError(8, 'EOF occurred in violation of protocol (_ssl.c:997)')))\n",
      "Failed to download file: HTTPSConnectionPool(host='moscow.sci-hub.se', port=443): Max retries exceeded with url: /1140/f9ea1fc40f3ada8abc1965d547ac45e3/agam1997.pdf (Caused by SSLError(SSLEOFError(8, 'EOF occurred in violation of protocol (_ssl.c:997)')))\n",
      "Failed to download file: HTTPSConnectionPool(host='zero.sci-hub.se', port=443): Max retries exceeded with url: /3210/07e5d86fc4db1dd14acbe0fd782ca024/horton2003.pdf (Caused by SSLError(SSLEOFError(8, 'EOF occurred in violation of protocol (_ssl.c:997)')))\n",
      "Failed to download file: HTTPSConnectionPool(host='moscow.sci-hub.se', port=443): Max retries exceeded with url: /3060/533f1c89bccffa6b0d5011c7cbe7db65/wang2010.pdf (Caused by SSLError(SSLEOFError(8, 'EOF occurred in violation of protocol (_ssl.c:997)')))\n",
      "Failed to download file: HTTPSConnectionPool(host='moscow.sci-hub.se', port=443): Max retries exceeded with url: /4289/93b9ba091def3846176bd8de43195688/xia2014.pdf (Caused by SSLError(SSLEOFError(8, 'EOF occurred in violation of protocol (_ssl.c:997)')))\n"
     ]
    },
    {
     "name": "stderr",
     "output_type": "stream",
     "text": [
      " 62%|██████▏   | 7319/11877 [24:14<03:14, 23.43it/s]"
     ]
    },
    {
     "name": "stdout",
     "output_type": "stream",
     "text": [
      "Failed to download file: HTTPSConnectionPool(host='zero.sci-hub.se', port=443): Max retries exceeded with url: /743/b3a18771736686b408ab17511cf660dd/komura2000.pdf (Caused by SSLError(SSLEOFError(8, 'EOF occurred in violation of protocol (_ssl.c:997)')))\n",
      "Failed to download file: HTTPSConnectionPool(host='zero.sci-hub.se', port=443): Max retries exceeded with url: /345/b06ca5ce24e1543adc6ca4852388bee8/caballero2004.pdf (Caused by SSLError(SSLEOFError(8, 'EOF occurred in violation of protocol (_ssl.c:997)')))\n"
     ]
    },
    {
     "name": "stderr",
     "output_type": "stream",
     "text": [
      " 62%|██████▏   | 7327/11877 [24:14<03:34, 21.24it/s]"
     ]
    },
    {
     "name": "stdout",
     "output_type": "stream",
     "text": [
      "Failed to download file: HTTPSConnectionPool(host='zero.sci-hub.se', port=443): Max retries exceeded with url: /803/642cc4282e46ba9016f7f9e98fe8737b/mian2009.pdf (Caused by SSLError(SSLEOFError(8, 'EOF occurred in violation of protocol (_ssl.c:997)')))\n",
      "Failed to download file: HTTPSConnectionPool(host='moscow.sci-hub.se', port=443): Max retries exceeded with url: /4442/8e188c084e935993b853dd050156f3c2/ghosh1984.pdf (Caused by SSLError(SSLEOFError(8, 'EOF occurred in violation of protocol (_ssl.c:997)')))\n",
      "Failed to download file: Invalid URL 'http:/downloads/2022-11-04/c0/10.1007@978-3-031-79540-4.pdf#navpanes=0&view=FitH': No host supplied\n",
      "Failed to download file: Invalid URL 'http:/downloads/2020-08-16/b9/hang2020.pdf#navpanes=0&view=FitH': No host supplied\n",
      "Failed to download file: HTTPSConnectionPool(host='zero.sci-hub.se', port=443): Max retries exceeded with url: /2104/8ee1c7e40cd2fe76c11029f2de8f808b/guo2005.pdf (Caused by SSLError(SSLEOFError(8, 'EOF occurred in violation of protocol (_ssl.c:997)')))\n",
      "Failed to download file: HTTPSConnectionPool(host='moscow.sci-hub.se', port=443): Max retries exceeded with url: /4014/6d982b101f6e8a8b1f81748c6c193332/andersen2015.pdf (Caused by SSLError(SSLEOFError(8, 'EOF occurred in violation of protocol (_ssl.c:997)')))\n",
      "Failed to download file: HTTPSConnectionPool(host='zero.sci-hub.se', port=443): Max retries exceeded with url: /1908/15f591f81ba7ec29eee394efcfc6be66/jagannath2009.pdf (Caused by SSLError(SSLEOFError(8, 'EOF occurred in violation of protocol (_ssl.c:997)')))\n",
      "Failed to download file: HTTPSConnectionPool(host='moscow.sci-hub.se', port=443): Max retries exceeded with url: /4226/5bbf84007cf590ebb2e2c9126b5302da/seren2012.pdf (Caused by SSLError(SSLEOFError(8, 'EOF occurred in violation of protocol (_ssl.c:997)')))\n"
     ]
    },
    {
     "name": "stderr",
     "output_type": "stream",
     "text": [
      " 62%|██████▏   | 7343/11877 [24:14<01:54, 39.56it/s]"
     ]
    },
    {
     "name": "stdout",
     "output_type": "stream",
     "text": [
      "Failed to download file: HTTPSConnectionPool(host='zero.sci-hub.se', port=443): Max retries exceeded with url: /1819/308fc73bd9275c0d9f8ece0bdde6e8d7/lamberti2006.pdf (Caused by SSLError(SSLEOFError(8, 'EOF occurred in violation of protocol (_ssl.c:997)')))\n",
      "Failed to download file: HTTPSConnectionPool(host='zero.sci-hub.se', port=443): Max retries exceeded with url: /747/8cee7a57f21720727f4f0ccfbeed33b3/faure2006.pdf (Caused by SSLError(SSLEOFError(8, 'EOF occurred in violation of protocol (_ssl.c:997)')))\n",
      "Failed to download file: HTTPSConnectionPool(host='moscow.sci-hub.se', port=443): Max retries exceeded with url: /941/ff48831987f1faa46f874257e22cf745/10.1111@j.1467-8659.2005.00872.x.pdf (Caused by SSLError(SSLEOFError(8, 'EOF occurred in violation of protocol (_ssl.c:997)')))\n",
      "Failed to download file: HTTPSConnectionPool(host='zero.sci-hub.se', port=443): Max retries exceeded with url: /4778/d34b21c621a34713c7fead74fb641c20/sohn2008.pdf (Caused by SSLError(SSLEOFError(8, 'EOF occurred in violation of protocol (_ssl.c:997)')))\n",
      "Failed to download file: HTTPSConnectionPool(host='zero.sci-hub.se', port=443): Max retries exceeded with url: /3653/9453613ff4c66a49c8af2ccaf12ba3fe/fuchs2007.pdf (Caused by SSLError(SSLEOFError(8, 'EOF occurred in violation of protocol (_ssl.c:997)')))\n",
      "Failed to download file: HTTPSConnectionPool(host='moscow.sci-hub.se', port=443): Max retries exceeded with url: /5050/517134d5199b6f351fa696d2af3a9b02/cui2009.pdf (Caused by SSLError(SSLEOFError(8, 'EOF occurred in violation of protocol (_ssl.c:997)')))\n",
      "Failed to download file: HTTPSConnectionPool(host='zero.sci-hub.se', port=443): Max retries exceeded with url: /5814/2b7882280e60c935af75f74e97d8430c/yan2016.pdf (Caused by SSLError(SSLEOFError(8, 'EOF occurred in violation of protocol (_ssl.c:997)')))\n",
      "Failed to download file: Invalid URL 'http:/downloads/2019-08-21/31/yair2019.pdf#navpanes=0&view=FitH': No host supplied\n",
      "Failed to download file: HTTPSConnectionPool(host='moscow.sci-hub.se', port=443): Max retries exceeded with url: /2117/6a818867f65a6dd285d7cde3168e0ff3/zhou2013.pdf (Caused by SSLError(SSLEOFError(8, 'EOF occurred in violation of protocol (_ssl.c:997)')))\n"
     ]
    },
    {
     "name": "stderr",
     "output_type": "stream",
     "text": [
      " 62%|██████▏   | 7348/11877 [24:15<03:24, 22.12it/s]"
     ]
    },
    {
     "name": "stdout",
     "output_type": "stream",
     "text": [
      "Failed to download file: Invalid URL 'http:/downloads/2019-08-04/36/10.1111@cgf.13634.pdf#navpanes=0&view=FitH': No host supplied\n",
      "Failed to download file: HTTPSConnectionPool(host='zero.sci-hub.se', port=443): Max retries exceeded with url: /6903/22a6f2de2fa84652d9a1a4d34776474d/yan2018.pdf (Caused by SSLError(SSLEOFError(8, 'EOF occurred in violation of protocol (_ssl.c:997)')))\n",
      "Failed to download file: HTTPSConnectionPool(host='moscow.sci-hub.se', port=443): Max retries exceeded with url: /3313/3cc81415491da7f3668954a9c7f28182/paz2007.pdf (Caused by SSLError(SSLEOFError(8, 'EOF occurred in violation of protocol (_ssl.c:997)')))\n"
     ]
    },
    {
     "name": "stderr",
     "output_type": "stream",
     "text": [
      " 62%|██████▏   | 7352/11877 [24:15<03:40, 20.48it/s]"
     ]
    },
    {
     "name": "stdout",
     "output_type": "stream",
     "text": [
      "Failed to download file: HTTPSConnectionPool(host='zero.sci-hub.se', port=443): Max retries exceeded with url: /3620/219919ebe96327b944b42380f8e8ae5f/weng2004.pdf (Caused by SSLError(SSLEOFError(8, 'EOF occurred in violation of protocol (_ssl.c:997)')))\n",
      "Failed to download file: HTTPSConnectionPool(host='moscow.sci-hub.se', port=443): Max retries exceeded with url: /2076/74aa3818020198a204d56107c600f4cb/wu2013.pdf (Caused by SSLError(SSLEOFError(8, 'EOF occurred in violation of protocol (_ssl.c:997)')))\n",
      "Failed to download file: HTTPSConnectionPool(host='zero.sci-hub.se', port=443): Max retries exceeded with url: /1812/585a5c55b6ac19d8f84d5a5d7fbae7e2/seungyonglee1996.pdf (Caused by SSLError(SSLEOFError(8, 'EOF occurred in violation of protocol (_ssl.c:997)')))\n",
      "Failed to download file: HTTPSConnectionPool(host='moscow.sci-hub.se', port=443): Max retries exceeded with url: /1287/c710954f000647cf26ceddc35184ca8d/goodman1990.pdf (Caused by SSLError(SSLEOFError(8, 'EOF occurred in violation of protocol (_ssl.c:997)')))\n",
      "Failed to download file: Invalid URL 'http:/downloads/2021-05-14//1e/kebede2021.pdf#navpanes=0&view=FitH': No host supplied\n",
      "Failed to download file: HTTPSConnectionPool(host='zero.sci-hub.se', port=443): Max retries exceeded with url: /1315/0516831476c367a0ffff9cbc0ca2756d/kara2005.pdf (Caused by SSLError(SSLEOFError(8, 'EOF occurred in violation of protocol (_ssl.c:997)')))\n",
      "Failed to download file: HTTPSConnectionPool(host='zero.sci-hub.se', port=443): Max retries exceeded with url: /830/a96a068291fa28c573f4f282604af059/hu1996.pdf (Caused by SSLError(SSLEOFError(8, 'EOF occurred in violation of protocol (_ssl.c:997)')))\n",
      "Failed to download file: HTTPSConnectionPool(host='moscow.sci-hub.se', port=443): Max retries exceeded with url: /3814/056df721bb51af4ce681903bcb948af9/boykov2001.pdf (Caused by SSLError(SSLEOFError(8, 'EOF occurred in violation of protocol (_ssl.c:997)')))\n"
     ]
    },
    {
     "name": "stderr",
     "output_type": "stream",
     "text": [
      " 62%|██████▏   | 7365/11877 [24:16<02:42, 27.76it/s]"
     ]
    },
    {
     "name": "stdout",
     "output_type": "stream",
     "text": [
      "Failed to download file: HTTPSConnectionPool(host='zero.sci-hub.se', port=443): Max retries exceeded with url: /6113/60d853662b369b7ce2df38387b4e5610/yang2016.pdf (Caused by SSLError(SSLEOFError(8, 'EOF occurred in violation of protocol (_ssl.c:997)')))\n",
      "Failed to download file: Invalid URL 'http:/downloads/2019-07-18/3c/10.1016@j.patcog.2019.05.026.pdf#navpanes=0&view=FitH': No host supplied\n",
      "Failed to download file: HTTPSConnectionPool(host='moscow.sci-hub.se', port=443): Max retries exceeded with url: /1823/71ce455fa0364458039d6b69df425bf8/viola2005.pdf (Caused by SSLError(SSLEOFError(8, 'EOF occurred in violation of protocol (_ssl.c:997)')))\n",
      "Failed to download file: Invalid URL 'http:/downloads/2020-06-18//a6/dai2020.pdf#navpanes=0&view=FitH': No host supplied\n",
      "Failed to download file: HTTPSConnectionPool(host='moscow.sci-hub.se', port=443): Max retries exceeded with url: /803/25f61f776698452e0da8081604e21ffd/bruhn2006.pdf (Caused by SSLError(SSLEOFError(8, 'EOF occurred in violation of protocol (_ssl.c:997)')))\n"
     ]
    },
    {
     "name": "stderr",
     "output_type": "stream",
     "text": [
      " 62%|██████▏   | 7371/11877 [24:16<02:15, 33.30it/s]"
     ]
    },
    {
     "name": "stdout",
     "output_type": "stream",
     "text": [
      "Failed to download file: HTTPSConnectionPool(host='moscow.sci-hub.se', port=443): Max retries exceeded with url: /4351/2475e02ad78f5c65525f97669566fcd6/wu2014.pdf (Caused by SSLError(SSLEOFError(8, 'EOF occurred in violation of protocol (_ssl.c:997)')))\n",
      "Failed to download file: HTTPSConnectionPool(host='zero.sci-hub.se', port=443): Max retries exceeded with url: /6161/6da2438d6b0c52d436ea6740ab28eb7d/bogo2016.pdf (Caused by SSLError(SSLEOFError(8, 'EOF occurred in violation of protocol (_ssl.c:997)')))\n",
      "Failed to download file: HTTPSConnectionPool(host='moscow.sci-hub.se', port=443): Max retries exceeded with url: /3364/daf3c4ddbaa53c50fada19cb22f21bc3/kidd1999.pdf (Caused by SSLError(SSLEOFError(8, 'EOF occurred in violation of protocol (_ssl.c:997)')))\n",
      "Failed to download file: Invalid URL 'http:/downloads/2019-10-06/92/10.1016@j.biortech.2019.122223.pdf#navpanes=0&view=FitH': No host supplied\n",
      "Failed to download file: HTTPSConnectionPool(host='zero.sci-hub.se', port=443): Max retries exceeded with url: /2378/95de5737ace73031c1903bcef0f48307/mcclatchey2013.pdf (Caused by SSLError(SSLEOFError(8, 'EOF occurred in violation of protocol (_ssl.c:997)')))\n",
      "Failed to download file: HTTPSConnectionPool(host='moscow.sci-hub.se', port=443): Max retries exceeded with url: /1855/398ac2e105491b06b56ad86bb8578463/mukundan2004.pdf (Caused by SSLError(SSLEOFError(8, 'EOF occurred in violation of protocol (_ssl.c:997)')))\n",
      "Failed to download file: HTTPSConnectionPool(host='zero.sci-hub.se', port=443): Max retries exceeded with url: /1823/a010c62c6fdc7174445e5b27f95d2c5c/bhatia2012.pdf (Caused by SSLError(SSLEOFError(8, 'EOF occurred in violation of protocol (_ssl.c:997)')))\n"
     ]
    },
    {
     "name": "stderr",
     "output_type": "stream",
     "text": [
      " 62%|██████▏   | 7376/11877 [24:16<04:02, 18.54it/s]"
     ]
    },
    {
     "name": "stdout",
     "output_type": "stream",
     "text": [
      "Failed to download file: HTTPSConnectionPool(host='moscow.sci-hub.se', port=443): Max retries exceeded with url: /4363/76a2fd2c8d068a71ad1d5cdb6918d441/ichim2015.pdf (Caused by SSLError(SSLEOFError(8, 'EOF occurred in violation of protocol (_ssl.c:997)')))\n",
      "Failed to download file: HTTPSConnectionPool(host='zero.sci-hub.se', port=443): Max retries exceeded with url: /6975/52881f2e0fc761d8c306be92087ee148/acharya2017.pdf (Caused by SSLError(SSLEOFError(8, 'EOF occurred in violation of protocol (_ssl.c:997)')))\n",
      "Failed to download file: Invalid URL 'http:/downloads/2022-11-24/6b/dana2018.pdf#navpanes=0&view=FitH': No host supplied\n",
      "Failed to download file: Invalid URL 'http:/downloads/2020-02-19/d4/gadekallu2020.pdf#navpanes=0&view=FitH': No host supplied\n",
      "Failed to download file: HTTPSConnectionPool(host='zero.sci-hub.se', port=443): Max retries exceeded with url: /3161/890b960dc76be65c97e5df0ed6a4877d/kazhdan2013.pdf (Caused by SSLError(SSLEOFError(8, 'EOF occurred in violation of protocol (_ssl.c:997)')))\n",
      "Failed to download file: Invalid URL 'http:/downloads/2021-05-24/f1/hwang2021.pdf#navpanes=0&view=FitH': No host supplied\n"
     ]
    },
    {
     "name": "stderr",
     "output_type": "stream",
     "text": [
      " 62%|██████▏   | 7381/11877 [24:16<03:24, 21.98it/s]"
     ]
    },
    {
     "name": "stdout",
     "output_type": "stream",
     "text": [
      "Failed to download file: HTTPSConnectionPool(host='zero.sci-hub.se', port=443): Max retries exceeded with url: /6675/2d7142a09a6346da3cf0d16d78ea6b45/chen2018.pdf (Caused by SSLError(SSLEOFError(8, 'EOF occurred in violation of protocol (_ssl.c:997)')))\n",
      "Failed to download file: HTTPSConnectionPool(host='zero.sci-hub.se', port=443): Max retries exceeded with url: /6833/48efb10ff0a902c009a0d810ba5a4012/dong2018.pdf (Caused by SSLError(SSLEOFError(8, 'EOF occurred in violation of protocol (_ssl.c:997)')))\n",
      "Failed to download file: HTTPSConnectionPool(host='moscow.sci-hub.se', port=443): Max retries exceeded with url: /644/589e8ca67a79e2c621d0457b1d7e6f23/10.1007@bf01409796.pdf (Caused by SSLError(SSLEOFError(8, 'EOF occurred in violation of protocol (_ssl.c:997)')))\n"
     ]
    },
    {
     "name": "stderr",
     "output_type": "stream",
     "text": [
      " 62%|██████▏   | 7392/11877 [24:17<02:58, 25.18it/s]"
     ]
    },
    {
     "name": "stdout",
     "output_type": "stream",
     "text": [
      "Failed to download file: HTTPSConnectionPool(host='zero.sci-hub.se', port=443): Max retries exceeded with url: /6977/8d573d3191090e1d15821ecb38782f06/he2018.pdf (Caused by SSLError(SSLEOFError(8, 'EOF occurred in violation of protocol (_ssl.c:997)')))\n",
      "Failed to download file: HTTPSConnectionPool(host='zero.sci-hub.se', port=443): Max retries exceeded with url: /4932/7552966a9a497d948fdac5ca31ba26ff/acharya2016.pdf (Caused by SSLError(SSLEOFError(8, 'EOF occurred in violation of protocol (_ssl.c:997)')))\n",
      "Failed to download file: Invalid URL 'http:/downloads/2020-03-12/ad/10.1038@s41467-020-15104-3.pdf#navpanes=0&view=FitH': No host supplied\n",
      "Failed to download file: HTTPSConnectionPool(host='zero.sci-hub.se', port=443): Max retries exceeded with url: /4353/45a552fe82a439e85e0bc2aad9dd8ee3/james2003.pdf (Caused by SSLError(SSLEOFError(8, 'EOF occurred in violation of protocol (_ssl.c:997)')))\n"
     ]
    },
    {
     "name": "stderr",
     "output_type": "stream",
     "text": [
      " 62%|██████▏   | 7399/11877 [24:17<02:32, 29.28it/s]"
     ]
    },
    {
     "name": "stdout",
     "output_type": "stream",
     "text": [
      "Failed to download file: HTTPSConnectionPool(host='moscow.sci-hub.se', port=443): Max retries exceeded with url: /1410/b2071d4488cbb9fbb5ee97cecd9ae86e/carlson1998.pdf (Caused by SSLError(SSLEOFError(8, 'EOF occurred in violation of protocol (_ssl.c:997)')))\n",
      "Failed to download file: Invalid URL 'http:/downloads/2019-07-19/fd/10.1145@3306346.3323022.pdf#navpanes=0&view=FitH': No host supplied\n",
      "Failed to download file: Invalid URL 'http:/downloads/2019-08-06/06/10.1063@1.5094943.pdf#navpanes=0&view=FitH': No host supplied\n",
      "Failed to download file: HTTPSConnectionPool(host='moscow.sci-hub.se', port=443): Max retries exceeded with url: /2126/451efb695bfed6715ae096eab4353eea/precioso2005.pdf (Caused by SSLError(SSLEOFError(8, 'EOF occurred in violation of protocol (_ssl.c:997)')))\n",
      "Failed to download file: Invalid URL 'http:/downloads/2020-08-20/53/zhao2020.pdf#navpanes=0&view=FitH': No host supplied\n",
      "Failed to download file: HTTPSConnectionPool(host='moscow.sci-hub.se', port=443): Max retries exceeded with url: /4221/b1c1f5b26487ab279456ab660fb67e98/hahn1998.pdf (Caused by SSLError(SSLEOFError(8, 'EOF occurred in violation of protocol (_ssl.c:997)')))\n",
      "Failed to download file: HTTPSConnectionPool(host='zero.sci-hub.se', port=443): Max retries exceeded with url: /2142/0076e4c4503043dd580bbdd008ed31cc/orin2013.pdf (Caused by SSLError(SSLEOFError(8, 'EOF occurred in violation of protocol (_ssl.c:997)')))\n",
      "Failed to download file: Invalid URL 'http:/downloads/2021-06-09/e1/egger2020.pdf#navpanes=0&view=FitH': No host supplied\n"
     ]
    },
    {
     "name": "stderr",
     "output_type": "stream",
     "text": [
      " 62%|██████▏   | 7403/11877 [24:17<03:31, 21.20it/s]"
     ]
    },
    {
     "name": "stdout",
     "output_type": "stream",
     "text": [
      "Failed to download file: HTTPSConnectionPool(host='moscow.sci-hub.se', port=443): Max retries exceeded with url: /2128/573d317bfde8218b99ad9fd81d35eebb/pouny1992.pdf (Caused by SSLError(SSLEOFError(8, 'EOF occurred in violation of protocol (_ssl.c:997)')))\n",
      "Failed to download file: HTTPSConnectionPool(host='zero.sci-hub.se', port=443): Max retries exceeded with url: /1823/b80a6a9dbd02c9f95c655849c971437d/collomosse2003.pdf (Caused by SSLError(SSLEOFError(8, 'EOF occurred in violation of protocol (_ssl.c:997)')))\n",
      "Failed to download file: HTTPSConnectionPool(host='moscow.sci-hub.se', port=443): Max retries exceeded with url: /2420/6c26c1741f2babdce76c6cd23796ceb9/vidal2014.pdf (Caused by SSLError(SSLEOFError(8, 'EOF occurred in violation of protocol (_ssl.c:997)')))\n",
      "Failed to download file: HTTPSConnectionPool(host='moscow.sci-hub.se', port=443): Max retries exceeded with url: /942/bfdd39e01257121c1c6716352bcc4449/ho2009.pdf (Caused by SSLError(SSLEOFError(8, 'EOF occurred in violation of protocol (_ssl.c:997)')))\n",
      "Failed to download file: HTTPSConnectionPool(host='moscow.sci-hub.se', port=443): Max retries exceeded with url: /2048/4fba2394b9b30dde69491a4431c8291a/maragos1989.pdf (Caused by SSLError(SSLEOFError(8, 'EOF occurred in violation of protocol (_ssl.c:997)')))\n",
      "Failed to download file: ('Connection aborted.', ConnectionResetError(54, 'Connection reset by peer'))\n",
      "Failed to download file: HTTPSConnectionPool(host='moscow.sci-hub.se', port=443): Max retries exceeded with url: /5147/657fa8c0da139a95572fc2924bf5fcaf/henriques2012.pdf (Caused by SSLError(SSLEOFError(8, 'EOF occurred in violation of protocol (_ssl.c:997)')))\n",
      "Failed to download file: HTTPSConnectionPool(host='zero.sci-hub.se', port=443): Max retries exceeded with url: /2332/d9d9c9a376267eb3d055772ec8987e7e/ganatra2014.pdf (Caused by SSLError(SSLEOFError(8, 'EOF occurred in violation of protocol (_ssl.c:997)')))\n"
     ]
    },
    {
     "name": "stderr",
     "output_type": "stream",
     "text": [
      " 62%|██████▏   | 7412/11877 [24:17<02:49, 26.37it/s]"
     ]
    },
    {
     "name": "stdout",
     "output_type": "stream",
     "text": [
      "Failed to download file: HTTPSConnectionPool(host='moscow.sci-hub.se', port=443): Max retries exceeded with url: /803/c5af7077a50aa246c098655fdc1c4c8c/bo2009.pdf (Caused by SSLError(SSLEOFError(8, 'EOF occurred in violation of protocol (_ssl.c:997)')))\n",
      "Failed to download file: Invalid URL 'http:/downloads/2019-09-06/3c/sumin2019.pdf#navpanes=0&view=FitH': No host supplied\n",
      "Failed to download file: HTTPSConnectionPool(host='moscow.sci-hub.se', port=443): Max retries exceeded with url: /1860/80cd9f2413a393815c2b5e426f1f3439/biasotti2008.pdf (Caused by SSLError(SSLEOFError(8, 'EOF occurred in violation of protocol (_ssl.c:997)')))\n",
      "Failed to download file: HTTPSConnectionPool(host='moscow.sci-hub.se', port=443): Max retries exceeded with url: /1075/756b9734878a8c13fe131ecff15c3005/rusin2009.pdf (Caused by SSLError(SSLEOFError(8, 'EOF occurred in violation of protocol (_ssl.c:997)')))\n",
      "Failed to download file: HTTPSConnectionPool(host='moscow.sci-hub.se', port=443): Max retries exceeded with url: /941/f7ba4c10ea273348684fb9ccec414f3b/nealen2006.pdf (Caused by SSLError(SSLEOFError(8, 'EOF occurred in violation of protocol (_ssl.c:997)')))\n"
     ]
    },
    {
     "name": "stderr",
     "output_type": "stream",
     "text": [
      " 62%|██████▏   | 7422/11877 [24:18<01:59, 37.35it/s]"
     ]
    },
    {
     "name": "stdout",
     "output_type": "stream",
     "text": [
      "Failed to download file: HTTPSConnectionPool(host='zero.sci-hub.se', port=443): Max retries exceeded with url: /487/d3608c335b38b22cadf27169912ae14e/chui2003.pdf (Caused by SSLError(SSLEOFError(8, 'EOF occurred in violation of protocol (_ssl.c:997)')))\n",
      "Failed to download file: HTTPSConnectionPool(host='moscow.sci-hub.se', port=443): Max retries exceeded with url: /2237/35d4fda383aac55a86b9686c4d92724f/dyke1998.pdf (Caused by SSLError(SSLEOFError(8, 'EOF occurred in violation of protocol (_ssl.c:997)')))\n",
      "Failed to download file: HTTPSConnectionPool(host='moscow.sci-hub.se', port=443): Max retries exceeded with url: /2163/f2967d3d05ad2cae167cfa4e2d24900d/bruhn2005.pdf (Caused by SSLError(SSLEOFError(8, 'EOF occurred in violation of protocol (_ssl.c:997)')))\n",
      "Failed to download file: Invalid URL 'http:/downloads/2019-07-20/ef/stam1995.pdf#navpanes=0&view=FitH': No host supplied\n",
      "Failed to download file: HTTPSConnectionPool(host='moscow.sci-hub.se', port=443): Max retries exceeded with url: /182/fd0c05394189468a1fdf73d445b0d0b0/martha1992.pdf (Caused by SSLError(SSLEOFError(8, 'EOF occurred in violation of protocol (_ssl.c:997)')))\n"
     ]
    },
    {
     "name": "stderr",
     "output_type": "stream",
     "text": [
      " 63%|██████▎   | 7427/11877 [24:18<03:06, 23.89it/s]"
     ]
    },
    {
     "name": "stdout",
     "output_type": "stream",
     "text": [
      "Failed to download file: HTTPSConnectionPool(host='zero.sci-hub.se', port=443): Max retries exceeded with url: /2157/221b9a3c0d2780dabf0a9d8aabe5a93d/kalantari2010.pdf (Caused by SSLError(SSLEOFError(8, 'EOF occurred in violation of protocol (_ssl.c:997)')))\n",
      "Failed to download file: HTTPSConnectionPool(host='zero.sci-hub.se', port=443): Max retries exceeded with url: /3866/f5e94583f6384b5123b3c0f97884d7f4/abbas2015.pdf (Caused by SSLError(SSLEOFError(8, 'EOF occurred in violation of protocol (_ssl.c:997)')))\n",
      "Failed to download file: HTTPSConnectionPool(host='zero.sci-hub.se', port=443): Max retries exceeded with url: /498/5c9b3e3957427308c9ed5961f37b11ae/10.1017@s0048577299971688.pdf (Caused by SSLError(SSLEOFError(8, 'EOF occurred in violation of protocol (_ssl.c:997)')))\n"
     ]
    },
    {
     "name": "stderr",
     "output_type": "stream",
     "text": [
      " 63%|██████▎   | 7435/11877 [24:18<02:58, 24.84it/s]"
     ]
    },
    {
     "name": "stdout",
     "output_type": "stream",
     "text": [
      "Failed to download file: Invalid URL 'http:/downloads/2020-12-07/a5/10.1038@s41592-020-01008-z.pdf#navpanes=0&view=FitH': No host supplied\n",
      "Failed to download file: HTTPSConnectionPool(host='zero.sci-hub.se', port=443): Max retries exceeded with url: /3610/a712f7cc15e2a5a812454583becc8cf4/jian2014.pdf (Caused by SSLError(SSLEOFError(8, 'EOF occurred in violation of protocol (_ssl.c:997)')))\n",
      "Failed to download file: Invalid URL 'http:/downloads/2020-01-25/9e2d/10.1007@s13735-019-00190-x.pdf#navpanes=0&view=FitH': No host supplied\n",
      "Failed to download file: HTTPSConnectionPool(host='moscow.sci-hub.se', port=443): Max retries exceeded with url: /1813/d0ffdc9d9dc4202e3000adcdac1dcf3d/saha1994.pdf (Caused by SSLError(SSLEOFError(8, 'EOF occurred in violation of protocol (_ssl.c:997)')))\n",
      "Failed to download file: HTTPSConnectionPool(host='zero.sci-hub.se', port=443): Max retries exceeded with url: /6231/e2b04f7230cae53181b03385e71b4c8e/he2016.pdf (Caused by SSLError(SSLEOFError(8, 'EOF occurred in violation of protocol (_ssl.c:997)')))\n",
      "Failed to download file: HTTPSConnectionPool(host='zero.sci-hub.se', port=443): Max retries exceeded with url: /448/fe0cffff37a533b4c9d4270178141958/wang1997.pdf (Caused by SSLError(SSLEOFError(8, 'EOF occurred in violation of protocol (_ssl.c:997)')))\n",
      "Failed to download file: Invalid URL 'http:/downloads/2019-11-05/9d/10.1088@1538-3873@ab3e82.pdf#navpanes=0&view=FitH': No host supplied\n"
     ]
    },
    {
     "name": "stderr",
     "output_type": "stream",
     "text": [
      " 63%|██████▎   | 7440/11877 [24:19<02:51, 25.90it/s]"
     ]
    },
    {
     "name": "stdout",
     "output_type": "stream",
     "text": [
      "Failed to download file: HTTPSConnectionPool(host='moscow.sci-hub.se', port=443): Max retries exceeded with url: /664/90c136ad73db2285ffc6d120792714ac/kok1993.pdf (Caused by SSLError(SSLEOFError(8, 'EOF occurred in violation of protocol (_ssl.c:997)')))\n",
      "Failed to download file: Invalid URL 'http:/downloads/2020-01-12/47/10.1007@978-3-540-39903-285.pdf#navpanes=0&view=FitH': No host supplied\n",
      "Failed to download file: HTTPSConnectionPool(host='zero.sci-hub.se', port=443): Max retries exceeded with url: /3204/43c2745cb0ced6f6869afaa9928842ba/ma2008.pdf (Caused by SSLError(SSLEOFError(8, 'EOF occurred in violation of protocol (_ssl.c:997)')))\n",
      "Failed to download file: HTTPSConnectionPool(host='moscow.sci-hub.se', port=443): Max retries exceeded with url: /345/a2a45f45f0114a3fd0104c946e73c27c/glander2009.pdf (Caused by SSLError(SSLEOFError(8, 'EOF occurred in violation of protocol (_ssl.c:997)')))\n",
      "Failed to download file: Invalid URL 'http:/downloads/2019-08-21/6a/broderick2019.pdf#navpanes=0&view=FitH': No host supplied\n",
      "Failed to download file: HTTPSConnectionPool(host='zero.sci-hub.se', port=443): Max retries exceeded with url: /6718/a7f3586d47ab4bef2d9ddd60e8b91099/liu2018.pdf (Caused by SSLError(SSLEOFError(8, 'EOF occurred in violation of protocol (_ssl.c:997)')))\n"
     ]
    },
    {
     "name": "stderr",
     "output_type": "stream",
     "text": [
      " 63%|██████▎   | 7446/11877 [24:19<02:58, 24.82it/s]"
     ]
    },
    {
     "name": "stdout",
     "output_type": "stream",
     "text": [
      "Failed to download file: Invalid URL 'http:/downloads/2021-06-15/0a/cignoni2014.pdf#navpanes=0&view=FitH': No host supplied\n",
      "Failed to download file: HTTPSConnectionPool(host='zero.sci-hub.se', port=443): Max retries exceeded with url: /6119/077d0091e9170949417a8117bba65677/grest2005.pdf (Caused by SSLError(SSLEOFError(8, 'EOF occurred in violation of protocol (_ssl.c:997)')))\n",
      "Failed to download file: Invalid URL 'http:/downloads/2019-12-20/69/10.1109@TIP.2019.2959253.pdf#navpanes=0&view=FitH': No host supplied\n",
      "Failed to download file: HTTPSConnectionPool(host='moscow.sci-hub.se', port=443): Max retries exceeded with url: /4480/a91da8f4bf6adf728223ef3a51d9d109/lin2013.pdf (Caused by SSLError(SSLEOFError(8, 'EOF occurred in violation of protocol (_ssl.c:997)')))\n"
     ]
    },
    {
     "name": "stderr",
     "output_type": "stream",
     "text": [
      " 63%|██████▎   | 7451/11877 [24:19<03:39, 20.13it/s]"
     ]
    },
    {
     "name": "stdout",
     "output_type": "stream",
     "text": [
      "Failed to download file: HTTPSConnectionPool(host='zero.sci-hub.se', port=443): Max retries exceeded with url: /6655/8e4853b4aaff912bac10d498b0944711/tang2017.pdf (Caused by SSLError(SSLEOFError(8, 'EOF occurred in violation of protocol (_ssl.c:997)')))\n",
      "Failed to download file: HTTPSConnectionPool(host='zero.sci-hub.se', port=443): Max retries exceeded with url: /3386/068f8734762e4d7d10d1f50e00418d5b/taj2011.pdf (Caused by SSLError(SSLEOFError(8, 'EOF occurred in violation of protocol (_ssl.c:997)')))\n",
      "Failed to download file: Invalid URL 'http:/downloads/2020-03-11/c8/fan2019.pdf#navpanes=0&view=FitH': No host supplied\n",
      "Failed to download file: HTTPSConnectionPool(host='moscow.sci-hub.se', port=443): Max retries exceeded with url: /1419/5001765ec1b1ca78d528671d2a4d2a7a/lang1999.pdf (Caused by SSLError(SSLEOFError(8, 'EOF occurred in violation of protocol (_ssl.c:997)')))\n",
      "Failed to download file: HTTPSConnectionPool(host='moscow.sci-hub.se', port=443): Max retries exceeded with url: /771/779bbb9d7ef245ff6410b5bf6120af3b/practice-parameters-for-the-management-of-rectal-cancer-revised-2005.pdf (Caused by SSLError(SSLEOFError(8, 'EOF occurred in violation of protocol (_ssl.c:997)')))\n",
      "Failed to download file: HTTPSConnectionPool(host='zero.sci-hub.se', port=443): Max retries exceeded with url: /942/b09302dfcddd80071208b8f3132a8aa5/ihmsen2010.pdf (Caused by SSLError(SSLEOFError(8, 'EOF occurred in violation of protocol (_ssl.c:997)')))\n",
      "Failed to download file: HTTPSConnectionPool(host='moscow.sci-hub.se', port=443): Max retries exceeded with url: /4414/30da93eb86047ac713beac6a31c1e091/normand2012.pdf (Caused by SSLError(SSLEOFError(8, 'EOF occurred in violation of protocol (_ssl.c:997)')))\n",
      "Failed to download file: Invalid URL 'http:/downloads/2021-08-10/36/richelle2021.pdf#navpanes=0&view=FitH': No host supplied\n",
      "Failed to download file: HTTPSConnectionPool(host='zero.sci-hub.se', port=443): Max retries exceeded with url: /2320/5977cfb8fad2442002c5a29410daa6d2/zhu2001.pdf (Caused by SSLError(SSLEOFError(8, 'EOF occurred in violation of protocol (_ssl.c:997)')))\n",
      "Failed to download file: HTTPSConnectionPool(host='zero.sci-hub.se', port=443): Max retries exceeded with url: /6717/f1f49ad074f2f37038de66b19df88778/10.1111@cgf.13158.pdf (Caused by SSLError(SSLEOFError(8, 'EOF occurred in violation of protocol (_ssl.c:997)')))\n",
      "Failed to download file: HTTPSConnectionPool(host='zero.sci-hub.se', port=443): Max retries exceeded with url: /404/1379ac30a4199e2ccaaad6d2f9b01b18/miranda2003.pdf (Caused by SSLError(SSLEOFError(8, 'EOF occurred in violation of protocol (_ssl.c:997)')))\n",
      "Failed to download file: HTTPSConnectionPool(host='moscow.sci-hub.se', port=443): Max retries exceeded with url: /1335/d806acd5a6671140418be9f181f4b1d4/10.1016@j.jbi.2008.11.005.pdf (Caused by SSLError(SSLEOFError(8, 'EOF occurred in violation of protocol (_ssl.c:997)')))\n"
     ]
    },
    {
     "name": "stderr",
     "output_type": "stream",
     "text": [
      " 63%|██████▎   | 7467/11877 [24:20<02:40, 27.47it/s]"
     ]
    },
    {
     "name": "stdout",
     "output_type": "stream",
     "text": [
      "Failed to download file: HTTPSConnectionPool(host='zero.sci-hub.se', port=443): Max retries exceeded with url: /1384/f39554b9fb53c1f0c0137da9901d966e/lopes2002.pdf (Caused by SSLError(SSLEOFError(8, 'EOF occurred in violation of protocol (_ssl.c:997)')))\n",
      "Failed to download file: HTTPSConnectionPool(host='moscow.sci-hub.se', port=443): Max retries exceeded with url: /2189/f2d6d851456d5e3893bdad7ae8d37f2a/tao2013.pdf (Caused by SSLError(SSLEOFError(8, 'EOF occurred in violation of protocol (_ssl.c:997)')))\n",
      "Failed to download file: Invalid URL 'http:/downloads/2020-07-14/ee/alshdaifat2020.pdf#navpanes=0&view=FitH': No host supplied\n",
      "Failed to download file: Invalid URL 'http:/downloads/2021-06-15/05/krajancich2020.pdf#navpanes=0&view=FitH': No host supplied\n",
      "Failed to download file: HTTPSConnectionPool(host='moscow.sci-hub.se', port=443): Max retries exceeded with url: /1822/8ad5c0a3e1243840af4549a85db26eda/jianxinwu2011.pdf (Caused by SSLError(SSLEOFError(8, 'EOF occurred in violation of protocol (_ssl.c:997)')))\n"
     ]
    },
    {
     "name": "stderr",
     "output_type": "stream",
     "text": [
      " 63%|██████▎   | 7478/11877 [24:20<02:44, 26.76it/s]"
     ]
    },
    {
     "name": "stdout",
     "output_type": "stream",
     "text": [
      "Failed to download file: HTTPSConnectionPool(host='zero.sci-hub.se', port=443): Max retries exceeded with url: /3217/df25f94f434e3d04af0745a0b3ba9acd/gourmel2013.pdf (Caused by SSLError(SSLEOFError(8, 'EOF occurred in violation of protocol (_ssl.c:997)')))\n",
      "Failed to download file: Invalid URL 'http:/downloads/2019-09-11/e9/ecker2011.pdf#navpanes=0&view=FitH': No host supplied\n",
      "Failed to download file: HTTPSConnectionPool(host='zero.sci-hub.se', port=443): Max retries exceeded with url: /6108/32218a34103fc26d1c0298654e0d2dbe/marron2015.pdf (Caused by SSLError(SSLEOFError(8, 'EOF occurred in violation of protocol (_ssl.c:997)')))\n",
      "Failed to download file: Invalid URL 'http:/downloads/2020-12-24/fe/10.1007@s11263-020-01393-0.pdf#navpanes=0&view=FitH': No host supplied\n",
      "Failed to download file: HTTPSConnectionPool(host='zero.sci-hub.se', port=443): Max retries exceeded with url: /202/41834516f3225c56ad902b826581d3e4/naylor1990.pdf (Caused by SSLError(SSLEOFError(8, 'EOF occurred in violation of protocol (_ssl.c:997)')))\n",
      "Failed to download file: HTTPSConnectionPool(host='zero.sci-hub.se', port=443): Max retries exceeded with url: /401/a6df90c53cc66e6c9cceb1830bd796c2/chen1999.pdf (Caused by SSLError(SSLEOFError(8, 'EOF occurred in violation of protocol (_ssl.c:997)')))\n"
     ]
    },
    {
     "name": "stderr",
     "output_type": "stream",
     "text": [
      " 63%|██████▎   | 7482/11877 [24:20<02:51, 25.58it/s]"
     ]
    },
    {
     "name": "stdout",
     "output_type": "stream",
     "text": [
      "Failed to download file: HTTPSConnectionPool(host='zero.sci-hub.se', port=443): Max retries exceeded with url: /4456/bff07018626f9975d7b1fb28826170b7/barr2004.pdf (Caused by SSLError(SSLEOFError(8, 'EOF occurred in violation of protocol (_ssl.c:997)')))\n",
      "Failed to download file: HTTPSConnectionPool(host='moscow.sci-hub.se', port=443): Max retries exceeded with url: /3312/969bb6c1e36b3406749a5e8bc7d51903/liu2009.pdf (Caused by SSLError(SSLEOFError(8, 'EOF occurred in violation of protocol (_ssl.c:997)')))\n",
      "Failed to download file: HTTPSConnectionPool(host='moscow.sci-hub.se', port=443): Max retries exceeded with url: /312/ec6dd3eae4a45dc0e8492c706574ef37/peng2005.pdf (Caused by SSLError(SSLEOFError(8, 'EOF occurred in violation of protocol (_ssl.c:997)')))\n",
      "Failed to download file: HTTPSConnectionPool(host='moscow.sci-hub.se', port=443): Max retries exceeded with url: /2490/d000c0bb4ef2d65d339a5d547b25b68e/yulanguo2014.pdf (Caused by SSLError(SSLEOFError(8, 'EOF occurred in violation of protocol (_ssl.c:997)')))\n"
     ]
    },
    {
     "name": "stderr",
     "output_type": "stream",
     "text": [
      " 63%|██████▎   | 7493/11877 [24:20<01:57, 37.29it/s]"
     ]
    },
    {
     "name": "stdout",
     "output_type": "stream",
     "text": [
      "Failed to download file: HTTPSConnectionPool(host='moscow.sci-hub.se', port=443): Max retries exceeded with url: /3637/82d38b5168318133754a65bd57163c67/haider2014.pdf (Caused by SSLError(SSLEOFError(8, 'EOF occurred in violation of protocol (_ssl.c:997)')))\n",
      "Failed to download file: HTTPSConnectionPool(host='moscow.sci-hub.se', port=443): Max retries exceeded with url: /743/076e25a543407fd40f4094e6758d3f21/westermann1999.pdf (Caused by SSLError(SSLEOFError(8, 'EOF occurred in violation of protocol (_ssl.c:997)')))\n",
      "Failed to download file: HTTPSConnectionPool(host='zero.sci-hub.se', port=443): Max retries exceeded with url: /880/a6149c7e1ce9094955fedaf101ddb91d/10.1111@0021-8294.00085.pdf (Caused by SSLError(SSLEOFError(8, 'EOF occurred in violation of protocol (_ssl.c:997)')))\n",
      "Failed to download file: HTTPSConnectionPool(host='moscow.sci-hub.se', port=443): Max retries exceeded with url: /4132/20282a4a1b5c9e9c11c7c0d5499b7d78/chan2013.pdf (Caused by SSLError(SSLEOFError(8, 'EOF occurred in violation of protocol (_ssl.c:997)')))\n",
      "Failed to download file: HTTPSConnectionPool(host='moscow.sci-hub.se', port=443): Max retries exceeded with url: /2209/505447b9530fab2f4ec024d160049776/spine-detection-and-labeling-using-a-partsbased-graphical-model.pdf (Caused by SSLError(SSLEOFError(8, 'EOF occurred in violation of protocol (_ssl.c:997)')))\n",
      "Failed to download file: Invalid URL 'http:/downloads/2020-09-18/fa/mittal2020.pdf#navpanes=0&view=FitH': No host supplied\n",
      "Failed to download file: HTTPSConnectionPool(host='zero.sci-hub.se', port=443): Max retries exceeded with url: /4749/bcda6ab23bb3dbaac0f01a6c6b31db56/cornelis2015.pdf (Caused by SSLError(SSLEOFError(8, 'EOF occurred in violation of protocol (_ssl.c:997)')))\n"
     ]
    },
    {
     "name": "stderr",
     "output_type": "stream",
     "text": [
      " 63%|██████▎   | 7499/11877 [24:21<02:44, 26.55it/s]"
     ]
    },
    {
     "name": "stdout",
     "output_type": "stream",
     "text": [
      "Failed to download file: HTTPSConnectionPool(host='zero.sci-hub.se', port=443): Max retries exceeded with url: /4445/f9ddae62ae49f4377aac63ac7711e880/kazhdan2009.pdf (Caused by SSLError(SSLEOFError(8, 'EOF occurred in violation of protocol (_ssl.c:997)')))\n"
     ]
    },
    {
     "name": "stderr",
     "output_type": "stream",
     "text": [
      " 63%|██████▎   | 7504/11877 [24:21<03:04, 23.75it/s]"
     ]
    },
    {
     "name": "stdout",
     "output_type": "stream",
     "text": [
      "Failed to download file: HTTPSConnectionPool(host='moscow.sci-hub.se', port=443): Max retries exceeded with url: /3762/2dd848df35a89853f07e8573cb8a6d2f/xu2008.pdf (Caused by SSLError(SSLEOFError(8, 'EOF occurred in violation of protocol (_ssl.c:997)')))\n",
      "Failed to download file: HTTPSConnectionPool(host='zero.sci-hub.se', port=443): Max retries exceeded with url: /1822/7490489db530e3a555c6d7f536f1a8ee/qingxiongyang2009.pdf (Caused by SSLError(SSLEOFError(8, 'EOF occurred in violation of protocol (_ssl.c:997)')))\n",
      "Failed to download file: HTTPSConnectionPool(host='zero.sci-hub.se', port=443): Max retries exceeded with url: /305/810d360f942bf0bf9723ac2eb8a694ba/pandzic2003.pdf (Caused by SSLError(SSLEOFError(8, 'EOF occurred in violation of protocol (_ssl.c:997)')))\n",
      "Failed to download file: Invalid URL 'http:/downloads/2021-08-10/5a/krake2021.pdf#navpanes=0&view=FitH': No host supplied\n",
      "Failed to download file: HTTPSConnectionPool(host='moscow.sci-hub.se', port=443): Max retries exceeded with url: /1729/cfefc8890674fb7f91fdfe1d71d2b668/zhang1998.pdf (Caused by SSLError(SSLEOFError(8, 'EOF occurred in violation of protocol (_ssl.c:997)')))\n"
     ]
    },
    {
     "name": "stderr",
     "output_type": "stream",
     "text": [
      " 63%|██████▎   | 7508/11877 [24:21<03:08, 23.19it/s]"
     ]
    },
    {
     "name": "stdout",
     "output_type": "stream",
     "text": [
      "Failed to download file: HTTPSConnectionPool(host='moscow.sci-hub.se', port=443): Max retries exceeded with url: /1528/f5843d856b1c424ffa539a2182304347/moiseev2011.pdf (Caused by SSLError(SSLEOFError(8, 'EOF occurred in violation of protocol (_ssl.c:997)')))\n",
      "Failed to download file: Invalid URL 'http:/downloads/2019-04-25/ba/10.3233@FI-1995-2316.pdf#navpanes=0&view=FitH': No host supplied\n",
      "Failed to download file: HTTPSConnectionPool(host='moscow.sci-hub.se', port=443): Max retries exceeded with url: /1362/8559d94e72a678fc9b3aaa3cbf9393e3/topf2008.pdf (Caused by SSLError(SSLEOFError(8, 'EOF occurred in violation of protocol (_ssl.c:997)')))\n",
      "Failed to download file: HTTPSConnectionPool(host='zero.sci-hub.se', port=443): Max retries exceeded with url: /1823/73f9c97d6bc5278258f8605209b7f17d/xiaohuguo2006.pdf (Caused by SSLError(SSLEOFError(8, 'EOF occurred in violation of protocol (_ssl.c:997)')))\n",
      "Failed to download file: HTTPSConnectionPool(host='zero.sci-hub.se', port=443): Max retries exceeded with url: /5751/1f3df2046e1c9c630307c31bc296dfd1/bain1989.pdf (Caused by SSLError(SSLEOFError(8, 'EOF occurred in violation of protocol (_ssl.c:997)')))\n"
     ]
    },
    {
     "name": "stderr",
     "output_type": "stream",
     "text": [
      " 63%|██████▎   | 7519/11877 [24:22<02:33, 28.40it/s]"
     ]
    },
    {
     "name": "stdout",
     "output_type": "stream",
     "text": [
      "Failed to download file: HTTPSConnectionPool(host='moscow.sci-hub.se', port=443): Max retries exceeded with url: /1485/b98d521ebbde172eecf7683abc2902ad/schatz2007.pdf (Caused by SSLError(SSLEOFError(8, 'EOF occurred in violation of protocol (_ssl.c:997)')))\n",
      "Failed to download file: HTTPSConnectionPool(host='zero.sci-hub.se', port=443): Max retries exceeded with url: /6752/a3b2fb7ac1b4cf7af86d9e46fd8d095b/nguyen2018.pdf (Caused by SSLError(SSLEOFError(8, 'EOF occurred in violation of protocol (_ssl.c:997)')))\n",
      "Failed to download file: Invalid URL 'http:/downloads/2019-11-29/25/li2019.pdf#navpanes=0&view=FitH': No host supplied\n"
     ]
    },
    {
     "name": "stderr",
     "output_type": "stream",
     "text": [
      " 63%|██████▎   | 7527/11877 [24:22<02:32, 28.59it/s]"
     ]
    },
    {
     "name": "stdout",
     "output_type": "stream",
     "text": [
      "Failed to download file: HTTPSConnectionPool(host='moscow.sci-hub.se', port=443): Max retries exceeded with url: /3923/5dc7995d411977cd5b586fadd70cfcec/ehteshamibejnordi2014.pdf (Caused by SSLError(SSLEOFError(8, 'EOF occurred in violation of protocol (_ssl.c:997)')))\n",
      "Failed to download file: HTTPSConnectionPool(host='zero.sci-hub.se', port=443): Max retries exceeded with url: /5807/a8eb8fffe2e34a2c1153a8679bc2223a/li2016.pdf (Caused by SSLError(SSLEOFError(8, 'EOF occurred in violation of protocol (_ssl.c:997)')))\n",
      "Failed to download file: HTTPSConnectionPool(host='moscow.sci-hub.se', port=443): Max retries exceeded with url: /349/1108aecd2dba1efb2251e37e70613469/koutsoudis2009.pdf (Caused by SSLError(SSLEOFError(8, 'EOF occurred in violation of protocol (_ssl.c:997)')))\n",
      "Failed to download file: HTTPSConnectionPool(host='moscow.sci-hub.se', port=443): Max retries exceeded with url: /1823/e612d418cb9908233d1b8fee73b8dd08/shah2007.pdf (Caused by SSLError(SSLEOFError(8, 'EOF occurred in violation of protocol (_ssl.c:997)')))\n",
      "Failed to download file: HTTPSConnectionPool(host='zero.sci-hub.se', port=443): Max retries exceeded with url: /796/b41263fd0992a9ad9c165ddd397c1cd7/casciola2005.pdf (Caused by SSLError(SSLEOFError(8, 'EOF occurred in violation of protocol (_ssl.c:997)')))\n",
      "Failed to download file: HTTPSConnectionPool(host='zero.sci-hub.se', port=443): Max retries exceeded with url: /2116/a266aa3dc8fb87096d797af00bf8071d/lin2013.pdf (Caused by SSLError(SSLEOFError(8, 'EOF occurred in violation of protocol (_ssl.c:997)')))\n",
      "Failed to download file: HTTPSConnectionPool(host='zero.sci-hub.se', port=443): Max retries exceeded with url: /2072/863d7ccf83593df45c6a0bc95fd08194/welsch2012.pdf (Caused by SSLError(SSLEOFError(8, 'EOF occurred in violation of protocol (_ssl.c:997)')))\n",
      "Failed to download file: HTTPSConnectionPool(host='moscow.sci-hub.se', port=443): Max retries exceeded with url: /5153/6b06a5e94f9f09e2ff0c50d121afff06/mensink2012.pdf (Caused by SSLError(SSLEOFError(8, 'EOF occurred in violation of protocol (_ssl.c:997)')))\n",
      "Failed to download file: HTTPSConnectionPool(host='moscow.sci-hub.se', port=443): Max retries exceeded with url: /942/b1027aaaa17758fc39a333ea5bf24030/kin-chungau2010.pdf (Caused by SSLError(SSLEOFError(8, 'EOF occurred in violation of protocol (_ssl.c:997)')))\n"
     ]
    },
    {
     "name": "stderr",
     "output_type": "stream",
     "text": [
      " 63%|██████▎   | 7531/11877 [24:22<03:28, 20.82it/s]"
     ]
    },
    {
     "name": "stdout",
     "output_type": "stream",
     "text": [
      "Failed to download file: HTTPSConnectionPool(host='zero.sci-hub.se', port=443): Max retries exceeded with url: /5890/92821a76c93371c549bbc5ca57832102/harandi2014.pdf (Caused by SSLError(SSLEOFError(8, 'EOF occurred in violation of protocol (_ssl.c:997)')))\n",
      "Failed to download file: HTTPSConnectionPool(host='zero.sci-hub.se', port=443): Max retries exceeded with url: /1822/8ddc205a0086269db500b629f37af14f/bouguila2007.pdf (Caused by SSLError(SSLEOFError(8, 'EOF occurred in violation of protocol (_ssl.c:997)')))\n",
      "Failed to download file: HTTPSConnectionPool(host='moscow.sci-hub.se', port=443): Max retries exceeded with url: /4295/35d684cf2293db7edfcf5712a3d31e05/sarbolandi2015.pdf (Caused by SSLError(SSLEOFError(8, 'EOF occurred in violation of protocol (_ssl.c:997)')))\n",
      "Failed to download file: HTTPSConnectionPool(host='moscow.sci-hub.se', port=443): Max retries exceeded with url: /5440/f543ce925ac00591334cefa71e244529/10.1117@12.765095.pdf (Caused by SSLError(SSLEOFError(8, 'EOF occurred in violation of protocol (_ssl.c:997)')))\n"
     ]
    },
    {
     "name": "stderr",
     "output_type": "stream",
     "text": [
      " 64%|██████▎   | 7543/11877 [24:23<03:11, 22.61it/s]"
     ]
    },
    {
     "name": "stdout",
     "output_type": "stream",
     "text": [
      "Failed to download file: HTTPSConnectionPool(host='moscow.sci-hub.se', port=443): Max retries exceeded with url: /3323/2a424a149a7cd4272d60089c52449f66/knowles2013.pdf (Caused by SSLError(SSLEOFError(8, 'EOF occurred in violation of protocol (_ssl.c:997)')))\n",
      "Failed to download file: HTTPSConnectionPool(host='moscow.sci-hub.se', port=443): Max retries exceeded with url: /4369/e977f0b80998d6506d1c56ab53605fab/coros2012.pdf (Caused by SSLError(SSLEOFError(8, 'EOF occurred in violation of protocol (_ssl.c:997)')))\n",
      "Failed to download file: HTTPSConnectionPool(host='moscow.sci-hub.se', port=443): Max retries exceeded with url: /1431/df26cbffee1b43d566aa816590b1ab0b/samtaney1994.pdf (Caused by SSLError(SSLEOFError(8, 'EOF occurred in violation of protocol (_ssl.c:997)')))\n",
      "Failed to download file: Invalid URL 'http:/downloads/2019-02-27/36/jeon2004.pdf#navpanes=0&view=FitH': No host supplied\n",
      "Failed to download file: HTTPSConnectionPool(host='zero.sci-hub.se', port=443): Max retries exceeded with url: /6673/05332d586bf7e01d287c6afa45945537/sitzmann2018.pdf (Caused by SSLError(SSLEOFError(8, 'EOF occurred in violation of protocol (_ssl.c:997)')))\n",
      "Failed to download file: Invalid URL 'http:/downloads/2019-11-06/00/wu2019.pdf#navpanes=0&view=FitH': No host supplied\n",
      "Failed to download file: HTTPSConnectionPool(host='zero.sci-hub.se', port=443): Max retries exceeded with url: /4364/f7c5cdd0972dc8aab626d1c4b06c02bf/umetani2014.pdf (Caused by SSLError(SSLEOFError(8, 'EOF occurred in violation of protocol (_ssl.c:997)')))\n"
     ]
    },
    {
     "name": "stderr",
     "output_type": "stream",
     "text": [
      " 64%|██████▎   | 7550/11877 [24:23<03:07, 23.11it/s]"
     ]
    },
    {
     "name": "stdout",
     "output_type": "stream",
     "text": [
      "Failed to download file: HTTPSConnectionPool(host='zero.sci-hub.se', port=443): Max retries exceeded with url: /941/551d753aed8a84014b0d5f4ff417d30d/szirmay-kalos2005.pdf (Caused by SSLError(SSLEOFError(8, 'EOF occurred in violation of protocol (_ssl.c:997)')))\n",
      "Failed to download file: HTTPSConnectionPool(host='zero.sci-hub.se', port=443): Max retries exceeded with url: /942/6d86234204dae0229b05ac6962c46b8d/wang2009.pdf (Caused by SSLError(SSLEOFError(8, 'EOF occurred in violation of protocol (_ssl.c:997)')))\n",
      "Failed to download file: Invalid URL 'http:/downloads/2019-08-26/25/lin2017.pdf#navpanes=0&view=FitH': No host supplied\n",
      "Failed to download file: HTTPSConnectionPool(host='zero.sci-hub.se', port=443): Max retries exceeded with url: /1448/3ca5818bdca3183576d5ddf9819ff2d5/breen1996.pdf (Caused by SSLError(SSLEOFError(8, 'EOF occurred in violation of protocol (_ssl.c:997)')))\n",
      "Failed to download file: Invalid URL 'http:/downloads/2021-06-09/07/shi2020.pdf#navpanes=0&view=FitH': No host supplied\n",
      "Failed to download file: Invalid URL 'http:/downloads/2021-06-15/bd/xu2014.pdf#navpanes=0&view=FitH': No host supplied\n",
      "Failed to download file: HTTPSConnectionPool(host='zero.sci-hub.se', port=443): Max retries exceeded with url: /1823/2c829bf1f38cf5c2ec533b0278332d80/dongyue2009.pdf (Caused by SSLError(SSLEOFError(8, 'EOF occurred in violation of protocol (_ssl.c:997)')))\n"
     ]
    },
    {
     "name": "stderr",
     "output_type": "stream",
     "text": [
      " 64%|██████▎   | 7555/11877 [24:23<03:24, 21.15it/s]"
     ]
    },
    {
     "name": "stdout",
     "output_type": "stream",
     "text": [
      "Failed to download file: HTTPSConnectionPool(host='zero.sci-hub.se', port=443): Max retries exceeded with url: /1531/c3db8ca7b19128ed9c82862b95b2c721/ma2004.pdf (Caused by SSLError(SSLEOFError(8, 'EOF occurred in violation of protocol (_ssl.c:997)')))\n",
      "Failed to download file: HTTPSConnectionPool(host='zero.sci-hub.se', port=443): Max retries exceeded with url: /4764/7bd771fd5c2c82832b7e079521e8cf6e/li2016.pdf (Caused by SSLError(SSLEOFError(8, 'EOF occurred in violation of protocol (_ssl.c:997)')))\n",
      "Failed to download file: HTTPSConnectionPool(host='moscow.sci-hub.se', port=443): Max retries exceeded with url: /4284/83ed992777fadbd47b582809e15a4add/hekkelman2010.pdf (Caused by SSLError(SSLEOFError(8, 'EOF occurred in violation of protocol (_ssl.c:997)')))\n",
      "Failed to download file: Invalid URL 'http:/downloads/2020-05-06/fa/chang2020.pdf#navpanes=0&view=FitH': No host supplied\n"
     ]
    },
    {
     "name": "stderr",
     "output_type": "stream",
     "text": [
      " 64%|██████▎   | 7560/11877 [24:24<03:41, 19.53it/s]"
     ]
    },
    {
     "name": "stdout",
     "output_type": "stream",
     "text": [
      "Failed to download file: HTTPSConnectionPool(host='moscow.sci-hub.se', port=443): Max retries exceeded with url: /942/aac1c3a1c7421c44ff5fb8884ba86b5e/castellani2008.pdf (Caused by SSLError(SSLEOFError(8, 'EOF occurred in violation of protocol (_ssl.c:997)')))\n",
      "Failed to download file: HTTPSConnectionPool(host='moscow.sci-hub.se', port=443): Max retries exceeded with url: /4106/7744e3b9780bdb3013bff0694dd9998a/yoshida2010.pdf (Caused by SSLError(SSLEOFError(8, 'EOF occurred in violation of protocol (_ssl.c:997)')))\n",
      "Failed to download file: HTTPSConnectionPool(host='zero.sci-hub.se', port=443): Max retries exceeded with url: /6627/a042ac7e5f516720a62e044f81cea3e6/choi2017.pdf (Caused by SSLError(SSLEOFError(8, 'EOF occurred in violation of protocol (_ssl.c:997)')))\n",
      "Failed to download file: HTTPSConnectionPool(host='moscow.sci-hub.se', port=443): Max retries exceeded with url: /1890/dc74944bd458a0c2eb5469a0201afeb4/chetelat2010.pdf (Caused by SSLError(SSLEOFError(8, 'EOF occurred in violation of protocol (_ssl.c:997)')))\n",
      "Failed to download file: HTTPSConnectionPool(host='zero.sci-hub.se', port=443): Max retries exceeded with url: /185/ccb0d42986649749c1b652f54d2c840d/leonardis2000.pdf (Caused by SSLError(SSLEOFError(8, 'EOF occurred in violation of protocol (_ssl.c:997)')))\n"
     ]
    },
    {
     "name": "stderr",
     "output_type": "stream",
     "text": [
      " 64%|██████▎   | 7570/11877 [24:24<02:43, 26.28it/s]"
     ]
    },
    {
     "name": "stdout",
     "output_type": "stream",
     "text": [
      "Failed to download file: HTTPSConnectionPool(host='moscow.sci-hub.se', port=443): Max retries exceeded with url: /1445/06fca5cd2eaa8e8916652e8529e6dfe6/shijianlu2011.pdf (Caused by SSLError(SSLEOFError(8, 'EOF occurred in violation of protocol (_ssl.c:997)')))\n",
      "Failed to download file: HTTPSConnectionPool(host='zero.sci-hub.se', port=443): Max retries exceeded with url: /1981/b82c94f233893afb794a2be3ab4e672b/ghosh2013.pdf (Caused by SSLError(SSLEOFError(8, 'EOF occurred in violation of protocol (_ssl.c:997)')))\n"
     ]
    },
    {
     "name": "stderr",
     "output_type": "stream",
     "text": [
      " 64%|██████▍   | 7578/11877 [24:24<02:39, 26.93it/s]"
     ]
    },
    {
     "name": "stdout",
     "output_type": "stream",
     "text": [
      "Failed to download file: HTTPSConnectionPool(host='zero.sci-hub.se', port=443): Max retries exceeded with url: /1543/588bafe33833309b7220d3dc67419e66/kutter2002.pdf (Caused by SSLError(SSLEOFError(8, 'EOF occurred in violation of protocol (_ssl.c:997)')))\n",
      "Failed to download file: HTTPSConnectionPool(host='zero.sci-hub.se', port=443): Max retries exceeded with url: /6647/0e95ae5852701007098e5dd34208ef89/fu2018.pdf (Caused by SSLError(SSLEOFError(8, 'EOF occurred in violation of protocol (_ssl.c:997)')))\n",
      "Failed to download file: HTTPSConnectionPool(host='moscow.sci-hub.se', port=443): Max retries exceeded with url: /1824/08e6959d9b9745d202920562accbd72c/boulch2012.pdf (Caused by SSLError(SSLEOFError(8, 'EOF occurred in violation of protocol (_ssl.c:997)')))\n"
     ]
    },
    {
     "name": "stderr",
     "output_type": "stream",
     "text": [
      " 64%|██████▍   | 7584/11877 [24:25<03:05, 23.16it/s]"
     ]
    },
    {
     "name": "stdout",
     "output_type": "stream",
     "text": [
      "Failed to download file: HTTPSConnectionPool(host='moscow.sci-hub.se', port=443): Max retries exceeded with url: /1052/4b356a5db0d5b9dc7d6835cc14eeb864/hertzberg2009.pdf (Caused by SSLError(SSLEOFError(8, 'EOF occurred in violation of protocol (_ssl.c:997)')))\n",
      "Failed to download file: Invalid URL 'http:/downloads/2019-01-28//e4/liu2018.pdf#navpanes=0&view=FitH': No host supplied\n",
      "Failed to download file: HTTPSConnectionPool(host='moscow.sci-hub.se', port=443): Max retries exceeded with url: /335/5b71ea928d47f1a80dcdd91658023abe/bow2004.pdf (Caused by SSLError(SSLEOFError(8, 'EOF occurred in violation of protocol (_ssl.c:997)')))\n",
      "Failed to download file: HTTPSConnectionPool(host='moscow.sci-hub.se', port=443): Max retries exceeded with url: /2054/45da5e5446e5e9f8165a9657b52afac3/maragos1993.pdf (Caused by SSLError(SSLEOFError(8, 'EOF occurred in violation of protocol (_ssl.c:997)')))\n",
      "Failed to download file: HTTPSConnectionPool(host='zero.sci-hub.se', port=443): Max retries exceeded with url: /720/a34b8501b609d9b854ca8ef6588f5018/matikainen2006.pdf (Caused by SSLError(SSLEOFError(8, 'EOF occurred in violation of protocol (_ssl.c:997)')))\n"
     ]
    },
    {
     "name": "stderr",
     "output_type": "stream",
     "text": [
      " 64%|██████▍   | 7588/11877 [24:25<03:00, 23.74it/s]"
     ]
    },
    {
     "name": "stdout",
     "output_type": "stream",
     "text": [
      "Failed to download file: HTTPSConnectionPool(host='zero.sci-hub.se', port=443): Max retries exceeded with url: /6667/fc26ebb701ecd873844feb3aa545fd82/chan2015.pdf (Caused by SSLError(SSLEOFError(8, 'EOF occurred in violation of protocol (_ssl.c:997)')))\n",
      "Failed to download file: HTTPSConnectionPool(host='moscow.sci-hub.se', port=443): Max retries exceeded with url: /129/897d2a130025fc8ea52a116215c31199/ferreira2002.pdf (Caused by SSLError(SSLEOFError(8, 'EOF occurred in violation of protocol (_ssl.c:997)')))\n",
      "Failed to download file: HTTPSConnectionPool(host='zero.sci-hub.se', port=443): Max retries exceeded with url: /1445/86a06c123787b95b9499ef5df6a584b4/wang2012.pdf (Caused by SSLError(SSLEOFError(8, 'EOF occurred in violation of protocol (_ssl.c:997)')))\n",
      "Failed to download file: HTTPSConnectionPool(host='moscow.sci-hub.se', port=443): Max retries exceeded with url: /941/a94e2f6100c831f5dd6a28195632fd8a/jacobs2006.pdf (Caused by SSLError(SSLEOFError(8, 'EOF occurred in violation of protocol (_ssl.c:997)')))\n",
      "Failed to download file: Invalid URL 'http:/downloads/2020-09-03/12/sugiura2018.pdf#navpanes=0&view=FitH': No host supplied\n"
     ]
    },
    {
     "name": "stderr",
     "output_type": "stream",
     "text": [
      " 64%|██████▍   | 7591/11877 [24:25<03:08, 22.75it/s]"
     ]
    },
    {
     "name": "stdout",
     "output_type": "stream",
     "text": [
      "Failed to download file: HTTPSConnectionPool(host='moscow.sci-hub.se', port=443): Max retries exceeded with url: /1923/8982c19847c31defeb579e4dcc15713b/zhang2013.pdf (Caused by SSLError(SSLEOFError(8, 'EOF occurred in violation of protocol (_ssl.c:997)')))\n",
      "Failed to download file: HTTPSConnectionPool(host='moscow.sci-hub.se', port=443): Max retries exceeded with url: /644/589e8ca67a79e2c621d0457b1d7e6f23/10.1007@bf01409796.pdf (Caused by SSLError(SSLEOFError(8, 'EOF occurred in violation of protocol (_ssl.c:997)')))\n"
     ]
    },
    {
     "name": "stderr",
     "output_type": "stream",
     "text": [
      " 64%|██████▍   | 7597/11877 [24:25<02:44, 26.05it/s]"
     ]
    },
    {
     "name": "stdout",
     "output_type": "stream",
     "text": [
      "Failed to download file: HTTPSConnectionPool(host='moscow.sci-hub.se', port=443): Max retries exceeded with url: /1434/e722670089541726124436881f7e27b3/eismann2009.pdf (Caused by SSLError(SSLEOFError(8, 'EOF occurred in violation of protocol (_ssl.c:997)')))\n",
      "Failed to download file: Invalid URL 'http:/downloads/2019-02-15/1d/10.1021@acs.chemrev.8b00400.pdf#navpanes=0&view=FitH': No host supplied\n",
      "Failed to download file: HTTPSConnectionPool(host='zero.sci-hub.se', port=443): Max retries exceeded with url: /299/47eef333979e8d0a2e8879a96bb71eca/pelechano2008.pdf (Caused by SSLError(SSLEOFError(8, 'EOF occurred in violation of protocol (_ssl.c:997)')))\n",
      "Failed to download file: HTTPSConnectionPool(host='moscow.sci-hub.se', port=443): Max retries exceeded with url: /2260/282e7d972add30c48c18017fedf6ed1c/paoletti2007.pdf (Caused by SSLError(SSLEOFError(8, 'EOF occurred in violation of protocol (_ssl.c:997)')))\n",
      "Failed to download file: HTTPSConnectionPool(host='moscow.sci-hub.se', port=443): Max retries exceeded with url: /1823/5278dbd9a495c5b08e2841f8517a6b30/weinkauf2010.pdf (Caused by SSLError(SSLEOFError(8, 'EOF occurred in violation of protocol (_ssl.c:997)')))\n",
      "Failed to download file: Invalid URL 'http:/downloads/2019-01-01/a3/10.1145@3272127.3275036.pdf#navpanes=0&view=FitH': No host supplied\n",
      "Failed to download file: HTTPSConnectionPool(host='moscow.sci-hub.se', port=443): Max retries exceeded with url: /4719/bb7463c277df47f321b12367aa014afe/giachetti2014.pdf (Caused by SSLError(SSLEOFError(8, 'EOF occurred in violation of protocol (_ssl.c:997)')))\n",
      "Failed to download file: HTTPSConnectionPool(host='moscow.sci-hub.se', port=443): Max retries exceeded with url: /1823/494ddff94e5ddbf705dc98125ae83410/machado2009.pdf (Caused by SSLError(SSLEOFError(8, 'EOF occurred in violation of protocol (_ssl.c:997)')))\n",
      "Failed to download file: Invalid URL 'http:/tree/35/51/3551bf556873d4dd5557094f033d2e71.pdf#navpanes=0&view=FitH': No host supplied\n",
      "Failed to download file: Invalid URL 'http:/downloads/2019-07-17/a5/10.1038@s41586-019-1185-4.pdf#navpanes=0&view=FitH': No host supplied\n",
      "Failed to download file: HTTPSConnectionPool(host='zero.sci-hub.se', port=443): Max retries exceeded with url: /76/11a3ccc628a6e001a1634ee4bc85fb4e/pan2010.pdf (Caused by SSLError(SSLEOFError(8, 'EOF occurred in violation of protocol (_ssl.c:997)')))\n",
      "Failed to download file: HTTPSConnectionPool(host='moscow.sci-hub.se', port=443): Max retries exceeded with url: /5153/29e19c2e7abf45571c97414b56e92656/boulkenafet2016.pdf (Caused by SSLError(SSLEOFError(8, 'EOF occurred in violation of protocol (_ssl.c:997)')))\n",
      "Failed to download file: HTTPSConnectionPool(host='moscow.sci-hub.se', port=443): Max retries exceeded with url: /3979/c6a434dc9af2d9e5f987876bcc2f0c92/marcel2010.pdf (Caused by SSLError(SSLEOFError(8, 'EOF occurred in violation of protocol (_ssl.c:997)')))\n",
      "Failed to download file: HTTPSConnectionPool(host='moscow.sci-hub.se', port=443): Max retries exceeded with url: /4894/b32430a04447e79467434c479973a83e/schulze2013.pdf (Caused by SSLError(SSLEOFError(8, 'EOF occurred in violation of protocol (_ssl.c:997)')))\n",
      "Failed to download file: HTTPSConnectionPool(host='moscow.sci-hub.se', port=443): Max retries exceeded with url: /2660/d1518331641fb7cf6b7526c640d7b6b0/hester2002.pdf (Caused by SSLError(SSLEOFError(8, 'EOF occurred in violation of protocol (_ssl.c:997)')))\n",
      "Failed to download file: HTTPSConnectionPool(host='moscow.sci-hub.se', port=443): Max retries exceeded with url: /4300/c1f59f39e909533867c97ee9f0189b48/ye2012.pdf (Caused by SSLError(SSLEOFError(8, 'EOF occurred in violation of protocol (_ssl.c:997)')))\n",
      "Failed to download file: HTTPSConnectionPool(host='zero.sci-hub.se', port=443): Max retries exceeded with url: /6664/c1f0871e3d5cfc541855fe371e858d39/seinfeld2018.pdf (Caused by SSLError(SSLEOFError(8, 'EOF occurred in violation of protocol (_ssl.c:997)')))\n",
      "Failed to download file: HTTPSConnectionPool(host='moscow.sci-hub.se', port=443): Max retries exceeded with url: /2032/15269bf23545456ec525609d14e4dadd/lin2004.pdf (Caused by SSLError(SSLEOFError(8, 'EOF occurred in violation of protocol (_ssl.c:997)')))\n",
      "Failed to download file: HTTPSConnectionPool(host='zero.sci-hub.se', port=443): Max retries exceeded with url: /1816/3a38d5cb6abc46e7df8d8a81a54d89db/seungmoonchoi2004.pdf (Caused by SSLError(SSLEOFError(8, 'EOF occurred in violation of protocol (_ssl.c:997)')))\n",
      "Failed to download file: HTTPSConnectionPool(host='zero.sci-hub.se', port=443): Max retries exceeded with url: /6103/58b14d1a5800ce62b085b9140d906313/jeon2016.pdf (Caused by SSLError(SSLEOFError(8, 'EOF occurred in violation of protocol (_ssl.c:997)')))\n",
      "Failed to download file: HTTPSConnectionPool(host='moscow.sci-hub.se', port=443): Max retries exceeded with url: /3333/bb78f99f820cde93a8ef54b7bd06c8a3/lee1998.pdf (Caused by SSLError(SSLEOFError(8, 'EOF occurred in violation of protocol (_ssl.c:997)')))\n",
      "Failed to download file: HTTPSConnectionPool(host='zero.sci-hub.se', port=443): Max retries exceeded with url: /1819/de077e775824b55fb0586f9d09ffaa47/xiong2010.pdf (Caused by SSLError(SSLEOFError(8, 'EOF occurred in violation of protocol (_ssl.c:997)')))\n",
      "Failed to download file: HTTPSConnectionPool(host='zero.sci-hub.se', port=443): Max retries exceeded with url: /6901/b8f982926dec97a65b85e413fd44f6b9/mathews2018.pdf (Caused by SSLError(SSLEOFError(8, 'EOF occurred in violation of protocol (_ssl.c:997)')))\n",
      "Failed to download file: HTTPSConnectionPool(host='zero.sci-hub.se', port=443): Max retries exceeded with url: /6988/5773f4ece44f258bd55c1210e894de49/wang2018.pdf (Caused by SSLError(SSLEOFError(8, 'EOF occurred in violation of protocol (_ssl.c:997)')))\n",
      "Failed to download file: HTTPSConnectionPool(host='moscow.sci-hub.se', port=443): Max retries exceeded with url: /2116/63a98214c137d69c0c5c206b12922cbe/hu2013.pdf (Caused by SSLError(SSLEOFError(8, 'EOF occurred in violation of protocol (_ssl.c:997)')))\n",
      "Failed to download file: HTTPSConnectionPool(host='zero.sci-hub.se', port=443): Max retries exceeded with url: /4391/03ec6783f545157f2d7c8911e3bced28/soler2003.pdf (Caused by SSLError(SSLEOFError(8, 'EOF occurred in violation of protocol (_ssl.c:997)')))\n",
      "Failed to download file: HTTPSConnectionPool(host='zero.sci-hub.se', port=443): Max retries exceeded with url: /2742/a985fd612e71c92fbb61bcb40e45ea35/kashino2003.pdf (Caused by SSLError(SSLEOFError(8, 'EOF occurred in violation of protocol (_ssl.c:997)')))\n",
      "Failed to download file: Invalid URL 'http:/downloads/2020-09-15/9d/zhang2020.pdf#navpanes=0&view=FitH': No host supplied\n",
      "Failed to download file: HTTPSConnectionPool(host='moscow.sci-hub.se', port=443): Max retries exceeded with url: /2099/8c4ebd4c31d8a812d14c1bbf08d239b3/takeda2009.pdf (Caused by SSLError(SSLEOFError(8, 'EOF occurred in violation of protocol (_ssl.c:997)')))\n",
      "Failed to download file: HTTPSConnectionPool(host='zero.sci-hub.se', port=443): Max retries exceeded with url: /6584/dc0c7a1a26ac7b6ad424d4c8b2b456df/chen2017.pdf (Caused by SSLError(SSLEOFError(8, 'EOF occurred in violation of protocol (_ssl.c:997)')))\n",
      "Failed to download file: HTTPSConnectionPool(host='moscow.sci-hub.se', port=443): Max retries exceeded with url: /1823/8092ae74c72dc8322921855872502e8f/gal2007.pdf (Caused by SSLError(SSLEOFError(8, 'EOF occurred in violation of protocol (_ssl.c:997)')))\n",
      "Failed to download file: Invalid URL 'http:/downloads/2020-02-02/f6/hua2019.pdf#navpanes=0&view=FitH': No host supplied\n",
      "Failed to download file: HTTPSConnectionPool(host='moscow.sci-hub.se', port=443): Max retries exceeded with url: /185/2712e23b0095beee410198191ea369f6/pulli2000.pdf (Caused by SSLError(SSLEOFError(8, 'EOF occurred in violation of protocol (_ssl.c:997)')))\n",
      "Failed to download file: HTTPSConnectionPool(host='moscow.sci-hub.se', port=443): Max retries exceeded with url: /3074/1392e31fff0509566de5dcd8c43cf56d/international-marketing-2011.pdf (Caused by SSLError(SSLEOFError(8, 'EOF occurred in violation of protocol (_ssl.c:997)')))\n",
      "Failed to download file: HTTPSConnectionPool(host='moscow.sci-hub.se', port=443): Max retries exceeded with url: /3075/931e9116bd98a8f7be7efd7c9c56cf9e/liarokapis2014.pdf (Caused by SSLError(SSLEOFError(8, 'EOF occurred in violation of protocol (_ssl.c:997)')))\n",
      "Failed to download file: HTTPSConnectionPool(host='moscow.sci-hub.se', port=443): Max retries exceeded with url: /2075/2f1b194402f51b3371d07cd98ed316f5/zafeiriou2013.pdf (Caused by SSLError(SSLEOFError(8, 'EOF occurred in violation of protocol (_ssl.c:997)')))\n",
      "Failed to download file: HTTPSConnectionPool(host='zero.sci-hub.se', port=443): Max retries exceeded with url: /1751/105a6bf95fbb3e4e48ef6f311fb92c7a/causes-of-neonatal-and-child-mortality-in-india-a-nationally-rep-2010.pdf (Caused by SSLError(SSLEOFError(8, 'EOF occurred in violation of protocol (_ssl.c:997)')))\n",
      "Failed to download file: HTTPSConnectionPool(host='zero.sci-hub.se', port=443): Max retries exceeded with url: /4937/6e8697139b37e1f2f46288755d6b644d/jakob2015.pdf (Caused by SSLError(SSLEOFError(8, 'EOF occurred in violation of protocol (_ssl.c:997)')))\n",
      "Failed to download file: HTTPSConnectionPool(host='zero.sci-hub.se', port=443): Max retries exceeded with url: /5627/fe3ffe2186bc07c7e55fa4825287c781/sultana2016.pdf (Caused by SSLError(SSLEOFError(8, 'EOF occurred in violation of protocol (_ssl.c:997)')))\n",
      "Failed to download file: HTTPSConnectionPool(host='zero.sci-hub.se', port=443): Max retries exceeded with url: /3211/6d6c5f750ba27df802e9df160c3b5244/rocha2014.pdf (Caused by SSLError(SSLEOFError(8, 'EOF occurred in violation of protocol (_ssl.c:997)')))\n",
      "Failed to download file: HTTPSConnectionPool(host='moscow.sci-hub.se', port=443): Max retries exceeded with url: /1833/9870bee5cf584def555545bcd8259258/woodford2012.pdf (Caused by SSLError(SSLEOFError(8, 'EOF occurred in violation of protocol (_ssl.c:997)')))\n",
      "Failed to download file: HTTPSConnectionPool(host='moscow.sci-hub.se', port=443): Max retries exceeded with url: /2148/a98b7ef22bab54bebaacf984eaba8aa0/mingshenglong2014.pdf (Caused by SSLError(SSLEOFError(8, 'EOF occurred in violation of protocol (_ssl.c:997)')))\n",
      "Failed to download file: HTTPSConnectionPool(host='zero.sci-hub.se', port=443): Max retries exceeded with url: /1823/fc328524db3373addeb74a5e845e8633/ruiz2011.pdf (Caused by SSLError(SSLEOFError(8, 'EOF occurred in violation of protocol (_ssl.c:997)')))\n",
      "Failed to download file: HTTPSConnectionPool(host='zero.sci-hub.se', port=443): Max retries exceeded with url: /1642/ec2ad935e13c167e838e5ed0565dd58b/altschuler2010.pdf (Caused by SSLError(SSLEOFError(8, 'EOF occurred in violation of protocol (_ssl.c:997)')))\n",
      "Failed to download file: Invalid URL 'http:/downloads/2021-06-16/8a/jones2020.pdf#navpanes=0&view=FitH': No host supplied\n",
      "Failed to download file: HTTPSConnectionPool(host='zero.sci-hub.se', port=443): Max retries exceeded with url: /6877/9e7e903157188671af7504c29b2cef88/abbas2018.pdf (Caused by SSLError(SSLEOFError(8, 'EOF occurred in violation of protocol (_ssl.c:997)')))\n",
      "Failed to download file: Invalid URL 'http:/downloads/2020-05-14/0c/ge2020.pdf#navpanes=0&view=FitH': No host supplied\n",
      "Failed to download file: HTTPSConnectionPool(host='moscow.sci-hub.se', port=443): Max retries exceeded with url: /1109/e0f40f71011889c503692155fdf86565/madhavan2004.pdf (Caused by SSLError(SSLEOFError(8, 'EOF occurred in violation of protocol (_ssl.c:997)')))\n",
      "Failed to download file: HTTPSConnectionPool(host='moscow.sci-hub.se', port=443): Max retries exceeded with url: /1436/4d467ed3bfb9800147e204fb81aad758/borland2011.pdf (Caused by SSLError(SSLEOFError(8, 'EOF occurred in violation of protocol (_ssl.c:997)')))\n",
      "Failed to download file: HTTPSConnectionPool(host='zero.sci-hub.se', port=443): Max retries exceeded with url: /374/64f31867a1e874ad219a650f8327c0bb/ahmed2006.pdf (Caused by SSLError(SSLEOFError(8, 'EOF occurred in violation of protocol (_ssl.c:997)')))\n",
      "Failed to download file: HTTPSConnectionPool(host='zero.sci-hub.se', port=443): Max retries exceeded with url: /454/766b391dfb503d74d41f728d9dfed32b/battiato2002.pdf (Caused by SSLError(SSLEOFError(8, 'EOF occurred in violation of protocol (_ssl.c:997)')))\n",
      "Failed to download file: HTTPSConnectionPool(host='zero.sci-hub.se', port=443): Max retries exceeded with url: /7035/37c13b65ffabd0c199bd334170ce7887/li2018.pdf (Caused by SSLError(SSLEOFError(8, 'EOF occurred in violation of protocol (_ssl.c:997)')))\n",
      "Failed to download file: HTTPSConnectionPool(host='moscow.sci-hub.se', port=443): Max retries exceeded with url: /756/f84bf3a87f781cd07a40165c64123d9d/park2004.pdf (Caused by SSLError(SSLEOFError(8, 'EOF occurred in violation of protocol (_ssl.c:997)')))\n",
      "Failed to download file: Invalid URL 'http:/downloads/2020-01-29/bf/10.1056@NEJMc2001272.pdf#navpanes=0&view=FitH': No host supplied\n",
      "Failed to download file: HTTPSConnectionPool(host='zero.sci-hub.se', port=443): Max retries exceeded with url: /704/159e2fb820489f0ac5dc4e9a2c1c1fb6/magnenat-thalmann2004.pdf (Caused by SSLError(SSLEOFError(8, 'EOF occurred in violation of protocol (_ssl.c:997)')))\n",
      "Failed to download file: HTTPSConnectionPool(host='zero.sci-hub.se', port=443): Max retries exceeded with url: /6722/ac07551e3722f34c0353ed0e4854508a/bowman2001.pdf (Caused by SSLError(SSLEOFError(8, 'EOF occurred in violation of protocol (_ssl.c:997)')))\n",
      "Failed to download file: HTTPSConnectionPool(host='zero.sci-hub.se', port=443): Max retries exceeded with url: /6383/2d39d24ef40cc7f902d7909b0cfcf804/khan2017.pdf (Caused by SSLError(SSLEOFError(8, 'EOF occurred in violation of protocol (_ssl.c:997)')))\n",
      "Failed to download file: HTTPSConnectionPool(host='moscow.sci-hub.se', port=443): Max retries exceeded with url: /1867/457313477ab4d681da2762111626da8a/sengupta2013.pdf (Caused by SSLError(SSLEOFError(8, 'EOF occurred in violation of protocol (_ssl.c:997)')))\n",
      "Failed to download file: HTTPSConnectionPool(host='moscow.sci-hub.se', port=443): Max retries exceeded with url: /2106/2b7e40eaeda6ec0628e5ead099a8ac00/velten2012.pdf (Caused by SSLError(SSLEOFError(8, 'EOF occurred in violation of protocol (_ssl.c:997)')))\n",
      "Failed to download file: Invalid URL 'http:/downloads/2021-05-16/14e3/li2021.pdf#navpanes=0&view=FitH': No host supplied\n",
      "Failed to download file: Invalid URL 'http:/downloads/2020-02-22/3e/carbune2020.pdf#navpanes=0&view=FitH': No host supplied\n",
      "Failed to download file: Invalid URL 'http:/downloads/2021-06-24/f6/hasan2021.pdf#navpanes=0&view=FitH': No host supplied\n",
      "Failed to download file: HTTPSConnectionPool(host='zero.sci-hub.se', port=443): Max retries exceeded with url: /7026/cdebf3aad5db70252c465ad7bf71958a/hagiwara2018.pdf (Caused by SSLError(SSLEOFError(8, 'EOF occurred in violation of protocol (_ssl.c:997)')))\n",
      "Failed to download file: HTTPSConnectionPool(host='moscow.sci-hub.se', port=443): Max retries exceeded with url: /1823/19872ea10b055fe106ac925ce98b83e6/chaoliwang2008.pdf (Caused by SSLError(SSLEOFError(8, 'EOF occurred in violation of protocol (_ssl.c:997)')))\n",
      "Failed to download file: HTTPSConnectionPool(host='zero.sci-hub.se', port=443): Max retries exceeded with url: /7154/e88170e7a2343599c370e845d24ab72a/yan2018.pdf (Caused by SSLError(SSLEOFError(8, 'EOF occurred in violation of protocol (_ssl.c:997)')))\n",
      "Failed to download file: HTTPSConnectionPool(host='zero.sci-hub.se', port=443): Max retries exceeded with url: /1822/a6705b99d90f16ec1041f65d04189cb8/srivastava2011.pdf (Caused by SSLError(SSLEOFError(8, 'EOF occurred in violation of protocol (_ssl.c:997)')))\n",
      "Failed to download file: HTTPSConnectionPool(host='zero.sci-hub.se', port=443): Max retries exceeded with url: /2124/a0a2531859c9c0dc0a3db3c8d9fac3cf/yongyue2006.pdf (Caused by SSLError(SSLEOFError(8, 'EOF occurred in violation of protocol (_ssl.c:997)')))\n",
      "Failed to download file: HTTPSConnectionPool(host='moscow.sci-hub.se', port=443): Max retries exceeded with url: /1822/1ca427ab3dcaceb385aa2facc771b3ad/zhuowentu2010.pdf (Caused by SSLError(SSLEOFError(8, 'EOF occurred in violation of protocol (_ssl.c:997)')))\n",
      "Failed to download file: HTTPSConnectionPool(host='zero.sci-hub.se', port=443): Max retries exceeded with url: /4933/5feac04a8345046b9d79930757ff9375/schaefer1998.pdf (Caused by SSLError(SSLEOFError(8, 'EOF occurred in violation of protocol (_ssl.c:997)')))\n",
      "Failed to download file: Invalid URL 'http:/downloads/2021-05-13//20/wei2021.pdf#navpanes=0&view=FitH': No host supplied\n",
      "Failed to download file: Invalid URL 'http:/downloads/2021-08-15/9e/neff2021.pdf#navpanes=0&view=FitH': No host supplied\n",
      "Failed to download file: HTTPSConnectionPool(host='zero.sci-hub.se', port=443): Max retries exceeded with url: /1814/a28fe43028eb7005c3da7416932d0aca/elber1997.pdf (Caused by SSLError(SSLEOFError(8, 'EOF occurred in violation of protocol (_ssl.c:997)')))\n",
      "Failed to download file: HTTPSConnectionPool(host='zero.sci-hub.se', port=443): Max retries exceeded with url: /6691/f0c8045713a5dde3ec2263895719e65a/xu2018.pdf (Caused by SSLError(SSLEOFError(8, 'EOF occurred in violation of protocol (_ssl.c:997)')))\n",
      "Failed to download file: Invalid URL 'http:/downloads/2022-11-04/80/thakur2022.pdf#navpanes=0&view=FitH': No host supplied\n",
      "Failed to download file: Invalid URL 'http:/downloads/2021-06-18/f9/yang2021.pdf#navpanes=0&view=FitH': No host supplied\n",
      "Failed to download file: HTTPSConnectionPool(host='zero.sci-hub.se', port=443): Max retries exceeded with url: /402/0547b22b9aa9e8b68725d15d396f0be9/gu2003.pdf (Caused by SSLError(SSLEOFError(8, 'EOF occurred in violation of protocol (_ssl.c:997)')))\n",
      "Failed to download file: HTTPSConnectionPool(host='moscow.sci-hub.se', port=443): Max retries exceeded with url: /4960/0ad1cdc90326e4733aac91e0a26acd8e/zhang2016.pdf (Caused by SSLError(SSLEOFError(8, 'EOF occurred in violation of protocol (_ssl.c:997)')))\n",
      "Failed to download file: HTTPSConnectionPool(host='moscow.sci-hub.se', port=443): Max retries exceeded with url: /942/dcb8aeef36c2b78d0dda34f094ecd897/liu2010.pdf (Caused by SSLError(SSLEOFError(8, 'EOF occurred in violation of protocol (_ssl.c:997)')))\n",
      "Failed to download file: HTTPSConnectionPool(host='moscow.sci-hub.se', port=443): Max retries exceeded with url: /1823/7b459832d2786a2246e5600967c3e656/wenger2004.pdf (Caused by SSLError(SSLEOFError(8, 'EOF occurred in violation of protocol (_ssl.c:997)')))\n",
      "Failed to download file: Invalid URL 'http:/tree/ac/06/ac0683373425eeb806de5947cc7f4032.pdf#navpanes=0&view=FitH': No host supplied\n",
      "Failed to download file: HTTPSConnectionPool(host='zero.sci-hub.se', port=443): Max retries exceeded with url: /2661/caf7992fda2c0868054d05f1e7a8953e/gao2011.pdf (Caused by SSLError(SSLEOFError(8, 'EOF occurred in violation of protocol (_ssl.c:997)')))\n",
      "Failed to download file: HTTPSConnectionPool(host='zero.sci-hub.se', port=443): Max retries exceeded with url: /2319/fe1329b77c2adc59c14f05ead985b701/levy2008.pdf (Caused by SSLError(SSLEOFError(8, 'EOF occurred in violation of protocol (_ssl.c:997)')))\n",
      "Failed to download file: HTTPSConnectionPool(host='zero.sci-hub.se', port=443): Max retries exceeded with url: /2646/2320b56f494ccb4689be69f1824ef212/papanikolopoulos1993.pdf (Caused by SSLError(SSLEOFError(8, 'EOF occurred in violation of protocol (_ssl.c:997)')))\n",
      "Failed to download file: Invalid URL 'http:/downloads/2022-11-17/a3/masana2022.pdf#navpanes=0&view=FitH': No host supplied\n",
      "Failed to download file: HTTPSConnectionPool(host='moscow.sci-hub.se', port=443): Max retries exceeded with url: /942/752831e3441a890ac4a3ca8c6a3266c7/bruneton2008.pdf (Caused by SSLError(SSLEOFError(8, 'EOF occurred in violation of protocol (_ssl.c:997)')))\n",
      "Failed to download file: HTTPSConnectionPool(host='zero.sci-hub.se', port=443): Max retries exceeded with url: /4900/723e14c1fa0bd73c89f12f24796f6e75/thanou2016.pdf (Caused by SSLError(SSLEOFError(8, 'EOF occurred in violation of protocol (_ssl.c:997)')))\n",
      "Failed to download file: HTTPSConnectionPool(host='zero.sci-hub.se', port=443): Max retries exceeded with url: /4330/89cdb264463a3bd9d962b0235f8bcf23/peng2015.pdf (Caused by SSLError(SSLEOFError(8, 'EOF occurred in violation of protocol (_ssl.c:997)')))\n",
      "Failed to download file: Invalid URL 'http:/tree/a5/ee/a5eecdcaddad37d24ba4f399d0eb82b0.pdf#navpanes=0&view=FitH': No host supplied\n",
      "Failed to download file: HTTPSConnectionPool(host='moscow.sci-hub.se', port=443): Max retries exceeded with url: /4890/82dd203077d20f4e77d25328d13bc75b/macedonia1994.pdf (Caused by SSLError(SSLEOFError(8, 'EOF occurred in violation of protocol (_ssl.c:997)')))\n",
      "Failed to download file: HTTPSConnectionPool(host='moscow.sci-hub.se', port=443): Max retries exceeded with url: /4351/a10c28d29711933d8a96943d3542006a/ye2013.pdf (Caused by SSLError(SSLEOFError(8, 'EOF occurred in violation of protocol (_ssl.c:997)')))\n",
      "Failed to download file: HTTPSConnectionPool(host='zero.sci-hub.se', port=443): Max retries exceeded with url: /1926/e749054112a6afde5d5b29a8f8d2554d/kober2001.pdf (Caused by SSLError(SSLEOFError(8, 'EOF occurred in violation of protocol (_ssl.c:997)')))\n",
      "Failed to download file: HTTPSConnectionPool(host='moscow.sci-hub.se', port=443): Max retries exceeded with url: /2361/a21e63cb2d1c9859aaf454f17c2c2c71/feitao2014.pdf (Caused by SSLError(SSLEOFError(8, 'EOF occurred in violation of protocol (_ssl.c:997)')))\n",
      "Failed to download file: HTTPSConnectionPool(host='moscow.sci-hub.se', port=443): Max retries exceeded with url: /1822/42379ce379b6ffc004fbf0e86bd5e781/tabia2011.pdf (Caused by SSLError(SSLEOFError(8, 'EOF occurred in violation of protocol (_ssl.c:997)')))\n",
      "Failed to download file: HTTPSConnectionPool(host='zero.sci-hub.se', port=443): Max retries exceeded with url: /989/fdb9a67343f3dc56fd6bb544a986c408/enoch2010.pdf (Caused by SSLError(SSLEOFError(8, 'EOF occurred in violation of protocol (_ssl.c:997)')))\n",
      "Failed to download file: Invalid URL 'http:/downloads/2019-10-14/87/yu2019.pdf#navpanes=0&view=FitH': No host supplied\n",
      "Failed to download file: HTTPSConnectionPool(host='moscow.sci-hub.se', port=443): Max retries exceeded with url: /1823/e4355ffa36ae483b4a27dd42d63f6fdc/everts2009.pdf (Caused by SSLError(SSLEOFError(8, 'EOF occurred in violation of protocol (_ssl.c:997)')))\n",
      "Failed to download file: Invalid URL 'http:/downloads/2021-06-14/58/tenner2021.pdf#navpanes=0&view=FitH': No host supplied\n",
      "Failed to download file: Invalid URL 'http:/downloads/2019-09-10/92/roy2019.pdf#navpanes=0&view=FitH': No host supplied\n",
      "Failed to download file: Invalid URL 'http:/downloads/2019-02-26/17/10.1111@cgf.13353.pdf#navpanes=0&view=FitH': No host supplied\n",
      "Failed to download file: Invalid URL 'http:/downloads/2019-01-15//4a/wu2018.pdf#navpanes=0&view=FitH': No host supplied\n",
      "Failed to download file: HTTPSConnectionPool(host='zero.sci-hub.se', port=443): Max retries exceeded with url: /942/71f6d492155ec72e48e835442e16d48b/kyprianidis2011.pdf (Caused by SSLError(SSLEOFError(8, 'EOF occurred in violation of protocol (_ssl.c:997)')))\n",
      "Failed to download file: HTTPSConnectionPool(host='moscow.sci-hub.se', port=443): Max retries exceeded with url: /191/7f2550d34c34fbabca5022728d3f3914/yezzi2002.pdf (Caused by SSLError(SSLEOFError(8, 'EOF occurred in violation of protocol (_ssl.c:997)')))\n",
      "Failed to download file: HTTPSConnectionPool(host='moscow.sci-hub.se', port=443): Max retries exceeded with url: /4076/41fbe37070f1a5bd201f24565967dbf2/ai-zeng2011.pdf (Caused by SSLError(SSLEOFError(8, 'EOF occurred in violation of protocol (_ssl.c:997)')))\n",
      "Failed to download file: HTTPSConnectionPool(host='zero.sci-hub.se', port=443): Max retries exceeded with url: /6194/4251465d121c2254df52d49ccb5e72fa/wei2016.pdf (Caused by SSLError(SSLEOFError(8, 'EOF occurred in violation of protocol (_ssl.c:997)')))\n",
      "Failed to download file: HTTPSConnectionPool(host='moscow.sci-hub.se', port=443): Max retries exceeded with url: /4496/606efb5b2848d8a96becf5968953f30f/nguyen2012.pdf (Caused by SSLError(SSLEOFError(8, 'EOF occurred in violation of protocol (_ssl.c:997)')))\n",
      "Failed to download file: HTTPSConnectionPool(host='zero.sci-hub.se', port=443): Max retries exceeded with url: /6919/c6d31719b51a4fbe73532b28d351cf92/weinstein2006.pdf (Caused by SSLError(SSLEOFError(8, 'EOF occurred in violation of protocol (_ssl.c:997)')))\n",
      "Failed to download file: HTTPSConnectionPool(host='zero.sci-hub.se', port=443): Max retries exceeded with url: /299/ef99d15ce3f5933b4e12704b03b113f9/besnard2009.pdf (Caused by SSLError(SSLEOFError(8, 'EOF occurred in violation of protocol (_ssl.c:997)')))\n",
      "Failed to download file: HTTPSConnectionPool(host='zero.sci-hub.se', port=443): Max retries exceeded with url: /6111/caa5305e858c775c8ef56f3fed065b92/rajchl2016.pdf (Caused by SSLError(SSLEOFError(8, 'EOF occurred in violation of protocol (_ssl.c:997)')))\n",
      "Failed to download file: Invalid URL 'http:/downloads/2021-06-10/03/santos2020.pdf#navpanes=0&view=FitH': No host supplied\n",
      "Failed to download file: HTTPSConnectionPool(host='zero.sci-hub.se', port=443): Max retries exceeded with url: /6262/54f7bcaee8c9dac5bfbd8c983f70185b/sarikaya2017.pdf (Caused by SSLError(SSLEOFError(8, 'EOF occurred in violation of protocol (_ssl.c:997)')))\n",
      "Failed to download file: HTTPSConnectionPool(host='moscow.sci-hub.se', port=443): Max retries exceeded with url: /866/aab435283bccb78039a1daf6fe5323ae/vora2002.pdf (Caused by SSLError(SSLEOFError(8, 'EOF occurred in violation of protocol (_ssl.c:997)')))\n",
      "Failed to download file: HTTPSConnectionPool(host='moscow.sci-hub.se', port=443): Max retries exceeded with url: /2247/a5de689865358827bb8a3b61aef6ccf6/guo2013.pdf (Caused by SSLError(SSLEOFError(8, 'EOF occurred in violation of protocol (_ssl.c:997)')))\n",
      "Failed to download file: HTTPSConnectionPool(host='moscow.sci-hub.se', port=443): Max retries exceeded with url: /2250/6418fbe2df6c1aee767f3cd6d2526ce9/cernekova2006.pdf (Caused by SSLError(SSLEOFError(8, 'EOF occurred in violation of protocol (_ssl.c:997)')))\n",
      "Failed to download file: HTTPSConnectionPool(host='zero.sci-hub.se', port=443): Max retries exceeded with url: /6716/def43050a098c6fb319926ced9241b48/kuruoglu2004.pdf (Caused by SSLError(SSLEOFError(8, 'EOF occurred in violation of protocol (_ssl.c:997)')))\n",
      "Failed to download file: HTTPSConnectionPool(host='moscow.sci-hub.se', port=443): Max retries exceeded with url: /3907/8eee0877886711558e455a2cbf7d139e/pronobis2009.pdf (Caused by SSLError(SSLEOFError(8, 'EOF occurred in violation of protocol (_ssl.c:997)')))\n",
      "Failed to download file: Invalid URL 'http:/downloads/2019-11-08/d6/chen2019.pdf#navpanes=0&view=FitH': No host supplied\n",
      "Failed to download file: HTTPSConnectionPool(host='moscow.sci-hub.se', port=443): Max retries exceeded with url: /4356/aef57be4c567287ce449f7f1f7752c66/chen2013.pdf (Caused by SSLError(SSLEOFError(8, 'EOF occurred in violation of protocol (_ssl.c:997)')))\n",
      "Failed to download file: HTTPSConnectionPool(host='zero.sci-hub.se', port=443): Max retries exceeded with url: /673/b04e8887ebf7b9aa4f2c6eb8e1c6b231/cadoli1996.pdf (Caused by SSLError(SSLEOFError(8, 'EOF occurred in violation of protocol (_ssl.c:997)')))\n",
      "Failed to download file: Invalid URL 'http:/downloads/2021-08-11/3b7f/wang2021.pdf#navpanes=0&view=FitH': No host supplied\n",
      "Failed to download file: HTTPSConnectionPool(host='zero.sci-hub.se', port=443): Max retries exceeded with url: /3126/37d413cb74bd6f0902001d6007bb7e57/hongweilin2014.pdf (Caused by SSLError(SSLEOFError(8, 'EOF occurred in violation of protocol (_ssl.c:997)')))\n",
      "Failed to download file: HTTPSConnectionPool(host='moscow.sci-hub.se', port=443): Max retries exceeded with url: /4369/a7f51b1aae5c0769d12d77820b363a0f/li2014.pdf (Caused by SSLError(SSLEOFError(8, 'EOF occurred in violation of protocol (_ssl.c:997)')))\n",
      "Failed to download file: Invalid URL 'http:/downloads/2019-10-21/cd/dalca2019.pdf#navpanes=0&view=FitH': No host supplied\n",
      "Failed to download file: HTTPSConnectionPool(host='zero.sci-hub.se', port=443): Max retries exceeded with url: /3333/e1e94c8d9b7a9f977527d49226de0be4/wu2011.pdf (Caused by SSLError(SSLEOFError(8, 'EOF occurred in violation of protocol (_ssl.c:997)')))\n",
      "Failed to download file: HTTPSConnectionPool(host='zero.sci-hub.se', port=443): Max retries exceeded with url: /3166/2332636454ff47e3aef2774de5e473ea/alatan2007.pdf (Caused by SSLError(SSLEOFError(8, 'EOF occurred in violation of protocol (_ssl.c:997)')))\n",
      "Failed to download file: HTTPSConnectionPool(host='zero.sci-hub.se', port=443): Max retries exceeded with url: /6210/c2f96b1ef50c0185b4b5c71fd09b6ac3/lin2016.pdf (Caused by SSLError(SSLEOFError(8, 'EOF occurred in violation of protocol (_ssl.c:997)')))\n",
      "Failed to download file: HTTPSConnectionPool(host='zero.sci-hub.se', port=443): Max retries exceeded with url: /7101/fd33abc7a01d42b89e6aff05f78569f9/wang2019.pdf (Caused by SSLError(SSLEOFError(8, 'EOF occurred in violation of protocol (_ssl.c:997)')))\n",
      "Failed to download file: Invalid URL 'http:/downloads/2019-02-25/d8/birsak2018.pdf#navpanes=0&view=FitH': No host supplied\n",
      "Failed to download file: HTTPSConnectionPool(host='moscow.sci-hub.se', port=443): Max retries exceeded with url: /1384/d141ef660bb4d7d8d17626aa7e8b0776/10.1016@s0097-84939900047-3.pdf (Caused by SSLError(SSLEOFError(8, 'EOF occurred in violation of protocol (_ssl.c:997)')))\n",
      "Failed to download file: Invalid URL 'http:/downloads/2019-07-19/1e/10.1109@TETC.2019.2929100.pdf#navpanes=0&view=FitH': No host supplied\n",
      "Failed to download file: HTTPSConnectionPool(host='zero.sci-hub.se', port=443): Max retries exceeded with url: /2787/c724a96c4117ad1ff969dea9acf59247/konar2010.pdf (Caused by SSLError(SSLEOFError(8, 'EOF occurred in violation of protocol (_ssl.c:997)')))\n",
      "Failed to download file: HTTPSConnectionPool(host='zero.sci-hub.se', port=443): Max retries exceeded with url: /3033/90343308fcfa242d69066886618cb6db/lin2007.pdf (Caused by SSLError(SSLEOFError(8, 'EOF occurred in violation of protocol (_ssl.c:997)')))\n",
      "Failed to download file: HTTPSConnectionPool(host='moscow.sci-hub.se', port=443): Max retries exceeded with url: /3044/2cd1ee4b4e4aea6d7e5de15a124e47e1/zhai2007.pdf (Caused by SSLError(SSLEOFError(8, 'EOF occurred in violation of protocol (_ssl.c:997)')))\n",
      "Failed to download file: HTTPSConnectionPool(host='zero.sci-hub.se', port=443): Max retries exceeded with url: /1431/7b81ea15a4c1d8375873757444c02171/collet1991.pdf (Caused by SSLError(SSLEOFError(8, 'EOF occurred in violation of protocol (_ssl.c:997)')))\n",
      "Failed to download file: HTTPSConnectionPool(host='zero.sci-hub.se', port=443): Max retries exceeded with url: /3923/1bf3d3e7c05d7eea2fb28e0428751cb9/tao2005.pdf (Caused by SSLError(SSLEOFError(8, 'EOF occurred in violation of protocol (_ssl.c:997)')))\n",
      "Failed to download file: HTTPSConnectionPool(host='moscow.sci-hub.se', port=443): Max retries exceeded with url: /3952/1a9a3fb08608cb1d02d063d7205a4857/schreier2000.pdf (Caused by SSLError(SSLEOFError(8, 'EOF occurred in violation of protocol (_ssl.c:997)')))\n",
      "Failed to download file: Invalid URL 'http:/tree/42/ac/42ac30e0983499d1de076e14eb29655e.pdf#navpanes=0&view=FitH': No host supplied\n",
      "Failed to download file: HTTPSConnectionPool(host='zero.sci-hub.se', port=443): Max retries exceeded with url: /573/fb8e3d54988d833895f2d29465da2f6c/terzopoulos1988.pdf (Caused by SSLError(SSLEOFError(8, 'EOF occurred in violation of protocol (_ssl.c:997)')))\n",
      "Failed to download file: HTTPSConnectionPool(host='moscow.sci-hub.se', port=443): Max retries exceeded with url: /1440/b1c4724e6dc855ac18395ac12474719a/gandino2012.pdf (Caused by SSLError(SSLEOFError(8, 'EOF occurred in violation of protocol (_ssl.c:997)')))\n",
      "Failed to download file: HTTPSConnectionPool(host='moscow.sci-hub.se', port=443): Max retries exceeded with url: /316/b6b0dfb0c8f2650ff79d17588fff4632/lam2011.pdf (Caused by SSLError(SSLEOFError(8, 'EOF occurred in violation of protocol (_ssl.c:997)')))\n",
      "Failed to download file: HTTPSConnectionPool(host='zero.sci-hub.se', port=443): Max retries exceeded with url: /6706/2567ae17be33ccf87d850a7c323751b1/jeon2018.pdf (Caused by SSLError(SSLEOFError(8, 'EOF occurred in violation of protocol (_ssl.c:997)')))\n",
      "Failed to download file: HTTPSConnectionPool(host='zero.sci-hub.se', port=443): Max retries exceeded with url: /759/d24cf8ab2155b36d80ef38cc554bc276/nielson2007.pdf (Caused by SSLError(SSLEOFError(8, 'EOF occurred in violation of protocol (_ssl.c:997)')))\n",
      "Failed to download file: Invalid URL 'http:/downloads/2020-09-01/98/christopher2018.pdf#navpanes=0&view=FitH': No host supplied\n",
      "Failed to download file: Invalid URL 'http:/downloads/2021-06-09/0f/sung2017.pdf#navpanes=0&view=FitH': No host supplied\n",
      "Failed to download file: Invalid URL 'http:/downloads/2019-07-11/61/sun2018.pdf#navpanes=0&view=FitH': No host supplied\n",
      "Failed to download file: HTTPSConnectionPool(host='moscow.sci-hub.se', port=443): Max retries exceeded with url: /1816/7a2b761f804fd2612bf500f80ce58a99/el-hakim2004.pdf (Caused by SSLError(SSLEOFError(8, 'EOF occurred in violation of protocol (_ssl.c:997)')))\n",
      "Failed to download file: HTTPSConnectionPool(host='moscow.sci-hub.se', port=443): Max retries exceeded with url: /1822/dcc1ba359b4fe0ca58e16cb26d9fc681/leizhang2006.pdf (Caused by SSLError(SSLEOFError(8, 'EOF occurred in violation of protocol (_ssl.c:997)')))\n",
      "Failed to download file: ('Connection aborted.', ConnectionResetError(54, 'Connection reset by peer'))\n",
      "Failed to download file: HTTPSConnectionPool(host='moscow.sci-hub.se', port=443): Max retries exceeded with url: /4409/05b7a205ca5d73f5f07ceba6a5e2dc49/nagahara2006.pdf (Caused by SSLError(SSLEOFError(8, 'EOF occurred in violation of protocol (_ssl.c:997)')))\n",
      "Failed to download file: Invalid URL 'http:/downloads/2019-08-24/98/computergenerated-plants.pdf#navpanes=0&view=FitH': No host supplied\n",
      "Failed to download file: HTTPSConnectionPool(host='zero.sci-hub.se', port=443): Max retries exceeded with url: /6603/2abe4154fca0cefce93630ba01d67199/ma2017.pdf (Caused by SSLError(SSLEOFError(8, 'EOF occurred in violation of protocol (_ssl.c:997)')))\n",
      "Failed to download file: HTTPSConnectionPool(host='moscow.sci-hub.se', port=443): Max retries exceeded with url: /3941/48f4fff1af7648606293d687b2a711e6/nakazawa2012.pdf (Caused by SSLError(SSLEOFError(8, 'EOF occurred in violation of protocol (_ssl.c:997)')))\n",
      "Failed to download file: HTTPSConnectionPool(host='moscow.sci-hub.se', port=443): Max retries exceeded with url: /3/33593884beb2da7be912cae94337ec77/grabowski1996.pdf (Caused by SSLError(SSLEOFError(8, 'EOF occurred in violation of protocol (_ssl.c:997)')))\n",
      "Failed to download file: Invalid URL 'http:/tree/e7/5a/e75a0bf029490bc9c94460ca3580acf6.pdf#navpanes=0&view=FitH': No host supplied\n",
      "Failed to download file: Invalid URL 'http:/downloads/2020-01-15/36/chujo2006.pdf#navpanes=0&view=FitH': No host supplied\n",
      "Failed to download file: HTTPSConnectionPool(host='zero.sci-hub.se', port=443): Max retries exceeded with url: /1507/d885edf398e99a72609f79dd63448f7a/skouras2012.pdf (Caused by SSLError(SSLEOFError(8, 'EOF occurred in violation of protocol (_ssl.c:997)')))\n",
      "Failed to download file: HTTPSConnectionPool(host='moscow.sci-hub.se', port=443): Max retries exceeded with url: /1684/eac4c14db9e634eb8eda3e52c08a28db/gude2006.pdf (Caused by SSLError(SSLEOFError(8, 'EOF occurred in violation of protocol (_ssl.c:997)')))\n",
      "Failed to download file: HTTPSConnectionPool(host='zero.sci-hub.se', port=443): Max retries exceeded with url: /6528/7e87bf198ca6fdf1a3b91be562a290bf/csurka2017.pdf (Caused by SSLError(SSLEOFError(8, 'EOF occurred in violation of protocol (_ssl.c:997)')))\n",
      "Failed to download file: Invalid URL 'http:/downloads/2021-08-12/cb/gosztolai2021.pdf#navpanes=0&view=FitH': No host supplied\n",
      "Failed to download file: HTTPSConnectionPool(host='zero.sci-hub.se', port=443): Max retries exceeded with url: /1834/632b65086307788998514d5349aa8362/maji2013.pdf (Caused by SSLError(SSLEOFError(8, 'EOF occurred in violation of protocol (_ssl.c:997)')))\n",
      "Failed to download file: HTTPSConnectionPool(host='zero.sci-hub.se', port=443): Max retries exceeded with url: /7009/a8a6e87ef134aa2be2c2be9853963381/shah2018.pdf (Caused by SSLError(SSLEOFError(8, 'EOF occurred in violation of protocol (_ssl.c:997)')))\n",
      "Failed to download file: HTTPSConnectionPool(host='zero.sci-hub.se', port=443): Max retries exceeded with url: /4336/0b8fde27b5441532f6a425d9f6c0f05f/he2014.pdf (Caused by SSLError(SSLEOFError(8, 'EOF occurred in violation of protocol (_ssl.c:997)')))\n",
      "Failed to download file: HTTPSConnectionPool(host='zero.sci-hub.se', port=443): Max retries exceeded with url: /5120/e7a5534d5ca53e6fd64d91e16a60b185/boada2015.pdf (Caused by SSLError(SSLEOFError(8, 'EOF occurred in violation of protocol (_ssl.c:997)')))\n",
      "Failed to download file: HTTPSConnectionPool(host='zero.sci-hub.se', port=443): Max retries exceeded with url: /3/7d3d10e721952c0a39e83cb034a8c750/hu2000.pdf (Caused by SSLError(SSLEOFError(8, 'EOF occurred in violation of protocol (_ssl.c:997)')))\n",
      "Failed to download file: HTTPSConnectionPool(host='moscow.sci-hub.se', port=443): Max retries exceeded with url: /1823/3d7969e792ca6cd7ca096e009ea080bb/holten2006.pdf (Caused by SSLError(SSLEOFError(8, 'EOF occurred in violation of protocol (_ssl.c:997)')))\n",
      "Failed to download file: HTTPSConnectionPool(host='moscow.sci-hub.se', port=443): Max retries exceeded with url: /1139/14a5fe2ad6e0d8d23554af3020351508/cao2012.pdf (Caused by SSLError(SSLEOFError(8, 'EOF occurred in violation of protocol (_ssl.c:997)')))\n",
      "Failed to download file: HTTPSConnectionPool(host='zero.sci-hub.se', port=443): Max retries exceeded with url: /4442/e88d79fe54e06e059c43fabe3cf973db/fudos1996.pdf (Caused by SSLError(SSLEOFError(8, 'EOF occurred in violation of protocol (_ssl.c:997)')))\n",
      "Failed to download file: HTTPSConnectionPool(host='moscow.sci-hub.se', port=443): Max retries exceeded with url: /942/bd46f198e1557867a0c95ee8229025f9/holten2010.pdf (Caused by SSLError(SSLEOFError(8, 'EOF occurred in violation of protocol (_ssl.c:997)')))\n",
      "Failed to download file: HTTPSConnectionPool(host='moscow.sci-hub.se', port=443): Max retries exceeded with url: /1437/5aa937169e840e7e339014a7851ca60b/jain1974.pdf (Caused by SSLError(SSLEOFError(8, 'EOF occurred in violation of protocol (_ssl.c:997)')))\n",
      "Failed to download file: HTTPSConnectionPool(host='zero.sci-hub.se', port=443): Max retries exceeded with url: /6727/61d44a8b49e2c22b90ed28bf1659bf30/balan2015.pdf (Caused by SSLError(SSLEOFError(8, 'EOF occurred in violation of protocol (_ssl.c:997)')))\n",
      "Failed to download file: HTTPSConnectionPool(host='zero.sci-hub.se', port=443): Max retries exceeded with url: /6028/5df5bfe7524a7f4f9550da08d63ad423/furukawa2016.pdf (Caused by SSLError(SSLEOFError(8, 'EOF occurred in violation of protocol (_ssl.c:997)')))\n",
      "Failed to download file: HTTPSConnectionPool(host='zero.sci-hub.se', port=443): Max retries exceeded with url: /3659/66551934cf55b8f43a3383e741368ae3/moriguchi1995.pdf (Caused by SSLError(SSLEOFError(8, 'EOF occurred in violation of protocol (_ssl.c:997)')))\n",
      "Failed to download file: Invalid URL 'http:/downloads/2021-06-14/2f/abdar2021.pdf#navpanes=0&view=FitH': No host supplied\n",
      "Failed to download file: Invalid URL 'http:/downloads/2019-10-27/e4/rohrbach2014.pdf#navpanes=0&view=FitH': No host supplied\n",
      "Failed to download file: HTTPSConnectionPool(host='zero.sci-hub.se', port=443): Max retries exceeded with url: /6735/b70d400dcaece96d27cce6c6fa0ecfa2/narciso2017.pdf (Caused by SSLError(SSLEOFError(8, 'EOF occurred in violation of protocol (_ssl.c:997)')))\n",
      "Failed to download file: Invalid URL 'http:/downloads/2020-07-01//31/song2020.pdf#navpanes=0&view=FitH': No host supplied\n",
      "Failed to download file: HTTPSConnectionPool(host='moscow.sci-hub.se', port=443): Max retries exceeded with url: /4487/01cae084fa91c0cb4f80dc5905d73b9c/liberatore1998.pdf (Caused by SSLError(SSLEOFError(8, 'EOF occurred in violation of protocol (_ssl.c:997)')))\n",
      "Failed to download file: Invalid URL 'http:/downloads/2022-11-04/ed/sresto2021.pdf#navpanes=0&view=FitH': No host supplied\n",
      "Failed to download file: HTTPSConnectionPool(host='zero.sci-hub.se', port=443): Max retries exceeded with url: /2616/1c5a2f303daaca0d5934e44f78951571/seixas2014.pdf (Caused by SSLError(SSLEOFError(8, 'EOF occurred in violation of protocol (_ssl.c:997)')))\n",
      "Failed to download file: Invalid URL 'http:/downloads/2020-02-19/25/campanile2020.pdf#navpanes=0&view=FitH': No host supplied\n",
      "Failed to download file: Invalid URL 'http:/downloads/2021-07-03/95/campos2021.pdf#navpanes=0&view=FitH': No host supplied\n",
      "Failed to download file: HTTPSConnectionPool(host='moscow.sci-hub.se', port=443): Max retries exceeded with url: /1813/a416edcee8ebcdc1dac6928c8894f092/dinggangshen1997.pdf (Caused by SSLError(SSLEOFError(8, 'EOF occurred in violation of protocol (_ssl.c:997)')))\n",
      "Failed to download file: Invalid URL 'http:/downloads/2021-06-14/89/lau2016.pdf#navpanes=0&view=FitH': No host supplied\n",
      "Failed to download file: Invalid URL 'http:/downloads/2019-09-21/18/singer2019.pdf#navpanes=0&view=FitH': No host supplied\n",
      "Failed to download file: HTTPSConnectionPool(host='zero.sci-hub.se', port=443): Max retries exceeded with url: /3864/a6510e5d6de9386008865bc7dde7aafb/lefohn2006.pdf (Caused by SSLError(SSLEOFError(8, 'EOF occurred in violation of protocol (_ssl.c:997)')))\n",
      "Failed to download file: HTTPSConnectionPool(host='moscow.sci-hub.se', port=443): Max retries exceeded with url: /5312/bf5a493e5047447640c7c5a875e9e950/lindow2013.pdf (Caused by SSLError(SSLEOFError(8, 'EOF occurred in violation of protocol (_ssl.c:997)')))\n",
      "Failed to download file: HTTPSConnectionPool(host='moscow.sci-hub.se', port=443): Max retries exceeded with url: /2144/4f2e477847492ff874f823b6f7f49776/10.1007@978-3-642-31298-412.pdf (Caused by SSLError(SSLEOFError(8, 'EOF occurred in violation of protocol (_ssl.c:997)')))\n",
      "Failed to download file: HTTPSConnectionPool(host='zero.sci-hub.se', port=443): Max retries exceeded with url: /3911/d8e9b8aa0dfb1fb9af20b174a81f846b/ikizler-cinbis2010.pdf (Caused by SSLError(SSLEOFError(8, 'EOF occurred in violation of protocol (_ssl.c:997)')))\n",
      "Failed to download file: HTTPSConnectionPool(host='zero.sci-hub.se', port=443): Max retries exceeded with url: /3473/54bdab9eab6e6f6ae08b6c0700822f16/takeshima2005.pdf (Caused by SSLError(SSLEOFError(8, 'EOF occurred in violation of protocol (_ssl.c:997)')))\n",
      "Failed to download file: HTTPSConnectionPool(host='zero.sci-hub.se', port=443): Max retries exceeded with url: /6347/b820eb21c32dd26c8c77dea581d95953/campen2017.pdf (Caused by SSLError(SSLEOFError(8, 'EOF occurred in violation of protocol (_ssl.c:997)')))\n",
      "Failed to download file: HTTPSConnectionPool(host='moscow.sci-hub.se', port=443): Max retries exceeded with url: /1823/0784b2bd1f4275faab3fbe88f9c1e0bf/heer2008.pdf (Caused by SSLError(SSLEOFError(8, 'EOF occurred in violation of protocol (_ssl.c:997)')))\n",
      "Failed to download file: Invalid URL 'http:/downloads/2020-05-29/f0/zhou2020.pdf#navpanes=0&view=FitH': No host supplied\n",
      "Failed to download file: HTTPSConnectionPool(host='zero.sci-hub.se', port=443): Max retries exceeded with url: /3231/eb23f354e6527bdac4c51f2686e32421/sidenbladh2002.pdf (Caused by SSLError(SSLEOFError(8, 'EOF occurred in violation of protocol (_ssl.c:997)')))\n",
      "Failed to download file: HTTPSConnectionPool(host='zero.sci-hub.se', port=443): Max retries exceeded with url: /6695/6c255f5b01b2d8fe24ae8dc332390fef/sacks2018.pdf (Caused by SSLError(SSLEOFError(8, 'EOF occurred in violation of protocol (_ssl.c:997)')))\n",
      "Failed to download file: HTTPSConnectionPool(host='zero.sci-hub.se', port=443): Max retries exceeded with url: /6748/b81201bb0ae922853b56814ee7a0d0af/decarvalhofilho2018.pdf (Caused by SSLError(SSLEOFError(8, 'EOF occurred in violation of protocol (_ssl.c:997)')))\n",
      "Failed to download file: HTTPSConnectionPool(host='zero.sci-hub.se', port=443): Max retries exceeded with url: /438/eb3f0db88a7aaf75f781f6d40528084c/joslin2003.pdf (Caused by SSLError(SSLEOFError(8, 'EOF occurred in violation of protocol (_ssl.c:997)')))\n",
      "Failed to download file: HTTPSConnectionPool(host='moscow.sci-hub.se', port=443): Max retries exceeded with url: /5241/3ba078d8ed7162796d842923df96a5b1/pearson2009.pdf (Caused by SSLError(SSLEOFError(8, 'EOF occurred in violation of protocol (_ssl.c:997)')))\n",
      "Failed to download file: HTTPSConnectionPool(host='moscow.sci-hub.se', port=443): Max retries exceeded with url: /1292/2b74f3218f964273f89a36aea54ca081/lin1994.pdf (Caused by SSLError(SSLEOFError(8, 'EOF occurred in violation of protocol (_ssl.c:997)')))\n",
      "Failed to download file: HTTPSConnectionPool(host='zero.sci-hub.se', port=443): Max retries exceeded with url: /6710/4c937c4a14e7bdaf85b601238c6ad7ba/chen2018.pdf (Caused by SSLError(SSLEOFError(8, 'EOF occurred in violation of protocol (_ssl.c:997)')))\n",
      "Failed to download file: HTTPSConnectionPool(host='zero.sci-hub.se', port=443): Max retries exceeded with url: /3060/dd194b3c2ef3f17b4518afb33341697a/bastan2010.pdf (Caused by SSLError(SSLEOFError(8, 'EOF occurred in violation of protocol (_ssl.c:997)')))\n",
      "Failed to download file: HTTPSConnectionPool(host='moscow.sci-hub.se', port=443): Max retries exceeded with url: /3016/8622bd4acc65ee24c32c87f22f732d2e/wilson2014.pdf (Caused by SSLError(SSLEOFError(8, 'EOF occurred in violation of protocol (_ssl.c:997)')))\n",
      "Failed to download file: HTTPSConnectionPool(host='zero.sci-hub.se', port=443): Max retries exceeded with url: /3530/da088f0538b7e2613eeaf58ec0139310/badal2009.pdf (Caused by SSLError(SSLEOFError(8, 'EOF occurred in violation of protocol (_ssl.c:997)')))\n",
      "Failed to download file: HTTPSConnectionPool(host='moscow.sci-hub.se', port=443): Max retries exceeded with url: /4412/11d791cb0e38a169df5bca6538472ffb/wang2015.pdf (Caused by SSLError(SSLEOFError(8, 'EOF occurred in violation of protocol (_ssl.c:997)')))\n",
      "Failed to download file: HTTPSConnectionPool(host='moscow.sci-hub.se', port=443): Max retries exceeded with url: /4340/5a37568133fbc8b8e97a922a61c6b27d/lefloch2013.pdf (Caused by SSLError(SSLEOFError(8, 'EOF occurred in violation of protocol (_ssl.c:997)')))\n",
      "Failed to download file: HTTPSConnectionPool(host='zero.sci-hub.se', port=443): Max retries exceeded with url: /300/f98c93ce941229867a6788ce4f3cf4cc/jeon2010.pdf (Caused by SSLError(SSLEOFError(8, 'EOF occurred in violation of protocol (_ssl.c:997)')))\n",
      "Failed to download file: HTTPSConnectionPool(host='moscow.sci-hub.se', port=443): Max retries exceeded with url: /853/79b21e5390580586ed7e10e89b295329/10.1016@j.cviu.2010.08.002.pdf (Caused by SSLError(SSLEOFError(8, 'EOF occurred in violation of protocol (_ssl.c:997)')))\n",
      "Failed to download file: Invalid URL 'http:/downloads/2019-08-28/68/wang2019.pdf#navpanes=0&view=FitH': No host supplied\n",
      "Failed to download file: HTTPSConnectionPool(host='moscow.sci-hub.se', port=443): Max retries exceeded with url: /4618/1cb21eb2720d335ad6d522a4e99ba066/nunes2001.pdf (Caused by SSLError(SSLEOFError(8, 'EOF occurred in violation of protocol (_ssl.c:997)')))\n",
      "Failed to download file: HTTPSConnectionPool(host='zero.sci-hub.se', port=443): Max retries exceeded with url: /942/87f8f7963df7cc885429f660d113ec5a/attene2010.pdf (Caused by SSLError(SSLEOFError(8, 'EOF occurred in violation of protocol (_ssl.c:997)')))\n",
      "Failed to download file: Invalid URL 'http:/downloads/2019-07-25/8f/10.1145@3306346.3323020.pdf#navpanes=0&view=FitH': No host supplied\n",
      "Failed to download file: Invalid URL 'http:/downloads/2019-08-13/0f/10.1111@cgf.13496.pdf#navpanes=0&view=FitH': No host supplied\n",
      "Failed to download file: HTTPSConnectionPool(host='zero.sci-hub.se', port=443): Max retries exceeded with url: /4562/cc6554cf083117b281add77411106e64/asuni2013.pdf (Caused by SSLError(SSLEOFError(8, 'EOF occurred in violation of protocol (_ssl.c:997)')))\n",
      "Failed to download file: HTTPSConnectionPool(host='zero.sci-hub.se', port=443): Max retries exceeded with url: /365/d7ee54cc1d2e4b36dcbc68cd4c0f5f27/costa2008.pdf (Caused by SSLError(SSLEOFError(8, 'EOF occurred in violation of protocol (_ssl.c:997)')))\n",
      "Failed to download file: HTTPSConnectionPool(host='zero.sci-hub.se', port=443): Max retries exceeded with url: /1822/73ec5dca29c42058da28c1513da537e8/manmatha2005.pdf (Caused by SSLError(SSLEOFError(8, 'EOF occurred in violation of protocol (_ssl.c:997)')))\n",
      "Failed to download file: Invalid URL 'http:/downloads/2021-05-21/f0/zhang2021.pdf#navpanes=0&view=FitH': No host supplied\n",
      "Failed to download file: HTTPSConnectionPool(host='zero.sci-hub.se', port=443): Max retries exceeded with url: /6911/39a87f1fceef146169ff55f7974ac928/xu2018.pdf (Caused by SSLError(SSLEOFError(8, 'EOF occurred in violation of protocol (_ssl.c:997)')))\n",
      "Failed to download file: Invalid URL 'http:/downloads/2019-04-26/ff/10.1111@cgf.13498.pdf#navpanes=0&view=FitH': No host supplied\n",
      "Failed to download file: HTTPSConnectionPool(host='moscow.sci-hub.se', port=443): Max retries exceeded with url: /5165/2b03b1065b1bf6005b5946623aad94e9/rosenthal2001.pdf (Caused by SSLError(SSLEOFError(8, 'EOF occurred in violation of protocol (_ssl.c:997)')))\n",
      "Failed to download file: Invalid URL 'http:/downloads/2020-07-12/54/gupta2020.pdf#navpanes=0&view=FitH': No host supplied\n",
      "Failed to download file: Invalid URL 'http:/downloads/2019-10-13/47/yang2019.pdf#navpanes=0&view=FitH': No host supplied\n",
      "Failed to download file: HTTPSConnectionPool(host='zero.sci-hub.se', port=443): Max retries exceeded with url: /5593/6f03af102e277e9e91095ad2859ca92d/li2015.pdf (Caused by SSLError(SSLEOFError(8, 'EOF occurred in violation of protocol (_ssl.c:997)')))\n",
      "Failed to download file: Invalid URL 'http:/downloads/2019-11-09/43/kauff2007.pdf#navpanes=0&view=FitH': No host supplied\n",
      "Failed to download file: HTTPSConnectionPool(host='zero.sci-hub.se', port=443): Max retries exceeded with url: /6286/3ac261d6ac1204a7c4880fc31f7a781b/kryjak2014.pdf (Caused by SSLError(SSLEOFError(8, 'EOF occurred in violation of protocol (_ssl.c:997)')))\n",
      "Failed to download file: HTTPSConnectionPool(host='zero.sci-hub.se', port=443): Max retries exceeded with url: /7114/6e01e41afcd3e53914cec34393e5a795/krejtz2018.pdf (Caused by SSLError(SSLEOFError(8, 'EOF occurred in violation of protocol (_ssl.c:997)')))\n",
      "Failed to download file: HTTPSConnectionPool(host='zero.sci-hub.se', port=443): Max retries exceeded with url: /5799/cf5c1f65242476fbebf1fd5e0a6e1f7b/zhao2016.pdf (Caused by SSLError(SSLEOFError(8, 'EOF occurred in violation of protocol (_ssl.c:997)')))\n",
      "Failed to download file: Invalid URL 'http:/downloads/2021-06-09/e1/egger2020.pdf#navpanes=0&view=FitH': No host supplied\n",
      "Failed to download file: Invalid URL 'http:/tree/d0/ad/d0adf629586a300010a82c2543e17c1b.pdf#navpanes=0&view=FitH': No host supplied\n",
      "Failed to download file: Invalid URL 'http:/downloads/2020-12-18/6b/baumert2020.pdf#navpanes=0&view=FitH': No host supplied\n",
      "Failed to download file: Invalid URL 'http:/downloads/2022-11-08/e5/maninis2022.pdf#navpanes=0&view=FitH': No host supplied\n",
      "Failed to download file: HTTPSConnectionPool(host='zero.sci-hub.se', port=443): Max retries exceeded with url: /2187/df75537ca3a408067d6db46f7d6164c3/thinhatanhnguyen2012.pdf (Caused by SSLError(SSLEOFError(8, 'EOF occurred in violation of protocol (_ssl.c:997)')))\n",
      "Failed to download file: HTTPSConnectionPool(host='zero.sci-hub.se', port=443): Max retries exceeded with url: /3100/14c404343d97bf522cade834f843c3a2/10.1111@cgf.12280.pdf (Caused by SSLError(SSLEOFError(8, 'EOF occurred in violation of protocol (_ssl.c:997)')))\n",
      "Failed to download file: HTTPSConnectionPool(host='moscow.sci-hub.se', port=443): Max retries exceeded with url: /362/1bf308c15a4cada2bbb13b92adcd33c9/moustakas2005.pdf (Caused by SSLError(SSLEOFError(8, 'EOF occurred in violation of protocol (_ssl.c:997)')))\n",
      "Failed to download file: Invalid URL 'http:/downloads/2021-05-15//d0/xue2021.pdf#navpanes=0&view=FitH': No host supplied\n",
      "Failed to download file: HTTPSConnectionPool(host='zero.sci-hub.se', port=443): Max retries exceeded with url: /2274/865a453537cfb775b78a552aaaa8a96d/lagae2006.pdf (Caused by SSLError(SSLEOFError(8, 'EOF occurred in violation of protocol (_ssl.c:997)')))\n",
      "Failed to download file: HTTPSConnectionPool(host='zero.sci-hub.se', port=443): Max retries exceeded with url: /2314/71f71748a4bc922607a9a4cb6c7a875b/liu2013.pdf (Caused by SSLError(SSLEOFError(8, 'EOF occurred in violation of protocol (_ssl.c:997)')))\n",
      "Failed to download file: HTTPSConnectionPool(host='moscow.sci-hub.se', port=443): Max retries exceeded with url: /338/842ed018a1ff3141948f277cebf9112e/li2004.pdf (Caused by SSLError(SSLEOFError(8, 'EOF occurred in violation of protocol (_ssl.c:997)')))\n",
      "Failed to download file: HTTPSConnectionPool(host='zero.sci-hub.se', port=443): Max retries exceeded with url: /1812/c72053c7905da4f072fa585fc68369cc/silver1997.pdf (Caused by SSLError(SSLEOFError(8, 'EOF occurred in violation of protocol (_ssl.c:997)')))\n",
      "Failed to download file: HTTPSConnectionPool(host='zero.sci-hub.se', port=443): Max retries exceeded with url: /6348/a43696a7a6a47031e9df33ce68510f06/dietrich2017.pdf (Caused by SSLError(SSLEOFError(8, 'EOF occurred in violation of protocol (_ssl.c:997)')))\n",
      "Failed to download file: HTTPSConnectionPool(host='zero.sci-hub.se', port=443): Max retries exceeded with url: /6592/61a5106631f9a2a2b7ccd15fbe1e0327/aristidou2017.pdf (Caused by SSLError(SSLEOFError(8, 'EOF occurred in violation of protocol (_ssl.c:997)')))\n",
      "Failed to download file: HTTPSConnectionPool(host='zero.sci-hub.se', port=443): Max retries exceeded with url: /6815/3f0dd06a94902b6834ecf512ee0d60e3/sasaki2018.pdf (Caused by SSLError(SSLEOFError(8, 'EOF occurred in violation of protocol (_ssl.c:997)')))\n",
      "Failed to download file: HTTPSConnectionPool(host='moscow.sci-hub.se', port=443): Max retries exceeded with url: /1384/3797bbab4f6fd6c9b2316f8e28fe9404/gotsman2001.pdf (Caused by SSLError(SSLEOFError(8, 'EOF occurred in violation of protocol (_ssl.c:997)')))\n",
      "Failed to download file: HTTPSConnectionPool(host='zero.sci-hub.se', port=443): Max retries exceeded with url: /3496/1e030321a13aafe42cbf322f8b05c921/ghorbani2000.pdf (Caused by SSLError(SSLEOFError(8, 'EOF occurred in violation of protocol (_ssl.c:997)')))\n",
      "Failed to download file: Invalid URL 'http:/downloads/2019-03-05/82/jain2014.pdf#navpanes=0&view=FitH': No host supplied\n",
      "Failed to download file: Invalid URL 'http:/downloads/2019-01-23//01/whitmore2014.pdf#navpanes=0&view=FitH': No host supplied\n",
      "Failed to download file: HTTPSConnectionPool(host='zero.sci-hub.se', port=443): Max retries exceeded with url: /338/8bb7541af32144140f17e7a211421155/lai2009.pdf (Caused by SSLError(SSLEOFError(8, 'EOF occurred in violation of protocol (_ssl.c:997)')))\n",
      "Failed to download file: Invalid URL 'http:/downloads/2020-06-27//c4/publisher-correction-constraint-on-the-matterantimatter-symmetry-2020.pdf#navpanes=0&view=FitH': No host supplied\n",
      "Failed to download file: HTTPSConnectionPool(host='moscow.sci-hub.se', port=443): Max retries exceeded with url: /3284/bc797666b66d7b8ae76c16f216200a0f/rim2015.pdf (Caused by SSLError(SSLEOFError(8, 'EOF occurred in violation of protocol (_ssl.c:997)')))\n",
      "Failed to download file: HTTPSConnectionPool(host='zero.sci-hub.se', port=443): Max retries exceeded with url: /942/6a18f5c38bb4482d221bd943375ee861/10.1111@j.1467-8659.2009.01545.x.pdf (Caused by SSLError(SSLEOFError(8, 'EOF occurred in violation of protocol (_ssl.c:997)')))\n",
      "Failed to download file: Invalid URL 'http:/downloads/2021-08-11/12/szabo2021.pdf#navpanes=0&view=FitH': No host supplied\n",
      "Failed to download file: HTTPSConnectionPool(host='moscow.sci-hub.se', port=443): Max retries exceeded with url: /861/24590d336987622f8a25fad6ea7a2035/aiger2010.pdf (Caused by SSLError(SSLEOFError(8, 'EOF occurred in violation of protocol (_ssl.c:997)')))\n",
      "Failed to download file: Invalid URL 'http:/downloads/2019-01-31//37/xu2016.pdf#navpanes=0&view=FitH': No host supplied\n",
      "Failed to download file: HTTPSConnectionPool(host='zero.sci-hub.se', port=443): Max retries exceeded with url: /4356/1e4de65f4eb66256c28d8b5c71815b2d/jakob2014.pdf (Caused by SSLError(SSLEOFError(8, 'EOF occurred in violation of protocol (_ssl.c:997)')))\n",
      "Failed to download file: Invalid URL 'http:/downloads/2019-10-06/a4/10.1109@TMI.2019.2945521.pdf#navpanes=0&view=FitH': No host supplied\n",
      "Failed to download file: HTTPSConnectionPool(host='zero.sci-hub.se', port=443): Max retries exceeded with url: /6086/00f39ea5d6c20d49af0e5b832b34fb9f/qi2016.pdf (Caused by SSLError(SSLEOFError(8, 'EOF occurred in violation of protocol (_ssl.c:997)')))\n",
      "Failed to download file: HTTPSConnectionPool(host='moscow.sci-hub.se', port=443): Max retries exceeded with url: /1262/0273974b95928a9e45e0a631aa7f45d1/hata2012.pdf (Caused by SSLError(SSLEOFError(8, 'EOF occurred in violation of protocol (_ssl.c:997)')))\n",
      "Failed to download file: HTTPSConnectionPool(host='moscow.sci-hub.se', port=443): Max retries exceeded with url: /4726/f34d252f0f6b43434c22c700ede9b5b4/son2015.pdf (Caused by SSLError(SSLEOFError(8, 'EOF occurred in violation of protocol (_ssl.c:997)')))\n",
      "Failed to download file: HTTPSConnectionPool(host='zero.sci-hub.se', port=443): Max retries exceeded with url: /2194/0545d48bbaf5c954ac79be408f08a887/liu2010.pdf (Caused by SSLError(SSLEOFError(8, 'EOF occurred in violation of protocol (_ssl.c:997)')))\n",
      "Failed to download file: HTTPSConnectionPool(host='zero.sci-hub.se', port=443): Max retries exceeded with url: /187/3c282b22f619d88cd15f08ff17ada5c3/xu1995.pdf (Caused by SSLError(SSLEOFError(8, 'EOF occurred in violation of protocol (_ssl.c:997)')))\n",
      "Failed to download file: HTTPSConnectionPool(host='moscow.sci-hub.se', port=443): Max retries exceeded with url: /1823/01954d6c86a7e972fa42d6966cba25c0/wald2005.pdf (Caused by SSLError(SSLEOFError(8, 'EOF occurred in violation of protocol (_ssl.c:997)')))\n",
      "Failed to download file: Invalid URL 'http:/downloads/2019-07-17/0f/10.1145@3306346.3322937.pdf#navpanes=0&view=FitH': No host supplied\n",
      "Failed to download file: Invalid URL 'http:/downloads/2019-10-17/5b/guo2019.pdf#navpanes=0&view=FitH': No host supplied\n",
      "Failed to download file: Invalid URL 'http:/downloads/2021-08-10/54/krishnaadithya2021.pdf#navpanes=0&view=FitH': No host supplied\n",
      "Failed to download file: HTTPSConnectionPool(host='zero.sci-hub.se', port=443): Max retries exceeded with url: /942/b1367443e8bc7c995db7cec6e9814885/yan2009.pdf (Caused by SSLError(SSLEOFError(8, 'EOF occurred in violation of protocol (_ssl.c:997)')))\n",
      "Failed to download file: HTTPSConnectionPool(host='zero.sci-hub.se', port=443): Max retries exceeded with url: /3570/c73fb35d922adc44076d289876635fb2/karsch2014.pdf (Caused by SSLError(SSLEOFError(8, 'EOF occurred in violation of protocol (_ssl.c:997)')))\n",
      "Failed to download file: Invalid URL 'http:/downloads/2019-02-05/02/zhu2016.pdf#navpanes=0&view=FitH': No host supplied\n",
      "Failed to download file: HTTPSConnectionPool(host='zero.sci-hub.se', port=443): Max retries exceeded with url: /316/a05fb1320a86c258a18827ea1fc65e66/nguyen2010.pdf (Caused by SSLError(SSLEOFError(8, 'EOF occurred in violation of protocol (_ssl.c:997)')))\n",
      "Failed to download file: HTTPSConnectionPool(host='moscow.sci-hub.se', port=443): Max retries exceeded with url: /2461/7777ffd42bdd541539e9ad8933a79f9b/shekhar2014.pdf (Caused by SSLError(SSLEOFError(8, 'EOF occurred in violation of protocol (_ssl.c:997)')))\n",
      "Failed to download file: HTTPSConnectionPool(host='moscow.sci-hub.se', port=443): Max retries exceeded with url: /316/59632a6014b36f819329183e34d9b0e0/lin2009.pdf (Caused by SSLError(SSLEOFError(8, 'EOF occurred in violation of protocol (_ssl.c:997)')))\n",
      "Failed to download file: HTTPSConnectionPool(host='moscow.sci-hub.se', port=443): Max retries exceeded with url: /942/1a76b48af3e9cb66867c88f395ca0d5e/sintorn2008.pdf (Caused by SSLError(SSLEOFError(8, 'EOF occurred in violation of protocol (_ssl.c:997)')))\n",
      "Failed to download file: HTTPSConnectionPool(host='moscow.sci-hub.se', port=443): Max retries exceeded with url: /3922/a682974d9d114c90caf997363089b029/maragos1986.pdf (Caused by SSLError(SSLEOFError(8, 'EOF occurred in violation of protocol (_ssl.c:997)')))\n",
      "Failed to download file: HTTPSConnectionPool(host='moscow.sci-hub.se', port=443): Max retries exceeded with url: /2154/d7fbdd3cf56fe40e6134bc8974291b37/sadeghi2003.pdf (Caused by SSLError(SSLEOFError(8, 'EOF occurred in violation of protocol (_ssl.c:997)')))\n",
      "Failed to download file: HTTPSConnectionPool(host='zero.sci-hub.se', port=443): Max retries exceeded with url: /7042/f905e48938b3305b7801db2ed5238799/zhou2018.pdf (Caused by SSLError(SSLEOFError(8, 'EOF occurred in violation of protocol (_ssl.c:997)')))\n",
      "Failed to download file: HTTPSConnectionPool(host='moscow.sci-hub.se', port=443): Max retries exceeded with url: /2656/ddea8d132ab672af1b9c3e153f9189a8/merolla2014.pdf (Caused by SSLError(SSLEOFError(8, 'EOF occurred in violation of protocol (_ssl.c:997)')))\n",
      "Failed to download file: HTTPSConnectionPool(host='zero.sci-hub.se', port=443): Max retries exceeded with url: /3108/a626b0f9abebb864a3d4651a88beb850/santella2014.pdf (Caused by SSLError(SSLEOFError(8, 'EOF occurred in violation of protocol (_ssl.c:997)')))\n",
      "Failed to download file: Invalid URL 'http:/downloads/2019-01-02/19/cipriani2018.pdf#navpanes=0&view=FitH': No host supplied\n",
      "Failed to download file: HTTPSConnectionPool(host='moscow.sci-hub.se', port=443): Max retries exceeded with url: /942/69282c90e4767eac4866ba59247dabee/adams2010.pdf (Caused by SSLError(SSLEOFError(8, 'EOF occurred in violation of protocol (_ssl.c:997)')))\n",
      "Failed to download file: HTTPSConnectionPool(host='moscow.sci-hub.se', port=443): Max retries exceeded with url: /1448/102bf9874b78f89cf6f9b491377c6852/decoret1999.pdf (Caused by SSLError(SSLEOFError(8, 'EOF occurred in violation of protocol (_ssl.c:997)')))\n",
      "Failed to download file: HTTPSConnectionPool(host='zero.sci-hub.se', port=443): Max retries exceeded with url: /6810/256e0175407bbe4efd8ac8d47a915683/bi2018.pdf (Caused by SSLError(SSLEOFError(8, 'EOF occurred in violation of protocol (_ssl.c:997)')))\n",
      "Failed to download file: Invalid URL 'http:/downloads/2021-06-09/24/yi2017.pdf#navpanes=0&view=FitH': No host supplied\n"
     ]
    },
    {
     "name": "stderr",
     "output_type": "stream",
     "text": [
      " 64%|██████▍   | 7597/11877 [24:42<02:44, 26.05it/s]"
     ]
    },
    {
     "name": "stdout",
     "output_type": "stream",
     "text": [
      "Failed to download file: Invalid URL 'http:/downloads/2020-08-26/80/santesteban2020.pdf#navpanes=0&view=FitH': No host supplied\n",
      "Failed to download file: HTTPSConnectionPool(host='moscow.sci-hub.se', port=443): Max retries exceeded with url: /1893/73a4cddd3c3b295376816bd95a9b52f2/toews2010.pdf (Caused by SSLError(SSLEOFError(8, 'EOF occurred in violation of protocol (_ssl.c:997)')))\n",
      "Failed to download file: HTTPSConnectionPool(host='zero.sci-hub.se', port=443): Max retries exceeded with url: /4373/02ecd23d0767d78601204b0fc7d73e6d/haller1997.pdf (Caused by SSLError(SSLEOFError(8, 'EOF occurred in violation of protocol (_ssl.c:997)')))\n",
      "Failed to download file: HTTPSConnectionPool(host='moscow.sci-hub.se', port=443): Max retries exceeded with url: /2072/65b5c14d5ea4465fd37bcdd99f3dbcce/bing2012.pdf (Caused by SSLError(SSLEOFError(8, 'EOF occurred in violation of protocol (_ssl.c:997)')))\n",
      "Failed to download file: HTTPSConnectionPool(host='moscow.sci-hub.se', port=443): Max retries exceeded with url: /1813/41c104bb72891b6489841f04172503e9/gauch1993.pdf (Caused by SSLError(SSLEOFError(8, 'EOF occurred in violation of protocol (_ssl.c:997)')))\n",
      "Failed to download file: HTTPSConnectionPool(host='zero.sci-hub.se', port=443): Max retries exceeded with url: /6752/e04272b1c56ebdaf94fda0a881c83ad4/gronningsaeter2000.pdf (Caused by SSLError(SSLEOFError(8, 'EOF occurred in violation of protocol (_ssl.c:997)')))\n",
      "Failed to download file: HTTPSConnectionPool(host='zero.sci-hub.se', port=443): Max retries exceeded with url: /1066/a46f9404f97ee039da815cfbfe819c09/shao2011.pdf (Caused by SSLError(SSLEOFError(8, 'EOF occurred in violation of protocol (_ssl.c:997)')))\n",
      "Failed to download file: HTTPSConnectionPool(host='zero.sci-hub.se', port=443): Max retries exceeded with url: /3168/4f77081e4d20eea8258abd8f107ad326/peyrat2007.pdf (Caused by SSLError(SSLEOFError(8, 'EOF occurred in violation of protocol (_ssl.c:997)')))\n",
      "Failed to download file: Invalid URL 'http:/downloads/2021-06-09/86/romero2017.pdf#navpanes=0&view=FitH': No host supplied\n",
      "Failed to download file: HTTPSConnectionPool(host='moscow.sci-hub.se', port=443): Max retries exceeded with url: /3589/85add8b8c83e537aa177857f2eb4d7cf/huang2009.pdf (Caused by SSLError(SSLEOFError(8, 'EOF occurred in violation of protocol (_ssl.c:997)')))\n",
      "Failed to download file: HTTPSConnectionPool(host='moscow.sci-hub.se', port=443): Max retries exceeded with url: /4477/dc943e0be7c06ae16689ca260a5253fe/umentani2015.pdf (Caused by SSLError(SSLEOFError(8, 'EOF occurred in violation of protocol (_ssl.c:997)')))\n",
      "Failed to download file: HTTPSConnectionPool(host='moscow.sci-hub.se', port=443): Max retries exceeded with url: /2392/37205332e8c943a02c10fb56f5b2a1fb/schultzberg1980.pdf (Caused by SSLError(SSLEOFError(8, 'EOF occurred in violation of protocol (_ssl.c:997)')))\n",
      "Failed to download file: HTTPSConnectionPool(host='zero.sci-hub.se', port=443): Max retries exceeded with url: /2650/f254793e7b26a03e8651f43474aba7c4/zhiyuchen2006.pdf (Caused by SSLError(SSLEOFError(8, 'EOF occurred in violation of protocol (_ssl.c:997)')))\n",
      "Failed to download file: HTTPSConnectionPool(host='moscow.sci-hub.se', port=443): Max retries exceeded with url: /1315/f6fc259f09a776e49f79fa3c1121fe4a/mccrae2009.pdf (Caused by SSLError(SSLEOFError(8, 'EOF occurred in violation of protocol (_ssl.c:997)')))\n",
      "Failed to download file: HTTPSConnectionPool(host='moscow.sci-hub.se', port=443): Max retries exceeded with url: /740/2cc4628bc3689d21e3b4a24de57e79d7/roberts2007.pdf (Caused by SSLError(SSLEOFError(8, 'EOF occurred in violation of protocol (_ssl.c:997)')))\n",
      "Failed to download file: HTTPSConnectionPool(host='moscow.sci-hub.se', port=443): Max retries exceeded with url: /2188/73c527bdec3aa543d456a7aaf42910a9/10.1145@2461912.2461996.pdf (Caused by SSLError(SSLEOFError(8, 'EOF occurred in violation of protocol (_ssl.c:997)')))\n",
      "Failed to download file: HTTPSConnectionPool(host='zero.sci-hub.se', port=443): Max retries exceeded with url: /355/f31a6dc80ffa526a956a92d8061e6f11/debruyne2008.pdf (Caused by SSLError(SSLEOFError(8, 'EOF occurred in violation of protocol (_ssl.c:997)')))\n",
      "Failed to download file: HTTPSConnectionPool(host='moscow.sci-hub.se', port=443): Max retries exceeded with url: /1822/e14204c28a2140ea133fb14864f31407/tordoff2005.pdf (Caused by SSLError(SSLEOFError(8, 'EOF occurred in violation of protocol (_ssl.c:997)')))\n",
      "Failed to download file: HTTPSConnectionPool(host='zero.sci-hub.se', port=443): Max retries exceeded with url: /6037/01975e0d2bce7597bbc0dfd0e852e68f/zou2014.pdf (Caused by SSLError(SSLEOFError(8, 'EOF occurred in violation of protocol (_ssl.c:997)')))\n",
      "Failed to download file: HTTPSConnectionPool(host='moscow.sci-hub.se', port=443): Max retries exceeded with url: /1853/fe438205794a6ecf0b113452c6954245/chen2004.pdf (Caused by SSLError(SSLEOFError(8, 'EOF occurred in violation of protocol (_ssl.c:997)')))\n",
      "Failed to download file: HTTPSConnectionPool(host='zero.sci-hub.se', port=443): Max retries exceeded with url: /4201/c2ba3f9fac0b159d751e97a3a024390f/chetelat2010.pdf (Caused by SSLError(SSLEOFError(8, 'EOF occurred in violation of protocol (_ssl.c:997)')))\n",
      "Failed to download file: Invalid URL 'http:/downloads/2019-01-19//aa/chiang2018.pdf#navpanes=0&view=FitH': No host supplied\n",
      "Failed to download file: HTTPSConnectionPool(host='moscow.sci-hub.se', port=443): Max retries exceeded with url: /1823/93a29988e7b6f1dbbeab529d7cd6b46d/clarenz2004.pdf (Caused by SSLError(SSLEOFError(8, 'EOF occurred in violation of protocol (_ssl.c:997)')))\n",
      "Failed to download file: Invalid URL 'http:/downloads/2021-06-13/c4/cherchi2020.pdf#navpanes=0&view=FitH': No host supplied\n",
      "Failed to download file: HTTPSConnectionPool(host='zero.sci-hub.se', port=443): Max retries exceeded with url: /1661/2f8b2eed85e798c33b9bc2d183a5feec/quynh2012.pdf (Caused by SSLError(SSLEOFError(8, 'EOF occurred in violation of protocol (_ssl.c:997)')))\n",
      "Failed to download file: HTTPSConnectionPool(host='moscow.sci-hub.se', port=443): Max retries exceeded with url: /188/2a73b0f0f7fa7497aa4bc056209330cf/mischaikow2001.pdf (Caused by SSLError(SSLEOFError(8, 'EOF occurred in violation of protocol (_ssl.c:997)')))\n",
      "Failed to download file: HTTPSConnectionPool(host='zero.sci-hub.se', port=443): Max retries exceeded with url: /3774/597906be685d649881a062c023e6d778/dohlman2015.pdf (Caused by SSLError(SSLEOFError(8, 'EOF occurred in violation of protocol (_ssl.c:997)')))\n",
      "Failed to download file: ('Connection aborted.', ConnectionResetError(54, 'Connection reset by peer'))\n",
      "Failed to download file: ('Connection aborted.', ConnectionResetError(54, 'Connection reset by peer'))\n",
      "Failed to download file: HTTPSConnectionPool(host='zero.sci-hub.se', port=443): Max retries exceeded with url: /3645/acd990136f05c9fc207864b4e371edac/kongfengzhu2015.pdf (Caused by SSLError(SSLEOFError(8, 'EOF occurred in violation of protocol (_ssl.c:997)')))\n",
      "Failed to download file: HTTPSConnectionPool(host='zero.sci-hub.se', port=443): Max retries exceeded with url: /3100/14c404343d97bf522cade834f843c3a2/10.1111@cgf.12280.pdf (Caused by SSLError(SSLEOFError(8, 'EOF occurred in violation of protocol (_ssl.c:997)')))\n",
      "Failed to download file: HTTPSConnectionPool(host='moscow.sci-hub.se', port=443): Max retries exceeded with url: /1448/9e2cf144db0274db3c9206384fda2cd1/kagaya2011.pdf (Caused by SSLError(SSLEOFError(8, 'EOF occurred in violation of protocol (_ssl.c:997)')))\n",
      "Failed to download file: HTTPSConnectionPool(host='moscow.sci-hub.se', port=443): Max retries exceeded with url: /595/c537fff33b26362fed6172a4b448069d/gugnani1978.pdf (Caused by SSLError(SSLEOFError(8, 'EOF occurred in violation of protocol (_ssl.c:997)')))\n",
      "Failed to download file: HTTPSConnectionPool(host='moscow.sci-hub.se', port=443): Max retries exceeded with url: /1292/2b8071ba1b4f3419cb50d724574e0c36/rosin1989.pdf (Caused by SSLError(SSLEOFError(8, 'EOF occurred in violation of protocol (_ssl.c:997)')))\n",
      "Failed to download file: HTTPSConnectionPool(host='moscow.sci-hub.se', port=443): Max retries exceeded with url: /1639/79c75aaa13bd84f915fc095a572460b5/wood2006.pdf (Caused by SSLError(SSLEOFError(8, 'EOF occurred in violation of protocol (_ssl.c:997)')))\n",
      "Failed to download file: HTTPSConnectionPool(host='zero.sci-hub.se', port=443): Max retries exceeded with url: /1823/a0304d47031d7ed17fde072b43b45c8e/weinkauf2007.pdf (Caused by SSLError(SSLEOFError(8, 'EOF occurred in violation of protocol (_ssl.c:997)')))\n",
      "Failed to download file: HTTPSConnectionPool(host='zero.sci-hub.se', port=443): Max retries exceeded with url: /3135/5f6a551c94e261c1f4651b1343f12601/qingzhang2014.pdf (Caused by SSLError(SSLEOFError(8, 'EOF occurred in violation of protocol (_ssl.c:997)')))\n",
      "Failed to download file: Invalid URL 'http:/downloads/2019-01-29//e3/shao2012.pdf#navpanes=0&view=FitH': No host supplied\n",
      "Failed to download file: Invalid URL 'http:/downloads/2019-02-13/0e/integration-of-multiview-stereo-and-silhouettes-via-convex-funct.pdf#navpanes=0&view=FitH': No host supplied\n",
      "Failed to download file: ('Connection aborted.', ConnectionResetError(54, 'Connection reset by peer'))\n",
      "Failed to download file: HTTPSConnectionPool(host='zero.sci-hub.se', port=443): Max retries exceeded with url: /373/e7344a6c9e820354423bcc3f69bef081/andreopoulos2008.pdf (Caused by SSLError(SSLEOFError(8, 'EOF occurred in violation of protocol (_ssl.c:997)')))\n",
      "Failed to download file: Invalid URL 'http:/downloads/2019-03-19/68/10.1109@TMI.2019.2903562.pdf#navpanes=0&view=FitH': No host supplied\n",
      "Failed to download file: HTTPSConnectionPool(host='zero.sci-hub.se', port=443): Max retries exceeded with url: /6239/e34dbff854b0031c332587025a76034e/kiefer2017.pdf (Caused by SSLError(SSLEOFError(8, 'EOF occurred in violation of protocol (_ssl.c:997)')))\n",
      "Failed to download file: HTTPSConnectionPool(host='moscow.sci-hub.se', port=443): Max retries exceeded with url: /3669/902ad5881489acb9493719d063e073f8/regelink2015.pdf (Caused by SSLError(SSLEOFError(8, 'EOF occurred in violation of protocol (_ssl.c:997)')))\n",
      "Failed to download file: HTTPSConnectionPool(host='moscow.sci-hub.se', port=443): Max retries exceeded with url: /2546/365e3fedb817872d6c3948088801b86e/decarvalhofilho2014.pdf (Caused by SSLError(SSLEOFError(8, 'EOF occurred in violation of protocol (_ssl.c:997)')))\n",
      "Failed to download file: HTTPSConnectionPool(host='zero.sci-hub.se', port=443): Max retries exceeded with url: /7136/3acc1c7bb374b7cc041caa1faccfa7f0/sodhro2018.pdf (Caused by SSLError(SSLEOFError(8, 'EOF occurred in violation of protocol (_ssl.c:997)')))\n",
      "Failed to download file: HTTPSConnectionPool(host='zero.sci-hub.se', port=443): Max retries exceeded with url: /6390/0d62bb5044864f5af0a1f2c2d83f32e4/matsui2016.pdf (Caused by SSLError(SSLEOFError(8, 'EOF occurred in violation of protocol (_ssl.c:997)')))\n",
      "Failed to download file: HTTPSConnectionPool(host='moscow.sci-hub.se', port=443): Max retries exceeded with url: /2661/1a8432aa4b850673c716d417ea0e5c0b/laga2014.pdf (Caused by SSLError(SSLEOFError(8, 'EOF occurred in violation of protocol (_ssl.c:997)')))\n",
      "Failed to download file: Invalid URL 'http:/downloads/2019-04-09/8e/wald2006.pdf#navpanes=0&view=FitH': No host supplied\n"
     ]
    },
    {
     "name": "stderr",
     "output_type": "stream",
     "text": [
      " 68%|██████▊   | 8049/11877 [24:45<02:02, 31.36it/s]  "
     ]
    },
    {
     "name": "stdout",
     "output_type": "stream",
     "text": [
      "Failed to download file: HTTPSConnectionPool(host='moscow.sci-hub.se', port=443): Max retries exceeded with url: /5202/0682100231b6bf77db7f35400fd3b61e/clements2011.pdf (Caused by SSLError(SSLEOFError(8, 'EOF occurred in violation of protocol (_ssl.c:997)')))\n",
      "Failed to download file: HTTPSConnectionPool(host='moscow.sci-hub.se', port=443): Max retries exceeded with url: /3626/e12dc794ece0f9a424c86e332965cade/10.1007@978-3-540-69387-113.pdf (Caused by SSLError(SSLEOFError(8, 'EOF occurred in violation of protocol (_ssl.c:997)')))\n",
      "Failed to download file: Invalid URL 'http:/downloads/2019-03-28/e5/10.1038@s41375-019-0425-9.pdf#navpanes=0&view=FitH': No host supplied\n",
      "Failed to download file: Invalid URL 'http:/downloads/2020-05-07/06/liu2020.pdf#navpanes=0&view=FitH': No host supplied\n",
      "Failed to download file: Invalid URL 'http:/downloads/2022-11-11/e7/zhu2021.pdf#navpanes=0&view=FitH': No host supplied\n",
      "Failed to download file: Invalid URL 'http:/uptodate/S104732032100153X.pdf#navpanes=0&view=FitH': No host supplied\n",
      "Failed to download file: HTTPSConnectionPool(host='moscow.sci-hub.se', port=443): Max retries exceeded with url: /3281/9e00440f785d5274a9acabc9d460f7c3/pettorino2013.pdf (Caused by SSLError(SSLEOFError(8, 'EOF occurred in violation of protocol (_ssl.c:997)')))\n",
      "Failed to download file: HTTPSConnectionPool(host='moscow.sci-hub.se', port=443): Max retries exceeded with url: /2149/9182e8881fb878717afb8364be08743d/kohlberger2012.pdf (Caused by SSLError(SSLEOFError(8, 'EOF occurred in violation of protocol (_ssl.c:997)')))\n",
      "Failed to download file: HTTPSConnectionPool(host='moscow.sci-hub.se', port=443): Max retries exceeded with url: /4338/5eb7e502abd9f829d8fc2cc30321562f/sapidis1995.pdf (Caused by SSLError(SSLEOFError(8, 'EOF occurred in violation of protocol (_ssl.c:997)')))\n",
      "Failed to download file: HTTPSConnectionPool(host='zero.sci-hub.se', port=443): Max retries exceeded with url: /6687/b3594ade6d50804952eb3448033c8b5e/akhtar2018.pdf (Caused by SSLError(SSLEOFError(8, 'EOF occurred in violation of protocol (_ssl.c:997)')))\n",
      "Failed to download file: Invalid URL 'http:/downloads/2019-01-19//03/10.1109@ACCESS.2019.2891579.pdf#navpanes=0&view=FitH': No host supplied\n",
      "Failed to download file: HTTPSConnectionPool(host='zero.sci-hub.se', port=443): Max retries exceeded with url: /1507/e3c60bf361b953d59a69bc2dc0ab7ccd/lindow2012.pdf (Caused by SSLError(SSLEOFError(8, 'EOF occurred in violation of protocol (_ssl.c:997)')))\n",
      "Failed to download file: HTTPSConnectionPool(host='zero.sci-hub.se', port=443): Max retries exceeded with url: /1362/5007a5be69b7ad8522411e93b367055f/kufareva2011.pdf (Caused by SSLError(SSLEOFError(8, 'EOF occurred in violation of protocol (_ssl.c:997)')))\n",
      "Failed to download file: Invalid URL 'http:/downloads/2020-09-07/e7/10.1371@journal.pbio.3000866.pdf#navpanes=0&view=FitH': No host supplied\n",
      "Failed to download file: HTTPSConnectionPool(host='zero.sci-hub.se', port=443): Max retries exceeded with url: /6668/ca92d54c0e2b60d9373d58a51f3b11d8/gong2013.pdf (Caused by SSLError(SSLEOFError(8, 'EOF occurred in violation of protocol (_ssl.c:997)')))\n",
      "Failed to download file: HTTPSConnectionPool(host='moscow.sci-hub.se', port=443): Max retries exceeded with url: /764/04d8c7d1dd169931c9cddb11c83209c8/tsumura1999.pdf (Caused by SSLError(SSLEOFError(8, 'EOF occurred in violation of protocol (_ssl.c:997)')))\n",
      "Failed to download file: HTTPSConnectionPool(host='zero.sci-hub.se', port=443): Max retries exceeded with url: /3805/c8b53a71d757c26b8175c4ebe084189a/spletzer2003.pdf (Caused by SSLError(SSLEOFError(8, 'EOF occurred in violation of protocol (_ssl.c:997)')))\n",
      "Failed to download file: HTTPSConnectionPool(host='zero.sci-hub.se', port=443): Max retries exceeded with url: /6739/e31e0cd6979696ae5b7cc3367bf83353/babbush2018.pdf (Caused by SSLError(SSLEOFError(8, 'EOF occurred in violation of protocol (_ssl.c:997)')))\n",
      "Failed to download file: ('Connection aborted.', ConnectionResetError(54, 'Connection reset by peer'))\n",
      "Failed to download file: HTTPSConnectionPool(host='moscow.sci-hub.se', port=443): Max retries exceeded with url: /3930/64f4a624bc68c4f291388932169a1a73/badal2013.pdf (Caused by SSLError(SSLEOFError(8, 'EOF occurred in violation of protocol (_ssl.c:997)')))\n",
      "Failed to download file: HTTPSConnectionPool(host='moscow.sci-hub.se', port=443): Max retries exceeded with url: /2185/520af804b67a679125b93afb2d312a93/papanikolopoulos1993.pdf (Caused by SSLError(SSLEOFError(8, 'EOF occurred in violation of protocol (_ssl.c:997)')))\n",
      "Failed to download file: HTTPSConnectionPool(host='zero.sci-hub.se', port=443): Max retries exceeded with url: /7054/3108f4f574476661672a24f1e86141ea/brandt2018.pdf (Caused by SSLError(SSLEOFError(8, 'EOF occurred in violation of protocol (_ssl.c:997)')))\n",
      "Failed to download file: Invalid URL 'http:/downloads/2019-12-09/37/wang2019.pdf#navpanes=0&view=FitH': No host supplied\n",
      "Failed to download file: HTTPSConnectionPool(host='zero.sci-hub.se', port=443): Max retries exceeded with url: /1611/a8c61b6446c9c09ae18ef96339c60b25/jensen1995.pdf (Caused by SSLError(SSLEOFError(8, 'EOF occurred in violation of protocol (_ssl.c:997)')))\n",
      "Failed to download file: Invalid URL 'http:/downloads/2022-11-05/da/kuper-hommel2022.pdf#navpanes=0&view=FitH': No host supplied\n",
      "Failed to download file: HTTPSConnectionPool(host='zero.sci-hub.se', port=443): Max retries exceeded with url: /6865/ccac7e6a3ced3be861d6b8fb3dd9c260/sofka2017.pdf (Caused by SSLError(SSLEOFError(8, 'EOF occurred in violation of protocol (_ssl.c:997)')))\n",
      "Failed to download file: HTTPSConnectionPool(host='moscow.sci-hub.se', port=443): Max retries exceeded with url: /1435/7c40cf4a6ee06805159a72ac388a98d6/fengqingzhu2010.pdf (Caused by SSLError(SSLEOFError(8, 'EOF occurred in violation of protocol (_ssl.c:997)')))\n",
      "Failed to download file: HTTPSConnectionPool(host='zero.sci-hub.se', port=443): Max retries exceeded with url: /1648/befe37d4b6379806d9c18cbc0761ab2f/tu2011.pdf (Caused by SSLError(SSLEOFError(8, 'EOF occurred in violation of protocol (_ssl.c:997)')))\n",
      "Failed to download file: HTTPSConnectionPool(host='moscow.sci-hub.se', port=443): Max retries exceeded with url: /4316/9815477af681bb04acd6abacff7bf2bc/kliper-gross2012.pdf (Caused by SSLError(SSLEOFError(8, 'EOF occurred in violation of protocol (_ssl.c:997)')))\n",
      "Failed to download file: Invalid URL 'http:/tree/26/76/2676e19d6d5bd622b3374b7409c2a7d3.pdf#navpanes=0&view=FitH': No host supplied\n",
      "Failed to download file: HTTPSConnectionPool(host='moscow.sci-hub.se', port=443): Max retries exceeded with url: /1448/7d5e16739159c99e9690c4cfa0298a21/hiller2003.pdf (Caused by SSLError(SSLEOFError(8, 'EOF occurred in violation of protocol (_ssl.c:997)')))\n",
      "Failed to download file: HTTPSConnectionPool(host='zero.sci-hub.se', port=443): Max retries exceeded with url: /6528/f36d94e750a849d6450002eeede7b4d2/milletari2017.pdf (Caused by SSLError(SSLEOFError(8, 'EOF occurred in violation of protocol (_ssl.c:997)')))\n",
      "Failed to download file: HTTPSConnectionPool(host='zero.sci-hub.se', port=443): Max retries exceeded with url: /4489/9465e9f45325a4beff939bffdc4714de/wang2015.pdf (Caused by SSLError(SSLEOFError(8, 'EOF occurred in violation of protocol (_ssl.c:997)')))\n",
      "Failed to download file: HTTPSConnectionPool(host='zero.sci-hub.se', port=443): Max retries exceeded with url: /6733/a75980fc03427981b15ddeae124389ab/wei2018.pdf (Caused by SSLError(SSLEOFError(8, 'EOF occurred in violation of protocol (_ssl.c:997)')))\n",
      "Failed to download file: HTTPSConnectionPool(host='moscow.sci-hub.se', port=443): Max retries exceeded with url: /2681/b9c6b6b17aea13b127660a0004fb37eb/dujardin2003.pdf (Caused by SSLError(SSLEOFError(8, 'EOF occurred in violation of protocol (_ssl.c:997)')))\n",
      "Failed to download file: HTTPSConnectionPool(host='zero.sci-hub.se', port=443): Max retries exceeded with url: /683/f5ce66de279e37f0b6105c26e7fa737f/schreier2002.pdf (Caused by SSLError(SSLEOFError(8, 'EOF occurred in violation of protocol (_ssl.c:997)')))\n",
      "Failed to download file: HTTPSConnectionPool(host='moscow.sci-hub.se', port=443): Max retries exceeded with url: /544/6bc0a3231f75b286710bda52fbd41726/shatsky2004.pdf (Caused by SSLError(SSLEOFError(8, 'EOF occurred in violation of protocol (_ssl.c:997)')))\n",
      "Failed to download file: HTTPSConnectionPool(host='zero.sci-hub.se', port=443): Max retries exceeded with url: /1537/2810559c3aa6f535460d1526e2050b15/bernardini2001.pdf (Caused by SSLError(SSLEOFError(8, 'EOF occurred in violation of protocol (_ssl.c:997)')))\n",
      "Failed to download file: HTTPSConnectionPool(host='moscow.sci-hub.se', port=443): Max retries exceeded with url: /942/9a2ef7a5b43722cb461f080780716eb0/donaldson1994.pdf (Caused by SSLError(SSLEOFError(8, 'EOF occurred in violation of protocol (_ssl.c:997)')))\n",
      "Failed to download file: Invalid URL 'http:/downloads/2020-08-18/d2/xiao2020.pdf#navpanes=0&view=FitH': No host supplied\n",
      "Failed to download file: Invalid URL 'http:/downloads/2020-08-16/b5/10.1109@TMI.2020.3015379.pdf#navpanes=0&view=FitH': No host supplied\n",
      "Failed to download file: Invalid URL 'http:/downloads/2019-01-25//33/luo2017.pdf#navpanes=0&view=FitH': No host supplied\n",
      "Failed to download file: HTTPSConnectionPool(host='moscow.sci-hub.se', port=443): Max retries exceeded with url: /4453/00cbeed75e264b0f45c6510f350a3ecc/chan2015.pdf (Caused by SSLError(SSLEOFError(8, 'EOF occurred in violation of protocol (_ssl.c:997)')))\n",
      "Failed to download file: HTTPSConnectionPool(host='moscow.sci-hub.se', port=443): Max retries exceeded with url: /1866/8f5fc9665d15181c11115562e3bdf2f4/ahonen2009.pdf (Caused by SSLError(SSLEOFError(8, 'EOF occurred in violation of protocol (_ssl.c:997)')))\n",
      "Failed to download file: HTTPSConnectionPool(host='zero.sci-hub.se', port=443): Max retries exceeded with url: /1814/32fa2075b14e9a0c9f386130c4ec996b/macedonia1997.pdf (Caused by SSLError(SSLEOFError(8, 'EOF occurred in violation of protocol (_ssl.c:997)')))Failed to download file: HTTPSConnectionPool(host='zero.sci-hub.se', port=443): Max retries exceeded with url: /7049/acc4ae524cfc9ab3a196c1c429c4c0c2/zhou2018.pdf (Caused by SSLError(SSLEOFError(8, 'EOF occurred in violation of protocol (_ssl.c:997)')))\n",
      "\n",
      "Failed to download file: Invalid URL 'http:/downloads/2019-01-24//23/lang1995.pdf#navpanes=0&view=FitH': No host supplied\n",
      "Failed to download file: HTTPSConnectionPool(host='moscow.sci-hub.se', port=443): Max retries exceeded with url: /3121/8b0bf744f8d8182b5605f32688732178/anjum2008.pdf (Caused by SSLError(SSLEOFError(8, 'EOF occurred in violation of protocol (_ssl.c:997)')))\n",
      "Failed to download file: Invalid URL 'http:/downloads/2019-01-01/fd/10.1145@3272127.3275109.pdf#navpanes=0&view=FitH': No host supplied\n",
      "Failed to download file: HTTPSConnectionPool(host='zero.sci-hub.se', port=443): Max retries exceeded with url: /6034/26db228beb78477e084682cada371d27/baumeister2016.pdf (Caused by SSLError(SSLEOFError(8, 'EOF occurred in violation of protocol (_ssl.c:997)')))\n",
      "Failed to download file: HTTPSConnectionPool(host='moscow.sci-hub.se', port=443): Max retries exceeded with url: /1445/991afc312a6af8ea1aa45f1abac15d3e/yeo2010.pdf (Caused by SSLError(SSLEOFError(8, 'EOF occurred in violation of protocol (_ssl.c:997)')))\n",
      "Failed to download file: HTTPSConnectionPool(host='zero.sci-hub.se', port=443): Max retries exceeded with url: /373/861b9b2d61ff015db3869d25e82cbae0/lo2010.pdf (Caused by SSLError(SSLEOFError(8, 'EOF occurred in violation of protocol (_ssl.c:997)')))\n",
      "Failed to download file: HTTPSConnectionPool(host='zero.sci-hub.se', port=443): Max retries exceeded with url: /2083/6670f9c0ccb262a81e6d5d479e603ddc/shen2005.pdf (Caused by SSLError(SSLEOFError(8, 'EOF occurred in violation of protocol (_ssl.c:997)')))\n",
      "Failed to download file: Invalid URL 'http:/downloads/2020-05-18/d5/li2019.pdf#navpanes=0&view=FitH': No host supplied\n",
      "Failed to download file: Invalid URL 'http:/downloads/2019-02-12/02/clendenon2002.pdf#navpanes=0&view=FitH': No host supplied\n",
      "Failed to download file: HTTPSConnectionPool(host='zero.sci-hub.se', port=443): Max retries exceeded with url: /356/20aca1157baf743c09b02ade432f341f/caballero2005.pdf (Caused by SSLError(SSLEOFError(8, 'EOF occurred in violation of protocol (_ssl.c:997)')))\n",
      "Failed to download file: Invalid URL 'http:/downloads/2019-10-10/99/10.1007@978-3-030-32248-9.pdf#navpanes=0&view=FitH': No host supplied\n",
      "Failed to download file: HTTPSConnectionPool(host='zero.sci-hub.se', port=443): Max retries exceeded with url: /394/f1b2a7092d83d064b78309aa712db7db/kim2009.pdf (Caused by SSLError(SSLEOFError(8, 'EOF occurred in violation of protocol (_ssl.c:997)')))\n",
      "Failed to download file: HTTPSConnectionPool(host='zero.sci-hub.se', port=443): Max retries exceeded with url: /3028/56edab416f6f20e72bddbd10f9faaeaf/10.1016@j.asoc.2014.09.030.pdf (Caused by SSLError(SSLEOFError(8, 'EOF occurred in violation of protocol (_ssl.c:997)')))\n",
      "Failed to download file: HTTPSConnectionPool(host='moscow.sci-hub.se', port=443): Max retries exceeded with url: /3034/7535df04b92c9558842fc484fdea1fb0/schreckenghost2010.pdf (Caused by SSLError(SSLEOFError(8, 'EOF occurred in violation of protocol (_ssl.c:997)')))\n",
      "Failed to download file: HTTPSConnectionPool(host='moscow.sci-hub.se', port=443): Max retries exceeded with url: /1893/200d743f8d4a3a2786ed98ade2a16d8e/fischl2004.pdf (Caused by SSLError(SSLEOFError(8, 'EOF occurred in violation of protocol (_ssl.c:997)')))\n",
      "Failed to download file: HTTPSConnectionPool(host='moscow.sci-hub.se', port=443): Max retries exceeded with url: /3347/d281e02c0539f7dda9a914380d4bba6d/bolkart2015.pdf (Caused by SSLError(SSLEOFError(8, 'EOF occurred in violation of protocol (_ssl.c:997)')))\n",
      "Failed to download file: HTTPSConnectionPool(host='moscow.sci-hub.se', port=443): Max retries exceeded with url: /2274/865a453537cfb775b78a552aaaa8a96d/lagae2006.pdf (Caused by SSLError(SSLEOFError(8, 'EOF occurred in violation of protocol (_ssl.c:997)')))\n",
      "Failed to download file: HTTPSConnectionPool(host='moscow.sci-hub.se', port=443): Max retries exceeded with url: /942/a12b0b2421a877a8b81100e89117a0e4/papas2011.pdf (Caused by SSLError(SSLEOFError(8, 'EOF occurred in violation of protocol (_ssl.c:997)')))\n",
      "Failed to download file: HTTPSConnectionPool(host='zero.sci-hub.se', port=443): Max retries exceeded with url: /4070/135ddf17e3b5330237b6629619ce6952/simari2014.pdf (Caused by SSLError(SSLEOFError(8, 'EOF occurred in violation of protocol (_ssl.c:997)')))\n",
      "Failed to download file: HTTPSConnectionPool(host='zero.sci-hub.se', port=443): Max retries exceeded with url: /2259/683b745aa7e7855c908dce89b47801fb/hansen1994.pdf (Caused by SSLError(SSLEOFError(8, 'EOF occurred in violation of protocol (_ssl.c:997)')))\n",
      "Failed to download file: HTTPSConnectionPool(host='zero.sci-hub.se', port=443): Max retries exceeded with url: /1822/8ad5c0a3e1243840af4549a85db26eda/jianxinwu2011.pdf (Caused by SSLError(SSLEOFError(8, 'EOF occurred in violation of protocol (_ssl.c:997)')))\n",
      "Failed to download file: HTTPSConnectionPool(host='moscow.sci-hub.se', port=443): Max retries exceeded with url: /3976/0374b6473a0b0f3c87788785a159caf6/ware2002.pdf (Caused by SSLError(SSLEOFError(8, 'EOF occurred in violation of protocol (_ssl.c:997)')))\n",
      "Failed to download file: HTTPSConnectionPool(host='zero.sci-hub.se', port=443): Max retries exceeded with url: /7000/f2bbef9bdf8ff12048bbeb78fb2b79b1/bonaventura2018.pdf (Caused by SSLError(SSLEOFError(8, 'EOF occurred in violation of protocol (_ssl.c:997)')))\n",
      "Failed to download file: HTTPSConnectionPool(host='moscow.sci-hub.se', port=443): Max retries exceeded with url: /1817/99a78f805870504d8fd36f5fc2a81754/ternier2009.pdf (Caused by SSLError(SSLEOFError(8, 'EOF occurred in violation of protocol (_ssl.c:997)')))\n",
      "Failed to download file: HTTPSConnectionPool(host='moscow.sci-hub.se', port=443): Max retries exceeded with url: /3820/ff6899d434659ff9809562993dddb6b9/vanroyen2004.pdf (Caused by SSLError(SSLEOFError(8, 'EOF occurred in violation of protocol (_ssl.c:997)')))\n",
      "Failed to download file: Invalid URL 'http:/downloads/2019-04-26/4d/efficient-shape-matching-via-graph-cuts.pdf#navpanes=0&view=FitH': No host supplied\n",
      "Failed to download file: Invalid URL 'http:/downloads/2019-01-19//0e/zhan2018.pdf#navpanes=0&view=FitH': No host supplied\n",
      "Failed to download file: HTTPSConnectionPool(host='moscow.sci-hub.se', port=443): Max retries exceeded with url: /4892/be43739abf23dd89a21f94f5d7b0a4ae/karam2015.pdf (Caused by SSLError(SSLEOFError(8, 'EOF occurred in violation of protocol (_ssl.c:997)')))\n",
      "Failed to download file: HTTPSConnectionPool(host='zero.sci-hub.se', port=443): Max retries exceeded with url: /3585/14b7a675f29a22f35d7c53b57ed2686d/zhang2011.pdf (Caused by SSLError(SSLEOFError(8, 'EOF occurred in violation of protocol (_ssl.c:997)')))\n",
      "Failed to download file: ('Connection aborted.', ConnectionResetError(54, 'Connection reset by peer'))\n",
      "Failed to download file: HTTPSConnectionPool(host='moscow.sci-hub.se', port=443): Max retries exceeded with url: /338/20305f8494365e3edc77ad5cb4a3b1b1/stamati2005.pdf (Caused by SSLError(SSLEOFError(8, 'EOF occurred in violation of protocol (_ssl.c:997)')))\n",
      "Failed to download file: HTTPSConnectionPool(host='moscow.sci-hub.se', port=443): Max retries exceeded with url: /1438/ec6fbfab6f742e01d0d749570f25222c/busso2007.pdf (Caused by SSLError(SSLEOFError(8, 'EOF occurred in violation of protocol (_ssl.c:997)')))\n",
      "Failed to download file: HTTPSConnectionPool(host='zero.sci-hub.se', port=443): Max retries exceeded with url: /2263/f4f51a5272dc85ed11e2c5704ebe3578/mao2003.pdf (Caused by SSLError(SSLEOFError(8, 'EOF occurred in violation of protocol (_ssl.c:997)')))Failed to download file: HTTPSConnectionPool(host='zero.sci-hub.se', port=443): Max retries exceeded with url: /1928/86ca29227e65ff1ca94a7139160b8c4e/cappello2012.pdf (Caused by SSLError(SSLEOFError(8, 'EOF occurred in violation of protocol (_ssl.c:997)')))\n",
      "\n",
      "Failed to download file: Invalid URL 'http:/tree/ef/84/ef84dd81ae4a6c183b87a49cb4c503c4.pdf#navpanes=0&view=FitH': No host supplied\n",
      "Failed to download file: HTTPSConnectionPool(host='moscow.sci-hub.se', port=443): Max retries exceeded with url: /722/1667c75f8e04f48ef8dc1e11e2b98aa6/benedetti2010.pdf (Caused by SSLError(SSLEOFError(8, 'EOF occurred in violation of protocol (_ssl.c:997)')))\n",
      "Failed to download file: HTTPSConnectionPool(host='zero.sci-hub.se', port=443): Max retries exceeded with url: /3220/224c1e142ca636bc26e222458f75df8b/bouaziz2013.pdf (Caused by SSLError(SSLEOFError(8, 'EOF occurred in violation of protocol (_ssl.c:997)')))\n",
      "Failed to download file: HTTPSConnectionPool(host='moscow.sci-hub.se', port=443): Max retries exceeded with url: /1813/959f87088e4e81493bbadcdd235157f8/funt1995.pdf (Caused by SSLError(SSLEOFError(8, 'EOF occurred in violation of protocol (_ssl.c:997)')))\n",
      "Failed to download file: HTTPSConnectionPool(host='moscow.sci-hub.se', port=443): Max retries exceeded with url: /3857/05ca6cdfb933d442365c6af51abf49b0/green2015.pdf (Caused by SSLError(SSLEOFError(8, 'EOF occurred in violation of protocol (_ssl.c:997)')))\n",
      "Failed to download file: HTTPSConnectionPool(host='moscow.sci-hub.se', port=443): Max retries exceeded with url: /4009/ad93b0d844f54cbf7996b8abc03157f2/gaddour2015.pdf (Caused by SSLError(SSLEOFError(8, 'EOF occurred in violation of protocol (_ssl.c:997)')))\n",
      "Failed to download file: HTTPSConnectionPool(host='zero.sci-hub.se', port=443): Max retries exceeded with url: /5543/105f4a5caaf3039cf5b71220f98d4bb8/hjaltason1998.pdf (Caused by SSLError(SSLEOFError(8, 'EOF occurred in violation of protocol (_ssl.c:997)')))\n",
      "Failed to download file: HTTPSConnectionPool(host='zero.sci-hub.se', port=443): Max retries exceeded with url: /1823/4521dfe6c17a45fc87ddb4a7ad68dbe0/knoll2009.pdf (Caused by SSLError(SSLEOFError(8, 'EOF occurred in violation of protocol (_ssl.c:997)')))\n",
      "Failed to download file: HTTPSConnectionPool(host='moscow.sci-hub.se', port=443): Max retries exceeded with url: /1445/23f375aaf3f298e76a42b56635c72589/lam2010.pdf (Caused by SSLError(SSLEOFError(8, 'EOF occurred in violation of protocol (_ssl.c:997)')))\n",
      "Failed to download file: HTTPSConnectionPool(host='moscow.sci-hub.se', port=443): Max retries exceeded with url: /1822/1dc133538f964534a8236cba05d55a68/wilson2005.pdf (Caused by SSLError(SSLEOFError(8, 'EOF occurred in violation of protocol (_ssl.c:997)')))\n",
      "Failed to download file: Invalid URL 'http:/downloads/2021-05-14//2a/zou2021.pdf#navpanes=0&view=FitH': No host supplied\n",
      "Failed to download file: ('Connection aborted.', ConnectionResetError(54, 'Connection reset by peer'))\n",
      "Failed to download file: HTTPSConnectionPool(host='zero.sci-hub.se', port=443): Max retries exceeded with url: /2183/2e0eb69b440965d923d450208c72bc1c/ren2013.pdf (Caused by SSLError(SSLEOFError(8, 'EOF occurred in violation of protocol (_ssl.c:997)')))\n",
      "Failed to download file: HTTPSConnectionPool(host='moscow.sci-hub.se', port=443): Max retries exceeded with url: /4598/f03fcbe3f7dfc319e5c9cc6a449454a6/abdulnabi2015.pdf (Caused by SSLError(SSLEOFError(8, 'EOF occurred in violation of protocol (_ssl.c:997)')))\n",
      "Failed to download file: Invalid URL 'http:/downloads/2021-06-15/3b/li2016.pdf#navpanes=0&view=FitH': No host supplied\n",
      "Failed to download file: HTTPSConnectionPool(host='zero.sci-hub.se', port=443): Max retries exceeded with url: /6363/9b1529a70f3ab53958e5726c7f8552cd/livesu2017.pdf (Caused by SSLError(SSLEOFError(8, 'EOF occurred in violation of protocol (_ssl.c:997)')))\n",
      "Failed to download file: HTTPSConnectionPool(host='moscow.sci-hub.se', port=443): Max retries exceeded with url: /4299/bbf732eb5f1d7b1bd2b3d71a37baa8e2/zheng2015.pdf (Caused by SSLError(SSLEOFError(8, 'EOF occurred in violation of protocol (_ssl.c:997)')))\n"
     ]
    },
    {
     "name": "stderr",
     "output_type": "stream",
     "text": [
      " 69%|██████▉   | 8169/11877 [24:52<02:20, 26.45it/s]"
     ]
    },
    {
     "name": "stdout",
     "output_type": "stream",
     "text": [
      "Failed to download file: Invalid URL 'http:/downloads/2019-07-30/4d/10.1016@j.eswa.2019.112842.pdf#navpanes=0&view=FitH': No host supplied\n",
      "Failed to download file: HTTPSConnectionPool(host='zero.sci-hub.se', port=443): Max retries exceeded with url: /5140/a2618884ea26d0255ee42423a6e2249d/gupta2015.pdf (Caused by SSLError(SSLEOFError(8, 'EOF occurred in violation of protocol (_ssl.c:997)')))\n",
      "Failed to download file: HTTPSConnectionPool(host='zero.sci-hub.se', port=443): Max retries exceeded with url: /2114/9ac257e7a5443bc7fde8954e8bcca339/initial-and-boundary-conditions-for-lattice-boltzmann-method-2013.pdf (Caused by SSLError(SSLEOFError(8, 'EOF occurred in violation of protocol (_ssl.c:997)')))\n",
      "Failed to download file: HTTPSConnectionPool(host='moscow.sci-hub.se', port=443): Max retries exceeded with url: /4137/6b662d631754264ea94bafab2b748887/cai2003.pdf (Caused by SSLError(SSLEOFError(8, 'EOF occurred in violation of protocol (_ssl.c:997)')))\n",
      "Failed to download file: Invalid URL 'http:/downloads/2021-06-09/a7/vasilache2019.pdf#navpanes=0&view=FitH': No host supplied\n",
      "Failed to download file: Invalid URL 'http:/downloads/2019-07-17/87/10.1145@3309665.pdf#navpanes=0&view=FitH': No host supplied\n",
      "Failed to download file: Invalid URL 'http:/downloads/2021-06-11/a3/shi2020.pdf#navpanes=0&view=FitH': No host supplied\n",
      "Failed to download file: Invalid URL 'http:/downloads/2020-10-20//d9/liang2020.pdf#navpanes=0&view=FitH': No host supplied\n",
      "Failed to download file: Invalid URL 'http:/tree/9e/a4/9ea4f56b8f5636588bb6a1f3915eb642.pdf#navpanes=0&view=FitH': No host supplied\n",
      "Failed to download file: HTTPSConnectionPool(host='moscow.sci-hub.se', port=443): Max retries exceeded with url: /4546/93e5a8c7dfda55a64522c2b67c8f9894/carneiro2015.pdf (Caused by SSLError(SSLEOFError(8, 'EOF occurred in violation of protocol (_ssl.c:997)')))\n",
      "Failed to download file: HTTPSConnectionPool(host='moscow.sci-hub.se', port=443): Max retries exceeded with url: /3812/95d762f5614db6268263178839003942/bernardon2006.pdf (Caused by SSLError(SSLEOFError(8, 'EOF occurred in violation of protocol (_ssl.c:997)')))\n",
      "Failed to download file: Invalid URL 'http:/downloads/2021-06-04/f0/ghulyani2020.pdf#navpanes=0&view=FitH': No host supplied\n",
      "Failed to download file: HTTPSConnectionPool(host='zero.sci-hub.se', port=443): Max retries exceeded with url: /942/2d658eb80f3995bb2d612d91ef3f3403/jacobson2010.pdf (Caused by SSLError(SSLEOFError(8, 'EOF occurred in violation of protocol (_ssl.c:997)')))\n",
      "Failed to download file: HTTPSConnectionPool(host='moscow.sci-hub.se', port=443): Max retries exceeded with url: /3236/9d5008f8ef212c4649fd55e5f638022c/ron-harel2008.pdf (Caused by SSLError(SSLEOFError(8, 'EOF occurred in violation of protocol (_ssl.c:997)')))\n",
      "Failed to download file: HTTPSConnectionPool(host='zero.sci-hub.se', port=443): Max retries exceeded with url: /5799/b3e6db6dff3ec56aa8e49988aaf467a9/lyon2016.pdf (Caused by SSLError(SSLEOFError(8, 'EOF occurred in violation of protocol (_ssl.c:997)')))\n",
      "Failed to download file: HTTPSConnectionPool(host='moscow.sci-hub.se', port=443): Max retries exceeded with url: /5392/d1d1481e3816b9045c9befb7e779f064/zhang2016.pdf (Caused by SSLError(SSLEOFError(8, 'EOF occurred in violation of protocol (_ssl.c:997)')))\n",
      "Failed to download file: Invalid URL 'http:/downloads/2019-11-29/3e/gao2019.pdf#navpanes=0&view=FitH': No host supplied\n",
      "Failed to download file: HTTPSConnectionPool(host='moscow.sci-hub.se', port=443): Max retries exceeded with url: /4238/5d21f3017e7dd21591cab78ee2e05195/venkatesh2007.pdf (Caused by SSLError(SSLEOFError(8, 'EOF occurred in violation of protocol (_ssl.c:997)')))\n",
      "Failed to download file: HTTPSConnectionPool(host='moscow.sci-hub.se', port=443): Max retries exceeded with url: /3891/3a476545fd627c5a3d9af6f992d0bc24/prusinkiewicz2009.pdf (Caused by SSLError(SSLEOFError(8, 'EOF occurred in violation of protocol (_ssl.c:997)')))\n",
      "Failed to download file: HTTPSConnectionPool(host='moscow.sci-hub.se', port=443): Max retries exceeded with url: /2167/c3d903fb7d2838721ebebaf628d99e8b/sheffer2005.pdf (Caused by SSLError(SSLEOFError(8, 'EOF occurred in violation of protocol (_ssl.c:997)')))\n",
      "Failed to download file: HTTPSConnectionPool(host='moscow.sci-hub.se', port=443): Max retries exceeded with url: /2104/688c05228a069bf8948c75cf779e8a78/lloyd2012.pdf (Caused by SSLError(SSLEOFError(8, 'EOF occurred in violation of protocol (_ssl.c:997)')))\n",
      "Failed to download file: HTTPSConnectionPool(host='moscow.sci-hub.se', port=443): Max retries exceeded with url: /2155/c330ca5822bee833bb460a5661db3cc4/bonev2013.pdf (Caused by SSLError(SSLEOFError(8, 'EOF occurred in violation of protocol (_ssl.c:997)')))\n",
      "Failed to download file: HTTPSConnectionPool(host='moscow.sci-hub.se', port=443): Max retries exceeded with url: /3937/87194449a9677d32a1bcc193e36342a7/jack2015.pdf (Caused by SSLError(SSLEOFError(8, 'EOF occurred in violation of protocol (_ssl.c:997)')))\n",
      "Failed to download file: HTTPSConnectionPool(host='moscow.sci-hub.se', port=443): Max retries exceeded with url: /941/d1cbe055700f694280999ca8326c098a/ji2006.pdf (Caused by SSLError(SSLEOFError(8, 'EOF occurred in violation of protocol (_ssl.c:997)')))\n",
      "Failed to download file: Invalid URL 'http:/tree/75/15/75156835e6ded1538d1317f2790bbc4b.pdf#navpanes=0&view=FitH': No host supplied\n",
      "Failed to download file: HTTPSConnectionPool(host='zero.sci-hub.se', port=443): Max retries exceeded with url: /1813/8e43d0712b8697c575713bd1b328d677/taubin1991.pdf (Caused by SSLError(SSLEOFError(8, 'EOF occurred in violation of protocol (_ssl.c:997)')))\n",
      "Failed to download file: HTTPSConnectionPool(host='moscow.sci-hub.se', port=443): Max retries exceeded with url: /625/a6ca6c70aa6ace62c2a59a5bb4b81991/gupta1997.pdf (Caused by SSLError(SSLEOFError(8, 'EOF occurred in violation of protocol (_ssl.c:997)')))\n",
      "Failed to download file: Invalid URL 'http:/downloads/2019-07-13/ce/sun2018.pdf#navpanes=0&view=FitH': No host supplied\n",
      "Failed to download file: HTTPSConnectionPool(host='moscow.sci-hub.se', port=443): Max retries exceeded with url: /5327/efd1d65eef2a11f08fbb4ecc6fd57ca8/gupta2007.pdf (Caused by SSLError(SSLEOFError(8, 'EOF occurred in violation of protocol (_ssl.c:997)')))\n",
      "Failed to download file: Invalid URL 'http:/downloads/2022-11-10/2c/song2022.pdf#navpanes=0&view=FitH': No host supplied\n",
      "Failed to download file: HTTPSConnectionPool(host='moscow.sci-hub.se', port=443): Max retries exceeded with url: /4082/52bd644ef06b9c594c30c2580e8a0da0/oh2011.pdf (Caused by SSLError(SSLEOFError(8, 'EOF occurred in violation of protocol (_ssl.c:997)')))\n",
      "Failed to download file: Invalid URL 'http:/tree/17/3d/173d71d14c7efde3221a4b14f6010b9f.pdf#navpanes=0&view=FitH': No host supplied\n",
      "Failed to download file: HTTPSConnectionPool(host='moscow.sci-hub.se', port=443): Max retries exceeded with url: /3138/ca6ef60730923192f26ced282d4fa418/jain2012.pdf (Caused by SSLError(SSLEOFError(8, 'EOF occurred in violation of protocol (_ssl.c:997)')))\n",
      "Failed to download file: HTTPSConnectionPool(host='moscow.sci-hub.se', port=443): Max retries exceeded with url: /887/8f645168b0c1915bd0e2881056096bf4/goodman1998.pdf (Caused by SSLError(SSLEOFError(8, 'EOF occurred in violation of protocol (_ssl.c:997)')))\n",
      "Failed to download file: HTTPSConnectionPool(host='zero.sci-hub.se', port=443): Max retries exceeded with url: /7156/303a37963a61d2c3e6dd0879e2b1fe06/10.3390@s17020244.pdf (Caused by SSLError(SSLEOFError(8, 'EOF occurred in violation of protocol (_ssl.c:997)')))\n",
      "Failed to download file: HTTPSConnectionPool(host='moscow.sci-hub.se', port=443): Max retries exceeded with url: /4426/459ee105d67bf695afa0f2d5707b50d2/femiani2015.pdf (Caused by SSLError(SSLEOFError(8, 'EOF occurred in violation of protocol (_ssl.c:997)')))\n",
      "Failed to download file: HTTPSConnectionPool(host='zero.sci-hub.se', port=443): Max retries exceeded with url: /6437/9466f20e0d8f0f45af79857c5647f318/karras2017.pdf (Caused by SSLError(SSLEOFError(8, 'EOF occurred in violation of protocol (_ssl.c:997)')))\n",
      "Failed to download file: HTTPSConnectionPool(host='zero.sci-hub.se', port=443): Max retries exceeded with url: /355/241add052740bc5aa0e6519068547427/cousty2010.pdf (Caused by SSLError(SSLEOFError(8, 'EOF occurred in violation of protocol (_ssl.c:997)')))\n",
      "Failed to download file: HTTPSConnectionPool(host='moscow.sci-hub.se', port=443): Max retries exceeded with url: /4378/2706ee69a128ada55638e8bde911c78d/ramakrishna2014.pdf (Caused by SSLError(SSLEOFError(8, 'EOF occurred in violation of protocol (_ssl.c:997)')))\n",
      "Failed to download file: HTTPSConnectionPool(host='zero.sci-hub.se', port=443): Max retries exceeded with url: /1141/a44621f2fd6e1ea6a898fa6c4741742c/greene2001.pdf (Caused by SSLError(SSLEOFError(8, 'EOF occurred in violation of protocol (_ssl.c:997)')))\n",
      "Failed to download file: HTTPSConnectionPool(host='zero.sci-hub.se', port=443): Max retries exceeded with url: /6321/2af0537727bed25a9ae52fae80f7242b/10.1007@1150573033.pdf (Caused by SSLError(SSLEOFError(8, 'EOF occurred in violation of protocol (_ssl.c:997)')))\n",
      "Failed to download file: Invalid URL 'http:/downloads/2020-07-25/e2/10.1109@TSG.2020.3011739.pdf#navpanes=0&view=FitH': No host supplied\n",
      "Failed to download file: HTTPSConnectionPool(host='zero.sci-hub.se', port=443): Max retries exceeded with url: /6742/4f30303cc2dd55d41783d253f5cab2c1/zhang2018.pdf (Caused by SSLError(SSLEOFError(8, 'EOF occurred in violation of protocol (_ssl.c:997)')))\n",
      "Failed to download file: HTTPSConnectionPool(host='moscow.sci-hub.se', port=443): Max retries exceeded with url: /1434/dfdc0325183d6f7adbf9c4bbf890da63/snavely2010.pdf (Caused by SSLError(SSLEOFError(8, 'EOF occurred in violation of protocol (_ssl.c:997)')))\n",
      "Failed to download file: Invalid URL 'http:/downloads/2019-01-23//52/huang2014.pdf#navpanes=0&view=FitH': No host supplied\n",
      "Failed to download file: Invalid URL 'http:/downloads/2022-11-09/29db/lyu2022.pdf#navpanes=0&view=FitH': No host supplied\n",
      "Failed to download file: Invalid URL 'http:/downloads/2020-11-04/b9/yoon2020.pdf#navpanes=0&view=FitH': No host supplied\n",
      "Failed to download file: Invalid URL 'http:/downloads/2022-11-08/45/woldseth2022.pdf#navpanes=0&view=FitH': No host supplied\n",
      "Failed to download file: HTTPSConnectionPool(host='moscow.sci-hub.se', port=443): Max retries exceeded with url: /4357/888c98ba3a92f39075255926cd5d9fa9/ceylan2013.pdf (Caused by SSLError(SSLEOFError(8, 'EOF occurred in violation of protocol (_ssl.c:997)')))\n",
      "Failed to download file: HTTPSConnectionPool(host='zero.sci-hub.se', port=443): Max retries exceeded with url: /942/5e9735a69788f5ebaa095011e493a39d/habel2009.pdf (Caused by SSLError(SSLEOFError(8, 'EOF occurred in violation of protocol (_ssl.c:997)')))\n",
      "Failed to download file: HTTPSConnectionPool(host='zero.sci-hub.se', port=443): Max retries exceeded with url: /520/e4cdb5b5849e9ff9f27959ac0208aacd/barr2003.pdf (Caused by SSLError(SSLEOFError(8, 'EOF occurred in violation of protocol (_ssl.c:997)')))\n",
      "Failed to download file: Invalid URL 'http:/downloads/2022-11-23/59/abdulaleem2022.pdf#navpanes=0&view=FitH': No host supplied\n",
      "Failed to download file: HTTPSConnectionPool(host='zero.sci-hub.se', port=443): Max retries exceeded with url: /6955/58745a7db0d62a9ce0d8ffa9188defc9/cao2018.pdf (Caused by SSLError(SSLEOFError(8, 'EOF occurred in violation of protocol (_ssl.c:997)')))\n",
      "Failed to download file: HTTPSConnectionPool(host='moscow.sci-hub.se', port=443): Max retries exceeded with url: /743/ca14ef83b26fc96819247696ec9e4fbc/hu2001.pdf (Caused by SSLError(SSLEOFError(8, 'EOF occurred in violation of protocol (_ssl.c:997)')))\n",
      "Failed to download file: HTTPSConnectionPool(host='zero.sci-hub.se', port=443): Max retries exceeded with url: /7021/a70c71ee56c908e9eb6bcf554ffece27/isensee2018.pdf (Caused by SSLError(SSLEOFError(8, 'EOF occurred in violation of protocol (_ssl.c:997)')))\n",
      "Failed to download file: HTTPSConnectionPool(host='moscow.sci-hub.se', port=443): Max retries exceeded with url: /2119/36e922cdceb718ac25aa14381997c32f/guodongguo2003.pdf (Caused by SSLError(SSLEOFError(8, 'EOF occurred in violation of protocol (_ssl.c:997)')))\n",
      "Failed to download file: Invalid URL 'http:/downloads/2019-06-13/22/feng2012.pdf#navpanes=0&view=FitH': No host supplied\n",
      "Failed to download file: Invalid URL 'http:/downloads/2021-06-15/c1/arabadzhiyska2017.pdf#navpanes=0&view=FitH': No host supplied\n",
      "Failed to download file: HTTPSConnectionPool(host='zero.sci-hub.se', port=443): Max retries exceeded with url: /3795/c6a23463eb2f055003b29ae0e4fd2885/cunningham2001.pdf (Caused by SSLError(SSLEOFError(8, 'EOF occurred in violation of protocol (_ssl.c:997)')))\n",
      "Failed to download file: HTTPSConnectionPool(host='moscow.sci-hub.se', port=443): Max retries exceeded with url: /3663/2c2981afcc9fda79af1d0ebb9ea9e306/mehta2012.pdf (Caused by SSLError(SSLEOFError(8, 'EOF occurred in violation of protocol (_ssl.c:997)')))\n",
      "Failed to download file: HTTPSConnectionPool(host='moscow.sci-hub.se', port=443): Max retries exceeded with url: /1176/670341a84fb484e2e65ec8f7ee516541/waters1991.pdf (Caused by SSLError(SSLEOFError(8, 'EOF occurred in violation of protocol (_ssl.c:997)')))\n",
      "Failed to download file: HTTPSConnectionPool(host='zero.sci-hub.se', port=443): Max retries exceeded with url: /2160/6361c5c44449cffc52e5ebb0ef6b9bc5/ramkissoon2013.pdf (Caused by SSLError(SSLEOFError(8, 'EOF occurred in violation of protocol (_ssl.c:997)')))\n",
      "Failed to download file: HTTPSConnectionPool(host='zero.sci-hub.se', port=443): Max retries exceeded with url: /6706/47e82eef8a98084a3aeaa6c31ed82252/li2018.pdf (Caused by SSLError(SSLEOFError(8, 'EOF occurred in violation of protocol (_ssl.c:997)')))\n",
      "Failed to download file: HTTPSConnectionPool(host='zero.sci-hub.se', port=443): Max retries exceeded with url: /7033/436d14486f99a1066800ad55a75e9c82/miyata2005.pdf (Caused by SSLError(SSLEOFError(8, 'EOF occurred in violation of protocol (_ssl.c:997)')))\n",
      "Failed to download file: HTTPSConnectionPool(host='moscow.sci-hub.se', port=443): Max retries exceeded with url: /2054/b846cb78e6d1ff56777b9c0ef1b29897/huang2011.pdf (Caused by SSLError(SSLEOFError(8, 'EOF occurred in violation of protocol (_ssl.c:997)')))\n",
      "Failed to download file: HTTPSConnectionPool(host='zero.sci-hub.se', port=443): Max retries exceeded with url: /2244/c4ac083cfcf90a7ecb8f0878b3f7aae5/yamamoto2007.pdf (Caused by SSLError(SSLEOFError(8, 'EOF occurred in violation of protocol (_ssl.c:997)')))\n",
      "Failed to download file: HTTPSConnectionPool(host='moscow.sci-hub.se', port=443): Max retries exceeded with url: /2209/e996e933fc39d68272ab46d9990472c1/mor1991.pdf (Caused by SSLError(SSLEOFError(8, 'EOF occurred in violation of protocol (_ssl.c:997)')))\n",
      "Failed to download file: HTTPSConnectionPool(host='moscow.sci-hub.se', port=443): Max retries exceeded with url: /4366/7ab5cfa854bb89b00ed24d346c4524df/bourguignon2000.pdf (Caused by SSLError(SSLEOFError(8, 'EOF occurred in violation of protocol (_ssl.c:997)')))\n",
      "Failed to download file: HTTPSConnectionPool(host='zero.sci-hub.se', port=443): Max retries exceeded with url: /5223/85017442b128c788a69b7db8ce50eeef/ren1998.pdf (Caused by SSLError(SSLEOFError(8, 'EOF occurred in violation of protocol (_ssl.c:997)')))\n",
      "Failed to download file: HTTPSConnectionPool(host='moscow.sci-hub.se', port=443): Max retries exceeded with url: /3542/9e5488b0800d25bf1053fe27a3a4849f/rosten2013.pdf (Caused by SSLError(SSLEOFError(8, 'EOF occurred in violation of protocol (_ssl.c:997)')))\n",
      "Failed to download file: HTTPSConnectionPool(host='moscow.sci-hub.se', port=443): Max retries exceeded with url: /2996/75ee30e7975c3dd0a427fe5801652802/neira2001.pdf (Caused by SSLError(SSLEOFError(8, 'EOF occurred in violation of protocol (_ssl.c:997)')))\n",
      "Failed to download file: Invalid URL 'http:/tree/b9/98/b9988b56a926ffb54094520bf50900cd.pdf#navpanes=0&view=FitH': No host supplied\n",
      "Failed to download file: HTTPSConnectionPool(host='zero.sci-hub.se', port=443): Max retries exceeded with url: /1532/e5b07077d2fef1e2829488fe67a41c78/descombes1999.pdf (Caused by SSLError(SSLEOFError(8, 'EOF occurred in violation of protocol (_ssl.c:997)')))\n",
      "Failed to download file: HTTPSConnectionPool(host='moscow.sci-hub.se', port=443): Max retries exceeded with url: /830/18416c8ea722c1bf8780f7c9c233a719/vida1994.pdf (Caused by SSLError(SSLEOFError(8, 'EOF occurred in violation of protocol (_ssl.c:997)')))\n",
      "Failed to download file: HTTPSConnectionPool(host='moscow.sci-hub.se', port=443): Max retries exceeded with url: /2250/2b9bb7c7c73f2c2017ed07d45e6aaf8c/zhou2010.pdf (Caused by SSLError(SSLEOFError(8, 'EOF occurred in violation of protocol (_ssl.c:997)')))\n",
      "Failed to download file: HTTPSConnectionPool(host='zero.sci-hub.se', port=443): Max retries exceeded with url: /6391/6a5e430f6a13d71cf9fea92cb76a89b6/zhangm2017.pdf (Caused by SSLError(SSLEOFError(8, 'EOF occurred in violation of protocol (_ssl.c:997)')))\n",
      "Failed to download file: HTTPSConnectionPool(host='zero.sci-hub.se', port=443): Max retries exceeded with url: /2186/49a67bfee5742ba59afb8490e399f0b8/zhang2013.pdf (Caused by SSLError(SSLEOFError(8, 'EOF occurred in violation of protocol (_ssl.c:997)')))\n",
      "Failed to download file: HTTPSConnectionPool(host='moscow.sci-hub.se', port=443): Max retries exceeded with url: /4165/85dc2d75c91d8c9c8629029cc9c62b0b/roth2014.pdf (Caused by SSLError(SSLEOFError(8, 'EOF occurred in violation of protocol (_ssl.c:997)')))\n",
      "Failed to download file: HTTPSConnectionPool(host='moscow.sci-hub.se', port=443): Max retries exceeded with url: /3869/3900a59df41aacfbc944f8d7854f1fd6/deselaers2006.pdf (Caused by SSLError(SSLEOFError(8, 'EOF occurred in violation of protocol (_ssl.c:997)')))\n",
      "Failed to download file: Invalid URL 'http:/downloads/2019-01-06/11/debarro2011.pdf#navpanes=0&view=FitH': No host supplied\n",
      "Failed to download file: HTTPSConnectionPool(host='moscow.sci-hub.se', port=443): Max retries exceeded with url: /2237/9b0750db84d4407595206d5f74f11c3f/elliott2013.pdf (Caused by SSLError(SSLEOFError(8, 'EOF occurred in violation of protocol (_ssl.c:997)')))\n",
      "Failed to download file: HTTPSConnectionPool(host='zero.sci-hub.se', port=443): Max retries exceeded with url: /1867/0babed30f5420f486b6ed270028a5eb4/jena2008.pdf (Caused by SSLError(SSLEOFError(8, 'EOF occurred in violation of protocol (_ssl.c:997)')))\n",
      "Failed to download file: HTTPSConnectionPool(host='moscow.sci-hub.se', port=443): Max retries exceeded with url: /4457/36dafc057a8aca9dd3975fe76c673760/diamanti2015.pdf (Caused by SSLError(SSLEOFError(8, 'EOF occurred in violation of protocol (_ssl.c:997)')))\n",
      "Failed to download file: Invalid URL 'http:/downloads/2020-05-27/7e/xie2020.pdf#navpanes=0&view=FitH': No host supplied\n",
      "Failed to download file: HTTPSConnectionPool(host='zero.sci-hub.se', port=443): Max retries exceeded with url: /2061/b68871672a6ff7dc5bae2cf66617c2a4/ratha2001.pdf (Caused by SSLError(SSLEOFError(8, 'EOF occurred in violation of protocol (_ssl.c:997)')))\n",
      "Failed to download file: HTTPSConnectionPool(host='moscow.sci-hub.se', port=443): Max retries exceeded with url: /3576/c47b7028cb2f1b8b7790c1f39783df9b/toldo2009.pdf (Caused by SSLError(SSLEOFError(8, 'EOF occurred in violation of protocol (_ssl.c:997)')))\n",
      "Failed to download file: HTTPSConnectionPool(host='moscow.sci-hub.se', port=443): Max retries exceeded with url: /4711/722ae7678d47bc3ac5a30ce048dde50e/holz2015.pdf (Caused by SSLError(SSLEOFError(8, 'EOF occurred in violation of protocol (_ssl.c:997)')))\n",
      "Failed to download file: HTTPSConnectionPool(host='moscow.sci-hub.se', port=443): Max retries exceeded with url: /2110/a78656dc0de43ff7d06063bd30e3cc42/sung-heelee2005.pdf (Caused by SSLError(SSLEOFError(8, 'EOF occurred in violation of protocol (_ssl.c:997)')))\n",
      "Failed to download file: HTTPSConnectionPool(host='zero.sci-hub.se', port=443): Max retries exceeded with url: /4074/dcf1fd8f64a9cd0a9b93a8a99afb464c/campen2014.pdf (Caused by SSLError(SSLEOFError(8, 'EOF occurred in violation of protocol (_ssl.c:997)')))\n",
      "Failed to download file: Invalid URL 'http:/downloads/2019-01-23//84/lucas2014.pdf#navpanes=0&view=FitH': No host supplied\n",
      "Failed to download file: HTTPSConnectionPool(host='zero.sci-hub.se', port=443): Max retries exceeded with url: /1448/4ea574c5426115b834086c9feaf805dc/kunzhou2011.pdf (Caused by SSLError(SSLEOFError(8, 'EOF occurred in violation of protocol (_ssl.c:997)')))\n",
      "Failed to download file: HTTPSConnectionPool(host='zero.sci-hub.se', port=443): Max retries exceeded with url: /3406/8a9cf03fd3b19d7156e1b55d573924dd/singh2011.pdf (Caused by SSLError(SSLEOFError(8, 'EOF occurred in violation of protocol (_ssl.c:997)')))\n",
      "Failed to download file: Invalid URL 'http:/tree/1e/0a/1e0ae63b6fb6e3b19dc23db88b4f7846.pdf#navpanes=0&view=FitH': No host supplied\n",
      "Failed to download file: HTTPSConnectionPool(host='zero.sci-hub.se', port=443): Max retries exceeded with url: /6425/ca9e854167ae60095bf308a08f219eb2/summers2017.pdf (Caused by SSLError(SSLEOFError(8, 'EOF occurred in violation of protocol (_ssl.c:997)')))\n",
      "Failed to download file: Invalid URL 'http:/downloads/2020-05-21/5e/bildverarbeitung-fr-die-medizin-2020-2020.pdf#navpanes=0&view=FitH': No host supplied\n",
      "Failed to download file: HTTPSConnectionPool(host='moscow.sci-hub.se', port=443): Max retries exceeded with url: /3978/3e22570b23bc033c0a67c434b20f83dc/boucard2009.pdf (Caused by SSLError(SSLEOFError(8, 'EOF occurred in violation of protocol (_ssl.c:997)')))\n",
      "Failed to download file: HTTPSConnectionPool(host='moscow.sci-hub.se', port=443): Max retries exceeded with url: /2759/6b14faf223f427b5d68463bff4384606/brunner2013.pdf (Caused by SSLError(SSLEOFError(8, 'EOF occurred in violation of protocol (_ssl.c:997)')))\n",
      "Failed to download file: HTTPSConnectionPool(host='moscow.sci-hub.se', port=443): Max retries exceeded with url: /1315/708bed2677190a0b1a7a041d47ca7375/rilling2005.pdf (Caused by SSLError(SSLEOFError(8, 'EOF occurred in violation of protocol (_ssl.c:997)')))\n",
      "Failed to download file: HTTPSConnectionPool(host='zero.sci-hub.se', port=443): Max retries exceeded with url: /7115/e192bb4b9b4079c29f86133fc157a547/walsh2018.pdf (Caused by SSLError(SSLEOFError(8, 'EOF occurred in violation of protocol (_ssl.c:997)')))\n",
      "Failed to download file: HTTPSConnectionPool(host='zero.sci-hub.se', port=443): Max retries exceeded with url: /942/91d4f808a9f058669e1a8b556a21efad/holten2009.pdf (Caused by SSLError(SSLEOFError(8, 'EOF occurred in violation of protocol (_ssl.c:997)')))\n",
      "Failed to download file: HTTPSConnectionPool(host='moscow.sci-hub.se', port=443): Max retries exceeded with url: /1823/7ddcafabb803d6735bd2808b19f6c1af/takahashi2009.pdf (Caused by SSLError(SSLEOFError(8, 'EOF occurred in violation of protocol (_ssl.c:997)')))\n",
      "Failed to download file: Invalid URL 'http:/downloads/2021-06-10/27/meka2016.pdf#navpanes=0&view=FitH': No host supplied\n",
      "Failed to download file: HTTPSConnectionPool(host='zero.sci-hub.se', port=443): Max retries exceeded with url: /6684/b18257361dc9c8dd1ffd8f7f246703f2/takemura2017.pdf (Caused by SSLError(SSLEOFError(8, 'EOF occurred in violation of protocol (_ssl.c:997)')))\n",
      "Failed to download file: HTTPSConnectionPool(host='moscow.sci-hub.se', port=443): Max retries exceeded with url: /2632/da0c89eb0ed73c3b68bce578c0a95b91/cao2014.pdf (Caused by SSLError(SSLEOFError(8, 'EOF occurred in violation of protocol (_ssl.c:997)')))\n",
      "Failed to download file: HTTPSConnectionPool(host='zero.sci-hub.se', port=443): Max retries exceeded with url: /3421/176167b0773609623a09ffd239464271/keller2012.pdf (Caused by SSLError(SSLEOFError(8, 'EOF occurred in violation of protocol (_ssl.c:997)')))\n",
      "Failed to download file: HTTPSConnectionPool(host='moscow.sci-hub.se', port=443): Max retries exceeded with url: /743/65eefbd6479fac9b10ed4c9bd450d922/hong2008.pdf (Caused by SSLError(SSLEOFError(8, 'EOF occurred in violation of protocol (_ssl.c:997)')))\n",
      "Failed to download file: HTTPSConnectionPool(host='zero.sci-hub.se', port=443): Max retries exceeded with url: /6035/0d90e20399b686462a740b544087a843/moreira2016.pdf (Caused by SSLError(SSLEOFError(8, 'EOF occurred in violation of protocol (_ssl.c:997)')))\n",
      "Failed to download file: HTTPSConnectionPool(host='moscow.sci-hub.se', port=443): Max retries exceeded with url: /349/12da4a75d69104ed498da93e3c1171f1/pavlidis2007.pdf (Caused by SSLError(SSLEOFError(8, 'EOF occurred in violation of protocol (_ssl.c:997)')))\n",
      "Failed to download file: HTTPSConnectionPool(host='zero.sci-hub.se', port=443): Max retries exceeded with url: /743/5fc9908056b0d58732150e47a156805b/pajarola2007.pdf (Caused by SSLError(SSLEOFError(8, 'EOF occurred in violation of protocol (_ssl.c:997)')))\n",
      "Failed to download file: Invalid URL 'http:/downloads/2019-08-18/95/10.1111@cgf.13502.pdf#navpanes=0&view=FitH': No host supplied\n",
      "Failed to download file: HTTPSConnectionPool(host='zero.sci-hub.se', port=443): Max retries exceeded with url: /6903/9937c586750745f11e12f1b8877bd9f5/10.3414@me16-02-0004.pdf (Caused by SSLError(SSLEOFError(8, 'EOF occurred in violation of protocol (_ssl.c:997)')))\n",
      "Failed to download file: HTTPSConnectionPool(host='moscow.sci-hub.se', port=443): Max retries exceeded with url: /856/86ce174a49d4504ec49044c1964730b4/luo2008.pdf (Caused by SSLError(SSLEOFError(8, 'EOF occurred in violation of protocol (_ssl.c:997)')))\n",
      "Failed to download file: Invalid URL 'http:/downloads/2019-10-14/a3/koubaa2019.pdf#navpanes=0&view=FitH': No host supplied\n",
      "Failed to download file: HTTPSConnectionPool(host='zero.sci-hub.se', port=443): Max retries exceeded with url: /585/430deca32eab45d99d56a859d64a7a6b/ellsworth1993.pdf (Caused by SSLError(SSLEOFError(8, 'EOF occurred in violation of protocol (_ssl.c:997)')))\n",
      "Failed to download file: HTTPSConnectionPool(host='zero.sci-hub.se', port=443): Max retries exceeded with url: /1822/9064776a91e3454e8a237abc96366e88/cousty2010.pdf (Caused by SSLError(SSLEOFError(8, 'EOF occurred in violation of protocol (_ssl.c:997)')))\n",
      "Failed to download file: HTTPSConnectionPool(host='moscow.sci-hub.se', port=443): Max retries exceeded with url: /3203/67e29501d63898c3449080b403a2669e/bonilhadasilva2014.pdf (Caused by SSLError(SSLEOFError(8, 'EOF occurred in violation of protocol (_ssl.c:997)')))\n",
      "Failed to download file: HTTPSConnectionPool(host='zero.sci-hub.se', port=443): Max retries exceeded with url: /3786/fd3d11ce02e59e02ae5af215f8ddd963/weyand2015.pdf (Caused by SSLError(SSLEOFError(8, 'EOF occurred in violation of protocol (_ssl.c:997)')))\n",
      "Failed to download file: HTTPSConnectionPool(host='zero.sci-hub.se', port=443): Max retries exceeded with url: /1384/0b368e391923c63fc2b7f39472417a81/faloutsos2001.pdf (Caused by SSLError(SSLEOFError(8, 'EOF occurred in violation of protocol (_ssl.c:997)')))\n",
      "Failed to download file: HTTPSConnectionPool(host='zero.sci-hub.se', port=443): Max retries exceeded with url: /5163/c541a52a4273137ad9824b945e45e90e/susman2015.pdf (Caused by SSLError(SSLEOFError(8, 'EOF occurred in violation of protocol (_ssl.c:997)')))\n",
      "Failed to download file: Invalid URL 'http:/downloads/2019-04-03/fa/10.1016@S1470-20451930098-1.pdf#navpanes=0&view=FitH': No host supplied\n",
      "Failed to download file: HTTPSConnectionPool(host='zero.sci-hub.se', port=443): Max retries exceeded with url: /1393/4e994b9217e5d19d75d5e6a273e15bb4/arbel2001.pdf (Caused by SSLError(SSLEOFError(8, 'EOF occurred in violation of protocol (_ssl.c:997)')))\n",
      "Failed to download file: HTTPSConnectionPool(host='zero.sci-hub.se', port=443): Max retries exceeded with url: /6859/3e358fa4565aa41db94bb9b738261262/chen2018.pdf (Caused by SSLError(SSLEOFError(8, 'EOF occurred in violation of protocol (_ssl.c:997)')))\n",
      "Failed to download file: HTTPSConnectionPool(host='moscow.sci-hub.se', port=443): Max retries exceeded with url: /3652/acff1c79925e5976a9edeba19cda7e54/hardening-fingerprint-fuzzy-vault-using-password.pdf (Caused by SSLError(SSLEOFError(8, 'EOF occurred in violation of protocol (_ssl.c:997)')))\n",
      "Failed to download file: HTTPSConnectionPool(host='zero.sci-hub.se', port=443): Max retries exceeded with url: /3226/0fc2e85da9698fbaedc8bbfed9a43c8b/ma2014.pdf (Caused by SSLError(SSLEOFError(8, 'EOF occurred in violation of protocol (_ssl.c:997)')))\n",
      "Failed to download file: HTTPSConnectionPool(host='moscow.sci-hub.se', port=443): Max retries exceeded with url: /4369/8cd5477781beea29d92fb8e33793c522/kim2011.pdf (Caused by SSLError(SSLEOFError(8, 'EOF occurred in violation of protocol (_ssl.c:997)')))\n",
      "Failed to download file: HTTPSConnectionPool(host='moscow.sci-hub.se', port=443): Max retries exceeded with url: /1822/835e1b5cfd0ac1a744766ca5d03bc2f7/goshen2008.pdf (Caused by SSLError(SSLEOFError(8, 'EOF occurred in violation of protocol (_ssl.c:997)')))\n",
      "Failed to download file: HTTPSConnectionPool(host='zero.sci-hub.se', port=443): Max retries exceeded with url: /4360/9818df4fbce57e6b9517db3178c3205b/solomon2015.pdf (Caused by SSLError(SSLEOFError(8, 'EOF occurred in violation of protocol (_ssl.c:997)')))\n",
      "Failed to download file: HTTPSConnectionPool(host='moscow.sci-hub.se', port=443): Max retries exceeded with url: /3567/d8dc541f602a451e31f41334491d2fc2/adamo2012.pdf (Caused by SSLError(SSLEOFError(8, 'EOF occurred in violation of protocol (_ssl.c:997)')))\n",
      "Failed to download file: HTTPSConnectionPool(host='zero.sci-hub.se', port=443): Max retries exceeded with url: /942/4e18300159c18b4aa1e8dd5d5000f754/10.1111@j.1467-8659.2009.01388.x.pdf (Caused by SSLError(SSLEOFError(8, 'EOF occurred in violation of protocol (_ssl.c:997)')))\n",
      "Failed to download file: HTTPSConnectionPool(host='moscow.sci-hub.se', port=443): Max retries exceeded with url: /1315/e11b2848493c1ded22e5ad58432ec98e/attene2006.pdf (Caused by SSLError(SSLEOFError(8, 'EOF occurred in violation of protocol (_ssl.c:997)')))\n",
      "Failed to download file: HTTPSConnectionPool(host='zero.sci-hub.se', port=443): Max retries exceeded with url: /409/68c144bd038a40e40e7cadc5fb21466e/shu1997.pdf (Caused by SSLError(SSLEOFError(8, 'EOF occurred in violation of protocol (_ssl.c:997)')))\n",
      "Failed to download file: HTTPSConnectionPool(host='moscow.sci-hub.se', port=443): Max retries exceeded with url: /1120/455e9986f2d5f285f9fcae778da61aa1/keinan2012.pdf (Caused by SSLError(SSLEOFError(8, 'EOF occurred in violation of protocol (_ssl.c:997)')))\n",
      "Failed to download file: HTTPSConnectionPool(host='moscow.sci-hub.se', port=443): Max retries exceeded with url: /316/af3526479bfbc9e6fae8d46d1b6e8f4b/shen2006.pdf (Caused by SSLError(SSLEOFError(8, 'EOF occurred in violation of protocol (_ssl.c:997)')))\n",
      "Failed to download file: HTTPSConnectionPool(host='zero.sci-hub.se', port=443): Max retries exceeded with url: /293/8f5022f2fd1a0ec80224f5e620ea6d0a/davies1974.pdf (Caused by SSLError(SSLEOFError(8, 'EOF occurred in violation of protocol (_ssl.c:997)')))\n",
      "Failed to download file: HTTPSConnectionPool(host='zero.sci-hub.se', port=443): Max retries exceeded with url: /1887/4d2c13a4ad6d9a9b7a305b21b395907e/gutierrez2007.pdf (Caused by SSLError(SSLEOFError(8, 'EOF occurred in violation of protocol (_ssl.c:997)')))\n",
      "Failed to download file: HTTPSConnectionPool(host='zero.sci-hub.se', port=443): Max retries exceeded with url: /2497/3556beaec548d80764d1f7f4efdcc7e4/yu2013.pdf (Caused by SSLError(SSLEOFError(8, 'EOF occurred in violation of protocol (_ssl.c:997)')))\n",
      "Failed to download file: Invalid URL 'http:/downloads/2019-11-11/b5/choudhury2019.pdf#navpanes=0&view=FitH': No host supplied\n",
      "Failed to download file: HTTPSConnectionPool(host='zero.sci-hub.se', port=443): Max retries exceeded with url: /1204/a13bbb5aa6281b2e5d567bde2c0a8e3a/dubin1982.pdf (Caused by SSLError(SSLEOFError(8, 'EOF occurred in violation of protocol (_ssl.c:997)')))\n",
      "Failed to download file: HTTPSConnectionPool(host='zero.sci-hub.se', port=443): Max retries exceeded with url: /3359/4b1d1646583c95bad2d1434f1f44985e/mcduff2014.pdf (Caused by SSLError(SSLEOFError(8, 'EOF occurred in violation of protocol (_ssl.c:997)')))\n",
      "Failed to download file: HTTPSConnectionPool(host='moscow.sci-hub.se', port=443): Max retries exceeded with url: /4961/7d9c8915f1ae4face18e9d6909249b54/koenderink1984.pdf (Caused by SSLError(SSLEOFError(8, 'EOF occurred in violation of protocol (_ssl.c:997)')))\n",
      "Failed to download file: HTTPSConnectionPool(host='zero.sci-hub.se', port=443): Max retries exceeded with url: /1449/07b68955f0643a0961a92669185eeb77/barequet1996.pdf (Caused by SSLError(SSLEOFError(8, 'EOF occurred in violation of protocol (_ssl.c:997)')))\n",
      "Failed to download file: HTTPSConnectionPool(host='moscow.sci-hub.se', port=443): Max retries exceeded with url: /733/f5beae2637735f7265c88e01a8020eea/bingulac-popovic1997.pdf (Caused by SSLError(SSLEOFError(8, 'EOF occurred in violation of protocol (_ssl.c:997)')))\n"
     ]
    },
    {
     "name": "stderr",
     "output_type": "stream",
     "text": [
      " 69%|██████▉   | 8253/11877 [25:01<03:11, 18.90it/s]"
     ]
    },
    {
     "name": "stdout",
     "output_type": "stream",
     "text": [
      "Failed to download file: HTTPSConnectionPool(host='moscow.sci-hub.se', port=443): Max retries exceeded with url: /1814/012de9e4f2dd1e82a6b5dab2e3a572db/essa2000.pdf (Caused by SSLError(SSLEOFError(8, 'EOF occurred in violation of protocol (_ssl.c:997)')))\n",
      "Failed to download file: HTTPSConnectionPool(host='zero.sci-hub.se', port=443): Max retries exceeded with url: /3219/38f0aee3d67d26b8a5ed239322258b30/martinelli2012.pdf (Caused by SSLError(SSLEOFError(8, 'EOF occurred in violation of protocol (_ssl.c:997)')))\n",
      "Failed to download file: Invalid URL 'http:/downloads/2019-01-01/fd/10.1145@3272127.3275109.pdf#navpanes=0&view=FitH': No host supplied\n",
      "Failed to download file: HTTPSConnectionPool(host='moscow.sci-hub.se', port=443): Max retries exceeded with url: /3244/27f9e5e8451cac0c2053ce48efb8ada2/neighbors2014.pdf (Caused by SSLError(SSLEOFError(8, 'EOF occurred in violation of protocol (_ssl.c:997)')))\n",
      "Failed to download file: HTTPSConnectionPool(host='zero.sci-hub.se', port=443): Max retries exceeded with url: /3250/d19ba06803dc81a0ef4cc2f94b86bc7f/fisher1990.pdf (Caused by SSLError(SSLEOFError(8, 'EOF occurred in violation of protocol (_ssl.c:997)')))\n",
      "Failed to download file: Invalid URL 'http:/downloads/2019-09-02/0c/vasileiou2018.pdf#navpanes=0&view=FitH': No host supplied\n",
      "Failed to download file: HTTPSConnectionPool(host='moscow.sci-hub.se', port=443): Max retries exceeded with url: /4463/27d7c929e648ad7d9aee7d1ed0584cb7/osman2011.pdf (Caused by SSLError(SSLEOFError(8, 'EOF occurred in violation of protocol (_ssl.c:997)')))\n",
      "Failed to download file: HTTPSConnectionPool(host='zero.sci-hub.se', port=443): Max retries exceeded with url: /6212/2aebcacb47d2076d98003b2c0f7f701f/grow2002.pdf (Caused by SSLError(SSLEOFError(8, 'EOF occurred in violation of protocol (_ssl.c:997)')))\n",
      "Failed to download file: Invalid URL 'http:/downloads/2020-10-05/4c/abbas2020.pdf#navpanes=0&view=FitH': No host supplied\n",
      "Failed to download file: HTTPSConnectionPool(host='zero.sci-hub.se', port=443): Max retries exceeded with url: /5784/ea6f2d9e4077159ffab993aac7e2b949/chen2016.pdf (Caused by SSLError(SSLEOFError(8, 'EOF occurred in violation of protocol (_ssl.c:997)')))\n",
      "Failed to download file: HTTPSConnectionPool(host='zero.sci-hub.se', port=443): Max retries exceeded with url: /349/b144bd7fb132a1bd08428d38fe5b353f/caillette2008.pdf (Caused by SSLError(SSLEOFError(8, 'EOF occurred in violation of protocol (_ssl.c:997)')))\n",
      "Failed to download file: HTTPSConnectionPool(host='moscow.sci-hub.se', port=443): Max retries exceeded with url: /1816/975f86416387981b91218dab9126a940/anjyo2003.pdf (Caused by SSLError(SSLEOFError(8, 'EOF occurred in violation of protocol (_ssl.c:997)')))\n",
      "Failed to download file: HTTPSConnectionPool(host='zero.sci-hub.se', port=443): Max retries exceeded with url: /2644/32cd122d2c5d8b8bb70b0147ddce880c/10.1210@jc.2008-2152.pdf (Caused by SSLError(SSLEOFError(8, 'EOF occurred in violation of protocol (_ssl.c:997)')))\n",
      "Failed to download file: Invalid URL 'http:/downloads/2019-01-01/20/10.1145@3272127.3275108.pdf#navpanes=0&view=FitH': No host supplied\n",
      "Failed to download file: HTTPSConnectionPool(host='zero.sci-hub.se', port=443): Max retries exceeded with url: /1813/2983460c64c0568660c2505667fdac12/pikaz1994.pdf (Caused by SSLError(SSLEOFError(8, 'EOF occurred in violation of protocol (_ssl.c:997)')))\n",
      "Failed to download file: HTTPSConnectionPool(host='moscow.sci-hub.se', port=443): Max retries exceeded with url: /1448/176edf94b1f0af1de8e8fad5d5ab13c5/galin1996.pdf (Caused by SSLError(SSLEOFError(8, 'EOF occurred in violation of protocol (_ssl.c:997)')))\n",
      "Failed to download file: HTTPSConnectionPool(host='zero.sci-hub.se', port=443): Max retries exceeded with url: /2463/b1ccb24a04cc543959f4040cfcc38aeb/zhiyuchen2006.pdf (Caused by SSLError(SSLEOFError(8, 'EOF occurred in violation of protocol (_ssl.c:997)')))\n",
      "Failed to download file: Invalid URL 'http:/downloads/2019-04-11/e5/cherchi2019.pdf#navpanes=0&view=FitH': No host supplied\n",
      "Failed to download file: HTTPSConnectionPool(host='moscow.sci-hub.se', port=443): Max retries exceeded with url: /2147/0aa83a611e33154033b20526149718cb/hjaltason1995.pdf (Caused by SSLError(SSLEOFError(8, 'EOF occurred in violation of protocol (_ssl.c:997)')))\n",
      "Failed to download file: HTTPSConnectionPool(host='moscow.sci-hub.se', port=443): Max retries exceeded with url: /1230/b2cfd7ee74e58bc66f064dc58a868e8c/luo1993.pdf (Caused by SSLError(SSLEOFError(8, 'EOF occurred in violation of protocol (_ssl.c:997)')))\n",
      "Failed to download file: HTTPSConnectionPool(host='zero.sci-hub.se', port=443): Max retries exceeded with url: /3589/da0079c28b69abcbb5fac21b67f834f4/feixas2009.pdf (Caused by SSLError(SSLEOFError(8, 'EOF occurred in violation of protocol (_ssl.c:997)')))\n",
      "Failed to download file: HTTPSConnectionPool(host='moscow.sci-hub.se', port=443): Max retries exceeded with url: /116/4cdba5146fac1e3c05e0f9ace65115d9/minson2008.pdf (Caused by SSLError(SSLEOFError(8, 'EOF occurred in violation of protocol (_ssl.c:997)')))\n",
      "Failed to download file: Invalid URL 'http:/downloads/2021-06-13/13/yao2015.pdf#navpanes=0&view=FitH': No host supplied\n",
      "Failed to download file: HTTPSConnectionPool(host='moscow.sci-hub.se', port=443): Max retries exceeded with url: /1262/4bf172de845355e921ad90d35310c992/xiao2012.pdf (Caused by SSLError(SSLEOFError(8, 'EOF occurred in violation of protocol (_ssl.c:997)')))\n",
      "Failed to download file: Invalid URL 'http:/downloads/2019-04-05/f9/10.1371@journal.pone.0215056.pdf#navpanes=0&view=FitH': No host supplied\n",
      "Failed to download file: Invalid URL 'http:/downloads/2019-01-29//f4/ulu2015.pdf#navpanes=0&view=FitH': No host supplied\n",
      "Failed to download file: HTTPSConnectionPool(host='moscow.sci-hub.se', port=443): Max retries exceeded with url: /1315/34c530991bdc7c33b2cd09672a68c36a/baldassarri2008.pdf (Caused by SSLError(SSLEOFError(8, 'EOF occurred in violation of protocol (_ssl.c:997)')))\n",
      "Failed to download file: HTTPSConnectionPool(host='moscow.sci-hub.se', port=443): Max retries exceeded with url: /4591/34f1e6a9788c6ef1fc269a010968bca8/10.1016@s1570-79460780218-5.pdf (Caused by SSLError(SSLEOFError(8, 'EOF occurred in violation of protocol (_ssl.c:997)')))\n",
      "Failed to download file: HTTPSConnectionPool(host='zero.sci-hub.se', port=443): Max retries exceeded with url: /1336/491b91e3c4acd7f1a4f76e5e76b8ad15/liu2005.pdf (Caused by SSLError(SSLEOFError(8, 'EOF occurred in violation of protocol (_ssl.c:997)')))\n",
      "Failed to download file: HTTPSConnectionPool(host='zero.sci-hub.se', port=443): Max retries exceeded with url: /6270/a9ff7958cc2b953c7dd3ff18e047a9d8/hua2017.pdf (Caused by SSLError(SSLEOFError(8, 'EOF occurred in violation of protocol (_ssl.c:997)')))\n",
      "Failed to download file: HTTPSConnectionPool(host='moscow.sci-hub.se', port=443): Max retries exceeded with url: /1448/59f2b88832e8f03fb882c602a673b155/tecchia2002.pdf (Caused by SSLError(SSLEOFError(8, 'EOF occurred in violation of protocol (_ssl.c:997)')))\n",
      "Failed to download file: HTTPSConnectionPool(host='zero.sci-hub.se', port=443): Max retries exceeded with url: /3160/296f01face5c6b08d055a9ca5d58caa7/li2015.pdf (Caused by SSLError(SSLEOFError(8, 'EOF occurred in violation of protocol (_ssl.c:997)')))\n",
      "Failed to download file: Invalid URL 'http:/tree/1b/7f/1b7f9eaabc7b6c43855c648209778fb1.pdf#navpanes=0&view=FitH': No host supplied\n",
      "Failed to download file: Invalid URL 'http:/downloads/2022-11-07/8830/jiang2022.pdf#navpanes=0&view=FitH': No host supplied\n",
      "Failed to download file: HTTPSConnectionPool(host='moscow.sci-hub.se', port=443): Max retries exceeded with url: /3017/84eb2ca247df604632371df66f8db1d5/itoh2007.pdf (Caused by SSLError(SSLEOFError(8, 'EOF occurred in violation of protocol (_ssl.c:997)')))\n",
      "Failed to download file: Invalid URL 'http:/downloads/2019-11-13/a5/10.1177@1087054719879499.pdf#navpanes=0&view=FitH': No host supplied\n",
      "Failed to download file: HTTPSConnectionPool(host='moscow.sci-hub.se', port=443): Max retries exceeded with url: /743/e37a14181fb74874bbf195464261c212/zhang2010.pdf (Caused by SSLError(SSLEOFError(8, 'EOF occurred in violation of protocol (_ssl.c:997)')))\n",
      "Failed to download file: Invalid URL 'http:/downloads/2022-11-04/67/needham2021.pdf#navpanes=0&view=FitH': No host supplied\n",
      "Failed to download file: HTTPSConnectionPool(host='moscow.sci-hub.se', port=443): Max retries exceeded with url: /2241/06f65b51183e1af42639b07451cdec36/fan2008.pdf (Caused by SSLError(SSLEOFError(8, 'EOF occurred in violation of protocol (_ssl.c:997)')))\n",
      "Failed to download file: HTTPSConnectionPool(host='moscow.sci-hub.se', port=443): Max retries exceeded with url: /1611/d0906f435427f0dd0b255bbbad9e7afd/brodlie1995.pdf (Caused by SSLError(SSLEOFError(8, 'EOF occurred in violation of protocol (_ssl.c:997)')))\n",
      "Failed to download file: HTTPSConnectionPool(host='zero.sci-hub.se', port=443): Max retries exceeded with url: /187/46c5eea22f5ff1239f0281e07e7a4421/liberatore2001.pdf (Caused by SSLError(SSLEOFError(8, 'EOF occurred in violation of protocol (_ssl.c:997)')))\n",
      "Failed to download file: Invalid URL 'http:/downloads/2020-07-05/9d/10.1016@j.eswa.2020.113685.pdf#navpanes=0&view=FitH': No host supplied\n",
      "Failed to download file: HTTPSConnectionPool(host='zero.sci-hub.se', port=443): Max retries exceeded with url: /6443/7f5078f20c4d1a3e2269012e20cc7dbd/zhu2015.pdf (Caused by SSLError(SSLEOFError(8, 'EOF occurred in violation of protocol (_ssl.c:997)')))\n",
      "Failed to download file: HTTPSConnectionPool(host='zero.sci-hub.se', port=443): Max retries exceeded with url: /3921/f97d1bf21dd0442225b82cac59db4cf9/ruhland2015.pdf (Caused by SSLError(SSLEOFError(8, 'EOF occurred in violation of protocol (_ssl.c:997)')))\n",
      "Failed to download file: HTTPSConnectionPool(host='moscow.sci-hub.se', port=443): Max retries exceeded with url: /4342/d713ac0de95d7c4e3a11b32066aa6392/bourdev2010.pdf (Caused by SSLError(SSLEOFError(8, 'EOF occurred in violation of protocol (_ssl.c:997)')))\n",
      "Failed to download file: HTTPSConnectionPool(host='zero.sci-hub.se', port=443): Max retries exceeded with url: /1455/b62f85273b4a7493843507aa9c63f459/miedema2012.pdf (Caused by SSLError(SSLEOFError(8, 'EOF occurred in violation of protocol (_ssl.c:997)')))\n",
      "Failed to download file: HTTPSConnectionPool(host='zero.sci-hub.se', port=443): Max retries exceeded with url: /1929/0455312f63c3a4e3b3f83f5f5c991ecc/10.1007@s007910050040.pdf (Caused by SSLError(SSLEOFError(8, 'EOF occurred in violation of protocol (_ssl.c:997)')))\n",
      "Failed to download file: HTTPSConnectionPool(host='moscow.sci-hub.se', port=443): Max retries exceeded with url: /2129/62e10dd54123a63bef3b7a05a3edaf33/blanchard2011.pdf (Caused by SSLError(SSLEOFError(8, 'EOF occurred in violation of protocol (_ssl.c:997)')))\n",
      "Failed to download file: HTTPSConnectionPool(host='moscow.sci-hub.se', port=443): Max retries exceeded with url: /1448/7f32bdca19f9248fa4946808fafcc74c/suykens2003.pdf (Caused by SSLError(SSLEOFError(8, 'EOF occurred in violation of protocol (_ssl.c:997)')))\n",
      "Failed to download file: HTTPSConnectionPool(host='zero.sci-hub.se', port=443): Max retries exceeded with url: /1849/bb81c6bf51aa63c637f03293df2e291a/zhao2004.pdf (Caused by SSLError(SSLEOFError(8, 'EOF occurred in violation of protocol (_ssl.c:997)')))\n",
      "Failed to download file: Invalid URL 'http:/downloads/2019-01-16//aa/10.1002@advs.201801584.pdf#navpanes=0&view=FitH': No host supplied\n",
      "Failed to download file: HTTPSConnectionPool(host='zero.sci-hub.se', port=443): Max retries exceeded with url: /6730/714993ab0e864f8727df45d1b8be9e33/wu2018.pdf (Caused by SSLError(SSLEOFError(8, 'EOF occurred in violation of protocol (_ssl.c:997)')))\n",
      "Failed to download file: HTTPSConnectionPool(host='zero.sci-hub.se', port=443): Max retries exceeded with url: /1611/c7ada3a54cb5dadd8b2f02c7e9c7f24a/fukumoto1994.pdf (Caused by SSLError(SSLEOFError(8, 'EOF occurred in violation of protocol (_ssl.c:997)')))\n",
      "Failed to download file: HTTPSConnectionPool(host='moscow.sci-hub.se', port=443): Max retries exceeded with url: /4355/0cde32fc4032038ba16bb8a2c90f8006/kurihara2004.pdf (Caused by SSLError(SSLEOFError(8, 'EOF occurred in violation of protocol (_ssl.c:997)')))\n",
      "Failed to download file: HTTPSConnectionPool(host='zero.sci-hub.se', port=443): Max retries exceeded with url: /3267/8fac2844eba4a99236aa49a7a38b6f5a/fisher1990.pdf (Caused by SSLError(SSLEOFError(8, 'EOF occurred in violation of protocol (_ssl.c:997)')))\n",
      "Failed to download file: HTTPSConnectionPool(host='zero.sci-hub.se', port=443): Max retries exceeded with url: /1292/9a3e8e3d092befc15e9c5230a74c47d2/terhaarromeny1994.pdf (Caused by SSLError(SSLEOFError(8, 'EOF occurred in violation of protocol (_ssl.c:997)')))\n",
      "Failed to download file: HTTPSConnectionPool(host='zero.sci-hub.se', port=443): Max retries exceeded with url: /722/2bf09e05e3be6cf9472e85c55bd27e53/beveridge2005.pdf (Caused by SSLError(SSLEOFError(8, 'EOF occurred in violation of protocol (_ssl.c:997)')))\n",
      "Failed to download file: HTTPSConnectionPool(host='zero.sci-hub.se', port=443): Max retries exceeded with url: /185/e1fda2e3169fb9c5de5296d9612ae3e5/tolani2000.pdf (Caused by SSLError(SSLEOFError(8, 'EOF occurred in violation of protocol (_ssl.c:997)')))\n",
      "Failed to download file: HTTPSConnectionPool(host='zero.sci-hub.se', port=443): Max retries exceeded with url: /4499/32b3d77012a0d2786cb1fc572626cde8/shi2015.pdf (Caused by SSLError(SSLEOFError(8, 'EOF occurred in violation of protocol (_ssl.c:997)')))\n",
      "Failed to download file: HTTPSConnectionPool(host='zero.sci-hub.se', port=443): Max retries exceeded with url: /573/215b694fa75bef409ac1389052e3d092/tsotsos1988.pdf (Caused by SSLError(SSLEOFError(8, 'EOF occurred in violation of protocol (_ssl.c:997)')))\n",
      "Failed to download file: HTTPSConnectionPool(host='zero.sci-hub.se', port=443): Max retries exceeded with url: /7058/6647a33dc451a90888469c63126d7146/kan2018.pdf (Caused by SSLError(SSLEOFError(8, 'EOF occurred in violation of protocol (_ssl.c:997)')))\n",
      "Failed to download file: HTTPSConnectionPool(host='moscow.sci-hub.se', port=443): Max retries exceeded with url: /1822/16334bcd1da5ef5e838b8a42e993f6ca/grady2006.pdf (Caused by SSLError(SSLEOFError(8, 'EOF occurred in violation of protocol (_ssl.c:997)')))\n",
      "Failed to download file: HTTPSConnectionPool(host='moscow.sci-hub.se', port=443): Max retries exceeded with url: /1384/a7c6fcad4773ec7e345f464aef56e7d1/cignoni1998.pdf (Caused by SSLError(SSLEOFError(8, 'EOF occurred in violation of protocol (_ssl.c:997)')))\n",
      "Failed to download file: HTTPSConnectionPool(host='zero.sci-hub.se', port=443): Max retries exceeded with url: /116/08533cf4473159d9d76dcf49ca19be4d/barnard2002.pdf (Caused by SSLError(SSLEOFError(8, 'EOF occurred in violation of protocol (_ssl.c:997)')))\n",
      "Failed to download file: HTTPSConnectionPool(host='moscow.sci-hub.se', port=443): Max retries exceeded with url: /4239/2bd0f82bdecef11d22e7f4882ca30ea5/ghorbani2008.pdf (Caused by SSLError(SSLEOFError(8, 'EOF occurred in violation of protocol (_ssl.c:997)')))\n",
      "Failed to download file: HTTPSConnectionPool(host='moscow.sci-hub.se', port=443): Max retries exceeded with url: /1813/f84907898be62ee94986c5d60c56a101/cappelli1999.pdf (Caused by SSLError(SSLEOFError(8, 'EOF occurred in violation of protocol (_ssl.c:997)')))\n",
      "Failed to download file: HTTPSConnectionPool(host='zero.sci-hub.se', port=443): Max retries exceeded with url: /5614/f46a860441be0cd63481e1430b15767f/10.1145@2185520.2185543.pdf (Caused by SSLError(SSLEOFError(8, 'EOF occurred in violation of protocol (_ssl.c:997)')))\n",
      "Failed to download file: HTTPSConnectionPool(host='zero.sci-hub.se', port=443): Max retries exceeded with url: /13/42130ad230308541e4e4f2e3f8616667/shenton1999.pdf (Caused by SSLError(SSLEOFError(8, 'EOF occurred in violation of protocol (_ssl.c:997)')))\n",
      "Failed to download file: HTTPSConnectionPool(host='zero.sci-hub.se', port=443): Max retries exceeded with url: /1682/f7cf810c8a9b3040b6f2415c542e2e2c/weber2012.pdf (Caused by SSLError(SSLEOFError(8, 'EOF occurred in violation of protocol (_ssl.c:997)')))\n",
      "Failed to download file: HTTPSConnectionPool(host='moscow.sci-hub.se', port=443): Max retries exceeded with url: /3940/965f105f80ebf4ccf8496850b2010a56/what-is-a-good-image-segment-a-unified-approach-to-segment-extra.pdf (Caused by SSLError(SSLEOFError(8, 'EOF occurred in violation of protocol (_ssl.c:997)')))\n",
      "Failed to download file: HTTPSConnectionPool(host='moscow.sci-hub.se', port=443): Max retries exceeded with url: /2762/fca9d453674a46570d9f17e4a23bc10d/ren2014.pdf (Caused by SSLError(SSLEOFError(8, 'EOF occurred in violation of protocol (_ssl.c:997)')))\n",
      "Failed to download file: HTTPSConnectionPool(host='moscow.sci-hub.se', port=443): Max retries exceeded with url: /1448/cb60e14f9ea809e633def23ba58d0235/comba1999.pdf (Caused by SSLError(SSLEOFError(8, 'EOF occurred in violation of protocol (_ssl.c:997)')))\n",
      "Failed to download file: HTTPSConnectionPool(host='zero.sci-hub.se', port=443): Max retries exceeded with url: /2123/cd817ca85c4d1609402897bf0164c5d3/fang2007.pdf (Caused by SSLError(SSLEOFError(8, 'EOF occurred in violation of protocol (_ssl.c:997)')))\n",
      "Failed to download file: HTTPSConnectionPool(host='moscow.sci-hub.se', port=443): Max retries exceeded with url: /3919/4088275d5e26bc96c88c48c6fb31275b/kotlyar1994.pdf (Caused by SSLError(SSLEOFError(8, 'EOF occurred in violation of protocol (_ssl.c:997)')))\n",
      "Failed to download file: Invalid URL 'http:/downloads/2021-06-09/4c/glauser2017.pdf#navpanes=0&view=FitH': No host supplied\n",
      "Failed to download file: Invalid URL 'http:/tree/28/6c/286c7d99f3768ebfaa5551a1e661ebde.pdf#navpanes=0&view=FitH': No host supplied\n",
      "Failed to download file: HTTPSConnectionPool(host='zero.sci-hub.se', port=443): Max retries exceeded with url: /3315/4084adea9f37f4c2cf1f5769d7dafd2c/zheng2006.pdf (Caused by SSLError(SSLEOFError(8, 'EOF occurred in violation of protocol (_ssl.c:997)')))\n",
      "Failed to download file: HTTPSConnectionPool(host='moscow.sci-hub.se', port=443): Max retries exceeded with url: /856/a5dc232d7d9de127fe8c891348dedcf1/wang2009.pdf (Caused by SSLError(SSLEOFError(8, 'EOF occurred in violation of protocol (_ssl.c:997)')))\n",
      "Failed to download file: HTTPSConnectionPool(host='zero.sci-hub.se', port=443): Max retries exceeded with url: /6127/81ef4d5cc6a3137b646d498b3b1796bb/schoorman2007.pdf (Caused by SSLError(SSLEOFError(8, 'EOF occurred in violation of protocol (_ssl.c:997)')))\n",
      "Failed to download file: HTTPSConnectionPool(host='zero.sci-hub.se', port=443): Max retries exceeded with url: /4418/56507971e616ef51b0e626a2496e49d4/zhang2015.pdf (Caused by SSLError(SSLEOFError(8, 'EOF occurred in violation of protocol (_ssl.c:997)')))\n",
      "Failed to download file: HTTPSConnectionPool(host='zero.sci-hub.se', port=443): Max retries exceeded with url: /1530/b1fa7f63edb2bc88966fae0b8a73014c/vo2010.pdf (Caused by SSLError(SSLEOFError(8, 'EOF occurred in violation of protocol (_ssl.c:997)')))\n",
      "Failed to download file: Invalid URL 'http:/downloads/2021-06-09/e1/xiao2020.pdf#navpanes=0&view=FitH': No host supplied\n",
      "Failed to download file: HTTPSConnectionPool(host='zero.sci-hub.se', port=443): Max retries exceeded with url: /1994/b13322451a451f210f42a7055ec0a7eb/wolstein2009.pdf (Caused by SSLError(SSLEOFError(8, 'EOF occurred in violation of protocol (_ssl.c:997)')))\n",
      "Failed to download file: HTTPSConnectionPool(host='zero.sci-hub.se', port=443): Max retries exceeded with url: /1834/3c7a81a2cb4d675d1d94a3abd585ddd8/lu2013.pdf (Caused by SSLError(SSLEOFError(8, 'EOF occurred in violation of protocol (_ssl.c:997)')))\n",
      "Failed to download file: HTTPSConnectionPool(host='moscow.sci-hub.se', port=443): Max retries exceeded with url: /4951/8909393c9e61d99c5834d44743cd9d8a/minogue2015.pdf (Caused by SSLError(SSLEOFError(8, 'EOF occurred in violation of protocol (_ssl.c:997)')))\n",
      "Failed to download file: HTTPSConnectionPool(host='zero.sci-hub.se', port=443): Max retries exceeded with url: /3971/270b1c5bf64787e0c35490c4322b2445/10.1007@978-3-319-10602-135.pdf (Caused by SSLError(SSLEOFError(8, 'EOF occurred in violation of protocol (_ssl.c:997)')))\n",
      "Failed to download file: HTTPSConnectionPool(host='zero.sci-hub.se', port=443): Max retries exceeded with url: /4001/a3d6ca71bfd7deb9332a1ac8552232ee/kim2010.pdf (Caused by SSLError(SSLEOFError(8, 'EOF occurred in violation of protocol (_ssl.c:997)')))\n",
      "Failed to download file: HTTPSConnectionPool(host='moscow.sci-hub.se', port=443): Max retries exceeded with url: /722/d7087762cef5b4dfd832efd760edd192/park2009.pdf (Caused by SSLError(SSLEOFError(8, 'EOF occurred in violation of protocol (_ssl.c:997)')))\n",
      "Failed to download file: HTTPSConnectionPool(host='zero.sci-hub.se', port=443): Max retries exceeded with url: /2085/cd3ec30b495accc8a1fe7a8f205c0623/wu2013.pdf (Caused by SSLError(SSLEOFError(8, 'EOF occurred in violation of protocol (_ssl.c:997)')))\n",
      "Failed to download file: HTTPSConnectionPool(host='moscow.sci-hub.se', port=443): Max retries exceeded with url: /3978/3a8c16ac88b70c5983436ac48e309e21/riazuelo2015.pdf (Caused by SSLError(SSLEOFError(8, 'EOF occurred in violation of protocol (_ssl.c:997)')))\n",
      "Failed to download file: HTTPSConnectionPool(host='zero.sci-hub.se', port=443): Max retries exceeded with url: /7034/f0e2133e438994b0a7ea7187b90719e2/jarabo2018.pdf (Caused by SSLError(SSLEOFError(8, 'EOF occurred in violation of protocol (_ssl.c:997)')))\n",
      "Failed to download file: HTTPSConnectionPool(host='zero.sci-hub.se', port=443): Max retries exceeded with url: /4761/7e81e5905e716e147b8ae7d0ca73f383/getoor2001.pdf (Caused by SSLError(SSLEOFError(8, 'EOF occurred in violation of protocol (_ssl.c:997)')))\n",
      "Failed to download file: HTTPSConnectionPool(host='moscow.sci-hub.se', port=443): Max retries exceeded with url: /3522/41b31a842b2d3a26966d6b34c6367393/suwajanakorn2014.pdf (Caused by SSLError(SSLEOFError(8, 'EOF occurred in violation of protocol (_ssl.c:997)')))\n",
      "Failed to download file: HTTPSConnectionPool(host='zero.sci-hub.se', port=443): Max retries exceeded with url: /803/b36c81cd963c0ff14ea9282cb34bd24f/gijsenij2008.pdf (Caused by SSLError(SSLEOFError(8, 'EOF occurred in violation of protocol (_ssl.c:997)')))\n",
      "Failed to download file: HTTPSConnectionPool(host='zero.sci-hub.se', port=443): Max retries exceeded with url: /3854/3d9fbb856e8c3f2609bf65523567db76/liangjunzhang2008.pdf (Caused by SSLError(SSLEOFError(8, 'EOF occurred in violation of protocol (_ssl.c:997)')))\n",
      "Failed to download file: HTTPSConnectionPool(host='moscow.sci-hub.se', port=443): Max retries exceeded with url: /4517/3a7ebeadd6690cea11bfd96d3721ef21/vandenboomgaard1997.pdf (Caused by SSLError(SSLEOFError(8, 'EOF occurred in violation of protocol (_ssl.c:997)')))\n",
      "Failed to download file: HTTPSConnectionPool(host='zero.sci-hub.se', port=443): Max retries exceeded with url: /5515/dc85ca16a7ec5ff9de9b3eaeabc42eae/zhang2016.pdf (Caused by SSLError(SSLEOFError(8, 'EOF occurred in violation of protocol (_ssl.c:997)')))\n",
      "Failed to download file: HTTPSConnectionPool(host='zero.sci-hub.se', port=443): Max retries exceeded with url: /3301/e961266c6a0f724f7dd087bd87fddd9c/lin2013.pdf (Caused by SSLError(SSLEOFError(8, 'EOF occurred in violation of protocol (_ssl.c:997)')))\n",
      "Failed to download file: HTTPSConnectionPool(host='moscow.sci-hub.se', port=443): Max retries exceeded with url: /2202/629dc393f64e7130cec3c94d675b045c/moon2013.pdf (Caused by SSLError(SSLEOFError(8, 'EOF occurred in violation of protocol (_ssl.c:997)')))\n",
      "Failed to download file: HTTPSConnectionPool(host='moscow.sci-hub.se', port=443): Max retries exceeded with url: /743/c53c8ca4836eafff562bf7cd5c37666a/franken2005.pdf (Caused by SSLError(SSLEOFError(8, 'EOF occurred in violation of protocol (_ssl.c:997)')))\n",
      "Failed to download file: HTTPSConnectionPool(host='moscow.sci-hub.se', port=443): Max retries exceeded with url: /1822/cf8312a03dd5ba6bcfedfd60ea76fd23/akhter2011.pdf (Caused by SSLError(SSLEOFError(8, 'EOF occurred in violation of protocol (_ssl.c:997)')))\n",
      "Failed to download file: Invalid URL 'http:/downloads/2021-05-14//2a/zou2021.pdf#navpanes=0&view=FitH': No host supplied\n",
      "Failed to download file: HTTPSConnectionPool(host='zero.sci-hub.se', port=443): Max retries exceeded with url: /803/0bc431690ab8165614a7205f6031b289/ogale2005.pdf (Caused by SSLError(SSLEOFError(8, 'EOF occurred in violation of protocol (_ssl.c:997)')))\n",
      "Failed to download file: Invalid URL 'http:/downloads/2019-03-30/d8/henzler2018.pdf#navpanes=0&view=FitH': No host supplied\n",
      "Failed to download file: HTTPSConnectionPool(host='moscow.sci-hub.se', port=443): Max retries exceeded with url: /3101/01bb3deaab7a1fa68ae18fd28b72b948/greenspan2006.pdf (Caused by SSLError(SSLEOFError(8, 'EOF occurred in violation of protocol (_ssl.c:997)')))\n",
      "Failed to download file: HTTPSConnectionPool(host='moscow.sci-hub.se', port=443): Max retries exceeded with url: /4414/965432ba48f8a771de5f011d66a43e6e/10.1063@1.2220361.pdf (Caused by SSLError(SSLEOFError(8, 'EOF occurred in violation of protocol (_ssl.c:997)')))\n",
      "Failed to download file: HTTPSConnectionPool(host='zero.sci-hub.se', port=443): Max retries exceeded with url: /6565/1019d88bbf645984704913f9de39a332/wang2017.pdf (Caused by SSLError(SSLEOFError(8, 'EOF occurred in violation of protocol (_ssl.c:997)')))\n",
      "Failed to download file: HTTPSConnectionPool(host='zero.sci-hub.se', port=443): Max retries exceeded with url: /1823/496ef7cd8fea3eb6eee75b164e2727e3/guo2005.pdf (Caused by SSLError(SSLEOFError(8, 'EOF occurred in violation of protocol (_ssl.c:997)')))\n",
      "Failed to download file: HTTPSConnectionPool(host='zero.sci-hub.se', port=443): Max retries exceeded with url: /185/65c04fea520529a7eb1c2469604367b0/gagvani1999.pdf (Caused by SSLError(SSLEOFError(8, 'EOF occurred in violation of protocol (_ssl.c:997)')))\n",
      "Failed to download file: Invalid URL 'http:/downloads/2020-09-03/5b/li2018.pdf#navpanes=0&view=FitH': No host supplied\n",
      "Failed to download file: HTTPSConnectionPool(host='zero.sci-hub.se', port=443): Max retries exceeded with url: /2463/dcdca33a066719757f0cdeab27ef8865/nagar2012.pdf (Caused by SSLError(SSLEOFError(8, 'EOF occurred in violation of protocol (_ssl.c:997)')))\n",
      "Failed to download file: HTTPSConnectionPool(host='moscow.sci-hub.se', port=443): Max retries exceeded with url: /5331/f5f874e7e04ed98040f68514abe5ab3b/pezzotti2016.pdf (Caused by SSLError(SSLEOFError(8, 'EOF occurred in violation of protocol (_ssl.c:997)')))\n",
      "Failed to download file: HTTPSConnectionPool(host='moscow.sci-hub.se', port=443): Max retries exceeded with url: /1448/badaaabf446ced25eff3d62eaadac0cc/kang2001.pdf (Caused by SSLError(SSLEOFError(8, 'EOF occurred in violation of protocol (_ssl.c:997)')))\n",
      "Failed to download file: Invalid URL 'http:/tree/3c/73/3c738cac51c41f8bb6975354c0a898ae.pdf#navpanes=0&view=FitH': No host supplied\n",
      "Failed to download file: HTTPSConnectionPool(host='zero.sci-hub.se', port=443): Max retries exceeded with url: /4383/3ac8304356c9a957c4f9484fe25ad739/derendarz2012.pdf (Caused by SSLError(SSLEOFError(8, 'EOF occurred in violation of protocol (_ssl.c:997)')))\n",
      "Failed to download file: HTTPSConnectionPool(host='moscow.sci-hub.se', port=443): Max retries exceeded with url: /4685/ee05d70a5a329fcbacf5503e6412be3f/frantzides2002.pdf (Caused by SSLError(SSLEOFError(8, 'EOF occurred in violation of protocol (_ssl.c:997)')))\n",
      "Failed to download file: HTTPSConnectionPool(host='zero.sci-hub.se', port=443): Max retries exceeded with url: /1812/eb8fbc5931bb5201f7e1df13122616e2/bitter2001.pdf (Caused by SSLError(SSLEOFError(8, 'EOF occurred in violation of protocol (_ssl.c:997)')))\n",
      "Failed to download file: HTTPSConnectionPool(host='moscow.sci-hub.se', port=443): Max retries exceeded with url: /942/35dd58b7e87e5700fa508d47811c6d47/hulusic2012.pdf (Caused by SSLError(SSLEOFError(8, 'EOF occurred in violation of protocol (_ssl.c:997)')))\n",
      "Failed to download file: HTTPSConnectionPool(host='zero.sci-hub.se', port=443): Max retries exceeded with url: /330/0bde0fcea8f64a3b88c63d788ab6bf94/badonnel2008.pdf (Caused by SSLError(SSLEOFError(8, 'EOF occurred in violation of protocol (_ssl.c:997)')))\n",
      "Failed to download file: HTTPSConnectionPool(host='zero.sci-hub.se', port=443): Max retries exceeded with url: /133/e651b369f9c35152af1bf1db734909e3/grabowski1994.pdf (Caused by SSLError(SSLEOFError(8, 'EOF occurred in violation of protocol (_ssl.c:997)')))\n",
      "Failed to download file: status code 403\n",
      "Failed to download file: HTTPSConnectionPool(host='zero.sci-hub.se', port=443): Max retries exceeded with url: /2334/dbfdd3f7c84fbfe96b4b75bd838af56d/lister1982.pdf (Caused by SSLError(SSLEOFError(8, 'EOF occurred in violation of protocol (_ssl.c:997)')))\n",
      "Failed to download file: HTTPSConnectionPool(host='zero.sci-hub.se', port=443): Max retries exceeded with url: /4435/878ba634b46d75aefd96367347333488/thiery2013.pdf (Caused by SSLError(SSLEOFError(8, 'EOF occurred in violation of protocol (_ssl.c:997)')))\n",
      "Failed to download file: HTTPSConnectionPool(host='zero.sci-hub.se', port=443): Max retries exceeded with url: /5835/03b28b3f775216fe03ade000c6ec5b45/zhu2016.pdf (Caused by SSLError(SSLEOFError(8, 'EOF occurred in violation of protocol (_ssl.c:997)')))\n",
      "Failed to download file: HTTPSConnectionPool(host='moscow.sci-hub.se', port=443): Max retries exceeded with url: /803/069b19298be5caba621b8db57bb95c8c/ruggeri2009.pdf (Caused by SSLError(SSLEOFError(8, 'EOF occurred in violation of protocol (_ssl.c:997)')))\n",
      "Failed to download file: status code 403\n",
      "Failed to download file: status code 403\n",
      "Failed to download file: status code 403\n",
      "Failed to download file: HTTPSConnectionPool(host='zero.sci-hub.se', port=443): Max retries exceeded with url: /6911/8f0427a6d61325fd87b83187c264686d/planck-2015-cosmological-results-2016.pdf (Caused by SSLError(SSLEOFError(8, 'EOF occurred in violation of protocol (_ssl.c:997)')))\n",
      "Failed to download file: HTTPSConnectionPool(host='moscow.sci-hub.se', port=443): Max retries exceeded with url: /3131/0de175831fe0eba56f4a9c8bac1cf8ed/sochen1998.pdf (Caused by SSLError(SSLEOFError(8, 'EOF occurred in violation of protocol (_ssl.c:997)')))\n",
      "Failed to download file: Invalid URL 'http:/downloads/2020-01-20/1e83/liu2019.pdf#navpanes=0&view=FitH': No host supplied\n",
      "Failed to download file: Invalid URL 'http:/downloads/2020-03-27/e3/10.1038@s41586-020-2145-8.pdf#navpanes=0&view=FitH': No host supplied\n",
      "Failed to download file: HTTPSConnectionPool(host='zero.sci-hub.se', port=443): Max retries exceeded with url: /3502/1cc736db234098961d401e40da447d43/lu2014.pdf (Caused by SSLError(SSLEOFError(8, 'EOF occurred in violation of protocol (_ssl.c:997)')))\n",
      "Failed to download file: Invalid URL 'http:/tree/1e/6f/1e6f5a162098eeb1364601d2d6fbdcb8.pdf#navpanes=0&view=FitH': No host supplied\n",
      "Failed to download file: HTTPSConnectionPool(host='moscow.sci-hub.se', port=443): Max retries exceeded with url: /1336/0022d799f090ea86c834f4484cd40232/schroeder2012.pdf (Caused by SSLError(SSLEOFError(8, 'EOF occurred in violation of protocol (_ssl.c:997)')))\n",
      "Failed to download file: Invalid URL 'http:/downloads/2019-01-21//83/sun2011.pdf#navpanes=0&view=FitH': No host supplied\n",
      "Failed to download file: status code 403\n",
      "Failed to download file: HTTPSConnectionPool(host='moscow.sci-hub.se', port=443): Max retries exceeded with url: /2459/bcf9f1eddf7efe4585147a2906b2360a/gorelick2013.pdf (Caused by SSLError(SSLEOFError(8, 'EOF occurred in violation of protocol (_ssl.c:997)')))\n",
      "Failed to download file: status code 403\n",
      "Failed to download file: HTTPSConnectionPool(host='moscow.sci-hub.se', port=443): Max retries exceeded with url: /3356/f8eec2505dd17050fc4aabb2a9218d50/hoonpaek1998.pdf (Caused by SSLError(SSLEOFError(8, 'EOF occurred in violation of protocol (_ssl.c:997)')))\n",
      "Failed to download file: status code 403\n",
      "Failed to download file: HTTPSConnectionPool(host='moscow.sci-hub.se', port=443): Max retries exceeded with url: /3195/e3cedca8a0f551c7e9b47a1edf7dcef6/guerreiro2008.pdf (Caused by SSLError(SSLEOFError(8, 'EOF occurred in violation of protocol (_ssl.c:997)')))\n",
      "Failed to download file: Invalid URL 'http:/downloads/2019-11-17/d4/maltoni2019.pdf#navpanes=0&view=FitH': No host supplied\n",
      "Failed to download file: HTTPSConnectionPool(host='moscow.sci-hub.se', port=443): Max retries exceeded with url: /942/e37bb2cad86be15e6673fe052b105a67/castro2008.pdf (Caused by SSLError(SSLEOFError(8, 'EOF occurred in violation of protocol (_ssl.c:997)')))\n",
      "Failed to download file: HTTPSConnectionPool(host='moscow.sci-hub.se', port=443): Max retries exceeded with url: /3751/18611f657e46b9d7b2e939cece890059/barr2004.pdf (Caused by SSLError(SSLEOFError(8, 'EOF occurred in violation of protocol (_ssl.c:997)')))\n",
      "Failed to download file: status code 403\n",
      "Failed to download file: status code 403\n",
      "Failed to download file: HTTPSConnectionPool(host='zero.sci-hub.se', port=443): Max retries exceeded with url: /5544/89f0b9ca2c4a16dc2b619c935a01ef97/hird1989.pdf (Caused by SSLError(SSLEOFError(8, 'EOF occurred in violation of protocol (_ssl.c:997)')))\n",
      "Failed to download file: HTTPSConnectionPool(host='moscow.sci-hub.se', port=443): Max retries exceeded with url: /1147/ec3217f017ea7a45b9cb132632fe3145/chen2012.pdf (Caused by SSLError(SSLEOFError(8, 'EOF occurred in violation of protocol (_ssl.c:997)')))\n",
      "Failed to download file: HTTPSConnectionPool(host='moscow.sci-hub.se', port=443): Max retries exceeded with url: /1814/cb514c6d8ba6532d1369cb5b7b5149ef/teng-seeloke1992.pdf (Caused by SSLError(SSLEOFError(8, 'EOF occurred in violation of protocol (_ssl.c:997)')))\n",
      "Failed to download file: Invalid URL 'http:/downloads/2019-07-17/fe/10.1007@s10278-019-00211-5.pdf#navpanes=0&view=FitH': No host supplied\n",
      "Failed to download file: status code 403\n",
      "Failed to download file: Invalid URL 'http:/downloads/2019-02-15/b6/oup-accepted-manuscript-2018.pdf#navpanes=0&view=FitH': No host supplied\n",
      "Failed to download file: status code 403\n",
      "Failed to download file: HTTPSConnectionPool(host='moscow.sci-hub.se', port=443): Max retries exceeded with url: /1868/521106b96810b23187ebe6b489d48853/reeves2006.pdf (Caused by SSLError(SSLEOFError(8, 'EOF occurred in violation of protocol (_ssl.c:997)')))\n",
      "Failed to download file: status code 403\n",
      "Failed to download file: HTTPSConnectionPool(host='zero.sci-hub.se', port=443): Max retries exceeded with url: /3732/3c538167c4ffea5d9fafd82aa39d0268/liu2015.pdf (Caused by SSLError(SSLEOFError(8, 'EOF occurred in violation of protocol (_ssl.c:997)')))\n",
      "Failed to download file: Invalid URL 'http:/downloads/2021-08-19/1b/watanabe2021.pdf#navpanes=0&view=FitH': No host supplied\n",
      "Failed to download file: HTTPSConnectionPool(host='moscow.sci-hub.se', port=443): Max retries exceeded with url: /3573/411231c25870ef4c2a7ba2f0bd404f9c/kittler1989.pdf (Caused by SSLError(SSLEOFError(8, 'EOF occurred in violation of protocol (_ssl.c:997)')))\n",
      "Failed to download file: HTTPSConnectionPool(host='moscow.sci-hub.se', port=443): Max retries exceeded with url: /2128/8d43f4d5a61cf05d25c7e48f0fc4d43a/yuegao2013.pdf (Caused by SSLError(SSLEOFError(8, 'EOF occurred in violation of protocol (_ssl.c:997)')))\n",
      "Failed to download file: HTTPSConnectionPool(host='zero.sci-hub.se', port=443): Max retries exceeded with url: /4366/31f4dde5ec2a525567d3d3cb7dd8eca9/bell2015.pdf (Caused by SSLError(SSLEOFError(8, 'EOF occurred in violation of protocol (_ssl.c:997)')))\n",
      "Failed to download file: status code 403\n",
      "Failed to download file: Invalid URL 'http:/downloads/2020-10-05/e2/gwosdek2012.pdf#navpanes=0&view=FitH': No host supplied\n",
      "Failed to download file: status code 403\n",
      "Failed to download file: HTTPSConnectionPool(host='moscow.sci-hub.se', port=443): Max retries exceeded with url: /1180/8b09ff1f2232bbb8cab91f749b4823a2/daribo2012.pdf (Caused by SSLError(SSLEOFError(8, 'EOF occurred in violation of protocol (_ssl.c:997)')))\n",
      "Failed to download file: HTTPSConnectionPool(host='moscow.sci-hub.se', port=443): Max retries exceeded with url: /1891/4ca4e97743c8dc4652ee8fcc1cbc79ac/robinson-mosher2011.pdf (Caused by SSLError(SSLEOFError(8, 'EOF occurred in violation of protocol (_ssl.c:997)')))\n",
      "Failed to download file: Invalid URL 'http:/downloads/2019-01-19//65/nonexecutive-employee-ownership-and-corporate-risktaking.pdf#navpanes=0&view=FitH': No host supplied\n",
      "Failed to download file: HTTPSConnectionPool(host='zero.sci-hub.se', port=443): Max retries exceeded with url: /306/9b09942f7283b7dbe6a1811934528971/meggiolaro2005.pdf (Caused by SSLError(SSLEOFError(8, 'EOF occurred in violation of protocol (_ssl.c:997)')))\n",
      "Failed to download file: HTTPSConnectionPool(host='zero.sci-hub.se', port=443): Max retries exceeded with url: /6347/05c47ed97947d265114768ee8bedd7f5/ayinde2017.pdf (Caused by SSLError(SSLEOFError(8, 'EOF occurred in violation of protocol (_ssl.c:997)')))\n",
      "Failed to download file: status code 403\n",
      "Failed to download file: status code 403\n",
      "Failed to download file: status code 403\n",
      "Failed to download file: HTTPSConnectionPool(host='zero.sci-hub.se', port=443): Max retries exceeded with url: /316/2fc6121f8f9bd3ff2835f8beddadbc6c/kohout2005.pdf (Caused by SSLError(SSLEOFError(8, 'EOF occurred in violation of protocol (_ssl.c:997)')))\n",
      "Failed to download file: HTTPSConnectionPool(host='zero.sci-hub.se', port=443): Max retries exceeded with url: /6592/eb0c4920c39de289f6179b8027776762/carboneraluvizon2017.pdf (Caused by SSLError(SSLEOFError(8, 'EOF occurred in violation of protocol (_ssl.c:997)')))\n",
      "Failed to download file: HTTPSConnectionPool(host='moscow.sci-hub.se', port=443): Max retries exceeded with url: /4887/f8c669589c1e1277af3a45fcc2ec1c1d/peters2015.pdf (Caused by SSLError(SSLEOFError(8, 'EOF occurred in violation of protocol (_ssl.c:997)')))\n",
      "Failed to download file: HTTPSConnectionPool(host='zero.sci-hub.se', port=443): Max retries exceeded with url: /4321/6c6b80223db0c5e7e250825cd8d5a385/thalmann1990.pdf (Caused by SSLError(SSLEOFError(8, 'EOF occurred in violation of protocol (_ssl.c:997)')))\n",
      "Failed to download file: HTTPSConnectionPool(host='zero.sci-hub.se', port=443): Max retries exceeded with url: /942/98dc1c21524cd61f1f47c693eb48de71/eppstein2008.pdf (Caused by SSLError(SSLEOFError(8, 'EOF occurred in violation of protocol (_ssl.c:997)')))\n",
      "Failed to download file: HTTPSConnectionPool(host='moscow.sci-hub.se', port=443): Max retries exceeded with url: /4321/5dd46cb866ef95988f981abfc3ffb302/miller2008.pdf (Caused by SSLError(SSLEOFError(8, 'EOF occurred in violation of protocol (_ssl.c:997)')))\n",
      "Failed to download file: status code 403\n",
      "Failed to download file: Invalid URL 'http:/downloads/2020-03-21/2d/10.1016@j.cma.2020.112979.pdf#navpanes=0&view=FitH': No host supplied\n",
      "Failed to download file: status code 403\n",
      "Failed to download file: HTTPSConnectionPool(host='zero.sci-hub.se', port=443): Max retries exceeded with url: /4916/fc10403a4947bc4cd955632809be6233/furtado2016.pdf (Caused by SSLError(SSLEOFError(8, 'EOF occurred in violation of protocol (_ssl.c:997)')))\n",
      "Failed to download file: Invalid URL 'http:/downloads/2020-06-08/53/dogrucu2020.pdf#navpanes=0&view=FitH': No host supplied\n",
      "Failed to download file: HTTPSConnectionPool(host='moscow.sci-hub.se', port=443): Max retries exceeded with url: /2274/05d38a9d619f8fb0baa0f2f5e6587c26/achim2006.pdf (Caused by SSLError(SSLEOFError(8, 'EOF occurred in violation of protocol (_ssl.c:997)')))\n"
     ]
    },
    {
     "name": "stderr",
     "output_type": "stream",
     "text": [
      " 69%|██████▉   | 8253/11877 [25:12<03:11, 18.90it/s]"
     ]
    },
    {
     "name": "stdout",
     "output_type": "stream",
     "text": [
      "Failed to download file: HTTPSConnectionPool(host='zero.sci-hub.se', port=443): Max retries exceeded with url: /6369/81e604234b1bbedaee33bce8fa689b40/zheng2017.pdf (Caused by SSLError(SSLEOFError(8, 'EOF occurred in violation of protocol (_ssl.c:997)')))\n",
      "Failed to download file: status code 403\n",
      "Failed to download file: status code 403\n",
      "Failed to download file: Invalid URL 'http:/downloads/2021-06-11/da/fan2014.pdf#navpanes=0&view=FitH': No host supplied\n",
      "Failed to download file: HTTPSConnectionPool(host='moscow.sci-hub.se', port=443): Max retries exceeded with url: /2459/77f39293e460a38d868dad34b5f869ef/holte2012.pdf (Caused by SSLError(SSLEOFError(8, 'EOF occurred in violation of protocol (_ssl.c:997)')))\n",
      "Failed to download file: HTTPSConnectionPool(host='moscow.sci-hub.se', port=443): Max retries exceeded with url: /3818/3c2890eeae68023234b3e4a246d8d962/tengli2015.pdf (Caused by SSLError(SSLEOFError(8, 'EOF occurred in violation of protocol (_ssl.c:997)')))\n",
      "Failed to download file: HTTPSConnectionPool(host='moscow.sci-hub.se', port=443): Max retries exceeded with url: /2494/ab62861e56a8e6fe6770b8154cc224dd/wu2014.pdf (Caused by SSLError(SSLEOFError(8, 'EOF occurred in violation of protocol (_ssl.c:997)')))\n",
      "Failed to download file: HTTPSConnectionPool(host='moscow.sci-hub.se', port=443): Max retries exceeded with url: /3916/bf0952d08787628429d2552070be9d4c/krishnan2013.pdf (Caused by SSLError(SSLEOFError(8, 'EOF occurred in violation of protocol (_ssl.c:997)')))\n",
      "Failed to download file: Invalid URL 'http:/downloads/2019-11-18/a8/10.1177@1529100619889954.pdf#navpanes=0&view=FitH': No host supplied\n",
      "Failed to download file: status code 403\n",
      "Failed to download file: Invalid URL 'http:/downloads/2019-11-17/6f/kervadec2019.pdf#navpanes=0&view=FitH': No host supplied\n",
      "Failed to download file: HTTPSConnectionPool(host='moscow.sci-hub.se', port=443): Max retries exceeded with url: /4435/03d511166b9174148881d8e08a203769/belcour2014.pdf (Caused by SSLError(SSLEOFError(8, 'EOF occurred in violation of protocol (_ssl.c:997)')))\n",
      "Failed to download file: Invalid URL 'http:/tree/1e/ee/1eee910dbd9ba5569613e931e8e0d4d9.pdf#navpanes=0&view=FitH': No host supplied\n",
      "Failed to download file: HTTPSConnectionPool(host='zero.sci-hub.se', port=443): Max retries exceeded with url: /1896/b5f8909e43ddc23360ad4561ee53bc9d/kim2002.pdf (Caused by SSLError(SSLEOFError(8, 'EOF occurred in violation of protocol (_ssl.c:997)')))\n",
      "Failed to download file: HTTPSConnectionPool(host='moscow.sci-hub.se', port=443): Max retries exceeded with url: /2173/baf5b92d9967fe51b8e16915f933ff2d/zou2008.pdf (Caused by SSLError(SSLEOFError(8, 'EOF occurred in violation of protocol (_ssl.c:997)')))\n",
      "Failed to download file: HTTPSConnectionPool(host='zero.sci-hub.se', port=443): Max retries exceeded with url: /4369/04261a9c60931493d45e9e26bcc33a51/huang2014.pdf (Caused by SSLError(SSLEOFError(8, 'EOF occurred in violation of protocol (_ssl.c:997)')))\n",
      "Failed to download file: HTTPSConnectionPool(host='moscow.sci-hub.se', port=443): Max retries exceeded with url: /3496/3359cdf40778626e37c1052e62f9d8f9/pottmann2004.pdf (Caused by SSLError(SSLEOFError(8, 'EOF occurred in violation of protocol (_ssl.c:997)')))\n",
      "Failed to download file: status code 403\n",
      "Failed to download file: HTTPSConnectionPool(host='zero.sci-hub.se', port=443): Max retries exceeded with url: /5130/5daa4da969be1bff645e626ef18c5574/peng2016.pdf (Caused by SSLError(SSLEOFError(8, 'EOF occurred in violation of protocol (_ssl.c:997)')))\n",
      "Failed to download file: Invalid URL 'http:/downloads/2020-11-02/29/yu2020.pdf#navpanes=0&view=FitH': No host supplied\n",
      "Failed to download file: HTTPSConnectionPool(host='zero.sci-hub.se', port=443): Max retries exceeded with url: /5586/81e05b337d1a4c8c094576810b77c181/aristidou2015.pdf (Caused by SSLError(SSLEOFError(8, 'EOF occurred in violation of protocol (_ssl.c:997)')))\n",
      "Failed to download file: Invalid URL 'http:/downloads/2019-01-31/73/10.1145@3284980.pdf#navpanes=0&view=FitH': No host supplied\n",
      "Failed to download file: status code 403\n",
      "Failed to download file: Invalid URL 'http:/downloads/2020-06-24//51/manikandan2020.pdf#navpanes=0&view=FitH': No host supplied\n",
      "Failed to download file: status code 403\n",
      "Failed to download file: HTTPSConnectionPool(host='moscow.sci-hub.se', port=443): Max retries exceeded with url: /879/756cb38ae55b2d0631f80a90cc3bb9f4/mcinerney1996.pdf (Caused by SSLError(SSLEOFError(8, 'EOF occurred in violation of protocol (_ssl.c:997)')))\n",
      "Failed to download file: HTTPSConnectionPool(host='moscow.sci-hub.se', port=443): Max retries exceeded with url: /2686/a2082ec9081dd1f56f0173e8b65600c2/sun2014.pdf (Caused by SSLError(SSLEOFError(8, 'EOF occurred in violation of protocol (_ssl.c:997)')))\n",
      "Failed to download file: HTTPSConnectionPool(host='moscow.sci-hub.se', port=443): Max retries exceeded with url: /4834/c035c7335c0ea666c26465cffc0e00c1/biasotti2003.pdf (Caused by SSLError(SSLEOFError(8, 'EOF occurred in violation of protocol (_ssl.c:997)')))\n",
      "Failed to download file: HTTPSConnectionPool(host='zero.sci-hub.se', port=443): Max retries exceeded with url: /1822/e32a996658288e832531b8058d22afed/perronnin2008.pdf (Caused by SSLError(SSLEOFError(8, 'EOF occurred in violation of protocol (_ssl.c:997)')))\n",
      "Failed to download file: HTTPSConnectionPool(host='moscow.sci-hub.se', port=443): Max retries exceeded with url: /4965/38022e4a780c32e1fff3cfc73e4aee66/wei2016.pdf (Caused by SSLError(SSLEOFError(8, 'EOF occurred in violation of protocol (_ssl.c:997)')))\n",
      "Failed to download file: status code 403\n",
      "Failed to download file: HTTPSConnectionPool(host='moscow.sci-hub.se', port=443): Max retries exceeded with url: /4369/3df4930b6e29f6a14864fb305e31a411/valgaerts2012.pdf (Caused by SSLError(SSLEOFError(8, 'EOF occurred in violation of protocol (_ssl.c:997)')))\n",
      "Failed to download file: Invalid URL 'http:/downloads/2021-05-13//dd/watanabe2021.pdf#navpanes=0&view=FitH': No host supplied\n",
      "Failed to download file: Invalid URL 'http:/downloads/2022-11-04/51/yang2021.pdf#navpanes=0&view=FitH': No host supplied\n",
      "Failed to download file: status code 403\n",
      "Failed to download file: status code 403\n",
      "Failed to download file: status code 403\n",
      "Failed to download file: Invalid URL 'http:/downloads/2019-11-04/0a/cheng2019.pdf#navpanes=0&view=FitH': No host supplied\n",
      "Failed to download file: HTTPSConnectionPool(host='zero.sci-hub.se', port=443): Max retries exceeded with url: /7155/95667a04c80d1d4e7deb1d951c014ed1/garcia2018.pdf (Caused by SSLError(SSLEOFError(8, 'EOF occurred in violation of protocol (_ssl.c:997)')))\n",
      "Failed to download file: Invalid URL 'http:/downloads/2020-09-29/2c/maier-hein2020.pdf#navpanes=0&view=FitH': No host supplied\n",
      "Failed to download file: status code 403\n",
      "Failed to download file: HTTPSConnectionPool(host='moscow.sci-hub.se', port=443): Max retries exceeded with url: /1259/768647a14ff00670689fdc23e446c78a/singh2011.pdf (Caused by SSLError(SSLEOFError(8, 'EOF occurred in violation of protocol (_ssl.c:997)')))\n",
      "Failed to download file: status code 403\n",
      "Failed to download file: status code 403\n",
      "Failed to download file: status code 403\n",
      "Failed to download file: HTTPSConnectionPool(host='zero.sci-hub.se', port=443): Max retries exceeded with url: /4379/96852e61f6883f98b5e91c91498b3162/ya-yun2010.pdf (Caused by SSLError(SSLEOFError(8, 'EOF occurred in violation of protocol (_ssl.c:997)')))\n",
      "Failed to download file: HTTPSConnectionPool(host='zero.sci-hub.se', port=443): Max retries exceeded with url: /3199/6a1d0ffa5eb662ee714a87e9e08acbe8/stockwell2007.pdf (Caused by SSLError(SSLEOFError(8, 'EOF occurred in violation of protocol (_ssl.c:997)')))\n",
      "Failed to download file: status code 403\n",
      "Failed to download file: status code 403\n",
      "Failed to download file: status code 403\n",
      "Failed to download file: HTTPSConnectionPool(host='zero.sci-hub.se', port=443): Max retries exceeded with url: /359/2a3ca5375eeb7625360c01e123b77256/le2011.pdf (Caused by SSLError(SSLEOFError(8, 'EOF occurred in violation of protocol (_ssl.c:997)')))\n",
      "Failed to download file: status code 403\n",
      "Failed to download file: HTTPSConnectionPool(host='zero.sci-hub.se', port=443): Max retries exceeded with url: /355/75f8669f3bfce8c400f2dfa3ace0e45b/kim2005.pdf (Caused by SSLError(SSLEOFError(8, 'EOF occurred in violation of protocol (_ssl.c:997)')))\n",
      "Failed to download file: HTTPSConnectionPool(host='moscow.sci-hub.se', port=443): Max retries exceeded with url: /2460/845a19d299f49b2345f71db09e93c468/kang2014.pdf (Caused by SSLError(SSLEOFError(8, 'EOF occurred in violation of protocol (_ssl.c:997)')))\n",
      "Failed to download file: Invalid URL 'http:/downloads/2020-10-22/8a/lathiya2020.pdf#navpanes=0&view=FitH': No host supplied\n",
      "Failed to download file: HTTPSConnectionPool(host='moscow.sci-hub.se', port=443): Max retries exceeded with url: /3443/cb5c9868af27ad97159665871513cd76/weiwang2003.pdf (Caused by SSLError(SSLEOFError(8, 'EOF occurred in violation of protocol (_ssl.c:997)')))\n",
      "Failed to download file: HTTPSConnectionPool(host='moscow.sci-hub.se', port=443): Max retries exceeded with url: /3099/e8184c8886904a7dd1ac21a91069c038/tourian2015.pdf (Caused by SSLError(SSLEOFError(8, 'EOF occurred in violation of protocol (_ssl.c:997)')))\n",
      "Failed to download file: Invalid URL 'http:/downloads/2020-06-19//13/yan2020.pdf#navpanes=0&view=FitH': No host supplied\n",
      "Failed to download file: status code 403\n",
      "Failed to download file: HTTPSConnectionPool(host='zero.sci-hub.se', port=443): Max retries exceeded with url: /3746/aa29f7f9f12c6feb5a96414c8e18722a/pinto2015.pdf (Caused by SSLError(SSLEOFError(8, 'EOF occurred in violation of protocol (_ssl.c:997)')))\n",
      "Failed to download file: HTTPSConnectionPool(host='zero.sci-hub.se', port=443): Max retries exceeded with url: /6543/21a71297cba3942083190b9557a240ec/hua2017.pdf (Caused by SSLError(SSLEOFError(8, 'EOF occurred in violation of protocol (_ssl.c:997)')))\n",
      "Failed to download file: HTTPSConnectionPool(host='zero.sci-hub.se', port=443): Max retries exceeded with url: /1315/d88c01fd41e3515715c385c9a79547b3/10.1016@j.cag.2010.03.005.pdf (Caused by SSLError(SSLEOFError(8, 'EOF occurred in violation of protocol (_ssl.c:997)')))\n",
      "Failed to download file: HTTPSConnectionPool(host='moscow.sci-hub.se', port=443): Max retries exceeded with url: /3034/5b7fbbe713685709a7fba146c8511e07/dahyot2008.pdf (Caused by SSLError(SSLEOFError(8, 'EOF occurred in violation of protocol (_ssl.c:997)')))\n",
      "Failed to download file: HTTPSConnectionPool(host='zero.sci-hub.se', port=443): Max retries exceeded with url: /1543/3f5f9e0b3bda482f97b64cd5ffee2136/merlet1996.pdf (Caused by SSLError(SSLEOFError(8, 'EOF occurred in violation of protocol (_ssl.c:997)')))\n",
      "Failed to download file: status code 403\n",
      "Failed to download file: status code 403\n",
      "Failed to download file: HTTPSConnectionPool(host='moscow.sci-hub.se', port=443): Max retries exceeded with url: /2201/63785b0b7dd2b5d2f892b54148d97772/shapiro2011.pdf (Caused by SSLError(SSLEOFError(8, 'EOF occurred in violation of protocol (_ssl.c:997)')))\n",
      "Failed to download file: HTTPSConnectionPool(host='moscow.sci-hub.se', port=443): Max retries exceeded with url: /2276/4199ed41058c63710beb7bb97177fe7a/cao2013.pdf (Caused by SSLError(SSLEOFError(8, 'EOF occurred in violation of protocol (_ssl.c:997)')))\n",
      "Failed to download file: Invalid URL 'http:/downloads/2019-07-21/04/10.1145@3306346.3322941.pdf#navpanes=0&view=FitH': No host supplied\n",
      "Failed to download file: HTTPSConnectionPool(host='zero.sci-hub.se', port=443): Max retries exceeded with url: /291/e86bb45e0c3ec98a12f431363303641e/apparatus-and-method-for-providing-electrical-power-in-a-well-1993.pdf (Caused by SSLError(SSLEOFError(8, 'EOF occurred in violation of protocol (_ssl.c:997)')))\n",
      "Failed to download file: HTTPSConnectionPool(host='moscow.sci-hub.se', port=443): Max retries exceeded with url: /1816/43ed02d41eabf99f5829a032702da7bc/colbert2006.pdf (Caused by SSLError(SSLEOFError(8, 'EOF occurred in violation of protocol (_ssl.c:997)')))\n",
      "Failed to download file: HTTPSConnectionPool(host='moscow.sci-hub.se', port=443): Max retries exceeded with url: /3124/76feaadf5d03747c805be9d47bb6f3d2/yoshida2007.pdf (Caused by SSLError(SSLEOFError(8, 'EOF occurred in violation of protocol (_ssl.c:997)')))\n",
      "Failed to download file: status code 403\n",
      "Failed to download file: Invalid URL 'http:/downloads/2019-09-16/28/wu2012.pdf#navpanes=0&view=FitH': No host supplied\n",
      "Failed to download file: HTTPSConnectionPool(host='zero.sci-hub.se', port=443): Max retries exceeded with url: /5126/68ef6f6f9b21e17b179036f58fc721d0/long2016.pdf (Caused by SSLError(SSLEOFError(8, 'EOF occurred in violation of protocol (_ssl.c:997)')))\n",
      "Failed to download file: Invalid URL 'http:/tree/fe/47/fe477a1ae1119786b5ae3414b12394dd.pdf#navpanes=0&view=FitH': No host supplied\n",
      "Failed to download file: HTTPSConnectionPool(host='moscow.sci-hub.se', port=443): Max retries exceeded with url: /3342/b4466f088072d00abfa631a7c5638817/koenderink1980.pdf (Caused by SSLError(SSLEOFError(8, 'EOF occurred in violation of protocol (_ssl.c:997)')))\n",
      "Failed to download file: status code 403\n",
      "Failed to download file: status code 403\n",
      "Failed to download file: HTTPSConnectionPool(host='zero.sci-hub.se', port=443): Max retries exceeded with url: /305/97b8e95b88081eb4e4e2033d16006180/bartesaghi2005.pdf (Caused by SSLError(SSLEOFError(8, 'EOF occurred in violation of protocol (_ssl.c:997)')))\n",
      "Failed to download file: HTTPSConnectionPool(host='zero.sci-hub.se', port=443): Max retries exceeded with url: /375/8189ae7cccca2d692b69eb205bdd8fb3/liu2009.pdf (Caused by SSLError(SSLEOFError(8, 'EOF occurred in violation of protocol (_ssl.c:997)')))\n",
      "Failed to download file: HTTPSConnectionPool(host='moscow.sci-hub.se', port=443): Max retries exceeded with url: /1813/be1c038a9a5138c981fb4478dd642559/songchunzhu1997.pdf (Caused by SSLError(SSLEOFError(8, 'EOF occurred in violation of protocol (_ssl.c:997)')))\n",
      "Failed to download file: status code 403\n",
      "Failed to download file: Invalid URL 'http:/tree/2f/9b/2f9baf4bdb2606db1d78b20ff0a1eeba.pdf#navpanes=0&view=FitH': No host supplied\n",
      "Failed to download file: HTTPSConnectionPool(host='moscow.sci-hub.se', port=443): Max retries exceeded with url: /4369/7fe6146662ff285c3e177e17df8d3fc2/shao2012.pdf (Caused by SSLError(SSLEOFError(8, 'EOF occurred in violation of protocol (_ssl.c:997)')))\n",
      "Failed to download file: Invalid URL 'http:/downloads/2019-11-08/90/barchi2019.pdf#navpanes=0&view=FitH': No host supplied\n",
      "Failed to download file: Invalid URL 'http:/downloads/2021-05-13//0a/turetskyy2021.pdf#navpanes=0&view=FitH': No host supplied\n",
      "Failed to download file: HTTPSConnectionPool(host='moscow.sci-hub.se', port=443): Max retries exceeded with url: /4213/18bd82ee26625a955f7e01943c03d141/abayowa2015.pdf (Caused by SSLError(SSLEOFError(8, 'EOF occurred in violation of protocol (_ssl.c:997)')))\n",
      "Failed to download file: status code 403\n",
      "Failed to download file: HTTPSConnectionPool(host='zero.sci-hub.se', port=443): Max retries exceeded with url: /1823/683257d861ead9cddd2c7a3eb4544e26/youyizheng2012.pdf (Caused by SSLError(SSLEOFError(8, 'EOF occurred in violation of protocol (_ssl.c:997)')))\n",
      "Failed to download file: HTTPSConnectionPool(host='zero.sci-hub.se', port=443): Max retries exceeded with url: /3795/70db6d983455bd51dc38d6c0497eac94/fischl2004.pdf (Caused by SSLError(SSLEOFError(8, 'EOF occurred in violation of protocol (_ssl.c:997)')))\n",
      "Failed to download file: status code 403\n",
      "Failed to download file: status code 403\n",
      "Failed to download file: HTTPSConnectionPool(host='moscow.sci-hub.se', port=443): Max retries exceeded with url: /1030/ec836c7b1929e23a038e417e940df713/gilbert1972.pdf (Caused by SSLError(SSLEOFError(8, 'EOF occurred in violation of protocol (_ssl.c:997)')))\n",
      "Failed to download file: Invalid URL 'http:/downloads/2022-11-09/03a2/liang2022.pdf#navpanes=0&view=FitH': No host supplied\n",
      "Failed to download file: status code 403\n",
      "Failed to download file: HTTPSConnectionPool(host='zero.sci-hub.se', port=443): Max retries exceeded with url: /2775/58fc982abe3a0dadfbb63ec1d5cf1b39/dengcai2015.pdf (Caused by SSLError(SSLEOFError(8, 'EOF occurred in violation of protocol (_ssl.c:997)')))\n",
      "Failed to download file: HTTPSConnectionPool(host='zero.sci-hub.se', port=443): Max retries exceeded with url: /6351/5757cb65db5644e541697d94502a50bd/allouch2017.pdf (Caused by SSLError(SSLEOFError(8, 'EOF occurred in violation of protocol (_ssl.c:997)')))\n",
      "Failed to download file: HTTPSConnectionPool(host='zero.sci-hub.se', port=443): Max retries exceeded with url: /6084/377cc9771d64ba0c5138613937fedbcd/kong2016.pdf (Caused by SSLError(SSLEOFError(8, 'EOF occurred in violation of protocol (_ssl.c:997)')))\n",
      "Failed to download file: HTTPSConnectionPool(host='zero.sci-hub.se', port=443): Max retries exceeded with url: /4369/c9e99413449321aa1842b9a345ef10ef/le2012.pdf (Caused by SSLError(SSLEOFError(8, 'EOF occurred in violation of protocol (_ssl.c:997)')))\n",
      "Failed to download file: Invalid URL 'http:/downloads/2021-08-10/15/singer2021.pdf#navpanes=0&view=FitH': No host supplied\n",
      "Failed to download file: HTTPSConnectionPool(host='zero.sci-hub.se', port=443): Max retries exceeded with url: /422/2825d58d1252a6ae7ce951d501b91fc5/yu2003.pdf (Caused by SSLError(SSLEOFError(8, 'EOF occurred in violation of protocol (_ssl.c:997)')))\n",
      "Failed to download file: HTTPSConnectionPool(host='moscow.sci-hub.se', port=443): Max retries exceeded with url: /3029/ab009852ba6d137be2d6ce0de3367c6c/jang2004.pdf (Caused by SSLError(SSLEOFError(8, 'EOF occurred in violation of protocol (_ssl.c:997)')))\n",
      "Failed to download file: HTTPSConnectionPool(host='zero.sci-hub.se', port=443): Max retries exceeded with url: /4611/9f6532a9f295d6d17f09c4422dcaa543/rubin2000.pdf (Caused by SSLError(SSLEOFError(8, 'EOF occurred in violation of protocol (_ssl.c:997)')))\n",
      "Failed to download file: HTTPSConnectionPool(host='zero.sci-hub.se', port=443): Max retries exceeded with url: /4364/226f706be59c3e2d806a8cfe557e7755/da2015.pdf (Caused by SSLError(SSLEOFError(8, 'EOF occurred in violation of protocol (_ssl.c:997)')))\n",
      "Failed to download file: HTTPSConnectionPool(host='moscow.sci-hub.se', port=443): Max retries exceeded with url: /3956/fb40198400ec23d7010bc0459970b3ea/pitoura2001.pdf (Caused by SSLError(SSLEOFError(8, 'EOF occurred in violation of protocol (_ssl.c:997)')))\n",
      "Failed to download file: HTTPSConnectionPool(host='moscow.sci-hub.se', port=443): Max retries exceeded with url: /1083/cf6f5b57a0d2f50b76834993bf21a4bf/troje2005.pdf (Caused by SSLError(SSLEOFError(8, 'EOF occurred in violation of protocol (_ssl.c:997)')))\n",
      "Failed to download file: status code 403\n",
      "Failed to download file: status code 403\n",
      "Failed to download file: status code 403\n",
      "Failed to download file: HTTPSConnectionPool(host='zero.sci-hub.se', port=443): Max retries exceeded with url: /6863/506814f56182cc15969947fddb611692/li2007.pdf (Caused by SSLError(SSLEOFError(8, 'EOF occurred in violation of protocol (_ssl.c:997)')))\n",
      "Failed to download file: HTTPSConnectionPool(host='zero.sci-hub.se', port=443): Max retries exceeded with url: /6060/6ca1a3b094dddeeaaaa274c8fe0c433e/wang2016.pdf (Caused by SSLError(SSLEOFError(8, 'EOF occurred in violation of protocol (_ssl.c:997)')))\n",
      "Failed to download file: status code 403\n",
      "Failed to download file: HTTPSConnectionPool(host='moscow.sci-hub.se', port=443): Max retries exceeded with url: /1858/cd1bb4b5213f33a6a6a9ba0b272e1375/choudhury2013.pdf (Caused by SSLError(SSLEOFError(8, 'EOF occurred in violation of protocol (_ssl.c:997)')))\n",
      "Failed to download file: HTTPSConnectionPool(host='zero.sci-hub.se', port=443): Max retries exceeded with url: /2199/61ba9fa6e537bf323a9471a72c171da1/kane1992.pdf (Caused by SSLError(SSLEOFError(8, 'EOF occurred in violation of protocol (_ssl.c:997)')))\n",
      "Failed to download file: HTTPSConnectionPool(host='moscow.sci-hub.se', port=443): Max retries exceeded with url: /3800/c11d1d26d2fb0b8798ad1d8dc4127f42/balter2015.pdf (Caused by SSLError(SSLEOFError(8, 'EOF occurred in violation of protocol (_ssl.c:997)')))\n",
      "Failed to download file: HTTPSConnectionPool(host='moscow.sci-hub.se', port=443): Max retries exceeded with url: /942/c57cafa7dca22cd86e39b91a13c9e85f/dellepiane2008.pdf (Caused by SSLError(SSLEOFError(8, 'EOF occurred in violation of protocol (_ssl.c:997)')))\n",
      "Failed to download file: status code 403\n",
      "Failed to download file: HTTPSConnectionPool(host='moscow.sci-hub.se', port=443): Max retries exceeded with url: /1448/d9e492baad761583f5e9d774f2d278b3/kalra1992.pdf (Caused by SSLError(SSLEOFError(8, 'EOF occurred in violation of protocol (_ssl.c:997)')))\n",
      "Failed to download file: status code 403\n",
      "Failed to download file: HTTPSConnectionPool(host='moscow.sci-hub.se', port=443): Max retries exceeded with url: /1893/0095f8d751b91f10de5978ce2840c4de/riera2004.pdf (Caused by SSLError(SSLEOFError(8, 'EOF occurred in violation of protocol (_ssl.c:997)')))\n",
      "Failed to download file: Invalid URL 'http:/downloads/2019-07-22/6e/10.1007@978-3-030-20351-143.pdf#navpanes=0&view=FitH': No host supplied\n",
      "Failed to download file: Invalid URL 'http:/downloads/2019-01-01/6d/10.1145@3272127.3275059.pdf#navpanes=0&view=FitH': No host supplied\n",
      "Failed to download file: status code 403\n",
      "Failed to download file: HTTPSConnectionPool(host='zero.sci-hub.se', port=443): Max retries exceeded with url: /2709/7e100845fff9709aded9d08644e35a1d/shengyangdai2009.pdf (Caused by SSLError(SSLEOFError(8, 'EOF occurred in violation of protocol (_ssl.c:997)')))\n",
      "Failed to download file: Invalid URL 'http:/tree/fa/eb/faeb7cce6a97e88d867f240453d76070.pdf#navpanes=0&view=FitH': No host supplied\n",
      "Failed to download file: HTTPSConnectionPool(host='moscow.sci-hub.se', port=443): Max retries exceeded with url: /2997/f66244fdd7f0a80b6b3ae8c930a9be80/yiyang2010.pdf (Caused by SSLError(SSLEOFError(8, 'EOF occurred in violation of protocol (_ssl.c:997)')))\n",
      "Failed to download file: HTTPSConnectionPool(host='moscow.sci-hub.se', port=443): Max retries exceeded with url: /3952/8e82ed2098f011e23bcb128811177dc2/rubin2001.pdf (Caused by SSLError(SSLEOFError(8, 'EOF occurred in violation of protocol (_ssl.c:997)')))\n",
      "Failed to download file: HTTPSConnectionPool(host='moscow.sci-hub.se', port=443): Max retries exceeded with url: /4427/ccae2cecc57a3422d4a1421b223ccacd/barthe2002.pdf (Caused by SSLError(SSLEOFError(8, 'EOF occurred in violation of protocol (_ssl.c:997)')))\n",
      "Failed to download file: HTTPSConnectionPool(host='moscow.sci-hub.se', port=443): Max retries exceeded with url: /3921/3bd8fe5a4b5fb44b6b929a95b96d1b59/schauerte2012.pdf (Caused by SSLError(SSLEOFError(8, 'EOF occurred in violation of protocol (_ssl.c:997)')))\n",
      "Failed to download file: status code 403\n",
      "Failed to download file: HTTPSConnectionPool(host='moscow.sci-hub.se', port=443): Max retries exceeded with url: /1448/57fd0d0a85933ec823ba6d70907dd294/el-sana2000.pdf (Caused by SSLError(SSLEOFError(8, 'EOF occurred in violation of protocol (_ssl.c:997)')))\n",
      "Failed to download file: status code 403\n",
      "Failed to download file: Invalid URL 'http:/tree/bd/55/bd5537e2de6dfd7955f4b1c77cc85474.pdf#navpanes=0&view=FitH': No host supplied\n",
      "Failed to download file: HTTPSConnectionPool(host='moscow.sci-hub.se', port=443): Max retries exceeded with url: /942/c6cb04af412a8246dc3b278e2330ccc3/yuksel2008.pdf (Caused by SSLError(SSLEOFError(8, 'EOF occurred in violation of protocol (_ssl.c:997)')))\n",
      "Failed to download file: HTTPSConnectionPool(host='zero.sci-hub.se', port=443): Max retries exceeded with url: /6656/a190187d549894d0ce3dd190009c11be/williem2017.pdf (Caused by SSLError(SSLEOFError(8, 'EOF occurred in violation of protocol (_ssl.c:997)')))\n",
      "Failed to download file: status code 403\n",
      "Failed to download file: status code 403\n",
      "Failed to download file: status code 403\n",
      "Failed to download file: Invalid URL 'http:/downloads/2019-09-17/fb/otani2017.pdf#navpanes=0&view=FitH': No host supplied\n",
      "Failed to download file: HTTPSConnectionPool(host='zero.sci-hub.se', port=443): Max retries exceeded with url: /4369/a1b74152615a2e3b9d5672aea3d43a75/bermano2013.pdf (Caused by SSLError(SSLEOFError(8, 'EOF occurred in violation of protocol (_ssl.c:997)')))\n",
      "Failed to download file: Invalid URL 'http:/downloads/2019-07-17/9b/10.1109@TMM.2019.2928494.pdf#navpanes=0&view=FitH': No host supplied\n",
      "Failed to download file: ('Connection aborted.', ConnectionResetError(54, 'Connection reset by peer'))\n",
      "Failed to download file: status code 403\n",
      "Failed to download file: Invalid URL 'http:/tree/61/af/61affa4f07b7a2a2d820961b0b5cd837.pdf#navpanes=0&view=FitH': No host supplied\n",
      "Failed to download file: HTTPSConnectionPool(host='zero.sci-hub.se', port=443): Max retries exceeded with url: /1048/081b2ff3d23b1bc17c2d7e723366f083/kalas2005.pdf (Caused by SSLError(SSLEOFError(8, 'EOF occurred in violation of protocol (_ssl.c:997)')))\n",
      "Failed to download file: status code 403\n",
      "Failed to download file: status code 403\n",
      "Failed to download file: status code 403\n",
      "Failed to download file: HTTPSConnectionPool(host='zero.sci-hub.se', port=443): Max retries exceeded with url: /808/a00b2a1205ed22a4d1216dc6365fd89c/yamamoto2010.pdf (Caused by SSLError(SSLEOFError(8, 'EOF occurred in violation of protocol (_ssl.c:997)')))\n",
      "Failed to download file: HTTPSConnectionPool(host='zero.sci-hub.se', port=443): Max retries exceeded with url: /1263/64f023934f6e0d8bc1f93d053db8e0e5/pfluke2012.pdf (Caused by SSLError(SSLEOFError(8, 'EOF occurred in violation of protocol (_ssl.c:997)')))\n",
      "Failed to download file: HTTPSConnectionPool(host='zero.sci-hub.se', port=443): Max retries exceeded with url: /1437/511e704c04882639330615947e0825a5/osdi-9th-usenix-symposium-on-operating-systems-design-and-implem-2010.pdf (Caused by SSLError(SSLEOFError(8, 'EOF occurred in violation of protocol (_ssl.c:997)')))\n",
      "Failed to download file: HTTPSConnectionPool(host='zero.sci-hub.se', port=443): Max retries exceeded with url: /1540/b3b49efb38e17b9903fc7ab5010c0c81/nicolas1995.pdf (Caused by SSLError(SSLEOFError(8, 'EOF occurred in violation of protocol (_ssl.c:997)')))\n",
      "Failed to download file: Invalid URL 'http:/downloads/2020-05-31/f2/li2020.pdf#navpanes=0&view=FitH': No host supplied\n",
      "Failed to download file: status code 403\n",
      "Failed to download file: HTTPSConnectionPool(host='moscow.sci-hub.se', port=443): Max retries exceeded with url: /4638/d357edf4faf9539f4ae94dd0263e8d15/naraghi2007.pdf (Caused by SSLError(SSLEOFError(8, 'EOF occurred in violation of protocol (_ssl.c:997)')))\n",
      "Failed to download file: HTTPSConnectionPool(host='zero.sci-hub.se', port=443): Max retries exceeded with url: /1822/6e750d825a9ca5a4aa8c3ccbf957a559/felzenszwalb2011.pdf (Caused by SSLError(SSLEOFError(8, 'EOF occurred in violation of protocol (_ssl.c:997)')))\n",
      "Failed to download file: Invalid URL 'http:/downloads/2020-10-26/0a/10.3390@s20216045.pdf#navpanes=0&view=FitH': No host supplied\n",
      "Failed to download file: HTTPSConnectionPool(host='zero.sci-hub.se', port=443): Max retries exceeded with url: /6925/7479a098fe25870c0e9d9cf9613cdd41/jiang2018.pdf (Caused by SSLError(SSLEOFError(8, 'EOF occurred in violation of protocol (_ssl.c:997)')))\n",
      "Failed to download file: HTTPSConnectionPool(host='moscow.sci-hub.se', port=443): Max retries exceeded with url: /4075/3b5da98d2fe83273e2bad55a3a96341e/villain2012.pdf (Caused by SSLError(SSLEOFError(8, 'EOF occurred in violation of protocol (_ssl.c:997)')))\n",
      "Failed to download file: HTTPSConnectionPool(host='moscow.sci-hub.se', port=443): Max retries exceeded with url: /3390/38c98a0ad38344736e01af0bd19bfd27/roussos1999.pdf (Caused by SSLError(SSLEOFError(8, 'EOF occurred in violation of protocol (_ssl.c:997)')))\n",
      "Failed to download file: HTTPSConnectionPool(host='zero.sci-hub.se', port=443): Max retries exceeded with url: /359/5855452e7a9c3380d4655839a9452da3/ding2007.pdf (Caused by SSLError(SSLEOFError(8, 'EOF occurred in violation of protocol (_ssl.c:997)')))\n",
      "Failed to download file: status code 403\n",
      "Failed to download file: status code 403\n",
      "Failed to download file: Invalid URL 'http:/tree/a2/6b/a26b97b39ecf412828c03b406d612746.pdf#navpanes=0&view=FitH': No host supplied\n",
      "Failed to download file: status code 403\n",
      "Failed to download file: status code 403\n",
      "Failed to download file: status code 403\n",
      "Failed to download file: HTTPSConnectionPool(host='moscow.sci-hub.se', port=443): Max retries exceeded with url: /3572/c379ec2476a03121464a28375be3c62c/zhilu2015.pdf (Caused by SSLError(SSLEOFError(8, 'EOF occurred in violation of protocol (_ssl.c:997)')))\n",
      "Failed to download file: HTTPSConnectionPool(host='moscow.sci-hub.se', port=443): Max retries exceeded with url: /2134/67759b6c7bac9c79027d77d056333cc6/kumar2004.pdf (Caused by SSLError(SSLEOFError(8, 'EOF occurred in violation of protocol (_ssl.c:997)')))\n",
      "Failed to download file: HTTPSConnectionPool(host='zero.sci-hub.se', port=443): Max retries exceeded with url: /1445/587014068d1e0d679231e662f66adb75/alomari2011.pdf (Caused by SSLError(SSLEOFError(8, 'EOF occurred in violation of protocol (_ssl.c:997)')))\n",
      "Failed to download file: Invalid URL 'http:/tree/d1/fe/d1fe2e0a9f0cf09ad48ff24595de7dd7.pdf#navpanes=0&view=FitH': No host supplied\n",
      "Failed to download file: HTTPSConnectionPool(host='zero.sci-hub.se', port=443): Max retries exceeded with url: /5227/0466150487697c8219cb92b9159c995a/krueger1990.pdf (Caused by SSLError(SSLEOFError(8, 'EOF occurred in violation of protocol (_ssl.c:997)')))\n",
      "Failed to download file: status code 403\n",
      "Failed to download file: HTTPSConnectionPool(host='zero.sci-hub.se', port=443): Max retries exceeded with url: /4229/d143105c6bc8dd4a833a7c20a9c69cf6/laga2013.pdf (Caused by SSLError(SSLEOFError(8, 'EOF occurred in violation of protocol (_ssl.c:997)')))\n",
      "Failed to download file: HTTPSConnectionPool(host='zero.sci-hub.se', port=443): Max retries exceeded with url: /2519/ad98985d97b5796a48c388cb4d0f1559/durkee2013.pdf (Caused by SSLError(SSLEOFError(8, 'EOF occurred in violation of protocol (_ssl.c:997)')))\n",
      "Failed to download file: status code 403\n",
      "Failed to download file: HTTPSConnectionPool(host='moscow.sci-hub.se', port=443): Max retries exceeded with url: /3102/0a50ebea777fdd34574f74ec951041ae/aizawa2013.pdf (Caused by SSLError(SSLEOFError(8, 'EOF occurred in violation of protocol (_ssl.c:997)')))\n",
      "Failed to download file: HTTPSConnectionPool(host='moscow.sci-hub.se', port=443): Max retries exceeded with url: /3403/020719a9573d05b1172950da0527d670/li2015.pdf (Caused by SSLError(SSLEOFError(8, 'EOF occurred in violation of protocol (_ssl.c:997)')))\n",
      "Failed to download file: HTTPSConnectionPool(host='zero.sci-hub.se', port=443): Max retries exceeded with url: /6109/201a352f854f2f593c6130c3013e32c0/lu2016.pdf (Caused by SSLError(SSLEOFError(8, 'EOF occurred in violation of protocol (_ssl.c:997)')))\n",
      "Failed to download file: status code 403\n",
      "Failed to download file: status code 403\n",
      "Failed to download file: status code 403\n",
      "Failed to download file: HTTPSConnectionPool(host='moscow.sci-hub.se', port=443): Max retries exceeded with url: /1814/cf525bd4716124a62c5b1aa519d6fd82/hyeongseokko1996.pdf (Caused by SSLError(SSLEOFError(8, 'EOF occurred in violation of protocol (_ssl.c:997)')))\n",
      "Failed to download file: HTTPSConnectionPool(host='moscow.sci-hub.se', port=443): Max retries exceeded with url: /1893/200d743f8d4a3a2786ed98ade2a16d8e/fischl2004.pdf (Caused by SSLError(SSLEOFError(8, 'EOF occurred in violation of protocol (_ssl.c:997)')))\n",
      "Failed to download file: HTTPSConnectionPool(host='zero.sci-hub.se', port=443): Max retries exceeded with url: /6467/cab5ea77de054a214785ed9664c6aaf6/peng2017.pdf (Caused by SSLError(SSLEOFError(8, 'EOF occurred in violation of protocol (_ssl.c:997)')))\n",
      "Failed to download file: Invalid URL 'http:/downloads/2019-12-27/82/10.1109@access.2019.2960617.pdf#navpanes=0&view=FitH': No host supplied\n",
      "Failed to download file: HTTPSConnectionPool(host='moscow.sci-hub.se', port=443): Max retries exceeded with url: /1760/38374089a13ea0c3b686894e985c700c/10.1016@s0169-555x0300056-4.pdf (Caused by SSLError(SSLEOFError(8, 'EOF occurred in violation of protocol (_ssl.c:997)')))\n",
      "Failed to download file: status code 403\n",
      "Failed to download file: Invalid URL 'http:/downloads/2019-07-17/6d/pan2009.pdf#navpanes=0&view=FitH': No host supplied\n",
      "Failed to download file: HTTPSConnectionPool(host='zero.sci-hub.se', port=443): Max retries exceeded with url: /1823/b19b3361c491d83eaf284154e9f4a4b2/shen2006.pdf (Caused by SSLError(SSLEOFError(8, 'EOF occurred in violation of protocol (_ssl.c:997)')))\n",
      "Failed to download file: HTTPSConnectionPool(host='moscow.sci-hub.se', port=443): Max retries exceeded with url: /2128/ddb9f9227289925e8bd6015b2cccf649/keller1995.pdf (Caused by SSLError(SSLEOFError(8, 'EOF occurred in violation of protocol (_ssl.c:997)')))\n",
      "Failed to download file: HTTPSConnectionPool(host='moscow.sci-hub.se', port=443): Max retries exceeded with url: /1176/ba8f83153324ca953db2e639492d0915/chiba1994.pdf (Caused by SSLError(SSLEOFError(8, 'EOF occurred in violation of protocol (_ssl.c:997)')))\n",
      "Failed to download file: Invalid URL 'http:/downloads/2020-06-16//1b/10.1007@s41095-020-0174-8.pdf#navpanes=0&view=FitH': No host supplied\n",
      "Failed to download file: HTTPSConnectionPool(host='moscow.sci-hub.se', port=443): Max retries exceeded with url: /3557/8df7aad0de97ccd0fe48201bb542e0a0/min2012.pdf (Caused by SSLError(SSLEOFError(8, 'EOF occurred in violation of protocol (_ssl.c:997)')))\n",
      "Failed to download file: HTTPSConnectionPool(host='zero.sci-hub.se', port=443): Max retries exceeded with url: /2111/1dd0564d7caa738e0ee5e20fadc5a41f/li2013.pdf (Caused by SSLError(SSLEOFError(8, 'EOF occurred in violation of protocol (_ssl.c:997)')))\n",
      "Failed to download file: Invalid URL 'http:/downloads/2020-03-03/0a/xiong2020.pdf#navpanes=0&view=FitH': No host supplied\n",
      "Failed to download file: Invalid URL 'http:/tree/98/85/9885e15c51cd5ca98b063356cf5c4a09.pdf#navpanes=0&view=FitH': No host supplied\n",
      "Failed to download file: HTTPSConnectionPool(host='moscow.sci-hub.se', port=443): Max retries exceeded with url: /1442/827dc5164dfd894b82c1f2271966687a/zhang2008.pdf (Caused by SSLError(SSLEOFError(8, 'EOF occurred in violation of protocol (_ssl.c:997)')))\n",
      "Failed to download file: HTTPSConnectionPool(host='zero.sci-hub.se', port=443): Max retries exceeded with url: /6328/a3cbb1af721c873bb52995daad0bc70b/holloway2017.pdf (Caused by SSLError(SSLEOFError(8, 'EOF occurred in violation of protocol (_ssl.c:997)')))\n",
      "Failed to download file: HTTPSConnectionPool(host='zero.sci-hub.se', port=443): Max retries exceeded with url: /338/d18776c208633839fec61e20ad386b4c/goldman2005.pdf (Caused by SSLError(SSLEOFError(8, 'EOF occurred in violation of protocol (_ssl.c:997)')))\n",
      "Failed to download file: HTTPSConnectionPool(host='moscow.sci-hub.se', port=443): Max retries exceeded with url: /3915/8e52ca01e36ec17dc4990c2bbdb588b6/hong2010.pdf (Caused by SSLError(SSLEOFError(8, 'EOF occurred in violation of protocol (_ssl.c:997)')))\n",
      "Failed to download file: HTTPSConnectionPool(host='zero.sci-hub.se', port=443): Max retries exceeded with url: /6894/55e117d04c00c68d4fe08bb2716fe45a/botsch2005.pdf (Caused by SSLError(SSLEOFError(8, 'EOF occurred in violation of protocol (_ssl.c:997)')))\n",
      "Failed to download file: status code 403\n",
      "Failed to download file: HTTPSConnectionPool(host='moscow.sci-hub.se', port=443): Max retries exceeded with url: /3013/df0714caec98bfb0de4ae09ae3c3ebf9/vonloebbecke2009.pdf (Caused by SSLError(SSLEOFError(8, 'EOF occurred in violation of protocol (_ssl.c:997)')))\n",
      "Failed to download file: Invalid URL 'http:/downloads/2019-09-06/bd/li2019.pdf#navpanes=0&view=FitH': No host supplied\n",
      "Failed to download file: HTTPSConnectionPool(host='moscow.sci-hub.se', port=443): Max retries exceeded with url: /3413/9f89c199e85ea7bf7da973ed15a06ae2/sugano2013.pdf (Caused by SSLError(SSLEOFError(8, 'EOF occurred in violation of protocol (_ssl.c:997)')))\n",
      "Failed to download file: Invalid URL 'http:/downloads/2020-10-25/25/prince2000.pdf#navpanes=0&view=FitH': No host supplied\n",
      "Failed to download file: HTTPSConnectionPool(host='zero.sci-hub.se', port=443): Max retries exceeded with url: /3322/d4d22a82c29cb16e6ce0f743328508d2/10.1103@physreva.88.052310.pdf (Caused by SSLError(SSLEOFError(8, 'EOF occurred in violation of protocol (_ssl.c:997)')))\n",
      "Failed to download file: Invalid URL 'http:/downloads/2019-01-19//84/baltrusaitis2018.pdf#navpanes=0&view=FitH': No host supplied\n",
      "Failed to download file: status code 403\n",
      "Failed to download file: status code 403\n",
      "Failed to download file: HTTPSConnectionPool(host='zero.sci-hub.se', port=443): Max retries exceeded with url: /116/7d3bc0c05d2f694dc0efb03b73074007/stavness2010.pdf (Caused by SSLError(SSLEOFError(8, 'EOF occurred in violation of protocol (_ssl.c:997)')))\n",
      "Failed to download file: status code 403\n",
      "Failed to download file: HTTPSConnectionPool(host='zero.sci-hub.se', port=443): Max retries exceeded with url: /2083/26d0f2d86cdafcf758c91a938dc86364/bay2006.pdf (Caused by SSLError(SSLEOFError(8, 'EOF occurred in violation of protocol (_ssl.c:997)')))\n",
      "Failed to download file: HTTPSConnectionPool(host='moscow.sci-hub.se', port=443): Max retries exceeded with url: /5126/38eab469cea6465fa99773590a41b999/zhu2016.pdf (Caused by SSLError(SSLEOFError(8, 'EOF occurred in violation of protocol (_ssl.c:997)')))\n",
      "Failed to download file: Invalid URL 'http:/downloads/2021-05-14//73/modi2020.pdf#navpanes=0&view=FitH': No host supplied\n",
      "Failed to download file: HTTPSConnectionPool(host='moscow.sci-hub.se', port=443): Max retries exceeded with url: /1448/0b00a3f832eaf50da115479ef1ec5a1a/desbrun2002.pdf (Caused by SSLError(SSLEOFError(8, 'EOF occurred in violation of protocol (_ssl.c:997)')))\n",
      "Failed to download file: HTTPSConnectionPool(host='zero.sci-hub.se', port=443): Max retries exceeded with url: /4803/027c4d62c2cc6a913a01ffa65ab695c1/hua2016.pdf (Caused by SSLError(SSLEOFError(8, 'EOF occurred in violation of protocol (_ssl.c:997)')))\n",
      "Failed to download file: HTTPSConnectionPool(host='zero.sci-hub.se', port=443): Max retries exceeded with url: /260/6ee49e94f1d02455c93e615f5698df89/jackins1980.pdf (Caused by SSLError(SSLEOFError(8, 'EOF occurred in violation of protocol (_ssl.c:997)')))\n",
      "Failed to download file: HTTPSConnectionPool(host='moscow.sci-hub.se', port=443): Max retries exceeded with url: /3615/79e5ed3945afc56373400d4385d0d3fa/zhang2015.pdf (Caused by SSLError(SSLEOFError(8, 'EOF occurred in violation of protocol (_ssl.c:997)')))\n",
      "Failed to download file: HTTPSConnectionPool(host='moscow.sci-hub.se', port=443): Max retries exceeded with url: /4364/039af5a166fc6e6749edc6eb70589a45/ebke2014.pdf (Caused by SSLError(SSLEOFError(8, 'EOF occurred in violation of protocol (_ssl.c:997)')))\n",
      "Failed to download file: status code 403\n",
      "Failed to download file: HTTPSConnectionPool(host='zero.sci-hub.se', port=443): Max retries exceeded with url: /2361/e2bb28733e079744c41e60178fda8932/lihongjiang2014.pdf (Caused by SSLError(SSLEOFError(8, 'EOF occurred in violation of protocol (_ssl.c:997)')))\n",
      "Failed to download file: HTTPSConnectionPool(host='moscow.sci-hub.se', port=443): Max retries exceeded with url: /3518/b7b737827ef04c48eca0ad4923d0b8bd/murray2007.pdf (Caused by SSLError(SSLEOFError(8, 'EOF occurred in violation of protocol (_ssl.c:997)')))\n",
      "Failed to download file: HTTPSConnectionPool(host='moscow.sci-hub.se', port=443): Max retries exceeded with url: /3174/bd5bc20494b40b9662ac6dfe38b9bffc/bruzzo1989.pdf (Caused by SSLError(SSLEOFError(8, 'EOF occurred in violation of protocol (_ssl.c:997)')))\n",
      "Failed to download file: status code 403\n",
      "Failed to download file: HTTPSConnectionPool(host='zero.sci-hub.se', port=443): Max retries exceeded with url: /7138/f547405f28231b1397d913a4c25e2635/frid-adar2018.pdf (Caused by SSLError(SSLEOFError(8, 'EOF occurred in violation of protocol (_ssl.c:997)')))\n",
      "Failed to download file: HTTPSConnectionPool(host='zero.sci-hub.se', port=443): Max retries exceeded with url: /451/1a1858c8133157b71be9dcea73e8b442/conci1998.pdf (Caused by SSLError(SSLEOFError(8, 'EOF occurred in violation of protocol (_ssl.c:997)')))\n",
      "Failed to download file: HTTPSConnectionPool(host='moscow.sci-hub.se', port=443): Max retries exceeded with url: /1747/2d5192622bb7d9318a3728d85368e68c/brown1997.pdf (Caused by SSLError(SSLEOFError(8, 'EOF occurred in violation of protocol (_ssl.c:997)')))\n",
      "Failed to download file: HTTPSConnectionPool(host='moscow.sci-hub.se', port=443): Max retries exceeded with url: /3395/d3829b8448b2aa3cc250159bfc90e73e/debreuve2001.pdf (Caused by SSLError(SSLEOFError(8, 'EOF occurred in violation of protocol (_ssl.c:997)')))\n",
      "Failed to download file: status code 403\n",
      "Failed to download file: HTTPSConnectionPool(host='moscow.sci-hub.se', port=443): Max retries exceeded with url: /349/246fc548a184274d676f9188f2ea0d34/bartoli2005.pdf (Caused by SSLError(SSLEOFError(8, 'EOF occurred in violation of protocol (_ssl.c:997)')))\n",
      "Failed to download file: status code 403\n",
      "Failed to download file: status code 403\n",
      "Failed to download file: HTTPSConnectionPool(host='zero.sci-hub.se', port=443): Max retries exceeded with url: /4908/19376fb18f06947d68189396d0ffe81c/zhang2016.pdf (Caused by SSLError(SSLEOFError(8, 'EOF occurred in violation of protocol (_ssl.c:997)')))\n",
      "Failed to download file: HTTPSConnectionPool(host='zero.sci-hub.se', port=443): Max retries exceeded with url: /7124/953deddfd007ab0e6d327b687d0fd644/kolesnikov2016.pdf (Caused by SSLError(SSLEOFError(8, 'EOF occurred in violation of protocol (_ssl.c:997)')))\n",
      "Failed to download file: Invalid URL 'http:/downloads/2021-06-09/d4/barboza2021.pdf#navpanes=0&view=FitH': No host supplied\n",
      "Failed to download file: HTTPSConnectionPool(host='moscow.sci-hub.se', port=443): Max retries exceeded with url: /3646/b7ecc1545b3e49143aaed4ed9bafa46a/rinella2009.pdf (Caused by SSLError(SSLEOFError(8, 'EOF occurred in violation of protocol (_ssl.c:997)')))\n",
      "Failed to download file: status code 403\n",
      "Failed to download file: HTTPSConnectionPool(host='zero.sci-hub.se', port=443): Max retries exceeded with url: /6677/46ea34ec70db6f16173a2b33ec17b6a1/namas2018.pdf (Caused by SSLError(SSLEOFError(8, 'EOF occurred in violation of protocol (_ssl.c:997)')))\n",
      "Failed to download file: HTTPSConnectionPool(host='moscow.sci-hub.se', port=443): Max retries exceeded with url: /1894/c762766134acff5e1513bec48aa7cba6/petit2012.pdf (Caused by SSLError(SSLEOFError(8, 'EOF occurred in violation of protocol (_ssl.c:997)')))\n",
      "Failed to download file: status code 403\n",
      "Failed to download file: HTTPSConnectionPool(host='zero.sci-hub.se', port=443): Max retries exceeded with url: /6522/1d5384481dff43af8256377e20327b2f/kononenko2017.pdf (Caused by SSLError(SSLEOFError(8, 'EOF occurred in violation of protocol (_ssl.c:997)')))\n",
      "Failed to download file: status code 403\n",
      "Failed to download file: Invalid URL 'http:/downloads/2020-07-20/cf/bao2020.pdf#navpanes=0&view=FitH': No host supplied\n",
      "Failed to download file: status code 403\n",
      "Failed to download file: Invalid URL 'http:/downloads/2019-11-11/3f/delnevo2019.pdf#navpanes=0&view=FitH': No host supplied\n",
      "Failed to download file: Invalid URL 'http:/downloads/2019-11-28/53/10.1016@j.chemosphere.2019.125450.pdf#navpanes=0&view=FitH': No host supplied\n",
      "Failed to download file: HTTPSConnectionPool(host='moscow.sci-hub.se', port=443): Max retries exceeded with url: /1816/1ba50db85adc8a2a006871b45178c4c8/vlahakis2002.pdf (Caused by SSLError(SSLEOFError(8, 'EOF occurred in violation of protocol (_ssl.c:997)')))\n",
      "Failed to download file: HTTPSConnectionPool(host='moscow.sci-hub.se', port=443): Max retries exceeded with url: /2048/a38a236e01ce978e8449942de1423955/ciminiera1990.pdf (Caused by SSLError(SSLEOFError(8, 'EOF occurred in violation of protocol (_ssl.c:997)')))\n",
      "Failed to download file: status code 403\n",
      "Failed to download file: HTTPSConnectionPool(host='moscow.sci-hub.se', port=443): Max retries exceeded with url: /3414/da96d68f2aff595adb1ca75a30bec2da/senior2005.pdf (Caused by SSLError(SSLEOFError(8, 'EOF occurred in violation of protocol (_ssl.c:997)')))\n",
      "Failed to download file: Invalid URL 'http:/tree/dd/52/dd5224634b444a8eee6a36fe8b1080b2.pdf#navpanes=0&view=FitH': No host supplied\n",
      "Failed to download file: status code 403\n",
      "Failed to download file: status code 403\n",
      "Failed to download file: HTTPSConnectionPool(host='moscow.sci-hub.se', port=443): Max retries exceeded with url: /2779/25be37eb25705072cb76497b9afca708/crandall2013.pdf (Caused by SSLError(SSLEOFError(8, 'EOF occurred in violation of protocol (_ssl.c:997)')))\n",
      "Failed to download file: status code 403\n",
      "Failed to download file: HTTPSConnectionPool(host='moscow.sci-hub.se', port=443): Max retries exceeded with url: /1448/56be2dfd6888b8d1abb27a3cd813613b/chunxiaxiao2011.pdf (Caused by SSLError(SSLEOFError(8, 'EOF occurred in violation of protocol (_ssl.c:997)')))\n",
      "Failed to download file: HTTPSConnectionPool(host='zero.sci-hub.se', port=443): Max retries exceeded with url: /1928/ff3e244ee4683814dafb6795ba376952/aristidou2012.pdf (Caused by SSLError(SSLEOFError(8, 'EOF occurred in violation of protocol (_ssl.c:997)')))\n",
      "Failed to download file: HTTPSConnectionPool(host='moscow.sci-hub.se', port=443): Max retries exceeded with url: /4358/07b6dc90c5dbd9ed5fee4d3d4fb18699/von-tycowicz2015.pdf (Caused by SSLError(SSLEOFError(8, 'EOF occurred in violation of protocol (_ssl.c:997)')))\n",
      "Failed to download file: HTTPSConnectionPool(host='moscow.sci-hub.se', port=443): Max retries exceeded with url: /5265/f1d3d1ff0bdfd284dc7c22f57cb2a706/abbara2011.pdf (Caused by SSLError(SSLEOFError(8, 'EOF occurred in violation of protocol (_ssl.c:997)')))\n",
      "Failed to download file: status code 403\n",
      "Failed to download file: HTTPSConnectionPool(host='zero.sci-hub.se', port=443): Max retries exceeded with url: /491/ce22460cd99d7a6f0d833b4bbe8aced9/mori2002.pdf (Caused by SSLError(SSLEOFError(8, 'EOF occurred in violation of protocol (_ssl.c:997)')))\n",
      "Failed to download file: status code 403\n",
      "Failed to download file: status code 403\n",
      "Failed to download file: HTTPSConnectionPool(host='zero.sci-hub.se', port=443): Max retries exceeded with url: /3951/ed6744d29c420946032e6b7fd7c21da1/wu2015.pdf (Caused by SSLError(SSLEOFError(8, 'EOF occurred in violation of protocol (_ssl.c:997)')))\n",
      "Failed to download file: HTTPSConnectionPool(host='moscow.sci-hub.se', port=443): Max retries exceeded with url: /4027/e6264da49035c4cffbc44c844fb3ae72/trzcinski2012.pdf (Caused by SSLError(SSLEOFError(8, 'EOF occurred in violation of protocol (_ssl.c:997)')))\n",
      "Failed to download file: HTTPSConnectionPool(host='zero.sci-hub.se', port=443): Max retries exceeded with url: /6568/6ce389d2c5428adc0fe40e506d6c7dfa/larson2017.pdf (Caused by SSLError(SSLEOFError(8, 'EOF occurred in violation of protocol (_ssl.c:997)')))\n",
      "Failed to download file: status code 403\n",
      "Failed to download file: HTTPSConnectionPool(host='moscow.sci-hub.se', port=443): Max retries exceeded with url: /3964/f2a2bd65854d98b2a9bd7ddb388a900a/cao2016.pdf (Caused by SSLError(SSLEOFError(8, 'EOF occurred in violation of protocol (_ssl.c:997)')))\n",
      "Failed to download file: status code 403\n",
      "Failed to download file: Invalid URL 'http:/downloads/2019-12-22/61/hankin1998.pdf#navpanes=0&view=FitH': No host supplied\n",
      "Failed to download file: status code 403\n",
      "Failed to download file: status code 403\n",
      "Failed to download file: Invalid URL 'http:/downloads/2019-11-11/a0/zhang2019.pdf#navpanes=0&view=FitH': No host supplied\n",
      "Failed to download file: HTTPSConnectionPool(host='zero.sci-hub.se', port=443): Max retries exceeded with url: /1703/592a87b5431fd67916bb3a6ad7c0fe24/kim2010.pdf (Caused by SSLError(SSLEOFError(8, 'EOF occurred in violation of protocol (_ssl.c:997)')))\n",
      "Failed to download file: Invalid URL 'http:/downloads/2021-06-09/78/li2020.pdf#navpanes=0&view=FitH': No host supplied\n",
      "Failed to download file: Invalid URL 'http:/downloads/2019-08-21/6f/chen2019.pdf#navpanes=0&view=FitH': No host supplied\n",
      "Failed to download file: HTTPSConnectionPool(host='moscow.sci-hub.se', port=443): Max retries exceeded with url: /663/5b81e2db0b8eeaccffa7b6cddce3d76c/montani1994.pdf (Caused by SSLError(SSLEOFError(8, 'EOF occurred in violation of protocol (_ssl.c:997)')))\n",
      "Failed to download file: HTTPSConnectionPool(host='moscow.sci-hub.se', port=443): Max retries exceeded with url: /1891/e6b6fa1c82c178b313f6fb92fa9c4d90/fattal2005.pdf (Caused by SSLError(SSLEOFError(8, 'EOF occurred in violation of protocol (_ssl.c:997)')))\n",
      "Failed to download file: Invalid URL 'http:/downloads/2022-11-06/42/ling2021.pdf#navpanes=0&view=FitH': No host supplied\n",
      "Failed to download file: HTTPSConnectionPool(host='moscow.sci-hub.se', port=443): Max retries exceeded with url: /790/b254eb4b00b2068d490c297c3915d44e/krumhuber2008.pdf (Caused by SSLError(SSLEOFError(8, 'EOF occurred in violation of protocol (_ssl.c:997)')))\n",
      "Failed to download file: status code 403\n",
      "Failed to download file: status code 403\n",
      "Failed to download file: Invalid URL 'http:/downloads/2021-06-09/aa/han2020.pdf#navpanes=0&view=FitH': No host supplied\n",
      "Failed to download file: status code 403\n",
      "Failed to download file: Invalid URL 'http:/downloads/2019-07-31/d1/10.1109@TPAMI.2019.2932058.pdf#navpanes=0&view=FitH': No host supplied\n",
      "Failed to download file: status code 403\n",
      "Failed to download file: Invalid URL 'http:/downloads/2021-09-15/f9/deep-learningbased-face-analytics-2021.pdf#navpanes=0&view=FitH': No host supplied\n",
      "Failed to download file: HTTPSConnectionPool(host='moscow.sci-hub.se', port=443): Max retries exceeded with url: /2379/317efc39aa88b3aef98b3b5471728aaa/tokuda2013.pdf (Caused by SSLError(SSLEOFError(8, 'EOF occurred in violation of protocol (_ssl.c:997)')))\n",
      "Failed to download file: HTTPSConnectionPool(host='moscow.sci-hub.se', port=443): Max retries exceeded with url: /4371/fb70523cc906b1a46eb276db47b81162/huo2016.pdf (Caused by SSLError(SSLEOFError(8, 'EOF occurred in violation of protocol (_ssl.c:997)')))\n",
      "Failed to download file: status code 403\n",
      "Failed to download file: status code 403\n",
      "Failed to download file: status code 403\n",
      "Failed to download file: Invalid URL 'http:/downloads/2019-11-12/31/pan2019.pdf#navpanes=0&view=FitH': No host supplied\n",
      "Failed to download file: HTTPSConnectionPool(host='zero.sci-hub.se', port=443): Max retries exceeded with url: /1321/abb709b14ac5428b7cddce388b21012d/troje2006.pdf (Caused by SSLError(SSLEOFError(8, 'EOF occurred in violation of protocol (_ssl.c:997)')))\n",
      "Failed to download file: HTTPSConnectionPool(host='zero.sci-hub.se', port=443): Max retries exceeded with url: /1152/110e026074aa2feac8e6bed237949e10/chirikjian1996.pdf (Caused by SSLError(SSLEOFError(8, 'EOF occurred in violation of protocol (_ssl.c:997)')))\n",
      "Failed to download file: Invalid URL 'http:/downloads/2019-10-26/a2/rambojun2019.pdf#navpanes=0&view=FitH': No host supplied\n",
      "Failed to download file: HTTPSConnectionPool(host='moscow.sci-hub.se', port=443): Max retries exceeded with url: /4410/5978b051f7554884e2a46653e7319153/yin2016.pdf (Caused by SSLError(SSLEOFError(8, 'EOF occurred in violation of protocol (_ssl.c:997)')))\n",
      "Failed to download file: HTTPSConnectionPool(host='zero.sci-hub.se', port=443): Max retries exceeded with url: /3212/0aadc5caf52b95a9bc7e409d4a266da7/nasri1987.pdf (Caused by SSLError(SSLEOFError(8, 'EOF occurred in violation of protocol (_ssl.c:997)')))\n",
      "Failed to download file: HTTPSConnectionPool(host='zero.sci-hub.se', port=443): Max retries exceeded with url: /4409/df42bb1705fbdd3ce1c6b2e6103bb381/gillies2010.pdf (Caused by SSLError(SSLEOFError(8, 'EOF occurred in violation of protocol (_ssl.c:997)')))\n",
      "Failed to download file: HTTPSConnectionPool(host='moscow.sci-hub.se', port=443): Max retries exceeded with url: /5440/af4c3846e1e02cd18f90547c342175d2/10.1007@s00371-016-1277-1.pdf (Caused by SSLError(SSLEOFError(8, 'EOF occurred in violation of protocol (_ssl.c:997)')))\n",
      "Failed to download file: status code 403\n",
      "Failed to download file: status code 403Failed to download file: HTTPSConnectionPool(host='moscow.sci-hub.se', port=443): Max retries exceeded with url: /2115/b176b92dc001460f858e000148042a69/yang2013.pdf (Caused by SSLError(SSLEOFError(8, 'EOF occurred in violation of protocol (_ssl.c:997)')))\n",
      "\n",
      "Failed to download file: status code 403\n",
      "Failed to download file: HTTPSConnectionPool(host='moscow.sci-hub.se', port=443): Max retries exceeded with url: /1813/2cff8ffa94d86787dca06b2edf32f8f9/patras2001.pdf (Caused by SSLError(SSLEOFError(8, 'EOF occurred in violation of protocol (_ssl.c:997)')))\n",
      "Failed to download file: HTTPSConnectionPool(host='zero.sci-hub.se', port=443): Max retries exceeded with url: /316/69399f8d7c9b2c12cf59484825e64d8d/gallo2011.pdf (Caused by SSLError(SSLEOFError(8, 'EOF occurred in violation of protocol (_ssl.c:997)')))\n",
      "Failed to download file: status code 403\n",
      "Failed to download file: Invalid URL 'http:/downloads/2021-08-12/e7/luo2021.pdf#navpanes=0&view=FitH': No host supplied\n",
      "Failed to download file: HTTPSConnectionPool(host='moscow.sci-hub.se', port=443): Max retries exceeded with url: /4502/825e39bd6542ea92356fe8aeb3ff8be9/bodenheimer1997.pdf (Caused by SSLError(SSLEOFError(8, 'EOF occurred in violation of protocol (_ssl.c:997)')))\n",
      "Failed to download file: HTTPSConnectionPool(host='zero.sci-hub.se', port=443): Max retries exceeded with url: /6694/1cd0e7047200f11168c537782a8ee375/sabokrou2018.pdf (Caused by SSLError(SSLEOFError(8, 'EOF occurred in violation of protocol (_ssl.c:997)')))\n",
      "Failed to download file: status code 403\n",
      "Failed to download file: status code 403\n",
      "Failed to download file: HTTPSConnectionPool(host='zero.sci-hub.se', port=443): Max retries exceeded with url: /6042/9a1de65adc1f164d0a977fbebc22f58c/huang2016.pdf (Caused by SSLError(SSLEOFError(8, 'EOF occurred in violation of protocol (_ssl.c:997)')))\n",
      "Failed to download file: Invalid URL 'http:/downloads/2019-09-10/45/10.1007@978-3-030-28954-6.pdf#navpanes=0&view=FitH': No host supplied\n",
      "Failed to download file: HTTPSConnectionPool(host='zero.sci-hub.se', port=443): Max retries exceeded with url: /2258/d6711104e20228ea9c3af97bdb75c36e/alsadik2013.pdf (Caused by SSLError(SSLEOFError(8, 'EOF occurred in violation of protocol (_ssl.c:997)')))\n",
      "Failed to download file: HTTPSConnectionPool(host='moscow.sci-hub.se', port=443): Max retries exceeded with url: /129/e17e02d9b83566a0685e8da0f3d97330/ferreira2004.pdf (Caused by SSLError(SSLEOFError(8, 'EOF occurred in violation of protocol (_ssl.c:997)')))\n",
      "Failed to download file: HTTPSConnectionPool(host='moscow.sci-hub.se', port=443): Max retries exceeded with url: /3533/f25f1b374c173293c91eefbbb20e8188/zhao1994.pdf (Caused by SSLError(SSLEOFError(8, 'EOF occurred in violation of protocol (_ssl.c:997)')))\n",
      "Failed to download file: status code 403\n",
      "Failed to download file: status code 403\n",
      "Failed to download file: status code 403\n",
      "Failed to download file: Invalid URL 'http:/downloads/2019-01-01/14/10.1145@3272127.3275057.pdf#navpanes=0&view=FitH': No host supplied\n",
      "Failed to download file: HTTPSConnectionPool(host='zero.sci-hub.se', port=443): Max retries exceeded with url: /961/af919128c5d2d23dd685991f159e54a2/lichtenthaler2011.pdf (Caused by SSLError(SSLEOFError(8, 'EOF occurred in violation of protocol (_ssl.c:997)')))\n",
      "Failed to download file: HTTPSConnectionPool(host='zero.sci-hub.se', port=443): Max retries exceeded with url: /2414/be81597ce3256b096e01288b1d70efc9/selden2003.pdf (Caused by SSLError(SSLEOFError(8, 'EOF occurred in violation of protocol (_ssl.c:997)')))\n",
      "Failed to download file: status code 403\n",
      "Failed to download file: HTTPSConnectionPool(host='moscow.sci-hub.se', port=443): Max retries exceeded with url: /1443/57a1e363846b290d5cb966179256535e/changcheng2012.pdf (Caused by SSLError(SSLEOFError(8, 'EOF occurred in violation of protocol (_ssl.c:997)')))\n",
      "Failed to download file: HTTPSConnectionPool(host='moscow.sci-hub.se', port=443): Max retries exceeded with url: /3232/663eae1bbebca0a3550f3797f3f5508d/coeurjolly2003.pdf (Caused by SSLError(SSLEOFError(8, 'EOF occurred in violation of protocol (_ssl.c:997)')))\n",
      "Failed to download file: status code 403\n",
      "Failed to download file: status code 403\n",
      "Failed to download file: Invalid URL 'http:/downloads/2019-12-20/2b/10.1038@s41467-019-13544-0.pdf#navpanes=0&view=FitH': No host supplied\n",
      "Failed to download file: HTTPSConnectionPool(host='zero.sci-hub.se', port=443): Max retries exceeded with url: /1893/e29752faf8ed1199c05062a5df501220/li2004.pdf (Caused by SSLError(SSLEOFError(8, 'EOF occurred in violation of protocol (_ssl.c:997)')))\n",
      "Failed to download file: Invalid URL 'http:/downloads/2019-10-26/2d/dehaan1994.pdf#navpanes=0&view=FitH': No host supplied\n",
      "Failed to download file: HTTPSConnectionPool(host='moscow.sci-hub.se', port=443): Max retries exceeded with url: /1816/4eb391f4cc6ccfe7a67af10c92989a23/borland2007.pdf (Caused by SSLError(SSLEOFError(8, 'EOF occurred in violation of protocol (_ssl.c:997)')))\n",
      "Failed to download file: HTTPSConnectionPool(host='moscow.sci-hub.se', port=443): Max retries exceeded with url: /5261/fe7f6e19a2ac99658a0bf34bdd608b41/10.1097@00002826-200603000-00001.pdf (Caused by SSLError(SSLEOFError(8, 'EOF occurred in violation of protocol (_ssl.c:997)')))\n",
      "Failed to download file: status code 403\n",
      "Failed to download file: HTTPSConnectionPool(host='zero.sci-hub.se', port=443): Max retries exceeded with url: /6625/508f9d448f833761ddac94912aa4ba43/zheng2018.pdf (Caused by SSLError(SSLEOFError(8, 'EOF occurred in violation of protocol (_ssl.c:997)')))\n",
      "Failed to download file: Invalid URL 'http:/downloads/2019-01-01/44/wolski2018.pdf#navpanes=0&view=FitH': No host supplied\n",
      "Failed to download file: Invalid URL 'http:/tree/9b/f4/9bf493034864b1d62ccb88d2d3270ae6.pdf#navpanes=0&view=FitH': No host supplied\n",
      "Failed to download file: HTTPSConnectionPool(host='moscow.sci-hub.se', port=443): Max retries exceeded with url: /1393/b341e4d88a0bd0935c27545721524828/giachetti2000.pdf (Caused by SSLError(SSLEOFError(8, 'EOF occurred in violation of protocol (_ssl.c:997)')))\n",
      "Failed to download file: HTTPSConnectionPool(host='moscow.sci-hub.se', port=443): Max retries exceeded with url: /328/34a1bdb88c52e0c6b28833edceaae8d7/radha1991.pdf (Caused by SSLError(SSLEOFError(8, 'EOF occurred in violation of protocol (_ssl.c:997)')))\n",
      "Failed to download file: HTTPSConnectionPool(host='moscow.sci-hub.se', port=443): Max retries exceeded with url: /1823/e9c30c906ff8e97f9d5f33f3d55688f4/tarini2006.pdf (Caused by SSLError(SSLEOFError(8, 'EOF occurred in violation of protocol (_ssl.c:997)')))\n",
      "Failed to download file: Invalid URL 'http:/downloads/2021-06-09/28/shimada2020.pdf#navpanes=0&view=FitH': No host supplied\n",
      "Failed to download file: HTTPSConnectionPool(host='moscow.sci-hub.se', port=443): Max retries exceeded with url: /3968/2b171f58b319d03e0fb25f95475dcaf5/correll2014.pdf (Caused by SSLError(SSLEOFError(8, 'EOF occurred in violation of protocol (_ssl.c:997)')))\n",
      "Failed to download file: status code 403\n",
      "Failed to download file: status code 403\n",
      "Failed to download file: HTTPSConnectionPool(host='moscow.sci-hub.se', port=443): Max retries exceeded with url: /1823/8024db3d066a92ccf399fff81a71c3a5/hadwiger2008.pdf (Caused by SSLError(SSLEOFError(8, 'EOF occurred in violation of protocol (_ssl.c:997)')))\n",
      "Failed to download file: status code 403\n",
      "Failed to download file: Invalid URL 'http:/downloads/2020-01-03/43f0/li2019.pdf#navpanes=0&view=FitH': No host supplied\n",
      "Failed to download file: status code 403\n",
      "Failed to download file: HTTPSConnectionPool(host='zero.sci-hub.se', port=443): Max retries exceeded with url: /2080/e4f9ca522c8a7b65879295595265354d/drira2013.pdf (Caused by SSLError(SSLEOFError(8, 'EOF occurred in violation of protocol (_ssl.c:997)')))\n",
      "Failed to download file: status code 403\n",
      "Failed to download file: status code 403\n",
      "Failed to download file: status code 403\n",
      "Failed to download file: HTTPSConnectionPool(host='moscow.sci-hub.se', port=443): Max retries exceeded with url: /3181/4fb3462dd347ca6ec990641f2cfd47e9/fengzhou2013.pdf (Caused by SSLError(SSLEOFError(8, 'EOF occurred in violation of protocol (_ssl.c:997)')))\n",
      "Failed to download file: status code 403\n",
      "Failed to download file: status code 403\n",
      "Failed to download file: HTTPSConnectionPool(host='zero.sci-hub.se', port=443): Max retries exceeded with url: /1437/966986c041931bffe885baee0b36c64f/okamura2010.pdf (Caused by SSLError(SSLEOFError(8, 'EOF occurred in violation of protocol (_ssl.c:997)')))\n",
      "Failed to download file: HTTPSConnectionPool(host='zero.sci-hub.se', port=443): Max retries exceeded with url: /4365/35a2441e53d2a7f0411fbe6353c0afca/eitz2012.pdf (Caused by SSLError(SSLEOFError(8, 'EOF occurred in violation of protocol (_ssl.c:997)')))\n",
      "Failed to download file: HTTPSConnectionPool(host='zero.sci-hub.se', port=443): Max retries exceeded with url: /422/6ea674fcf22264b2c0a0ab0a43b8d32c/franc2003.pdf (Caused by SSLError(SSLEOFError(8, 'EOF occurred in violation of protocol (_ssl.c:997)')))\n",
      "Failed to download file: Invalid URL 'http:/downloads/2019-12-02/fb/10.1007@978-3-030-28619-4.pdf#navpanes=0&view=FitH': No host supplied\n",
      "Failed to download file: status code 403\n",
      "Failed to download file: HTTPSConnectionPool(host='zero.sci-hub.se', port=443): Max retries exceeded with url: /4418/a14e5ef9ab6caddc4f7336785725607f/wang2004.pdf (Caused by SSLError(SSLEOFError(8, 'EOF occurred in violation of protocol (_ssl.c:997)')))\n",
      "Failed to download file: status code 403\n",
      "Failed to download file: HTTPSConnectionPool(host='moscow.sci-hub.se', port=443): Max retries exceeded with url: /4021/ef8f46170362a713802000acd78a0b16/liang2015.pdf (Caused by SSLError(SSLEOFError(8, 'EOF occurred in violation of protocol (_ssl.c:997)')))\n",
      "Failed to download file: status code 403\n",
      "Failed to download file: HTTPSConnectionPool(host='zero.sci-hub.se', port=443): Max retries exceeded with url: /7138/e29d46b70e2ee32f7a117e58e68c7f8e/sullivan2000.pdf (Caused by SSLError(SSLEOFError(8, 'EOF occurred in violation of protocol (_ssl.c:997)')))\n",
      "Failed to download file: HTTPSConnectionPool(host='moscow.sci-hub.se', port=443): Max retries exceeded with url: /191/89518cb744ab944aa6d063f138fbddab/pfeiffer1996.pdf (Caused by SSLError(SSLEOFError(8, 'EOF occurred in violation of protocol (_ssl.c:997)')))\n",
      "Failed to download file: status code 403\n",
      "Failed to download file: Invalid URL 'http:/downloads/2021-08-11/f8/yuan2021.pdf#navpanes=0&view=FitH': No host supplied\n",
      "Failed to download file: status code 403\n",
      "Failed to download file: HTTPSConnectionPool(host='moscow.sci-hub.se', port=443): Max retries exceeded with url: /2110/f7106b9d9dd0c0e4572bd81b29e2dc16/klatzky2000.pdf (Caused by SSLError(SSLEOFError(8, 'EOF occurred in violation of protocol (_ssl.c:997)')))\n",
      "Failed to download file: status code 403\n",
      "Failed to download file: HTTPSConnectionPool(host='moscow.sci-hub.se', port=443): Max retries exceeded with url: /349/9671ac3c84164d7ec4a13ea35a0dfb55/chang2011.pdf (Caused by SSLError(SSLEOFError(8, 'EOF occurred in violation of protocol (_ssl.c:997)')))\n",
      "Failed to download file: status code 403\n",
      "Failed to download file: status code 403\n",
      "Failed to download file: HTTPSConnectionPool(host='zero.sci-hub.se', port=443): Max retries exceeded with url: /3604/939e6916855331e10d690a2e0eb441d1/hasselgren2009.pdf (Caused by SSLError(SSLEOFError(8, 'EOF occurred in violation of protocol (_ssl.c:997)')))\n",
      "Failed to download file: status code 403\n",
      "Failed to download file: status code 403\n",
      "Failed to download file: HTTPSConnectionPool(host='moscow.sci-hub.se', port=443): Max retries exceeded with url: /1315/8b9bc8003d353a857a67480b77e02d7f/karni2004.pdf (Caused by SSLError(SSLEOFError(8, 'EOF occurred in violation of protocol (_ssl.c:997)')))\n",
      "Failed to download file: Invalid URL 'http:/downloads/2019-08-02/7d/yamoah2014.pdf#navpanes=0&view=FitH': No host supplied\n",
      "Failed to download file: status code 403\n",
      "Failed to download file: HTTPSConnectionPool(host='zero.sci-hub.se', port=443): Max retries exceeded with url: /3452/aa9caa61cf6b6b335ddc69efe9d20119/mathe2015.pdf (Caused by SSLError(SSLEOFError(8, 'EOF occurred in violation of protocol (_ssl.c:997)')))\n",
      "Failed to download file: HTTPSConnectionPool(host='moscow.sci-hub.se', port=443): Max retries exceeded with url: /3589/297a9c5b94d33397fbb78c9955bf1033/ju2008.pdf (Caused by SSLError(SSLEOFError(8, 'EOF occurred in violation of protocol (_ssl.c:997)')))\n",
      "Failed to download file: HTTPSConnectionPool(host='zero.sci-hub.se', port=443): Max retries exceeded with url: /1311/2f66a1d17b8bdd5cafa7bc97ae27ce0a/zhang2008.pdf (Caused by SSLError(SSLEOFError(8, 'EOF occurred in violation of protocol (_ssl.c:997)')))\n",
      "Failed to download file: HTTPSConnectionPool(host='zero.sci-hub.se', port=443): Max retries exceeded with url: /6986/7d0d943cc0a06435d0d816e9ff0055e4/zhu2018.pdf (Caused by SSLError(SSLEOFError(8, 'EOF occurred in violation of protocol (_ssl.c:997)')))\n",
      "Failed to download file: Invalid URL 'http:/downloads/2022-11-17/94/liu2022.pdf#navpanes=0&view=FitH': No host supplied\n",
      "Failed to download file: status code 403\n",
      "Failed to download file: HTTPSConnectionPool(host='moscow.sci-hub.se', port=443): Max retries exceeded with url: /2462/c34f0f383f9755c8e9ce2550c5d10470/brunet1990.pdf (Caused by SSLError(SSLEOFError(8, 'EOF occurred in violation of protocol (_ssl.c:997)')))\n",
      "Failed to download file: HTTPSConnectionPool(host='moscow.sci-hub.se', port=443): Max retries exceeded with url: /3554/ab70897fdd33131b6cbab1ffa72cdcf4/quack2008.pdf (Caused by SSLError(SSLEOFError(8, 'EOF occurred in violation of protocol (_ssl.c:997)')))\n",
      "Failed to download file: Invalid URL 'http:/downloads/2021-05-13//e0fc/chen2021.pdf#navpanes=0&view=FitH': No host supplied\n",
      "Failed to download file: HTTPSConnectionPool(host='zero.sci-hub.se', port=443): Max retries exceeded with url: /3684/7d9761d4bc4177bfa00fe43160ca5b9d/cheng1996.pdf (Caused by SSLError(SSLEOFError(8, 'EOF occurred in violation of protocol (_ssl.c:997)')))\n",
      "Failed to download file: status code 403\n",
      "Failed to download file: HTTPSConnectionPool(host='zero.sci-hub.se', port=443): Max retries exceeded with url: /2432/7eb7440705848234291adf9a21ee881f/nasrabadi2014.pdf (Caused by SSLError(SSLEOFError(8, 'EOF occurred in violation of protocol (_ssl.c:997)')))\n",
      "Failed to download file: status code 403\n",
      "Failed to download file: HTTPSConnectionPool(host='zero.sci-hub.se', port=443): Max retries exceeded with url: /4930/925e504e1ae6d86662a6f4e331cc62d3/rahmani2016.pdf (Caused by SSLError(SSLEOFError(8, 'EOF occurred in violation of protocol (_ssl.c:997)')))\n",
      "Failed to download file: HTTPSConnectionPool(host='zero.sci-hub.se', port=443): Max retries exceeded with url: /4369/b68736f52f88fda7a4fb08863e0c64f7/livesu2013.pdf (Caused by SSLError(SSLEOFError(8, 'EOF occurred in violation of protocol (_ssl.c:997)')))\n",
      "Failed to download file: HTTPSConnectionPool(host='dacemirror.sci-hub.se', port=443): Max retries exceeded with url: /journal-article/cea351b70311e4ec2462a73207d64e77/10.1145@2766983.pdf (Caused by SSLError(SSLEOFError(8, 'EOF occurred in violation of protocol (_ssl.c:997)')))\n",
      "Failed to download file: HTTPSConnectionPool(host='moscow.sci-hub.se', port=443): Max retries exceeded with url: /1848/812823d6e5a66d3bec287cca1b61470f/guo2005.pdf (Caused by SSLError(SSLEOFError(8, 'EOF occurred in violation of protocol (_ssl.c:997)')))\n",
      "Failed to download file: HTTPSConnectionPool(host='zero.sci-hub.se', port=443): Max retries exceeded with url: /6912/e4a72148a3e9dadf36eb9d501814bc56/elmaghrabi2018.pdf (Caused by SSLError(SSLEOFError(8, 'EOF occurred in violation of protocol (_ssl.c:997)')))\n",
      "Failed to download file: Invalid URL 'http:/downloads/2019-11-13/37/liu2019.pdf#navpanes=0&view=FitH': No host supplied\n",
      "Failed to download file: HTTPSConnectionPool(host='dacemirror.sci-hub.se', port=443): Max retries exceeded with url: /journal-article/bc15434475793ecf27b90e04737abeaa/dyke1995.pdf (Caused by SSLError(SSLEOFError(8, 'EOF occurred in violation of protocol (_ssl.c:997)')))\n",
      "Failed to download file: HTTPSConnectionPool(host='dacemirror.sci-hub.se', port=443): Max retries exceeded with url: /journal-article/02590efb95ebef298d09e423e82a1854/miller1995.pdf (Caused by SSLError(SSLEOFError(8, 'EOF occurred in violation of protocol (_ssl.c:997)')))\n",
      "Failed to download file: HTTPSConnectionPool(host='zero.sci-hub.se', port=443): Max retries exceeded with url: /6412/9126d3a6239b1fd78201c2b78320c540/ghafoorian2017.pdf (Caused by SSLError(SSLEOFError(8, 'EOF occurred in violation of protocol (_ssl.c:997)')))\n",
      "Failed to download file: HTTPSConnectionPool(host='zero.sci-hub.se', port=443): Max retries exceeded with url: /7071/32cb2341c9c6191d413edeeaa0800bed/norvick2001.pdf (Caused by SSLError(SSLEOFError(8, 'EOF occurred in violation of protocol (_ssl.c:997)')))\n",
      "Failed to download file: HTTPSConnectionPool(host='zero.sci-hub.se', port=443): Max retries exceeded with url: /4053/6b3e4799db0e31d1b9b2f8c32cdd95cc/xiao2013.pdf (Caused by SSLError(SSLEOFError(8, 'EOF occurred in violation of protocol (_ssl.c:997)')))\n",
      "Failed to download file: HTTPSConnectionPool(host='zero.sci-hub.se', port=443): Max retries exceeded with url: /5401/e5ddda9ab5c33f255e8748877aeae730/hurri2003.pdf (Caused by SSLError(SSLEOFError(8, 'EOF occurred in violation of protocol (_ssl.c:997)')))\n",
      "Failed to download file: HTTPSConnectionPool(host='dacemirror.sci-hub.se', port=443): Max retries exceeded with url: /journal-article/983c4b0da2370b2d7eae5e657097c294/marsch2015.pdf (Caused by SSLError(SSLEOFError(8, 'EOF occurred in violation of protocol (_ssl.c:997)')))\n",
      "Failed to download file: HTTPSConnectionPool(host='dacemirror.sci-hub.se', port=443): Max retries exceeded with url: /journal-article/1bf9cd3db0a12f5b5df7055858c79c29/brenner2014.pdf (Caused by SSLError(SSLEOFError(8, 'EOF occurred in violation of protocol (_ssl.c:997)')))\n",
      "Failed to download file: HTTPSConnectionPool(host='zero.sci-hub.se', port=443): Max retries exceeded with url: /743/e7323ec0617725cfde1817a654aa45f4/dixon1999.pdf (Caused by SSLError(SSLEOFError(8, 'EOF occurred in violation of protocol (_ssl.c:997)')))\n",
      "Failed to download file: HTTPSConnectionPool(host='zero.sci-hub.se', port=443): Max retries exceeded with url: /2255/07201228a5336fe7e573cd19bc4a2974/taubin1998.pdf (Caused by SSLError(SSLEOFError(8, 'EOF occurred in violation of protocol (_ssl.c:997)')))\n",
      "Failed to download file: HTTPSConnectionPool(host='moscow.sci-hub.se', port=443): Max retries exceeded with url: /1292/96de612065f4246ccdbed18037d5dedc/sutton1986.pdf (Caused by SSLError(SSLEOFError(8, 'EOF occurred in violation of protocol (_ssl.c:997)')))\n",
      "Failed to download file: HTTPSConnectionPool(host='zero.sci-hub.se', port=443): Max retries exceeded with url: /7069/f9d15aee3aabff6bae8f3bb506d255eb/ravi2016.pdf (Caused by SSLError(SSLEOFError(8, 'EOF occurred in violation of protocol (_ssl.c:997)')))\n",
      "Failed to download file: HTTPSConnectionPool(host='zero.sci-hub.se', port=443): Max retries exceeded with url: /6578/3dfa635a13468afbdfed6b3d2a788d2d/larabi2017.pdf (Caused by SSLError(SSLEOFError(8, 'EOF occurred in violation of protocol (_ssl.c:997)')))\n",
      "Failed to download file: Invalid URL 'http:/downloads/2022-11-05/a154/li2022.pdf#navpanes=0&view=FitH': No host supplied\n",
      "Failed to download file: HTTPSConnectionPool(host='moscow.sci-hub.se', port=443): Max retries exceeded with url: /1822/d0811794b25e04829e033f59d87a146f/mian2007.pdf (Caused by SSLError(SSLEOFError(8, 'EOF occurred in violation of protocol (_ssl.c:997)')))\n",
      "Failed to download file: HTTPSConnectionPool(host='zero.sci-hub.se', port=443): Max retries exceeded with url: /141/05109d995669d8565fd54211641d83ec/delac2005.pdf (Caused by SSLError(SSLEOFError(8, 'EOF occurred in violation of protocol (_ssl.c:997)')))\n",
      "Failed to download file: HTTPSConnectionPool(host='zero.sci-hub.se', port=443): Max retries exceeded with url: /4942/35537ae3fa6bbc9132771e9c32f24b9f/brubaker2016.pdf (Caused by SSLError(SSLEOFError(8, 'EOF occurred in violation of protocol (_ssl.c:997)')))\n",
      "Failed to download file: HTTPSConnectionPool(host='moscow.sci-hub.se', port=443): Max retries exceeded with url: /2337/d712a4db91dc292a0b93343823972e68/junyu2012.pdf (Caused by SSLError(SSLEOFError(8, 'EOF occurred in violation of protocol (_ssl.c:997)')))\n",
      "Failed to download file: HTTPSConnectionPool(host='dacemirror.sci-hub.se', port=443): Max retries exceeded with url: /proceedings-article/49740bac73fbab9fc11239d2b3ea78f0/liu2007.pdf (Caused by SSLError(SSLEOFError(8, 'EOF occurred in violation of protocol (_ssl.c:997)')))\n",
      "Failed to download file: HTTPSConnectionPool(host='dacemirror.sci-hub.se', port=443): Max retries exceeded with url: /journal-article/cd282789e6f876cb8db7931f7e68f717/hotz2002.pdf (Caused by SSLError(SSLEOFError(8, 'EOF occurred in violation of protocol (_ssl.c:997)')))\n",
      "Failed to download file: HTTPSConnectionPool(host='zero.sci-hub.se', port=443): Max retries exceeded with url: /2085/e9abe8b6e241e58925ca66accdabc981/li2013.pdf (Caused by SSLError(SSLEOFError(8, 'EOF occurred in violation of protocol (_ssl.c:997)')))\n",
      "Failed to download file: HTTPSConnectionPool(host='dacemirror.sci-hub.se', port=443): Max retries exceeded with url: /journal-article/0659ad18ca75147ca56fa8137558bf0e/narain2013.pdf (Caused by SSLError(SSLEOFError(8, 'EOF occurred in violation of protocol (_ssl.c:997)')))\n",
      "Failed to download file: HTTPSConnectionPool(host='moscow.sci-hub.se', port=443): Max retries exceeded with url: /316/048ce3cefdc9c5dc1b0ed1d13479886e/li2005.pdf (Caused by SSLError(SSLEOFError(8, 'EOF occurred in violation of protocol (_ssl.c:997)')))\n",
      "Failed to download file: HTTPSConnectionPool(host='zero.sci-hub.se', port=443): Max retries exceeded with url: /2108/f8ab66e8e7abdb0ce19851059d0cf023/farabet2013.pdf (Caused by SSLError(SSLEOFError(8, 'EOF occurred in violation of protocol (_ssl.c:997)')))\n",
      "Failed to download file: Invalid URL 'http:/downloads/2022-11-05/9586/ali2022.pdf#navpanes=0&view=FitH': No host supplied\n",
      "Failed to download file: HTTPSConnectionPool(host='dacemirror.sci-hub.se', port=443): Max retries exceeded with url: /journal-article/d20a284c1163fd05ca666d59db59fbe2/drouin2016.pdf (Caused by SSLError(SSLEOFError(8, 'EOF occurred in violation of protocol (_ssl.c:997)')))\n",
      "Failed to download file: HTTPSConnectionPool(host='zero.sci-hub.se', port=443): Max retries exceeded with url: /3919/59b745935b02321c3f8ce2a4cb6e4f57/liu2015.pdf (Caused by SSLError(SSLEOFError(8, 'EOF occurred in violation of protocol (_ssl.c:997)')))\n",
      "Failed to download file: HTTPSConnectionPool(host='moscow.sci-hub.se', port=443): Max retries exceeded with url: /1384/5deff7f709170c8c73f3df364a91b4dd/nasri2002.pdf (Caused by SSLError(SSLEOFError(8, 'EOF occurred in violation of protocol (_ssl.c:997)')))\n",
      "Failed to download file: HTTPSConnectionPool(host='dacemirror.sci-hub.se', port=443): Max retries exceeded with url: /journal-article/60c2fc8712014bff40b5e63fba290939/schweighofer2003.pdf (Caused by SSLError(SSLEOFError(8, 'EOF occurred in violation of protocol (_ssl.c:997)')))\n",
      "Failed to download file: HTTPSConnectionPool(host='dacemirror.sci-hub.se', port=443): Max retries exceeded with url: /journal-article/98b68637bbc7423a5bf27624e904bc6e/angel1970.pdf (Caused by SSLError(SSLEOFError(8, 'EOF occurred in violation of protocol (_ssl.c:997)')))\n",
      "Failed to download file: HTTPSConnectionPool(host='moscow.sci-hub.se', port=443): Max retries exceeded with url: /4369/50a2738d6a8662b139b921906e37842b/kim2014.pdf (Caused by SSLError(SSLEOFError(8, 'EOF occurred in violation of protocol (_ssl.c:997)')))\n",
      "Failed to download file: Invalid URL 'http:/downloads/2020-04-16/6d/gu2020.pdf#navpanes=0&view=FitH': No host supplied\n",
      "Failed to download file: HTTPSConnectionPool(host='moscow.sci-hub.se', port=443): Max retries exceeded with url: /3570/f723995c2055120279b42ca9f4d4481c/hildebrandt2011.pdf (Caused by SSLError(SSLEOFError(8, 'EOF occurred in violation of protocol (_ssl.c:997)')))\n",
      "Failed to download file: HTTPSConnectionPool(host='moscow.sci-hub.se', port=443): Max retries exceeded with url: /2183/54ef57bca1d7e894a8f12b491ae6f4c0/ngo2014.pdf (Caused by SSLError(SSLEOFError(8, 'EOF occurred in violation of protocol (_ssl.c:997)')))\n",
      "Failed to download file: HTTPSConnectionPool(host='zero.sci-hub.se', port=443): Max retries exceeded with url: /942/902a8ac94d65c0a6a2ad14d55119b8fb/10.1111@j.1467-8659.2011.02020.x.pdf (Caused by SSLError(SSLEOFError(8, 'EOF occurred in violation of protocol (_ssl.c:997)')))\n",
      "Failed to download file: HTTPSConnectionPool(host='dacemirror.sci-hub.se', port=443): Max retries exceeded with url: /journal-article/e802e5e6950fd969dd0edaff32ea3a31/takeda2008.pdf (Caused by SSLError(SSLEOFError(8, 'EOF occurred in violation of protocol (_ssl.c:997)')))\n",
      "Failed to download file: Invalid URL 'http:/downloads/2021-05-17/e4/ibarz2021.pdf#navpanes=0&view=FitH': No host supplied\n",
      "Failed to download file: HTTPSConnectionPool(host='moscow.sci-hub.se', port=443): Max retries exceeded with url: /1823/0e22b29729b0072717d301621341841a/benthin2012.pdf (Caused by SSLError(SSLEOFError(8, 'EOF occurred in violation of protocol (_ssl.c:997)')))\n",
      "Failed to download file: HTTPSConnectionPool(host='moscow.sci-hub.se', port=443): Max retries exceeded with url: /2485/6c30fd6ffbb071b4fb13d8561b4a3564/donaldson1991.pdf (Caused by SSLError(SSLEOFError(8, 'EOF occurred in violation of protocol (_ssl.c:997)')))\n",
      "Failed to download file: HTTPSConnectionPool(host='moscow.sci-hub.se', port=443): Max retries exceeded with url: /3234/72e3bd812667d71b9d5ec7e08e98cbfb/maggio2008.pdf (Caused by SSLError(SSLEOFError(8, 'EOF occurred in violation of protocol (_ssl.c:997)')))\n",
      "Failed to download file: HTTPSConnectionPool(host='dacemirror.sci-hub.se', port=443): Max retries exceeded with url: /journal-article/c90087b235e4eba84782bf6b157c2036/ullman1991.pdf (Caused by SSLError(SSLEOFError(8, 'EOF occurred in violation of protocol (_ssl.c:997)')))\n",
      "Failed to download file: HTTPSConnectionPool(host='moscow.sci-hub.se', port=443): Max retries exceeded with url: /2386/99fe05afc8dc7a853e4ecdb280ed4dee/yu2014.pdf (Caused by SSLError(SSLEOFError(8, 'EOF occurred in violation of protocol (_ssl.c:997)')))\n",
      "Failed to download file: HTTPSConnectionPool(host='moscow.sci-hub.se', port=443): Max retries exceeded with url: /1813/7d0e2d304b9394ff26c500b59e26323a/baribeau1992.pdf (Caused by SSLError(SSLEOFError(8, 'EOF occurred in violation of protocol (_ssl.c:997)')))\n",
      "Failed to download file: HTTPSConnectionPool(host='dacemirror.sci-hub.se', port=443): Max retries exceeded with url: /journal-article/3a5cdd15cb3913e730832a60e4d7c378/castelan2007.pdf (Caused by SSLError(SSLEOFError(8, 'EOF occurred in violation of protocol (_ssl.c:997)')))\n",
      "Failed to download file: HTTPSConnectionPool(host='moscow.sci-hub.se', port=443): Max retries exceeded with url: /3742/cf3efcfb97f71e88670f1cf04d378f8c/criscuolo2004.pdf (Caused by SSLError(SSLEOFError(8, 'EOF occurred in violation of protocol (_ssl.c:997)')))\n",
      "Failed to download file: HTTPSConnectionPool(host='moscow.sci-hub.se', port=443): Max retries exceeded with url: /4990/cd87509534769e09e4b974526c89f126/ghesu2016.pdf (Caused by SSLError(SSLEOFError(8, 'EOF occurred in violation of protocol (_ssl.c:997)')))\n",
      "Failed to download file: HTTPSConnectionPool(host='zero.sci-hub.se', port=443): Max retries exceeded with url: /798/bfd736b25acc985a8381bd185d41f49e/mooney2011.pdf (Caused by SSLError(SSLEOFError(8, 'EOF occurred in violation of protocol (_ssl.c:997)')))\n",
      "Failed to download file: HTTPSConnectionPool(host='zero.sci-hub.se', port=443): Max retries exceeded with url: /1822/b083fabd8433e8e83089cf62249ed42a/akgul2009.pdf (Caused by SSLError(SSLEOFError(8, 'EOF occurred in violation of protocol (_ssl.c:997)')))\n",
      "Failed to download file: HTTPSConnectionPool(host='moscow.sci-hub.se', port=443): Max retries exceeded with url: /1442/046587a90be0a75d2d0c0987e0a4682e/zhang2008.pdf (Caused by SSLError(SSLEOFError(8, 'EOF occurred in violation of protocol (_ssl.c:997)')))\n",
      "Failed to download file: HTTPSConnectionPool(host='moscow.sci-hub.se', port=443): Max retries exceeded with url: /5146/c729000f7d01b45b0993930a3510fee7/bai2016.pdf (Caused by SSLError(SSLEOFError(8, 'EOF occurred in violation of protocol (_ssl.c:997)')))\n",
      "Failed to download file: HTTPSConnectionPool(host='dacemirror.sci-hub.se', port=443): Max retries exceeded with url: /journal-article/412e42b57d2fc1a2452e17e7bf137c67/karl2010.pdf (Caused by SSLError(SSLEOFError(8, 'EOF occurred in violation of protocol (_ssl.c:997)')))\n",
      "Failed to download file: HTTPSConnectionPool(host='dacemirror.sci-hub.se', port=443): Max retries exceeded with url: /proceedings-article/91db6ccb7f32227331c2e03531f16262/xu2011.pdf (Caused by SSLError(SSLEOFError(8, 'EOF occurred in violation of protocol (_ssl.c:997)')))\n",
      "Failed to download file: HTTPSConnectionPool(host='zero.sci-hub.se', port=443): Max retries exceeded with url: /6030/c551d6588054768207dacbcb37d63869/10.1007@978-3-319-46487-931.pdf (Caused by SSLError(SSLEOFError(8, 'EOF occurred in violation of protocol (_ssl.c:997)')))\n",
      "Failed to download file: HTTPSConnectionPool(host='dacemirror.sci-hub.se', port=443): Max retries exceeded with url: /journal-article/a7c38359750e8144ca2aa477a7e46ec7/gaucherel2012.pdf (Caused by SSLError(SSLEOFError(8, 'EOF occurred in violation of protocol (_ssl.c:997)')))\n",
      "Failed to download file: HTTPSConnectionPool(host='zero.sci-hub.se', port=443): Max retries exceeded with url: /2206/531fed115bc227b8ef540ce8e9f7d16e/liu2006.pdf (Caused by SSLError(SSLEOFError(8, 'EOF occurred in violation of protocol (_ssl.c:997)')))\n",
      "Failed to download file: HTTPSConnectionPool(host='zero.sci-hub.se', port=443): Max retries exceeded with url: /2140/f8851134c05d575f47ec34bf9189d1de/gulledge2008.pdf (Caused by SSLError(SSLEOFError(8, 'EOF occurred in violation of protocol (_ssl.c:997)')))\n",
      "Failed to download file: HTTPSConnectionPool(host='moscow.sci-hub.se', port=443): Max retries exceeded with url: /5138/2a1e4b296e1cfe9b694052e233e4ace3/kadambi2016.pdf (Caused by SSLError(SSLEOFError(8, 'EOF occurred in violation of protocol (_ssl.c:997)')))\n",
      "Failed to download file: HTTPSConnectionPool(host='zero.sci-hub.se', port=443): Max retries exceeded with url: /2161/1cf56858523711231c0abc452003377b/zhang2010.pdf (Caused by SSLError(SSLEOFError(8, 'EOF occurred in violation of protocol (_ssl.c:997)')))\n",
      "Failed to download file: HTTPSConnectionPool(host='moscow.sci-hub.se', port=443): Max retries exceeded with url: /4438/53fb4fef328ff38891dfdda4adafc64e/gooch2004.pdf (Caused by SSLError(SSLEOFError(8, 'EOF occurred in violation of protocol (_ssl.c:997)')))\n",
      "Failed to download file: HTTPSConnectionPool(host='dacemirror.sci-hub.se', port=443): Max retries exceeded with url: /journal-article/16ba017413ec4d4ff0dbf521cde918cb/kang2015.pdf (Caused by SSLError(SSLEOFError(8, 'EOF occurred in violation of protocol (_ssl.c:997)')))\n",
      "Failed to download file: HTTPSConnectionPool(host='moscow.sci-hub.se', port=443): Max retries exceeded with url: /347/af001ad8dde5c906c4b4fcd9fa82f08a/juang2004.pdf (Caused by SSLError(SSLEOFError(8, 'EOF occurred in violation of protocol (_ssl.c:997)')))\n",
      "Failed to download file: HTTPSConnectionPool(host='dacemirror.sci-hub.se', port=443): Max retries exceeded with url: /journal-article/6462f98f3f7e3a7649dae9c812e657a1/gui2015.pdf (Caused by SSLError(SSLEOFError(8, 'EOF occurred in violation of protocol (_ssl.c:997)')))\n",
      "Failed to download file: HTTPSConnectionPool(host='zero.sci-hub.se', port=443): Max retries exceeded with url: /1171/5c99486f50017c68300e456c94d7cd5c/bobrow2001.pdf (Caused by SSLError(SSLEOFError(8, 'EOF occurred in violation of protocol (_ssl.c:997)')))\n",
      "Failed to download file: HTTPSConnectionPool(host='moscow.sci-hub.se', port=443): Max retries exceeded with url: /941/dd3c95a0b7ccb104b7853d3ef44d1ec8/zayer2005.pdf (Caused by SSLError(SSLEOFError(8, 'EOF occurred in violation of protocol (_ssl.c:997)')))\n",
      "Failed to download file: Invalid URL 'http:/downloads/2020-09-28/d7/sak2008.pdf#navpanes=0&view=FitH': No host supplied\n",
      "Failed to download file: Invalid URL 'http:/downloads/2019-09-24/bd/10.1007@978-3-030-30577-2.pdf#navpanes=0&view=FitH': No host supplied\n",
      "Failed to download file: HTTPSConnectionPool(host='zero.sci-hub.se', port=443): Max retries exceeded with url: /4941/9969ed07d70e717fa84f60ddcced8444/shin2016.pdf (Caused by SSLError(SSLEOFError(8, 'EOF occurred in violation of protocol (_ssl.c:997)')))\n",
      "Failed to download file: HTTPSConnectionPool(host='dacemirror.sci-hub.se', port=443): Max retries exceeded with url: /journal-article/a5d1e739bbddec225ffaef61d116ffe6/karsch2014.pdf (Caused by SSLError(SSLEOFError(8, 'EOF occurred in violation of protocol (_ssl.c:997)')))\n",
      "Failed to download file: HTTPSConnectionPool(host='zero.sci-hub.se', port=443): Max retries exceeded with url: /6764/14ae2790022f9d0d50b5284cd4dfd9e0/li2018.pdf (Caused by SSLError(SSLEOFError(8, 'EOF occurred in violation of protocol (_ssl.c:997)')))\n",
      "Failed to download file: HTTPSConnectionPool(host='dacemirror.sci-hub.se', port=443): Max retries exceeded with url: /journal-article/30838fd297bdac655b76f64f2c9d65ba/soltanpour2017.pdf (Caused by SSLError(SSLEOFError(8, 'EOF occurred in violation of protocol (_ssl.c:997)')))\n",
      "Failed to download file: HTTPSConnectionPool(host='moscow.sci-hub.se', port=443): Max retries exceeded with url: /1315/0a26ef701e3ab7431941796678322b84/gironimo2006.pdf (Caused by SSLError(SSLEOFError(8, 'EOF occurred in violation of protocol (_ssl.c:997)')))\n",
      "Failed to download file: HTTPSConnectionPool(host='zero.sci-hub.se', port=443): Max retries exceeded with url: /1315/83429695996424e52fa3667b78c6cd1a/deluca2006.pdf (Caused by SSLError(SSLEOFError(8, 'EOF occurred in violation of protocol (_ssl.c:997)')))\n",
      "Failed to download file: HTTPSConnectionPool(host='dacemirror.sci-hub.se', port=443): Max retries exceeded with url: /journal-article/b831e7b850210b934569473f021e6675/hoppe2018.pdf (Caused by SSLError(SSLEOFError(8, 'EOF occurred in violation of protocol (_ssl.c:997)')))\n",
      "Failed to download file: HTTPSConnectionPool(host='zero.sci-hub.se', port=443): Max retries exceeded with url: /316/38153adae6f7b25505cf7ae26deaed23/mademlis2009.pdf (Caused by SSLError(SSLEOFError(8, 'EOF occurred in violation of protocol (_ssl.c:997)')))\n",
      "Failed to download file: HTTPSConnectionPool(host='dacemirror.sci-hub.se', port=443): Max retries exceeded with url: /journal-article/76a88c980f766f9c4b89f3ba58c47124/larios2007.pdf (Caused by SSLError(SSLEOFError(8, 'EOF occurred in violation of protocol (_ssl.c:997)')))\n",
      "Failed to download file: HTTPSConnectionPool(host='dacemirror.sci-hub.se', port=443): Max retries exceeded with url: /journal-article/2b992d7bdb3b69632319f24c5671a101/he2016.pdf (Caused by SSLError(SSLEOFError(8, 'EOF occurred in violation of protocol (_ssl.c:997)')))\n",
      "Failed to download file: Invalid URL 'http:/downloads/2020-02-19/32/iwendi2020.pdf#navpanes=0&view=FitH': No host supplied\n",
      "Failed to download file: HTTPSConnectionPool(host='dacemirror.sci-hub.se', port=443): Max retries exceeded with url: /journal-article/1f385d134f7cd953193b4453596cbdd1/ma2004.pdf (Caused by SSLError(SSLEOFError(8, 'EOF occurred in violation of protocol (_ssl.c:997)')))\n",
      "Failed to download file: HTTPSConnectionPool(host='zero.sci-hub.se', port=443): Max retries exceeded with url: /3103/d11b3557c44c71223dd1d38390d7ae9a/fok2007.pdf (Caused by SSLError(SSLEOFError(8, 'EOF occurred in violation of protocol (_ssl.c:997)')))\n",
      "Failed to download file: HTTPSConnectionPool(host='moscow.sci-hub.se', port=443): Max retries exceeded with url: /4364/7c28d12363b0c147e770c01b38427764/10.1145@508357.508359.pdf (Caused by SSLError(SSLEOFError(8, 'EOF occurred in violation of protocol (_ssl.c:997)')))\n",
      "Failed to download file: HTTPSConnectionPool(host='dacemirror.sci-hub.se', port=443): Max retries exceeded with url: /journal-article/b9928901ee664a6c38ffacf03dcdd9d9/belhumeur1997.pdf (Caused by SSLError(SSLEOFError(8, 'EOF occurred in violation of protocol (_ssl.c:997)')))\n",
      "Failed to download file: HTTPSConnectionPool(host='moscow.sci-hub.se', port=443): Max retries exceeded with url: /3742/3d8a5c52a39242b0cf015a68e70475a1/dasilva2006.pdf (Caused by SSLError(SSLEOFError(8, 'EOF occurred in violation of protocol (_ssl.c:997)')))\n",
      "Failed to download file: HTTPSConnectionPool(host='moscow.sci-hub.se', port=443): Max retries exceeded with url: /1139/2c14a96c8bafde1f89fde07042b37cf5/fenghao2006.pdf (Caused by SSLError(SSLEOFError(8, 'EOF occurred in violation of protocol (_ssl.c:997)')))\n",
      "Failed to download file: Invalid URL 'http:/downloads/2021-06-14/fc/phothilimthana2013.pdf#navpanes=0&view=FitH': No host supplied\n",
      "Failed to download file: HTTPSConnectionPool(host='zero.sci-hub.se', port=443): Max retries exceeded with url: /1448/db46a8c27da218bdd084bc1bb8a730d5/szirmay-kalos1999.pdf (Caused by SSLError(SSLEOFError(8, 'EOF occurred in violation of protocol (_ssl.c:997)')))\n",
      "Failed to download file: HTTPSConnectionPool(host='moscow.sci-hub.se', port=443): Max retries exceeded with url: /1822/6caa201ca454ef0012a6097c16381a76/ling2007.pdf (Caused by SSLError(SSLEOFError(8, 'EOF occurred in violation of protocol (_ssl.c:997)')))\n",
      "Failed to download file: HTTPSConnectionPool(host='dacemirror.sci-hub.se', port=443): Max retries exceeded with url: /journal-article/c4a6f4569ea51f98f7d5f5518669faba/duke2005.pdf (Caused by SSLError(SSLEOFError(8, 'EOF occurred in violation of protocol (_ssl.c:997)')))\n",
      "Failed to download file: HTTPSConnectionPool(host='zero.sci-hub.se', port=443): Max retries exceeded with url: /1351/18551c4cadd640f707d139b424307c71/seow2006.pdf (Caused by SSLError(SSLEOFError(8, 'EOF occurred in violation of protocol (_ssl.c:997)')))\n",
      "Failed to download file: HTTPSConnectionPool(host='zero.sci-hub.se', port=443): Max retries exceeded with url: /6656/702f8867d5a5c2cd40ad60cf37add57e/wang2018.pdf (Caused by SSLError(SSLEOFError(8, 'EOF occurred in violation of protocol (_ssl.c:997)')))\n",
      "Failed to download file: HTTPSConnectionPool(host='dacemirror.sci-hub.se', port=443): Max retries exceeded with url: /journal-article/05a2571190124c82f307b9fcd6f3482c/barsky1980.pdf (Caused by SSLError(SSLEOFError(8, 'EOF occurred in violation of protocol (_ssl.c:997)')))\n",
      "Failed to download file: HTTPSConnectionPool(host='dacemirror.sci-hub.se', port=443): Max retries exceeded with url: /journal-article/f940d3e3eb4675f112e82cf4c45e8bfd/kalra1998.pdf (Caused by SSLError(SSLEOFError(8, 'EOF occurred in violation of protocol (_ssl.c:997)')))\n",
      "Failed to download file: Invalid URL 'http:/downloads/2020-11-28/fd/10.1016@j.earscirev.2020.103439.pdf#navpanes=0&view=FitH': No host supplied\n",
      "Failed to download file: Invalid URL 'http:/downloads/2019-01-24//21/fowlkes2007.pdf#navpanes=0&view=FitH': No host supplied\n",
      "Failed to download file: HTTPSConnectionPool(host='zero.sci-hub.se', port=443): Max retries exceeded with url: /3630/17a5be0e272b571910d7710f7800a500/du2015.pdf (Caused by SSLError(SSLEOFError(8, 'EOF occurred in violation of protocol (_ssl.c:997)')))\n",
      "Failed to download file: HTTPSConnectionPool(host='zero.sci-hub.se', port=443): Max retries exceeded with url: /4268/70828f91234c30d7a7b183db2677e666/cheng2004.pdf (Caused by SSLError(SSLEOFError(8, 'EOF occurred in violation of protocol (_ssl.c:997)')))\n",
      "Failed to download file: HTTPSConnectionPool(host='moscow.sci-hub.se', port=443): Max retries exceeded with url: /2025/977ac8526d2c80394728c7fc8bb5b0a7/silva-pereyra2003.pdf (Caused by SSLError(SSLEOFError(8, 'EOF occurred in violation of protocol (_ssl.c:997)')))\n",
      "Failed to download file: HTTPSConnectionPool(host='zero.sci-hub.se', port=443): Max retries exceeded with url: /3741/aca8ff378f68c6acec637d9fa5470ca0/chang2000.pdf (Caused by SSLError(SSLEOFError(8, 'EOF occurred in violation of protocol (_ssl.c:997)')))\n",
      "Failed to download file: Invalid URL 'http:/downloads/2020-06-21//43/liu2020.pdf#navpanes=0&view=FitH': No host supplied\n",
      "Failed to download file: Invalid URL 'http:/downloads/2021-06-09/e1/qin2016.pdf#navpanes=0&view=FitH': No host supplied\n",
      "Failed to download file: HTTPSConnectionPool(host='moscow.sci-hub.se', port=443): Max retries exceeded with url: /3093/3506f68157edca569c3b8525a491af38/jianxinwang2011.pdf (Caused by SSLError(SSLEOFError(8, 'EOF occurred in violation of protocol (_ssl.c:997)')))\n",
      "Failed to download file: HTTPSConnectionPool(host='dacemirror.sci-hub.se', port=443): Max retries exceeded with url: /journal-article/9922bdd3a7b1ae0abe3035a32ccbdef9/toklu2000.pdf (Caused by SSLError(SSLEOFError(8, 'EOF occurred in violation of protocol (_ssl.c:997)')))\n",
      "Failed to download file: HTTPSConnectionPool(host='zero.sci-hub.se', port=443): Max retries exceeded with url: /6209/0604f5f4f93d4aa589ffc997018c2b4b/rhodin2016.pdf (Caused by SSLError(SSLEOFError(8, 'EOF occurred in violation of protocol (_ssl.c:997)')))\n",
      "Failed to download file: HTTPSConnectionPool(host='zero.sci-hub.se', port=443): Max retries exceeded with url: /2171/cf2dcdf90c49d9a179cea9d6b71e4c4e/schilling2009.pdf (Caused by SSLError(SSLEOFError(8, 'EOF occurred in violation of protocol (_ssl.c:997)')))\n",
      "Failed to download file: HTTPSConnectionPool(host='dacemirror.sci-hub.se', port=443): Max retries exceeded with url: /journal-article/362aaf7789e89a9d3df9a84626353957/lucey2011.pdf (Caused by SSLError(SSLEOFError(8, 'EOF occurred in violation of protocol (_ssl.c:997)')))\n",
      "Failed to download file: HTTPSConnectionPool(host='zero.sci-hub.se', port=443): Max retries exceeded with url: /4484/d14c89f8d927be1a8b14fd6b380282e5/guo2010.pdf (Caused by SSLError(SSLEOFError(8, 'EOF occurred in violation of protocol (_ssl.c:997)')))\n",
      "Failed to download file: HTTPSConnectionPool(host='dacemirror.sci-hub.se', port=443): Max retries exceeded with url: /journal-article/06339f6c7fb33be933010ab05e1cfca1/degoes2011.pdf (Caused by SSLError(SSLEOFError(8, 'EOF occurred in violation of protocol (_ssl.c:997)')))\n",
      "Failed to download file: HTTPSConnectionPool(host='dacemirror.sci-hub.se', port=443): Max retries exceeded with url: /journal-article/3f8b0329b00c13bffb8fc8fce6ec53fd/vaillant2014.pdf (Caused by SSLError(SSLEOFError(8, 'EOF occurred in violation of protocol (_ssl.c:997)')))\n",
      "Failed to download file: Invalid URL 'http:/downloads/2022-11-15/46/pan2021.pdf#navpanes=0&view=FitH': No host supplied\n",
      "Failed to download file: HTTPSConnectionPool(host='zero.sci-hub.se', port=443): Max retries exceeded with url: /1538/950da58a7982c565dffcf24359cda3c4/10.1007@978-0-85729-748-814.pdf (Caused by SSLError(SSLEOFError(8, 'EOF occurred in violation of protocol (_ssl.c:997)')))\n",
      "Failed to download file: Invalid URL 'http:/downloads/2020-08-23/21/ploumpis2020.pdf#navpanes=0&view=FitH': No host supplied\n",
      "Failed to download file: HTTPSConnectionPool(host='moscow.sci-hub.se', port=443): Max retries exceeded with url: /316/409ddaf9a177373f4a7bf9bb746b2e66/abdallah2010.pdf (Caused by SSLError(SSLEOFError(8, 'EOF occurred in violation of protocol (_ssl.c:997)')))\n",
      "Failed to download file: HTTPSConnectionPool(host='zero.sci-hub.se', port=443): Max retries exceeded with url: /7111/951f9aad2b6c10f2610a434ecfcf3e84/10.1109@tvcg.2018.2864499.pdf (Caused by SSLError(SSLEOFError(8, 'EOF occurred in violation of protocol (_ssl.c:997)')))\n",
      "Failed to download file: HTTPSConnectionPool(host='zero.sci-hub.se', port=443): Max retries exceeded with url: /454/12236715fd01b378d77e0fa7e0cbb0e2/papaioannou2003.pdf (Caused by SSLError(SSLEOFError(8, 'EOF occurred in violation of protocol (_ssl.c:997)')))\n",
      "Failed to download file: HTTPSConnectionPool(host='dacemirror.sci-hub.se', port=443): Max retries exceeded with url: /journal-article/64d7c3ff3f0368f2fd67269ff56dd481/do-investors-perceive-markingtomodel-as-markingtomyth-early-evid.pdf (Caused by SSLError(SSLEOFError(8, 'EOF occurred in violation of protocol (_ssl.c:997)')))\n",
      "Failed to download file: HTTPSConnectionPool(host='moscow.sci-hub.se', port=443): Max retries exceeded with url: /1813/44ec5c81066449c9e5436d10e8c9f826/songmao2001.pdf (Caused by SSLError(SSLEOFError(8, 'EOF occurred in violation of protocol (_ssl.c:997)')))\n",
      "Failed to download file: HTTPSConnectionPool(host='zero.sci-hub.se', port=443): Max retries exceeded with url: /4360/09ff95050d6688b88843e1f88498eb69/llobera2010.pdf (Caused by SSLError(SSLEOFError(8, 'EOF occurred in violation of protocol (_ssl.c:997)')))\n",
      "Failed to download file: Invalid URL 'http:/downloads/2019-03-13/77/kuznetsov2018.pdf#navpanes=0&view=FitH': No host supplied\n",
      "Failed to download file: HTTPSConnectionPool(host='dacemirror.sci-hub.se', port=443): Max retries exceeded with url: /journal-article/481512743524655fc9cc12af263b32b2/yu2016.pdf (Caused by SSLError(SSLEOFError(8, 'EOF occurred in violation of protocol (_ssl.c:997)')))\n",
      "Failed to download file: HTTPSConnectionPool(host='moscow.sci-hub.se', port=443): Max retries exceeded with url: /796/419d852e717b1988c97cd6d83619503d/morigi2007.pdf (Caused by SSLError(SSLEOFError(8, 'EOF occurred in violation of protocol (_ssl.c:997)')))\n",
      "Failed to download file: HTTPSConnectionPool(host='moscow.sci-hub.se', port=443): Max retries exceeded with url: /4530/84ca0b72ade63718a62d754242c56827/jacobs2001.pdf (Caused by SSLError(SSLEOFError(8, 'EOF occurred in violation of protocol (_ssl.c:997)')))\n",
      "Failed to download file: HTTPSConnectionPool(host='zero.sci-hub.se', port=443): Max retries exceeded with url: /448/e010ab70ceaa851ff75f87b759e8976c/kashino1999.pdf (Caused by SSLError(SSLEOFError(8, 'EOF occurred in violation of protocol (_ssl.c:997)')))\n",
      "Failed to download file: HTTPSConnectionPool(host='zero.sci-hub.se', port=443): Max retries exceeded with url: /1667/f846e5597528ebef1a2735eff15c6d9c/drew2012.pdf (Caused by SSLError(SSLEOFError(8, 'EOF occurred in violation of protocol (_ssl.c:997)')))\n",
      "Failed to download file: HTTPSConnectionPool(host='dacemirror.sci-hub.se', port=443): Max retries exceeded with url: /journal-article/d5e1858f982ad642ff0aca366c7cd1aa/wu2018.pdf (Caused by SSLError(SSLEOFError(8, 'EOF occurred in violation of protocol (_ssl.c:997)')))\n",
      "Failed to download file: HTTPSConnectionPool(host='moscow.sci-hub.se', port=443): Max retries exceeded with url: /5481/a957fbc9420b1fce3b4d3a71f0b6b1db/yan1994.pdf (Caused by SSLError(SSLEOFError(8, 'EOF occurred in violation of protocol (_ssl.c:997)')))\n",
      "Failed to download file: HTTPSConnectionPool(host='dacemirror.sci-hub.se', port=443): Max retries exceeded with url: /journal-article/79e3b05cb4e78af7ae62242d7836a632/lechevalier2007.pdf (Caused by SSLError(SSLEOFError(8, 'EOF occurred in violation of protocol (_ssl.c:997)')))\n",
      "Failed to download file: HTTPSConnectionPool(host='zero.sci-hub.se', port=443): Max retries exceeded with url: /3591/21e2a95d55f19e1d7f091baa01169887/prusinkiewicz2003.pdf (Caused by SSLError(SSLEOFError(8, 'EOF occurred in violation of protocol (_ssl.c:997)')))\n",
      "Failed to download file: HTTPSConnectionPool(host='dacemirror.sci-hub.se', port=443): Max retries exceeded with url: /journal-article/8a5184236329520d75b1721a54d4bbd3/lu2016.pdf (Caused by SSLError(SSLEOFError(8, 'EOF occurred in violation of protocol (_ssl.c:997)')))\n",
      "Failed to download file: HTTPSConnectionPool(host='moscow.sci-hub.se', port=443): Max retries exceeded with url: /1816/bc91ac6092bcebec8b4eafc7388e55a0/chen2002.pdf (Caused by SSLError(SSLEOFError(8, 'EOF occurred in violation of protocol (_ssl.c:997)')))\n",
      "Failed to download file: Invalid URL 'http:/downloads/2022-11-04/34/zhu2021.pdf#navpanes=0&view=FitH': No host supplied\n",
      "Failed to download file: HTTPSConnectionPool(host='dacemirror.sci-hub.se', port=443): Max retries exceeded with url: /journal-article/83965744aa63ef0b21e9c7f9cad106bb/10.1016@j.jvcir.2010.07.001.pdf (Caused by SSLError(SSLEOFError(8, 'EOF occurred in violation of protocol (_ssl.c:997)')))\n",
      "Failed to download file: HTTPSConnectionPool(host='moscow.sci-hub.se', port=443): Max retries exceeded with url: /2758/f95d997c45401ee6b65b104caf6702f8/murtaza2014.pdf (Caused by SSLError(SSLEOFError(8, 'EOF occurred in violation of protocol (_ssl.c:997)')))\n",
      "Failed to download file: Invalid URL 'http:/downloads/2022-11-05/a981/fu2021.pdf#navpanes=0&view=FitH': No host supplied\n",
      "Failed to download file: Invalid URL 'http:/downloads/2019-01-15//82/10.1109@ACCESS.2018.2886271.pdf#navpanes=0&view=FitH': No host supplied\n",
      "Failed to download file: HTTPSConnectionPool(host='moscow.sci-hub.se', port=443): Max retries exceeded with url: /1448/02856935716c175f000bc597aebf3a5b/bremer2011.pdf (Caused by SSLError(SSLEOFError(8, 'EOF occurred in violation of protocol (_ssl.c:997)')))\n",
      "Failed to download file: HTTPSConnectionPool(host='dacemirror.sci-hub.se', port=443): Max retries exceeded with url: /journal-article/c7358ad82f0fa471ad83c7b3dfc8f0c3/ghafoorian2017.pdf (Caused by SSLError(SSLEOFError(8, 'EOF occurred in violation of protocol (_ssl.c:997)')))\n",
      "Failed to download file: ('Connection aborted.', ConnectionResetError(54, 'Connection reset by peer'))\n",
      "Failed to download file: HTTPSConnectionPool(host='zero.sci-hub.se', port=443): Max retries exceeded with url: /398/516817ff79f9b8d3d65b29369fed1841/thrun2001.pdf (Caused by SSLError(SSLEOFError(8, 'EOF occurred in violation of protocol (_ssl.c:997)')))\n",
      "Failed to download file: HTTPSConnectionPool(host='dacemirror.sci-hub.se', port=443): Max retries exceeded with url: /journal-article/f32916587c0ea80923392f92816d1e52/xin2016.pdf (Caused by SSLError(SSLEOFError(8, 'EOF occurred in violation of protocol (_ssl.c:997)')))\n",
      "Failed to download file: Invalid URL 'http:/downloads/2022-11-05/94/wambugu2021.pdf#navpanes=0&view=FitH': No host supplied\n",
      "Failed to download file: HTTPSConnectionPool(host='zero.sci-hub.se', port=443): Max retries exceeded with url: /2993/30db00fa03ae90beb9525eda30d403f2/hwang2010.pdf (Caused by SSLError(SSLEOFError(8, 'EOF occurred in violation of protocol (_ssl.c:997)')))\n",
      "Failed to download file: HTTPSConnectionPool(host='dacemirror.sci-hub.se', port=443): Max retries exceeded with url: /journal-article/587a40f30fede28300dcaacb5411315c/argudo2016.pdf (Caused by SSLError(SSLEOFError(8, 'EOF occurred in violation of protocol (_ssl.c:997)')))\n",
      "Failed to download file: Invalid URL 'http:/downloads/2021-08-12/c2/yao2021.pdf#navpanes=0&view=FitH': No host supplied\n",
      "Failed to download file: HTTPSConnectionPool(host='dacemirror.sci-hub.se', port=443): Max retries exceeded with url: /journal-article/4f88ff004fccf00860194d4ffab3eb65/jiang2016.pdf (Caused by SSLError(SSLEOFError(8, 'EOF occurred in violation of protocol (_ssl.c:997)')))\n",
      "Failed to download file: HTTPSConnectionPool(host='zero.sci-hub.se', port=443): Max retries exceeded with url: /4458/dac2e5a4dc9b74ac9e37691d61edbd50/carter2008.pdf (Caused by SSLError(SSLEOFError(8, 'EOF occurred in violation of protocol (_ssl.c:997)')))\n",
      "Failed to download file: HTTPSConnectionPool(host='dacemirror.sci-hub.se', port=443): Max retries exceeded with url: /journal-article/1bf9b7444f28e5fd29344224620a845e/fennema-notestine2006.pdf (Caused by SSLError(SSLEOFError(8, 'EOF occurred in violation of protocol (_ssl.c:997)')))\n",
      "Failed to download file: HTTPSConnectionPool(host='zero.sci-hub.se', port=443): Max retries exceeded with url: /1539/c6c1395c34d7c0c5ce6ccd35174288ac/pele2010.pdf (Caused by SSLError(SSLEOFError(8, 'EOF occurred in violation of protocol (_ssl.c:997)')))\n",
      "Failed to download file: HTTPSConnectionPool(host='dacemirror.sci-hub.se', port=443): Max retries exceeded with url: /journal-article/89e7c3fca200cf8f58ebc65d71751d9f/umetani2016.pdf (Caused by SSLError(SSLEOFError(8, 'EOF occurred in violation of protocol (_ssl.c:997)')))\n",
      "Failed to download file: HTTPSConnectionPool(host='dacemirror.sci-hub.se', port=443): Max retries exceeded with url: /journal-article/d11d16564875418a883c2ec6a87eea33/borchartt2013.pdf (Caused by SSLError(SSLEOFError(8, 'EOF occurred in violation of protocol (_ssl.c:997)')))\n",
      "Failed to download file: HTTPSConnectionPool(host='moscow.sci-hub.se', port=443): Max retries exceeded with url: /2188/0698c442621d57fc74b9cb8040471412/ando2013.pdf (Caused by SSLError(SSLEOFError(8, 'EOF occurred in violation of protocol (_ssl.c:997)')))\n",
      "Failed to download file: HTTPSConnectionPool(host='dacemirror.sci-hub.se', port=443): Max retries exceeded with url: /journal-article/12b2878ac0edbd49e081ab8a31d94bab/bresenham1977.pdf (Caused by SSLError(SSLEOFError(8, 'EOF occurred in violation of protocol (_ssl.c:997)')))\n",
      "Failed to download file: HTTPSConnectionPool(host='moscow.sci-hub.se', port=443): Max retries exceeded with url: /1448/da94acf4686a32f6dbbdbeee293a6c2e/beylot1996.pdf (Caused by SSLError(SSLEOFError(8, 'EOF occurred in violation of protocol (_ssl.c:997)')))\n",
      "Failed to download file: HTTPSConnectionPool(host='dacemirror.sci-hub.se', port=443): Max retries exceeded with url: /journal-article/64d7c3ff3f0368f2fd67269ff56dd481/do-investors-perceive-markingtomodel-as-markingtomyth-early-evid.pdf (Caused by SSLError(SSLEOFError(8, 'EOF occurred in violation of protocol (_ssl.c:997)')))\n",
      "Failed to download file: HTTPSConnectionPool(host='dacemirror.sci-hub.se', port=443): Max retries exceeded with url: /journal-article/9fd424bcd456d9e2fa92e755225a5371/gu2004.pdf (Caused by SSLError(SSLEOFError(8, 'EOF occurred in violation of protocol (_ssl.c:997)')))\n",
      "Failed to download file: HTTPSConnectionPool(host='moscow.sci-hub.se', port=443): Max retries exceeded with url: /337/8cb62df1c3ac48e69a7f78ed6d8b057c/zhou2008.pdf (Caused by SSLError(SSLEOFError(8, 'EOF occurred in violation of protocol (_ssl.c:997)')))\n",
      "Failed to download file: Invalid URL 'http:/downloads/2020-07-06/0f/ivorra-piqueres2019.pdf#navpanes=0&view=FitH': No host supplied\n",
      "Failed to download file: Invalid URL 'http:/downloads/2020-12-09/e7/jiang2020.pdf#navpanes=0&view=FitH': No host supplied\n",
      "Failed to download file: HTTPSConnectionPool(host='dacemirror.sci-hub.se', port=443): Max retries exceeded with url: /journal-article/fba359ddfe93353ef4c69d4fad5a931d/vasquez2011.pdf (Caused by SSLError(SSLEOFError(8, 'EOF occurred in violation of protocol (_ssl.c:997)')))\n",
      "Failed to download file: HTTPSConnectionPool(host='moscow.sci-hub.se', port=443): Max retries exceeded with url: /4/790b00bc719a31fc1c1457f96c343ff8/cirak2000.pdf (Caused by SSLError(SSLEOFError(8, 'EOF occurred in violation of protocol (_ssl.c:997)')))\n",
      "Failed to download file: HTTPSConnectionPool(host='zero.sci-hub.se', port=443): Max retries exceeded with url: /6098/3a18058da98cac531f7825b56320ae84/shao2016.pdf (Caused by SSLError(SSLEOFError(8, 'EOF occurred in violation of protocol (_ssl.c:997)')))\n",
      "Failed to download file: HTTPSConnectionPool(host='zero.sci-hub.se', port=443): Max retries exceeded with url: /1675/d1073b80c82132a2aa277047a0001af1/nagano2005.pdf (Caused by SSLError(SSLEOFError(8, 'EOF occurred in violation of protocol (_ssl.c:997)')))\n",
      "Failed to download file: HTTPSConnectionPool(host='zero.sci-hub.se', port=443): Max retries exceeded with url: /4356/f0c28c671aeed36dedb141b21d9d9667/heide2013.pdf (Caused by SSLError(SSLEOFError(8, 'EOF occurred in violation of protocol (_ssl.c:997)')))\n",
      "Failed to download file: HTTPSConnectionPool(host='dacemirror.sci-hub.se', port=443): Max retries exceeded with url: /journal-article/f19fa5c199e90a73f1f57c3a4af00629/georgiev2012.pdf (Caused by SSLError(SSLEOFError(8, 'EOF occurred in violation of protocol (_ssl.c:997)')))\n",
      "Failed to download file: Invalid URL 'http:/downloads/2020-08-26/ed/yang2020.pdf#navpanes=0&view=FitH': No host supplied\n",
      "Failed to download file: Invalid URL 'http:/downloads/2021-08-12/74/alzubaidi2021.pdf#navpanes=0&view=FitH': No host supplied\n",
      "Failed to download file: HTTPSConnectionPool(host='moscow.sci-hub.se', port=443): Max retries exceeded with url: /743/d5e3c8a3df9fd178d69a44c39b451e5b/velho1999.pdf (Caused by SSLError(SSLEOFError(8, 'EOF occurred in violation of protocol (_ssl.c:997)')))\n",
      "Failed to download file: HTTPSConnectionPool(host='moscow.sci-hub.se', port=443): Max retries exceeded with url: /2277/2b206fe2b8bdca613b2381e4f3b21d57/liang2001.pdf (Caused by SSLError(SSLEOFError(8, 'EOF occurred in violation of protocol (_ssl.c:997)')))\n",
      "Failed to download file: Invalid URL 'http:/tree/51/37/51370e62b4ffdca5d1b5c487f0b141b4.pdf#navpanes=0&view=FitH': No host supplied\n",
      "Failed to download file: Invalid URL 'http:/downloads/2020-10-08/f0/rezaie2020.pdf#navpanes=0&view=FitH': No host supplied\n",
      "Failed to download file: HTTPSConnectionPool(host='dacemirror.sci-hub.se', port=443): Max retries exceeded with url: /journal-article/9bd5a86032b9f24acb31455cba98f0aa/adams2009.pdf (Caused by SSLError(SSLEOFError(8, 'EOF occurred in violation of protocol (_ssl.c:997)')))\n",
      "Failed to download file: HTTPSConnectionPool(host='dacemirror.sci-hub.se', port=443): Max retries exceeded with url: /journal-article/d5fa69ed0e9a3cd2b0a98cf78a78da5f/cruz-roa2017.pdf (Caused by SSLError(SSLEOFError(8, 'EOF occurred in violation of protocol (_ssl.c:997)')))\n",
      "Failed to download file: HTTPSConnectionPool(host='zero.sci-hub.se', port=443): Max retries exceeded with url: /743/4c97e9ffc38b480eea7d0414f78523b0/agathos2010.pdf (Caused by SSLError(SSLEOFError(8, 'EOF occurred in violation of protocol (_ssl.c:997)')))\n",
      "Failed to download file: HTTPSConnectionPool(host='dacemirror.sci-hub.se', port=443): Max retries exceeded with url: /journal-article/e8fdb3fb18cae84fe5be54e32fc82c5c/su2011.pdf (Caused by SSLError(SSLEOFError(8, 'EOF occurred in violation of protocol (_ssl.c:997)')))\n",
      "Failed to download file: HTTPSConnectionPool(host='moscow.sci-hub.se', port=443): Max retries exceeded with url: /4506/26b3f5fbd7ed49e653e6d4e7d41a6677/pan2014.pdf (Caused by SSLError(SSLEOFError(8, 'EOF occurred in violation of protocol (_ssl.c:997)')))\n",
      "Failed to download file: HTTPSConnectionPool(host='zero.sci-hub.se', port=443): Max retries exceeded with url: /942/59336ad404c16205272fb7b20a4b48fb/campen2010.pdf (Caused by SSLError(SSLEOFError(8, 'EOF occurred in violation of protocol (_ssl.c:997)')))\n",
      "Failed to download file: HTTPSConnectionPool(host='dacemirror.sci-hub.se', port=443): Max retries exceeded with url: /journal-article/87b3aee72a0b2958e809e5b899b36ce7/defloriani1984.pdf (Caused by SSLError(SSLEOFError(8, 'EOF occurred in violation of protocol (_ssl.c:997)')))\n",
      "Failed to download file: HTTPSConnectionPool(host='zero.sci-hub.se', port=443): Max retries exceeded with url: /2138/ab49a632f54e37895715d1bf24aa65b8/sugiyama1991.pdf (Caused by SSLError(SSLEOFError(8, 'EOF occurred in violation of protocol (_ssl.c:997)')))\n",
      "Failed to download file: HTTPSConnectionPool(host='moscow.sci-hub.se', port=443): Max retries exceeded with url: /1814/fbabaeb90cd7891ab5fb30f6346738f6/han1998.pdf (Caused by SSLError(SSLEOFError(8, 'EOF occurred in violation of protocol (_ssl.c:997)')))\n",
      "Failed to download file: HTTPSConnectionPool(host='zero.sci-hub.se', port=443): Max retries exceeded with url: /4886/33cd46de4cab6d8fe4dc16699cb566ed/chai2015.pdf (Caused by SSLError(SSLEOFError(8, 'EOF occurred in violation of protocol (_ssl.c:997)')))\n",
      "Failed to download file: HTTPSConnectionPool(host='moscow.sci-hub.se', port=443): Max retries exceeded with url: /942/b127d9bfe7bceee9d787f3bdda2a7ed3/lagae2010.pdf (Caused by SSLError(SSLEOFError(8, 'EOF occurred in violation of protocol (_ssl.c:997)')))\n",
      "Failed to download file: HTTPSConnectionPool(host='zero.sci-hub.se', port=443): Max retries exceeded with url: /5692/2d9130b6111e58c48803df60049725dc/livesu2015.pdf (Caused by SSLError(SSLEOFError(8, 'EOF occurred in violation of protocol (_ssl.c:997)')))\n",
      "Failed to download file: HTTPSConnectionPool(host='dacemirror.sci-hub.se', port=443): Max retries exceeded with url: /journal-article/b4006caa309a4d0e5b6feeb309a7a9a5/bulling2010.pdf (Caused by SSLError(SSLEOFError(8, 'EOF occurred in violation of protocol (_ssl.c:997)')))\n",
      "Failed to download file: HTTPSConnectionPool(host='moscow.sci-hub.se', port=443): Max retries exceeded with url: /1176/a5f8e4f0694f3d2bb73d4768b9029e55/chiba1994.pdf (Caused by SSLError(SSLEOFError(8, 'EOF occurred in violation of protocol (_ssl.c:997)')))\n",
      "Failed to download file: HTTPSConnectionPool(host='moscow.sci-hub.se', port=443): Max retries exceeded with url: /4021/f18426f23dc63c9315df984a61d97eb0/oliveira2011.pdf (Caused by SSLError(SSLEOFError(8, 'EOF occurred in violation of protocol (_ssl.c:997)')))\n",
      "Failed to download file: HTTPSConnectionPool(host='moscow.sci-hub.se', port=443): Max retries exceeded with url: /942/ad90405e37e9df6634e340d56756559f/didyk2010.pdf (Caused by SSLError(SSLEOFError(8, 'EOF occurred in violation of protocol (_ssl.c:997)')))\n",
      "Failed to download file: Invalid URL 'http:/downloads/2020-01-20/1e83/liu2019.pdf#navpanes=0&view=FitH': No host supplied\n",
      "Failed to download file: HTTPSConnectionPool(host='zero.sci-hub.se', port=443): Max retries exceeded with url: /6059/2300a3279fe116e7450a0208a5e4305a/roth2015.pdf (Caused by SSLError(SSLEOFError(8, 'EOF occurred in violation of protocol (_ssl.c:997)')))\n",
      "Failed to download file: HTTPSConnectionPool(host='dacemirror.sci-hub.se', port=443): Max retries exceeded with url: /journal-article/2332636454ff47e3aef2774de5e473ea/alatan2007.pdf (Caused by SSLError(SSLEOFError(8, 'EOF occurred in violation of protocol (_ssl.c:997)')))\n",
      "Failed to download file: HTTPSConnectionPool(host='dacemirror.sci-hub.se', port=443): Max retries exceeded with url: /journal-article/e29fb2c72a429157aa77b358ecca1738/zhang2015.pdf (Caused by SSLError(SSLEOFError(8, 'EOF occurred in violation of protocol (_ssl.c:997)')))\n",
      "Failed to download file: HTTPSConnectionPool(host='moscow.sci-hub.se', port=443): Max retries exceeded with url: /2260/1ab78056585df3a0fc40497d44a1a31e/keli2005.pdf (Caused by SSLError(SSLEOFError(8, 'EOF occurred in violation of protocol (_ssl.c:997)')))\n",
      "Failed to download file: HTTPSConnectionPool(host='dacemirror.sci-hub.se', port=443): Max retries exceeded with url: /journal-article/101b6961364289c36aa69f30f0921d6a/soon2011.pdf (Caused by SSLError(SSLEOFError(8, 'EOF occurred in violation of protocol (_ssl.c:997)')))\n",
      "Failed to download file: HTTPSConnectionPool(host='zero.sci-hub.se', port=443): Max retries exceeded with url: /795/69fb9077ac8ef1e6f3976954c0a7763c/fisette2005.pdf (Caused by SSLError(SSLEOFError(8, 'EOF occurred in violation of protocol (_ssl.c:997)')))\n",
      "Failed to download file: Invalid URL 'http:/downloads/2020-07-03/3c/10.1109@LRA.2020.3004794.pdf#navpanes=0&view=FitH': No host supplied\n",
      "Failed to download file: HTTPSConnectionPool(host='dacemirror.sci-hub.se', port=443): Max retries exceeded with url: /journal-article/1f75d80dfbb9cdb323055716ad04c409/yasseen2013.pdf (Caused by SSLError(SSLEOFError(8, 'EOF occurred in violation of protocol (_ssl.c:997)')))\n",
      "Failed to download file: HTTPSConnectionPool(host='dacemirror.sci-hub.se', port=443): Max retries exceeded with url: /journal-article/dab96289880a6340b2b0e9eba1f20dff/kuai2018.pdf (Caused by SSLError(SSLEOFError(8, 'EOF occurred in violation of protocol (_ssl.c:997)')))\n",
      "Failed to download file: HTTPSConnectionPool(host='zero.sci-hub.se', port=443): Max retries exceeded with url: /445/e6aa6ecf470f14fd80e8c00ff5db1d56/caballero1997.pdf (Caused by SSLError(SSLEOFError(8, 'EOF occurred in violation of protocol (_ssl.c:997)')))\n",
      "Failed to download file: HTTPSConnectionPool(host='dacemirror.sci-hub.se', port=443): Max retries exceeded with url: /journal-article/06c5991966a5b499ee5cd7ff7e9890f8/sharma2015.pdf (Caused by SSLError(SSLEOFError(8, 'EOF occurred in violation of protocol (_ssl.c:997)')))\n",
      "Failed to download file: HTTPSConnectionPool(host='moscow.sci-hub.se', port=443): Max retries exceeded with url: /2156/7a9f881e7f82455b68842a3732906976/fickel2013.pdf (Caused by SSLError(SSLEOFError(8, 'EOF occurred in violation of protocol (_ssl.c:997)')))\n",
      "Failed to download file: HTTPSConnectionPool(host='moscow.sci-hub.se', port=443): Max retries exceeded with url: /1415/329b5db758a9e965cf2519b5fc7814a4/hart1999.pdf (Caused by SSLError(SSLEOFError(8, 'EOF occurred in violation of protocol (_ssl.c:997)')))\n",
      "Failed to download file: HTTPSConnectionPool(host='dacemirror.sci-hub.se', port=443): Max retries exceeded with url: /journal-article/1a8106790943ff31e09ec207b59eb779/keefe2012.pdf (Caused by SSLError(SSLEOFError(8, 'EOF occurred in violation of protocol (_ssl.c:997)')))\n",
      "Failed to download file: HTTPSConnectionPool(host='zero.sci-hub.se', port=443): Max retries exceeded with url: /2318/78d9a4df6dd2551e0560bc29631224bb/vieira2012.pdf (Caused by SSLError(SSLEOFError(8, 'EOF occurred in violation of protocol (_ssl.c:997)')))\n",
      "Failed to download file: HTTPSConnectionPool(host='dacemirror.sci-hub.se', port=443): Max retries exceeded with url: /journal-article/c2c84c5523049d9f4e732eb32d4f80f9/daaelampe2007.pdf (Caused by SSLError(SSLEOFError(8, 'EOF occurred in violation of protocol (_ssl.c:997)')))\n",
      "Failed to download file: Invalid URL 'http:/downloads/2019-07-29/44/10.5194@acp-19-8897-2019.pdf#navpanes=0&view=FitH': No host supplied\n",
      "Failed to download file: HTTPSConnectionPool(host='dacemirror.sci-hub.se', port=443): Max retries exceeded with url: /journal-article/f8f2d0b2e3f1226c53f4618d067dbc76/szeliski1996.pdf (Caused by SSLError(SSLEOFError(8, 'EOF occurred in violation of protocol (_ssl.c:997)')))\n",
      "Failed to download file: HTTPSConnectionPool(host='moscow.sci-hub.se', port=443): Max retries exceeded with url: /3212/56b3cd4690084cbe7458a23a91e0923d/xu2013.pdf (Caused by SSLError(SSLEOFError(8, 'EOF occurred in violation of protocol (_ssl.c:997)')))\n",
      "Failed to download file: HTTPSConnectionPool(host='zero.sci-hub.se', port=443): Max retries exceeded with url: /2459/5b9f52fbce4b9633f8274c494956cba2/shah2007.pdf (Caused by SSLError(SSLEOFError(8, 'EOF occurred in violation of protocol (_ssl.c:997)')))\n",
      "Failed to download file: HTTPSConnectionPool(host='moscow.sci-hub.se', port=443): Max retries exceeded with url: /1142/eeb8404c448a6869b9939e5ee64d236b/vayanos2011.pdf (Caused by SSLError(SSLEOFError(8, 'EOF occurred in violation of protocol (_ssl.c:997)')))\n",
      "Failed to download file: Invalid URL 'http:/tree/4d/6a/4d6a46d6f19432b47b5425088db55229.pdf#navpanes=0&view=FitH': No host supplied\n",
      "Failed to download file: HTTPSConnectionPool(host='moscow.sci-hub.se', port=443): Max retries exceeded with url: /187/72fba27b22df27da1221f606290b717b/enright2002.pdf (Caused by SSLError(SSLEOFError(8, 'EOF occurred in violation of protocol (_ssl.c:997)')))\n",
      "Failed to download file: HTTPSConnectionPool(host='dacemirror.sci-hub.se', port=443): Max retries exceeded with url: /journal-article/0b833bef397d5c4011277f0c4d367fcc/eisenacher2013.pdf (Caused by SSLError(SSLEOFError(8, 'EOF occurred in violation of protocol (_ssl.c:997)')))\n",
      "Failed to download file: HTTPSConnectionPool(host='zero.sci-hub.se', port=443): Max retries exceeded with url: /7010/9fb7785d51f1633ca2521a6b69256423/abbas2018.pdf (Caused by SSLError(SSLEOFError(8, 'EOF occurred in violation of protocol (_ssl.c:997)')))\n",
      "Failed to download file: HTTPSConnectionPool(host='zero.sci-hub.se', port=443): Max retries exceeded with url: /6486/7ac61aa6d95248ec0db72a0975f1bc23/functional-equations-and-differential-equations-2005.pdf (Caused by SSLError(SSLEOFError(8, 'EOF occurred in violation of protocol (_ssl.c:997)')))\n",
      "Failed to download file: Invalid URL 'http:/downloads/2019-02-23/be/10.1007@s11263-019-01158-4.pdf#navpanes=0&view=FitH': No host supplied\n",
      "Failed to download file: HTTPSConnectionPool(host='zero.sci-hub.se', port=443): Max retries exceeded with url: /5831/a89625ba6b989e0a67d01cb900b62def/kemelmacher-shlizerman2016.pdf (Caused by SSLError(SSLEOFError(8, 'EOF occurred in violation of protocol (_ssl.c:997)')))\n",
      "Failed to download file: HTTPSConnectionPool(host='dacemirror.sci-hub.se', port=443): Max retries exceeded with url: /journal-article/1bcacff7f6ff96428bad850b7c97c4fa/sixteenth-volume-1977.pdf (Caused by SSLError(SSLEOFError(8, 'EOF occurred in violation of protocol (_ssl.c:997)')))\n",
      "Failed to download file: HTTPSConnectionPool(host='dacemirror.sci-hub.se', port=443): Max retries exceeded with url: /journal-article/3009080b95e3a03ebd77f76d2e26e745/urschler2014.pdf (Caused by SSLError(SSLEOFError(8, 'EOF occurred in violation of protocol (_ssl.c:997)')))\n",
      "Failed to download file: HTTPSConnectionPool(host='moscow.sci-hub.se', port=443): Max retries exceeded with url: /316/0f4b99c918680bf3fe1637cb94e721e9/duan2010.pdf (Caused by SSLError(SSLEOFError(8, 'EOF occurred in violation of protocol (_ssl.c:997)')))\n",
      "Failed to download file: HTTPSConnectionPool(host='zero.sci-hub.se', port=443): Max retries exceeded with url: /2640/e7778690cc06a84307e2729346d27f0d/rao2010.pdf (Caused by SSLError(SSLEOFError(8, 'EOF occurred in violation of protocol (_ssl.c:997)')))\n",
      "Failed to download file: Invalid URL 'http:/downloads/2019-10-24/1c/10.1109@JIOT.2019.2948888.pdf#navpanes=0&view=FitH': No host supplied\n",
      "Failed to download file: HTTPSConnectionPool(host='dacemirror.sci-hub.se', port=443): Max retries exceeded with url: /journal-article/892068d30368d86fb9ebc0c9d670e9a4/sacha2017.pdf (Caused by SSLError(SSLEOFError(8, 'EOF occurred in violation of protocol (_ssl.c:997)')))\n",
      "Failed to download file: HTTPSConnectionPool(host='dacemirror.sci-hub.se', port=443): Max retries exceeded with url: /journal-article/fbee7ec1d9c4ee3e743bfe6441dc2f43/chen1999.pdf (Caused by SSLError(SSLEOFError(8, 'EOF occurred in violation of protocol (_ssl.c:997)')))\n",
      "Failed to download file: HTTPSConnectionPool(host='moscow.sci-hub.se', port=443): Max retries exceeded with url: /1812/64dcd514e089448da337a5548eebec5a/cani-gascuel1997.pdf (Caused by SSLError(SSLEOFError(8, 'EOF occurred in violation of protocol (_ssl.c:997)')))\n",
      "Failed to download file: Invalid URL 'http:/downloads/2019-03-20/30/10.1109@TIP.2019.2895466.pdf#navpanes=0&view=FitH': No host supplied\n",
      "Failed to download file: Invalid URL 'http:/downloads/2019-10-22/36/wang2019.pdf#navpanes=0&view=FitH': No host supplied\n",
      "Failed to download file: HTTPSConnectionPool(host='zero.sci-hub.se', port=443): Max retries exceeded with url: /6599/2a444ac3f5ab6b768ca1cb6d13513be7/stava2014.pdf (Caused by SSLError(SSLEOFError(8, 'EOF occurred in violation of protocol (_ssl.c:997)')))\n",
      "Failed to download file: HTTPSConnectionPool(host='moscow.sci-hub.se', port=443): Max retries exceeded with url: /4924/a540c1df4e2189e2dc0b8c90010f383b/hou2016.pdf (Caused by SSLError(SSLEOFError(8, 'EOF occurred in violation of protocol (_ssl.c:997)')))\n",
      "Failed to download file: HTTPSConnectionPool(host='dacemirror.sci-hub.se', port=443): Max retries exceeded with url: /journal-article/8a3bad5a9a1c2d4ab3bb34285cc49c41/shah2008.pdf (Caused by SSLError(SSLEOFError(8, 'EOF occurred in violation of protocol (_ssl.c:997)')))\n",
      "Failed to download file: HTTPSConnectionPool(host='moscow.sci-hub.se', port=443): Max retries exceeded with url: /4457/7fc929bde97b8620d601efc1cf9a2332/rezazadegantavakoli2011.pdf (Caused by SSLError(SSLEOFError(8, 'EOF occurred in violation of protocol (_ssl.c:997)')))\n",
      "Failed to download file: Invalid URL 'http:/downloads/2019-01-22//85/morris2012.pdf#navpanes=0&view=FitH': No host supplied\n",
      "Failed to download file: HTTPSConnectionPool(host='zero.sci-hub.se', port=443): Max retries exceeded with url: /1823/fff2a970d9b1f7a10fc4aecd66341cd6/dietrich2009.pdf (Caused by SSLError(SSLEOFError(8, 'EOF occurred in violation of protocol (_ssl.c:997)')))\n",
      "Failed to download file: HTTPSConnectionPool(host='dacemirror.sci-hub.se', port=443): Max retries exceeded with url: /journal-article/c1d493af78d11dd162b01bcf44725ecd/10.1016@0167-83968890002-7.pdf (Caused by SSLError(SSLEOFError(8, 'EOF occurred in violation of protocol (_ssl.c:997)')))\n",
      "Failed to download file: HTTPSConnectionPool(host='moscow.sci-hub.se', port=443): Max retries exceeded with url: /505/ef4c391e0e0366b464759ebf6a3f928f/hendrey1999.pdf (Caused by SSLError(SSLEOFError(8, 'EOF occurred in violation of protocol (_ssl.c:997)')))\n",
      "Failed to download file: HTTPSConnectionPool(host='dacemirror.sci-hub.se', port=443): Max retries exceeded with url: /journal-article/bce9924e2a92852744d238c9b3766dcf/chazelle1997.pdf (Caused by SSLError(SSLEOFError(8, 'EOF occurred in violation of protocol (_ssl.c:997)')))\n",
      "Failed to download file: HTTPSConnectionPool(host='dacemirror.sci-hub.se', port=443): Max retries exceeded with url: /journal-article/593fecaa331b64114430477ef61ce012/sanchez-vives2010.pdf (Caused by SSLError(SSLEOFError(8, 'EOF occurred in violation of protocol (_ssl.c:997)')))\n",
      "Failed to download file: HTTPSConnectionPool(host='zero.sci-hub.se', port=443): Max retries exceeded with url: /4247/c6b06f3930212aa6119218ef5867ddfc/johnson2004.pdf (Caused by SSLError(SSLEOFError(8, 'EOF occurred in violation of protocol (_ssl.c:997)')))\n",
      "Failed to download file: HTTPSConnectionPool(host='dacemirror.sci-hub.se', port=443): Max retries exceeded with url: /journal-article/d32c593bd5044630e7de4cdf988df4ad/prabhakar2002.pdf (Caused by SSLError(SSLEOFError(8, 'EOF occurred in violation of protocol (_ssl.c:997)')))\n",
      "Failed to download file: HTTPSConnectionPool(host='dacemirror.sci-hub.se', port=443): Max retries exceeded with url: /journal-article/bf2fa2ab4b88cbe50c5bd4297b507c91/badal2006.pdf (Caused by SSLError(SSLEOFError(8, 'EOF occurred in violation of protocol (_ssl.c:997)')))\n",
      "Failed to download file: HTTPSConnectionPool(host='dacemirror.sci-hub.se', port=443): Max retries exceeded with url: /journal-article/4521c5db7c998cb144a3cba2b2da8b35/chen2014.pdf (Caused by SSLError(SSLEOFError(8, 'EOF occurred in violation of protocol (_ssl.c:997)')))\n",
      "Failed to download file: HTTPSConnectionPool(host='dacemirror.sci-hub.se', port=443): Max retries exceeded with url: /journal-article/54e3515f071083a1ec4d5e588d60278a/li2007.pdf (Caused by SSLError(SSLEOFError(8, 'EOF occurred in violation of protocol (_ssl.c:997)')))\n",
      "Failed to download file: HTTPSConnectionPool(host='dacemirror.sci-hub.se', port=443): Max retries exceeded with url: /journal-article/f5237b7730025c1dc324774c5c285df3/a-genomewide-search-for-genes-involved-in-host-susceptibility-to-1998.pdf (Caused by SSLError(SSLEOFError(8, 'EOF occurred in violation of protocol (_ssl.c:997)')))\n",
      "Failed to download file: HTTPSConnectionPool(host='dacemirror.sci-hub.se', port=443): Max retries exceeded with url: /journal-article/6b2931aceb3e3b320602406bb1c6071a/uyttendaele2004.pdf (Caused by SSLError(SSLEOFError(8, 'EOF occurred in violation of protocol (_ssl.c:997)')))\n",
      "Failed to download file: HTTPSConnectionPool(host='zero.sci-hub.se', port=443): Max retries exceeded with url: /2064/98e29e3ee68e2ddc5f53bf8a322d2654/rao2012.pdf (Caused by SSLError(SSLEOFError(8, 'EOF occurred in violation of protocol (_ssl.c:997)')))\n",
      "Failed to download file: HTTPSConnectionPool(host='moscow.sci-hub.se', port=443): Max retries exceeded with url: /665/5bcf4f7ce133f733bebc6ae316580ea6/hinrichs1985.pdf (Caused by SSLError(SSLEOFError(8, 'EOF occurred in violation of protocol (_ssl.c:997)')))\n",
      "Failed to download file: HTTPSConnectionPool(host='zero.sci-hub.se', port=443): Max retries exceeded with url: /5561/9afdc153838220ac7745151fc1fa2ffb/kaspar2015.pdf (Caused by SSLError(SSLEOFError(8, 'EOF occurred in violation of protocol (_ssl.c:997)')))\n",
      "Failed to download file: HTTPSConnectionPool(host='dacemirror.sci-hub.se', port=443): Max retries exceeded with url: /journal-article/727809d04057203bca64d33ebf983dd5/kim2015.pdf (Caused by SSLError(SSLEOFError(8, 'EOF occurred in violation of protocol (_ssl.c:997)')))\n",
      "Failed to download file: HTTPSConnectionPool(host='dacemirror.sci-hub.se', port=443): Max retries exceeded with url: /journal-article/5d05e18e5ba2b2a28e7621638d16685c/ghorbani2010.pdf (Caused by SSLError(SSLEOFError(8, 'EOF occurred in violation of protocol (_ssl.c:997)')))\n",
      "Failed to download file: HTTPSConnectionPool(host='zero.sci-hub.se', port=443): Max retries exceeded with url: /4550/5dc1620f3e6480d0c1ae53ba4fa4e846/komodakis2015.pdf (Caused by SSLError(SSLEOFError(8, 'EOF occurred in violation of protocol (_ssl.c:997)')))\n",
      "Failed to download file: HTTPSConnectionPool(host='dacemirror.sci-hub.se', port=443): Max retries exceeded with url: /journal-article/ad091e47ec3ce4cb3c15335bc4df5fde/10.1016@j.patrec.2014.08.012.pdf (Caused by SSLError(SSLEOFError(8, 'EOF occurred in violation of protocol (_ssl.c:997)')))\n",
      "Failed to download file: HTTPSConnectionPool(host='dacemirror.sci-hub.se', port=443): Max retries exceeded with url: /journal-article/f9cd0df5426111b33248b635261f44e6/vanoosterhout2004.pdf (Caused by SSLError(SSLEOFError(8, 'EOF occurred in violation of protocol (_ssl.c:997)')))\n",
      "Failed to download file: HTTPSConnectionPool(host='moscow.sci-hub.se', port=443): Max retries exceeded with url: /3755/254bd8f29666cf0dbf16b2a30a831ed5/liu2011.pdf (Caused by SSLError(SSLEOFError(8, 'EOF occurred in violation of protocol (_ssl.c:997)')))\n",
      "Failed to download file: HTTPSConnectionPool(host='dacemirror.sci-hub.se', port=443): Max retries exceeded with url: /journal-article/f8001f4926625b2b196f0989f892664f/weiminghu2012.pdf (Caused by SSLError(SSLEOFError(8, 'EOF occurred in violation of protocol (_ssl.c:997)')))\n",
      "Failed to download file: HTTPSConnectionPool(host='zero.sci-hub.se', port=443): Max retries exceeded with url: /6872/8ef5eecdb875df25f41c846fb1be4d86/guo2018.pdf (Caused by SSLError(SSLEOFError(8, 'EOF occurred in violation of protocol (_ssl.c:997)')))\n",
      "Failed to download file: HTTPSConnectionPool(host='moscow.sci-hub.se', port=443): Max retries exceeded with url: /1064/5e828dc51e7b00802e781a2395b1530a/barr2003.pdf (Caused by SSLError(SSLEOFError(8, 'EOF occurred in violation of protocol (_ssl.c:997)')))\n",
      "Failed to download file: HTTPSConnectionPool(host='dacemirror.sci-hub.se', port=443): Max retries exceeded with url: /journal-article/0ea94079884f4259c57ce128c3d27d5c/tan2014.pdf (Caused by SSLError(SSLEOFError(8, 'EOF occurred in violation of protocol (_ssl.c:997)')))\n",
      "Failed to download file: HTTPSConnectionPool(host='zero.sci-hub.se', port=443): Max retries exceeded with url: /7110/3fdf9d7f4ba01bcbd773890990a156ba/insafutdinov2016.pdf (Caused by SSLError(SSLEOFError(8, 'EOF occurred in violation of protocol (_ssl.c:997)')))\n",
      "Failed to download file: HTTPSConnectionPool(host='moscow.sci-hub.se', port=443): Max retries exceeded with url: /743/d7ea4cbdcda3913bb37ba40ad04935af/li2003.pdf (Caused by SSLError(SSLEOFError(8, 'EOF occurred in violation of protocol (_ssl.c:997)')))\n",
      "Failed to download file: HTTPSConnectionPool(host='dacemirror.sci-hub.se', port=443): Max retries exceeded with url: /proceedings-article/1234847c652d44f5591b2c0e6b3cc6f4/cutler2007.pdf (Caused by SSLError(SSLEOFError(8, 'EOF occurred in violation of protocol (_ssl.c:997)')))\n",
      "Failed to download file: HTTPSConnectionPool(host='moscow.sci-hub.se', port=443): Max retries exceeded with url: /345/8d027e6f07a804f5bcbac04ff5bf9efd/10.1016@j.compbiomed.2005.11.002.pdf (Caused by SSLError(SSLEOFError(8, 'EOF occurred in violation of protocol (_ssl.c:997)')))\n",
      "Failed to download file: HTTPSConnectionPool(host='dacemirror.sci-hub.se', port=443): Max retries exceeded with url: /journal-article/b054b3856747b2cb8c8a06461577e5bf/10.1145@2077341.2077350.pdf (Caused by SSLError(SSLEOFError(8, 'EOF occurred in violation of protocol (_ssl.c:997)')))\n",
      "Failed to download file: HTTPSConnectionPool(host='dacemirror.sci-hub.se', port=443): Max retries exceeded with url: /journal-article/09fcb74eb9dc7a9967a64219b185ab54/murase1996.pdf (Caused by SSLError(SSLEOFError(8, 'EOF occurred in violation of protocol (_ssl.c:997)')))\n",
      "Failed to download file: HTTPSConnectionPool(host='zero.sci-hub.se', port=443): Max retries exceeded with url: /2677/1faba7e57db00628e587945fc4984ad0/panozzo2014.pdf (Caused by SSLError(SSLEOFError(8, 'EOF occurred in violation of protocol (_ssl.c:997)')))\n",
      "Failed to download file: Invalid URL 'http:/downloads/2019-09-06/c7/jung2019.pdf#navpanes=0&view=FitH': No host supplied\n",
      "Failed to download file: HTTPSConnectionPool(host='dacemirror.sci-hub.se', port=443): Max retries exceeded with url: /journal-article/d127257133192754b0e46fd8d61b9f88/tao1997.pdf (Caused by SSLError(SSLEOFError(8, 'EOF occurred in violation of protocol (_ssl.c:997)')))\n",
      "Failed to download file: Invalid URL 'http:/downloads/2019-08-05/ba/10.1007@978-3-030-27541-9.pdf#navpanes=0&view=FitH': No host supplied\n",
      "Failed to download file: HTTPSConnectionPool(host='zero.sci-hub.se', port=443): Max retries exceeded with url: /1048/873457b140317c14b862fad3cd12d2d2/ka-shuwong2004.pdf (Caused by SSLError(SSLEOFError(8, 'EOF occurred in violation of protocol (_ssl.c:997)')))\n",
      "Failed to download file: HTTPSConnectionPool(host='zero.sci-hub.se', port=443): Max retries exceeded with url: /465/c33503fe81f6fee7999973ff4b1bf2fb/bartels2000.pdf (Caused by SSLError(SSLEOFError(8, 'EOF occurred in violation of protocol (_ssl.c:997)')))\n",
      "Failed to download file: HTTPSConnectionPool(host='zero.sci-hub.se', port=443): Max retries exceeded with url: /493/9039da14bf6901283eb338cdf0689981/driscoll1997.pdf (Caused by SSLError(SSLEOFError(8, 'EOF occurred in violation of protocol (_ssl.c:997)')))\n",
      "Failed to download file: HTTPSConnectionPool(host='zero.sci-hub.se', port=443): Max retries exceeded with url: /3066/ae60d0725e40c5841d38093b222aedce/akgul1999.pdf (Caused by SSLError(SSLEOFError(8, 'EOF occurred in violation of protocol (_ssl.c:997)')))\n",
      "Failed to download file: HTTPSConnectionPool(host='dacemirror.sci-hub.se', port=443): Max retries exceeded with url: /journal-article/cf833b369634e6f60009077ac45181b9/liu2007.pdf (Caused by SSLError(SSLEOFError(8, 'EOF occurred in violation of protocol (_ssl.c:997)')))\n",
      "Failed to download file: HTTPSConnectionPool(host='moscow.sci-hub.se', port=443): Max retries exceeded with url: /4369/378e0a43bcff07839b2effd281d4f314/zhou2012.pdf (Caused by SSLError(SSLEOFError(8, 'EOF occurred in violation of protocol (_ssl.c:997)')))\n",
      "Failed to download file: Invalid URL 'http:/downloads/2019-01-21//62/10.1007@978-3-030-01237-322.pdf#navpanes=0&view=FitH': No host supplied\n",
      "Failed to download file: HTTPSConnectionPool(host='dacemirror.sci-hub.se', port=443): Max retries exceeded with url: /journal-article/a07eca624f9ad87500a20b9b7fc5e28f/veeraraghavan2011.pdf (Caused by SSLError(SSLEOFError(8, 'EOF occurred in violation of protocol (_ssl.c:997)')))\n",
      "Failed to download file: HTTPSConnectionPool(host='zero.sci-hub.se', port=443): Max retries exceeded with url: /1822/7b2da8552862dee1a1f24cce8a89e5b4/levine1985.pdf (Caused by SSLError(SSLEOFError(8, 'EOF occurred in violation of protocol (_ssl.c:997)')))\n",
      "Failed to download file: HTTPSConnectionPool(host='dacemirror.sci-hub.se', port=443): Max retries exceeded with url: /journal-article/af43ce262538ed666e0fefd9c0ffe7fb/vanek2014.pdf (Caused by SSLError(SSLEOFError(8, 'EOF occurred in violation of protocol (_ssl.c:997)')))\n",
      "Failed to download file: HTTPSConnectionPool(host='moscow.sci-hub.se', port=443): Max retries exceeded with url: /1354/174df504fec0c866c1c2d845f58dd338/biasotti2011.pdf (Caused by SSLError(SSLEOFError(8, 'EOF occurred in violation of protocol (_ssl.c:997)')))\n",
      "Failed to download file: HTTPSConnectionPool(host='moscow.sci-hub.se', port=443): Max retries exceeded with url: /4287/57d89cc3e5f134b85f42c0edd3d125dc/bobick1999.pdf (Caused by SSLError(SSLEOFError(8, 'EOF occurred in violation of protocol (_ssl.c:997)')))\n",
      "Failed to download file: HTTPSConnectionPool(host='zero.sci-hub.se', port=443): Max retries exceeded with url: /6770/f8a59180c294bd772fed41791b08c455/liao2018.pdf (Caused by SSLError(SSLEOFError(8, 'EOF occurred in violation of protocol (_ssl.c:997)')))\n",
      "Failed to download file: HTTPSConnectionPool(host='moscow.sci-hub.se', port=443): Max retries exceeded with url: /2288/ce290b454e9f8fd6de358351ecfb3dde/yasaka2014.pdf (Caused by SSLError(SSLEOFError(8, 'EOF occurred in violation of protocol (_ssl.c:997)')))\n",
      "Failed to download file: HTTPSConnectionPool(host='zero.sci-hub.se', port=443): Max retries exceeded with url: /831/6cfc52177ef4e0d62ffa0820f64181e2/eppstein1994.pdf (Caused by SSLError(SSLEOFError(8, 'EOF occurred in violation of protocol (_ssl.c:997)')))\n",
      "Failed to download file: HTTPSConnectionPool(host='zero.sci-hub.se', port=443): Max retries exceeded with url: /5006/b75f973fed32ecfa3241ae323abcd0ca/cai2016.pdf (Caused by SSLError(SSLEOFError(8, 'EOF occurred in violation of protocol (_ssl.c:997)')))\n",
      "Failed to download file: HTTPSConnectionPool(host='moscow.sci-hub.se', port=443): Max retries exceeded with url: /4418/e23e3d087274126db7345c53beacf929/jarosz2011.pdf (Caused by SSLError(SSLEOFError(8, 'EOF occurred in violation of protocol (_ssl.c:997)')))\n",
      "Failed to download file: HTTPSConnectionPool(host='moscow.sci-hub.se', port=443): Max retries exceeded with url: /4178/17ad170fd82bff7cbc26f9c004404293/jampani2015.pdf (Caused by SSLError(SSLEOFError(8, 'EOF occurred in violation of protocol (_ssl.c:997)')))\n",
      "Failed to download file: HTTPSConnectionPool(host='moscow.sci-hub.se', port=443): Max retries exceeded with url: /3618/ca001b38bf90098d02403d523c821af4/li2011.pdf (Caused by SSLError(SSLEOFError(8, 'EOF occurred in violation of protocol (_ssl.c:997)')))\n",
      "Failed to download file: HTTPSConnectionPool(host='zero.sci-hub.se', port=443): Max retries exceeded with url: /2459/6b4481e0611d23cd82028ba94df98eae/guo2015.pdf (Caused by SSLError(SSLEOFError(8, 'EOF occurred in violation of protocol (_ssl.c:997)')))\n",
      "Failed to download file: HTTPSConnectionPool(host='zero.sci-hub.se', port=443): Max retries exceeded with url: /1147/c1830b59ce47324618864ea60f7e8ffa/gotchev2011.pdf (Caused by SSLError(SSLEOFError(8, 'EOF occurred in violation of protocol (_ssl.c:997)')))\n",
      "Failed to download file: HTTPSConnectionPool(host='zero.sci-hub.se', port=443): Max retries exceeded with url: /942/446fef0295d52e4c8ba7078dd7b78bdd/weinkauf2009.pdf (Caused by SSLError(SSLEOFError(8, 'EOF occurred in violation of protocol (_ssl.c:997)')))\n",
      "Failed to download file: HTTPSConnectionPool(host='dacemirror.sci-hub.se', port=443): Max retries exceeded with url: /journal-article/47385ab8bcba1aee527d4978cbac4568/tracey1988.pdf (Caused by SSLError(SSLEOFError(8, 'EOF occurred in violation of protocol (_ssl.c:997)')))\n",
      "Failed to download file: Invalid URL 'http:/downloads/2019-11-11/85/10.1145@3355089.3356500.pdf#navpanes=0&view=FitH': No host supplied\n",
      "Failed to download file: HTTPSConnectionPool(host='dacemirror.sci-hub.se', port=443): Max retries exceeded with url: /journal-article/261495c256c2407daffba156cd6291f5/liu2016.pdf (Caused by SSLError(SSLEOFError(8, 'EOF occurred in violation of protocol (_ssl.c:997)')))\n",
      "Failed to download file: HTTPSConnectionPool(host='zero.sci-hub.se', port=443): Max retries exceeded with url: /907/50f297b32a2d47ea2cee96511391a17e/badal1990.pdf (Caused by SSLError(SSLEOFError(8, 'EOF occurred in violation of protocol (_ssl.c:997)')))\n",
      "Failed to download file: HTTPSConnectionPool(host='moscow.sci-hub.se', port=443): Max retries exceeded with url: /1813/fbb0ac2c6d53669503bd1b37140db9a5/zitnick2000.pdf (Caused by SSLError(SSLEOFError(8, 'EOF occurred in violation of protocol (_ssl.c:997)')))\n",
      "Failed to download file: HTTPSConnectionPool(host='dacemirror.sci-hub.se', port=443): Max retries exceeded with url: /journal-article/1da40f1a110db7f205415782ab9ca097/fleischmann2000.pdf (Caused by SSLError(SSLEOFError(8, 'EOF occurred in violation of protocol (_ssl.c:997)')))\n",
      "Failed to download file: HTTPSConnectionPool(host='zero.sci-hub.se', port=443): Max retries exceeded with url: /4163/ff5a4d906fe50b710a025613eb457216/li2013.pdf (Caused by SSLError(SSLEOFError(8, 'EOF occurred in violation of protocol (_ssl.c:997)')))\n",
      "Failed to download file: HTTPSConnectionPool(host='zero.sci-hub.se', port=443): Max retries exceeded with url: /942/a227e09bb0f4d3d567bea69be573c93a/scherzer2011.pdf (Caused by SSLError(SSLEOFError(8, 'EOF occurred in violation of protocol (_ssl.c:997)')))\n",
      "Failed to download file: HTTPSConnectionPool(host='moscow.sci-hub.se', port=443): Max retries exceeded with url: /5462/937024173504e9e963d6dd7ab030b149/peng2003.pdf (Caused by SSLError(SSLEOFError(8, 'EOF occurred in violation of protocol (_ssl.c:997)')))\n",
      "Failed to download file: Invalid URL 'http:/downloads/2021-06-22/4a/dai2021.pdf#navpanes=0&view=FitH': No host supplied\n",
      "Failed to download file: HTTPSConnectionPool(host='zero.sci-hub.se', port=443): Max retries exceeded with url: /2269/de6c0accf2cc4a8f1aa07dd25877d775/gerstner2013.pdf (Caused by SSLError(SSLEOFError(8, 'EOF occurred in violation of protocol (_ssl.c:997)')))\n",
      "Failed to download file: Invalid URL 'http:/tree/6b/80/6b803679ca738a5f4aed84af219f96d4.pdf#navpanes=0&view=FitH': No host supplied\n",
      "Failed to download file: Invalid URL 'http:/tree/7f/3c/7f3cade383672fb339e75a9ee746ea4b.pdf#navpanes=0&view=FitH': No host supplied\n",
      "Failed to download file: HTTPSConnectionPool(host='dacemirror.sci-hub.se', port=443): Max retries exceeded with url: /journal-article/df91f093c7f605a7f17fb38dd854b13f/yongseokheo2011.pdf (Caused by SSLError(SSLEOFError(8, 'EOF occurred in violation of protocol (_ssl.c:997)')))\n",
      "Failed to download file: HTTPSConnectionPool(host='dacemirror.sci-hub.se', port=443): Max retries exceeded with url: /journal-article/65a751c148922756a86647b4ef32b819/yang2004.pdf (Caused by SSLError(SSLEOFError(8, 'EOF occurred in violation of protocol (_ssl.c:997)')))\n",
      "Failed to download file: HTTPSConnectionPool(host='zero.sci-hub.se', port=443): Max retries exceeded with url: /7043/9f8ae27d163369c95b19f6f3ba3399c5/vogels2018.pdf (Caused by SSLError(SSLEOFError(8, 'EOF occurred in violation of protocol (_ssl.c:997)')))\n",
      "Failed to download file: HTTPSConnectionPool(host='moscow.sci-hub.se', port=443): Max retries exceeded with url: /1487/4e40da0a64ed6f46233b2837ca5a628d/coletta2010.pdf (Caused by SSLError(SSLEOFError(8, 'EOF occurred in violation of protocol (_ssl.c:997)')))\n",
      "Failed to download file: HTTPSConnectionPool(host='moscow.sci-hub.se', port=443): Max retries exceeded with url: /5146/a0310e4d5a061d0041cf450594ec4e92/lifelike-characters-2004.pdf (Caused by SSLError(SSLEOFError(8, 'EOF occurred in violation of protocol (_ssl.c:997)')))\n",
      "Failed to download file: HTTPSConnectionPool(host='dacemirror.sci-hub.se', port=443): Max retries exceeded with url: /journal-article/42b790f9cdf382967bd7d9210d7f737c/wang2017.pdf (Caused by SSLError(SSLEOFError(8, 'EOF occurred in violation of protocol (_ssl.c:997)')))\n",
      "Failed to download file: HTTPSConnectionPool(host='zero.sci-hub.se', port=443): Max retries exceeded with url: /7114/4f6b9db4d56309d0b41969367d05556a/duran2019.pdf (Caused by SSLError(SSLEOFError(8, 'EOF occurred in violation of protocol (_ssl.c:997)')))\n",
      "Failed to download file: HTTPSConnectionPool(host='dacemirror.sci-hub.se', port=443): Max retries exceeded with url: /journal-article/d7843472644e6dd213bf60829730a86d/pahins2016.pdf (Caused by SSLError(SSLEOFError(8, 'EOF occurred in violation of protocol (_ssl.c:997)')))\n",
      "Failed to download file: HTTPSConnectionPool(host='zero.sci-hub.se', port=443): Max retries exceeded with url: /4412/c5ab1f1040be0daa92ee0fa0021d0c4c/jacobson2012.pdf (Caused by SSLError(SSLEOFError(8, 'EOF occurred in violation of protocol (_ssl.c:997)')))\n",
      "Failed to download file: HTTPSConnectionPool(host='dacemirror.sci-hub.se', port=443): Max retries exceeded with url: /journal-article/498e412cd00767cfec7d5653de8ddc6d/rigau2008.pdf (Caused by SSLError(SSLEOFError(8, 'EOF occurred in violation of protocol (_ssl.c:997)')))\n",
      "Failed to download file: HTTPSConnectionPool(host='dacemirror.sci-hub.se', port=443): Max retries exceeded with url: /journal-article/23fcb7a4e161aca6c9fe9561304ae9fe/ruhnau2004.pdf (Caused by SSLError(SSLEOFError(8, 'EOF occurred in violation of protocol (_ssl.c:997)')))\n",
      "Failed to download file: HTTPSConnectionPool(host='dacemirror.sci-hub.se', port=443): Max retries exceeded with url: /journal-article/abfc4d1ec02b48cbbbb48a4ab918050d/kadah1996.pdf (Caused by SSLError(SSLEOFError(8, 'EOF occurred in violation of protocol (_ssl.c:997)')))\n",
      "Failed to download file: HTTPSConnectionPool(host='moscow.sci-hub.se', port=443): Max retries exceeded with url: /3057/f8a458415460f481eaca684149f61c52/tanahashi2012.pdf (Caused by SSLError(SSLEOFError(8, 'EOF occurred in violation of protocol (_ssl.c:997)')))\n",
      "Failed to download file: HTTPSConnectionPool(host='moscow.sci-hub.se', port=443): Max retries exceeded with url: /1822/b76436d1d06ca7e55c69afa0ae5b6a9d/hansen2010.pdf (Caused by SSLError(SSLEOFError(8, 'EOF occurred in violation of protocol (_ssl.c:997)')))\n",
      "Failed to download file: HTTPSConnectionPool(host='zero.sci-hub.se', port=443): Max retries exceeded with url: /6882/ca3d714eebad8f235b3a6889217ac66c/cun2018.pdf (Caused by SSLError(SSLEOFError(8, 'EOF occurred in violation of protocol (_ssl.c:997)')))\n",
      "Failed to download file: HTTPSConnectionPool(host='moscow.sci-hub.se', port=443): Max retries exceeded with url: /805/c0954cf6aa97b12f2bacca58ac2c0757/sutton2007.pdf (Caused by SSLError(SSLEOFError(8, 'EOF occurred in violation of protocol (_ssl.c:997)')))\n",
      "Failed to download file: HTTPSConnectionPool(host='dacemirror.sci-hub.se', port=443): Max retries exceeded with url: /journal-article/956a1e80979ffc8a32e8f93ca9d60216/nigam2015.pdf (Caused by SSLError(SSLEOFError(8, 'EOF occurred in violation of protocol (_ssl.c:997)')))\n",
      "Failed to download file: Invalid URL 'http:/downloads/2022-11-06/3e43/kim2022.pdf#navpanes=0&view=FitH': No host supplied\n",
      "Failed to download file: Invalid URL 'http:/downloads/2022-11-04/af/colchicine-in-patients-admitted-to-hospital-with-covid19-recover-2021.pdf#navpanes=0&view=FitH': No host supplied\n",
      "Failed to download file: HTTPSConnectionPool(host='moscow.sci-hub.se', port=443): Max retries exceeded with url: /1439/f249bdf33c0c4d516e995350436d8115/rocha2012.pdf (Caused by SSLError(SSLEOFError(8, 'EOF occurred in violation of protocol (_ssl.c:997)')))\n",
      "Failed to download file: HTTPSConnectionPool(host='zero.sci-hub.se', port=443): Max retries exceeded with url: /1813/52e4c3232ade52ed584ea30d417297ea/duncan2000.pdf (Caused by SSLError(SSLEOFError(8, 'EOF occurred in violation of protocol (_ssl.c:997)')))Failed to download file: HTTPSConnectionPool(host='dacemirror.sci-hub.se', port=443): Max retries exceeded with url: /journal-article/b45519f602f363ad4be4a9dde68f1206/hodgins1991.pdf (Caused by SSLError(SSLEOFError(8, 'EOF occurred in violation of protocol (_ssl.c:997)')))\n",
      "Failed to download file: Invalid URL 'http:/downloads/2019-07-31/c9/10.1145@3306346.3323034.pdf#navpanes=0&view=FitH': No host supplied\n",
      "Failed to download file: Invalid URL 'http:/downloads/2020-10-19/2b/dang2020.pdf#navpanes=0&view=FitH': No host supplied\n",
      "\n",
      "Failed to download file: HTTPSConnectionPool(host='moscow.sci-hub.se', port=443): Max retries exceeded with url: /1879/597e8a5dc37a4412c7d054e2747923dc/daugman1980.pdf (Caused by SSLError(SSLEOFError(8, 'EOF occurred in violation of protocol (_ssl.c:997)')))\n",
      "Failed to download file: Invalid URL 'http:/downloads/2022-11-09/6a/aristidou2022.pdf#navpanes=0&view=FitH': No host supplied\n",
      "Failed to download file: HTTPSConnectionPool(host='zero.sci-hub.se', port=443): Max retries exceeded with url: /3612/5a0319a8ff8240b32e5a37bc4a6ca4e4/gilles2006.pdf (Caused by SSLError(SSLEOFError(8, 'EOF occurred in violation of protocol (_ssl.c:997)')))\n",
      "Failed to download file: Invalid URL 'http:/downloads/2019-08-22/04/morra2019.pdf#navpanes=0&view=FitH': No host supplied\n",
      "Failed to download file: HTTPSConnectionPool(host='dacemirror.sci-hub.se', port=443): Max retries exceeded with url: /journal-article/3c6ecef6469db1e795ce6773d9374a85/allen1988.pdf (Caused by SSLError(SSLEOFError(8, 'EOF occurred in violation of protocol (_ssl.c:997)')))\n",
      "Failed to download file: HTTPSConnectionPool(host='dacemirror.sci-hub.se', port=443): Max retries exceeded with url: /journal-article/1aa46ae500427bb8a4713ab10d79e132/chen2012.pdf (Caused by SSLError(SSLEOFError(8, 'EOF occurred in violation of protocol (_ssl.c:997)')))\n",
      "Failed to download file: Invalid URL 'http:/tree/1f/e7/1fe7cdbcc52dfa28b461c6c14134987d.pdf#navpanes=0&view=FitH': No host supplied\n",
      "Failed to download file: HTTPSConnectionPool(host='dacemirror.sci-hub.se', port=443): Max retries exceeded with url: /journal-article/a5a34e0e9ec85c41a8bd401f68aead31/knapitsch2017.pdf (Caused by SSLError(SSLEOFError(8, 'EOF occurred in violation of protocol (_ssl.c:997)')))\n",
      "Failed to download file: HTTPSConnectionPool(host='moscow.sci-hub.se', port=443): Max retries exceeded with url: /3020/79454cb517f6b0b9f7f196c3fa198e83/wang2007.pdf (Caused by SSLError(SSLEOFError(8, 'EOF occurred in violation of protocol (_ssl.c:997)')))\n",
      "Failed to download file: Invalid URL 'http:/downloads/2020-12-21/64/zhang2020.pdf#navpanes=0&view=FitH': No host supplied\n",
      "Failed to download file: HTTPSConnectionPool(host='moscow.sci-hub.se', port=443): Max retries exceeded with url: /942/be597b7d12ebf6b04ac2f448658a46d0/bruneton2008.pdf (Caused by SSLError(SSLEOFError(8, 'EOF occurred in violation of protocol (_ssl.c:997)')))\n",
      "Failed to download file: HTTPSConnectionPool(host='dacemirror.sci-hub.se', port=443): Max retries exceeded with url: /journal-article/c7c079aab08fbb3f3a58905515c4ebdd/simo-serra2016.pdf (Caused by SSLError(SSLEOFError(8, 'EOF occurred in violation of protocol (_ssl.c:997)')))\n",
      "Failed to download file: HTTPSConnectionPool(host='zero.sci-hub.se', port=443): Max retries exceeded with url: /6954/a6b603c35b5a293366fdba0a95c4a14b/chen2018.pdf (Caused by SSLError(SSLEOFError(8, 'EOF occurred in violation of protocol (_ssl.c:997)')))\n",
      "Failed to download file: HTTPSConnectionPool(host='moscow.sci-hub.se', port=443): Max retries exceeded with url: /1823/b65b86372ecd1aed4d463216ae5315b8/yiyongsun2003.pdf (Caused by SSLError(SSLEOFError(8, 'EOF occurred in violation of protocol (_ssl.c:997)')))\n",
      "Failed to download file: HTTPSConnectionPool(host='zero.sci-hub.se', port=443): Max retries exceeded with url: /6357/a950f1a886fd9324a81e1d4801052d52/10.1016@j.smallrumres.2017.05.005.pdf (Caused by SSLError(SSLEOFError(8, 'EOF occurred in violation of protocol (_ssl.c:997)')))\n",
      "Failed to download file: HTTPSConnectionPool(host='dacemirror.sci-hub.se', port=443): Max retries exceeded with url: /journal-article/f0e8df92f315b6faa9485f9f22e4d827/damasio1994.pdf (Caused by SSLError(SSLEOFError(8, 'EOF occurred in violation of protocol (_ssl.c:997)')))\n",
      "Failed to download file: HTTPSConnectionPool(host='dacemirror.sci-hub.se', port=443): Max retries exceeded with url: /journal-article/889e919e4288e48bad519f4264d709b5/lin2013.pdf (Caused by SSLError(SSLEOFError(8, 'EOF occurred in violation of protocol (_ssl.c:997)')))\n",
      "Failed to download file: HTTPSConnectionPool(host='zero.sci-hub.se', port=443): Max retries exceeded with url: /5799/80a4862aed5e16bf92433c0ebbeb1920/10.1145@2897824.2925906.pdf (Caused by SSLError(SSLEOFError(8, 'EOF occurred in violation of protocol (_ssl.c:997)')))\n",
      "Failed to download file: HTTPSConnectionPool(host='zero.sci-hub.se', port=443): Max retries exceeded with url: /6090/4720be1b07b9ed3c08a6786394b6671f/huang2016.pdf (Caused by SSLError(SSLEOFError(8, 'EOF occurred in violation of protocol (_ssl.c:997)')))\n",
      "Failed to download file: HTTPSConnectionPool(host='moscow.sci-hub.se', port=443): Max retries exceeded with url: /2173/455fc3a452a25cfff538c0ca59cd6c09/dufresne2008.pdf (Caused by SSLError(SSLEOFError(8, 'EOF occurred in violation of protocol (_ssl.c:997)')))\n",
      "Failed to download file: HTTPSConnectionPool(host='zero.sci-hub.se', port=443): Max retries exceeded with url: /6580/8825277c0ba57fa678709b26fe1d958a/chen2006.pdf (Caused by SSLError(SSLEOFError(8, 'EOF occurred in violation of protocol (_ssl.c:997)')))\n",
      "Failed to download file: HTTPSConnectionPool(host='dacemirror.sci-hub.se', port=443): Max retries exceeded with url: /journal-article/a692000933c28259c49f94f153615338/weszka1976.pdf (Caused by SSLError(SSLEOFError(8, 'EOF occurred in violation of protocol (_ssl.c:997)')))\n",
      "Failed to download file: HTTPSConnectionPool(host='dacemirror.sci-hub.se', port=443): Max retries exceeded with url: /journal-article/2d19a12a148621fef89d627b97aa07eb/10.1111@cgf.12612.pdf (Caused by SSLError(SSLEOFError(8, 'EOF occurred in violation of protocol (_ssl.c:997)')))\n",
      "Failed to download file: HTTPSConnectionPool(host='moscow.sci-hub.se', port=443): Max retries exceeded with url: /3343/a3b6a00f0bf581ee5ecd75a75ac109d2/li2014.pdf (Caused by SSLError(SSLEOFError(8, 'EOF occurred in violation of protocol (_ssl.c:997)')))\n",
      "Failed to download file: HTTPSConnectionPool(host='dacemirror.sci-hub.se', port=443): Max retries exceeded with url: /journal-article/86e11ef9bf23182dc4cac35445085860/silcowitz-hansen2010.pdf (Caused by SSLError(SSLEOFError(8, 'EOF occurred in violation of protocol (_ssl.c:997)')))\n",
      "Failed to download file: HTTPSConnectionPool(host='zero.sci-hub.se', port=443): Max retries exceeded with url: /5586/81e05b337d1a4c8c094576810b77c181/aristidou2015.pdf (Caused by SSLError(SSLEOFError(8, 'EOF occurred in violation of protocol (_ssl.c:997)')))\n",
      "Failed to download file: HTTPSConnectionPool(host='dacemirror.sci-hub.se', port=443): Max retries exceeded with url: /journal-article/a2eae7f636a8484c377211d6f7afa30d/giachetti2012.pdf (Caused by SSLError(SSLEOFError(8, 'EOF occurred in violation of protocol (_ssl.c:997)')))\n",
      "Failed to download file: Invalid URL 'http:/downloads/2021-08-12/8241/ren2021.pdf#navpanes=0&view=FitH': No host supplied\n",
      "Failed to download file: HTTPSConnectionPool(host='zero.sci-hub.se', port=443): Max retries exceeded with url: /1448/9e45d34d91afc6877f6bf9b1f46e9d7d/stam1997.pdf (Caused by SSLError(SSLEOFError(8, 'EOF occurred in violation of protocol (_ssl.c:997)')))\n",
      "Failed to download file: Invalid URL 'http:/downloads/2020-02-20/bb/10.1056@NEJMc1917224.pdf#navpanes=0&view=FitH': No host supplied\n",
      "Failed to download file: HTTPSConnectionPool(host='moscow.sci-hub.se', port=443): Max retries exceeded with url: /1823/45bec426994f1c3fb7cacb54dfec223e/becker2009.pdf (Caused by SSLError(SSLEOFError(8, 'EOF occurred in violation of protocol (_ssl.c:997)')))\n",
      "Failed to download file: HTTPSConnectionPool(host='moscow.sci-hub.se', port=443): Max retries exceeded with url: /2144/1239ffb188ec8cb1ab01d8901c9c24af/paz2008.pdf (Caused by SSLError(SSLEOFError(8, 'EOF occurred in violation of protocol (_ssl.c:997)')))\n",
      "Failed to download file: Invalid URL 'http:/downloads/2019-10-13/1f/overvig2019.pdf#navpanes=0&view=FitH': No host supplied\n",
      "Failed to download file: HTTPSConnectionPool(host='zero.sci-hub.se', port=443): Max retries exceeded with url: /4956/8ee1d720da7abc0154573fb4b24d9451/gehring2016.pdf (Caused by SSLError(SSLEOFError(8, 'EOF occurred in violation of protocol (_ssl.c:997)')))\n",
      "Failed to download file: HTTPSConnectionPool(host='moscow.sci-hub.se', port=443): Max retries exceeded with url: /3198/c19582b3609e8e8bef30fea001080ae1/klionsky2014.pdf (Caused by SSLError(SSLEOFError(8, 'EOF occurred in violation of protocol (_ssl.c:997)')))\n",
      "Failed to download file: HTTPSConnectionPool(host='dacemirror.sci-hub.se', port=443): Max retries exceeded with url: /journal-article/8a211128e6e8895e3379739d247b5e3d/antelo2005.pdf (Caused by SSLError(SSLEOFError(8, 'EOF occurred in violation of protocol (_ssl.c:997)')))\n",
      "Failed to download file: HTTPSConnectionPool(host='moscow.sci-hub.se', port=443): Max retries exceeded with url: /338/7b3ab6e50d4458eaa1ef8c7db8830542/robson2011.pdf (Caused by SSLError(SSLEOFError(8, 'EOF occurred in violation of protocol (_ssl.c:997)')))\n",
      "Failed to download file: HTTPSConnectionPool(host='zero.sci-hub.se', port=443): Max retries exceeded with url: /1433/4326e1371cb75c6fd60d7642a124dcbb/abdoulaev1998.pdf (Caused by SSLError(SSLEOFError(8, 'EOF occurred in violation of protocol (_ssl.c:997)')))\n",
      "Failed to download file: HTTPSConnectionPool(host='zero.sci-hub.se', port=443): Max retries exceeded with url: /2762/e5ac425fa0d0584e7990958248670898/liao2014.pdf (Caused by SSLError(SSLEOFError(8, 'EOF occurred in violation of protocol (_ssl.c:997)')))\n",
      "Failed to download file: HTTPSConnectionPool(host='moscow.sci-hub.se', port=443): Max retries exceeded with url: /4407/f8dfb0a2f9d2f0ae5d83eb96c74537ee/he2009.pdf (Caused by SSLError(SSLEOFError(8, 'EOF occurred in violation of protocol (_ssl.c:997)')))\n",
      "Failed to download file: HTTPSConnectionPool(host='dacemirror.sci-hub.se', port=443): Max retries exceeded with url: /journal-article/a520deafe4dcd22b56ee52dbc8bb4183/lin2017.pdf (Caused by SSLError(SSLEOFError(8, 'EOF occurred in violation of protocol (_ssl.c:997)')))\n",
      "Failed to download file: HTTPSConnectionPool(host='dacemirror.sci-hub.se', port=443): Max retries exceeded with url: /journal-article/f7595247ed51c7f206d0ba871865d3ed/kassebaum2015.pdf (Caused by SSLError(SSLEOFError(8, 'EOF occurred in violation of protocol (_ssl.c:997)')))\n",
      "Failed to download file: HTTPSConnectionPool(host='zero.sci-hub.se', port=443): Max retries exceeded with url: /5589/99c7ab8ad394e62e59c312ab501ce6cd/liu2016.pdf (Caused by SSLError(SSLEOFError(8, 'EOF occurred in violation of protocol (_ssl.c:997)')))\n",
      "Failed to download file: HTTPSConnectionPool(host='zero.sci-hub.se', port=443): Max retries exceeded with url: /3754/8c69f2bfe5a31f2d333e20241a1e9298/short2011.pdf (Caused by SSLError(SSLEOFError(8, 'EOF occurred in violation of protocol (_ssl.c:997)')))\n",
      "Failed to download file: HTTPSConnectionPool(host='moscow.sci-hub.se', port=443): Max retries exceeded with url: /3339/1ad84ab3a710ba85b98c8a73031f8afd/cremers2003.pdf (Caused by SSLError(SSLEOFError(8, 'EOF occurred in violation of protocol (_ssl.c:997)')))\n",
      "Failed to download file: Invalid URL 'http:/downloads/2020-09-01/37/ullah2018.pdf#navpanes=0&view=FitH': No host supplied\n",
      "Failed to download file: HTTPSConnectionPool(host='dacemirror.sci-hub.se', port=443): Max retries exceeded with url: /journal-article/fb744a05fbc12992aa6cee48458128f9/everingham2014.pdf (Caused by SSLError(SSLEOFError(8, 'EOF occurred in violation of protocol (_ssl.c:997)')))\n",
      "Failed to download file: HTTPSConnectionPool(host='zero.sci-hub.se', port=443): Max retries exceeded with url: /476/cae8336333631bc688e57977f8fd32d9/beraldin2000.pdf (Caused by SSLError(SSLEOFError(8, 'EOF occurred in violation of protocol (_ssl.c:997)')))\n",
      "Failed to download file: HTTPSConnectionPool(host='dacemirror.sci-hub.se', port=443): Max retries exceeded with url: /journal-article/9ae48dbacebc26026deecd6e9d427109/connell1987.pdf (Caused by SSLError(SSLEOFError(8, 'EOF occurred in violation of protocol (_ssl.c:997)')))\n",
      "Failed to download file: HTTPSConnectionPool(host='zero.sci-hub.se', port=443): Max retries exceeded with url: /6243/55970e80d407c85cdbb9fe9800e1966b/mur-artal2017.pdf (Caused by SSLError(SSLEOFError(8, 'EOF occurred in violation of protocol (_ssl.c:997)')))\n",
      "Failed to download file: HTTPSConnectionPool(host='dacemirror.sci-hub.se', port=443): Max retries exceeded with url: /journal-article/8acfeb6fce71110660a388af8031834f/ikeuchi1987.pdf (Caused by SSLError(SSLEOFError(8, 'EOF occurred in violation of protocol (_ssl.c:997)')))\n",
      "Failed to download file: Invalid URL 'http:/downloads/2019-04-11/fd/gribanov2018.pdf#navpanes=0&view=FitH': No host supplied\n",
      "Failed to download file: HTTPSConnectionPool(host='zero.sci-hub.se', port=443): Max retries exceeded with url: /2652/3a2cbf1c64cec7e723dd0af61fccaf9e/bodor2013.pdf (Caused by SSLError(SSLEOFError(8, 'EOF occurred in violation of protocol (_ssl.c:997)')))\n",
      "Failed to download file: HTTPSConnectionPool(host='moscow.sci-hub.se', port=443): Max retries exceeded with url: /5341/704aa774ffd723d7154184f10f735eb1/karpis2012.pdf (Caused by SSLError(SSLEOFError(8, 'EOF occurred in violation of protocol (_ssl.c:997)')))\n",
      "Failed to download file: HTTPSConnectionPool(host='zero.sci-hub.se', port=443): Max retries exceeded with url: /6632/702ce0162eb5a90eeea41a41a71c85a7/jackson2018.pdf (Caused by SSLError(SSLEOFError(8, 'EOF occurred in violation of protocol (_ssl.c:997)')))\n",
      "Failed to download file: Invalid URL 'http:/downloads/2021-05-13//23/panet1976.pdf#navpanes=0&view=FitH': No host supplied\n",
      "Failed to download file: HTTPSConnectionPool(host='zero.sci-hub.se', port=443): Max retries exceeded with url: /7119/2604a58d401b62d98a3d4e11d1e58d69/using-multiple-hypotheses-to-improve-depthmaps-for-multiview-ste.pdf (Caused by SSLError(SSLEOFError(8, 'EOF occurred in violation of protocol (_ssl.c:997)')))\n",
      "Failed to download file: HTTPSConnectionPool(host='moscow.sci-hub.se', port=443): Max retries exceeded with url: /1823/95ef19d85b1ff883472c56832c090ae3/wagner2010.pdf (Caused by SSLError(SSLEOFError(8, 'EOF occurred in violation of protocol (_ssl.c:997)')))\n",
      "Failed to download file: Invalid URL 'http:/downloads/2021-05-15//10/wan2021.pdf#navpanes=0&view=FitH': No host supplied\n",
      "Failed to download file: HTTPSConnectionPool(host='zero.sci-hub.se', port=443): Max retries exceeded with url: /28/c16077988795425fb210955a9bb11b0b/manga2012.pdf (Caused by SSLError(SSLEOFError(8, 'EOF occurred in violation of protocol (_ssl.c:997)')))\n",
      "Failed to download file: Invalid URL 'http:/downloads/2020-02-08/3b/10.1007@s11263-019-01284-z.pdf#navpanes=0&view=FitH': No host supplied\n",
      "Failed to download file: Invalid URL 'http:/downloads/2021-08-10/8d/noor2021.pdf#navpanes=0&view=FitH': No host supplied\n",
      "Failed to download file: Invalid URL 'http:/downloads/2019-07-20/2a/10.1109@TPAMI.2019.2929520.pdf#navpanes=0&view=FitH': No host supplied\n",
      "Failed to download file: HTTPSConnectionPool(host='dacemirror.sci-hub.se', port=443): Max retries exceeded with url: /journal-article/789903e20512ff1658384edfa614748a/unsgaard2007.pdf (Caused by SSLError(SSLEOFError(8, 'EOF occurred in violation of protocol (_ssl.c:997)')))\n",
      "Failed to download file: HTTPSConnectionPool(host='moscow.sci-hub.se', port=443): Max retries exceeded with url: /4364/42bb05831b48b929c467d7ffcbf0ab6e/kim2013.pdf (Caused by SSLError(SSLEOFError(8, 'EOF occurred in violation of protocol (_ssl.c:997)')))\n",
      "Failed to download file: Invalid URL 'http:/downloads/2019-07-21/65/10.1111@cgf.13803.pdf#navpanes=0&view=FitH': No host supplied\n",
      "Failed to download file: Invalid URL 'http:/downloads/2021-05-13//47/mor1994.pdf#navpanes=0&view=FitH': No host supplied\n",
      "Failed to download file: HTTPSConnectionPool(host='zero.sci-hub.se', port=443): Max retries exceeded with url: /6276/a6a50ba7e860282d4b88a20fc806ed6b/li2016.pdf (Caused by SSLError(SSLEOFError(8, 'EOF occurred in violation of protocol (_ssl.c:997)')))\n",
      "Failed to download file: HTTPSConnectionPool(host='dacemirror.sci-hub.se', port=443): Max retries exceeded with url: /journal-article/d2942106ab807e3b54961f5f2c60163c/cena2007.pdf (Caused by SSLError(SSLEOFError(8, 'EOF occurred in violation of protocol (_ssl.c:997)')))\n",
      "Failed to download file: HTTPSConnectionPool(host='zero.sci-hub.se', port=443): Max retries exceeded with url: /2106/ce19336cfca08a60252542246dab638b/lei2013.pdf (Caused by SSLError(SSLEOFError(8, 'EOF occurred in violation of protocol (_ssl.c:997)')))\n",
      "Failed to download file: HTTPSConnectionPool(host='moscow.sci-hub.se', port=443): Max retries exceeded with url: /4624/3e828c9fb78ff4b434932281b77458ba/borkin2016.pdf (Caused by SSLError(SSLEOFError(8, 'EOF occurred in violation of protocol (_ssl.c:997)')))\n",
      "Failed to download file: HTTPSConnectionPool(host='zero.sci-hub.se', port=443): Max retries exceeded with url: /1435/dd330b7c5eacae0109b16c7b103ea201/vincent2007.pdf (Caused by SSLError(SSLEOFError(8, 'EOF occurred in violation of protocol (_ssl.c:997)')))\n",
      "Failed to download file: HTTPSConnectionPool(host='zero.sci-hub.se', port=443): Max retries exceeded with url: /338/dca838e16ccaa4fba81c6e9be16cdb23/azariadis2005.pdf (Caused by SSLError(SSLEOFError(8, 'EOF occurred in violation of protocol (_ssl.c:997)')))\n",
      "Failed to download file: HTTPSConnectionPool(host='dacemirror.sci-hub.se', port=443): Max retries exceeded with url: /journal-article/b969c6645af6fe622935f0f197386fcf/shahabi2015.pdf (Caused by SSLError(SSLEOFError(8, 'EOF occurred in violation of protocol (_ssl.c:997)')))\n",
      "Failed to download file: HTTPSConnectionPool(host='dacemirror.sci-hub.se', port=443): Max retries exceeded with url: /journal-article/5a1b5772133e732602ef7b85df5f1548/xu2003.pdf (Caused by SSLError(SSLEOFError(8, 'EOF occurred in violation of protocol (_ssl.c:997)')))\n",
      "Failed to download file: HTTPSConnectionPool(host='moscow.sci-hub.se', port=443): Max retries exceeded with url: /4132/4546e3eacc7bd4390579f580ff98b91d/10.1162@presa00005.pdf (Caused by SSLError(SSLEOFError(8, 'EOF occurred in violation of protocol (_ssl.c:997)')))\n",
      "Failed to download file: HTTPSConnectionPool(host='zero.sci-hub.se', port=443): Max retries exceeded with url: /3633/c140c089fa12a67023e00711ab615169/adamo2015.pdf (Caused by SSLError(SSLEOFError(8, 'EOF occurred in violation of protocol (_ssl.c:997)')))\n",
      "Failed to download file: HTTPSConnectionPool(host='moscow.sci-hub.se', port=443): Max retries exceeded with url: /1812/9e903dcd0f17eaec8ab484f2f1d18b33/gain2001.pdf (Caused by SSLError(SSLEOFError(8, 'EOF occurred in violation of protocol (_ssl.c:997)')))\n",
      "Failed to download file: Invalid URL 'http:/downloads/2022-11-08/64/dubey2022.pdf#navpanes=0&view=FitH': No host supplied\n",
      "Failed to download file: HTTPSConnectionPool(host='dacemirror.sci-hub.se', port=443): Max retries exceeded with url: /journal-article/91e89beb23352105de0a9c4a65edf072/10.1111@cgf.13072.pdf (Caused by SSLError(SSLEOFError(8, 'EOF occurred in violation of protocol (_ssl.c:997)')))\n",
      "Failed to download file: HTTPSConnectionPool(host='dacemirror.sci-hub.se', port=443): Max retries exceeded with url: /journal-article/86e11ef9bf23182dc4cac35445085860/silcowitz-hansen2010.pdf (Caused by SSLError(SSLEOFError(8, 'EOF occurred in violation of protocol (_ssl.c:997)')))\n",
      "Failed to download file: HTTPSConnectionPool(host='dacemirror.sci-hub.se', port=443): Max retries exceeded with url: /journal-article/f844da0bbe8356d86926248356dfdcef/mousavi2017.pdf (Caused by SSLError(SSLEOFError(8, 'EOF occurred in violation of protocol (_ssl.c:997)')))\n",
      "Failed to download file: HTTPSConnectionPool(host='zero.sci-hub.se', port=443): Max retries exceeded with url: /853/f63e13620ef3c49bb0af4e7e4fc7077e/uz2009.pdf (Caused by SSLError(SSLEOFError(8, 'EOF occurred in violation of protocol (_ssl.c:997)')))\n",
      "Failed to download file: HTTPSConnectionPool(host='dacemirror.sci-hub.se', port=443): Max retries exceeded with url: /journal-article/76925f43bc97e192576eb103371d4adc/cohen1985.pdf (Caused by SSLError(SSLEOFError(8, 'EOF occurred in violation of protocol (_ssl.c:997)')))\n",
      "Failed to download file: HTTPSConnectionPool(host='dacemirror.sci-hub.se', port=443): Max retries exceeded with url: /journal-article/3e357caaa9f7f2138ca107913528a396/lanza2016.pdf (Caused by SSLError(SSLEOFError(8, 'EOF occurred in violation of protocol (_ssl.c:997)')))\n",
      "Failed to download file: HTTPSConnectionPool(host='moscow.sci-hub.se', port=443): Max retries exceeded with url: /1823/74246711a0adc5db4ccb186e12f40ce8/vonfunck2008.pdf (Caused by SSLError(SSLEOFError(8, 'EOF occurred in violation of protocol (_ssl.c:997)')))\n",
      "Failed to download file: HTTPSConnectionPool(host='dacemirror.sci-hub.se', port=443): Max retries exceeded with url: /journal-article/0fe7a02534161573aa1a5219c43ca01c/zhang2017.pdf (Caused by SSLError(SSLEOFError(8, 'EOF occurred in violation of protocol (_ssl.c:997)')))\n",
      "Failed to download file: Invalid URL 'http:/downloads/2020-10-14/84/10.1038@s41467-020-18685-1.pdf#navpanes=0&view=FitH': No host supplied\n",
      "Failed to download file: HTTPSConnectionPool(host='dacemirror.sci-hub.se', port=443): Max retries exceeded with url: /journal-article/34ee439d866ab01911bb4442298d865d/dunn2017.pdf (Caused by SSLError(SSLEOFError(8, 'EOF occurred in violation of protocol (_ssl.c:997)')))\n",
      "Failed to download file: HTTPSConnectionPool(host='moscow.sci-hub.se', port=443): Max retries exceeded with url: /4100/83bd5f1b1be89cdeac5536280174d106/forsyth2006.pdf (Caused by SSLError(SSLEOFError(8, 'EOF occurred in violation of protocol (_ssl.c:997)')))\n",
      "Failed to download file: Invalid URL 'http:/downloads/2019-01-01/f5/ma2018.pdf#navpanes=0&view=FitH': No host supplied\n",
      "Failed to download file: HTTPSConnectionPool(host='zero.sci-hub.se', port=443): Max retries exceeded with url: /6848/6b71d60ecd2e2c3d2da8c0c087d25a46/godfrey2018.pdf (Caused by SSLError(SSLEOFError(8, 'EOF occurred in violation of protocol (_ssl.c:997)')))\n",
      "Failed to download file: HTTPSConnectionPool(host='moscow.sci-hub.se', port=443): Max retries exceeded with url: /4333/7ca603aee6060904c9e35e08aee9c482/he2012.pdf (Caused by SSLError(SSLEOFError(8, 'EOF occurred in violation of protocol (_ssl.c:997)')))\n",
      "Failed to download file: HTTPSConnectionPool(host='moscow.sci-hub.se', port=443): Max retries exceeded with url: /2478/bc33208da6e796519331dc70139d03f5/branson2014.pdf (Caused by SSLError(SSLEOFError(8, 'EOF occurred in violation of protocol (_ssl.c:997)')))\n",
      "Failed to download file: HTTPSConnectionPool(host='zero.sci-hub.se', port=443): Max retries exceeded with url: /4369/23a906010444624c8a2823854072bd5d/vorba2014.pdf (Caused by SSLError(SSLEOFError(8, 'EOF occurred in violation of protocol (_ssl.c:997)')))\n",
      "Failed to download file: HTTPSConnectionPool(host='moscow.sci-hub.se', port=443): Max retries exceeded with url: /1837/ad05366554ffa4323048daa19562bcf7/10.1007@bf01782239.pdf (Caused by SSLError(SSLEOFError(8, 'EOF occurred in violation of protocol (_ssl.c:997)')))\n",
      "Failed to download file: HTTPSConnectionPool(host='zero.sci-hub.se', port=443): Max retries exceeded with url: /1893/96799aa3faf6139a2a78c2ecc973690d/trujillo-barreto2004.pdf (Caused by SSLError(SSLEOFError(8, 'EOF occurred in violation of protocol (_ssl.c:997)')))\n",
      "Failed to download file: HTTPSConnectionPool(host='zero.sci-hub.se', port=443): Max retries exceeded with url: /4850/cb55798fc4d3022ab7066c74d8a16737/khan2016.pdf (Caused by SSLError(SSLEOFError(8, 'EOF occurred in violation of protocol (_ssl.c:997)')))\n",
      "Failed to download file: HTTPSConnectionPool(host='moscow.sci-hub.se', port=443): Max retries exceeded with url: /2048/d917b9811fcb9dd91a35f292bd6c733c/tzafestas1990.pdf (Caused by SSLError(SSLEOFError(8, 'EOF occurred in violation of protocol (_ssl.c:997)')))\n",
      "Failed to download file: HTTPSConnectionPool(host='zero.sci-hub.se', port=443): Max retries exceeded with url: /5864/5b00a63fb4054cf237bfbc749b87b864/kim2016.pdf (Caused by SSLError(SSLEOFError(8, 'EOF occurred in violation of protocol (_ssl.c:997)')))\n",
      "Failed to download file: HTTPSConnectionPool(host='moscow.sci-hub.se', port=443): Max retries exceeded with url: /2156/5c735c015be13257f3dcc4a2861565d9/xue2013.pdf (Caused by SSLError(SSLEOFError(8, 'EOF occurred in violation of protocol (_ssl.c:997)')))\n",
      "Failed to download file: Invalid URL 'http:/downloads/2019-12-18/c0/hu2019.pdf#navpanes=0&view=FitH': No host supplied\n",
      "Failed to download file: HTTPSConnectionPool(host='dacemirror.sci-hub.se', port=443): Max retries exceeded with url: /journal-article/acdf26a1d84427a9ffa28a7e3a88ed9e/cheng2008.pdf (Caused by SSLError(SSLEOFError(8, 'EOF occurred in violation of protocol (_ssl.c:997)')))\n",
      "Failed to download file: HTTPSConnectionPool(host='moscow.sci-hub.se', port=443): Max retries exceeded with url: /3763/5d1752f67623f6284d379b11e9e92711/irving2004.pdf (Caused by SSLError(SSLEOFError(8, 'EOF occurred in violation of protocol (_ssl.c:997)')))\n",
      "Failed to download file: HTTPSConnectionPool(host='zero.sci-hub.se', port=443): Max retries exceeded with url: /2321/7f814f41abce80737d260c6846e2f8ea/xu2014.pdf (Caused by SSLError(SSLEOFError(8, 'EOF occurred in violation of protocol (_ssl.c:997)')))\n",
      "Failed to download file: HTTPSConnectionPool(host='moscow.sci-hub.se', port=443): Max retries exceeded with url: /2209/d68b383f7971cf8b691d8c7b3c39b935/jones2013.pdf (Caused by SSLError(SSLEOFError(8, 'EOF occurred in violation of protocol (_ssl.c:997)')))\n",
      "Failed to download file: HTTPSConnectionPool(host='zero.sci-hub.se', port=443): Max retries exceeded with url: /1822/8a8518b0e711466e4e4651b87e78df41/ziakhan2005.pdf (Caused by SSLError(SSLEOFError(8, 'EOF occurred in violation of protocol (_ssl.c:997)')))\n",
      "Failed to download file: HTTPSConnectionPool(host='dacemirror.sci-hub.se', port=443): Max retries exceeded with url: /journal-article/972bf5e02bf56e19caf93f4b9b7c9001/park2013.pdf (Caused by SSLError(SSLEOFError(8, 'EOF occurred in violation of protocol (_ssl.c:997)')))\n",
      "Failed to download file: HTTPSConnectionPool(host='moscow.sci-hub.se', port=443): Max retries exceeded with url: /1823/dfc1aa2df4a91ad4b19d78b6e6af6be4/qingshanzhang2006.pdf (Caused by SSLError(SSLEOFError(8, 'EOF occurred in violation of protocol (_ssl.c:997)')))\n",
      "Failed to download file: HTTPSConnectionPool(host='zero.sci-hub.se', port=443): Max retries exceeded with url: /7036/7949047a62b6b7f9bbbda8d8a498fc85/burstall2004.pdf (Caused by SSLError(SSLEOFError(8, 'EOF occurred in violation of protocol (_ssl.c:997)')))\n",
      "Failed to download file: HTTPSConnectionPool(host='zero.sci-hub.se', port=443): Max retries exceeded with url: /6120/cbf9b850800ec5354bcf9df48b78a817/yu2016.pdf (Caused by SSLError(SSLEOFError(8, 'EOF occurred in violation of protocol (_ssl.c:997)')))\n",
      "Failed to download file: Invalid URL 'http:/downloads/2019-01-19//c5/luo2018.pdf#navpanes=0&view=FitH': No host supplied\n",
      "Failed to download file: HTTPSConnectionPool(host='moscow.sci-hub.se', port=443): Max retries exceeded with url: /528/523c1ff035404b4c04e559e969c58efc/10.1186@1743-0003-8-30.pdf (Caused by SSLError(SSLEOFError(8, 'EOF occurred in violation of protocol (_ssl.c:997)')))\n",
      "Failed to download file: HTTPSConnectionPool(host='moscow.sci-hub.se', port=443): Max retries exceeded with url: /5153/743f0eaec44b4b5b5958b0bb96b48cf4/geospatial-visual-analytics-2009.pdf (Caused by SSLError(SSLEOFError(8, 'EOF occurred in violation of protocol (_ssl.c:997)')))\n",
      "Failed to download file: Invalid URL 'http:/downloads/2020-07-15/75/zhou2020.pdf#navpanes=0&view=FitH': No host supplied\n",
      "Failed to download file: Invalid URL 'http:/downloads/2020-04-11/32/jia2020.pdf#navpanes=0&view=FitH': No host supplied\n",
      "Failed to download file: HTTPSConnectionPool(host='zero.sci-hub.se', port=443): Max retries exceeded with url: /4411/221ad52adbff661601b02db5dece2f22/gain2008.pdf (Caused by SSLError(SSLEOFError(8, 'EOF occurred in violation of protocol (_ssl.c:997)')))\n",
      "Failed to download file: HTTPSConnectionPool(host='dacemirror.sci-hub.se', port=443): Max retries exceeded with url: /journal-article/7bdc0b03943cc28941517a15666082de/boulkenafet2016.pdf (Caused by SSLError(SSLEOFError(8, 'EOF occurred in violation of protocol (_ssl.c:997)')))\n",
      "Failed to download file: HTTPSConnectionPool(host='dacemirror.sci-hub.se', port=443): Max retries exceeded with url: /journal-article/a6440b237f5045f3a7aacabbb587a5f6/peng2013.pdf (Caused by SSLError(SSLEOFError(8, 'EOF occurred in violation of protocol (_ssl.c:997)')))\n",
      "Failed to download file: HTTPSConnectionPool(host='zero.sci-hub.se', port=443): Max retries exceeded with url: /1366/13ca1b15df0f691a7d4907da480ab4c6/chikkerur2010.pdf (Caused by SSLError(SSLEOFError(8, 'EOF occurred in violation of protocol (_ssl.c:997)')))\n",
      "Failed to download file: HTTPSConnectionPool(host='moscow.sci-hub.se', port=443): Max retries exceeded with url: /731/afec2f949eca2ac161f2d2b44fd65e4e/jiang2006.pdf (Caused by SSLError(SSLEOFError(8, 'EOF occurred in violation of protocol (_ssl.c:997)')))\n",
      "Failed to download file: HTTPSConnectionPool(host='zero.sci-hub.se', port=443): Max retries exceeded with url: /6305/410ac3a37365c441017701700ef12f77/desousa2017.pdf (Caused by SSLError(SSLEOFError(8, 'EOF occurred in violation of protocol (_ssl.c:997)')))\n",
      "Failed to download file: HTTPSConnectionPool(host='moscow.sci-hub.se', port=443): Max retries exceeded with url: /4322/45d8b08b04c48138086a30e18a04614c/mimicking-go-experts-with-convolutional-neural-networks.pdf (Caused by SSLError(SSLEOFError(8, 'EOF occurred in violation of protocol (_ssl.c:997)')))\n",
      "Failed to download file: HTTPSConnectionPool(host='zero.sci-hub.se', port=443): Max retries exceeded with url: /3212/a672d96483d288c1cf12f42e29ff4c11/10.1145@2461912.2461957.pdf (Caused by SSLError(SSLEOFError(8, 'EOF occurred in violation of protocol (_ssl.c:997)')))\n",
      "Failed to download file: HTTPSConnectionPool(host='moscow.sci-hub.se', port=443): Max retries exceeded with url: /3208/2b25aa2a4aac89a9aee3f24dc878ed60/roach1980.pdf (Caused by SSLError(SSLEOFError(8, 'EOF occurred in violation of protocol (_ssl.c:997)')))\n",
      "Failed to download file: HTTPSConnectionPool(host='moscow.sci-hub.se', port=443): Max retries exceeded with url: /2256/b74b77e06b9de4f572d7a5e1b59c284d/skopal2006.pdf (Caused by SSLError(SSLEOFError(8, 'EOF occurred in violation of protocol (_ssl.c:997)')))\n",
      "Failed to download file: HTTPSConnectionPool(host='dacemirror.sci-hub.se', port=443): Max retries exceeded with url: /journal-article/2febf7617d5ed051246bd93ab9ba7d46/buerger2012.pdf (Caused by SSLError(SSLEOFError(8, 'EOF occurred in violation of protocol (_ssl.c:997)')))\n",
      "Failed to download file: HTTPSConnectionPool(host='moscow.sci-hub.se', port=443): Max retries exceeded with url: /3197/7034675a8023f6d142c126c0eccbdb3d/lewiner2003.pdf (Caused by SSLError(SSLEOFError(8, 'EOF occurred in violation of protocol (_ssl.c:997)')))\n",
      "Failed to download file: HTTPSConnectionPool(host='dacemirror.sci-hub.se', port=443): Max retries exceeded with url: /journal-article/2ada58ad8b654f2929fe05343ee3848b/fasoli2012.pdf (Caused by SSLError(SSLEOFError(8, 'EOF occurred in violation of protocol (_ssl.c:997)')))\n",
      "Failed to download file: HTTPSConnectionPool(host='moscow.sci-hub.se', port=443): Max retries exceeded with url: /891/f7a26e69232d0f96a8d197b5bda2aebb/carlson2004.pdf (Caused by SSLError(SSLEOFError(8, 'EOF occurred in violation of protocol (_ssl.c:997)')))\n",
      "Failed to download file: HTTPSConnectionPool(host='zero.sci-hub.se', port=443): Max retries exceeded with url: /202/a3cf160db624ca64301b1ecace8377f9/loh1981.pdf (Caused by SSLError(SSLEOFError(8, 'EOF occurred in violation of protocol (_ssl.c:997)')))\n",
      "Failed to download file: HTTPSConnectionPool(host='moscow.sci-hub.se', port=443): Max retries exceeded with url: /2242/9911cbd4481cf2f5bc056ddff861acaf/he2013.pdf (Caused by SSLError(SSLEOFError(8, 'EOF occurred in violation of protocol (_ssl.c:997)')))\n",
      "Failed to download file: HTTPSConnectionPool(host='dacemirror.sci-hub.se', port=443): Max retries exceeded with url: /journal-article/452949c48f2551a855e2781cd5e7d57a/golparvar-fard2013.pdf (Caused by SSLError(SSLEOFError(8, 'EOF occurred in violation of protocol (_ssl.c:997)')))\n",
      "Failed to download file: HTTPSConnectionPool(host='zero.sci-hub.se', port=443): Max retries exceeded with url: /476/665a5af4f17281eb1e8c06946d139e7e/ribo2001.pdf (Caused by SSLError(SSLEOFError(8, 'EOF occurred in violation of protocol (_ssl.c:997)')))\n",
      "Failed to download file: HTTPSConnectionPool(host='moscow.sci-hub.se', port=443): Max retries exceeded with url: /2271/e1b3ece481ca3804eeca58fab2b32882/joshi2000.pdf (Caused by SSLError(SSLEOFError(8, 'EOF occurred in violation of protocol (_ssl.c:997)')))\n",
      "Failed to download file: HTTPSConnectionPool(host='moscow.sci-hub.se', port=443): Max retries exceeded with url: /2619/58824ff4c4b3b9c571dc9610f12318ce/brunton2014.pdf (Caused by SSLError(SSLEOFError(8, 'EOF occurred in violation of protocol (_ssl.c:997)')))\n",
      "Failed to download file: HTTPSConnectionPool(host='zero.sci-hub.se', port=443): Max retries exceeded with url: /1448/49067af6d56337f35eb1a2dddab7b4e2/correa2011.pdf (Caused by SSLError(SSLEOFError(8, 'EOF occurred in violation of protocol (_ssl.c:997)')))\n",
      "Failed to download file: HTTPSConnectionPool(host='moscow.sci-hub.se', port=443): Max retries exceeded with url: /5289/24be177a3c8f3c342e656bb826cb8bac/howard2007.pdf (Caused by SSLError(SSLEOFError(8, 'EOF occurred in violation of protocol (_ssl.c:997)')))\n",
      "Failed to download file: HTTPSConnectionPool(host='dacemirror.sci-hub.se', port=443): Max retries exceeded with url: /journal-article/5cb104454bad480afe59fd6a793c787f/fu2011.pdf (Caused by SSLError(SSLEOFError(8, 'EOF occurred in violation of protocol (_ssl.c:997)')))\n",
      "Failed to download file: HTTPSConnectionPool(host='dacemirror.sci-hub.se', port=443): Max retries exceeded with url: /journal-article/f956e74c6a772d0bc95997389541146d/chattopadhyay2016.pdf (Caused by SSLError(SSLEOFError(8, 'EOF occurred in violation of protocol (_ssl.c:997)')))\n",
      "Failed to download file: HTTPSConnectionPool(host='zero.sci-hub.se', port=443): Max retries exceeded with url: /4913/68cfbc6cda3aa79f5a2c633983a5a146/page2005.pdf (Caused by SSLError(SSLEOFError(8, 'EOF occurred in violation of protocol (_ssl.c:997)')))\n",
      "Failed to download file: HTTPSConnectionPool(host='dacemirror.sci-hub.se', port=443): Max retries exceeded with url: /journal-article/50fb84cc0565825be953008f5de0e652/raguram2013.pdf (Caused by SSLError(SSLEOFError(8, 'EOF occurred in violation of protocol (_ssl.c:997)')))\n",
      "Failed to download file: HTTPSConnectionPool(host='moscow.sci-hub.se', port=443): Max retries exceeded with url: /767/95cca8c3f05dd4bd22b594b343a62cf8/ahn2008.pdf (Caused by SSLError(SSLEOFError(8, 'EOF occurred in violation of protocol (_ssl.c:997)')))\n",
      "Failed to download file: HTTPSConnectionPool(host='dacemirror.sci-hub.se', port=443): Max retries exceeded with url: /journal-article/a0d2caf8f32ace346b8b75d8a0eeae3b/dhall2008.pdf (Caused by SSLError(SSLEOFError(8, 'EOF occurred in violation of protocol (_ssl.c:997)')))\n",
      "Failed to download file: HTTPSConnectionPool(host='zero.sci-hub.se', port=443): Max retries exceeded with url: /202/9b7c778a86df12a61bb133441aac85f4/martin1990.pdf (Caused by SSLError(SSLEOFError(8, 'EOF occurred in violation of protocol (_ssl.c:997)')))\n",
      "Failed to download file: HTTPSConnectionPool(host='moscow.sci-hub.se', port=443): Max retries exceeded with url: /3018/c47b7941dd1f953a9d7050df037cf9e5/zhang2015.pdf (Caused by SSLError(SSLEOFError(8, 'EOF occurred in violation of protocol (_ssl.c:997)')))\n",
      "Failed to download file: HTTPSConnectionPool(host='moscow.sci-hub.se', port=443): Max retries exceeded with url: /3796/722cea7f66f9f78d453e6a1f4b04a199/liu2015.pdf (Caused by SSLError(SSLEOFError(8, 'EOF occurred in violation of protocol (_ssl.c:997)')))\n",
      "Failed to download file: HTTPSConnectionPool(host='moscow.sci-hub.se', port=443): Max retries exceeded with url: /4565/d238bfa61727be53548e50be52c39ac7/sawhney1998.pdf (Caused by SSLError(SSLEOFError(8, 'EOF occurred in violation of protocol (_ssl.c:997)')))\n",
      "Failed to download file: HTTPSConnectionPool(host='dacemirror.sci-hub.se', port=443): Max retries exceeded with url: /journal-article/8f55d588dc6d6a1e633394674f591ec8/papaioannou2002.pdf (Caused by SSLError(SSLEOFError(8, 'EOF occurred in violation of protocol (_ssl.c:997)')))\n",
      "Failed to download file: HTTPSConnectionPool(host='moscow.sci-hub.se', port=443): Max retries exceeded with url: /3042/b9fc6839555f30e4cbdb819c4ce493d6/klein2009.pdf (Caused by SSLError(SSLEOFError(8, 'EOF occurred in violation of protocol (_ssl.c:997)')))\n",
      "Failed to download file: Invalid URL 'http:/downloads/2020-09-03/7c/bian2020.pdf#navpanes=0&view=FitH': No host supplied\n",
      "Failed to download file: HTTPSConnectionPool(host='dacemirror.sci-hub.se', port=443): Max retries exceeded with url: /journal-article/b63e6a7c577df7c4838cc9a75a088ae4/wu2013.pdf (Caused by SSLError(SSLEOFError(8, 'EOF occurred in violation of protocol (_ssl.c:997)')))\n",
      "Failed to download file: HTTPSConnectionPool(host='zero.sci-hub.se', port=443): Max retries exceeded with url: /942/4659a817dd4aa69393e27ae1f72c454a/schnabel2007.pdf (Caused by SSLError(SSLEOFError(8, 'EOF occurred in violation of protocol (_ssl.c:997)')))\n",
      "Failed to download file: HTTPSConnectionPool(host='zero.sci-hub.se', port=443): Max retries exceeded with url: /2094/83c2120b8ff24a3eb01e386f97bc600c/arge2002.pdf (Caused by SSLError(SSLEOFError(8, 'EOF occurred in violation of protocol (_ssl.c:997)')))\n",
      "Failed to download file: HTTPSConnectionPool(host='dacemirror.sci-hub.se', port=443): Max retries exceeded with url: /journal-article/7d01b7a2529469f07a42b2c6907ac8c1/reynisson2014.pdf (Caused by SSLError(SSLEOFError(8, 'EOF occurred in violation of protocol (_ssl.c:997)')))\n",
      "Failed to download file: Invalid URL 'http:/downloads/2020-12-24/d5/gu2020.pdf#navpanes=0&view=FitH': No host supplied\n",
      "Failed to download file: HTTPSConnectionPool(host='moscow.sci-hub.se', port=443): Max retries exceeded with url: /1849/ecbb6f79e1145ff870abda0a50991066/fieguth2010.pdf (Caused by SSLError(SSLEOFError(8, 'EOF occurred in violation of protocol (_ssl.c:997)')))\n",
      "Failed to download file: HTTPSConnectionPool(host='zero.sci-hub.se', port=443): Max retries exceeded with url: /305/1150b3d1c9bb4a23e529833203b73694/son2011.pdf (Caused by SSLError(SSLEOFError(8, 'EOF occurred in violation of protocol (_ssl.c:997)')))\n",
      "Failed to download file: Invalid URL 'http:/tree/37/19/3719067ab4ed21e9fe3f2a03ab5b1aa6.pdf#navpanes=0&view=FitH': No host supplied\n",
      "Failed to download file: HTTPSConnectionPool(host='moscow.sci-hub.se', port=443): Max retries exceeded with url: /3096/e3cc79e2d237587c996d82db1128f5ba/liu2012.pdf (Caused by SSLError(SSLEOFError(8, 'EOF occurred in violation of protocol (_ssl.c:997)')))\n",
      "Failed to download file: Invalid URL 'http:/downloads/2019-08-22/ef/yuan2019.pdf#navpanes=0&view=FitH': No host supplied\n",
      "Failed to download file: HTTPSConnectionPool(host='moscow.sci-hub.se', port=443): Max retries exceeded with url: /4386/38450cebcb1d141f97f5918f7453c236/ochmann2016.pdf (Caused by SSLError(SSLEOFError(8, 'EOF occurred in violation of protocol (_ssl.c:997)')))\n",
      "Failed to download file: HTTPSConnectionPool(host='dacemirror.sci-hub.se', port=443): Max retries exceeded with url: /journal-article/034953bba82f5e307c710b705cda36ec/dong2014.pdf (Caused by SSLError(SSLEOFError(8, 'EOF occurred in violation of protocol (_ssl.c:997)')))\n",
      "Failed to download file: HTTPSConnectionPool(host='dacemirror.sci-hub.se', port=443): Max retries exceeded with url: /journal-article/8b029e06c7e159a8c3c5c4dafe482d95/yixinchen2002.pdf (Caused by SSLError(SSLEOFError(8, 'EOF occurred in violation of protocol (_ssl.c:997)')))\n",
      "Failed to download file: Invalid URL 'http:/downloads/2019-01-14//b5/10.1089@brain.2018.0608.pdf#navpanes=0&view=FitH': No host supplied\n",
      "Failed to download file: HTTPSConnectionPool(host='dacemirror.sci-hub.se', port=443): Max retries exceeded with url: /journal-article/b771cfe19144e0eacff07b945000952b/xu1999.pdf (Caused by SSLError(SSLEOFError(8, 'EOF occurred in violation of protocol (_ssl.c:997)')))\n",
      "Failed to download file: HTTPSConnectionPool(host='zero.sci-hub.se', port=443): Max retries exceeded with url: /6844/f0d5b61f343eb44ebddad2b2a93a6ddb/brichet2017.pdf (Caused by SSLError(SSLEOFError(8, 'EOF occurred in violation of protocol (_ssl.c:997)')))\n",
      "Failed to download file: HTTPSConnectionPool(host='zero.sci-hub.se', port=443): Max retries exceeded with url: /7143/8f00adf1e8c33bb1caa6c370a8579633/wu2018.pdf (Caused by SSLError(SSLEOFError(8, 'EOF occurred in violation of protocol (_ssl.c:997)')))\n",
      "Failed to download file: Invalid URL 'http:/downloads/2022-11-04/6b/16th-international-conference-on-soft-computing-models-in-indust-2022.pdf#navpanes=0&view=FitH': No host supplied\n",
      "Failed to download file: HTTPSConnectionPool(host='zero.sci-hub.se', port=443): Max retries exceeded with url: /3002/c7040303fc19f6c3470520e62424473a/wan-leizhao2007.pdf (Caused by SSLError(SSLEOFError(8, 'EOF occurred in violation of protocol (_ssl.c:997)')))\n",
      "Failed to download file: Invalid URL 'http:/downloads/2019-07-08/cf/yan2018.pdf#navpanes=0&view=FitH': No host supplied\n",
      "Failed to download file: Invalid URL 'http:/downloads/2022-11-13/fc/jiang2021.pdf#navpanes=0&view=FitH': No host supplied\n",
      "Failed to download file: HTTPSConnectionPool(host='dacemirror.sci-hub.se', port=443): Max retries exceeded with url: /journal-article/93299d57788d7b2ed77fc28a7e804d0e/sheley1996.pdf (Caused by SSLError(SSLEOFError(8, 'EOF occurred in violation of protocol (_ssl.c:997)')))\n",
      "Failed to download file: HTTPSConnectionPool(host='moscow.sci-hub.se', port=443): Max retries exceeded with url: /4612/31172f676191e2cc6397466f6c266bc3/alliez2008.pdf (Caused by SSLError(SSLEOFError(8, 'EOF occurred in violation of protocol (_ssl.c:997)')))\n",
      "Failed to download file: HTTPSConnectionPool(host='zero.sci-hub.se', port=443): Max retries exceeded with url: /6207/f84a7792d5fd0d65db5e972d2909b261/dennis2013.pdf (Caused by SSLError(SSLEOFError(8, 'EOF occurred in violation of protocol (_ssl.c:997)')))\n",
      "Failed to download file: HTTPSConnectionPool(host='moscow.sci-hub.se', port=443): Max retries exceeded with url: /3185/eece20390ca9196738d79412f1866001/morigi2008.pdf (Caused by SSLError(SSLEOFError(8, 'EOF occurred in violation of protocol (_ssl.c:997)')))\n",
      "Failed to download file: HTTPSConnectionPool(host='zero.sci-hub.se', port=443): Max retries exceeded with url: /6042/fded18412087e9974538ed4237e30a1a/shi2016.pdf (Caused by SSLError(SSLEOFError(8, 'EOF occurred in violation of protocol (_ssl.c:997)')))\n",
      "Failed to download file: Invalid URL 'http:/downloads/2022-11-08/d157/wang2021.pdf#navpanes=0&view=FitH': No host supplied\n",
      "Failed to download file: Invalid URL 'http:/downloads/2019-01-21//00/bai2018.pdf#navpanes=0&view=FitH': No host supplied\n",
      "Failed to download file: HTTPSConnectionPool(host='dacemirror.sci-hub.se', port=443): Max retries exceeded with url: /journal-article/45429991c6c9c22e70367f5cf773b305/carpendale1997.pdf (Caused by SSLError(SSLEOFError(8, 'EOF occurred in violation of protocol (_ssl.c:997)')))\n",
      "Failed to download file: HTTPSConnectionPool(host='zero.sci-hub.se', port=443): Max retries exceeded with url: /399/f76598de159dce6f8ccd7d1225ef0f8d/namba1999.pdf (Caused by SSLError(SSLEOFError(8, 'EOF occurred in violation of protocol (_ssl.c:997)')))\n",
      "Failed to download file: HTTPSConnectionPool(host='moscow.sci-hub.se', port=443): Max retries exceeded with url: /756/613a4035912b65555fe102ccfa1a1f9f/hughes1997.pdf (Caused by SSLError(SSLEOFError(8, 'EOF occurred in violation of protocol (_ssl.c:997)')))\n",
      "Failed to download file: HTTPSConnectionPool(host='dacemirror.sci-hub.se', port=443): Max retries exceeded with url: /journal-article/62b6b8701d6bc8f6bb26337c310d23e4/seitz2000.pdf (Caused by SSLError(SSLEOFError(8, 'EOF occurred in violation of protocol (_ssl.c:997)')))\n",
      "Failed to download file: HTTPSConnectionPool(host='moscow.sci-hub.se', port=443): Max retries exceeded with url: /2994/f70feb0c05ffa770478cb471db182439/donnelly2010.pdf (Caused by SSLError(SSLEOFError(8, 'EOF occurred in violation of protocol (_ssl.c:997)')))\n",
      "Failed to download file: HTTPSConnectionPool(host='moscow.sci-hub.se', port=443): Max retries exceeded with url: /4473/000d0b2eea440e7b633e4615d97a2f09/liebrand1983.pdf (Caused by SSLError(SSLEOFError(8, 'EOF occurred in violation of protocol (_ssl.c:997)')))\n",
      "Failed to download file: Invalid URL 'http:/downloads/2019-08-10/9f/10.1109@TPAMI.2019.2930258.pdf#navpanes=0&view=FitH': No host supplied\n",
      "Failed to download file: HTTPSConnectionPool(host='moscow.sci-hub.se', port=443): Max retries exceeded with url: /764/e38b686a85ddbd9e675154a6a1b0b2ee/bar-yosef2007.pdf (Caused by SSLError(SSLEOFError(8, 'EOF occurred in violation of protocol (_ssl.c:997)')))\n",
      "Failed to download file: HTTPSConnectionPool(host='moscow.sci-hub.se', port=443): Max retries exceeded with url: /4566/072b1c8c091528cde779403278fc9d9c/pintus2011.pdf (Caused by SSLError(SSLEOFError(8, 'EOF occurred in violation of protocol (_ssl.c:997)')))\n",
      "Failed to download file: HTTPSConnectionPool(host='moscow.sci-hub.se', port=443): Max retries exceeded with url: /942/850675d7e7faf69a96fbc614c443b848/agus2008.pdf (Caused by SSLError(SSLEOFError(8, 'EOF occurred in violation of protocol (_ssl.c:997)')))\n",
      "Failed to download file: Invalid URL 'http:/tree/b5/6b/b56bb8b81b38f23be4f33df04e0d1980.pdf#navpanes=0&view=FitH': No host supplied\n",
      "Failed to download file: HTTPSConnectionPool(host='zero.sci-hub.se', port=443): Max retries exceeded with url: /3313/3cc81415491da7f3668954a9c7f28182/paz2007.pdf (Caused by SSLError(SSLEOFError(8, 'EOF occurred in violation of protocol (_ssl.c:997)')))\n",
      "Failed to download file: HTTPSConnectionPool(host='dacemirror.sci-hub.se', port=443): Max retries exceeded with url: /journal-article/e08448a524f0897732735d71a2690f0f/gauch1993.pdf (Caused by SSLError(SSLEOFError(8, 'EOF occurred in violation of protocol (_ssl.c:997)')))\n",
      "Failed to download file: HTTPSConnectionPool(host='dacemirror.sci-hub.se', port=443): Max retries exceeded with url: /journal-article/66f3872f0de0adeaba13ad5383007bee/weeger2016.pdf (Caused by SSLError(SSLEOFError(8, 'EOF occurred in violation of protocol (_ssl.c:997)')))\n",
      "Failed to download file: HTTPSConnectionPool(host='moscow.sci-hub.se', port=443): Max retries exceeded with url: /4524/b1331aae79cfa935ece45aaa413c1ef6/lombardi2016.pdf (Caused by SSLError(SSLEOFError(8, 'EOF occurred in violation of protocol (_ssl.c:997)')))\n",
      "Failed to download file: HTTPSConnectionPool(host='moscow.sci-hub.se', port=443): Max retries exceeded with url: /4938/c4f2ccccf971f6875095936a2ce9ab11/zitnick2016.pdf (Caused by SSLError(SSLEOFError(8, 'EOF occurred in violation of protocol (_ssl.c:997)')))\n",
      "Failed to download file: Invalid URL 'http:/downloads/2019-01-08/09/li2012.pdf#navpanes=0&view=FitH': No host supplied\n",
      "Failed to download file: HTTPSConnectionPool(host='dacemirror.sci-hub.se', port=443): Max retries exceeded with url: /journal-article/cc9926b0e3b6dd18ed224163e630e0b5/ezuz2017.pdf (Caused by SSLError(SSLEOFError(8, 'EOF occurred in violation of protocol (_ssl.c:997)')))\n",
      "Failed to download file: Invalid URL 'http:/downloads/2019-10-13/ca/dong2019.pdf#navpanes=0&view=FitH': No host supplied\n",
      "Failed to download file: HTTPSConnectionPool(host='moscow.sci-hub.se', port=443): Max retries exceeded with url: /1822/5a4065365232800fd878d49d8bcdaff2/tuzel2008.pdf (Caused by SSLError(SSLEOFError(8, 'EOF occurred in violation of protocol (_ssl.c:997)')))\n",
      "Failed to download file: HTTPSConnectionPool(host='dacemirror.sci-hub.se', port=443): Max retries exceeded with url: /journal-article/e522cb43ddcffdbac847e78939fdc78e/zhang2014.pdf (Caused by SSLError(SSLEOFError(8, 'EOF occurred in violation of protocol (_ssl.c:997)')))\n",
      "Failed to download file: HTTPSConnectionPool(host='zero.sci-hub.se', port=443): Max retries exceeded with url: /448/0a8eaa418ce9b7771100ec0c7ba943c0/chen2001.pdf (Caused by SSLError(SSLEOFError(8, 'EOF occurred in violation of protocol (_ssl.c:997)')))\n",
      "Failed to download file: HTTPSConnectionPool(host='dacemirror.sci-hub.se', port=443): Max retries exceeded with url: /journal-article/ab5fa3ba1100fb10748655b64a32d6b9/lee2006.pdf (Caused by SSLError(SSLEOFError(8, 'EOF occurred in violation of protocol (_ssl.c:997)')))\n",
      "Failed to download file: HTTPSConnectionPool(host='dacemirror.sci-hub.se', port=443): Max retries exceeded with url: /journal-article/0cb92ce3b4ea0e4beea0c34ccf63a143/bruckner2006.pdf (Caused by SSLError(SSLEOFError(8, 'EOF occurred in violation of protocol (_ssl.c:997)')))\n",
      "Failed to download file: HTTPSConnectionPool(host='moscow.sci-hub.se', port=443): Max retries exceeded with url: /942/b89a0eeb7335a5b594401499ab8c8c20/wicke2007.pdf (Caused by SSLError(SSLEOFError(8, 'EOF occurred in violation of protocol (_ssl.c:997)')))\n",
      "Failed to download file: HTTPSConnectionPool(host='dacemirror.sci-hub.se', port=443): Max retries exceeded with url: /journal-article/2dd768fb6d198de6a5bf038830152bd1/wang1994.pdf (Caused by SSLError(SSLEOFError(8, 'EOF occurred in violation of protocol (_ssl.c:997)')))\n",
      "Failed to download file: HTTPSConnectionPool(host='dacemirror.sci-hub.se', port=443): Max retries exceeded with url: /journal-article/e3cb8d400cf45cb22da94b33823c403a/yan2014.pdf (Caused by SSLError(SSLEOFError(8, 'EOF occurred in violation of protocol (_ssl.c:997)')))\n",
      "Failed to download file: HTTPSConnectionPool(host='zero.sci-hub.se', port=443): Max retries exceeded with url: /5790/27839e8b4449b8e2c0a096352a41af01/roberts2016.pdf (Caused by SSLError(SSLEOFError(8, 'EOF occurred in violation of protocol (_ssl.c:997)')))\n",
      "Failed to download file: HTTPSConnectionPool(host='moscow.sci-hub.se', port=443): Max retries exceeded with url: /1928/3ee0b4e79e10ae474db5d3dfeece3cfb/alexa2003.pdf (Caused by SSLError(SSLEOFError(8, 'EOF occurred in violation of protocol (_ssl.c:997)')))\n",
      "Failed to download file: HTTPSConnectionPool(host='zero.sci-hub.se', port=443): Max retries exceeded with url: /853/bde842342b6c49f63b6fedb5575cefc0/gauch2006.pdf (Caused by SSLError(SSLEOFError(8, 'EOF occurred in violation of protocol (_ssl.c:997)')))\n",
      "Failed to download file: HTTPSConnectionPool(host='moscow.sci-hub.se', port=443): Max retries exceeded with url: /3308/7c72014e8bd5e3045daa07f7384c1774/civera2007.pdf (Caused by SSLError(SSLEOFError(8, 'EOF occurred in violation of protocol (_ssl.c:997)')))\n",
      "Failed to download file: HTTPSConnectionPool(host='zero.sci-hub.se', port=443): Max retries exceeded with url: /2115/32939e63b235b7c174633d0c99ad0e94/wada2004.pdf (Caused by SSLError(SSLEOFError(8, 'EOF occurred in violation of protocol (_ssl.c:997)')))\n",
      "Failed to download file: HTTPSConnectionPool(host='moscow.sci-hub.se', port=443): Max retries exceeded with url: /3119/ca32acd07698cf78d1db94b585f44403/erzin2006.pdf (Caused by SSLError(SSLEOFError(8, 'EOF occurred in violation of protocol (_ssl.c:997)')))\n",
      "Failed to download file: HTTPSConnectionPool(host='dacemirror.sci-hub.se', port=443): Max retries exceeded with url: /journal-article/9d93e3e618b89d9553ad2f8adc4c34a0/lindseth2003.pdf (Caused by SSLError(SSLEOFError(8, 'EOF occurred in violation of protocol (_ssl.c:997)')))\n",
      "Failed to download file: HTTPSConnectionPool(host='dacemirror.sci-hub.se', port=443): Max retries exceeded with url: /journal-article/fbf71dd0240c84dd9c2e16ec8b935d44/sugiyama1992.pdf (Caused by SSLError(SSLEOFError(8, 'EOF occurred in violation of protocol (_ssl.c:997)')))\n",
      "Failed to download file: HTTPSConnectionPool(host='zero.sci-hub.se', port=443): Max retries exceeded with url: /942/a66b615a516d2102e91e9c39a3dc832e/eisemann2008.pdf (Caused by SSLError(SSLEOFError(8, 'EOF occurred in violation of protocol (_ssl.c:997)')))\n",
      "Failed to download file: HTTPSConnectionPool(host='dacemirror.sci-hub.se', port=443): Max retries exceeded with url: /journal-article/a911c10155b38b22a4b6801b7d115350/vanleijsen2017.pdf (Caused by SSLError(SSLEOFError(8, 'EOF occurred in violation of protocol (_ssl.c:997)')))\n",
      "Failed to download file: Invalid URL 'http:/downloads/2021-06-14/50/bitterli2020.pdf#navpanes=0&view=FitH': No host supplied\n",
      "Failed to download file: HTTPSConnectionPool(host='zero.sci-hub.se', port=443): Max retries exceeded with url: /1537/ca901875177dd575b4256f2e56426e1b/tzimiropoulos2010.pdf (Caused by SSLError(SSLEOFError(8, 'EOF occurred in violation of protocol (_ssl.c:997)')))Failed to download file: HTTPSConnectionPool(host='zero.sci-hub.se', port=443): Max retries exceeded with url: /5413/ec666da1eb571b9bf81e0f40eb853e87/bridges1984.pdf (Caused by SSLError(SSLEOFError(8, 'EOF occurred in violation of protocol (_ssl.c:997)')))\n",
      "\n",
      "Failed to download file: Invalid URL 'http:/downloads/2020-05-02/4b/dong2020.pdf#navpanes=0&view=FitH': No host supplied\n",
      "Failed to download file: HTTPSConnectionPool(host='zero.sci-hub.se', port=443): Max retries exceeded with url: /1813/6cdeb68320b97246cd5d016d9f68c816/murase1992.pdf (Caused by SSLError(SSLEOFError(8, 'EOF occurred in violation of protocol (_ssl.c:997)')))\n",
      "Failed to download file: HTTPSConnectionPool(host='moscow.sci-hub.se', port=443): Max retries exceeded with url: /4448/26db09197a8218ed147636ae265c9bd4/brehm2012.pdf (Caused by SSLError(SSLEOFError(8, 'EOF occurred in violation of protocol (_ssl.c:997)')))\n",
      "Failed to download file: HTTPSConnectionPool(host='dacemirror.sci-hub.se', port=443): Max retries exceeded with url: /journal-article/a75f7958836159d62d683f479d074312/peng2004.pdf (Caused by SSLError(SSLEOFError(8, 'EOF occurred in violation of protocol (_ssl.c:997)')))\n",
      "Failed to download file: HTTPSConnectionPool(host='zero.sci-hub.se', port=443): Max retries exceeded with url: /6198/538ee3a3b1fccff79f0e833c64f81e6f/kiku2016.pdf (Caused by SSLError(SSLEOFError(8, 'EOF occurred in violation of protocol (_ssl.c:997)')))\n",
      "Failed to download file: HTTPSConnectionPool(host='zero.sci-hub.se', port=443): Max retries exceeded with url: /3758/9627f4f6550b3d620336c1d8b9f065ad/visual-tracking-of-high-dof-articulated-structures-an-applicatio.pdf (Caused by SSLError(SSLEOFError(8, 'EOF occurred in violation of protocol (_ssl.c:997)')))\n",
      "Failed to download file: status code 403\n",
      "Failed to download file: Invalid URL 'http:/downloads/2019-04-09/8e/wald2006.pdf#navpanes=0&view=FitH': No host supplied\n",
      "Failed to download file: status code 403\n",
      "Failed to download file: status code 403\n",
      "Failed to download file: HTTPSConnectionPool(host='zero.sci-hub.se', port=443): Max retries exceeded with url: /3580/71e130716167edbf9073867765aeb4c1/kim2012.pdf (Caused by SSLError(SSLEOFError(8, 'EOF occurred in violation of protocol (_ssl.c:997)')))\n",
      "Failed to download file: HTTPSConnectionPool(host='dacemirror.sci-hub.se', port=443): Max retries exceeded with url: /journal-article/ca469f1d60d40949d1f7b6207cb5dca7/theisel2005.pdf (Caused by SSLError(SSLEOFError(8, 'EOF occurred in violation of protocol (_ssl.c:997)')))\n",
      "Failed to download file: HTTPSConnectionPool(host='dacemirror.sci-hub.se', port=443): Max retries exceeded with url: /journal-article/3bcd85cf4b03946c0cd6cdc9c2c60b37/bau2017.pdf (Caused by SSLError(SSLEOFError(8, 'EOF occurred in violation of protocol (_ssl.c:997)')))\n",
      "Failed to download file: status code 403\n",
      "Failed to download file: Invalid URL 'http:/downloads/2019-08-21/af/heinesen2019.pdf#navpanes=0&view=FitH': No host supplied\n",
      "Failed to download file: status code 403\n",
      "Failed to download file: HTTPSConnectionPool(host='zero.sci-hub.se', port=443): Max retries exceeded with url: /6893/8a12c9e9b7a954590dd06de4228d89ed/smith1985.pdf (Caused by SSLError(SSLEOFError(8, 'EOF occurred in violation of protocol (_ssl.c:997)')))\n",
      "Failed to download file: Invalid URL 'http:/downloads/2019-10-26/c1/macklin2019.pdf#navpanes=0&view=FitH': No host supplied\n",
      "Failed to download file: status code 403\n",
      "Failed to download file: HTTPSConnectionPool(host='dacemirror.sci-hub.se', port=443): Max retries exceeded with url: /journal-article/d3e216c1323d1da42908a82da3d2c4d9/yu-shuenwang2008.pdf (Caused by SSLError(SSLEOFError(8, 'EOF occurred in violation of protocol (_ssl.c:997)')))\n",
      "Failed to download file: status code 403\n",
      "Failed to download file: HTTPSConnectionPool(host='zero.sci-hub.se', port=443): Max retries exceeded with url: /1138/fba355bb0db9cb331cff8849dbd6fd04/macdonald2000.pdf (Caused by SSLError(SSLEOFError(8, 'EOF occurred in violation of protocol (_ssl.c:997)')))\n",
      "Failed to download file: status code 403\n",
      "Failed to download file: status code 403Failed to download file: HTTPSConnectionPool(host='dacemirror.sci-hub.se', port=443): Max retries exceeded with url: /journal-article/58034e1215e8e1c5399d2976e307501f/chandrasekhar2011.pdf (Caused by SSLError(SSLEOFError(8, 'EOF occurred in violation of protocol (_ssl.c:997)')))\n",
      "\n",
      "Failed to download file: HTTPSConnectionPool(host='dacemirror.sci-hub.se', port=443): Max retries exceeded with url: /journal-article/1e238791f4267b6f18ef73b160fafc9e/guo2018.pdf (Caused by SSLError(SSLEOFError(8, 'EOF occurred in violation of protocol (_ssl.c:997)')))\n",
      "Failed to download file: status code 403\n",
      "Failed to download file: HTTPSConnectionPool(host='dacemirror.sci-hub.se', port=443): Max retries exceeded with url: /journal-article/885aad51574710c42ca4b5d57c5656f0/valenti2012.pdf (Caused by SSLError(SSLEOFError(8, 'EOF occurred in violation of protocol (_ssl.c:997)')))\n",
      "Failed to download file: HTTPSConnectionPool(host='zero.sci-hub.se', port=443): Max retries exceeded with url: /3670/30837a025ff361e5dda993fd7bdc1f5a/tuzzolino2004.pdf (Caused by SSLError(SSLEOFError(8, 'EOF occurred in violation of protocol (_ssl.c:997)')))\n",
      "Failed to download file: HTTPSConnectionPool(host='zero.sci-hub.se', port=443): Max retries exceeded with url: /6298/1cf7fae94bc86b7301fb2ace34b2c31b/bai2010.pdf (Caused by SSLError(SSLEOFError(8, 'EOF occurred in violation of protocol (_ssl.c:997)')))\n",
      "Failed to download file: HTTPSConnectionPool(host='dacemirror.sci-hub.se', port=443): Max retries exceeded with url: /journal-article/e04078dc065517a86bf4747e5fce6abd/dandois2017.pdf (Caused by SSLError(SSLEOFError(8, 'EOF occurred in violation of protocol (_ssl.c:997)')))\n",
      "Failed to download file: status code 403\n",
      "Failed to download file: HTTPSConnectionPool(host='zero.sci-hub.se', port=443): Max retries exceeded with url: /1782/4ca4d80e1bbd94cf6e26b3bee5b5a49b/reply-2003.pdf (Caused by SSLError(SSLEOFError(8, 'EOF occurred in violation of protocol (_ssl.c:997)')))\n",
      "Failed to download file: HTTPSConnectionPool(host='dacemirror.sci-hub.se', port=443): Max retries exceeded with url: /journal-article/d235fa77df90417533951fc14167c2c4/rohling1999.pdf (Caused by SSLError(SSLEOFError(8, 'EOF occurred in violation of protocol (_ssl.c:997)')))\n",
      "Failed to download file: HTTPSConnectionPool(host='zero.sci-hub.se', port=443): Max retries exceeded with url: /6905/e4613469b456c6c04f7ad90475376a46/jiang2018.pdf (Caused by SSLError(SSLEOFError(8, 'EOF occurred in violation of protocol (_ssl.c:997)')))\n",
      "Failed to download file: HTTPSConnectionPool(host='dacemirror.sci-hub.se', port=443): Max retries exceeded with url: /journal-article/3a4c54245b702e1314bde091cfd8a1a1/zhang2017.pdf (Caused by SSLError(SSLEOFError(8, 'EOF occurred in violation of protocol (_ssl.c:997)')))\n",
      "Failed to download file: HTTPSConnectionPool(host='zero.sci-hub.se', port=443): Max retries exceeded with url: /6926/329998d7dfc66c664f54bf23803e5644/halberstadt2016.pdf (Caused by SSLError(SSLEOFError(8, 'EOF occurred in violation of protocol (_ssl.c:997)')))\n",
      "Failed to download file: HTTPSConnectionPool(host='zero.sci-hub.se', port=443): Max retries exceeded with url: /756/3297837121b04fb38627e5daeac5d098/pass1999.pdf (Caused by SSLError(SSLEOFError(8, 'EOF occurred in violation of protocol (_ssl.c:997)')))\n",
      "Failed to download file: status code 403\n",
      "Failed to download file: status code 403\n",
      "Failed to download file: HTTPSConnectionPool(host='zero.sci-hub.se', port=443): Max retries exceeded with url: /3625/799c3edd9ebf3aabb8f40028859e3710/georgiev2006.pdf (Caused by SSLError(SSLEOFError(8, 'EOF occurred in violation of protocol (_ssl.c:997)')))\n",
      "Failed to download file: HTTPSConnectionPool(host='dacemirror.sci-hub.se', port=443): Max retries exceeded with url: /journal-article/cfed433b1f7d6f0daa428a1d0f021908/paragios2003.pdf (Caused by SSLError(SSLEOFError(8, 'EOF occurred in violation of protocol (_ssl.c:997)')))\n",
      "Failed to download file: HTTPSConnectionPool(host='dacemirror.sci-hub.se', port=443): Max retries exceeded with url: /journal-article/02066d6baba9769d2ac5c7c327d8bd1d/burchell2008.pdf (Caused by SSLError(SSLEOFError(8, 'EOF occurred in violation of protocol (_ssl.c:997)')))\n",
      "Failed to download file: HTTPSConnectionPool(host='zero.sci-hub.se', port=443): Max retries exceeded with url: /7008/51c3b48d9cb228c11528f2640fe69169/luo2018.pdf (Caused by SSLError(SSLEOFError(8, 'EOF occurred in violation of protocol (_ssl.c:997)')))\n",
      "Failed to download file: HTTPSConnectionPool(host='dacemirror.sci-hub.se', port=443): Max retries exceeded with url: /journal-article/929a731e1fb83e2fcb1a37d8330682a6/lang2005.pdf (Caused by SSLError(SSLEOFError(8, 'EOF occurred in violation of protocol (_ssl.c:997)')))\n",
      "Failed to download file: status code 403\n",
      "Failed to download file: Invalid URL 'http:/downloads/2019-08-22/34/potter2015.pdf#navpanes=0&view=FitH': No host supplied\n",
      "Failed to download file: HTTPSConnectionPool(host='dacemirror.sci-hub.se', port=443): Max retries exceeded with url: /journal-article/512609b0ea69bfc8dcecf55135fb8bcf/shieh2011.pdf (Caused by SSLError(SSLEOFError(8, 'EOF occurred in violation of protocol (_ssl.c:997)')))\n",
      "Failed to download file: HTTPSConnectionPool(host='zero.sci-hub.se', port=443): Max retries exceeded with url: /5785/0aeac0849d3355d95fdc2ffda90b856d/klette1996.pdf (Caused by SSLError(SSLEOFError(8, 'EOF occurred in violation of protocol (_ssl.c:997)')))\n",
      "Failed to download file: HTTPSConnectionPool(host='dacemirror.sci-hub.se', port=443): Max retries exceeded with url: /journal-article/366bfdf324ccce2dd31e1cff56676cfd/jietan2011.pdf (Caused by SSLError(SSLEOFError(8, 'EOF occurred in violation of protocol (_ssl.c:997)')))\n",
      "Failed to download file: HTTPSConnectionPool(host='zero.sci-hub.se', port=443): Max retries exceeded with url: /338/17c617012b515c6a6bd902c4aecf5fe9/novotni2004.pdf (Caused by SSLError(SSLEOFError(8, 'EOF occurred in violation of protocol (_ssl.c:997)')))\n",
      "Failed to download file: status code 403\n",
      "Failed to download file: Invalid URL 'http:/downloads/2019-07-28/fc/10.1111@cgf.13632.pdf#navpanes=0&view=FitH': No host supplied\n",
      "Failed to download file: status code 403\n",
      "Failed to download file: status code 403\n",
      "Failed to download file: HTTPSConnectionPool(host='zero.sci-hub.se', port=443): Max retries exceeded with url: /7085/8cc4690f47bbe28c8bfc8becc15bb716/schied2018.pdf (Caused by SSLError(SSLEOFError(8, 'EOF occurred in violation of protocol (_ssl.c:997)')))\n",
      "Failed to download file: HTTPSConnectionPool(host='dacemirror.sci-hub.se', port=443): Max retries exceeded with url: /journal-article/d944016c0f041ef064f41e31dbea427d/10.1016@j.cag.2008.04.003.pdf (Caused by SSLError(SSLEOFError(8, 'EOF occurred in violation of protocol (_ssl.c:997)')))\n",
      "Failed to download file: HTTPSConnectionPool(host='dacemirror.sci-hub.se', port=443): Max retries exceeded with url: /journal-article/12e94ed63ae56f2c48a6131ffeafa165/sensale-rodriguez2011.pdf (Caused by SSLError(SSLEOFError(8, 'EOF occurred in violation of protocol (_ssl.c:997)')))\n",
      "Failed to download file: status code 403\n",
      "Failed to download file: HTTPSConnectionPool(host='dacemirror.sci-hub.se', port=443): Max retries exceeded with url: /journal-article/479b757bcb63a04077d7990fd27f3e9e/mcconnell2011.pdf (Caused by SSLError(SSLEOFError(8, 'EOF occurred in violation of protocol (_ssl.c:997)')))\n",
      "Failed to download file: Invalid URL 'http:/downloads/2019-01-02/ee/dullemond2018.pdf#navpanes=0&view=FitH': No host supplied\n",
      "Failed to download file: HTTPSConnectionPool(host='dacemirror.sci-hub.se', port=443): Max retries exceeded with url: /journal-article/816f0f80096f19d612c4492e8803dc29/yilmaz2003.pdf (Caused by SSLError(SSLEOFError(8, 'EOF occurred in violation of protocol (_ssl.c:997)')))\n",
      "Failed to download file: HTTPSConnectionPool(host='dacemirror.sci-hub.se', port=443): Max retries exceeded with url: /journal-article/45aeb3424eae000c55e96a5a97318fd0/brochu2009.pdf (Caused by SSLError(SSLEOFError(8, 'EOF occurred in violation of protocol (_ssl.c:997)')))\n",
      "Failed to download file: HTTPSConnectionPool(host='dacemirror.sci-hub.se', port=443): Max retries exceeded with url: /journal-article/df33793a92102a984460d39cd22fd2d2/hong2016.pdf (Caused by SSLError(SSLEOFError(8, 'EOF occurred in violation of protocol (_ssl.c:997)')))\n",
      "Failed to download file: HTTPSConnectionPool(host='dacemirror.sci-hub.se', port=443): Max retries exceeded with url: /journal-article/06264fc4061b5a69d3e18e5a951f946f/farin1989.pdf (Caused by SSLError(SSLEOFError(8, 'EOF occurred in violation of protocol (_ssl.c:997)')))\n",
      "Failed to download file: status code 403\n",
      "Failed to download file: Invalid URL 'http:/downloads/2019-11-15/06/10.1109@TIP.2019.2951304.pdf#navpanes=0&view=FitH': No host supplied\n",
      "Failed to download file: status code 403\n",
      "Failed to download file: HTTPSConnectionPool(host='zero.sci-hub.se', port=443): Max retries exceeded with url: /4354/d8105f2544cbe6878330da17544be7ea/chen2014.pdf (Caused by SSLError(SSLEOFError(8, 'EOF occurred in violation of protocol (_ssl.c:997)')))\n",
      "Failed to download file: HTTPSConnectionPool(host='dacemirror.sci-hub.se', port=443): Max retries exceeded with url: /journal-article/6e8e329b07edf1d70b0660aff272de8b/samejima2003.pdf (Caused by SSLError(SSLEOFError(8, 'EOF occurred in violation of protocol (_ssl.c:997)')))\n",
      "Failed to download file: Invalid URL 'http:/downloads/2021-06-14/4e/hegarty2016.pdf#navpanes=0&view=FitH': No host supplied\n",
      "Failed to download file: status code 403\n",
      "Failed to download file: Invalid URL 'http:/downloads/2022-11-03/81/damen2021.pdf#navpanes=0&view=FitH': No host supplied\n",
      "Failed to download file: HTTPSConnectionPool(host='dacemirror.sci-hub.se', port=443): Max retries exceeded with url: /journal-article/810f6e6366240c7282567ebb6bbf8937/jiang2017.pdf (Caused by SSLError(SSLEOFError(8, 'EOF occurred in violation of protocol (_ssl.c:997)')))\n",
      "Failed to download file: HTTPSConnectionPool(host='dacemirror.sci-hub.se', port=443): Max retries exceeded with url: /journal-article/e13057ac26ee26ab253582dfb939ee84/zhou2016.pdf (Caused by SSLError(SSLEOFError(8, 'EOF occurred in violation of protocol (_ssl.c:997)')))\n",
      "Failed to download file: HTTPSConnectionPool(host='dacemirror.sci-hub.se', port=443): Max retries exceeded with url: /journal-article/2154b2c79b0ffd749244ad4d37a91d3c/lin2003.pdf (Caused by SSLError(SSLEOFError(8, 'EOF occurred in violation of protocol (_ssl.c:997)')))\n",
      "Failed to download file: status code 403\n",
      "Failed to download file: Invalid URL 'http:/downloads/2019-03-27/36/clegg2018.pdf#navpanes=0&view=FitH': No host supplied\n",
      "Failed to download file: status code 403\n",
      "Failed to download file: HTTPSConnectionPool(host='dacemirror.sci-hub.se', port=443): Max retries exceeded with url: /journal-article/3f64bd65a0f280aa3f8481e9f6e6eca3/gissler2017.pdf (Caused by SSLError(SSLEOFError(8, 'EOF occurred in violation of protocol (_ssl.c:997)')))\n",
      "Failed to download file: status code 403\n",
      "Failed to download file: HTTPSConnectionPool(host='dacemirror.sci-hub.se', port=443): Max retries exceeded with url: /journal-article/b07ed2118683c9057de070a48940b565/dou2016.pdf (Caused by SSLError(SSLEOFError(8, 'EOF occurred in violation of protocol (_ssl.c:997)')))\n",
      "Failed to download file: HTTPSConnectionPool(host='zero.sci-hub.se', port=443): Max retries exceeded with url: /1816/80089d88d03c4e6c08fe5eb0b19be2e7/haines2006.pdf (Caused by SSLError(SSLEOFError(8, 'EOF occurred in violation of protocol (_ssl.c:997)')))\n",
      "Failed to download file: HTTPSConnectionPool(host='dacemirror.sci-hub.se', port=443): Max retries exceeded with url: /journal-article/1f87c0101038707ee29b68410f99c2cd/gubbi2009.pdf (Caused by SSLError(SSLEOFError(8, 'EOF occurred in violation of protocol (_ssl.c:997)')))\n",
      "Failed to download file: status code 403\n",
      "Failed to download file: HTTPSConnectionPool(host='zero.sci-hub.se', port=443): Max retries exceeded with url: /3048/7cf753d624663926b6386766b38fa122/grist2014.pdf (Caused by SSLError(SSLEOFError(8, 'EOF occurred in violation of protocol (_ssl.c:997)')))\n",
      "Failed to download file: status code 403\n",
      "Failed to download file: status code 403\n",
      "Failed to download file: status code 403\n",
      "Failed to download file: status code 403\n",
      "Failed to download file: status code 403\n",
      "Failed to download file: HTTPSConnectionPool(host='dacemirror.sci-hub.se', port=443): Max retries exceeded with url: /journal-article/086300a818c069e9a9cec1b61a327f51/georgoulis2017.pdf (Caused by SSLError(SSLEOFError(8, 'EOF occurred in violation of protocol (_ssl.c:997)')))\n",
      "Failed to download file: status code 403\n",
      "Failed to download file: Invalid URL 'http:/downloads/2019-12-18/01/chunyu2019.pdf#navpanes=0&view=FitH': No host supplied\n",
      "Failed to download file: HTTPSConnectionPool(host='zero.sci-hub.se', port=443): Max retries exceeded with url: /1710/5346de44a6697131f229c29d33873951/metzger2008.pdf (Caused by SSLError(SSLEOFError(8, 'EOF occurred in violation of protocol (_ssl.c:997)')))\n",
      "Failed to download file: Invalid URL 'http:/downloads/2021-06-09/79/doersch2015.pdf#navpanes=0&view=FitH': No host supplied\n",
      "Failed to download file: status code 403\n",
      "Failed to download file: HTTPSConnectionPool(host='zero.sci-hub.se', port=443): Max retries exceeded with url: /942/9d48fd26415f5f2a4f4724d74798cf55/pajot2011.pdf (Caused by SSLError(SSLEOFError(8, 'EOF occurred in violation of protocol (_ssl.c:997)')))\n",
      "Failed to download file: status code 403\n",
      "Failed to download file: HTTPSConnectionPool(host='dacemirror.sci-hub.se', port=443): Max retries exceeded with url: /journal-article/01b326b0a04d23a582b8f0ffee9907df/wolz2013.pdf (Caused by SSLError(SSLEOFError(8, 'EOF occurred in violation of protocol (_ssl.c:997)')))\n",
      "Failed to download file: HTTPSConnectionPool(host='zero.sci-hub.se', port=443): Max retries exceeded with url: /5754/0857e9beb150697fa8fd2589bc8b6fe1/serrano2016.pdf (Caused by SSLError(SSLEOFError(8, 'EOF occurred in violation of protocol (_ssl.c:997)')))\n",
      "Failed to download file: status code 403\n",
      "Failed to download file: HTTPSConnectionPool(host='zero.sci-hub.se', port=443): Max retries exceeded with url: /373/498146c96260c28555e7b6852c862c1d/ou2011.pdf (Caused by SSLError(SSLEOFError(8, 'EOF occurred in violation of protocol (_ssl.c:997)')))\n",
      "Failed to download file: Invalid URL 'http:/downloads/2020-04-30/b1/mccay2020.pdf#navpanes=0&view=FitH': No host supplied\n",
      "Failed to download file: status code 403\n",
      "Failed to download file: Invalid URL 'http:/tree/0e/62/0e62c37403a7a4c00b4957856b00a8d7.pdf#navpanes=0&view=FitH': No host supplied\n",
      "Failed to download file: Invalid URL 'http:/downloads/2020-05-11/58/10.1038@s41379-020-0551-y.pdf#navpanes=0&view=FitH': No host supplied\n",
      "Failed to download file: HTTPSConnectionPool(host='zero.sci-hub.se', port=443): Max retries exceeded with url: /7106/c3f4d78916ffb49f0548744baa27b87c/masi2016.pdf (Caused by SSLError(SSLEOFError(8, 'EOF occurred in violation of protocol (_ssl.c:997)')))\n",
      "Failed to download file: HTTPSConnectionPool(host='zero.sci-hub.se', port=443): Max retries exceeded with url: /2141/1e81213c14b5af0825ac4a1a932a4772/oliva2011.pdf (Caused by SSLError(SSLEOFError(8, 'EOF occurred in violation of protocol (_ssl.c:997)')))\n",
      "Failed to download file: status code 403\n",
      "Failed to download file: Invalid URL 'http:/downloads/2019-09-17/88/esteves2019.pdf#navpanes=0&view=FitH': No host supplied\n",
      "Failed to download file: status code 403\n",
      "Failed to download file: Invalid URL 'http:/tree/81/b9/81b997cbd59a7a72bf3f8d2dad328108.pdf#navpanes=0&view=FitH': No host supplied\n",
      "Failed to download file: Invalid URL 'http:/downloads/2020-02-06/e5/10.1016@S2215-03662030047-X.pdf#navpanes=0&view=FitH': No host supplied\n",
      "Failed to download file: status code 403\n",
      "Failed to download file: HTTPSConnectionPool(host='zero.sci-hub.se', port=443): Max retries exceeded with url: /11/62d8a4ae9d2c1221cd898f5b1d5df0a3/zhang1999.pdf (Caused by SSLError(SSLEOFError(8, 'EOF occurred in violation of protocol (_ssl.c:997)')))\n",
      "Failed to download file: HTTPSConnectionPool(host='dacemirror.sci-hub.se', port=443): Max retries exceeded with url: /journal-article/28f895bd4f8b377599006aa1805f461f/carlone2014.pdf (Caused by SSLError(SSLEOFError(8, 'EOF occurred in violation of protocol (_ssl.c:997)')))\n",
      "Failed to download file: HTTPSConnectionPool(host='zero.sci-hub.se', port=443): Max retries exceeded with url: /6275/cd142d0a0e3cc5bd80f8e584d13b7040/green2017.pdf (Caused by SSLError(SSLEOFError(8, 'EOF occurred in violation of protocol (_ssl.c:997)')))\n",
      "Failed to download file: HTTPSConnectionPool(host='dacemirror.sci-hub.se', port=443): Max retries exceeded with url: /journal-article/ddc12453289efabf74784dc274f5e0aa/yamamoto1984.pdf (Caused by SSLError(SSLEOFError(8, 'EOF occurred in violation of protocol (_ssl.c:997)')))\n",
      "Failed to download file: status code 403\n",
      "Failed to download file: Invalid URL 'http:/tree/b2/fe/b2fe794c909dd4d78889ac5dcf2fbf68.pdf#navpanes=0&view=FitH': No host supplied\n",
      "Failed to download file: Invalid URL 'http:/downloads/2019-08-05/cd/10.1145@3306346.3322969.pdf#navpanes=0&view=FitH': No host supplied\n",
      "Failed to download file: status code 403\n",
      "Failed to download file: HTTPSConnectionPool(host='dacemirror.sci-hub.se', port=443): Max retries exceeded with url: /journal-article/a6dbe8d6037e0ed2d7ad3be4a3d8a955/10.1016@j.cag.2014.06.001.pdf (Caused by SSLError(SSLEOFError(8, 'EOF occurred in violation of protocol (_ssl.c:997)')))\n",
      "Failed to download file: status code 403\n",
      "Failed to download file: HTTPSConnectionPool(host='dacemirror.sci-hub.se', port=443): Max retries exceeded with url: /journal-article/2b3b7f4432b6cef6656ca67f5403758f/ghafoorian2016.pdf (Caused by SSLError(SSLEOFError(8, 'EOF occurred in violation of protocol (_ssl.c:997)')))\n",
      "Failed to download file: Invalid URL 'http:/downloads/2019-12-04/84/delabarrera2019.pdf#navpanes=0&view=FitH': No host supplied\n",
      "Failed to download file: HTTPSConnectionPool(host='zero.sci-hub.se', port=443): Max retries exceeded with url: /5856/e56bfeccee1cd6f454fbdcaac613fa39/triebel2016.pdf (Caused by SSLError(SSLEOFError(8, 'EOF occurred in violation of protocol (_ssl.c:997)')))\n",
      "Failed to download file: HTTPSConnectionPool(host='dacemirror.sci-hub.se', port=443): Max retries exceeded with url: /journal-article/aae8875f261e5017e5e3227b60a4c217/gast2015.pdf (Caused by SSLError(SSLEOFError(8, 'EOF occurred in violation of protocol (_ssl.c:997)')))\n",
      "Failed to download file: HTTPSConnectionPool(host='zero.sci-hub.se', port=443): Max retries exceeded with url: /6751/60602eebf44789ab5bcfda39a6303cdc/maxwell1992.pdf (Caused by SSLError(SSLEOFError(8, 'EOF occurred in violation of protocol (_ssl.c:997)')))\n",
      "Failed to download file: status code 403\n",
      "Failed to download file: status code 403\n",
      "Failed to download file: HTTPSConnectionPool(host='zero.sci-hub.se', port=443): Max retries exceeded with url: /1230/bd87d4bcaa6e8686f1dd93dfb87b9f3d/lyons1996.pdf (Caused by SSLError(SSLEOFError(8, 'EOF occurred in violation of protocol (_ssl.c:997)')))\n",
      "Failed to download file: Invalid URL 'http:/downloads/2019-08-29/46/10.1109@TPAMI.2019.2937086.pdf#navpanes=0&view=FitH': No host supplied\n",
      "Failed to download file: HTTPSConnectionPool(host='dacemirror.sci-hub.se', port=443): Max retries exceeded with url: /journal-article/47107c40530127a85f33d15459621b11/foskey2005.pdf (Caused by SSLError(SSLEOFError(8, 'EOF occurred in violation of protocol (_ssl.c:997)')))\n",
      "Failed to download file: HTTPSConnectionPool(host='zero.sci-hub.se', port=443): Max retries exceeded with url: /4273/9feebff72ed849fb2d58e18a2d8c6c4f/vaidyanathan2015.pdf (Caused by SSLError(SSLEOFError(8, 'EOF occurred in violation of protocol (_ssl.c:997)')))\n",
      "Failed to download file: HTTPSConnectionPool(host='zero.sci-hub.se', port=443): Max retries exceeded with url: /4762/20feffd17980ed38b8e5797fa9ed312d/li2016.pdf (Caused by SSLError(SSLEOFError(8, 'EOF occurred in violation of protocol (_ssl.c:997)')))\n",
      "Failed to download file: status code 403\n",
      "Failed to download file: HTTPSConnectionPool(host='dacemirror.sci-hub.se', port=443): Max retries exceeded with url: /journal-article/36bbfe4e7def18e71019faf47d4b5eea/snoek2008.pdf (Caused by SSLError(SSLEOFError(8, 'EOF occurred in violation of protocol (_ssl.c:997)')))\n",
      "Failed to download file: HTTPSConnectionPool(host='dacemirror.sci-hub.se', port=443): Max retries exceeded with url: /journal-article/75ba51062364b1adc399f2a93db03ce9/rimkus2011.pdf (Caused by SSLError(SSLEOFError(8, 'EOF occurred in violation of protocol (_ssl.c:997)')))\n",
      "Failed to download file: status code 403\n",
      "Failed to download file: HTTPSConnectionPool(host='dacemirror.sci-hub.se', port=443): Max retries exceeded with url: /journal-article/a5bbd914945d39eb81259178885830c8/tocheri2011.pdf (Caused by SSLError(SSLEOFError(8, 'EOF occurred in violation of protocol (_ssl.c:997)')))\n",
      "Failed to download file: HTTPSConnectionPool(host='zero.sci-hub.se', port=443): Max retries exceeded with url: /6659/bfe162988b0b1d7bb543285d1b3ac0ca/fitriah2017.pdf (Caused by SSLError(SSLEOFError(8, 'EOF occurred in violation of protocol (_ssl.c:997)')))\n",
      "Failed to download file: HTTPSConnectionPool(host='zero.sci-hub.se', port=443): Max retries exceeded with url: /182/23442cfc020efffbf009587384a4e31d/cohen2006.pdf (Caused by SSLError(SSLEOFError(8, 'EOF occurred in violation of protocol (_ssl.c:997)')))\n",
      "Failed to download file: HTTPSConnectionPool(host='dacemirror.sci-hub.se', port=443): Max retries exceeded with url: /journal-article/4413ab2caf2dc1ee81f90afb6480724d/garon2017.pdf (Caused by SSLError(SSLEOFError(8, 'EOF occurred in violation of protocol (_ssl.c:997)')))\n",
      "Failed to download file: Invalid URL 'http:/downloads/2019-12-20/15/nataraj2019.pdf#navpanes=0&view=FitH': No host supplied\n",
      "Failed to download file: status code 403\n",
      "Failed to download file: HTTPSConnectionPool(host='dacemirror.sci-hub.se', port=443): Max retries exceeded with url: /journal-article/6123405cd3c37666a63ae6db1411eedb/donnelly2011.pdf (Caused by SSLError(SSLEOFError(8, 'EOF occurred in violation of protocol (_ssl.c:997)')))\n",
      "Failed to download file: HTTPSConnectionPool(host='dacemirror.sci-hub.se', port=443): Max retries exceeded with url: /journal-article/3a6d7b400f5a8d73cd97539fffe67f10/han2011.pdf (Caused by SSLError(SSLEOFError(8, 'EOF occurred in violation of protocol (_ssl.c:997)')))\n",
      "Failed to download file: HTTPSConnectionPool(host='dacemirror.sci-hub.se', port=443): Max retries exceeded with url: /journal-article/38d7818be789959ceeccc65a0a32069e/kela1989.pdf (Caused by SSLError(SSLEOFError(8, 'EOF occurred in violation of protocol (_ssl.c:997)')))\n",
      "Failed to download file: HTTPSConnectionPool(host='zero.sci-hub.se', port=443): Max retries exceeded with url: /4392/f1c99a36f34e25e00058b6bad2c23de5/wang2015.pdf (Caused by SSLError(SSLEOFError(8, 'EOF occurred in violation of protocol (_ssl.c:997)')))\n",
      "Failed to download file: HTTPSConnectionPool(host='zero.sci-hub.se', port=443): Max retries exceeded with url: /2361/5c1759536bb0d702cbaee0d29ee7b67c/zhumingbi2014.pdf (Caused by SSLError(SSLEOFError(8, 'EOF occurred in violation of protocol (_ssl.c:997)')))\n",
      "Failed to download file: HTTPSConnectionPool(host='dacemirror.sci-hub.se', port=443): Max retries exceeded with url: /journal-article/b53aedbc89a51813e6c84c82fc6e4214/oup-accepted-manuscript-2016.pdf (Caused by SSLError(SSLEOFError(8, 'EOF occurred in violation of protocol (_ssl.c:997)')))\n",
      "Failed to download file: HTTPSConnectionPool(host='zero.sci-hub.se', port=443): Max retries exceeded with url: /6647/6bfab6724dd52905bacc1c4d0b30ecd1/he2017.pdf (Caused by SSLError(SSLEOFError(8, 'EOF occurred in violation of protocol (_ssl.c:997)')))\n",
      "Failed to download file: Invalid URL 'http:/downloads/2022-11-08/67/shivagunde2022.pdf#navpanes=0&view=FitH': No host supplied\n",
      "Failed to download file: Invalid URL 'http:/downloads/2019-02-21/f2/10.1007@978-3-030-11021-521.pdf#navpanes=0&view=FitH': No host supplied\n",
      "Failed to download file: HTTPSConnectionPool(host='dacemirror.sci-hub.se', port=443): Max retries exceeded with url: /journal-article/71caf9a8e2eedda81bd04c6faa5f225f/chen2016.pdf (Caused by SSLError(SSLEOFError(8, 'EOF occurred in violation of protocol (_ssl.c:997)')))\n",
      "Failed to download file: HTTPSConnectionPool(host='dacemirror.sci-hub.se', port=443): Max retries exceeded with url: /journal-article/88b7e4896dbbe40571d7a4adec5d114d/falcao2004.pdf (Caused by SSLError(SSLEOFError(8, 'EOF occurred in violation of protocol (_ssl.c:997)')))\n",
      "Failed to download file: HTTPSConnectionPool(host='zero.sci-hub.se', port=443): Max retries exceeded with url: /1404/545fa797bc6342209b3c5230346e4b1a/chaudhuri2000.pdf (Caused by SSLError(SSLEOFError(8, 'EOF occurred in violation of protocol (_ssl.c:997)')))\n",
      "Failed to download file: status code 403\n",
      "Failed to download file: status code 403\n",
      "Failed to download file: status code 403\n",
      "Failed to download file: HTTPSConnectionPool(host='dacemirror.sci-hub.se', port=443): Max retries exceeded with url: /journal-article/5a5af5774a16d0cf0392049807f71272/jaramillo2016.pdf (Caused by SSLError(SSLEOFError(8, 'EOF occurred in violation of protocol (_ssl.c:997)')))\n",
      "Failed to download file: HTTPSConnectionPool(host='dacemirror.sci-hub.se', port=443): Max retries exceeded with url: /journal-article/fcf2e9c4b4928796dadf9fec351b486a/wei-lwunlu2013.pdf (Caused by SSLError(SSLEOFError(8, 'EOF occurred in violation of protocol (_ssl.c:997)')))\n",
      "Failed to download file: HTTPSConnectionPool(host='dacemirror.sci-hub.se', port=443): Max retries exceeded with url: /journal-article/1f76838097c8536ef0259dc1a3f551ff/zhao2016.pdf (Caused by SSLError(SSLEOFError(8, 'EOF occurred in violation of protocol (_ssl.c:997)')))\n",
      "Failed to download file: status code 403\n",
      "Failed to download file: HTTPSConnectionPool(host='zero.sci-hub.se', port=443): Max retries exceeded with url: /909/59540a91708dcef2450d57397125f86c/rubbia-brandt2010.pdf (Caused by SSLError(SSLEOFError(8, 'EOF occurred in violation of protocol (_ssl.c:997)')))\n",
      "Failed to download file: HTTPSConnectionPool(host='zero.sci-hub.se', port=443): Max retries exceeded with url: /6910/72f7f0b4ca3ad82934533c4df5a5b3f7/wahl2018.pdf (Caused by SSLError(SSLEOFError(8, 'EOF occurred in violation of protocol (_ssl.c:997)')))\n",
      "Failed to download file: status code 403\n",
      "Failed to download file: HTTPSConnectionPool(host='zero.sci-hub.se', port=443): Max retries exceeded with url: /6306/baf74762d4cc9493eb715e691f405699/krishna2017.pdf (Caused by SSLError(SSLEOFError(8, 'EOF occurred in violation of protocol (_ssl.c:997)')))\n",
      "Failed to download file: status code 403\n",
      "Failed to download file: status code 403\n",
      "Failed to download file: Invalid URL 'http:/downloads/2019-05-07/c7/amaoka2009.pdf#navpanes=0&view=FitH': No host supplied\n",
      "Failed to download file: HTTPSConnectionPool(host='dacemirror.sci-hub.se', port=443): Max retries exceeded with url: /journal-article/7c7c5dfb9d54d80cb81b58ead4d8b072/bajaj1998.pdf (Caused by SSLError(SSLEOFError(8, 'EOF occurred in violation of protocol (_ssl.c:997)')))\n",
      "Failed to download file: Invalid URL 'http:/downloads/2019-01-11//0f/regazzi1995.pdf#navpanes=0&view=FitH': No host supplied\n",
      "Failed to download file: Invalid URL 'http:/downloads/2019-11-25/3c/pozo2019.pdf#navpanes=0&view=FitH': No host supplied\n",
      "Failed to download file: HTTPSConnectionPool(host='zero.sci-hub.se', port=443): Max retries exceeded with url: /6494/ba887310af59ead61162b2135ef58278/hawes2017.pdf (Caused by SSLError(SSLEOFError(8, 'EOF occurred in violation of protocol (_ssl.c:997)')))\n",
      "Failed to download file: HTTPSConnectionPool(host='zero.sci-hub.se', port=443): Max retries exceeded with url: /1915/ad5b685e4f1ff461bb8b8ae689dcc938/10.1049@iet-bmt.2011.0009.pdf (Caused by SSLError(SSLEOFError(8, 'EOF occurred in violation of protocol (_ssl.c:997)')))\n",
      "Failed to download file: HTTPSConnectionPool(host='dacemirror.sci-hub.se', port=443): Max retries exceeded with url: /journal-article/f3af4714c7779984632f3d089c1d9388/su2003.pdf (Caused by SSLError(SSLEOFError(8, 'EOF occurred in violation of protocol (_ssl.c:997)')))\n",
      "Failed to download file: HTTPSConnectionPool(host='dacemirror.sci-hub.se', port=443): Max retries exceeded with url: /journal-article/aeb8c00781c26594c34752bc4157eb68/xiao2013.pdf (Caused by SSLError(SSLEOFError(8, 'EOF occurred in violation of protocol (_ssl.c:997)')))\n",
      "Failed to download file: HTTPSConnectionPool(host='dacemirror.sci-hub.se', port=443): Max retries exceeded with url: /journal-article/a59cab8173312646d7561b8610189151/tian2012.pdf (Caused by SSLError(SSLEOFError(8, 'EOF occurred in violation of protocol (_ssl.c:997)')))\n",
      "Failed to download file: HTTPSConnectionPool(host='zero.sci-hub.se', port=443): Max retries exceeded with url: /6467/d29344e342e92b11eb9d966f5d3142d6/osimo2015.pdf (Caused by SSLError(SSLEOFError(8, 'EOF occurred in violation of protocol (_ssl.c:997)')))\n",
      "Failed to download file: status code 403\n",
      "Failed to download file: status code 403\n",
      "Failed to download file: HTTPSConnectionPool(host='dacemirror.sci-hub.se', port=443): Max retries exceeded with url: /journal-article/25367ed5a6ce82e7e045aadabb40e79f/sadlier2005.pdf (Caused by SSLError(SSLEOFError(8, 'EOF occurred in violation of protocol (_ssl.c:997)')))\n",
      "Failed to download file: HTTPSConnectionPool(host='zero.sci-hub.se', port=443): Max retries exceeded with url: /1550/88c37a76def28fb251b512099af3c03f/haeseleer2002.pdf (Caused by SSLError(SSLEOFError(8, 'EOF occurred in violation of protocol (_ssl.c:997)')))\n",
      "Failed to download file: Invalid URL 'http:/downloads/2021-06-09/2e/heide2019.pdf#navpanes=0&view=FitH': No host supplied\n",
      "Failed to download file: HTTPSConnectionPool(host='zero.sci-hub.se', port=443): Max retries exceeded with url: /3146/8e5be82b1b5dc0291eac6b178c6d5566/choi2006.pdf (Caused by SSLError(SSLEOFError(8, 'EOF occurred in violation of protocol (_ssl.c:997)')))\n",
      "Failed to download file: HTTPSConnectionPool(host='dacemirror.sci-hub.se', port=443): Max retries exceeded with url: /journal-article/c15655ac89c43a28cc25352f114a1f96/wang2017.pdf (Caused by SSLError(SSLEOFError(8, 'EOF occurred in violation of protocol (_ssl.c:997)')))\n",
      "Failed to download file: HTTPSConnectionPool(host='zero.sci-hub.se', port=443): Max retries exceeded with url: /2048/1594580f4eaa3b621ecdea015730b46b/cheng1990.pdf (Caused by SSLError(SSLEOFError(8, 'EOF occurred in violation of protocol (_ssl.c:997)')))\n",
      "Failed to download file: HTTPSConnectionPool(host='dacemirror.sci-hub.se', port=443): Max retries exceeded with url: /journal-article/89a707b76278b40dc20719f0a35c6fa1/jiang2017.pdf (Caused by SSLError(SSLEOFError(8, 'EOF occurred in violation of protocol (_ssl.c:997)')))\n",
      "Failed to download file: HTTPSConnectionPool(host='zero.sci-hub.se', port=443): Max retries exceeded with url: /4908/73c6ebec7af12568c0b0d62fc8d8ca1a/chang2015.pdf (Caused by SSLError(SSLEOFError(8, 'EOF occurred in violation of protocol (_ssl.c:997)')))\n",
      "Failed to download file: HTTPSConnectionPool(host='dacemirror.sci-hub.se', port=443): Max retries exceeded with url: /journal-article/ef99d15ce3f5933b4e12704b03b113f9/besnard2009.pdf (Caused by SSLError(SSLEOFError(8, 'EOF occurred in violation of protocol (_ssl.c:997)')))\n",
      "Failed to download file: Invalid URL 'http:/downloads/2019-01-07/bf/park2018.pdf#navpanes=0&view=FitH': No host supplied\n",
      "Failed to download file: status code 403\n",
      "Failed to download file: HTTPSConnectionPool(host='zero.sci-hub.se', port=443): Max retries exceeded with url: /1691/b6d3e7cb969d200629cc5387938abd34/jiang2006.pdf (Caused by SSLError(SSLEOFError(8, 'EOF occurred in violation of protocol (_ssl.c:997)')))\n",
      "Failed to download file: HTTPSConnectionPool(host='dacemirror.sci-hub.se', port=443): Max retries exceeded with url: /journal-article/0c437eba225e3f30d72b8a26501f8ae3/yixinchen2003.pdf (Caused by SSLError(SSLEOFError(8, 'EOF occurred in violation of protocol (_ssl.c:997)')))\n",
      "Failed to download file: HTTPSConnectionPool(host='zero.sci-hub.se', port=443): Max retries exceeded with url: /454/ed0cfda603f0e137e470ffbf89a8a033/dowdall2003.pdf (Caused by SSLError(SSLEOFError(8, 'EOF occurred in violation of protocol (_ssl.c:997)')))\n",
      "Failed to download file: HTTPSConnectionPool(host='dacemirror.sci-hub.se', port=443): Max retries exceeded with url: /journal-article/7530ec7690a8a8e3a12d48eaaa8eebae/badilini2005.pdf (Caused by SSLError(SSLEOFError(8, 'EOF occurred in violation of protocol (_ssl.c:997)')))\n",
      "Failed to download file: HTTPSConnectionPool(host='zero.sci-hub.se', port=443): Max retries exceeded with url: /6545/ec880f77a9325d3d1937d4e49dbb90bf/riazuelo2014.pdf (Caused by SSLError(SSLEOFError(8, 'EOF occurred in violation of protocol (_ssl.c:997)')))\n",
      "Failed to download file: status code 403\n",
      "Failed to download file: status code 403\n",
      "Failed to download file: HTTPSConnectionPool(host='dacemirror.sci-hub.se', port=443): Max retries exceeded with url: /journal-article/deb0a6694ccbb023db3994ca9915c2f2/parisot2018.pdf (Caused by SSLError(SSLEOFError(8, 'EOF occurred in violation of protocol (_ssl.c:997)')))\n",
      "Failed to download file: HTTPSConnectionPool(host='dacemirror.sci-hub.se', port=443): Max retries exceeded with url: /journal-article/98f8059500ae90f6734d9eeca95e0ce8/10.1111@j.1467-8659.2003.00717.x.pdf (Caused by SSLError(SSLEOFError(8, 'EOF occurred in violation of protocol (_ssl.c:997)')))\n",
      "Failed to download file: status code 403\n",
      "Failed to download file: HTTPSConnectionPool(host='dacemirror.sci-hub.se', port=443): Max retries exceeded with url: /journal-article/d85e37d2c6b5a0a706777812e043d01a/pulli2012.pdf (Caused by SSLError(SSLEOFError(8, 'EOF occurred in violation of protocol (_ssl.c:997)')))\n",
      "Failed to download file: HTTPSConnectionPool(host='zero.sci-hub.se', port=443): Max retries exceeded with url: /6111/de003bd6b05beb18212a8570d8af757d/idrees2016.pdf (Caused by SSLError(SSLEOFError(8, 'EOF occurred in violation of protocol (_ssl.c:997)')))\n",
      "Failed to download file: Invalid URL 'http:/downloads/2019-03-11/6a/simonovsky2018.pdf#navpanes=0&view=FitH': No host supplied\n",
      "Failed to download file: status code 403\n",
      "Failed to download file: HTTPSConnectionPool(host='zero.sci-hub.se', port=443): Max retries exceeded with url: /6365/d41666b42cc30efb4176aa4aa381a4a7/guo2017.pdf (Caused by SSLError(SSLEOFError(8, 'EOF occurred in violation of protocol (_ssl.c:997)')))\n",
      "Failed to download file: HTTPSConnectionPool(host='zero.sci-hub.se', port=443): Max retries exceeded with url: /202/0136ba3191a53f864473b033bedef5eb/sapidis1989.pdf (Caused by SSLError(SSLEOFError(8, 'EOF occurred in violation of protocol (_ssl.c:997)')))\n",
      "Failed to download file: HTTPSConnectionPool(host='dacemirror.sci-hub.se', port=443): Max retries exceeded with url: /journal-article/7fcb60fbd490ecab839b828602141cb9/10.1016@j.patcog.2017.06.028.pdf (Caused by SSLError(SSLEOFError(8, 'EOF occurred in violation of protocol (_ssl.c:997)')))\n",
      "Failed to download file: Invalid URL 'http:/downloads/2019-01-08/5f/wang2006.pdf#navpanes=0&view=FitH': No host supplied\n",
      "Failed to download file: status code 403\n",
      "Failed to download file: HTTPSConnectionPool(host='zero.sci-hub.se', port=443): Max retries exceeded with url: /6315/26c19b955b7af259e77b1474fb88845a/lu2017.pdf (Caused by SSLError(SSLEOFError(8, 'EOF occurred in violation of protocol (_ssl.c:997)')))\n",
      "Failed to download file: HTTPSConnectionPool(host='zero.sci-hub.se', port=443): Max retries exceeded with url: /1437/e63d1e5458ac48575202a228b72cbaad/zelinsky2009.pdf (Caused by SSLError(SSLEOFError(8, 'EOF occurred in violation of protocol (_ssl.c:997)')))\n",
      "Failed to download file: HTTPSConnectionPool(host='dacemirror.sci-hub.se', port=443): Max retries exceeded with url: /journal-article/700f599e642ea6b8aa97fafb7adac439/jazayeri2011.pdf (Caused by SSLError(SSLEOFError(8, 'EOF occurred in violation of protocol (_ssl.c:997)')))\n",
      "Failed to download file: HTTPSConnectionPool(host='dacemirror.sci-hub.se', port=443): Max retries exceeded with url: /journal-article/16282b8d5190395d66bb847b39581913/yoon2012.pdf (Caused by SSLError(SSLEOFError(8, 'EOF occurred in violation of protocol (_ssl.c:997)')))\n",
      "Failed to download file: HTTPSConnectionPool(host='zero.sci-hub.se', port=443): Max retries exceeded with url: /3502/c103df0d7de05fb73bf30c3785968152/forsyth2002.pdf (Caused by SSLError(SSLEOFError(8, 'EOF occurred in violation of protocol (_ssl.c:997)')))\n",
      "Failed to download file: HTTPSConnectionPool(host='zero.sci-hub.se', port=443): Max retries exceeded with url: /4194/018b46e4b24cefa6f25bd30360996799/mark2010.pdf (Caused by SSLError(SSLEOFError(8, 'EOF occurred in violation of protocol (_ssl.c:997)')))\n",
      "Failed to download file: HTTPSConnectionPool(host='dacemirror.sci-hub.se', port=443): Max retries exceeded with url: /journal-article/faf19476b106c1d97ac1670bb7896bf2/li2016.pdf (Caused by SSLError(SSLEOFError(8, 'EOF occurred in violation of protocol (_ssl.c:997)')))\n",
      "Failed to download file: status code 403\n",
      "Failed to download file: status code 403\n",
      "Failed to download file: HTTPSConnectionPool(host='zero.sci-hub.se', port=443): Max retries exceeded with url: /6200/c04cbde6ce36fe9eb1f891a3cc30fcc2/goldberger2006.pdf (Caused by SSLError(SSLEOFError(8, 'EOF occurred in violation of protocol (_ssl.c:997)')))\n",
      "Failed to download file: HTTPSConnectionPool(host='dacemirror.sci-hub.se', port=443): Max retries exceeded with url: /journal-article/585c5c802fa1732a11ae489f4e561a4c/degoes2013.pdf (Caused by SSLError(SSLEOFError(8, 'EOF occurred in violation of protocol (_ssl.c:997)')))\n",
      "Failed to download file: HTTPSConnectionPool(host='zero.sci-hub.se', port=443): Max retries exceeded with url: /3928/09fc10a86faa49965a1915c99319bd5c/boissieux2000.pdf (Caused by SSLError(SSLEOFError(8, 'EOF occurred in violation of protocol (_ssl.c:997)')))\n",
      "Failed to download file: HTTPSConnectionPool(host='dacemirror.sci-hub.se', port=443): Max retries exceeded with url: /journal-article/68c9c429e6821efce7e05746cbdc63ba/ebeida2012.pdf (Caused by SSLError(SSLEOFError(8, 'EOF occurred in violation of protocol (_ssl.c:997)')))\n",
      "Failed to download file: status code 403\n",
      "Failed to download file: status code 403\n",
      "Failed to download file: status code 403\n",
      "Failed to download file: HTTPSConnectionPool(host='dacemirror.sci-hub.se', port=443): Max retries exceeded with url: /journal-article/1ddd3c4e003ed468a5c96b7cb1f669ab/robles-kelly2005.pdf (Caused by SSLError(SSLEOFError(8, 'EOF occurred in violation of protocol (_ssl.c:997)')))\n",
      "Failed to download file: HTTPSConnectionPool(host='zero.sci-hub.se', port=443): Max retries exceeded with url: /861/7dcd51ffebad132d5b47818156d3a895/kemao2008.pdf (Caused by SSLError(SSLEOFError(8, 'EOF occurred in violation of protocol (_ssl.c:997)')))\n",
      "Failed to download file: status code 403\n",
      "Failed to download file: HTTPSConnectionPool(host='dacemirror.sci-hub.se', port=443): Max retries exceeded with url: /journal-article/3f4a9266e7c7b57807df6a771ef9c216/hedman2016.pdf (Caused by SSLError(SSLEOFError(8, 'EOF occurred in violation of protocol (_ssl.c:997)')))\n",
      "Failed to download file: status code 403\n",
      "Failed to download file: status code 403\n",
      "Failed to download file: HTTPSConnectionPool(host='zero.sci-hub.se', port=443): Max retries exceeded with url: /4349/72fdc65dad28269529101e98643719e6/colantonio2015.pdf (Caused by SSLError(SSLEOFError(8, 'EOF occurred in violation of protocol (_ssl.c:997)')))\n",
      "Failed to download file: status code 403\n",
      "Failed to download file: status code 403\n",
      "Failed to download file: HTTPSConnectionPool(host='dacemirror.sci-hub.se', port=443): Max retries exceeded with url: /proceedings-article/8f0427a6d61325fd87b83187c264686d/planck-2015-cosmological-results-2016.pdf (Caused by SSLError(SSLEOFError(8, 'EOF occurred in violation of protocol (_ssl.c:997)')))\n",
      "Failed to download file: HTTPSConnectionPool(host='zero.sci-hub.se', port=443): Max retries exceeded with url: /7050/da8c3830f0fc581f363756330f381c8c/zhu2018.pdf (Caused by SSLError(SSLEOFError(8, 'EOF occurred in violation of protocol (_ssl.c:997)')))\n",
      "Failed to download file: Invalid URL 'http:/downloads/2019-12-13/b8/10.1016@j.isprsjprs.2019.11.018.pdf#navpanes=0&view=FitH': No host supplied\n",
      "Failed to download file: status code 403\n",
      "Failed to download file: status code 403\n",
      "Failed to download file: status code 403\n",
      "Failed to download file: HTTPSConnectionPool(host='zero.sci-hub.se', port=443): Max retries exceeded with url: /3316/e9d40da98049f06303b2d15a0c5c897b/danglade2013.pdf (Caused by SSLError(SSLEOFError(8, 'EOF occurred in violation of protocol (_ssl.c:997)')))\n",
      "Failed to download file: HTTPSConnectionPool(host='dacemirror.sci-hub.se', port=443): Max retries exceeded with url: /journal-article/0a36277c9bceace7dc59408c9de9f7db/wang2011.pdf (Caused by SSLError(SSLEOFError(8, 'EOF occurred in violation of protocol (_ssl.c:997)')))\n",
      "Failed to download file: HTTPSConnectionPool(host='dacemirror.sci-hub.se', port=443): Max retries exceeded with url: /journal-article/fa8a3f338f0d2cad05928c65474362b3/yokoya1989.pdf (Caused by SSLError(SSLEOFError(8, 'EOF occurred in violation of protocol (_ssl.c:997)')))\n",
      "Failed to download file: HTTPSConnectionPool(host='dacemirror.sci-hub.se', port=443): Max retries exceeded with url: /journal-article/46426d87ec203ada68259045d74bebff/dandois2015.pdf (Caused by SSLError(SSLEOFError(8, 'EOF occurred in violation of protocol (_ssl.c:997)')))\n",
      "Failed to download file: HTTPSConnectionPool(host='dacemirror.sci-hub.se', port=443): Max retries exceeded with url: /journal-article/fa0a713d31f718f92adc8fda613d8e7e/azizpour2015.pdf (Caused by SSLError(SSLEOFError(8, 'EOF occurred in violation of protocol (_ssl.c:997)')))\n",
      "Failed to download file: HTTPSConnectionPool(host='zero.sci-hub.se', port=443): Max retries exceeded with url: /1532/af9a3fa915aadede8828532374adc2d1/korte2012.pdf (Caused by SSLError(SSLEOFError(8, 'EOF occurred in violation of protocol (_ssl.c:997)')))\n",
      "Failed to download file: HTTPSConnectionPool(host='dacemirror.sci-hub.se', port=443): Max retries exceeded with url: /journal-article/9c1ea430f778d0030be07d43ed8ca059/kossaifi2017.pdf (Caused by SSLError(SSLEOFError(8, 'EOF occurred in violation of protocol (_ssl.c:997)')))\n",
      "Failed to download file: Invalid URL 'http:/downloads/2020-07-27/fe/han2020.pdf#navpanes=0&view=FitH': No host supplied\n",
      "Failed to download file: HTTPSConnectionPool(host='zero.sci-hub.se', port=443): Max retries exceeded with url: /2747/e48d4e41dc269dc8ef94cd4823a451f5/li2013.pdf (Caused by SSLError(SSLEOFError(8, 'EOF occurred in violation of protocol (_ssl.c:997)')))\n",
      "Failed to download file: Invalid URL 'http:/downloads/2019-11-10/d1/10.1016@j.resinv.2019.10.001.pdf#navpanes=0&view=FitH': No host supplied\n",
      "Failed to download file: ('Connection aborted.', ConnectionResetError(54, 'Connection reset by peer'))\n",
      "Failed to download file: status code 403\n",
      "Failed to download file: status code 403\n",
      "Failed to download file: Invalid URL 'http:/downloads/2019-09-17/42/shin2019.pdf#navpanes=0&view=FitH': No host supplied\n",
      "Failed to download file: HTTPSConnectionPool(host='dacemirror.sci-hub.se', port=443): Max retries exceeded with url: /journal-article/8705457e3f09a1324e10cfb1071ee56a/tsai2013.pdf (Caused by SSLError(SSLEOFError(8, 'EOF occurred in violation of protocol (_ssl.c:997)')))\n",
      "Failed to download file: status code 403\n",
      "Failed to download file: HTTPSConnectionPool(host='dacemirror.sci-hub.se', port=443): Max retries exceeded with url: /journal-article/4cb7aae9d238cee2a5a7695d8c663df9/karabassi1999.pdf (Caused by SSLError(SSLEOFError(8, 'EOF occurred in violation of protocol (_ssl.c:997)')))\n",
      "Failed to download file: status code 403\n",
      "Failed to download file: status code 403\n",
      "Failed to download file: HTTPSConnectionPool(host='zero.sci-hub.se', port=443): Max retries exceeded with url: /6196/b173b9b965d620061d87870c1b3c96a6/bobenko2015.pdf (Caused by SSLError(SSLEOFError(8, 'EOF occurred in violation of protocol (_ssl.c:997)')))\n",
      "Failed to download file: HTTPSConnectionPool(host='dacemirror.sci-hub.se', port=443): Max retries exceeded with url: /journal-article/bdeafbb8a41357801f6b1fd577ac4c33/granados2001.pdf (Caused by SSLError(SSLEOFError(8, 'EOF occurred in violation of protocol (_ssl.c:997)')))\n",
      "Failed to download file: HTTPSConnectionPool(host='dacemirror.sci-hub.se', port=443): Max retries exceeded with url: /journal-article/a7b2bc4bf1232100d955eee66ad31d5a/sarmady2011.pdf (Caused by SSLError(SSLEOFError(8, 'EOF occurred in violation of protocol (_ssl.c:997)')))\n",
      "Failed to download file: status code 403\n",
      "Failed to download file: HTTPSConnectionPool(host='dacemirror.sci-hub.se', port=443): Max retries exceeded with url: /journal-article/cc9596ec673e808b5e68d73bedc57ac6/binmore1995.pdf (Caused by SSLError(SSLEOFError(8, 'EOF occurred in violation of protocol (_ssl.c:997)')))\n",
      "Failed to download file: HTTPSConnectionPool(host='dacemirror.sci-hub.se', port=443): Max retries exceeded with url: /journal-article/767667c7be8bc26120424d4794eb95cc/flin2005.pdf (Caused by SSLError(SSLEOFError(8, 'EOF occurred in violation of protocol (_ssl.c:997)')))\n",
      "Failed to download file: status code 403\n",
      "Failed to download file: HTTPSConnectionPool(host='dacemirror.sci-hub.se', port=443): Max retries exceeded with url: /journal-article/c7429ce4f130f0fb4436ee8312616d77/hesch2013.pdf (Caused by SSLError(SSLEOFError(8, 'EOF occurred in violation of protocol (_ssl.c:997)')))\n",
      "Failed to download file: HTTPSConnectionPool(host='dacemirror.sci-hub.se', port=443): Max retries exceeded with url: /journal-article/4ecab72d2317b21cf80e553cabda2a13/luo2010.pdf (Caused by SSLError(SSLEOFError(8, 'EOF occurred in violation of protocol (_ssl.c:997)')))\n",
      "Failed to download file: HTTPSConnectionPool(host='zero.sci-hub.se', port=443): Max retries exceeded with url: /2670/71c3e273147dd3260fffa304e8431762/whitwell2009.pdf (Caused by SSLError(SSLEOFError(8, 'EOF occurred in violation of protocol (_ssl.c:997)')))\n",
      "Failed to download file: status code 403\n",
      "Failed to download file: status code 403\n",
      "Failed to download file: status code 403\n",
      "Failed to download file: status code 403\n",
      "Failed to download file: HTTPSConnectionPool(host='dacemirror.sci-hub.se', port=443): Max retries exceeded with url: /journal-article/d81657f6302ec0aae99904ca3d517b94/wen2016.pdf (Caused by SSLError(SSLEOFError(8, 'EOF occurred in violation of protocol (_ssl.c:997)')))\n",
      "Failed to download file: status code 403\n",
      "Failed to download file: status code 403\n",
      "Failed to download file: HTTPSConnectionPool(host='dacemirror.sci-hub.se', port=443): Max retries exceeded with url: /journal-article/654a35340a5906d474ac1b9d3bccefe7/achanta2006.pdf (Caused by SSLError(SSLEOFError(8, 'EOF occurred in violation of protocol (_ssl.c:997)')))\n",
      "Failed to download file: HTTPSConnectionPool(host='zero.sci-hub.se', port=443): Max retries exceeded with url: /974/e84ff699d36fa806d345d0a6b78157da/davis2010.pdf (Caused by SSLError(SSLEOFError(8, 'EOF occurred in violation of protocol (_ssl.c:997)')))\n",
      "Failed to download file: HTTPSConnectionPool(host='dacemirror.sci-hub.se', port=443): Max retries exceeded with url: /journal-article/b53be773fc1c0a2968e6b1e674f6e12f/fernandez-bouzas1999.pdf (Caused by SSLError(SSLEOFError(8, 'EOF occurred in violation of protocol (_ssl.c:997)')))\n",
      "Failed to download file: Invalid URL 'http:/downloads/2019-09-25/c5/xu2019.pdf#navpanes=0&view=FitH': No host supplied\n",
      "Failed to download file: status code 403\n",
      "Failed to download file: HTTPSConnectionPool(host='dacemirror.sci-hub.se', port=443): Max retries exceeded with url: /journal-article/54bc9d3586eddcd891d62f951cf604d2/blascheck2017.pdf (Caused by SSLError(SSLEOFError(8, 'EOF occurred in violation of protocol (_ssl.c:997)')))\n",
      "Failed to download file: HTTPSConnectionPool(host='dacemirror.sci-hub.se', port=443): Max retries exceeded with url: /journal-article/9ab4897816d635605666fa9951c65d28/kalousis1999.pdf (Caused by SSLError(SSLEOFError(8, 'EOF occurred in violation of protocol (_ssl.c:997)')))\n",
      "Failed to download file: status code 403\n",
      "Failed to download file: HTTPSConnectionPool(host='dacemirror.sci-hub.se', port=443): Max retries exceeded with url: /journal-article/f35ec34ddbbd8b5b40c3004b04333072/johnson2002.pdf (Caused by SSLError(SSLEOFError(8, 'EOF occurred in violation of protocol (_ssl.c:997)')))\n",
      "Failed to download file: HTTPSConnectionPool(host='dacemirror.sci-hub.se', port=443): Max retries exceeded with url: /journal-article/2f09939deaff7a3c89ee7d5068b4ba69/duncan2007.pdf (Caused by SSLError(SSLEOFError(8, 'EOF occurred in violation of protocol (_ssl.c:997)')))\n",
      "Failed to download file: HTTPSConnectionPool(host='zero.sci-hub.se', port=443): Max retries exceeded with url: /354/e511a25fdc01160b993f8cfe77905818/wu2011.pdf (Caused by SSLError(SSLEOFError(8, 'EOF occurred in violation of protocol (_ssl.c:997)')))\n",
      "Failed to download file: HTTPSConnectionPool(host='dacemirror.sci-hub.se', port=443): Max retries exceeded with url: /journal-article/54db46b0ff47778eb5a80ae3fd1d2cb6/slama2015.pdf (Caused by SSLError(SSLEOFError(8, 'EOF occurred in violation of protocol (_ssl.c:997)')))\n",
      "Failed to download file: HTTPSConnectionPool(host='dacemirror.sci-hub.se', port=443): Max retries exceeded with url: /journal-article/7a8018c1b7ea5e38df9e36fecca9e260/rembold2009.pdf (Caused by SSLError(SSLEOFError(8, 'EOF occurred in violation of protocol (_ssl.c:997)')))\n",
      "Failed to download file: HTTPSConnectionPool(host='dacemirror.sci-hub.se', port=443): Max retries exceeded with url: /journal-article/888ecc5236c7b3339e7273e2e5ed01ff/roushan2016.pdf (Caused by SSLError(SSLEOFError(8, 'EOF occurred in violation of protocol (_ssl.c:997)')))\n",
      "Failed to download file: Invalid URL 'http:/downloads/2022-11-09/43/cao2022.pdf#navpanes=0&view=FitH': No host supplied\n",
      "Failed to download file: HTTPSConnectionPool(host='dacemirror.sci-hub.se', port=443): Max retries exceeded with url: /journal-article/9b35312e3312b8c8d2f73547286e60e1/10.1016@s0097-84930100177-7.pdf (Caused by SSLError(SSLEOFError(8, 'EOF occurred in violation of protocol (_ssl.c:997)')))\n",
      "Failed to download file: HTTPSConnectionPool(host='zero.sci-hub.se', port=443): Max retries exceeded with url: /7088/4e6fd3d66602cf80481341706c569e1e/chen2018.pdf (Caused by SSLError(SSLEOFError(8, 'EOF occurred in violation of protocol (_ssl.c:997)')))\n",
      "Failed to download file: HTTPSConnectionPool(host='zero.sci-hub.se', port=443): Max retries exceeded with url: /5778/1717b695f8fc548ea6a6b3c12da7f352/he2011.pdf (Caused by SSLError(SSLEOFError(8, 'EOF occurred in violation of protocol (_ssl.c:997)')))\n",
      "Failed to download file: Invalid URL 'http:/downloads/2021-08-11/98/yi2021.pdf#navpanes=0&view=FitH': No host supplied\n",
      "Failed to download file: status code 403\n",
      "Failed to download file: status code 403\n",
      "Failed to download file: status code 403\n",
      "Failed to download file: HTTPSConnectionPool(host='zero.sci-hub.se', port=443): Max retries exceeded with url: /1448/fc80a318a0ffdd5e7358fb58f3179daf/dobashi1994.pdf (Caused by SSLError(SSLEOFError(8, 'EOF occurred in violation of protocol (_ssl.c:997)')))\n",
      "Failed to download file: HTTPSConnectionPool(host='zero.sci-hub.se', port=443): Max retries exceeded with url: /7063/e9ed61d9db85daf0b6fad6e6ef726f24/zhang2014.pdf (Caused by SSLError(SSLEOFError(8, 'EOF occurred in violation of protocol (_ssl.c:997)')))\n",
      "Failed to download file: Invalid URL 'http:/downloads/2019-11-22/96/bracci2019.pdf#navpanes=0&view=FitH': No host supplied\n",
      "Failed to download file: HTTPSConnectionPool(host='dacemirror.sci-hub.se', port=443): Max retries exceeded with url: /journal-article/9ef2fdd9e89a242fa35b99b33fcc6aff/liao2017.pdf (Caused by SSLError(SSLEOFError(8, 'EOF occurred in violation of protocol (_ssl.c:997)')))\n",
      "Failed to download file: status code 403\n",
      "Failed to download file: HTTPSConnectionPool(host='dacemirror.sci-hub.se', port=443): Max retries exceeded with url: /journal-article/37bfb4e411cadb86353fdf106bd88ac7/wang2017.pdf (Caused by SSLError(SSLEOFError(8, 'EOF occurred in violation of protocol (_ssl.c:997)')))\n",
      "Failed to download file: Invalid URL 'http:/downloads/2020-11-17/34/10.1016@j.medengphy.2020.11.005.pdf#navpanes=0&view=FitH': No host supplied\n",
      "Failed to download file: Invalid URL 'http:/downloads/2019-03-30/36/10.1109@TSMC.2019.2899047.pdf#navpanes=0&view=FitH': No host supplied\n",
      "Failed to download file: HTTPSConnectionPool(host='zero.sci-hub.se', port=443): Max retries exceeded with url: /3231/2f7fd6ba77205bb4b365dcd21428c850/takala2005.pdf (Caused by SSLError(SSLEOFError(8, 'EOF occurred in violation of protocol (_ssl.c:997)')))\n",
      "Failed to download file: Invalid URL 'http:/downloads/2020-01-01/ca/chaudhari2019.pdf#navpanes=0&view=FitH': No host supplied\n",
      "Failed to download file: HTTPSConnectionPool(host='dacemirror.sci-hub.se', port=443): Max retries exceeded with url: /journal-article/21494ad5072ef3e4193f33019ae9bb20/bidder2015.pdf (Caused by SSLError(SSLEOFError(8, 'EOF occurred in violation of protocol (_ssl.c:997)')))\n",
      "Failed to download file: HTTPSConnectionPool(host='dacemirror.sci-hub.se', port=443): Max retries exceeded with url: /journal-article/7c0556ff7f910a5dfca353ebbcd85bc4/zhang2016.pdf (Caused by SSLError(SSLEOFError(8, 'EOF occurred in violation of protocol (_ssl.c:997)')))\n",
      "Failed to download file: status code 403\n",
      "Failed to download file: HTTPSConnectionPool(host='zero.sci-hub.se', port=443): Max retries exceeded with url: /1553/f931389060177073e76b87205a33a496/rogers2000.pdf (Caused by SSLError(SSLEOFError(8, 'EOF occurred in violation of protocol (_ssl.c:997)')))\n",
      "Failed to download file: Invalid URL 'http:/downloads/2020-04-23/a9/10.1016@j.artmed.2020.101845.pdf#navpanes=0&view=FitH': No host supplied\n",
      "Failed to download file: HTTPSConnectionPool(host='zero.sci-hub.se', port=443): Max retries exceeded with url: /6537/c827cd60a1304b61e10cf17a2fbfb1b1/ip2017.pdf (Caused by SSLError(SSLEOFError(8, 'EOF occurred in violation of protocol (_ssl.c:997)')))\n",
      "Failed to download file: status code 403\n",
      "Failed to download file: status code 403\n",
      "Failed to download file: HTTPSConnectionPool(host='dacemirror.sci-hub.se', port=443): Max retries exceeded with url: /journal-article/0e3cc5ca7ddabff30beae814f9681fff/beck2016.pdf (Caused by SSLError(SSLEOFError(8, 'EOF occurred in violation of protocol (_ssl.c:997)')))\n",
      "Failed to download file: status code 403\n",
      "Failed to download file: Invalid URL 'http:/downloads/2019-01-01/64/10.1145@3272127.3275076.pdf#navpanes=0&view=FitH': No host supplied\n",
      "Failed to download file: HTTPSConnectionPool(host='dacemirror.sci-hub.se', port=443): Max retries exceeded with url: /journal-article/036d96421817bd4d6803b310fe93d12c/feng2017.pdf (Caused by SSLError(SSLEOFError(8, 'EOF occurred in violation of protocol (_ssl.c:997)')))\n",
      "Failed to download file: status code 403\n",
      "Failed to download file: HTTPSConnectionPool(host='zero.sci-hub.se', port=443): Max retries exceeded with url: /2280/dcc45eae2dcd4cec8bb4a2c0f1ac48fb/cen2014.pdf (Caused by SSLError(SSLEOFError(8, 'EOF occurred in violation of protocol (_ssl.c:997)')))\n",
      "Failed to download file: HTTPSConnectionPool(host='dacemirror.sci-hub.se', port=443): Max retries exceeded with url: /journal-article/23325162bb64222f14cec018a8ee3df1/10.5897@ijps11.726.pdf (Caused by SSLError(SSLEOFError(8, 'EOF occurred in violation of protocol (_ssl.c:997)')))\n",
      "Failed to download file: HTTPSConnectionPool(host='zero.sci-hub.se', port=443): Max retries exceeded with url: /6607/cc987202ea07ccb7747b2183fd6c088a/donnelly2017.pdf (Caused by SSLError(SSLEOFError(8, 'EOF occurred in violation of protocol (_ssl.c:997)')))\n",
      "Failed to download file: HTTPSConnectionPool(host='dacemirror.sci-hub.se', port=443): Max retries exceeded with url: /journal-article/55db436f8d5ea283a44b16c4fc229f75/walsh2013.pdf (Caused by SSLError(SSLEOFError(8, 'EOF occurred in violation of protocol (_ssl.c:997)')))\n",
      "Failed to download file: HTTPSConnectionPool(host='zero.sci-hub.se', port=443): Max retries exceeded with url: /2183/92cf297d4ad86cfa5176c4579ffe081a/digironimo2012.pdf (Caused by SSLError(SSLEOFError(8, 'EOF occurred in violation of protocol (_ssl.c:997)')))\n",
      "Failed to download file: HTTPSConnectionPool(host='dacemirror.sci-hub.se', port=443): Max retries exceeded with url: /journal-article/0fb8681781a4b5e3d25cfd0c13ebcef4/10.1016@0031-32039190050-f.pdf (Caused by SSLError(SSLEOFError(8, 'EOF occurred in violation of protocol (_ssl.c:997)')))\n",
      "Failed to download file: status code 403\n",
      "Failed to download file: HTTPSConnectionPool(host='zero.sci-hub.se', port=443): Max retries exceeded with url: /1816/1739b91fe9b8392d56034492de380f5e/pelechano2006.pdf (Caused by SSLError(SSLEOFError(8, 'EOF occurred in violation of protocol (_ssl.c:997)')))\n",
      "Failed to download file: Invalid URL 'http:/downloads/2021-07-05/87/wang2021.pdf#navpanes=0&view=FitH': No host supplied\n",
      "Failed to download file: HTTPSConnectionPool(host='zero.sci-hub.se', port=443): Max retries exceeded with url: /4356/97651769db22f9ebc4e7e4e882aa5181/beaudoin2004.pdf (Caused by SSLError(SSLEOFError(8, 'EOF occurred in violation of protocol (_ssl.c:997)')))\n",
      "Failed to download file: HTTPSConnectionPool(host='dacemirror.sci-hub.se', port=443): Max retries exceeded with url: /journal-article/2a7891441699cb4d9bbc098904ac6691/10.1016@j.procs.2016.05.305.pdf (Caused by SSLError(SSLEOFError(8, 'EOF occurred in violation of protocol (_ssl.c:997)')))\n",
      "Failed to download file: HTTPSConnectionPool(host='zero.sci-hub.se', port=443): Max retries exceeded with url: /1813/c01b6c3a0dc7e815a22d4de644f4c5c2/ohba1997.pdf (Caused by SSLError(SSLEOFError(8, 'EOF occurred in violation of protocol (_ssl.c:997)')))\n",
      "Failed to download file: HTTPSConnectionPool(host='dacemirror.sci-hub.se', port=443): Max retries exceeded with url: /journal-article/7de7b71e394fea85e0d3e18bd250a404/shapira2008.pdf (Caused by SSLError(SSLEOFError(8, 'EOF occurred in violation of protocol (_ssl.c:997)')))\n",
      "Failed to download file: HTTPSConnectionPool(host='zero.sci-hub.se', port=443): Max retries exceeded with url: /942/649d0e15fd87f08c38ea75059c52e8d3/schmidt2008.pdf (Caused by SSLError(SSLEOFError(8, 'EOF occurred in violation of protocol (_ssl.c:997)')))\n",
      "Failed to download file: HTTPSConnectionPool(host='dacemirror.sci-hub.se', port=443): Max retries exceeded with url: /journal-article/a1882db3572431633aef4ec513a16350/yu2012.pdf (Caused by SSLError(SSLEOFError(8, 'EOF occurred in violation of protocol (_ssl.c:997)')))\n",
      "Failed to download file: HTTPSConnectionPool(host='zero.sci-hub.se', port=443): Max retries exceeded with url: /895/22d4acbbf7ac199573b96111ac04fd83/chen2005.pdf (Caused by SSLError(SSLEOFError(8, 'EOF occurred in violation of protocol (_ssl.c:997)')))\n",
      "Failed to download file: HTTPSConnectionPool(host='zero.sci-hub.se', port=443): Max retries exceeded with url: /3611/6b552922442f46c03fab180335933422/fuks2005.pdf (Caused by SSLError(SSLEOFError(8, 'EOF occurred in violation of protocol (_ssl.c:997)')))\n",
      "Failed to download file: HTTPSConnectionPool(host='zero.sci-hub.se', port=443): Max retries exceeded with url: /6582/b5dd4264ef05a7c295c4a8c8bf5e34aa/pham2017.pdf (Caused by SSLError(SSLEOFError(8, 'EOF occurred in violation of protocol (_ssl.c:997)')))\n",
      "Failed to download file: HTTPSConnectionPool(host='dacemirror.sci-hub.se', port=443): Max retries exceeded with url: /journal-article/67400db889643cb7b37e1567428f597a/dang2013.pdf (Caused by SSLError(SSLEOFError(8, 'EOF occurred in violation of protocol (_ssl.c:997)')))\n",
      "Failed to download file: HTTPSConnectionPool(host='dacemirror.sci-hub.se', port=443): Max retries exceeded with url: /journal-article/b928f1c0fd4449d2baa6ae0cc15bd3fa/watt2005.pdf (Caused by SSLError(SSLEOFError(8, 'EOF occurred in violation of protocol (_ssl.c:997)')))\n",
      "Failed to download file: HTTPSConnectionPool(host='dacemirror.sci-hub.se', port=443): Max retries exceeded with url: /journal-article/e944deead1750c3138604e29ae63a5f8/degoes2008.pdf (Caused by SSLError(SSLEOFError(8, 'EOF occurred in violation of protocol (_ssl.c:997)')))\n",
      "Failed to download file: HTTPSConnectionPool(host='zero.sci-hub.se', port=443): Max retries exceeded with url: /477/3c138acd50530fe8d0422742c1a395b1/puppo1998.pdf (Caused by SSLError(SSLEOFError(8, 'EOF occurred in violation of protocol (_ssl.c:997)')))\n",
      "Failed to download file: status code 403\n",
      "Failed to download file: HTTPSConnectionPool(host='zero.sci-hub.se', port=443): Max retries exceeded with url: /3092/82184fef90bbd89aa2ecc2740096696e/giachetti2011.pdf (Caused by SSLError(SSLEOFError(8, 'EOF occurred in violation of protocol (_ssl.c:997)')))\n",
      "Failed to download file: HTTPSConnectionPool(host='zero.sci-hub.se', port=443): Max retries exceeded with url: /6762/426ecca3e9783181c0182300930dacc3/mendes2018.pdf (Caused by SSLError(SSLEOFError(8, 'EOF occurred in violation of protocol (_ssl.c:997)')))\n",
      "Failed to download file: status code 403\n",
      "Failed to download file: HTTPSConnectionPool(host='dacemirror.sci-hub.se', port=443): Max retries exceeded with url: /journal-article/d2e40bc9a46495d7b3050c43edf05236/xue2018.pdf (Caused by SSLError(SSLEOFError(8, 'EOF occurred in violation of protocol (_ssl.c:997)')))\n",
      "Failed to download file: status code 403\n",
      "Failed to download file: status code 403\n",
      "Failed to download file: status code 403\n",
      "Failed to download file: Invalid URL 'http:/downloads/2019-07-25/61/10.1145@3306346.3322985.pdf#navpanes=0&view=FitH': No host supplied\n",
      "Failed to download file: status code 403\n",
      "Failed to download file: HTTPSConnectionPool(host='dacemirror.sci-hub.se', port=443): Max retries exceeded with url: /journal-article/8f17631a87fe978ee37bf6728547da8a/ma2015.pdf (Caused by SSLError(SSLEOFError(8, 'EOF occurred in violation of protocol (_ssl.c:997)')))\n",
      "Failed to download file: Invalid URL 'http:/tree/17/a7/17a715cbc81e239231e86fc3c1e6c46e.pdf#navpanes=0&view=FitH': No host supplied\n",
      "Failed to download file: HTTPSConnectionPool(host='dacemirror.sci-hub.se', port=443): Max retries exceeded with url: /journal-article/dad682b837f8ec160c7370b7877eb10a/li2006.pdf (Caused by SSLError(SSLEOFError(8, 'EOF occurred in violation of protocol (_ssl.c:997)')))\n",
      "Failed to download file: HTTPSConnectionPool(host='dacemirror.sci-hub.se', port=443): Max retries exceeded with url: /journal-article/5d292416f1fd44112cfa3621678da80c/bronstein2006.pdf (Caused by SSLError(SSLEOFError(8, 'EOF occurred in violation of protocol (_ssl.c:997)')))\n",
      "Failed to download file: HTTPSConnectionPool(host='dacemirror.sci-hub.se', port=443): Max retries exceeded with url: /journal-article/86d84ccaca92d59ce5cdf034d09b502d/tong-yeelee2008.pdf (Caused by SSLError(SSLEOFError(8, 'EOF occurred in violation of protocol (_ssl.c:997)')))\n",
      "Failed to download file: HTTPSConnectionPool(host='dacemirror.sci-hub.se', port=443): Max retries exceeded with url: /journal-article/b355e4edec03672f7251f243bded31b8/katayama2013.pdf (Caused by SSLError(SSLEOFError(8, 'EOF occurred in violation of protocol (_ssl.c:997)')))\n",
      "Failed to download file: HTTPSConnectionPool(host='zero.sci-hub.se', port=443): Max retries exceeded with url: /7156/303a37963a61d2c3e6dd0879e2b1fe06/10.3390@s17020244.pdf (Caused by SSLError(SSLEOFError(8, 'EOF occurred in violation of protocol (_ssl.c:997)')))\n",
      "Failed to download file: status code 403\n",
      "Failed to download file: HTTPSConnectionPool(host='dacemirror.sci-hub.se', port=443): Max retries exceeded with url: /journal-article/60433ce007e71e9ec37b63fe4f2c68f5/parke1975.pdf (Caused by SSLError(SSLEOFError(8, 'EOF occurred in violation of protocol (_ssl.c:997)')))\n",
      "Failed to download file: Invalid URL 'http:/downloads/2019-01-17//bc/lopes2016.pdf#navpanes=0&view=FitH': No host supplied\n",
      "Failed to download file: HTTPSConnectionPool(host='zero.sci-hub.se', port=443): Max retries exceeded with url: /7036/8f0d47b683aae795c3f26c4963fc952c/drory2014.pdf (Caused by SSLError(SSLEOFError(8, 'EOF occurred in violation of protocol (_ssl.c:997)')))\n",
      "Failed to download file: HTTPSConnectionPool(host='dacemirror.sci-hub.se', port=443): Max retries exceeded with url: /journal-article/39ad0c2bf3c39aa3ceed8ea6b94e571c/ghorbani2002.pdf (Caused by SSLError(SSLEOFError(8, 'EOF occurred in violation of protocol (_ssl.c:997)')))\n",
      "Failed to download file: status code 403\n",
      "Failed to download file: HTTPSConnectionPool(host='zero.sci-hub.se', port=443): Max retries exceeded with url: /3368/4cd9f59cd90b9bf8813d22b260e72f36/keall2005.pdf (Caused by SSLError(SSLEOFError(8, 'EOF occurred in violation of protocol (_ssl.c:997)')))\n",
      "Failed to download file: HTTPSConnectionPool(host='dacemirror.sci-hub.se', port=443): Max retries exceeded with url: /journal-article/76c6501d3ebdbc53f8661c408038e7ec/bassia2001.pdf (Caused by SSLError(SSLEOFError(8, 'EOF occurred in violation of protocol (_ssl.c:997)')))\n",
      "Failed to download file: Invalid URL 'http:/tree/f5/e9/f5e9842cc1539a71f669325c51d5983d.pdf#navpanes=0&view=FitH': No host supplied\n",
      "Failed to download file: HTTPSConnectionPool(host='zero.sci-hub.se', port=443): Max retries exceeded with url: /6707/10fd9df327823d98558e30b5a4c07317/rozantsev2018.pdf (Caused by SSLError(SSLEOFError(8, 'EOF occurred in violation of protocol (_ssl.c:997)')))\n",
      "Failed to download file: status code 403\n",
      "Failed to download file: Invalid URL 'http:/downloads/2020-12-24/04/ahmed2020.pdf#navpanes=0&view=FitH': No host supplied\n",
      "Failed to download file: HTTPSConnectionPool(host='zero.sci-hub.se', port=443): Max retries exceeded with url: /6928/d28417e69459dcc4fbf16f3f60953d17/xia2013.pdf (Caused by SSLError(SSLEOFError(8, 'EOF occurred in violation of protocol (_ssl.c:997)')))\n",
      "Failed to download file: HTTPSConnectionPool(host='zero.sci-hub.se', port=443): Max retries exceeded with url: /3177/2a0c47ea582cf9c1c3fd1ce51281bc6e/alexe2012.pdf (Caused by SSLError(SSLEOFError(8, 'EOF occurred in violation of protocol (_ssl.c:997)')))\n",
      "Failed to download file: status code 403\n",
      "Failed to download file: status code 403\n",
      "Failed to download file: HTTPSConnectionPool(host='dacemirror.sci-hub.se', port=443): Max retries exceeded with url: /journal-article/256d28aaf8a9c9c09fd3377a4ee33b17/laffont2012.pdf (Caused by SSLError(SSLEOFError(8, 'EOF occurred in violation of protocol (_ssl.c:997)')))\n",
      "Failed to download file: HTTPSConnectionPool(host='dacemirror.sci-hub.se', port=443): Max retries exceeded with url: /journal-article/ca09c95f625becd8660686a988e125e4/maamar2011.pdf (Caused by SSLError(SSLEOFError(8, 'EOF occurred in violation of protocol (_ssl.c:997)')))\n",
      "Failed to download file: status code 403\n",
      "Failed to download file: HTTPSConnectionPool(host='dacemirror.sci-hub.se', port=443): Max retries exceeded with url: /journal-article/f5ef439cb72af4e682e5301ea2b65144/zhang2003.pdf (Caused by SSLError(SSLEOFError(8, 'EOF occurred in violation of protocol (_ssl.c:997)')))\n",
      "Failed to download file: HTTPSConnectionPool(host='zero.sci-hub.se', port=443): Max retries exceeded with url: /802/b8a183e3520cf3c6467c6f66dcecaf80/10.1007@s11241-008-9063-4.pdf (Caused by SSLError(SSLEOFError(8, 'EOF occurred in violation of protocol (_ssl.c:997)')))\n",
      "Failed to download file: HTTPSConnectionPool(host='dacemirror.sci-hub.se', port=443): Max retries exceeded with url: /journal-article/5df923f31f26a1b16be1a1dd8b9ac78d/tao2007.pdf (Caused by SSLError(SSLEOFError(8, 'EOF occurred in violation of protocol (_ssl.c:997)')))\n",
      "Failed to download file: HTTPSConnectionPool(host='dacemirror.sci-hub.se', port=443): Max retries exceeded with url: /journal-article/38bbb4229d6e3297a2248b9743fc4d69/heitz2015.pdf (Caused by SSLError(SSLEOFError(8, 'EOF occurred in violation of protocol (_ssl.c:997)')))\n",
      "Failed to download file: Invalid URL 'http:/downloads/2019-01-28//08/sun2018.pdf#navpanes=0&view=FitH': No host supplied\n",
      "Failed to download file: HTTPSConnectionPool(host='dacemirror.sci-hub.se', port=443): Max retries exceeded with url: /journal-article/719ce8a7e1f762cf75ed279ac2dd27a0/xu2016.pdf (Caused by SSLError(SSLEOFError(8, 'EOF occurred in violation of protocol (_ssl.c:997)')))\n",
      "Failed to download file: HTTPSConnectionPool(host='zero.sci-hub.se', port=443): Max retries exceeded with url: /5862/ae2cae104092e4b3dc470fa75fb03fcf/cordts2016.pdf (Caused by SSLError(SSLEOFError(8, 'EOF occurred in violation of protocol (_ssl.c:997)')))\n",
      "Failed to download file: HTTPSConnectionPool(host='dacemirror.sci-hub.se', port=443): Max retries exceeded with url: /journal-article/9471a6288e7b50095d7437ff22536593/nasri1991.pdf (Caused by SSLError(SSLEOFError(8, 'EOF occurred in violation of protocol (_ssl.c:997)')))\n",
      "Failed to download file: HTTPSConnectionPool(host='dacemirror.sci-hub.se', port=443): Max retries exceeded with url: /journal-article/efc3a561026c6cf575a0db0651a2f5df/lu2017.pdf (Caused by SSLError(SSLEOFError(8, 'EOF occurred in violation of protocol (_ssl.c:997)')))\n",
      "Failed to download file: status code 403\n",
      "Failed to download file: Invalid URL 'http:/downloads/2019-11-17/5c/kaewjaeng2019.pdf#navpanes=0&view=FitH': No host supplied\n",
      "Failed to download file: HTTPSConnectionPool(host='dacemirror.sci-hub.se', port=443): Max retries exceeded with url: /journal-article/c7de25a9898e2c6a54480a597c3de25d/xuexiangxie2007.pdf (Caused by SSLError(SSLEOFError(8, 'EOF occurred in violation of protocol (_ssl.c:997)')))\n",
      "Failed to download file: status code 403\n",
      "Failed to download file: Invalid URL 'http:/downloads/2019-10-23/10/schneider2019.pdf#navpanes=0&view=FitH': No host supplied\n",
      "Failed to download file: Invalid URL 'http:/downloads/2020-05-25/be/roerdink2000.pdf#navpanes=0&view=FitH': No host supplied\n",
      "Failed to download file: status code 403\n",
      "Failed to download file: status code 403\n",
      "Failed to download file: Invalid URL 'http:/downloads/2021-06-09/96/tewari2020.pdf#navpanes=0&view=FitH': No host supplied\n",
      "Failed to download file: HTTPSConnectionPool(host='dacemirror.sci-hub.se', port=443): Max retries exceeded with url: /journal-article/eb5f082e4559bc3c14faabe852f6130e/10.1016@s0262-88569900012-8.pdf (Caused by SSLError(SSLEOFError(8, 'EOF occurred in violation of protocol (_ssl.c:997)')))\n",
      "Failed to download file: HTTPSConnectionPool(host='dacemirror.sci-hub.se', port=443): Max retries exceeded with url: /journal-article/6889fb14f4bc8765116827bbcd1f09c3/vanysek2014.pdf (Caused by SSLError(SSLEOFError(8, 'EOF occurred in violation of protocol (_ssl.c:997)')))\n",
      "Failed to download file: HTTPSConnectionPool(host='zero.sci-hub.se', port=443): Max retries exceeded with url: /5799/15a2bb6469eb24dafb06f35077a4a553/chen2016.pdf (Caused by SSLError(SSLEOFError(8, 'EOF occurred in violation of protocol (_ssl.c:997)')))\n",
      "Failed to download file: HTTPSConnectionPool(host='zero.sci-hub.se', port=443): Max retries exceeded with url: /6880/3a1781c3e055050d5d1838194ae3fe29/haubold2017.pdf (Caused by SSLError(SSLEOFError(8, 'EOF occurred in violation of protocol (_ssl.c:997)')))\n",
      "Failed to download file: Invalid URL 'http:/tree/56/0f/560ff56b7a3c09d9af0c242ea4adc802.pdf#navpanes=0&view=FitH': No host supplied\n",
      "Failed to download file: HTTPSConnectionPool(host='zero.sci-hub.se', port=443): Max retries exceeded with url: /2049/70d0ac009863c90e921c17e7920b2638/boult2001.pdf (Caused by SSLError(SSLEOFError(8, 'EOF occurred in violation of protocol (_ssl.c:997)')))\n",
      "Failed to download file: HTTPSConnectionPool(host='zero.sci-hub.se', port=443): Max retries exceeded with url: /2182/3893ce14a51ada6eb3a2922e4bcca512/demelo2011.pdf (Caused by SSLError(SSLEOFError(8, 'EOF occurred in violation of protocol (_ssl.c:997)')))\n",
      "Failed to download file: HTTPSConnectionPool(host='dacemirror.sci-hub.se', port=443): Max retries exceeded with url: /journal-article/b4b5789f60dc9809c90c8e497b10becf/etzkorn2001.pdf (Caused by SSLError(SSLEOFError(8, 'EOF occurred in violation of protocol (_ssl.c:997)')))\n",
      "Failed to download file: Invalid URL 'http:/downloads/2021-06-09/be/xu2018.pdf#navpanes=0&view=FitH': No host supplied\n",
      "Failed to download file: status code 403\n",
      "Failed to download file: status code 403\n",
      "Failed to download file: status code 403\n",
      "Failed to download file: HTTPSConnectionPool(host='zero.sci-hub.se', port=443): Max retries exceeded with url: /3422/37edd2296954277bf61372afb3756965/ma2014.pdf (Caused by SSLError(SSLEOFError(8, 'EOF occurred in violation of protocol (_ssl.c:997)')))\n",
      "Failed to download file: status code 403\n",
      "Failed to download file: Invalid URL 'http:/downloads/2021-06-09/28/poranne2017.pdf#navpanes=0&view=FitH': No host supplied\n",
      "Failed to download file: status code 403\n",
      "Failed to download file: HTTPSConnectionPool(host='zero.sci-hub.se', port=443): Max retries exceeded with url: /3147/36667a91a675a28fa0f8204a4dff5a58/steed2012.pdf (Caused by SSLError(SSLEOFError(8, 'EOF occurred in violation of protocol (_ssl.c:997)')))\n",
      "Failed to download file: Invalid URL 'http:/downloads/2019-06-10/ae/yang2010.pdf#navpanes=0&view=FitH': No host supplied\n",
      "Failed to download file: Invalid URL 'http:/downloads/2022-11-08/13/xie2022.pdf#navpanes=0&view=FitH': No host supplied\n",
      "Failed to download file: status code 403\n",
      "Failed to download file: HTTPSConnectionPool(host='zero.sci-hub.se', port=443): Max retries exceeded with url: /2166/bb78b0ee3cab6f309a67c3c3157cc4a2/allen1993.pdf (Caused by SSLError(SSLEOFError(8, 'EOF occurred in violation of protocol (_ssl.c:997)')))\n",
      "Failed to download file: HTTPSConnectionPool(host='zero.sci-hub.se', port=443): Max retries exceeded with url: /1417/38c2bf2a00562270446ad88e87b3d243/gryte1993.pdf (Caused by SSLError(SSLEOFError(8, 'EOF occurred in violation of protocol (_ssl.c:997)')))\n",
      "Failed to download file: status code 403\n",
      "Failed to download file: HTTPSConnectionPool(host='zero.sci-hub.se', port=443): Max retries exceeded with url: /4369/701284835857634321f4032f934485f2/degoes2012.pdf (Caused by SSLError(SSLEOFError(8, 'EOF occurred in violation of protocol (_ssl.c:997)')))\n",
      "Failed to download file: HTTPSConnectionPool(host='dacemirror.sci-hub.se', port=443): Max retries exceeded with url: /journal-article/2d1d49e6496f12991f90d312e9a9cb08/wu2009.pdf (Caused by SSLError(SSLEOFError(8, 'EOF occurred in violation of protocol (_ssl.c:997)')))\n",
      "Failed to download file: Invalid URL 'http:/downloads/2021-06-16/8f/ly2020.pdf#navpanes=0&view=FitH': No host supplied\n",
      "Failed to download file: HTTPSConnectionPool(host='dacemirror.sci-hub.se', port=443): Max retries exceeded with url: /journal-article/c1262fb5a343f505c3c887aaae5bc58d/zhang2006.pdf (Caused by SSLError(SSLEOFError(8, 'EOF occurred in violation of protocol (_ssl.c:997)')))\n",
      "Failed to download file: Invalid URL 'http:/downloads/2019-08-28/4b/10.1609@aaai.v33i01.33016120.pdf#navpanes=0&view=FitH': No host supplied\n",
      "Failed to download file: status code 403\n",
      "Failed to download file: HTTPSConnectionPool(host='dacemirror.sci-hub.se', port=443): Max retries exceeded with url: /journal-article/eb70a5ffa756b593efcacdff48b1d290/dhamecha2014.pdf (Caused by SSLError(SSLEOFError(8, 'EOF occurred in violation of protocol (_ssl.c:997)')))\n",
      "Failed to download file: status code 403\n",
      "Failed to download file: HTTPSConnectionPool(host='zero.sci-hub.se', port=443): Max retries exceeded with url: /4255/c6a861ae14419bad45787d7f773823ad/yosipovitch2007.pdf (Caused by SSLError(SSLEOFError(8, 'EOF occurred in violation of protocol (_ssl.c:997)')))\n",
      "Failed to download file: HTTPSConnectionPool(host='dacemirror.sci-hub.se', port=443): Max retries exceeded with url: /journal-article/c4d0045f35600118e87cff3104b3ba9c/popescu2006.pdf (Caused by SSLError(SSLEOFError(8, 'EOF occurred in violation of protocol (_ssl.c:997)')))\n",
      "Failed to download file: HTTPSConnectionPool(host='dacemirror.sci-hub.se', port=443): Max retries exceeded with url: /journal-article/e4e1b06c3e597b41b250f60c4cbb1add/singh2010.pdf (Caused by SSLError(SSLEOFError(8, 'EOF occurred in violation of protocol (_ssl.c:997)')))\n",
      "Failed to download file: HTTPSConnectionPool(host='zero.sci-hub.se', port=443): Max retries exceeded with url: /422/062940e66234372107f39a7246856462/bryll2003.pdf (Caused by SSLError(SSLEOFError(8, 'EOF occurred in violation of protocol (_ssl.c:997)')))\n",
      "Failed to download file: Invalid URL 'http:/downloads/2020-04-11/43/alzubaidi2020.pdf#navpanes=0&view=FitH': No host supplied\n",
      "Failed to download file: status code 403\n",
      "Failed to download file: HTTPSConnectionPool(host='zero.sci-hub.se', port=443): Max retries exceeded with url: /7094/2ffe0553a8ebb5bea980db325464547d/fleming2003.pdf (Caused by SSLError(SSLEOFError(8, 'EOF occurred in violation of protocol (_ssl.c:997)')))\n",
      "Failed to download file: HTTPSConnectionPool(host='dacemirror.sci-hub.se', port=443): Max retries exceeded with url: /journal-article/9be89dd6771ec82e2eac82b09960f4fb/martins2017.pdf (Caused by SSLError(SSLEOFError(8, 'EOF occurred in violation of protocol (_ssl.c:997)')))\n",
      "Failed to download file: HTTPSConnectionPool(host='zero.sci-hub.se', port=443): Max retries exceeded with url: /6113/12799a5fcd791e52acac3def2af9c615/richter2016.pdf (Caused by SSLError(SSLEOFError(8, 'EOF occurred in violation of protocol (_ssl.c:997)')))\n",
      "Failed to download file: HTTPSConnectionPool(host='zero.sci-hub.se', port=443): Max retries exceeded with url: /5148/80c0f350bb6a26865e5d09d35072e104/black2016.pdf (Caused by SSLError(SSLEOFError(8, 'EOF occurred in violation of protocol (_ssl.c:997)')))\n",
      "Failed to download file: HTTPSConnectionPool(host='zero.sci-hub.se', port=443): Max retries exceeded with url: /6656/fe04abf5b35ff952f2ccd752bf2b5a6b/li2018.pdf (Caused by SSLError(SSLEOFError(8, 'EOF occurred in violation of protocol (_ssl.c:997)')))\n",
      "Failed to download file: Invalid URL 'http:/downloads/2021-06-09/d9/bharaj2015.pdf#navpanes=0&view=FitH': No host supplied\n",
      "Failed to download file: HTTPSConnectionPool(host='dacemirror.sci-hub.se', port=443): Max retries exceeded with url: /journal-article/7f5aea1c7c1f5adc32f30b2639bb26fd/ebeida2011.pdf (Caused by SSLError(SSLEOFError(8, 'EOF occurred in violation of protocol (_ssl.c:997)')))\n",
      "Failed to download file: Invalid URL 'http:/downloads/2020-11-29/66/tessarolo2020.pdf#navpanes=0&view=FitH': No host supplied\n",
      "Failed to download file: Invalid URL 'http:/downloads/2019-08-19/52/10.1016@j.cviu.2019.05.003.pdf#navpanes=0&view=FitH': No host supplied\n",
      "Failed to download file: HTTPSConnectionPool(host='zero.sci-hub.se', port=443): Max retries exceeded with url: /6194/5a211be2e8807d3abffe62d2d1150d30/yu2016.pdf (Caused by SSLError(SSLEOFError(8, 'EOF occurred in violation of protocol (_ssl.c:997)')))\n",
      "Failed to download file: status code 403\n",
      "Failed to download file: status code 403\n",
      "Failed to download file: status code 403\n",
      "Failed to download file: Invalid URL 'http:/downloads/2021-05-13//a5/10.1111@cgf.14189.pdf#navpanes=0&view=FitH': No host supplied\n",
      "Failed to download file: HTTPSConnectionPool(host='dacemirror.sci-hub.se', port=443): Max retries exceeded with url: /journal-article/08f19f880bf6f0c4efea9c2d7b867971/changxingding2015.pdf (Caused by SSLError(SSLEOFError(8, 'EOF occurred in violation of protocol (_ssl.c:997)')))\n",
      "Failed to download file: status code 403\n",
      "Failed to download file: HTTPSConnectionPool(host='zero.sci-hub.se', port=443): Max retries exceeded with url: /338/166710fcd58d6c0a009e864106732445/pottmann2009.pdf (Caused by SSLError(SSLEOFError(8, 'EOF occurred in violation of protocol (_ssl.c:997)')))\n",
      "Failed to download file: status code 403\n",
      "Failed to download file: HTTPSConnectionPool(host='dacemirror.sci-hub.se', port=443): Max retries exceeded with url: /journal-article/b7cb887e6541a40469cfefe3a3bb4fbf/oktay2017.pdf (Caused by SSLError(SSLEOFError(8, 'EOF occurred in violation of protocol (_ssl.c:997)')))\n",
      "Failed to download file: HTTPSConnectionPool(host='dacemirror.sci-hub.se', port=443): Max retries exceeded with url: /journal-article/6f0a3105504ce21109911caaaba1a548/bahceci2017.pdf (Caused by SSLError(SSLEOFError(8, 'EOF occurred in violation of protocol (_ssl.c:997)')))\n",
      "Failed to download file: Invalid URL 'http:/downloads/2019-03-18/15/ding2019.pdf#navpanes=0&view=FitH': No host supplied\n",
      "Failed to download file: status code 403\n",
      "Failed to download file: HTTPSConnectionPool(host='dacemirror.sci-hub.se', port=443): Max retries exceeded with url: /journal-article/4698e080fad985b2936890d2b9f95863/10.2478@nsmmt-2012-0007.pdf (Caused by SSLError(SSLEOFError(8, 'EOF occurred in violation of protocol (_ssl.c:997)')))\n",
      "Failed to download file: HTTPSConnectionPool(host='dacemirror.sci-hub.se', port=443): Max retries exceeded with url: /journal-article/1bbbe9420cb4f6ce43e346700d655502/zhang2014.pdf (Caused by SSLError(SSLEOFError(8, 'EOF occurred in violation of protocol (_ssl.c:997)')))\n",
      "Failed to download file: Invalid URL 'http:/downloads/2020-08-27/ca/bhattacharya2020.pdf#navpanes=0&view=FitH': No host supplied\n",
      "Failed to download file: HTTPSConnectionPool(host='dacemirror.sci-hub.se', port=443): Max retries exceeded with url: /journal-article/b725499ac0bd0d57e201eff8ad51fd33/ziv2015.pdf (Caused by SSLError(SSLEOFError(8, 'EOF occurred in violation of protocol (_ssl.c:997)')))\n",
      "Failed to download file: Invalid URL 'http:/downloads/2021-06-15/41/levkowitz1991.pdf#navpanes=0&view=FitH': No host supplied\n",
      "Failed to download file: HTTPSConnectionPool(host='dacemirror.sci-hub.se', port=443): Max retries exceeded with url: /journal-article/d3056c6eebd3b1d0a68182391a85d573/goodman1977.pdf (Caused by SSLError(SSLEOFError(8, 'EOF occurred in violation of protocol (_ssl.c:997)')))\n",
      "Failed to download file: HTTPSConnectionPool(host='zero.sci-hub.se', port=443): Max retries exceeded with url: /3677/4e57dc9dd372ae20c1d30e177a1d1f46/rizzo2011.pdf (Caused by SSLError(SSLEOFError(8, 'EOF occurred in violation of protocol (_ssl.c:997)')))\n",
      "Failed to download file: HTTPSConnectionPool(host='zero.sci-hub.se', port=443): Max retries exceeded with url: /5876/b7d1c5d2adfe071a46811a2d891ac104/lynnchu2016.pdf (Caused by SSLError(SSLEOFError(8, 'EOF occurred in violation of protocol (_ssl.c:997)')))\n",
      "Failed to download file: HTTPSConnectionPool(host='dacemirror.sci-hub.se', port=443): Max retries exceeded with url: /journal-article/897302f7dbc82c2576b6d31bf1097ebb/haines1986.pdf (Caused by SSLError(SSLEOFError(8, 'EOF occurred in violation of protocol (_ssl.c:997)')))\n",
      "Failed to download file: Invalid URL 'http:/downloads/2020-09-08/15/10.1007@s11263-020-01361-8.pdf#navpanes=0&view=FitH': No host supplied\n",
      "Failed to download file: HTTPSConnectionPool(host='zero.sci-hub.se', port=443): Max retries exceeded with url: /7159/5a6d1c9d193bc046bcf63b2d3908f105/wang2018.pdf (Caused by SSLError(SSLEOFError(8, 'EOF occurred in violation of protocol (_ssl.c:997)')))\n",
      "Failed to download file: status code 403\n",
      "Failed to download file: HTTPSConnectionPool(host='dacemirror.sci-hub.se', port=443): Max retries exceeded with url: /journal-article/548a06416c1e0bfabf5572d71f3d9c6f/challa2017.pdf (Caused by SSLError(SSLEOFError(8, 'EOF occurred in violation of protocol (_ssl.c:997)')))\n",
      "Failed to download file: status code 403\n",
      "Failed to download file: HTTPSConnectionPool(host='zero.sci-hub.se', port=443): Max retries exceeded with url: /3672/ebc318641c86e66343e011da77f10e48/zangwill2004.pdf (Caused by SSLError(SSLEOFError(8, 'EOF occurred in violation of protocol (_ssl.c:997)')))\n",
      "Failed to download file: HTTPSConnectionPool(host='dacemirror.sci-hub.se', port=443): Max retries exceeded with url: /journal-article/6d81bd01affa2de80e898ef079aa342e/bedrossian2010.pdf (Caused by SSLError(SSLEOFError(8, 'EOF occurred in violation of protocol (_ssl.c:997)')))\n",
      "Failed to download file: Invalid URL 'http:/downloads/2019-08-24/0a/10.1609@aaai.v33i01.33018561.pdf#navpanes=0&view=FitH': No host supplied\n",
      "Failed to download file: HTTPSConnectionPool(host='zero.sci-hub.se', port=443): Max retries exceeded with url: /2115/d78a1791070e222d910871cd08fcc34d/abley2013.pdf (Caused by SSLError(SSLEOFError(8, 'EOF occurred in violation of protocol (_ssl.c:997)')))\n",
      "Failed to download file: HTTPSConnectionPool(host='dacemirror.sci-hub.se', port=443): Max retries exceeded with url: /journal-article/eeaf8aa5e538b33bc1cf43382a107057/sensale-rodriguez2012.pdf (Caused by SSLError(SSLEOFError(8, 'EOF occurred in violation of protocol (_ssl.c:997)')))\n",
      "Failed to download file: HTTPSConnectionPool(host='zero.sci-hub.se', port=443): Max retries exceeded with url: /6718/c9900157d7972abb7d9befcf51e6411f/gysel2018.pdf (Caused by SSLError(SSLEOFError(8, 'EOF occurred in violation of protocol (_ssl.c:997)')))\n",
      "Failed to download file: HTTPSConnectionPool(host='dacemirror.sci-hub.se', port=443): Max retries exceeded with url: /journal-article/1b936634d8d950466036123131cb2c34/yixinchen2005.pdf (Caused by SSLError(SSLEOFError(8, 'EOF occurred in violation of protocol (_ssl.c:997)')))\n",
      "Failed to download file: HTTPSConnectionPool(host='zero.sci-hub.se', port=443): Max retries exceeded with url: /2764/ca1afa6d5d6e4b4a361352a6a8f02086/patrick1996.pdf (Caused by SSLError(SSLEOFError(8, 'EOF occurred in violation of protocol (_ssl.c:997)')))\n",
      "Failed to download file: HTTPSConnectionPool(host='dacemirror.sci-hub.se', port=443): Max retries exceeded with url: /journal-article/8f8e6eeaea16830cebcb15c412291695/chan2011.pdf (Caused by SSLError(SSLEOFError(8, 'EOF occurred in violation of protocol (_ssl.c:997)')))\n",
      "Failed to download file: Invalid URL 'http:/downloads/2020-04-30/22/10.3390@s20082426.pdf#navpanes=0&view=FitH': No host supplied\n",
      "Failed to download file: HTTPSConnectionPool(host='dacemirror.sci-hub.se', port=443): Max retries exceeded with url: /journal-article/b64f6bddb16ee86f57e3dd0edc19fb61/mangai2010.pdf (Caused by SSLError(SSLEOFError(8, 'EOF occurred in violation of protocol (_ssl.c:997)')))\n",
      "Failed to download file: HTTPSConnectionPool(host='zero.sci-hub.se', port=443): Max retries exceeded with url: /1823/73922c7d0090387853425577aeea9b01/fan-yintzeng2005.pdf (Caused by SSLError(SSLEOFError(8, 'EOF occurred in violation of protocol (_ssl.c:997)')))\n",
      "Failed to download file: Invalid URL 'http:/downloads/2020-01-27/3e/10.3390@s20020496.pdf#navpanes=0&view=FitH': No host supplied\n",
      "Failed to download file: status code 403\n",
      "Failed to download file: status code 403\n",
      "Failed to download file: Invalid URL 'http:/tree/f8/30/f83058b60828d55268e559af328a9336.pdf#navpanes=0&view=FitH': No host supplied\n",
      "Failed to download file: status code 403\n",
      "Failed to download file: HTTPSConnectionPool(host='dacemirror.sci-hub.se', port=443): Max retries exceeded with url: /journal-article/90a198ef505a1c9604c677a9b78db588/selle2007.pdf (Caused by SSLError(SSLEOFError(8, 'EOF occurred in violation of protocol (_ssl.c:997)')))\n",
      "Failed to download file: Invalid URL 'http:/downloads/2022-11-10/53/shao2022.pdf#navpanes=0&view=FitH': No host supplied\n",
      "Failed to download file: HTTPSConnectionPool(host='zero.sci-hub.se', port=443): Max retries exceeded with url: /6675/3b488e790cbbf14bc20045a844479629/10.1073@pnas.1717042115.pdf (Caused by SSLError(SSLEOFError(8, 'EOF occurred in violation of protocol (_ssl.c:997)')))\n",
      "Failed to download file: Invalid URL 'http:/downloads/2021-06-09/f4/luo2020.pdf#navpanes=0&view=FitH': No host supplied\n",
      "Failed to download file: Invalid URL 'http:/tree/4c/80/4c807229185785dd0c01ce089a364c10.pdf#navpanes=0&view=FitH': No host supplied\n",
      "Failed to download file: Invalid URL 'http:/downloads/2020-11-01/ec/xia2020.pdf#navpanes=0&view=FitH': No host supplied\n",
      "Failed to download file: Invalid URL 'http:/downloads/2019-08-21/af/heinesen2019.pdf#navpanes=0&view=FitH': No host supplied\n",
      "Failed to download file: HTTPSConnectionPool(host='zero.sci-hub.se', port=443): Max retries exceeded with url: /4491/4b8c939d25ad167ea4a9933efa7eaf8a/velho1999.pdf (Caused by SSLError(SSLEOFError(8, 'EOF occurred in violation of protocol (_ssl.c:997)')))\n",
      "Failed to download file: HTTPSConnectionPool(host='zero.sci-hub.se', port=443): Max retries exceeded with url: /1995/24138631e3cc4d85e92a7d2b803a982f/leusink2009.pdf (Caused by SSLError(SSLEOFError(8, 'EOF occurred in violation of protocol (_ssl.c:997)')))\n",
      "Failed to download file: Invalid URL 'http:/downloads/2020-01-17/1b/wilson2014.pdf#navpanes=0&view=FitH': No host supplied\n",
      "Failed to download file: HTTPSConnectionPool(host='dacemirror.sci-hub.se', port=443): Max retries exceeded with url: /journal-article/f18bf7ff82a055446de42e1dbb6d2a09/mann1993.pdf (Caused by SSLError(SSLEOFError(8, 'EOF occurred in violation of protocol (_ssl.c:997)')))\n",
      "Failed to download file: status code 403\n",
      "Failed to download file: status code 403\n",
      "Failed to download file: status code 403\n",
      "Failed to download file: status code 403\n",
      "Failed to download file: HTTPSConnectionPool(host='dacemirror.sci-hub.se', port=443): Max retries exceeded with url: /journal-article/e4ed9b50d1671726d20ac51b5e497d82/shiratori2006.pdf (Caused by SSLError(SSLEOFError(8, 'EOF occurred in violation of protocol (_ssl.c:997)')))\n",
      "Failed to download file: status code 403\n",
      "Failed to download file: status code 403\n",
      "Failed to download file: HTTPSConnectionPool(host='dacemirror.sci-hub.se', port=443): Max retries exceeded with url: /journal-article/6faa2c382b853e332da1d55051f48e90/finlayson1994.pdf (Caused by SSLError(SSLEOFError(8, 'EOF occurred in violation of protocol (_ssl.c:997)')))\n",
      "Failed to download file: Invalid URL 'http:/downloads/2019-03-18/64/10.1109@tii.2019.2897594.pdf#navpanes=0&view=FitH': No host supplied\n",
      "Failed to download file: HTTPSConnectionPool(host='dacemirror.sci-hub.se', port=443): Max retries exceeded with url: /journal-article/42fde0b27ee359b7aa77f4e656603c07/morigi2007.pdf (Caused by SSLError(SSLEOFError(8, 'EOF occurred in violation of protocol (_ssl.c:997)')))\n",
      "Failed to download file: Invalid URL 'http:/downloads/2019-04-09/8e/wald2006.pdf#navpanes=0&view=FitH': No host supplied\n",
      "Failed to download file: HTTPSConnectionPool(host='dacemirror.sci-hub.se', port=443): Max retries exceeded with url: /journal-article/20090acae25b4e11c0eb450efa53ff85/xia2017.pdf (Caused by SSLError(SSLEOFError(8, 'EOF occurred in violation of protocol (_ssl.c:997)')))\n",
      "Failed to download file: status code 403\n",
      "Failed to download file: status code 403\n",
      "Failed to download file: Invalid URL 'http:/tree/05/ef/05ef40af738893e4f3a779159656be4c.pdf#navpanes=0&view=FitH': No host supplied\n",
      "Failed to download file: HTTPSConnectionPool(host='moscow.sci-hub.se', port=443): Max retries exceeded with url: /4371/d186371c95452aec7cb765c0d356f069/zhang2014.pdf (Caused by SSLError(SSLEOFError(8, 'EOF occurred in violation of protocol (_ssl.c:997)')))\n",
      "Failed to download file: status code 403\n",
      "Failed to download file: status code 403\n",
      "Failed to download file: status code 403\n",
      "Failed to download file: status code 403\n",
      "Failed to download file: Invalid URL 'http:/downloads/2020-12-16/fb/yang2021.pdf#navpanes=0&view=FitH': No host supplied\n",
      "Failed to download file: Invalid URL 'http:/downloads/2020-01-13/66/ren2019.pdf#navpanes=0&view=FitH': No host supplied\n",
      "Failed to download file: HTTPSConnectionPool(host='moscow.sci-hub.se', port=443): Max retries exceeded with url: /3240/251be9f4963ccaaffebb832fecc525c3/li2013.pdf (Caused by SSLError(SSLEOFError(8, 'EOF occurred in violation of protocol (_ssl.c:997)')))\n",
      "Failed to download file: HTTPSConnectionPool(host='dacemirror.sci-hub.se', port=443): Max retries exceeded with url: /journal-article/767de2bcfcdab428564de026107da406/huang2017.pdf (Caused by SSLError(SSLEOFError(8, 'EOF occurred in violation of protocol (_ssl.c:997)')))\n",
      "Failed to download file: Invalid URL 'http:/downloads/2019-02-26/39/sokolova2018.pdf#navpanes=0&view=FitH': No host supplied\n",
      "Failed to download file: status code 403\n",
      "Failed to download file: HTTPSConnectionPool(host='dacemirror.sci-hub.se', port=443): Max retries exceeded with url: /journal-article/94cbdf14070d1def78c4797958481984/gadaleta2018.pdf (Caused by SSLError(SSLEOFError(8, 'EOF occurred in violation of protocol (_ssl.c:997)')))\n",
      "Failed to download file: status code 403\n",
      "Failed to download file: HTTPSConnectionPool(host='moscow.sci-hub.se', port=443): Max retries exceeded with url: /3943/1312cbcd4f1bf27512d88c918c9155f3/wang2014.pdf (Caused by SSLError(SSLEOFError(8, 'EOF occurred in violation of protocol (_ssl.c:997)')))\n",
      "Failed to download file: HTTPSConnectionPool(host='dacemirror.sci-hub.se', port=443): Max retries exceeded with url: /journal-article/4236e25e1344aa82ddfd57e7a31f22ea/hamarneh2010.pdf (Caused by SSLError(SSLEOFError(8, 'EOF occurred in violation of protocol (_ssl.c:997)')))\n",
      "Failed to download file: status code 403\n",
      "Failed to download file: status code 403\n",
      "Failed to download file: status code 403\n",
      "Failed to download file: HTTPSConnectionPool(host='dacemirror.sci-hub.se', port=443): Max retries exceeded with url: /journal-article/a0d0bb0dd02e7a261aad6ff73010a041/caballero1997.pdf (Caused by SSLError(SSLEOFError(8, 'EOF occurred in violation of protocol (_ssl.c:997)')))\n",
      "Failed to download file: status code 403\n",
      "Failed to download file: HTTPSConnectionPool(host='moscow.sci-hub.se', port=443): Max retries exceeded with url: /4960/b0422c842863a9e85a7ceafeef46b0fa/wilson2010.pdf (Caused by SSLError(SSLEOFError(8, 'EOF occurred in violation of protocol (_ssl.c:997)')))\n",
      "Failed to download file: HTTPSConnectionPool(host='dacemirror.sci-hub.se', port=443): Max retries exceeded with url: /journal-article/36ab9566a0d5d9bfd402087dd9ecda42/zhou2002.pdf (Caused by SSLError(SSLEOFError(8, 'EOF occurred in violation of protocol (_ssl.c:997)')))\n",
      "Failed to download file: HTTPSConnectionPool(host='dacemirror.sci-hub.se', port=443): Max retries exceeded with url: /journal-article/cc6802d4042160d7fe30d8ab074692b3/srinivasan2014.pdf (Caused by SSLError(SSLEOFError(8, 'EOF occurred in violation of protocol (_ssl.c:997)')))\n",
      "Failed to download file: status code 403\n",
      "Failed to download file: HTTPSConnectionPool(host='moscow.sci-hub.se', port=443): Max retries exceeded with url: /3609/9efce11fac0fc14a201256a891d3e78f/huang2007.pdf (Caused by SSLError(SSLEOFError(8, 'EOF occurred in violation of protocol (_ssl.c:997)')))\n",
      "Failed to download file: HTTPSConnectionPool(host='dacemirror.sci-hub.se', port=443): Max retries exceeded with url: /journal-article/d078e86bb1dc4965cf4a8cd995c1f66d/huang2014.pdf (Caused by SSLError(SSLEOFError(8, 'EOF occurred in violation of protocol (_ssl.c:997)')))\n",
      "Failed to download file: HTTPSConnectionPool(host='moscow.sci-hub.se', port=443): Max retries exceeded with url: /4425/8fbb1e0ca1a1e48cf81291627e99630e/hayman2004.pdf (Caused by SSLError(SSLEOFError(8, 'EOF occurred in violation of protocol (_ssl.c:997)')))\n",
      "Failed to download file: HTTPSConnectionPool(host='dacemirror.sci-hub.se', port=443): Max retries exceeded with url: /journal-article/9ef0f5ff0de0653acc471bd9589b4211/zhang2015.pdf (Caused by SSLError(SSLEOFError(8, 'EOF occurred in violation of protocol (_ssl.c:997)')))\n",
      "Failed to download file: status code 403\n",
      "Failed to download file: HTTPSConnectionPool(host='dacemirror.sci-hub.se', port=443): Max retries exceeded with url: /journal-article/4cddf7b3bd6c9bd4b02c9acd0f5b73ee/guo2012.pdf (Caused by SSLError(SSLEOFError(8, 'EOF occurred in violation of protocol (_ssl.c:997)')))\n",
      "Failed to download file: status code 403\n",
      "Failed to download file: status code 403\n",
      "Failed to download file: HTTPSConnectionPool(host='dacemirror.sci-hub.se', port=443): Max retries exceeded with url: /journal-article/708d9cdb5b7955455b9aa6b862dc7f6a/lijiexu2010.pdf (Caused by SSLError(SSLEOFError(8, 'EOF occurred in violation of protocol (_ssl.c:997)')))\n",
      "Failed to download file: HTTPSConnectionPool(host='dacemirror.sci-hub.se', port=443): Max retries exceeded with url: /journal-article/ec95469827e234639ae80049d58c6835/ritschel2012.pdf (Caused by SSLError(SSLEOFError(8, 'EOF occurred in violation of protocol (_ssl.c:997)')))\n",
      "Failed to download file: HTTPSConnectionPool(host='moscow.sci-hub.se', port=443): Max retries exceeded with url: /3996/f40f24957c31010595aaa969637c8ee2/zollmann2012.pdf (Caused by SSLError(SSLEOFError(8, 'EOF occurred in violation of protocol (_ssl.c:997)')))\n",
      "Failed to download file: HTTPSConnectionPool(host='dacemirror.sci-hub.se', port=443): Max retries exceeded with url: /journal-article/94208d62ea702b1a1d88ae7273777969/durupinar2016.pdf (Caused by SSLError(SSLEOFError(8, 'EOF occurred in violation of protocol (_ssl.c:997)')))\n",
      "Failed to download file: status code 403\n",
      "Failed to download file: status code 403\n",
      "Failed to download file: HTTPSConnectionPool(host='dacemirror.sci-hub.se', port=443): Max retries exceeded with url: /journal-article/672b9dd53b9fa6f72519b6f910064201/walker2016.pdf (Caused by SSLError(SSLEOFError(8, 'EOF occurred in violation of protocol (_ssl.c:997)')))\n",
      "Failed to download file: HTTPSConnectionPool(host='moscow.sci-hub.se', port=443): Max retries exceeded with url: /2155/28d84a5488c6282ff4ead44488a1fde8/yan2013.pdf (Caused by SSLError(SSLEOFError(8, 'EOF occurred in violation of protocol (_ssl.c:997)')))\n",
      "Failed to download file: Invalid URL 'http:/downloads/2020-05-23/4f/10.1109@TPAMI.2020.2995190.pdf#navpanes=0&view=FitH': No host supplied\n",
      "Failed to download file: Invalid URL 'http:/downloads/2019-03-30/ae/10.1111@cgf.13319.pdf#navpanes=0&view=FitH': No host supplied\n",
      "Failed to download file: HTTPSConnectionPool(host='dacemirror.sci-hub.se', port=443): Max retries exceeded with url: /journal-article/9073dbca9278211cbcf34d322990ee06/wang2015.pdf (Caused by SSLError(SSLEOFError(8, 'EOF occurred in violation of protocol (_ssl.c:997)')))\n",
      "Failed to download file: HTTPSConnectionPool(host='moscow.sci-hub.se', port=443): Max retries exceeded with url: /4397/c6c7d3f799289dbc924619a057c721bb/gubbi2015.pdf (Caused by SSLError(SSLEOFError(8, 'EOF occurred in violation of protocol (_ssl.c:997)')))\n",
      "Failed to download file: HTTPSConnectionPool(host='moscow.sci-hub.se', port=443): Max retries exceeded with url: /942/dd6424a994b42f04a693bdb08ab604ec/bruckner2007.pdf (Caused by SSLError(SSLEOFError(8, 'EOF occurred in violation of protocol (_ssl.c:997)')))\n",
      "Failed to download file: status code 403\n",
      "Failed to download file: status code 403\n",
      "Failed to download file: status code 403\n",
      "Failed to download file: status code 403\n",
      "Failed to download file: HTTPSConnectionPool(host='moscow.sci-hub.se', port=443): Max retries exceeded with url: /338/e7b0fa48ee7558e5f431baa7cc3c9a44/ropinski2011.pdf (Caused by SSLError(SSLEOFError(8, 'EOF occurred in violation of protocol (_ssl.c:997)')))\n",
      "Failed to download file: HTTPSConnectionPool(host='moscow.sci-hub.se', port=443): Max retries exceeded with url: /3101/63a70162073d7b9cc66fbb34111336af/yanweifu2014.pdf (Caused by SSLError(SSLEOFError(8, 'EOF occurred in violation of protocol (_ssl.c:997)')))\n",
      "Failed to download file: HTTPSConnectionPool(host='moscow.sci-hub.se', port=443): Max retries exceeded with url: /2648/b0e5fb701fcfb42d1791ca3539423f33/tao1993.pdf (Caused by SSLError(SSLEOFError(8, 'EOF occurred in violation of protocol (_ssl.c:997)')))\n",
      "Failed to download file: status code 403\n",
      "Failed to download file: status code 403\n",
      "Failed to download file: HTTPSConnectionPool(host='moscow.sci-hub.se', port=443): Max retries exceeded with url: /338/57ede22e50e2709592be4eaa69a7cfe1/wang2011.pdf (Caused by SSLError(SSLEOFError(8, 'EOF occurred in violation of protocol (_ssl.c:997)')))\n",
      "Failed to download file: Invalid URL 'http:/tree/5b/fd/5bfde28a56427aaff0d6542f88c391f0.pdf#navpanes=0&view=FitH': No host supplied\n",
      "Failed to download file: status code 403\n",
      "Failed to download file: status code 403\n",
      "Failed to download file: status code 403\n",
      "Failed to download file: HTTPSConnectionPool(host='moscow.sci-hub.se', port=443): Max retries exceeded with url: /3284/791980fcbb744ec2799db1f6368fc9fa/hua2015.pdf (Caused by SSLError(SSLEOFError(8, 'EOF occurred in violation of protocol (_ssl.c:997)')))\n",
      "Failed to download file: HTTPSConnectionPool(host='moscow.sci-hub.se', port=443): Max retries exceeded with url: /1814/10f16af5cde15250de0a618bd41d697a/kwan-liuma1994.pdf (Caused by SSLError(SSLEOFError(8, 'EOF occurred in violation of protocol (_ssl.c:997)')))\n",
      "Failed to download file: HTTPSConnectionPool(host='dacemirror.sci-hub.se', port=443): Max retries exceeded with url: /journal-article/0af05702404050b2fd101b6cf4093775/stratis2014.pdf (Caused by SSLError(SSLEOFError(8, 'EOF occurred in violation of protocol (_ssl.c:997)')))\n",
      "Failed to download file: HTTPSConnectionPool(host='moscow.sci-hub.se', port=443): Max retries exceeded with url: /754/790b4a19b191ad4eafe2f6910216fa77/granderath2006.pdf (Caused by SSLError(SSLEOFError(8, 'EOF occurred in violation of protocol (_ssl.c:997)')))\n",
      "Failed to download file: HTTPSConnectionPool(host='dacemirror.sci-hub.se', port=443): Max retries exceeded with url: /journal-article/908a854f19ffd84c4597e92c026fde4d/pizurica2006.pdf (Caused by SSLError(SSLEOFError(8, 'EOF occurred in violation of protocol (_ssl.c:997)')))\n",
      "Failed to download file: status code 403\n",
      "Failed to download file: status code 403\n",
      "Failed to download file: HTTPSConnectionPool(host='dacemirror.sci-hub.se', port=443): Max retries exceeded with url: /journal-article/c28e9b499323898dc4c7e3a5015229ff/deselaers2012.pdf (Caused by SSLError(SSLEOFError(8, 'EOF occurred in violation of protocol (_ssl.c:997)')))\n",
      "Failed to download file: HTTPSConnectionPool(host='dacemirror.sci-hub.se', port=443): Max retries exceeded with url: /journal-article/fce1a859157a662ba5d2fe7651cd4999/caramazza2018.pdf (Caused by SSLError(SSLEOFError(8, 'EOF occurred in violation of protocol (_ssl.c:997)')))\n",
      "Failed to download file: status code 403\n",
      "Failed to download file: status code 403\n",
      "Failed to download file: HTTPSConnectionPool(host='dacemirror.sci-hub.se', port=443): Max retries exceeded with url: /journal-article/50c946bf1a4da4b7b60d626ea306f92f/ribero2007.pdf (Caused by SSLError(SSLEOFError(8, 'EOF occurred in violation of protocol (_ssl.c:997)')))\n",
      "Failed to download file: status code 403\n",
      "Failed to download file: HTTPSConnectionPool(host='moscow.sci-hub.se', port=443): Max retries exceeded with url: /4286/f28c6f1daa2ba58847e36dca5670183d/whitwell2012.pdf (Caused by SSLError(SSLEOFError(8, 'EOF occurred in violation of protocol (_ssl.c:997)')))\n",
      "Failed to download file: HTTPSConnectionPool(host='dacemirror.sci-hub.se', port=443): Max retries exceeded with url: /journal-article/7a1a7e63db3d776830e2f917f48554f3/macke2009.pdf (Caused by SSLError(SSLEOFError(8, 'EOF occurred in violation of protocol (_ssl.c:997)')))\n",
      "Failed to download file: HTTPSConnectionPool(host='dacemirror.sci-hub.se', port=443): Max retries exceeded with url: /journal-article/846992026f30d11e90e5eab0b39e449f/kaulard2012.pdf (Caused by SSLError(SSLEOFError(8, 'EOF occurred in violation of protocol (_ssl.c:997)')))\n",
      "Failed to download file: HTTPSConnectionPool(host='moscow.sci-hub.se', port=443): Max retries exceeded with url: /942/1e28a27d8c591cb3444823eb4f72912e/weber2009.pdf (Caused by SSLError(SSLEOFError(8, 'EOF occurred in violation of protocol (_ssl.c:997)')))\n",
      "Failed to download file: HTTPSConnectionPool(host='moscow.sci-hub.se', port=443): Max retries exceeded with url: /2189/253bb8cba5c4b89c3f381188043d4b44/beazley-long2013.pdf (Caused by SSLError(SSLEOFError(8, 'EOF occurred in violation of protocol (_ssl.c:997)')))\n",
      "Failed to download file: HTTPSConnectionPool(host='dacemirror.sci-hub.se', port=443): Max retries exceeded with url: /journal-article/459214d51a040601e277f7575dff6330/hu2008.pdf (Caused by SSLError(SSLEOFError(8, 'EOF occurred in violation of protocol (_ssl.c:997)')))\n",
      "Failed to download file: HTTPSConnectionPool(host='dacemirror.sci-hub.se', port=443): Max retries exceeded with url: /journal-article/c09569e3edadd38dc9e80feb22675f9c/tagliasacchi2015.pdf (Caused by SSLError(SSLEOFError(8, 'EOF occurred in violation of protocol (_ssl.c:997)')))\n",
      "Failed to download file: HTTPSConnectionPool(host='moscow.sci-hub.se', port=443): Max retries exceeded with url: /3877/99bae5a954b1972fa96e13e8cb4deff2/uchiyama2001.pdf (Caused by SSLError(SSLEOFError(8, 'EOF occurred in violation of protocol (_ssl.c:997)')))\n",
      "Failed to download file: status code 403\n",
      "Failed to download file: HTTPSConnectionPool(host='moscow.sci-hub.se', port=443): Max retries exceeded with url: /1813/1240ef99d60c8bf4f69bc89d4872144b/hall2000.pdf (Caused by SSLError(SSLEOFError(8, 'EOF occurred in violation of protocol (_ssl.c:997)')))\n",
      "Failed to download file: Invalid URL 'http:/downloads/2020-07-26/df/wan2020.pdf#navpanes=0&view=FitH': No host supplied\n",
      "Failed to download file: HTTPSConnectionPool(host='moscow.sci-hub.se', port=443): Max retries exceeded with url: /4312/377b313397a6c2f30d95b55d3c123969/aldoma2012.pdf (Caused by SSLError(SSLEOFError(8, 'EOF occurred in violation of protocol (_ssl.c:997)')))\n",
      "Failed to download file: HTTPSConnectionPool(host='dacemirror.sci-hub.se', port=443): Max retries exceeded with url: /journal-article/bcb30fad19c92e7e2b18a0469d9290fb/tidoni2016.pdf (Caused by SSLError(SSLEOFError(8, 'EOF occurred in violation of protocol (_ssl.c:997)')))\n",
      "Failed to download file: HTTPSConnectionPool(host='moscow.sci-hub.se', port=443): Max retries exceeded with url: /349/350ec86f76a37dcdddd832dac39902f2/fasel2005.pdf (Caused by SSLError(SSLEOFError(8, 'EOF occurred in violation of protocol (_ssl.c:997)')))\n",
      "Failed to download file: HTTPSConnectionPool(host='moscow.sci-hub.se', port=443): Max retries exceeded with url: /4352/223f4d7bdecba64c255771dbf1f48e0e/jillela2012.pdf (Caused by SSLError(SSLEOFError(8, 'EOF occurred in violation of protocol (_ssl.c:997)')))\n",
      "Failed to download file: HTTPSConnectionPool(host='dacemirror.sci-hub.se', port=443): Max retries exceeded with url: /journal-article/4b798f9406de6da38cfd590780f65649/coeurjolly2004.pdf (Caused by SSLError(SSLEOFError(8, 'EOF occurred in violation of protocol (_ssl.c:997)')))\n",
      "Failed to download file: HTTPSConnectionPool(host='dacemirror.sci-hub.se', port=443): Max retries exceeded with url: /journal-article/f6c4529e4f564bf1c08db799024fe6e0/zheng2011.pdf (Caused by SSLError(SSLEOFError(8, 'EOF occurred in violation of protocol (_ssl.c:997)')))\n",
      "Failed to download file: HTTPSConnectionPool(host='moscow.sci-hub.se', port=443): Max retries exceeded with url: /2675/df261052ace91b3570d3e369b744a3b9/zhang2015.pdf (Caused by SSLError(SSLEOFError(8, 'EOF occurred in violation of protocol (_ssl.c:997)')))\n",
      "Failed to download file: HTTPSConnectionPool(host='moscow.sci-hub.se', port=443): Max retries exceeded with url: /852/0a3b002e9f28d79b24243ae9f2f17384/bae2009.pdf (Caused by SSLError(SSLEOFError(8, 'EOF occurred in violation of protocol (_ssl.c:997)')))\n",
      "Failed to download file: HTTPSConnectionPool(host='dacemirror.sci-hub.se', port=443): Max retries exceeded with url: /journal-article/0530e13c5b44c36ea9d5335af9017ec8/samet1984.pdf (Caused by SSLError(SSLEOFError(8, 'EOF occurred in violation of protocol (_ssl.c:997)')))\n",
      "Failed to download file: status code 403\n",
      "Failed to download file: status code 403\n",
      "Failed to download file: HTTPSConnectionPool(host='dacemirror.sci-hub.se', port=443): Max retries exceeded with url: /journal-article/4cd607ba99b3c009540870f2fd7a40a6/nasri2002.pdf (Caused by SSLError(SSLEOFError(8, 'EOF occurred in violation of protocol (_ssl.c:997)')))\n",
      "Failed to download file: Invalid URL 'http:/downloads/2022-11-09/66/farrugia2022.pdf#navpanes=0&view=FitH': No host supplied\n",
      "Failed to download file: Invalid URL 'http:/downloads/2019-07-17/f9/10.1109@TPAMI.2019.2916866.pdf#navpanes=0&view=FitH': No host supplied\n",
      "Failed to download file: status code 403\n",
      "Failed to download file: HTTPSConnectionPool(host='moscow.sci-hub.se', port=443): Max retries exceeded with url: /4444/2c4adf8b5c93357c514e670bc5076a75/wang1990.pdf (Caused by SSLError(SSLEOFError(8, 'EOF occurred in violation of protocol (_ssl.c:997)')))\n",
      "Failed to download file: HTTPSConnectionPool(host='moscow.sci-hub.se', port=443): Max retries exceeded with url: /803/ec00894d0b4dbc26a671f2edc8c088fe/mobahi2011.pdf (Caused by SSLError(SSLEOFError(8, 'EOF occurred in violation of protocol (_ssl.c:997)')))\n",
      "Failed to download file: HTTPSConnectionPool(host='dacemirror.sci-hub.se', port=443): Max retries exceeded with url: /journal-article/de3a0eda16793dca028e84bf2b012a78/cornelissen2008.pdf (Caused by SSLError(SSLEOFError(8, 'EOF occurred in violation of protocol (_ssl.c:997)')))\n",
      "Failed to download file: HTTPSConnectionPool(host='dacemirror.sci-hub.se', port=443): Max retries exceeded with url: /journal-article/d69a4b8618c9afb83968fbaa5c39ba85/zhang2017.pdf (Caused by SSLError(SSLEOFError(8, 'EOF occurred in violation of protocol (_ssl.c:997)')))\n",
      "Failed to download file: HTTPSConnectionPool(host='moscow.sci-hub.se', port=443): Max retries exceeded with url: /2050/24c06024a01711f516e2491965b480b2/magarey1998.pdf (Caused by SSLError(SSLEOFError(8, 'EOF occurred in violation of protocol (_ssl.c:997)')))\n",
      "Failed to download file: HTTPSConnectionPool(host='moscow.sci-hub.se', port=443): Max retries exceeded with url: /3943/17c24fdc0e294a97b2f0cef2d696b78a/amidror1994.pdf (Caused by SSLError(SSLEOFError(8, 'EOF occurred in violation of protocol (_ssl.c:997)')))\n",
      "Failed to download file: HTTPSConnectionPool(host='dacemirror.sci-hub.se', port=443): Max retries exceeded with url: /journal-article/c25530ebd4d6d51e7bcd2e271eed1b02/hermiz2002.pdf (Caused by SSLError(SSLEOFError(8, 'EOF occurred in violation of protocol (_ssl.c:997)')))\n",
      "Failed to download file: status code 403\n",
      "Failed to download file: HTTPSConnectionPool(host='dacemirror.sci-hub.se', port=443): Max retries exceeded with url: /journal-article/114c9b554e702976a3ad737e3d27de04/jin2017.pdf (Caused by SSLError(SSLEOFError(8, 'EOF occurred in violation of protocol (_ssl.c:997)')))\n",
      "Failed to download file: status code 403\n",
      "Failed to download file: status code 403\n",
      "Failed to download file: HTTPSConnectionPool(host='dacemirror.sci-hub.se', port=443): Max retries exceeded with url: /journal-article/fa40cd3f66725efef0ac3997e7b1476b/berriel2017.pdf (Caused by SSLError(SSLEOFError(8, 'EOF occurred in violation of protocol (_ssl.c:997)')))\n",
      "Failed to download file: HTTPSConnectionPool(host='moscow.sci-hub.se', port=443): Max retries exceeded with url: /743/33a5229ca0b11e589b28cab4a572504a/giorgi2010.pdf (Caused by SSLError(SSLEOFError(8, 'EOF occurred in violation of protocol (_ssl.c:997)')))\n",
      "Failed to download file: Invalid URL 'http:/downloads/2021-06-29/66/chen2021.pdf#navpanes=0&view=FitH': No host supplied\n",
      "Failed to download file: status code 403\n",
      "Failed to download file: HTTPSConnectionPool(host='moscow.sci-hub.se', port=443): Max retries exceeded with url: /942/d1727efa54ebe636cf7a8456803014cc/yu2009.pdf (Caused by SSLError(SSLEOFError(8, 'EOF occurred in violation of protocol (_ssl.c:997)')))\n",
      "Failed to download file: HTTPSConnectionPool(host='dacemirror.sci-hub.se', port=443): Max retries exceeded with url: /journal-article/e1290335637d8fc34825958c510a5e60/cover1993.pdf (Caused by SSLError(SSLEOFError(8, 'EOF occurred in violation of protocol (_ssl.c:997)')))\n",
      "Failed to download file: HTTPSConnectionPool(host='dacemirror.sci-hub.se', port=443): Max retries exceeded with url: /journal-article/0096431a200cfe5e0a5554990a47ce56/epifanio2011.pdf (Caused by SSLError(SSLEOFError(8, 'EOF occurred in violation of protocol (_ssl.c:997)')))\n",
      "Failed to download file: status code 403\n",
      "Failed to download file: status code 403\n",
      "Failed to download file: Invalid URL 'http:/tree/9c/34/9c34c311de76b83d5db7f424003ef715.pdf#navpanes=0&view=FitH': No host supplied\n",
      "Failed to download file: HTTPSConnectionPool(host='moscow.sci-hub.se', port=443): Max retries exceeded with url: /2349/8b1238583f669e2582706f6a4f702784/frintrop2010.pdf (Caused by SSLError(SSLEOFError(8, 'EOF occurred in violation of protocol (_ssl.c:997)')))\n",
      "Failed to download file: HTTPSConnectionPool(host='dacemirror.sci-hub.se', port=443): Max retries exceeded with url: /journal-article/c16d806b26baa863259d983080591694/kwon2016.pdf (Caused by SSLError(SSLEOFError(8, 'EOF occurred in violation of protocol (_ssl.c:997)')))\n",
      "Failed to download file: HTTPSConnectionPool(host='moscow.sci-hub.se', port=443): Max retries exceeded with url: /1870/695c606ee517992ab05ec952b6b03f08/pasko1995.pdf (Caused by SSLError(SSLEOFError(8, 'EOF occurred in violation of protocol (_ssl.c:997)')))\n",
      "Failed to download file: status code 403\n",
      "Failed to download file: HTTPSConnectionPool(host='dacemirror.sci-hub.se', port=443): Max retries exceeded with url: /journal-article/e63d1e5458ac48575202a228b72cbaad/zelinsky2009.pdf (Caused by SSLError(SSLEOFError(8, 'EOF occurred in violation of protocol (_ssl.c:997)')))\n",
      "Failed to download file: status code 403\n",
      "Failed to download file: status code 403\n",
      "Failed to download file: HTTPSConnectionPool(host='moscow.sci-hub.se', port=443): Max retries exceeded with url: /2767/305161d3e403c1f66a053b8a173d3718/kupfer2015.pdf (Caused by SSLError(SSLEOFError(8, 'EOF occurred in violation of protocol (_ssl.c:997)')))\n",
      "Failed to download file: HTTPSConnectionPool(host='moscow.sci-hub.se', port=443): Max retries exceeded with url: /2050/f1d49997fa753c7afb7b45cd95adb09a/lerner1998.pdf (Caused by SSLError(SSLEOFError(8, 'EOF occurred in violation of protocol (_ssl.c:997)')))\n",
      "Failed to download file: HTTPSConnectionPool(host='moscow.sci-hub.se', port=443): Max retries exceeded with url: /1822/351f32e287ac8a7acce0127dad8ca8b5/shapiro1985.pdf (Caused by SSLError(SSLEOFError(8, 'EOF occurred in violation of protocol (_ssl.c:997)')))\n",
      "Failed to download file: status code 403\n",
      "Failed to download file: HTTPSConnectionPool(host='moscow.sci-hub.se', port=443): Max retries exceeded with url: /1837/297aee4816d36e855928f033084a86ad/cao2013.pdf (Caused by SSLError(SSLEOFError(8, 'EOF occurred in violation of protocol (_ssl.c:997)')))\n",
      "Failed to download file: status code 403\n",
      "Failed to download file: HTTPSConnectionPool(host='dacemirror.sci-hub.se', port=443): Max retries exceeded with url: /journal-article/fe8ef999fa97766b32e4ad99e2ca3517/barthe2003.pdf (Caused by SSLError(SSLEOFError(8, 'EOF occurred in violation of protocol (_ssl.c:997)')))\n",
      "Failed to download file: HTTPSConnectionPool(host='dacemirror.sci-hub.se', port=443): Max retries exceeded with url: /journal-article/a608c984760e7437670b50d2540350b6/li2016.pdf (Caused by SSLError(SSLEOFError(8, 'EOF occurred in violation of protocol (_ssl.c:997)')))\n",
      "Failed to download file: HTTPSConnectionPool(host='dacemirror.sci-hub.se', port=443): Max retries exceeded with url: /journal-article/c6817d558cf9a7cadc974b424e772ca3/boutemedjet2009.pdf (Caused by SSLError(SSLEOFError(8, 'EOF occurred in violation of protocol (_ssl.c:997)')))\n",
      "Failed to download file: HTTPSConnectionPool(host='moscow.sci-hub.se', port=443): Max retries exceeded with url: /1823/fc6e09752193641bbf644fa2314cd4cd/zhanpingliu2005.pdf (Caused by SSLError(SSLEOFError(8, 'EOF occurred in violation of protocol (_ssl.c:997)')))\n",
      "Failed to download file: status code 403\n",
      "Failed to download file: HTTPSConnectionPool(host='dacemirror.sci-hub.se', port=443): Max retries exceeded with url: /journal-article/06ca24fd9fea1e614890f8c4859055d8/bae2010.pdf (Caused by SSLError(SSLEOFError(8, 'EOF occurred in violation of protocol (_ssl.c:997)')))\n",
      "Failed to download file: status code 403\n",
      "Failed to download file: HTTPSConnectionPool(host='moscow.sci-hub.se', port=443): Max retries exceeded with url: /3177/dad3fea4b152493677e3275caae55819/schunck2014.pdf (Caused by SSLError(SSLEOFError(8, 'EOF occurred in violation of protocol (_ssl.c:997)')))\n",
      "Failed to download file: status code 403\n",
      "Failed to download file: status code 403\n",
      "Failed to download file: HTTPSConnectionPool(host='moscow.sci-hub.se', port=443): Max retries exceeded with url: /1315/ff5737dbb10500119d6c83f8c380eb87/sullivan2012.pdf (Caused by SSLError(SSLEOFError(8, 'EOF occurred in violation of protocol (_ssl.c:997)')))\n",
      "Failed to download file: HTTPSConnectionPool(host='dacemirror.sci-hub.se', port=443): Max retries exceeded with url: /journal-article/f287ee1bc9bdf7df6912fe102a5902f7/10.1016@j.imavis.2005.07.015.pdf (Caused by SSLError(SSLEOFError(8, 'EOF occurred in violation of protocol (_ssl.c:997)')))\n",
      "Failed to download file: HTTPSConnectionPool(host='moscow.sci-hub.se', port=443): Max retries exceeded with url: /702/a8d97c3077242c3a2737d8ba6e834541/mckee2004.pdf (Caused by SSLError(SSLEOFError(8, 'EOF occurred in violation of protocol (_ssl.c:997)')))\n",
      "Failed to download file: HTTPSConnectionPool(host='moscow.sci-hub.se', port=443): Max retries exceeded with url: /1449/5054f153e3155721c2b2c202c91503f2/cordier2002.pdf (Caused by SSLError(SSLEOFError(8, 'EOF occurred in violation of protocol (_ssl.c:997)')))\n",
      "Failed to download file: status code 403\n",
      "Failed to download file: HTTPSConnectionPool(host='moscow.sci-hub.se', port=443): Max retries exceeded with url: /3592/113f6fd817222b1851c8f36e851afe7a/krumm2008.pdf (Caused by SSLError(SSLEOFError(8, 'EOF occurred in violation of protocol (_ssl.c:997)')))\n",
      "Failed to download file: status code 403\n",
      "Failed to download file: HTTPSConnectionPool(host='moscow.sci-hub.se', port=443): Max retries exceeded with url: /3954/dec196fec4afb0322c331815fd85f917/cui2004.pdf (Caused by SSLError(SSLEOFError(8, 'EOF occurred in violation of protocol (_ssl.c:997)')))\n",
      "Failed to download file: Invalid URL 'http:/downloads/2019-10-21/96/ben-younes2019.pdf#navpanes=0&view=FitH': No host supplied\n",
      "Failed to download file: Invalid URL 'http:/downloads/2020-11-03/ec/nilanon2020.pdf#navpanes=0&view=FitH': No host supplied\n",
      "Failed to download file: HTTPSConnectionPool(host='dacemirror.sci-hub.se', port=443): Max retries exceeded with url: /journal-article/7c1da2d2247d3b58a792bd0d10cdf30e/gribaudo2016.pdf (Caused by SSLError(SSLEOFError(8, 'EOF occurred in violation of protocol (_ssl.c:997)')))\n",
      "Failed to download file: Invalid URL 'http:/downloads/2019-01-17//af/kiss1994.pdf#navpanes=0&view=FitH': No host supplied\n",
      "Failed to download file: HTTPSConnectionPool(host='moscow.sci-hub.se', port=443): Max retries exceeded with url: /4367/e6cc2a24306bd023c441702547955b0b/gkioulekas2013.pdf (Caused by SSLError(SSLEOFError(8, 'EOF occurred in violation of protocol (_ssl.c:997)')))\n",
      "Failed to download file: Invalid URL 'http:/downloads/2022-11-07/0a/10.1016@j.future.2022.01.017.pdf#navpanes=0&view=FitH': No host supplied\n",
      "Failed to download file: Invalid URL 'http:/downloads/2022-11-07/ff/jaroenram2022.pdf#navpanes=0&view=FitH': No host supplied\n",
      "Failed to download file: Invalid URL 'http:/downloads/2020-01-10/7f/derksen2002.pdf#navpanes=0&view=FitH': No host supplied\n",
      "Failed to download file: HTTPSConnectionPool(host='dacemirror.sci-hub.se', port=443): Max retries exceeded with url: /journal-article/445fad2e5a80c33cc3bee5c11809b153/mattausch2014.pdf (Caused by SSLError(SSLEOFError(8, 'EOF occurred in violation of protocol (_ssl.c:997)')))\n",
      "Failed to download file: HTTPSConnectionPool(host='dacemirror.sci-hub.se', port=443): Max retries exceeded with url: /journal-article/a5ac457fdcd273bfac76a640156ccec7/uhlmann2017.pdf (Caused by SSLError(SSLEOFError(8, 'EOF occurred in violation of protocol (_ssl.c:997)')))\n",
      "Failed to download file: HTTPSConnectionPool(host='dacemirror.sci-hub.se', port=443): Max retries exceeded with url: /journal-article/0c6ca049106f6bef5d35ecf6325406f9/greenspan2001.pdf (Caused by SSLError(SSLEOFError(8, 'EOF occurred in violation of protocol (_ssl.c:997)')))\n",
      "Failed to download file: HTTPSConnectionPool(host='moscow.sci-hub.se', port=443): Max retries exceeded with url: /1310/f526a2179275a2a8690493dd388ce2dc/tang2011.pdf (Caused by SSLError(SSLEOFError(8, 'EOF occurred in violation of protocol (_ssl.c:997)')))\n",
      "Failed to download file: status code 403\n",
      "Failed to download file: HTTPSConnectionPool(host='dacemirror.sci-hub.se', port=443): Max retries exceeded with url: /journal-article/1a332ef987eb497d26b14974e75d7a2c/krumhuber2007.pdf (Caused by SSLError(SSLEOFError(8, 'EOF occurred in violation of protocol (_ssl.c:997)')))\n",
      "Failed to download file: status code 403\n",
      "Failed to download file: HTTPSConnectionPool(host='moscow.sci-hub.se', port=443): Max retries exceeded with url: /2571/62ca7313d5f3921065ff06a6ffc077ad/dang2014.pdf (Caused by SSLError(SSLEOFError(8, 'EOF occurred in violation of protocol (_ssl.c:997)')))\n",
      "Failed to download file: HTTPSConnectionPool(host='moscow.sci-hub.se', port=443): Max retries exceeded with url: /1822/ef4cde45a2a4cded67d9c7353bdfa28c/weihongdeng2012.pdf (Caused by SSLError(SSLEOFError(8, 'EOF occurred in violation of protocol (_ssl.c:997)')))\n",
      "Failed to download file: status code 403\n",
      "Failed to download file: status code 403\n",
      "Failed to download file: Invalid URL 'http:/downloads/2020-01-21/7b/grubert2018.pdf#navpanes=0&view=FitH': No host supplied\n",
      "Failed to download file: status code 403\n",
      "Failed to download file: HTTPSConnectionPool(host='dacemirror.sci-hub.se', port=443): Max retries exceeded with url: /journal-article/8fe28e90c9bce640696c10a0d1c52ada/cook2016.pdf (Caused by SSLError(SSLEOFError(8, 'EOF occurred in violation of protocol (_ssl.c:997)')))\n",
      "Failed to download file: status code 403\n",
      "Failed to download file: HTTPSConnectionPool(host='moscow.sci-hub.se', port=443): Max retries exceeded with url: /3570/11a5ad4c6d2249a25818352fd110992f/rubin1993.pdf (Caused by SSLError(SSLEOFError(8, 'EOF occurred in violation of protocol (_ssl.c:997)')))\n",
      "Failed to download file: status code 403\n",
      "Failed to download file: HTTPSConnectionPool(host='moscow.sci-hub.se', port=443): Max retries exceeded with url: /819/62bfbbe9f881fffad5a1bee4cb9fe472/santos2007.pdf (Caused by SSLError(SSLEOFError(8, 'EOF occurred in violation of protocol (_ssl.c:997)')))\n",
      "Failed to download file: status code 403\n",
      "Failed to download file: HTTPSConnectionPool(host='moscow.sci-hub.se', port=443): Max retries exceeded with url: /858/01839c41ea6cae9268eaca77e2b0657b/cross2009.pdf (Caused by SSLError(SSLEOFError(8, 'EOF occurred in violation of protocol (_ssl.c:997)')))\n",
      "Failed to download file: status code 403\n",
      "Failed to download file: HTTPSConnectionPool(host='dacemirror.sci-hub.se', port=443): Max retries exceeded with url: /journal-article/6a1be729de734eab6fa427b3f5b9a99c/terzopoulos1994.pdf (Caused by SSLError(SSLEOFError(8, 'EOF occurred in violation of protocol (_ssl.c:997)')))\n",
      "Failed to download file: HTTPSConnectionPool(host='moscow.sci-hub.se', port=443): Max retries exceeded with url: /572/9d7fa1327b4c82ddcd152082581c139c/belhumeur1996.pdf (Caused by SSLError(SSLEOFError(8, 'EOF occurred in violation of protocol (_ssl.c:997)')))\n",
      "Failed to download file: HTTPSConnectionPool(host='moscow.sci-hub.se', port=443): Max retries exceeded with url: /1864/16c2bf072bac527b1de7fac11f96d813/chan2006.pdf (Caused by SSLError(SSLEOFError(8, 'EOF occurred in violation of protocol (_ssl.c:997)')))\n",
      "Failed to download file: status code 403\n",
      "Failed to download file: status code 403\n",
      "Failed to download file: Invalid URL 'http:/downloads/2020-07-29/72/khater2020.pdf#navpanes=0&view=FitH': No host supplied\n",
      "Failed to download file: HTTPSConnectionPool(host='moscow.sci-hub.se', port=443): Max retries exceeded with url: /1634/a178ea19943fb47cf8ace6886881e5bb/jokisch2005.pdf (Caused by SSLError(SSLEOFError(8, 'EOF occurred in violation of protocol (_ssl.c:997)')))\n",
      "Failed to download file: HTTPSConnectionPool(host='dacemirror.sci-hub.se', port=443): Max retries exceeded with url: /journal-article/481058d83e8e5e3e43eda2bcd3575ed7/eilertsen2017.pdf (Caused by SSLError(SSLEOFError(8, 'EOF occurred in violation of protocol (_ssl.c:997)')))\n",
      "Failed to download file: HTTPSConnectionPool(host='moscow.sci-hub.se', port=443): Max retries exceeded with url: /2151/580ad4aac566e997d6911ba4743083f7/bioucas-dias2013.pdf (Caused by SSLError(SSLEOFError(8, 'EOF occurred in violation of protocol (_ssl.c:997)')))\n",
      "Failed to download file: HTTPSConnectionPool(host='dacemirror.sci-hub.se', port=443): Max retries exceeded with url: /journal-article/85eadd3745b9cb5c54ba26f24bd51dec/burian2016.pdf (Caused by SSLError(SSLEOFError(8, 'EOF occurred in violation of protocol (_ssl.c:997)')))\n",
      "Failed to download file: status code 403\n",
      "Failed to download file: status code 403\n",
      "Failed to download file: Invalid URL 'http:/downloads/2019-11-29/51/kim2019.pdf#navpanes=0&view=FitH': No host supplied\n",
      "Failed to download file: status code 403\n",
      "Failed to download file: Invalid URL 'http:/downloads/2019-08-30/a8/smith2019.pdf#navpanes=0&view=FitH': No host supplied\n",
      "Failed to download file: Invalid URL 'http:/tree/0c/74/0c74baddde34b0c04c3d810d6d810bc9.pdf#navpanes=0&view=FitH': No host supplied\n",
      "Failed to download file: HTTPSConnectionPool(host='moscow.sci-hub.se', port=443): Max retries exceeded with url: /2756/aa8f331080d7e74fcfa759cadad91493/yeung2004.pdf (Caused by SSLError(SSLEOFError(8, 'EOF occurred in violation of protocol (_ssl.c:997)')))\n",
      "Failed to download file: Invalid URL 'http:/downloads/2020-10-15/64/lachinov2020.pdf#navpanes=0&view=FitH': No host supplied\n",
      "Failed to download file: status code 403\n",
      "Failed to download file: HTTPSConnectionPool(host='moscow.sci-hub.se', port=443): Max retries exceeded with url: /1814/52d5baa7128f5c5c28c762ce1054b438/stollnitz1995.pdf (Caused by SSLError(SSLEOFError(8, 'EOF occurred in violation of protocol (_ssl.c:997)')))\n",
      "Failed to download file: HTTPSConnectionPool(host='dacemirror.sci-hub.se', port=443): Max retries exceeded with url: /journal-article/0e9e7887ccd9aa53605794b5010b2905/khan2013.pdf (Caused by SSLError(SSLEOFError(8, 'EOF occurred in violation of protocol (_ssl.c:997)')))\n",
      "Failed to download file: Invalid URL 'http:/downloads/2021-06-15/68/montes2020.pdf#navpanes=0&view=FitH': No host supplied\n",
      "Failed to download file: HTTPSConnectionPool(host='dacemirror.sci-hub.se', port=443): Max retries exceeded with url: /journal-article/625dea539389af8c14627c46e4142e2a/deoliveiramartins2008.pdf (Caused by SSLError(SSLEOFError(8, 'EOF occurred in violation of protocol (_ssl.c:997)')))\n",
      "Failed to download file: HTTPSConnectionPool(host='dacemirror.sci-hub.se', port=443): Max retries exceeded with url: /journal-article/843a4107667982a751315f81354ae02f/svoboda2005.pdf (Caused by SSLError(SSLEOFError(8, 'EOF occurred in violation of protocol (_ssl.c:997)')))\n",
      "Failed to download file: Invalid URL 'http:/downloads/2020-10-31/22/furler2002.pdf#navpanes=0&view=FitH': No host supplied\n",
      "Failed to download file: HTTPSConnectionPool(host='dacemirror.sci-hub.se', port=443): Max retries exceeded with url: /journal-article/89d422581897d7935eddb8c672aff43c/jin2015.pdf (Caused by SSLError(SSLEOFError(8, 'EOF occurred in violation of protocol (_ssl.c:997)')))\n",
      "Failed to download file: Invalid URL 'http:/downloads/2020-09-01/fd/brunsteinklomek2018.pdf#navpanes=0&view=FitH': No host supplied\n",
      "Failed to download file: ('Connection aborted.', ConnectionResetError(54, 'Connection reset by peer'))\n",
      "Failed to download file: HTTPSConnectionPool(host='moscow.sci-hub.se', port=443): Max retries exceeded with url: /4361/1ddec96883435f198c8ac96b78248046/bertails-descoubes2011.pdf (Caused by SSLError(SSLEOFError(8, 'EOF occurred in violation of protocol (_ssl.c:997)')))\n",
      "Failed to download file: status code 403\n",
      "Failed to download file: HTTPSConnectionPool(host='moscow.sci-hub.se', port=443): Max retries exceeded with url: /5121/76732b6025bed0692aac914f5c6b4904/ramanathan2010.pdf (Caused by SSLError(SSLEOFError(8, 'EOF occurred in violation of protocol (_ssl.c:997)')))\n",
      "Failed to download file: Invalid URL 'http:/downloads/2019-07-18/78/10.1111@cgf.13664.pdf#navpanes=0&view=FitH': No host supplied\n",
      "Failed to download file: status code 403\n",
      "Failed to download file: HTTPSConnectionPool(host='moscow.sci-hub.se', port=443): Max retries exceeded with url: /4650/15a73554c3219a41feb3bb9a443cc7c5/schiegg2014.pdf (Caused by SSLError(SSLEOFError(8, 'EOF occurred in violation of protocol (_ssl.c:997)')))\n",
      "Failed to download file: status code 403\n",
      "Failed to download file: status code 403\n",
      "Failed to download file: status code 403\n",
      "Failed to download file: HTTPSConnectionPool(host='dacemirror.sci-hub.se', port=443): Max retries exceeded with url: /journal-article/3524eac3509eda2ae36cccc14b87e176/liu2017.pdf (Caused by SSLError(SSLEOFError(8, 'EOF occurred in violation of protocol (_ssl.c:997)')))\n",
      "Failed to download file: HTTPSConnectionPool(host='dacemirror.sci-hub.se', port=443): Max retries exceeded with url: /journal-article/6d2bb13a6beceb06e4e1c0bb945037bf/sauppe2017.pdf (Caused by SSLError(SSLEOFError(8, 'EOF occurred in violation of protocol (_ssl.c:997)')))\n",
      "Failed to download file: status code 403\n",
      "Failed to download file: HTTPSConnectionPool(host='moscow.sci-hub.se', port=443): Max retries exceeded with url: /1822/2753e510fd0ecfe3d80ed10d74cee115/umeyama2004.pdf (Caused by SSLError(SSLEOFError(8, 'EOF occurred in violation of protocol (_ssl.c:997)')))\n",
      "Failed to download file: Invalid URL 'http:/downloads/2019-04-28/08/droske2004.pdf#navpanes=0&view=FitH': No host supplied\n",
      "Failed to download file: Invalid URL 'http:/downloads/2021-06-15/ae/echevarria2014.pdf#navpanes=0&view=FitH': No host supplied\n",
      "Failed to download file: Invalid URL 'http:/downloads/2021-06-26/12/izydorczyk2021.pdf#navpanes=0&view=FitH': No host supplied\n",
      "Failed to download file: Invalid URL 'http:/downloads/2019-11-20/48fd/zhang2019.pdf#navpanes=0&view=FitH': No host supplied\n",
      "Failed to download file: HTTPSConnectionPool(host='dacemirror.sci-hub.se', port=443): Max retries exceeded with url: /journal-article/afff2d121f4ea546037eff6e3bd86eae/iizuka2016.pdf (Caused by SSLError(SSLEOFError(8, 'EOF occurred in violation of protocol (_ssl.c:997)')))\n",
      "Failed to download file: HTTPSConnectionPool(host='moscow.sci-hub.se', port=443): Max retries exceeded with url: /5149/0b6d60676086de55b6f696c122ce9162/lanza2016.pdf (Caused by SSLError(SSLEOFError(8, 'EOF occurred in violation of protocol (_ssl.c:997)')))\n",
      "Failed to download file: HTTPSConnectionPool(host='dacemirror.sci-hub.se', port=443): Max retries exceeded with url: /journal-article/5282d61e49575edcfaa91b438dc2cab5/interferometric-imaging-directly-with-closure-phases-and-closure-2018.pdf (Caused by SSLError(SSLEOFError(8, 'EOF occurred in violation of protocol (_ssl.c:997)')))\n",
      "Failed to download file: HTTPSConnectionPool(host='moscow.sci-hub.se', port=443): Max retries exceeded with url: /3009/320d07d83522132acdded09d00d05dbb/nair2009.pdf (Caused by SSLError(SSLEOFError(8, 'EOF occurred in violation of protocol (_ssl.c:997)')))\n",
      "Failed to download file: HTTPSConnectionPool(host='dacemirror.sci-hub.se', port=443): Max retries exceeded with url: /journal-article/561f4672324a34393d0d927c01a08faa/10.3390@axioms3030335.pdf (Caused by SSLError(SSLEOFError(8, 'EOF occurred in violation of protocol (_ssl.c:997)')))\n",
      "Failed to download file: status code 403\n",
      "Failed to download file: Invalid URL 'http:/downloads/2019-01-28//a9/liu2019.pdf#navpanes=0&view=FitH': No host supplied\n",
      "Failed to download file: status code 403\n",
      "Failed to download file: Invalid URL 'http:/downloads/2021-06-09/a4/smith2020.pdf#navpanes=0&view=FitH': No host supplied\n",
      "Failed to download file: status code 403\n",
      "Failed to download file: HTTPSConnectionPool(host='dacemirror.sci-hub.se', port=443): Max retries exceeded with url: /journal-article/0259fba204f296785b81c2903ba74061/nayar1996.pdf (Caused by SSLError(SSLEOFError(8, 'EOF occurred in violation of protocol (_ssl.c:997)')))\n",
      "Failed to download file: status code 403\n",
      "Failed to download file: Invalid URL 'http:/downloads/2019-08-14/8e/10.1002@hbm.24750.pdf#navpanes=0&view=FitH': No host supplied\n",
      "Failed to download file: Invalid URL 'http:/tree/7f/3c/7f3cade383672fb339e75a9ee746ea4b.pdf#navpanes=0&view=FitH': No host supplied\n",
      "Failed to download file: HTTPSConnectionPool(host='dacemirror.sci-hub.se', port=443): Max retries exceeded with url: /journal-article/6252c25c37c3157ce01cf7995370c55d/hyashizaki2004.pdf (Caused by SSLError(SSLEOFError(8, 'EOF occurred in violation of protocol (_ssl.c:997)')))\n",
      "Failed to download file: Invalid URL 'http:/downloads/2019-01-01/74/sultana2018.pdf#navpanes=0&view=FitH': No host supplied\n",
      "Failed to download file: HTTPSConnectionPool(host='dacemirror.sci-hub.se', port=443): Max retries exceeded with url: /journal-article/088a0282b32d9bf33ed7dcf7dfeca8a3/taggart2012.pdf (Caused by SSLError(SSLEOFError(8, 'EOF occurred in violation of protocol (_ssl.c:997)')))\n",
      "Failed to download file: HTTPSConnectionPool(host='moscow.sci-hub.se', port=443): Max retries exceeded with url: /4481/5ea011d0c281e61fcf45b72634d1370b/whitwell2008.pdf (Caused by SSLError(SSLEOFError(8, 'EOF occurred in violation of protocol (_ssl.c:997)')))\n",
      "Failed to download file: status code 403\n",
      "Failed to download file: status code 403\n",
      "Failed to download file: status code 403\n",
      "Failed to download file: status code 403\n",
      "Failed to download file: HTTPSConnectionPool(host='dacemirror.sci-hub.se', port=443): Max retries exceeded with url: /journal-article/dd54ab0f9655045d2eb09fa0f6aa93e1/li2017.pdf (Caused by SSLError(SSLEOFError(8, 'EOF occurred in violation of protocol (_ssl.c:997)')))\n",
      "Failed to download file: HTTPSConnectionPool(host='dacemirror.sci-hub.se', port=443): Max retries exceeded with url: /journal-article/d693c18c76fa0124baca27f654700cd2/dasilva2008.pdf (Caused by SSLError(SSLEOFError(8, 'EOF occurred in violation of protocol (_ssl.c:997)')))\n",
      "Failed to download file: HTTPSConnectionPool(host='dacemirror.sci-hub.se', port=443): Max retries exceeded with url: /journal-article/0b3f4abc2e069d8115784147eb7603d9/blais1995.pdf (Caused by SSLError(SSLEOFError(8, 'EOF occurred in violation of protocol (_ssl.c:997)')))\n",
      "Failed to download file: HTTPSConnectionPool(host='moscow.sci-hub.se', port=443): Max retries exceeded with url: /877/47fbad44e4c94a7bee227c49feece0b0/doenges1997.pdf (Caused by SSLError(SSLEOFError(8, 'EOF occurred in violation of protocol (_ssl.c:997)')))\n",
      "Failed to download file: HTTPSConnectionPool(host='dacemirror.sci-hub.se', port=443): Max retries exceeded with url: /journal-article/6974a6a84ea4305bc63bb441f153efa7/durupinar2011.pdf (Caused by SSLError(SSLEOFError(8, 'EOF occurred in violation of protocol (_ssl.c:997)')))\n",
      "Failed to download file: HTTPSConnectionPool(host='dacemirror.sci-hub.se', port=443): Max retries exceeded with url: /journal-article/4384a2f6e279e532e0fc3435d7f4927b/lindow2011.pdf (Caused by SSLError(SSLEOFError(8, 'EOF occurred in violation of protocol (_ssl.c:997)')))\n",
      "Failed to download file: HTTPSConnectionPool(host='dacemirror.sci-hub.se', port=443): Max retries exceeded with url: /journal-article/91844ee4c51400176b3747b2c98eb47b/taylor2010.pdf (Caused by SSLError(SSLEOFError(8, 'EOF occurred in violation of protocol (_ssl.c:997)')))\n",
      "Failed to download file: status code 403\n",
      "Failed to download file: status code 403\n",
      "Failed to download file: status code 403\n",
      "Failed to download file: HTTPSConnectionPool(host='dacemirror.sci-hub.se', port=443): Max retries exceeded with url: /journal-article/476dff5172800dc6d4d9118b264aae59/udayangani2017.pdf (Caused by SSLError(SSLEOFError(8, 'EOF occurred in violation of protocol (_ssl.c:997)')))\n",
      "Failed to download file: HTTPSConnectionPool(host='moscow.sci-hub.se', port=443): Max retries exceeded with url: /836/5c7db381bb08b45538e91718515a48c1/sarkar1992.pdf (Caused by SSLError(SSLEOFError(8, 'EOF occurred in violation of protocol (_ssl.c:997)')))\n",
      "Failed to download file: status code 403\n"
     ]
    }
   ],
   "source": [
    "max_workers = 20\n",
    "\n",
    "with concurrent.futures.ThreadPoolExecutor(max_workers=max_workers) as executor:\n",
    "    list(tqdm(\n",
    "        executor.map(\n",
    "            download_pdf,\n",
    "            pdf_url_list,\n",
    "            filename_list\n",
    "            #[paper.pdf_url for paper in processed_paper_dict.values()],\n",
    "            #[paper.doi.split(\"/\")[-1] + \".pdf\" for paper in processed_paper_dict.values()]\n",
    "        ),\n",
    "        total=len(processed_paper_dict.values())\n",
    "    \n",
    "    ))"
   ]
  }
 ],
 "metadata": {
  "kernelspec": {
   "display_name": "first",
   "language": "python",
   "name": "python3"
  },
  "language_info": {
   "codemirror_mode": {
    "name": "ipython",
    "version": 3
   },
   "file_extension": ".py",
   "mimetype": "text/x-python",
   "name": "python",
   "nbconvert_exporter": "python",
   "pygments_lexer": "ipython3",
   "version": "3.10.9"
  }
 },
 "nbformat": 4,
 "nbformat_minor": 2
}
