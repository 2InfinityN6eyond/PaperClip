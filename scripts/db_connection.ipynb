{
 "cells": [
  {
   "cell_type": "code",
   "execution_count": 1,
   "metadata": {},
   "outputs": [],
   "source": [
    "from pprint import pprint\n",
    "\n",
    "import mysql.connector\n",
    "from containers import Paper, Author, Expertise, Institution, JournalConference\n",
    "\n",
    "HOST    = \"localhost\"\n",
    "USER    = \"root\"\n",
    "PASSWD  = \"0715Phj!\"\n",
    "DB_USE  = \"paper_clip\"\n",
    "DB_USE  = \"relation_db_project\"\n",
    "\n",
    "import os\n",
    "import json\n",
    "import platform\n",
    "\n",
    "from containers import QueryHandler\n"
   ]
  },
  {
   "cell_type": "code",
   "execution_count": 2,
   "metadata": {},
   "outputs": [
    {
     "name": "stdout",
     "output_type": "stream",
     "text": [
      "11\n"
     ]
    }
   ],
   "source": [
    "query_handler = QueryHandler(\n",
    "    host=HOST,\n",
    "    user=USER,\n",
    "    passwd=PASSWD,\n",
    "    db_use=DB_USE\n",
    ")\n",
    "\n",
    "BY = \"p.DOI\"\n",
    "BY = \"p.keywords\"\n",
    "\n",
    "VALUE = \"10.1109/tpami.2016.2577031\"\n",
    "VALUE = \"deep learning\"\n",
    "\n",
    "VALUE = \"SUN\"\n",
    "BY = \"apr.author_name\"\n",
    "\n",
    "BY = \"p.clip\"\n",
    "VALUE = \"1\"\n",
    "\n",
    "paper_lsit = query_handler.queryPaperBy(BY, VALUE)\n",
    "print(len(paper_lsit))"
   ]
  },
  {
   "cell_type": "code",
   "execution_count": 3,
   "metadata": {},
   "outputs": [
    {
     "ename": "NameError",
     "evalue": "name 'whole_paper_dict' is not defined",
     "output_type": "error",
     "traceback": [
      "\u001b[0;31m---------------------------------------------------------------------------\u001b[0m",
      "\u001b[0;31mNameError\u001b[0m                                 Traceback (most recent call last)",
      "Cell \u001b[0;32mIn[3], line 5\u001b[0m\n\u001b[1;32m      2\u001b[0m doi \u001b[38;5;241m=\u001b[39m paper\u001b[38;5;241m.\u001b[39mDOI\n\u001b[1;32m      4\u001b[0m base_paper \u001b[38;5;241m=\u001b[39m \u001b[38;5;28;01mNone\u001b[39;00m\n\u001b[0;32m----> 5\u001b[0m \u001b[38;5;28;01mfor\u001b[39;00m v \u001b[38;5;129;01min\u001b[39;00m \u001b[43mwhole_paper_dict\u001b[49m\u001b[38;5;241m.\u001b[39mvalues() :\n\u001b[1;32m      6\u001b[0m     \u001b[38;5;28;01mif\u001b[39;00m v\u001b[38;5;241m.\u001b[39mDOI \u001b[38;5;241m==\u001b[39m doi :\n\u001b[1;32m      7\u001b[0m         base_paper \u001b[38;5;241m=\u001b[39m v\n",
      "\u001b[0;31mNameError\u001b[0m: name 'whole_paper_dict' is not defined"
     ]
    }
   ],
   "source": [
    "\n",
    "for paper in paper_lsit :\n",
    "    doi = paper.DOI\n",
    "\n",
    "    base_paper = None\n",
    "    for v in whole_paper_dict.values() :\n",
    "        if v.DOI == doi :\n",
    "            base_paper = v\n",
    "            break\n",
    "    \n",
    "    #print(len(paper.reference_list), len(base_paper.reference_list))\n",
    "    '''\n",
    "    if paper.authors is not None :\n",
    "        print(sorted(paper.authors))\n",
    "    if base_paper.authors is not None :\n",
    "        print(sorted(base_paper.authors))\n",
    "    '''\n",
    "    \n",
    "\n",
    "    if paper.keywords is not None :\n",
    "        print(\"d\", sorted(paper.keywords))\n",
    "    if base_paper.keywords is not None :\n",
    "        print(\"b\", sorted(base_paper.keywords))\n",
    "\n",
    "\n",
    "    #print(paper.abstract)\n",
    "    #print(base_paper.abstract)\n",
    "    \n",
    "    #print(paper.title)\n",
    "    #print(base_paper.title)\n",
    "\n",
    "\n",
    "    #print(paper.conference_acronym)\n",
    "    #print(base_paper.conference_acronym)\n",
    "\n",
    "    #print(sorted(paper.reference_list))\n",
    "    #print(sorted(base_paper.reference_list))\n",
    "\n",
    "    #print(paper.DOI)\n",
    "    #print(base_paper.DOI)\n",
    "    #print(paper.DOI == base_paper.DOI)\n",
    "\n",
    "    print(\"------------\")"
   ]
  },
  {
   "cell_type": "code",
   "execution_count": null,
   "metadata": {},
   "outputs": [],
   "source": []
  },
  {
   "cell_type": "code",
   "execution_count": null,
   "metadata": {},
   "outputs": [],
   "source": []
  },
  {
   "cell_type": "code",
   "execution_count": null,
   "metadata": {},
   "outputs": [],
   "source": []
  },
  {
   "cell_type": "code",
   "execution_count": 5,
   "metadata": {},
   "outputs": [],
   "source": [
    "query_handler.cursor.execute(\"DROP TEMPORARY TABLE IF EXISTS keyword_table;\")"
   ]
  },
  {
   "cell_type": "code",
   "execution_count": 7,
   "metadata": {},
   "outputs": [],
   "source": [
    "query_handler.cursor.execute(\"\"\"\n",
    "CREATE TEMPORARY TABLE keyword_table AS\n",
    "SELECT TRIM(SUBSTRING_INDEX(SUBSTRING_INDEX(keywords, ', ', n.digit + 1), ',', -1)) AS keyword\n",
    "FROM paper,\n",
    "     (SELECT 0 AS digit UNION ALL SELECT 1 UNION ALL SELECT 2 UNION ALL SELECT 3) AS n\n",
    "WHERE LENGTH(keywords) - LENGTH(REPLACE(keywords, ',', '')) >= n.digit;\n",
    "        \"\"\")"
   ]
  },
  {
   "cell_type": "code",
   "execution_count": 3,
   "metadata": {},
   "outputs": [
    {
     "data": {
      "text/plain": [
       "[('computer vision', 3427),\n",
       " ('machine learning', 895),\n",
       " ('artificial intelligence', 682),\n",
       " ('computer graphics', 549),\n",
       " ('image processing', 520),\n",
       " ('robotics', 464),\n",
       " ('deep learning', 367),\n",
       " ('pattern recognition', 325),\n",
       " ('medical image analysis', 242),\n",
       " ('biometrics', 135),\n",
       " ('multimedia', 113),\n",
       " ('medical imaging', 112),\n",
       " ('ai', 111),\n",
       " ('geometric modeling', 108),\n",
       " ('augmented reality', 107),\n",
       " ('computational photography', 104),\n",
       " ('signal processing', 93),\n",
       " ('hci', 88),\n",
       " ('virtual reality', 81),\n",
       " ('object recognition', 74),\n",
       " ('data mining', 72),\n",
       " ('geometry processing', 69),\n",
       " ('bioinformatics', 67),\n",
       " ('ai & machine learning', 66),\n",
       " ('natural language processing', 64),\n",
       " ('visualization', 54),\n",
       " ('shape analysis', 49),\n",
       " ('computational biology', 49),\n",
       " ('remote sensing', 47),\n",
       " ('image analysis', 46),\n",
       " ('visual computing', 45),\n",
       " ('affective computing', 43),\n",
       " ('biomedical image analysis', 41),\n",
       " ('genomics', 40),\n",
       " ('medical image computing', 39),\n",
       " ('optimization', 38),\n",
       " ('reinforcement learning', 37),\n",
       " ('ocr', 37),\n",
       " ('neuroscience', 36),\n",
       " ('human-computer interaction', 36),\n",
       " ('genetics', 35),\n",
       " ('nlp', 35),\n",
       " ('human computer interaction', 34),\n",
       " ('photogrammetry', 34),\n",
       " ('computational imaging', 34),\n",
       " ('face recognition', 32),\n",
       " ('geometric computing', 32),\n",
       " ('computer aided design', 31),\n",
       " ('representation learning', 29),\n",
       " ('photoelectrochemistry and adsorption', 29)]"
      ]
     },
     "execution_count": 3,
     "metadata": {},
     "output_type": "execute_result"
    }
   ],
   "source": [
    "\n",
    "\n",
    "\n",
    "\n",
    "query_handler.fetchTopKeywords(10)"
   ]
  },
  {
   "cell_type": "code",
   "execution_count": 7,
   "metadata": {},
   "outputs": [],
   "source": [
    "query_handler.cursor.execute(\"\"\"\n",
    "DROP TEMPORARY TABLE IF EXISTS keyword_table;\n",
    "\"\"\")\n",
    "query_handler.cursor.execute(\"\"\"\n",
    "CREATE TEMPORARY TABLE keyword_table AS\n",
    "SELECT TRIM(SUBSTRING_INDEX(SUBSTRING_INDEX(keywords, ', ', n.digit + 1), ',', -1)) AS keyword\n",
    "FROM paper,\n",
    "     (SELECT 0 AS digit UNION ALL SELECT 1 UNION ALL SELECT 2 UNION ALL SELECT 3) AS n\n",
    "WHERE LENGTH(keywords) - LENGTH(REPLACE(keywords, ',', '')) >= n.digit;\n",
    "\"\"\")\n"
   ]
  }
 ],
 "metadata": {
  "kernelspec": {
   "display_name": "first",
   "language": "python",
   "name": "python3"
  },
  "language_info": {
   "codemirror_mode": {
    "name": "ipython",
    "version": 3
   },
   "file_extension": ".py",
   "mimetype": "text/x-python",
   "name": "python",
   "nbconvert_exporter": "python",
   "pygments_lexer": "ipython3",
   "version": "3.10.13"
  }
 },
 "nbformat": 4,
 "nbformat_minor": 2
}
