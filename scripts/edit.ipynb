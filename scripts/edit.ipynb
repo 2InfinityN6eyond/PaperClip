{
 "cells": [
  {
   "cell_type": "code",
   "execution_count": 8,
   "metadata": {},
   "outputs": [],
   "source": [
    "import os\n",
    "import json\n",
    "from pprint import pprint\n",
    "\n",
    "from containers import Paper\n",
    "\n",
    "WHOLE_PAPER_FILE_PATH = \"./data/processed_paper_dict.json\"\n",
    "if os.path.exists(WHOLE_PAPER_FILE_PATH) :\n",
    "    with open(WHOLE_PAPER_FILE_PATH, \"r\") as f :\n",
    "        whole_paper_dict = json.load(f)\n",
    "    for k, v in whole_paper_dict.items() :\n",
    "        whole_paper_dict[k] = Paper(**v)"
   ]
  },
  {
   "cell_type": "code",
   "execution_count": 4,
   "metadata": {},
   "outputs": [],
   "source": [
    "for k, v in whole_paper_dict.items() :\n",
    "    whole_paper_dict[k].title = k\n"
   ]
  },
  {
   "cell_type": "code",
   "execution_count": 10,
   "metadata": {},
   "outputs": [
    {
     "name": "stdout",
     "output_type": "stream",
     "text": [
      "'Faster R-CNN: Towards Real-Time Object Detection with Region Proposal Networks'\n"
     ]
    }
   ],
   "source": [
    "pprint(\n",
    "    whole_paper_dict[\n",
    "        list(whole_paper_dict.keys())[0]\n",
    "    ].title\n",
    ")"
   ]
  },
  {
   "cell_type": "code",
   "execution_count": 12,
   "metadata": {},
   "outputs": [],
   "source": [
    "# save\n",
    "whole_paper_dict_dict = {}\n",
    "for k, v in whole_paper_dict.items() :\n",
    "    whole_paper_dict_dict[k] = v.__dict__\n",
    "\n",
    "with open(WHOLE_PAPER_FILE_PATH, \"w\") as f :\n",
    "    json.dump(whole_paper_dict_dict, f, indent=4, ensure_ascii=False)"
   ]
  }
 ],
 "metadata": {
  "kernelspec": {
   "display_name": "first",
   "language": "python",
   "name": "python3"
  },
  "language_info": {
   "codemirror_mode": {
    "name": "ipython",
    "version": 3
   },
   "file_extension": ".py",
   "mimetype": "text/x-python",
   "name": "python",
   "nbconvert_exporter": "python",
   "pygments_lexer": "ipython3",
   "version": "3.10.9"
  }
 },
 "nbformat": 4,
 "nbformat_minor": 2
}
